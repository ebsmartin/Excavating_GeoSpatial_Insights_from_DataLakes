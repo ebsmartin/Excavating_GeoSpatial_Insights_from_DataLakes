{
 "cells": [
  {
   "cell_type": "code",
   "execution_count": 1,
   "metadata": {},
   "outputs": [
    {
     "name": "stdout",
     "output_type": "stream",
     "text": [
      "3.5.0\n",
      "/bin/python3.9\n"
     ]
    }
   ],
   "source": [
    "import sys\n",
    "sys.path.append(\"/usr/local/python-env/py39/lib/python3.9/site-packages\")\n",
    "\n",
    "import pyspark\n",
    "print(pyspark.__version__)\n",
    "\n",
    "print(sys.executable)"
   ]
  },
  {
   "cell_type": "code",
   "execution_count": 2,
   "metadata": {},
   "outputs": [],
   "source": [
    "import os\n",
    "\n",
    "os.environ['PYSPARK_PYTHON'] = '/usr/bin/python3.9'"
   ]
  },
  {
   "cell_type": "code",
   "execution_count": 3,
   "metadata": {},
   "outputs": [
    {
     "name": "stdout",
     "output_type": "stream",
     "text": [
      "Apache Sedona version: 1.5.1\n"
     ]
    }
   ],
   "source": [
    "import pkg_resources\n",
    "\n",
    "sedona_version = pkg_resources.get_distribution(\"apache-sedona\").version\n",
    "print(f\"Apache Sedona version: {sedona_version}\")"
   ]
  },
  {
   "cell_type": "code",
   "execution_count": 4,
   "metadata": {},
   "outputs": [
    {
     "name": "stdout",
     "output_type": "stream",
     "text": [
      "/usr/local/spark/latest\n",
      "/usr/bin/python3.9\n"
     ]
    }
   ],
   "source": [
    "print(os.environ['SPARK_HOME'])\n",
    "print(os.environ['PYSPARK_PYTHON'])"
   ]
  },
  {
   "cell_type": "code",
   "execution_count": 5,
   "metadata": {},
   "outputs": [],
   "source": [
    "from pyspark.sql import SparkSession\n",
    "from sedona.register import SedonaRegistrator\n",
    "from sedona.utils import SedonaKryoRegistrator, KryoSerializer\n",
    "from pyspark.sql.functions import col\n",
    "from pyspark.sql import functions as F\n"
   ]
  },
  {
   "cell_type": "code",
   "execution_count": 6,
   "metadata": {},
   "outputs": [
    {
     "name": "stdout",
     "output_type": "stream",
     "text": [
      ":: loading settings :: url = jar:file:/usr/local/spark/3.5.0-with-hadoop3.3/jars/ivy-2.5.1.jar!/org/apache/ivy/core/settings/ivysettings.xml\n"
     ]
    },
    {
     "name": "stderr",
     "output_type": "stream",
     "text": [
      "Ivy Default Cache set to: /s/chopin/l/grad/ebmartin/.ivy2/cache\n",
      "The jars for the packages stored in: /s/chopin/l/grad/ebmartin/.ivy2/jars\n",
      "graphframes#graphframes added as a dependency\n",
      ":: resolving dependencies :: org.apache.spark#spark-submit-parent-8ac2d60c-c4e2-4f98-a6a2-f5dbc7988170;1.0\n",
      "\tconfs: [default]\n",
      "\tfound graphframes#graphframes;0.8.3-spark3.4-s_2.12 in spark-packages\n",
      "\tfound org.slf4j#slf4j-api;1.7.16 in central\n",
      ":: resolution report :: resolve 74ms :: artifacts dl 11ms\n",
      "\t:: modules in use:\n",
      "\tgraphframes#graphframes;0.8.3-spark3.4-s_2.12 from spark-packages in [default]\n",
      "\torg.slf4j#slf4j-api;1.7.16 from central in [default]\n",
      "\t---------------------------------------------------------------------\n",
      "\t|                  |            modules            ||   artifacts   |\n",
      "\t|       conf       | number| search|dwnlded|evicted|| number|dwnlded|\n",
      "\t---------------------------------------------------------------------\n",
      "\t|      default     |   2   |   0   |   0   |   0   ||   2   |   0   |\n",
      "\t---------------------------------------------------------------------\n",
      ":: retrieving :: org.apache.spark#spark-submit-parent-8ac2d60c-c4e2-4f98-a6a2-f5dbc7988170\n",
      "\tconfs: [default]\n",
      "\t0 artifacts copied, 2 already retrieved (0kB/4ms)\n",
      "Setting default log level to \"WARN\".\n",
      "To adjust logging level use sc.setLogLevel(newLevel). For SparkR, use setLogLevel(newLevel).\n"
     ]
    }
   ],
   "source": [
    "spark = SparkSession \\\n",
    "    .builder \\\n",
    "    .appName(\"GraphFramesExample\") \\\n",
    "    .master('spark://hartford:30196') \\\n",
    "    .config(\"spark.jars.packages\", \"graphframes:graphframes:0.8.3-spark3.4-s_2.12\") \\\n",
    "    .config(\"spark.yarn.resourcemanager.address\", \"columbia.cs.colostate.edu:30799\") \\\n",
    "    .getOrCreate()\n",
    "\n",
    "spark.sparkContext.setLogLevel(\"ERROR\")\n",
    "logger = spark._jvm.org.apache.log4j.LogManager.getLogger(__name__)\n"
   ]
  },
  {
   "cell_type": "code",
   "execution_count": 7,
   "metadata": {},
   "outputs": [],
   "source": [
    "# Import the necessary module from py4j to interact with JVM\n",
    "from py4j.java_gateway import java_import\n",
    "\n",
    "# Import the Path class from Hadoop. This class is used to handle file paths in Hadoop.\n",
    "java_import(spark._jvm, 'org.apache.hadoop.fs.Path')\n",
    "\n",
    "fs = spark._jvm.org.apache.hadoop.fs.FileSystem.get(spark._jsc.hadoopConfiguration())"
   ]
  },
  {
   "cell_type": "code",
   "execution_count": 8,
   "metadata": {},
   "outputs": [],
   "source": [
    "def get_csv_df(file_name: str):\n",
    "    data_directory = \"hdfs://hartford.cs.colostate.edu:30181/geospatial/input/knowledge_graphs/\"\n",
    "    print(f\"Processing file: {file_name}\")\n",
    "\n",
    "    if \"Nodes\" in file_name:\n",
    "        schema = \"Node_ID string, Type string\"\n",
    "        df = spark.read.format(\"csv\").option(\"header\", \"true\").schema(schema).load(data_directory + file_name)\n",
    "        df = df.withColumnRenamed(\"Node_ID\", \"id\")  # Rename column for GraphFrame compatibility\n",
    "    elif \"Edges\" in file_name:\n",
    "        schema = \"Subject string, Relationship string, Object string\"\n",
    "        df = spark.read.format(\"csv\").option(\"header\", \"true\").schema(schema).load(data_directory + file_name)\n",
    "        df = df.withColumnRenamed(\"Subject\", \"src\").withColumnRenamed(\"Object\", \"dst\")  # Rename columns for GraphFrame compatibility\n",
    "    else:\n",
    "        df = None\n",
    "\n",
    "    return df\n"
   ]
  },
  {
   "cell_type": "code",
   "execution_count": 9,
   "metadata": {},
   "outputs": [],
   "source": [
    "from graphframes import *"
   ]
  },
  {
   "cell_type": "code",
   "execution_count": 10,
   "metadata": {},
   "outputs": [
    {
     "name": "stdout",
     "output_type": "stream",
     "text": [
      "Processing file: BaseNodes.csv\n",
      "Processing file: BaseEdges.csv\n"
     ]
    }
   ],
   "source": [
    "# Load the nodes and edges data\n",
    "nodes_df = get_csv_df(\"BaseNodes.csv\")\n",
    "edges_df = get_csv_df(\"BaseEdges.csv\")"
   ]
  },
  {
   "cell_type": "code",
   "execution_count": 11,
   "metadata": {},
   "outputs": [
    {
     "name": "stdout",
     "output_type": "stream",
     "text": [
      "['id', 'Type']\n",
      "['src', 'Relationship', 'dst']\n"
     ]
    }
   ],
   "source": [
    "print(nodes_df.columns)\n",
    "print(edges_df.columns)"
   ]
  },
  {
   "cell_type": "code",
   "execution_count": 12,
   "metadata": {},
   "outputs": [
    {
     "name": "stderr",
     "output_type": "stream",
     "text": [
      "                                                                                \r"
     ]
    },
    {
     "name": "stdout",
     "output_type": "stream",
     "text": [
      "+--------------------+-----+\n",
      "|                  id| Type|\n",
      "+--------------------+-----+\n",
      "|BlockGroup_010890...|Block|\n",
      "|BlockGroup_011010...|Block|\n",
      "|BlockGroup_011250...|Block|\n",
      "|BlockGroup_010310...|Block|\n",
      "|BlockGroup_010830...|Block|\n",
      "|BlockGroup_010439...|Block|\n",
      "|BlockGroup_010730...|Block|\n",
      "|BlockGroup_011170...|Block|\n",
      "|BlockGroup_011030...|Block|\n",
      "|BlockGroup_010970...|Block|\n",
      "|BlockGroup_010770...|Block|\n",
      "|BlockGroup_010259...|Block|\n",
      "|BlockGroup_010730...|Block|\n",
      "|BlockGroup_010199...|Block|\n",
      "|BlockGroup_010950...|Block|\n",
      "|BlockGroup_010499...|Block|\n",
      "|BlockGroup_010730...|Block|\n",
      "|BlockGroup_010670...|Block|\n",
      "|BlockGroup_011010...|Block|\n",
      "|BlockGroup_010890...|Block|\n",
      "+--------------------+-----+\n",
      "only showing top 20 rows\n",
      "\n"
     ]
    },
    {
     "name": "stderr",
     "output_type": "stream",
     "text": [
      "[Stage 1:>                                                          (0 + 1) / 1]\r"
     ]
    },
    {
     "name": "stdout",
     "output_type": "stream",
     "text": [
      "+--------------------+------------+-----------------+\n",
      "|                 src|Relationship|              dst|\n",
      "+--------------------+------------+-----------------+\n",
      "|BlockGroup_010730...|    isPartOf|Tract_01073010500|\n",
      "|BlockGroup_010730...|    isPartOf|Tract_01073010703|\n",
      "|BlockGroup_010970...|    isPartOf|Tract_01097005100|\n",
      "|BlockGroup_011170...|    isPartOf|Tract_01117030616|\n",
      "|BlockGroup_010770...|    isPartOf|Tract_01077011605|\n",
      "|BlockGroup_010730...|    isPartOf|Tract_01073005000|\n",
      "|BlockGroup_011010...|    isPartOf|Tract_01101001100|\n",
      "|BlockGroup_010810...|    isPartOf|Tract_01081040602|\n",
      "|BlockGroup_010150...|    isPartOf|Tract_01015001300|\n",
      "|BlockGroup_010139...|    isPartOf|Tract_01013953200|\n",
      "|BlockGroup_010890...|    isPartOf|Tract_01089010625|\n",
      "|BlockGroup_010030...|    isPartOf|Tract_01003011503|\n",
      "|BlockGroup_011250...|    isPartOf|Tract_01125011402|\n",
      "|BlockGroup_010970...|    isPartOf|Tract_01097003301|\n",
      "|BlockGroup_010030...|    isPartOf|Tract_01003010100|\n",
      "|BlockGroup_010890...|    isPartOf|Tract_01089010625|\n",
      "|BlockGroup_010970...|    isPartOf|Tract_01097000600|\n",
      "|BlockGroup_010479...|    isPartOf|Tract_01047957000|\n",
      "|BlockGroup_010730...|    isPartOf|Tract_01073010801|\n",
      "|BlockGroup_010970...|    isPartOf|Tract_01097003406|\n",
      "+--------------------+------------+-----------------+\n",
      "only showing top 20 rows\n",
      "\n"
     ]
    },
    {
     "name": "stderr",
     "output_type": "stream",
     "text": [
      "                                                                                \r"
     ]
    }
   ],
   "source": [
    "nodes_df.show()\n",
    "edges_df.show()"
   ]
  },
  {
   "cell_type": "markdown",
   "metadata": {},
   "source": [
    "# =========================================================================\n",
    "\n",
    "# GRAPH METRICS AND ANALYSIS\n",
    "\n",
    "# =========================================================================\n",
    "\n",
    "Create the graph frame object"
   ]
  },
  {
   "cell_type": "code",
   "execution_count": 13,
   "metadata": {},
   "outputs": [],
   "source": [
    "g = GraphFrame(nodes_df, edges_df)\n",
    "\n",
    "# Set checkpoint directory\n",
    "spark.sparkContext.setCheckpointDir('hdfs://hartford.cs.colostate.edu:30181/geospatial/input/knowledge_graphs/checkpoints/')\n"
   ]
  },
  {
   "cell_type": "code",
   "execution_count": 30,
   "metadata": {},
   "outputs": [
    {
     "data": {
      "image/png": "[encoded data removed]",
      "text/plain": [
       "<Figure size 500x500 with 1 Axes>"
      ]
     },
     "metadata": {},
     "output_type": "display_data"
    },
    {
     "data": {
      "text/plain": [
       "<Figure size 640x480 with 0 Axes>"
      ]
     },
     "metadata": {},
     "output_type": "display_data"
    }
   ],
   "source": [
    "import matplotlib.pyplot as plt\n",
    "import pandas as pd\n",
    "\n",
    "# Count the number of vertices and edges\n",
    "num_vertices = g.vertices.count()\n",
    "num_edges = g.edges.count()\n",
    "\n",
    "# Create a DataFrame with the counts\n",
    "df = pd.DataFrame({'Elements': ['Vertices', 'Edges'], 'Count': [num_vertices, num_edges]})\n",
    "\n",
    "# Plot the counts\n",
    "plt.figure(figsize=(5, 5))\n",
    "plt.bar(df['Elements'], df['Count'], color=['blue', 'green'])\n",
    "plt.title('Number of Vertices and Edges')\n",
    "plt.xlabel('Elements')\n",
    "plt.ylabel('Count')\n",
    "plt.show()\n",
    "\n",
    "# Save the plot\n",
    "plt.savefig('/s/chopin/l/grad/ebmartin/CS555/Term_Project/Excavating_GeoSpatial_Insights_from_DataLakes/notebooks/figures/base_KG_vertices_edges_count.png')"
   ]
  },
  {
   "cell_type": "markdown",
   "metadata": {},
   "source": [
    "# Calculate the in and out degree of the vertices"
   ]
  },
  {
   "cell_type": "code",
   "execution_count": 37,
   "metadata": {},
   "outputs": [
    {
     "data": {
      "image/png": "[encoded data removed]",
      "text/plain": [
       "<Figure size 500x300 with 1 Axes>"
      ]
     },
     "metadata": {},
     "output_type": "display_data"
    },
    {
     "data": {
      "text/plain": [
       "<Figure size 640x480 with 0 Axes>"
      ]
     },
     "metadata": {},
     "output_type": "display_data"
    }
   ],
   "source": [
    "from pyspark.sql.functions import udf\n",
    "from pyspark.sql.types import StringType\n",
    "\n",
    "# Calculate the in-degree of the vertices\n",
    "in_degree = g.inDegrees\n",
    "\n",
    "# Calculate the out-degree of the vertices\n",
    "out_degree = g.outDegrees\n",
    "\n",
    "# plot the in-degree and out-degree of the vertices\n",
    "plt.figure(figsize=(5, 3))\n",
    "plt.scatter(in_degree.toPandas()['inDegree'], out_degree.toPandas()['outDegree'], color='red')\n",
    "plt.title('In-degree vs Out-degree')\n",
    "plt.xlabel('In-degree')\n",
    "plt.ylabel('Out-degree')\n",
    "plt.show()\n",
    "\n",
    "plt.savefig('/s/chopin/l/grad/ebmartin/CS555/Term_Project/Excavating_GeoSpatial_Insights_from_DataLakes/notebooks/figures/base_KG_in_out_degree.png')"
   ]
  },
  {
   "cell_type": "markdown",
   "metadata": {},
   "source": []
  },
  {
   "cell_type": "code",
   "execution_count": 35,
   "metadata": {},
   "outputs": [
    {
     "name": "stderr",
     "output_type": "stream",
     "text": [
      "                                                                                \r"
     ]
    },
    {
     "data": {
      "text/plain": [
       "<Figure size 500x500 with 0 Axes>"
      ]
     },
     "metadata": {},
     "output_type": "display_data"
    },
    {
     "data": {
      "image/png": "[encoded data removed]",
      "text/plain": [
       "<Figure size 640x480 with 1 Axes>"
      ]
     },
     "metadata": {},
     "output_type": "display_data"
    },
    {
     "data": {
      "text/plain": [
       "<Figure size 640x480 with 0 Axes>"
      ]
     },
     "metadata": {},
     "output_type": "display_data"
    }
   ],
   "source": [
    "\n",
    "# Join the edges with the in-degrees and out-degrees\n",
    "edges_with_degrees = g.edges.alias(\"e\") \\\n",
    "    .join(in_degree.alias(\"src_in\"), col(\"e.src\") == col(\"src_in.id\")) \\\n",
    "    .join(out_degree.alias(\"src_out\"), col(\"e.src\") == col(\"src_out.id\")) \\\n",
    "    .join(in_degree.alias(\"dst_in\"), col(\"e.dst\") == col(\"dst_in.id\")) \\\n",
    "    .join(out_degree.alias(\"dst_out\"), col(\"e.dst\") == col(\"dst_out.id\"))\n",
    "\n",
    "# Define a UDF to categorize the edges\n",
    "def categorize_edge(src_in, src_out, dst_in, dst_out):\n",
    "    if src_out > 1 and dst_in > 1:\n",
    "        return \"Many-Many\"\n",
    "    elif src_out > 1 and dst_in == 1:\n",
    "        return \"Many-1\"\n",
    "    elif src_out == 1 and dst_in > 1:\n",
    "        return \"1-Many\"\n",
    "    else:\n",
    "        return \"1-1\"\n",
    "categorize_edge_udf = udf(categorize_edge, StringType())\n",
    "\n",
    "# Categorize the edges\n",
    "edges_with_categories = edges_with_degrees.withColumn(\"category\", categorize_edge_udf(\"src_in.inDegree\", \"src_out.outDegree\", \"dst_in.inDegree\", \"dst_out.outDegree\"))\n",
    "\n",
    "# Count the number of edges in each category\n",
    "category_counts = edges_with_categories.groupBy(\"category\").count()\n",
    "\n",
    "# Convert to pandas DataFrame for plotting\n",
    "category_counts_pd = category_counts.toPandas()\n",
    "\n",
    "# Plot the percentage of each category\n",
    "category_counts_pd['percentage'] = category_counts_pd['count'] / category_counts_pd['count'].sum() * 100\n",
    "# Convert to pandas DataFrame for plotting\n",
    "category_counts_pd = category_counts.toPandas()\n",
    "\n",
    "# Calculate the percentage of each category\n",
    "category_counts_pd['percentage'] = category_counts_pd['count'] / category_counts_pd['count'].sum() * 100\n",
    "\n",
    "# Plot the percentage of each category\n",
    "plt.figure(figsize=(5, 5))\n",
    "ax = category_counts_pd.plot(x='category', y='percentage', kind='bar', legend=False)\n",
    "plt.ylabel('% of Relationship Types')\n",
    "plt.xlabel('Relationship Type')\n",
    "plt.title('Percentage of Relationship Types Among Nodes')\n",
    "\n",
    "# Make x-axis labels horizontal\n",
    "plt.xticks(rotation='horizontal')\n",
    "\n",
    "plt.show()\n",
    "\n",
    "plt.savefig('/s/chopin/l/grad/ebmartin/CS555/Term_Project/Excavating_GeoSpatial_Insights_from_DataLakes/notebooks/figures/base_KG_relationship_types.png')"
   ]
  },
  {
   "cell_type": "code",
   "execution_count": 76,
   "metadata": {},
   "outputs": [
    {
     "data": {
      "image/png": "[encoded data removed]",
      "text/plain": [
       "<Figure size 1000x600 with 1 Axes>"
      ]
     },
     "metadata": {},
     "output_type": "display_data"
    }
   ],
   "source": [
    "import matplotlib.ticker as ticker\n",
    "\n",
    "# Create a box and whisker plot using seaborn for better aesthetics\n",
    "plt.figure(figsize=(10, 6))\n",
    "bp = plt.boxplot(df['In-degree'], vert=False, )\n",
    "plt.title('In/Out-Degree Distribution')\n",
    "plt.xlabel('# Degrees (log scale)')\n",
    "plt.grid(True)  # Adding grid for better readability\n",
    "plt.tight_layout()  # Ensuring everything fits without overlapping\n",
    "# Set the x-axis to be logarithmic\n",
    "plt.xscale('log', base=10)\n",
    "\n",
    "# Format the x-ticks as integers\n",
    "plt.gca().get_xaxis().set_major_formatter(ticker.FuncFormatter(lambda x, pos: '{:0,d}'.format(int(x))))\n",
    "\n",
    "# Change the y-axis label and rotate it to be vertical\n",
    "plt.gca().set_ylabel('In/Out-Degree', rotation=90, labelpad=10)\n",
    "\n",
    "# Remove the y-tick labels\n",
    "plt.gca().set_yticklabels([])\n",
    "\n",
    "# Get the important values\n",
    "median = bp['medians'][0].get_xdata()[0]\n",
    "q1 = bp['boxes'][0].get_xdata()[0]\n",
    "q3 = bp['boxes'][0].get_xdata()[2]\n",
    "\n",
    "# Add the important values above the box plot\n",
    "plt.text(median + 0.1, 0.88, f'Median: {median:.2f}', ha='center')\n",
    "plt.text(q1, 1.1, f'Q1: {q1:.2f}', ha='center')\n",
    "plt.text(q3, 1.1, f'Q3: {q3:.2f}', ha='center')\n",
    "\n",
    "# Save the figure\n",
    "file_path = '/s/chopin/l/grad/ebmartin/CS555/Term_Project/Excavating_GeoSpatial_Insights_from_DataLakes/notebooks/figures/base_KG_in_degree_boxplot.png'\n",
    "plt.savefig(file_path)"
   ]
  },
  {
   "cell_type": "markdown",
   "metadata": {},
   "source": [
    "# Page Rank Algorithm\n",
    "\n",
    "Notice the namespace collisions."
   ]
  },
  {
   "cell_type": "code",
   "execution_count": 79,
   "metadata": {},
   "outputs": [
    {
     "name": "stdout",
     "output_type": "stream",
     "text": [
      "+--------------+------+-----------------+\n",
      "|            id|  Type|         pagerank|\n",
      "+--------------+------+-----------------+\n",
      "|  County_Wayne|County|694.5898103981434|\n",
      "|  County_Wayne|County|694.5898103981434|\n",
      "|  County_Wayne|County|694.5898103981434|\n",
      "|  County_Wayne|County|694.5898103981434|\n",
      "|  County_Wayne|County|694.5898103981434|\n",
      "|  County_Wayne|County|694.5898103981434|\n",
      "|  County_Wayne|County|694.5898103981434|\n",
      "|  County_Wayne|County|694.5898103981434|\n",
      "|  County_Wayne|County|694.5898103981434|\n",
      "|  County_Wayne|County|694.5898103981434|\n",
      "|  County_Wayne|County|694.5898103981434|\n",
      "|  County_Wayne|County|694.5898103981434|\n",
      "|  County_Wayne|County|694.5898103981434|\n",
      "|  County_Wayne|County|694.5898103981434|\n",
      "|  County_Wayne|County|694.5898103981434|\n",
      "| County_Harris|County|629.4496687056359|\n",
      "| County_Harris|County|629.4496687056359|\n",
      "|County_Suffolk|County|405.5873200441693|\n",
      "|County_Suffolk|County|405.5873200441693|\n",
      "| County_Monroe|County|  383.69214961953|\n",
      "+--------------+------+-----------------+\n",
      "only showing top 20 rows\n",
      "\n"
     ]
    },
    {
     "name": "stderr",
     "output_type": "stream",
     "text": [
      "[Stage 5979:==================>                                     (1 + 2) / 3]\r"
     ]
    },
    {
     "name": "stdout",
     "output_type": "stream",
     "text": [
      "+-----------------+------------+--------------------+------+\n",
      "|              src|Relationship|                 dst|weight|\n",
      "+-----------------+------------+--------------------+------+\n",
      "|Tract_01073011704|    Contains|BlockGroup_010730...|   1.0|\n",
      "|Tract_01073005910|    Contains|BlockGroup_010730...|   1.0|\n",
      "|Tract_01059972900|    Contains|BlockGroup_010599...|   1.0|\n",
      "|Tract_01097003203|    Contains|BlockGroup_010970...|   1.0|\n",
      "|Tract_01105687001|    Contains|BlockGroup_011056...|   1.0|\n",
      "|Tract_01073010802|    Contains|BlockGroup_010730...|   1.0|\n",
      "|Tract_01089001901|    Contains|BlockGroup_010890...|   1.0|\n",
      "|Tract_01015981903|    Contains|BlockGroup_010159...|   1.0|\n",
      "|Tract_01073012001|    Contains|BlockGroup_010730...|   1.0|\n",
      "|Tract_01073011110|    Contains|BlockGroup_010730...|   1.0|\n",
      "|Tract_01063060102|    Contains|BlockGroup_010630...|   1.0|\n",
      "|Tract_01031010600|    Contains|BlockGroup_010310...|   1.0|\n",
      "|Tract_01073002900|    Contains|BlockGroup_010730...|   1.0|\n",
      "|Tract_01073011113|    Contains|BlockGroup_010730...|   1.0|\n",
      "|Tract_01003010907|    Contains|BlockGroup_010030...|   1.0|\n",
      "|Tract_01073003002|    Contains|BlockGroup_010730...|   1.0|\n",
      "|Tract_01073012804|    Contains|BlockGroup_010730...|   1.0|\n",
      "|Tract_01073011117|    Contains|BlockGroup_010730...|   1.0|\n",
      "|Tract_01063060200|    Contains|BlockGroup_010630...|   1.0|\n",
      "|Tract_01053970100|    Contains|BlockGroup_010539...|   1.0|\n",
      "+-----------------+------------+--------------------+------+\n",
      "only showing top 20 rows\n",
      "\n"
     ]
    },
    {
     "name": "stderr",
     "output_type": "stream",
     "text": [
      "                                                                                \r"
     ]
    }
   ],
   "source": [
    "# Graph Frames page rank \n",
    "results = g.pageRank(resetProbability=0.15, tol=0.01)\n",
    "results.vertices.orderBy(F.desc(\"pagerank\")).show()\n",
    "results.edges.withColumn(\"weight\", col(\"weight\").cast(\"float\")).orderBy(F.desc(\"weight\")).show()\n"
   ]
  },
  {
   "cell_type": "markdown",
   "metadata": {},
   "source": [
    "## We will check to see if there is namespace collision\n",
    "\n",
    "We notice that the counties, states, countries, and continents do not have unique identifiers which leads to the page rank algorithm and possibly other algorithms to not work properly."
   ]
  },
  {
   "cell_type": "code",
   "execution_count": 87,
   "metadata": {},
   "outputs": [
    {
     "name": "stdout",
     "output_type": "stream",
     "text": [
      "+-------------+------------+-------------+\n",
      "|          src|Relationship|          dst|\n",
      "+-------------+------------+-------------+\n",
      "|County_Walker|    isPartOf|State_Alabama|\n",
      "|County_Walker|    isPartOf|State_Georgia|\n",
      "|County_Walker|    isPartOf|  State_Texas|\n",
      "+-------------+------------+-------------+\n",
      "\n",
      "+-----------------+------------+-------------------+\n",
      "|              src|Relationship|                dst|\n",
      "+-----------------+------------+-------------------+\n",
      "|Tract_01127021100|    isPartOf|      County_Walker|\n",
      "|Tract_01127021000|    isPartOf|      County_Walker|\n",
      "|Tract_01127021600|    isPartOf|      County_Walker|\n",
      "|Tract_01127021300|    isPartOf|      County_Walker|\n",
      "|Tract_01127021400|    isPartOf|      County_Walker|\n",
      "|Tract_01127021500|    isPartOf|      County_Walker|\n",
      "|Tract_01127021700|    isPartOf|      County_Walker|\n",
      "|Tract_01127021800|    isPartOf|      County_Walker|\n",
      "|Tract_01127020100|    isPartOf|      County_Walker|\n",
      "|Tract_01127020600|    isPartOf|      County_Walker|\n",
      "|Tract_01127020400|    isPartOf|      County_Walker|\n",
      "|Tract_01127021900|    isPartOf|      County_Walker|\n",
      "|Tract_01127021200|    isPartOf|      County_Walker|\n",
      "|Tract_01127020301|    isPartOf|      County_Walker|\n",
      "|Tract_01127020801|    isPartOf|      County_Walker|\n",
      "|Tract_01127020700|    isPartOf|      County_Walker|\n",
      "|Tract_01127020200|    isPartOf|      County_Walker|\n",
      "|Tract_01127020302|    isPartOf|      County_Walker|\n",
      "|Tract_01127020802|    isPartOf|      County_Walker|\n",
      "|Tract_01127020900|    isPartOf|      County_Walker|\n",
      "|Tract_01129044200|    isPartOf|  County_Washington|\n",
      "|Tract_01129044100|    isPartOf|  County_Washington|\n",
      "|Tract_01129044300|    isPartOf|  County_Washington|\n",
      "|Tract_01129044000|    isPartOf|  County_Washington|\n",
      "|Tract_01129043900|    isPartOf|  County_Washington|\n",
      "|    State_Alabama|    Contains|  County_Washington|\n",
      "|    State_Alabama|    Contains|      County_Walker|\n",
      "|Tract_02158000100|    isPartOf|County_Wade Hampton|\n",
      "|     State_Alaska|    Contains|County_Wade Hampton|\n",
      "|Tract_05143011103|    isPartOf|  County_Washington|\n",
      "|Tract_05143011107|    isPartOf|  County_Washington|\n",
      "|Tract_05143011006|    isPartOf|  County_Washington|\n",
      "|Tract_05143011105|    isPartOf|  County_Washington|\n",
      "|Tract_05143011104|    isPartOf|  County_Washington|\n",
      "|Tract_05143010521|    isPartOf|  County_Washington|\n",
      "|Tract_05143011106|    isPartOf|  County_Washington|\n",
      "|Tract_05143010112|    isPartOf|  County_Washington|\n",
      "|Tract_05143010109|    isPartOf|  County_Washington|\n",
      "|Tract_05143010101|    isPartOf|  County_Washington|\n",
      "|Tract_05143011004|    isPartOf|  County_Washington|\n",
      "|Tract_05143011003|    isPartOf|  County_Washington|\n",
      "|Tract_05143011002|    isPartOf|  County_Washington|\n",
      "|Tract_05143011005|    isPartOf|  County_Washington|\n",
      "|Tract_05143010513|    isPartOf|  County_Washington|\n",
      "|Tract_05143010514|    isPartOf|  County_Washington|\n",
      "|Tract_05143010515|    isPartOf|  County_Washington|\n",
      "|Tract_05143010520|    isPartOf|  County_Washington|\n",
      "|Tract_05143010508|    isPartOf|  County_Washington|\n",
      "|Tract_05143011301|    isPartOf|  County_Washington|\n",
      "|Tract_05143011302|    isPartOf|  County_Washington|\n",
      "|Tract_05143010113|    isPartOf|  County_Washington|\n",
      "|Tract_05143010601|    isPartOf|  County_Washington|\n",
      "|Tract_05143010110|    isPartOf|  County_Washington|\n",
      "|Tract_05143010111|    isPartOf|  County_Washington|\n",
      "|Tract_05143010704|    isPartOf|  County_Washington|\n",
      "|Tract_05143010706|    isPartOf|  County_Washington|\n",
      "|Tract_05143010516|    isPartOf|  County_Washington|\n",
      "|Tract_05143010602|    isPartOf|  County_Washington|\n",
      "|Tract_05143010107|    isPartOf|  County_Washington|\n",
      "|Tract_05143010703|    isPartOf|  County_Washington|\n",
      "|Tract_05143010517|    isPartOf|  County_Washington|\n",
      "|Tract_05143010705|    isPartOf|  County_Washington|\n",
      "|Tract_05143010115|    isPartOf|  County_Washington|\n",
      "|Tract_05143010108|    isPartOf|  County_Washington|\n",
      "|Tract_05143010114|    isPartOf|  County_Washington|\n",
      "|Tract_05143010511|    isPartOf|  County_Washington|\n",
      "|Tract_05143010405|    isPartOf|  County_Washington|\n",
      "|Tract_05143010303|    isPartOf|  County_Washington|\n",
      "|Tract_05143010305|    isPartOf|  County_Washington|\n",
      "|Tract_05143010304|    isPartOf|  County_Washington|\n",
      "|Tract_05143010404|    isPartOf|  County_Washington|\n",
      "|Tract_05143010512|    isPartOf|  County_Washington|\n",
      "|Tract_05143010306|    isPartOf|  County_Washington|\n",
      "|Tract_05143010307|    isPartOf|  County_Washington|\n",
      "|Tract_05143011200|    isPartOf|  County_Washington|\n",
      "|Tract_05143010402|    isPartOf|  County_Washington|\n",
      "|Tract_05143010518|    isPartOf|  County_Washington|\n",
      "|Tract_05143010510|    isPartOf|  County_Washington|\n",
      "|Tract_05143010501|    isPartOf|  County_Washington|\n",
      "|Tract_05143010202|    isPartOf|  County_Washington|\n",
      "|Tract_05143010519|    isPartOf|  County_Washington|\n",
      "|Tract_05143010401|    isPartOf|  County_Washington|\n",
      "|Tract_05143010201|    isPartOf|  County_Washington|\n",
      "|   State_Arkansas|    Contains|  County_Washington|\n",
      "|Tract_08121924100|    isPartOf|  County_Washington|\n",
      "|Tract_08121924200|    isPartOf|  County_Washington|\n",
      "|   State_Colorado|    Contains|  County_Washington|\n",
      "|Tract_12129010102|    isPartOf|     County_Wakulla|\n",
      "|Tract_12129010205|    isPartOf|     County_Wakulla|\n",
      "|Tract_12129010207|    isPartOf|     County_Wakulla|\n",
      "|Tract_12129010204|    isPartOf|     County_Wakulla|\n",
      "|Tract_12129010101|    isPartOf|     County_Wakulla|\n",
      "|Tract_12129010206|    isPartOf|     County_Wakulla|\n",
      "|Tract_12129010208|    isPartOf|     County_Wakulla|\n",
      "|Tract_12129010209|    isPartOf|     County_Wakulla|\n",
      "|Tract_12133970301|    isPartOf|  County_Washington|\n",
      "|Tract_12133970302|    isPartOf|  County_Washington|\n",
      "|Tract_12133970303|    isPartOf|  County_Washington|\n",
      "|Tract_12133970200|    isPartOf|  County_Washington|\n",
      "|Tract_12133970102|    isPartOf|  County_Washington|\n",
      "+-----------------+------------+-------------------+\n",
      "only showing top 100 rows\n",
      "\n"
     ]
    }
   ],
   "source": [
    "g.edges.filter(\"src == 'County_Walker' AND Relationship == 'isPartOf'\").show(100)\n",
    "g.edges.filter(\"dst LIKE 'County_Wa%'\").show(100)"
   ]
  },
  {
   "cell_type": "code",
   "execution_count": 85,
   "metadata": {},
   "outputs": [
    {
     "name": "stderr",
     "output_type": "stream",
     "text": [
      "                                                                                \r"
     ]
    },
    {
     "name": "stdout",
     "output_type": "stream",
     "text": [
      "+-------------+------------+-------------+\n",
      "|          src|Relationship|          dst|\n",
      "+-------------+------------+-------------+\n",
      "|County_Walker|    isPartOf|State_Alabama|\n",
      "|County_Walker|    isPartOf|State_Georgia|\n",
      "|County_Walker|    isPartOf|  State_Texas|\n",
      "+-------------+------------+-------------+\n",
      "\n"
     ]
    }
   ],
   "source": [
    "# g.edges.filter(\"src == 'County_Walker' AND dst LIKE 'State_%'\").show(100)\n",
    "g.edges.filter(\"src == 'County_Walker' AND Relationship == 'isPartOf'\").show(100)\n"
   ]
  },
  {
   "cell_type": "markdown",
   "metadata": {},
   "source": [
    "# Example Queries of the Base Knowledge Graph\n",
    "\n",
    "We can query the base knowledge graph with SQL queries, Motif queries, and GraphFrames queries."
   ]
  },
  {
   "cell_type": "markdown",
   "metadata": {},
   "source": [
    "## SQL Query Examples:\n",
    "\n",
    "SQL queries are a powerful tool for filtering and manipulating structured data. In the context of graph analysis, we can use SQL queries to perform operations like selecting nodes or edges based on certain criteria, counting the number of nodes or edges, or aggregating data in other ways. SQL queries are particularly useful when we need to perform complex aggregations or join operations."
   ]
  },
  {
   "cell_type": "code",
   "execution_count": 95,
   "metadata": {},
   "outputs": [
    {
     "name": "stdout",
     "output_type": "stream",
     "text": [
      "+--------------+------------+--------------------+\n",
      "|           src|Relationship|                 dst|\n",
      "+--------------+------------+--------------------+\n",
      "|State_Colorado|    isPartOf|Country_United St...|\n",
      "|State_Colorado|    Contains|    County_Archuleta|\n",
      "|State_Colorado|    Contains|     County_La Plata|\n",
      "|State_Colorado|    Contains|    County_Montezuma|\n",
      "|State_Colorado|    Contains|   County_Rio Grande|\n",
      "|State_Colorado|    Contains|      County_Mineral|\n",
      "|State_Colorado|    Contains|      County_Dolores|\n",
      "|State_Colorado|    Contains|     County_San Juan|\n",
      "|State_Colorado|    Contains|     County_Hinsdale|\n",
      "|State_Colorado|    Contains|   County_San Miguel|\n",
      "|State_Colorado|    Contains|        County_Ouray|\n",
      "|State_Colorado|    Contains|      County_Conejos|\n",
      "|State_Colorado|    Contains|     County_Costilla|\n",
      "|State_Colorado|    Contains|      County_Alamosa|\n",
      "|State_Colorado|    Contains|     County_Huerfano|\n",
      "|State_Colorado|    Contains|     County_Saguache|\n",
      "|State_Colorado|    Contains|       County_Custer|\n",
      "|State_Colorado|    Contains|       County_Pueblo|\n",
      "|State_Colorado|    Contains|      County_Fremont|\n",
      "|State_Colorado|    Contains|      County_Chaffee|\n",
      "+--------------+------------+--------------------+\n",
      "only showing top 20 rows\n",
      "\n",
      "+----------------+------------+--------------+\n",
      "|             src|Relationship|           dst|\n",
      "+----------------+------------+--------------+\n",
      "|County_Jefferson|    isPartOf|State_Colorado|\n",
      "|  County_Jackson|    isPartOf|State_Colorado|\n",
      "+----------------+------------+--------------+\n",
      "\n",
      "+-----------------+------------+-------------------+\n",
      "|              src|Relationship|                dst|\n",
      "+-----------------+------------+-------------------+\n",
      "|Tract_01127021100|    isPartOf|      County_Walker|\n",
      "|Tract_01127021000|    isPartOf|      County_Walker|\n",
      "|Tract_01127021600|    isPartOf|      County_Walker|\n",
      "|Tract_01127021300|    isPartOf|      County_Walker|\n",
      "|Tract_01127021400|    isPartOf|      County_Walker|\n",
      "|Tract_01127021500|    isPartOf|      County_Walker|\n",
      "|Tract_01127021700|    isPartOf|      County_Walker|\n",
      "|Tract_01127021800|    isPartOf|      County_Walker|\n",
      "|Tract_01127020100|    isPartOf|      County_Walker|\n",
      "|Tract_01127020600|    isPartOf|      County_Walker|\n",
      "|Tract_01127020400|    isPartOf|      County_Walker|\n",
      "|Tract_01127021900|    isPartOf|      County_Walker|\n",
      "|Tract_01127021200|    isPartOf|      County_Walker|\n",
      "|Tract_01127020301|    isPartOf|      County_Walker|\n",
      "|Tract_01127020801|    isPartOf|      County_Walker|\n",
      "|Tract_01127020700|    isPartOf|      County_Walker|\n",
      "|Tract_01127020200|    isPartOf|      County_Walker|\n",
      "|Tract_01127020302|    isPartOf|      County_Walker|\n",
      "|Tract_01127020802|    isPartOf|      County_Walker|\n",
      "|Tract_01127020900|    isPartOf|      County_Walker|\n",
      "|Tract_01129044200|    isPartOf|  County_Washington|\n",
      "|Tract_01129044100|    isPartOf|  County_Washington|\n",
      "|Tract_01129044300|    isPartOf|  County_Washington|\n",
      "|Tract_01129044000|    isPartOf|  County_Washington|\n",
      "|Tract_01129043900|    isPartOf|  County_Washington|\n",
      "|    State_Alabama|    Contains|  County_Washington|\n",
      "|    State_Alabama|    Contains|      County_Walker|\n",
      "|Tract_02158000100|    isPartOf|County_Wade Hampton|\n",
      "|     State_Alaska|    Contains|County_Wade Hampton|\n",
      "|Tract_05143011103|    isPartOf|  County_Washington|\n",
      "|Tract_05143011107|    isPartOf|  County_Washington|\n",
      "|Tract_05143011006|    isPartOf|  County_Washington|\n",
      "|Tract_05143011105|    isPartOf|  County_Washington|\n",
      "|Tract_05143011104|    isPartOf|  County_Washington|\n",
      "|Tract_05143010521|    isPartOf|  County_Washington|\n",
      "|Tract_05143011106|    isPartOf|  County_Washington|\n",
      "|Tract_05143010112|    isPartOf|  County_Washington|\n",
      "|Tract_05143010109|    isPartOf|  County_Washington|\n",
      "|Tract_05143010101|    isPartOf|  County_Washington|\n",
      "|Tract_05143011004|    isPartOf|  County_Washington|\n",
      "|Tract_05143011003|    isPartOf|  County_Washington|\n",
      "|Tract_05143011002|    isPartOf|  County_Washington|\n",
      "|Tract_05143011005|    isPartOf|  County_Washington|\n",
      "|Tract_05143010513|    isPartOf|  County_Washington|\n",
      "|Tract_05143010514|    isPartOf|  County_Washington|\n",
      "|Tract_05143010515|    isPartOf|  County_Washington|\n",
      "|Tract_05143010520|    isPartOf|  County_Washington|\n",
      "|Tract_05143010508|    isPartOf|  County_Washington|\n",
      "|Tract_05143011301|    isPartOf|  County_Washington|\n",
      "|Tract_05143011302|    isPartOf|  County_Washington|\n",
      "|Tract_05143010113|    isPartOf|  County_Washington|\n",
      "|Tract_05143010601|    isPartOf|  County_Washington|\n",
      "|Tract_05143010110|    isPartOf|  County_Washington|\n",
      "|Tract_05143010111|    isPartOf|  County_Washington|\n",
      "|Tract_05143010704|    isPartOf|  County_Washington|\n",
      "|Tract_05143010706|    isPartOf|  County_Washington|\n",
      "|Tract_05143010516|    isPartOf|  County_Washington|\n",
      "|Tract_05143010602|    isPartOf|  County_Washington|\n",
      "|Tract_05143010107|    isPartOf|  County_Washington|\n",
      "|Tract_05143010703|    isPartOf|  County_Washington|\n",
      "|Tract_05143010517|    isPartOf|  County_Washington|\n",
      "|Tract_05143010705|    isPartOf|  County_Washington|\n",
      "|Tract_05143010115|    isPartOf|  County_Washington|\n",
      "|Tract_05143010108|    isPartOf|  County_Washington|\n",
      "|Tract_05143010114|    isPartOf|  County_Washington|\n",
      "|Tract_05143010511|    isPartOf|  County_Washington|\n",
      "|Tract_05143010405|    isPartOf|  County_Washington|\n",
      "|Tract_05143010303|    isPartOf|  County_Washington|\n",
      "|Tract_05143010305|    isPartOf|  County_Washington|\n",
      "|Tract_05143010304|    isPartOf|  County_Washington|\n",
      "|Tract_05143010404|    isPartOf|  County_Washington|\n",
      "|Tract_05143010512|    isPartOf|  County_Washington|\n",
      "|Tract_05143010306|    isPartOf|  County_Washington|\n",
      "|Tract_05143010307|    isPartOf|  County_Washington|\n",
      "|Tract_05143011200|    isPartOf|  County_Washington|\n",
      "|Tract_05143010402|    isPartOf|  County_Washington|\n",
      "|Tract_05143010518|    isPartOf|  County_Washington|\n",
      "|Tract_05143010510|    isPartOf|  County_Washington|\n",
      "|Tract_05143010501|    isPartOf|  County_Washington|\n",
      "|Tract_05143010202|    isPartOf|  County_Washington|\n",
      "|Tract_05143010519|    isPartOf|  County_Washington|\n",
      "|Tract_05143010401|    isPartOf|  County_Washington|\n",
      "|Tract_05143010201|    isPartOf|  County_Washington|\n",
      "|   State_Arkansas|    Contains|  County_Washington|\n",
      "|Tract_08121924100|    isPartOf|  County_Washington|\n",
      "|Tract_08121924200|    isPartOf|  County_Washington|\n",
      "|   State_Colorado|    Contains|  County_Washington|\n",
      "|Tract_12129010102|    isPartOf|     County_Wakulla|\n",
      "|Tract_12129010205|    isPartOf|     County_Wakulla|\n",
      "|Tract_12129010207|    isPartOf|     County_Wakulla|\n",
      "|Tract_12129010204|    isPartOf|     County_Wakulla|\n",
      "|Tract_12129010101|    isPartOf|     County_Wakulla|\n",
      "|Tract_12129010206|    isPartOf|     County_Wakulla|\n",
      "|Tract_12129010208|    isPartOf|     County_Wakulla|\n",
      "|Tract_12129010209|    isPartOf|     County_Wakulla|\n",
      "|Tract_12133970301|    isPartOf|  County_Washington|\n",
      "|Tract_12133970302|    isPartOf|  County_Washington|\n",
      "|Tract_12133970303|    isPartOf|  County_Washington|\n",
      "|Tract_12133970200|    isPartOf|  County_Washington|\n",
      "|Tract_12133970102|    isPartOf|  County_Washington|\n",
      "+-----------------+------------+-------------------+\n",
      "only showing top 100 rows\n",
      "\n",
      "+--------------------+------------+--------------------+\n",
      "|                 src|Relationship|                 dst|\n",
      "+--------------------+------------+--------------------+\n",
      "|      State_Colorado|    isPartOf|Country_United St...|\n",
      "|Country_United St...|    Contains|      State_Colorado|\n",
      "|    County_Archuleta|    isPartOf|      State_Colorado|\n",
      "|     County_La Plata|    isPartOf|      State_Colorado|\n",
      "|    County_Montezuma|    isPartOf|      State_Colorado|\n",
      "|   County_Rio Grande|    isPartOf|      State_Colorado|\n",
      "|      County_Mineral|    isPartOf|      State_Colorado|\n",
      "|      County_Dolores|    isPartOf|      State_Colorado|\n",
      "|     County_San Juan|    isPartOf|      State_Colorado|\n",
      "|     County_Hinsdale|    isPartOf|      State_Colorado|\n",
      "|   County_San Miguel|    isPartOf|      State_Colorado|\n",
      "|        County_Ouray|    isPartOf|      State_Colorado|\n",
      "|      County_Conejos|    isPartOf|      State_Colorado|\n",
      "|     County_Costilla|    isPartOf|      State_Colorado|\n",
      "|      County_Alamosa|    isPartOf|      State_Colorado|\n",
      "|     County_Huerfano|    isPartOf|      State_Colorado|\n",
      "|     County_Saguache|    isPartOf|      State_Colorado|\n",
      "|       County_Custer|    isPartOf|      State_Colorado|\n",
      "|       County_Pueblo|    isPartOf|      State_Colorado|\n",
      "|      County_Fremont|    isPartOf|      State_Colorado|\n",
      "|      County_Chaffee|    isPartOf|      State_Colorado|\n",
      "|      County_El Paso|    isPartOf|      State_Colorado|\n",
      "|   County_Las Animas|    isPartOf|      State_Colorado|\n",
      "|         County_Baca|    isPartOf|      State_Colorado|\n",
      "|        County_Otero|    isPartOf|      State_Colorado|\n",
      "|         County_Bent|    isPartOf|      State_Colorado|\n",
      "|      County_Prowers|    isPartOf|      State_Colorado|\n",
      "|      County_Crowley|    isPartOf|      State_Colorado|\n",
      "|        County_Kiowa|    isPartOf|      State_Colorado|\n",
      "|     County_Cheyenne|    isPartOf|      State_Colorado|\n",
      "|      County_Lincoln|    isPartOf|      State_Colorado|\n",
      "|       County_Elbert|    isPartOf|      State_Colorado|\n",
      "|     County_Montrose|    isPartOf|      State_Colorado|\n",
      "|     County_Gunnison|    isPartOf|      State_Colorado|\n",
      "|        County_Delta|    isPartOf|      State_Colorado|\n",
      "|         County_Mesa|    isPartOf|      State_Colorado|\n",
      "|         County_Lake|    isPartOf|      State_Colorado|\n",
      "|       County_Pitkin|    isPartOf|      State_Colorado|\n",
      "|     County_Garfield|    isPartOf|      State_Colorado|\n",
      "|        County_Eagle|    isPartOf|      State_Colorado|\n",
      "|   County_Rio Blanco|    isPartOf|      State_Colorado|\n",
      "|        County_Routt|    isPartOf|      State_Colorado|\n",
      "|       County_Teller|    isPartOf|      State_Colorado|\n",
      "|         County_Park|    isPartOf|      State_Colorado|\n",
      "|      County_Douglas|    isPartOf|      State_Colorado|\n",
      "|    County_Jefferson|    isPartOf|      State_Colorado|\n",
      "|       County_Summit|    isPartOf|      State_Colorado|\n",
      "|  County_Clear Creek|    isPartOf|      State_Colorado|\n",
      "|       County_Denver|    isPartOf|      State_Colorado|\n",
      "|       County_Gilpin|    isPartOf|      State_Colorado|\n",
      "|   County_Broomfield|    isPartOf|      State_Colorado|\n",
      "|      County_Boulder|    isPartOf|      State_Colorado|\n",
      "|   County_Kit Carson|    isPartOf|      State_Colorado|\n",
      "|     County_Arapahoe|    isPartOf|      State_Colorado|\n",
      "|        County_Adams|    isPartOf|      State_Colorado|\n",
      "|   County_Washington|    isPartOf|      State_Colorado|\n",
      "|         County_Yuma|    isPartOf|      State_Colorado|\n",
      "|       County_Morgan|    isPartOf|      State_Colorado|\n",
      "|         County_Weld|    isPartOf|      State_Colorado|\n",
      "|     County_Phillips|    isPartOf|      State_Colorado|\n",
      "|        County_Logan|    isPartOf|      State_Colorado|\n",
      "|     County_Sedgwick|    isPartOf|      State_Colorado|\n",
      "|        County_Grand|    isPartOf|      State_Colorado|\n",
      "|      County_Larimer|    isPartOf|      State_Colorado|\n",
      "|       County_Moffat|    isPartOf|      State_Colorado|\n",
      "|      County_Jackson|    isPartOf|      State_Colorado|\n",
      "|      State_Colorado|    Contains|    County_Archuleta|\n",
      "|      State_Colorado|    Contains|     County_La Plata|\n",
      "|      State_Colorado|    Contains|    County_Montezuma|\n",
      "|      State_Colorado|    Contains|   County_Rio Grande|\n",
      "|      State_Colorado|    Contains|      County_Mineral|\n",
      "|      State_Colorado|    Contains|      County_Dolores|\n",
      "|      State_Colorado|    Contains|     County_San Juan|\n",
      "|      State_Colorado|    Contains|     County_Hinsdale|\n",
      "|      State_Colorado|    Contains|   County_San Miguel|\n",
      "|      State_Colorado|    Contains|        County_Ouray|\n",
      "|      State_Colorado|    Contains|      County_Conejos|\n",
      "|      State_Colorado|    Contains|     County_Costilla|\n",
      "|      State_Colorado|    Contains|      County_Alamosa|\n",
      "|      State_Colorado|    Contains|     County_Huerfano|\n",
      "|      State_Colorado|    Contains|     County_Saguache|\n",
      "|      State_Colorado|    Contains|       County_Custer|\n",
      "|      State_Colorado|    Contains|       County_Pueblo|\n",
      "|      State_Colorado|    Contains|      County_Fremont|\n",
      "|      State_Colorado|    Contains|      County_Chaffee|\n",
      "|      State_Colorado|    Contains|      County_El Paso|\n",
      "|      State_Colorado|    Contains|   County_Las Animas|\n",
      "|      State_Colorado|    Contains|         County_Baca|\n",
      "|      State_Colorado|    Contains|        County_Otero|\n",
      "|      State_Colorado|    Contains|         County_Bent|\n",
      "|      State_Colorado|    Contains|      County_Prowers|\n",
      "|      State_Colorado|    Contains|      County_Crowley|\n",
      "|      State_Colorado|    Contains|        County_Kiowa|\n",
      "|      State_Colorado|    Contains|     County_Cheyenne|\n",
      "|      State_Colorado|    Contains|      County_Lincoln|\n",
      "|      State_Colorado|    Contains|       County_Elbert|\n",
      "|      State_Colorado|    Contains|     County_Montrose|\n",
      "|      State_Colorado|    Contains|     County_Gunnison|\n",
      "|      State_Colorado|    Contains|        County_Delta|\n",
      "|      State_Colorado|    Contains|         County_Mesa|\n",
      "+--------------------+------------+--------------------+\n",
      "only showing top 100 rows\n",
      "\n",
      "+--------------------+-----+\n",
      "|                  id| Type|\n",
      "+--------------------+-----+\n",
      "|  State_Pennsylvania|State|\n",
      "| State_West Virginia|State|\n",
      "|      State_Maryland|State|\n",
      "|      State_Colorado|State|\n",
      "|      State_Illinois|State|\n",
      "|          State_Guam|State|\n",
      "|   State_Connecticut|State|\n",
      "|      State_Michigan|State|\n",
      "|     State_Wisconsin|State|\n",
      "|       State_Indiana|State|\n",
      "|        State_Oregon|State|\n",
      "| State_New Hampshire|State|\n",
      "|          State_Ohio|State|\n",
      "|      State_Oklahoma|State|\n",
      "|        State_Kansas|State|\n",
      "|  State_North Dakota|State|\n",
      "|    State_Washington|State|\n",
      "|       State_Wyoming|State|\n",
      "|         State_Maine|State|\n",
      "|State_North Carolina|State|\n",
      "|      State_New York|State|\n",
      "|      State_Virginia|State|\n",
      "|       State_Georgia|State|\n",
      "|        State_Nevada|State|\n",
      "|       State_Vermont|State|\n",
      "| State_Massachusetts|State|\n",
      "|      State_Arkansas|State|\n",
      "|State_South Carolina|State|\n",
      "|  State_South Dakota|State|\n",
      "|         State_Idaho|State|\n",
      "|      State_Nebraska|State|\n",
      "|       State_Florida|State|\n",
      "|      State_Delaware|State|\n",
      "|       State_Alabama|State|\n",
      "|          State_Utah|State|\n",
      "|  State_Rhode Island|State|\n",
      "|   State_Mississippi|State|\n",
      "|State_District of...|State|\n",
      "|    State_California|State|\n",
      "|       State_Arizona|State|\n",
      "|         State_Texas|State|\n",
      "|      State_Missouri|State|\n",
      "|    State_New Jersey|State|\n",
      "|    State_New Mexico|State|\n",
      "|      State_Kentucky|State|\n",
      "|     State_Minnesota|State|\n",
      "|        State_Alaska|State|\n",
      "|          State_Iowa|State|\n",
      "|   State_Puerto Rico|State|\n",
      "|       State_Montana|State|\n",
      "|     State_Louisiana|State|\n",
      "|     State_Tennessee|State|\n",
      "+--------------------+-----+\n",
      "\n",
      "+--------------+------+\n",
      "|            id|  Type|\n",
      "+--------------+------+\n",
      "|County_Mineral|County|\n",
      "|County_Mineral|County|\n",
      "|County_Mineral|County|\n",
      "|County_Mineral|County|\n",
      "+--------------+------+\n",
      "\n"
     ]
    }
   ],
   "source": [
    "g.edges.filter(\"src == 'State_Colorado'\").show()\n",
    "g.edges.filter(\"src LIKE 'County_J%' AND Relationship == 'isPartOf' AND dst == 'State_Colorado'\").show(100)\n",
    "g.edges.filter(\"dst LIKE 'County_Wa%'\").show(100)\n",
    "g.edges.filter(\"src == 'State_Colorado' OR dst == 'State_Colorado'\").show(100)\n",
    "g.vertices.filter(\"Type == 'State'\").show(100)\n",
    "g.vertices.createOrReplaceTempView(\"vertices\")\n",
    "spark.sql(\"SELECT * FROM vertices WHERE id = 'County_Mineral'\").show()\n"
   ]
  },
  {
   "cell_type": "markdown",
   "metadata": {},
   "source": [
    "## Motif Examples\n",
    "\n",
    "**Motifs:**\n",
    "\n",
    "Motifs are a way of finding certain patterns or structures within the graph. A motif is a small connected subgraph, and finding motifs involves looking for occurrences of this subgraph within the larger graph. This can be useful for identifying certain types of relationships or structures within the graph.\n",
    "\n",
    "**DataFrame Manipulations:**\n",
    "\n",
    "We can also use DataFrame manipulations to perform operations on the graph data. This can involve filtering, grouping, or aggregating data in various ways. DataFrame manipulations are particularly useful when we need to perform complex transformations on the data or when we want to combine data from multiple sources."
   ]
  },
  {
   "cell_type": "code",
   "execution_count": 103,
   "metadata": {},
   "outputs": [
    {
     "name": "stdout",
     "output_type": "stream",
     "text": [
      "+--------------------+--------------------+--------------------+\n",
      "|                   a|                  ab|                   b|\n",
      "+--------------------+--------------------+--------------------+\n",
      "|{State_Mississipp...|{State_Mississipp...|{Country_United S...|\n",
      "|{State_North Caro...|{State_North Caro...|{Country_United S...|\n",
      "|{State_Oklahoma, ...|{State_Oklahoma, ...|{Country_United S...|\n",
      "|{State_Virginia, ...|{State_Virginia, ...|{Country_United S...|\n",
      "|{State_West Virgi...|{State_West Virgi...|{Country_United S...|\n",
      "|{State_Louisiana,...|{State_Louisiana,...|{Country_United S...|\n",
      "|{State_Michigan, ...|{State_Michigan, ...|{Country_United S...|\n",
      "|{State_Massachuse...|{State_Massachuse...|{Country_United S...|\n",
      "|{State_Idaho, State}|{State_Idaho, isP...|{Country_United S...|\n",
      "|{State_Florida, S...|{State_Florida, i...|{Country_United S...|\n",
      "+--------------------+--------------------+--------------------+\n",
      "only showing top 10 rows\n",
      "\n",
      "50\n"
     ]
    }
   ],
   "source": [
    "# Find all states that are part of the 'Country_United States of America'\n",
    "# a is the source vertex, b is the destination vertex, and ab is the edge between them\n",
    "motifs = g.find(\"(a)-[ab]->(b)\")\n",
    "motifs = motifs.filter(\"a.Type = 'State' AND b.id = 'Country_United States of America' AND ab.relationship = 'isPartOf'\")\n",
    "\n",
    "# Display the result\n",
    "motifs.show(10)\n",
    "\n",
    "# Print the number of states\n",
    "print(motifs.count())"
   ]
  },
  {
   "cell_type": "code",
   "execution_count": 111,
   "metadata": {},
   "outputs": [
    {
     "name": "stderr",
     "output_type": "stream",
     "text": [
      "[Stage 6165:==========================================>             (6 + 2) / 8]\r"
     ]
    },
    {
     "name": "stdout",
     "output_type": "stream",
     "text": [
      "+--------------------+\n",
      "|                  id|\n",
      "+--------------------+\n",
      "|     Country_Bahrain|\n",
      "|Country_Jarvis Is...|\n",
      "|     Country_Belarus|\n",
      "|Country_Jammu-Kas...|\n",
      "|Country_South Africa|\n",
      "|Country_Glorioso ...|\n",
      "|     Country_Ecuador|\n",
      "|  Country_Madagascar|\n",
      "|Country_The forme...|\n",
      "|     Country_Hungary|\n",
      "|Country_Iran (Isl...|\n",
      "|       Country_China|\n",
      "|       Country_Malta|\n",
      "|Country_Heard Isl...|\n",
      "|     Country_Iceland|\n",
      "|    Country_Guernsey|\n",
      "|       Country_Gabon|\n",
      "|Country_Lao Peopl...|\n",
      "|     Country_Senegal|\n",
      "|     Country_Germany|\n",
      "+--------------------+\n",
      "only showing top 20 rows\n",
      "\n"
     ]
    },
    {
     "name": "stderr",
     "output_type": "stream",
     "text": [
      "                                                                                \r"
     ]
    }
   ],
   "source": [
    "motifs = g.find(\"(a)-[ab]->(b)\")\n",
    "\n",
    "# Filter the motifs where 'a' is a state or country, 'ab' is 'isPartOf' relationship, and 'b' is not 'Continent_North America' or 'Planet_Earth'\n",
    "filtered_motifs = motifs.filter(\n",
    "    (motifs['a']['Type'] == 'Country') &\n",
    "    (motifs['ab']['Relationship'] == 'isPartOf') &\n",
    "    (motifs['b']['id'] != 'Continent_North America')\n",
    ")\n",
    "\n",
    "# Select the states or countries that don't have a 'isPartOf' relationship with 'Continent_North America' or 'Planet_Earth'\n",
    "states_countries = filtered_motifs.select(\"a.id\").distinct()\n",
    "\n",
    "states_countries.show()"
   ]
  },
  {
   "cell_type": "code",
   "execution_count": 119,
   "metadata": {},
   "outputs": [
    {
     "name": "stdout",
     "output_type": "stream",
     "text": [
      "Countries without 'isPartOf' relationship with 'Continent_North America':\n",
      "There are 189 countries without a relationship with \"Continent_North America\"\n",
      "+--------------------+-------+\n",
      "|                  id|   Type|\n",
      "+--------------------+-------+\n",
      "|     Country_Bahrain|Country|\n",
      "|Country_Jarvis Is...|Country|\n",
      "|     Country_Belarus|Country|\n",
      "|Country_Jammu-Kas...|Country|\n",
      "|Country_South Africa|Country|\n",
      "|Country_Glorioso ...|Country|\n",
      "|     Country_Ecuador|Country|\n",
      "|  Country_Madagascar|Country|\n",
      "|Country_The forme...|Country|\n",
      "|     Country_Hungary|Country|\n",
      "|Country_Iran (Isl...|Country|\n",
      "|       Country_China|Country|\n",
      "|       Country_Malta|Country|\n",
      "|Country_Heard Isl...|Country|\n",
      "|     Country_Iceland|Country|\n",
      "|    Country_Guernsey|Country|\n",
      "|       Country_Gabon|Country|\n",
      "|Country_Lao Peopl...|Country|\n",
      "|     Country_Senegal|Country|\n",
      "|     Country_Germany|Country|\n",
      "+--------------------+-------+\n",
      "only showing top 20 rows\n",
      "\n"
     ]
    }
   ],
   "source": [
    "# Find all motifs where 'a' is a country, 'ab' is 'isPartOf' relationship, and 'b' is 'Continent_North America'\n",
    "motifs = g.find(\"(a)-[ab]->(b)\").filter(\"a.Type = 'Country' AND ab.Relationship = 'isPartOf' AND b.id = 'Continent_North America'\")\n",
    "\n",
    "# Select the 'id' of 'a' from these motifs and remove duplicates\n",
    "countries_with_north_america = motifs.select(\"a.id\").distinct()\n",
    "\n",
    "# Find all countries\n",
    "all_countries = g.vertices.filter(\"Type = 'Country'\")\n",
    "\n",
    "# Find countries without a 'isPartOf' relationship with 'Continent_North America' by subtracting countries_with_north_america from all_countries\n",
    "countries_without_north_america = all_countries.join(countries_with_north_america, all_countries.id == countries_with_north_america['id'], 'left_anti')\n",
    "\n",
    "print(\"Countries without 'isPartOf' relationship with 'Continent_North America':\")\n",
    "print(f'There are {countries_without_north_america.count()} countries without a relationship with \"Continent_North America\"')\n",
    "countries_without_north_america.show()"
   ]
  },
  {
   "cell_type": "code",
   "execution_count": 121,
   "metadata": {},
   "outputs": [
    {
     "name": "stdout",
     "output_type": "stream",
     "text": [
      "States without 'isPartOf' relationship with 'Country_United States of America':\n",
      "There are 2 states without a relationship with the USA\n",
      "+-----------------+-----+\n",
      "|               id| Type|\n",
      "+-----------------+-----+\n",
      "|       State_Guam|State|\n",
      "|State_Puerto Rico|State|\n",
      "+-----------------+-----+\n",
      "\n"
     ]
    },
    {
     "name": "stderr",
     "output_type": "stream",
     "text": [
      "                                                                                \r"
     ]
    }
   ],
   "source": [
    "# Find all motifs where 'a' is a country, 'ab' is 'isPartOf' relationship, and 'b' is 'Continent_North America'\n",
    "motifs = g.find(\"(a)-[ab]->(b)\").filter(\"a.Type = 'State' AND ab.Relationship = 'isPartOf' AND b.id = 'Country_United States of America'\")\n",
    "\n",
    "# Select the 'id' of 'a' from these motifs and remove duplicates\n",
    "states_with_usa = motifs.select(\"a.id\").distinct()\n",
    "\n",
    "# Find all countries\n",
    "all_states = g.vertices.filter(\"Type = 'State'\")\n",
    "\n",
    "# Find countries without a 'isPartOf' relationship with 'Continent_North America' by subtracting countries_with_north_america from all_countries\n",
    "states_without_usa = all_states.join(states_with_usa, all_states.id == states_with_usa['id'], 'left_anti')\n",
    "\n",
    "print(\"States without 'isPartOf' relationship with 'Country_United States of America':\")\n",
    "print(f'There are {states_without_usa.count()} states without a relationship with the USA')\n",
    "states_without_usa.show()"
   ]
  },
  {
   "cell_type": "code",
   "execution_count": 124,
   "metadata": {},
   "outputs": [
    {
     "name": "stdout",
     "output_type": "stream",
     "text": [
      "Counties without 'isPartOf' relationship with 'State':\n",
      "There are 9 counties without a relationship with a state\n",
      "+--------------------+------+\n",
      "|                  id|  Type|\n",
      "+--------------------+------+\n",
      "|      County_Western|County|\n",
      "|         County_Rota|County|\n",
      "|County_Swains Island|County|\n",
      "|       County_Hawaii|County|\n",
      "|        County_Kauai|County|\n",
      "|         County_Maui|County|\n",
      "|      County_Eastern|County|\n",
      "|       County_Saipan|County|\n",
      "|     County_St. John|County|\n",
      "+--------------------+------+\n",
      "\n"
     ]
    }
   ],
   "source": [
    "# Find all motifs where 'a' is a county, 'ab' is 'isPartOf' relationship, and 'b' is 'State'\n",
    "motifs = g.find(\"(a)-[ab]->(b)\").filter(\"a.Type = 'County' AND ab.Relationship = 'isPartOf' AND b.Type = 'State'\")\n",
    "\n",
    "# Select the 'id' of 'a' from these motifs and remove duplicates\n",
    "counties_with_states = motifs.select(\"a.id\").distinct()\n",
    "\n",
    "# Find all countries\n",
    "all_counties = g.vertices.filter(\"Type = 'County'\")\n",
    "\n",
    "# Find countries without a 'isPartOf' relationship with 'Continent_North America' by subtracting countries_with_north_america from all_countries\n",
    "counties_without_states = all_counties.join(counties_with_states, all_counties.id == counties_with_states['id'], 'left_anti')\n",
    "\n",
    "print(\"Counties without 'isPartOf' relationship with 'State':\")\n",
    "print(f'There are {counties_without_states.count()} counties without a relationship with a state')\n",
    "counties_without_states.show()"
   ]
  },
  {
   "cell_type": "markdown",
   "metadata": {},
   "source": [
    "# Aggregation Queries"
   ]
  },
  {
   "cell_type": "code",
   "execution_count": 19,
   "metadata": {},
   "outputs": [
    {
     "ename": "AnalysisException",
     "evalue": "[PATH_NOT_FOUND] Path does not exist: hdfs://hartford.cs.colostate.edu:30181/user/ebmartin/demographics.csv.",
     "output_type": "error",
     "traceback": [
      "\u001b[0;31m---------------------------------------------------------------------------\u001b[0m",
      "\u001b[0;31mAnalysisException\u001b[0m                         Traceback (most recent call last)",
      "Cell \u001b[0;32mIn[19], line 1\u001b[0m\n\u001b[0;32m----> 1\u001b[0m demographics_df \u001b[38;5;241m=\u001b[39m \u001b[43mspark\u001b[49m\u001b[38;5;241;43m.\u001b[39;49m\u001b[43mread\u001b[49m\u001b[38;5;241;43m.\u001b[39;49m\u001b[43mcsv\u001b[49m\u001b[43m(\u001b[49m\u001b[38;5;124;43m\"\u001b[39;49m\u001b[38;5;124;43mdemographics.csv\u001b[39;49m\u001b[38;5;124;43m\"\u001b[39;49m\u001b[43m,\u001b[49m\u001b[43m \u001b[49m\u001b[43mheader\u001b[49m\u001b[38;5;241;43m=\u001b[39;49m\u001b[38;5;28;43;01mTrue\u001b[39;49;00m\u001b[43m,\u001b[49m\u001b[43m \u001b[49m\u001b[43minferSchema\u001b[49m\u001b[38;5;241;43m=\u001b[39;49m\u001b[38;5;28;43;01mTrue\u001b[39;49;00m\u001b[43m)\u001b[49m\n\u001b[1;32m      3\u001b[0m \u001b[38;5;66;03m# Aggregate data for each tract\u001b[39;00m\n\u001b[1;32m      4\u001b[0m tract_data \u001b[38;5;241m=\u001b[39m demographics_df \\\n\u001b[1;32m      5\u001b[0m     \u001b[38;5;241m.\u001b[39mjoin(edges_df, edges_df[\u001b[38;5;124m\"\u001b[39m\u001b[38;5;124mdst\u001b[39m\u001b[38;5;124m\"\u001b[39m] \u001b[38;5;241m==\u001b[39m demographics_df[\u001b[38;5;124m\"\u001b[39m\u001b[38;5;124mBlockGroupID\u001b[39m\u001b[38;5;124m\"\u001b[39m]) \\\n\u001b[1;32m      6\u001b[0m     \u001b[38;5;241m.\u001b[39mgroupBy(\u001b[38;5;124m\"\u001b[39m\u001b[38;5;124msrc\u001b[39m\u001b[38;5;124m\"\u001b[39m) \\\n\u001b[1;32m      7\u001b[0m     \u001b[38;5;241m.\u001b[39magg(\u001b[38;5;28msum\u001b[39m(\u001b[38;5;124m\"\u001b[39m\u001b[38;5;124mPopulation\u001b[39m\u001b[38;5;124m\"\u001b[39m)\u001b[38;5;241m.\u001b[39malias(\u001b[38;5;124m\"\u001b[39m\u001b[38;5;124mTotalPopulation\u001b[39m\u001b[38;5;124m\"\u001b[39m))\n",
      "File \u001b[0;32m~/.local/lib/python3.9/site-packages/pyspark/sql/readwriter.py:740\u001b[0m, in \u001b[0;36mDataFrameReader.csv\u001b[0;34m(self, path, schema, sep, encoding, quote, escape, comment, header, inferSchema, ignoreLeadingWhiteSpace, ignoreTrailingWhiteSpace, nullValue, nanValue, positiveInf, negativeInf, dateFormat, timestampFormat, maxColumns, maxCharsPerColumn, maxMalformedLogPerPartition, mode, columnNameOfCorruptRecord, multiLine, charToEscapeQuoteEscaping, samplingRatio, enforceSchema, emptyValue, locale, lineSep, pathGlobFilter, recursiveFileLookup, modifiedBefore, modifiedAfter, unescapedQuoteHandling)\u001b[0m\n\u001b[1;32m    738\u001b[0m \u001b[38;5;28;01mif\u001b[39;00m \u001b[38;5;28mtype\u001b[39m(path) \u001b[38;5;241m==\u001b[39m \u001b[38;5;28mlist\u001b[39m:\n\u001b[1;32m    739\u001b[0m     \u001b[38;5;28;01massert\u001b[39;00m \u001b[38;5;28mself\u001b[39m\u001b[38;5;241m.\u001b[39m_spark\u001b[38;5;241m.\u001b[39m_sc\u001b[38;5;241m.\u001b[39m_jvm \u001b[38;5;129;01mis\u001b[39;00m \u001b[38;5;129;01mnot\u001b[39;00m \u001b[38;5;28;01mNone\u001b[39;00m\n\u001b[0;32m--> 740\u001b[0m     \u001b[38;5;28;01mreturn\u001b[39;00m \u001b[38;5;28mself\u001b[39m\u001b[38;5;241m.\u001b[39m_df(\u001b[38;5;28;43mself\u001b[39;49m\u001b[38;5;241;43m.\u001b[39;49m\u001b[43m_jreader\u001b[49m\u001b[38;5;241;43m.\u001b[39;49m\u001b[43mcsv\u001b[49m\u001b[43m(\u001b[49m\u001b[38;5;28;43mself\u001b[39;49m\u001b[38;5;241;43m.\u001b[39;49m\u001b[43m_spark\u001b[49m\u001b[38;5;241;43m.\u001b[39;49m\u001b[43m_sc\u001b[49m\u001b[38;5;241;43m.\u001b[39;49m\u001b[43m_jvm\u001b[49m\u001b[38;5;241;43m.\u001b[39;49m\u001b[43mPythonUtils\u001b[49m\u001b[38;5;241;43m.\u001b[39;49m\u001b[43mtoSeq\u001b[49m\u001b[43m(\u001b[49m\u001b[43mpath\u001b[49m\u001b[43m)\u001b[49m\u001b[43m)\u001b[49m)\n\u001b[1;32m    741\u001b[0m \u001b[38;5;28;01melif\u001b[39;00m \u001b[38;5;28misinstance\u001b[39m(path, RDD):\n\u001b[1;32m    743\u001b[0m     \u001b[38;5;28;01mdef\u001b[39;00m \u001b[38;5;21mfunc\u001b[39m(iterator):\n",
      "File \u001b[0;32m~/.local/lib/python3.9/site-packages/py4j/java_gateway.py:1322\u001b[0m, in \u001b[0;36mJavaMember.__call__\u001b[0;34m(self, *args)\u001b[0m\n\u001b[1;32m   1316\u001b[0m command \u001b[38;5;241m=\u001b[39m proto\u001b[38;5;241m.\u001b[39mCALL_COMMAND_NAME \u001b[38;5;241m+\u001b[39m\\\n\u001b[1;32m   1317\u001b[0m     \u001b[38;5;28mself\u001b[39m\u001b[38;5;241m.\u001b[39mcommand_header \u001b[38;5;241m+\u001b[39m\\\n\u001b[1;32m   1318\u001b[0m     args_command \u001b[38;5;241m+\u001b[39m\\\n\u001b[1;32m   1319\u001b[0m     proto\u001b[38;5;241m.\u001b[39mEND_COMMAND_PART\n\u001b[1;32m   1321\u001b[0m answer \u001b[38;5;241m=\u001b[39m \u001b[38;5;28mself\u001b[39m\u001b[38;5;241m.\u001b[39mgateway_client\u001b[38;5;241m.\u001b[39msend_command(command)\n\u001b[0;32m-> 1322\u001b[0m return_value \u001b[38;5;241m=\u001b[39m \u001b[43mget_return_value\u001b[49m\u001b[43m(\u001b[49m\n\u001b[1;32m   1323\u001b[0m \u001b[43m    \u001b[49m\u001b[43manswer\u001b[49m\u001b[43m,\u001b[49m\u001b[43m \u001b[49m\u001b[38;5;28;43mself\u001b[39;49m\u001b[38;5;241;43m.\u001b[39;49m\u001b[43mgateway_client\u001b[49m\u001b[43m,\u001b[49m\u001b[43m \u001b[49m\u001b[38;5;28;43mself\u001b[39;49m\u001b[38;5;241;43m.\u001b[39;49m\u001b[43mtarget_id\u001b[49m\u001b[43m,\u001b[49m\u001b[43m \u001b[49m\u001b[38;5;28;43mself\u001b[39;49m\u001b[38;5;241;43m.\u001b[39;49m\u001b[43mname\u001b[49m\u001b[43m)\u001b[49m\n\u001b[1;32m   1325\u001b[0m \u001b[38;5;28;01mfor\u001b[39;00m temp_arg \u001b[38;5;129;01min\u001b[39;00m temp_args:\n\u001b[1;32m   1326\u001b[0m     \u001b[38;5;28;01mif\u001b[39;00m \u001b[38;5;28mhasattr\u001b[39m(temp_arg, \u001b[38;5;124m\"\u001b[39m\u001b[38;5;124m_detach\u001b[39m\u001b[38;5;124m\"\u001b[39m):\n",
      "File \u001b[0;32m~/.local/lib/python3.9/site-packages/pyspark/errors/exceptions/captured.py:185\u001b[0m, in \u001b[0;36mcapture_sql_exception.<locals>.deco\u001b[0;34m(*a, **kw)\u001b[0m\n\u001b[1;32m    181\u001b[0m converted \u001b[38;5;241m=\u001b[39m convert_exception(e\u001b[38;5;241m.\u001b[39mjava_exception)\n\u001b[1;32m    182\u001b[0m \u001b[38;5;28;01mif\u001b[39;00m \u001b[38;5;129;01mnot\u001b[39;00m \u001b[38;5;28misinstance\u001b[39m(converted, UnknownException):\n\u001b[1;32m    183\u001b[0m     \u001b[38;5;66;03m# Hide where the exception came from that shows a non-Pythonic\u001b[39;00m\n\u001b[1;32m    184\u001b[0m     \u001b[38;5;66;03m# JVM exception message.\u001b[39;00m\n\u001b[0;32m--> 185\u001b[0m     \u001b[38;5;28;01mraise\u001b[39;00m converted \u001b[38;5;28;01mfrom\u001b[39;00m \u001b[38;5;28;01mNone\u001b[39;00m\n\u001b[1;32m    186\u001b[0m \u001b[38;5;28;01melse\u001b[39;00m:\n\u001b[1;32m    187\u001b[0m     \u001b[38;5;28;01mraise\u001b[39;00m\n",
      "\u001b[0;31mAnalysisException\u001b[0m: [PATH_NOT_FOUND] Path does not exist: hdfs://hartford.cs.colostate.edu:30181/user/ebmartin/demographics.csv."
     ]
    }
   ],
   "source": [
    "demographics_df = spark.read.csv(\"demographics.csv\", header=True, inferSchema=True)\n",
    "\n",
    "# Aggregate data for each tract\n",
    "tract_data = demographics_df \\\n",
    "    .join(edges_df, edges_df[\"dst\"] == demographics_df[\"BlockGroupID\"]) \\\n",
    "    .groupBy(\"src\") \\\n",
    "    .agg(sum(\"Population\").alias(\"TotalPopulation\"))"
   ]
  },
  {
   "cell_type": "markdown",
   "metadata": {},
   "source": [
    "# Proximity Queries"
   ]
  },
  {
   "cell_type": "code",
   "execution_count": null,
   "metadata": {},
   "outputs": [],
   "source": [
    "# Assuming 'lat' and 'lon' columns exist and 'point_lat' and 'point_lon' are given\n",
    "from pyspark.sql.functions import expr\n",
    "\n",
    "radius_query = nodes_df.filter(\n",
    "    expr(f\"ST_Distance(ST_Point(lon, lat), ST_Point({point_lon}, {point_lat})) <= {radius}\")\n",
    ")"
   ]
  },
  {
   "cell_type": "markdown",
   "metadata": {},
   "source": [
    "# Shortest paths:\n",
    "\n",
    "Computes the shortest paths from each vertex to the given set of landmark vertices."
   ]
  },
  {
   "cell_type": "code",
   "execution_count": null,
   "metadata": {},
   "outputs": [
    {
     "name": "stderr",
     "output_type": "stream",
     "text": [
      "                                                                                \r"
     ]
    },
    {
     "name": "stdout",
     "output_type": "stream",
     "text": [
      "+--------------------+-----+-------------------+\n",
      "|                  id| Type|          distances|\n",
      "+--------------------+-----+-------------------+\n",
      "|BlockGroup_181270...|Block|                 {}|\n",
      "|   Tract_42029302703|Tract|                 {}|\n",
      "|BlockGroup_230310...|Block|                 {}|\n",
      "|BlockGroup_260172...|Block|                 {}|\n",
      "|BlockGroup_360290...|Block|                 {}|\n",
      "|BlockGroup_360593...|Block|                 {}|\n",
      "|BlockGroup_060371...|Block|                 {}|\n",
      "|   Tract_42041011602|Tract|{County_Wayne -> 5}|\n",
      "|BlockGroup_160139...|Block|                 {}|\n",
      "|BlockGroup_060376...|Block|                 {}|\n",
      "|   Tract_29510127800|Tract|                 {}|\n",
      "|BlockGroup_291833...|Block|                 {}|\n",
      "|   Tract_42055012100|Tract|                 {}|\n",
      "|BlockGroup_200910...|Block|                 {}|\n",
      "|BlockGroup_470010...|Block|                 {}|\n",
      "|BlockGroup_280059...|Block|                 {}|\n",
      "|BlockGroup_060014...|Block|                 {}|\n",
      "|   Tract_39155931100|Tract|{County_Wayne -> 3}|\n",
      "|BlockGroup_060770...|Block|                 {}|\n",
      "|BlockGroup_220050...|Block|                 {}|\n",
      "+--------------------+-----+-------------------+\n",
      "only showing top 20 rows\n",
      "\n"
     ]
    }
   ],
   "source": [
    "results = g.shortestPaths(landmarks=[\"County_Wayne\"])\n",
    "\n",
    "results.show()"
   ]
  },
  {
   "cell_type": "markdown",
   "metadata": {},
   "source": [
    "# Triangle count\n",
    "\n",
    "Counts the number of triangles passing through each vertex, providing a measure of clustering."
   ]
  },
  {
   "cell_type": "code",
   "execution_count": null,
   "metadata": {},
   "outputs": [
    {
     "name": "stderr",
     "output_type": "stream",
     "text": [
      "                                                                                \r"
     ]
    },
    {
     "name": "stdout",
     "output_type": "stream",
     "text": [
      "+-----+--------------------+-----+\n",
      "|count|                  id| Type|\n",
      "+-----+--------------------+-----+\n",
      "|    0|   Tract_25003933300|Tract|\n",
      "|    0|BlockGroup_011010...|Block|\n",
      "|    0|   Tract_25027746100|Tract|\n",
      "|    0|BlockGroup_011170...|Block|\n",
      "|    0|   Tract_25017336402|Tract|\n",
      "|    0|BlockGroup_011250...|Block|\n",
      "|    0|   Tract_25023530300|Tract|\n",
      "|    0|BlockGroup_010030...|Block|\n",
      "|    0|   Tract_25005610204|Tract|\n",
      "|    0|BlockGroup_010810...|Block|\n",
      "|    0|   Tract_25009221700|Tract|\n",
      "|    0|BlockGroup_010799...|Block|\n",
      "|    0|   Tract_25001014900|Tract|\n",
      "|    0|BlockGroup_010030...|Block|\n",
      "|    0|   Tract_25023525204|Tract|\n",
      "|    0|BlockGroup_010550...|Block|\n",
      "|    0|   Tract_25021440102|Tract|\n",
      "|    0|BlockGroup_011310...|Block|\n",
      "|    0|   Tract_25017383700|Tract|\n",
      "|    0|BlockGroup_010872...|Block|\n",
      "+-----+--------------------+-----+\n",
      "only showing top 20 rows\n",
      "\n"
     ]
    },
    {
     "name": "stderr",
     "output_type": "stream",
     "text": [
      "                                                                                \r"
     ]
    },
    {
     "name": "stdout",
     "output_type": "stream",
     "text": [
      "+-----+-----------------+-----+\n",
      "|count|               id| Type|\n",
      "+-----+-----------------+-----+\n",
      "|    0|Tract_47037017701|Tract|\n",
      "|    0|Tract_47041920101|Tract|\n",
      "|    0|Tract_47157009501|Tract|\n",
      "|    0|Tract_47157008700|Tract|\n",
      "|    0|Tract_47157020653|Tract|\n",
      "|    0|Tract_47019071600|Tract|\n",
      "|    0|Tract_47137925102|Tract|\n",
      "|    0|Tract_47113001300|Tract|\n",
      "|    0|Tract_47113001612|Tract|\n",
      "|    0|Tract_47093005909|Tract|\n",
      "|    0|Tract_47153060200|Tract|\n",
      "|    0|Tract_47163041600|Tract|\n",
      "|    0|Tract_47111970200|Tract|\n",
      "|    0|Tract_47011011501|Tract|\n",
      "|    0|Tract_47165020904|Tract|\n",
      "|    0|Tract_47063100100|Tract|\n",
      "|    0|Tract_47157021357|Tract|\n",
      "|    0|Tract_47157011401|Tract|\n",
      "|    0|Tract_47125102100|Tract|\n",
      "|    0|Tract_47003950100|Tract|\n",
      "+-----+-----------------+-----+\n",
      "only showing top 20 rows\n",
      "\n"
     ]
    }
   ],
   "source": [
    "results = g.triangleCount()\n",
    "\n",
    "# sort by count\n",
    "results.orderBy(\"count\", ascending=False).show()\n",
    "results.show()\n"
   ]
  },
  {
   "cell_type": "markdown",
   "metadata": {},
   "source": []
  },
  {
   "cell_type": "code",
   "execution_count": null,
   "metadata": {},
   "outputs": [
    {
     "name": "stderr",
     "output_type": "stream",
     "text": [
      "                                                                                \r"
     ]
    },
    {
     "name": "stdout",
     "output_type": "stream",
     "text": [
      "+--------------------+-----+-----------+\n",
      "|                  id| Type|  component|\n",
      "+--------------------+-----+-----------+\n",
      "|   Tract_42069100500|Tract|      49840|\n",
      "|BlockGroup_051074...|Block|17179874016|\n",
      "|BlockGroup_320030...|Block|17179929341|\n",
      "|BlockGroup_080319...|Block|17179887086|\n",
      "|BlockGroup_391010...|Block|      46044|\n",
      "|BlockGroup_483379...|Block|17179967366|\n",
      "|BlockGroup_080770...|Block|         41|\n",
      "|   Tract_34039035500|Tract|         41|\n",
      "|   Tract_53001950100|Tract| 8590020586|\n",
      "|BlockGroup_091900...|Block|         41|\n",
      "|BlockGroup_483030...|Block|17179967045|\n",
      "|BlockGroup_010730...|Block|        474|\n",
      "|   Tract_05119004226|Tract| 8590000008|\n",
      "|BlockGroup_450439...|Block|17179958043|\n",
      "|BlockGroup_530330...|Block|      60033|\n",
      "|   Tract_47125101702|Tract| 8589988079|\n",
      "|BlockGroup_260992...|Block|17179919889|\n",
      "|   Tract_48439113716|Tract|         41|\n",
      "|BlockGroup_420110...|Block|17179953027|\n",
      "|BlockGroup_482150...|Block| 8589991608|\n",
      "+--------------------+-----+-----------+\n",
      "only showing top 20 rows\n",
      "\n"
     ]
    }
   ],
   "source": [
    "results = g.stronglyConnectedComponents(maxIter=10)\n",
    "\n",
    "results.show()"
   ]
  },
  {
   "cell_type": "code",
   "execution_count": 33,
   "metadata": {},
   "outputs": [
    {
     "name": "stderr",
     "output_type": "stream",
     "text": [
      "                                                                                \r"
     ]
    },
    {
     "name": "stdout",
     "output_type": "stream",
     "text": [
      "+--------------------+-----------+\n",
      "|                  id|  component|\n",
      "+--------------------+-----------+\n",
      "|   State_Mississippi|         41|\n",
      "|      State_Colorado|         41|\n",
      "|       State_Alabama|         41|\n",
      "|   State_Connecticut|         41|\n",
      "|       State_Montana|         41|\n",
      "|       State_Indiana|         41|\n",
      "|         State_Idaho|         41|\n",
      "|          State_Ohio|         41|\n",
      "|    State_New Jersey|         41|\n",
      "| State_West Virginia|         41|\n",
      "|         State_Maine|         41|\n",
      "|    State_New Mexico|         41|\n",
      "|         State_Texas|         41|\n",
      "|          State_Guam|      64137|\n",
      "|      State_Illinois|      64138|\n",
      "|        State_Kansas|      64140|\n",
      "|      State_Maryland|      64141|\n",
      "|      State_Michigan|      64142|\n",
      "| State_New Hampshire|      64143|\n",
      "|  State_North Dakota|      64144|\n",
      "|      State_Oklahoma|      64146|\n",
      "|        State_Oregon|      64147|\n",
      "|  State_Pennsylvania|      64148|\n",
      "|    State_Washington|      64149|\n",
      "|     State_Wisconsin|      64151|\n",
      "|       State_Wyoming|      64152|\n",
      "|      State_Arkansas| 8589998930|\n",
      "|      State_Delaware| 8589998931|\n",
      "|       State_Florida| 8589998932|\n",
      "|       State_Georgia| 8589998933|\n",
      "| State_Massachusetts| 8589998936|\n",
      "|      State_Nebraska| 8589998937|\n",
      "|        State_Nevada| 8589998938|\n",
      "|      State_New York| 8589998939|\n",
      "|State_North Carolina| 8589998940|\n",
      "|State_South Carolina| 8589998941|\n",
      "|  State_South Dakota| 8589998942|\n",
      "|          State_Utah| 8589998943|\n",
      "|       State_Vermont| 8589998944|\n",
      "|      State_Virginia| 8589998945|\n",
      "|        State_Alaska|17179978778|\n",
      "|       State_Arizona|17179978779|\n",
      "|    State_California|17179978780|\n",
      "|State_District of...|17179978781|\n",
      "|          State_Iowa|17179978782|\n",
      "|      State_Kentucky|17179978783|\n",
      "|     State_Louisiana|17179978784|\n",
      "|     State_Minnesota|17179978785|\n",
      "|      State_Missouri|17179978787|\n",
      "|   State_Puerto Rico|17179978791|\n",
      "|  State_Rhode Island|17179978792|\n",
      "|     State_Tennessee|17179978793|\n",
      "+--------------------+-----------+\n",
      "\n"
     ]
    },
    {
     "name": "stderr",
     "output_type": "stream",
     "text": [
      "[Stage 3257:=====================================>                  (2 + 1) / 3]\r"
     ]
    },
    {
     "name": "stdout",
     "output_type": "stream",
     "text": [
      "288338\n"
     ]
    },
    {
     "name": "stderr",
     "output_type": "stream",
     "text": [
      "                                                                                \r"
     ]
    }
   ],
   "source": [
    "from pyspark.sql.functions import col\n",
    "\n",
    "# Reverse the edges\n",
    "reversed_edges = g.edges.select(col(\"dst\").alias(\"src\"), col(\"src\").alias(\"dst\"), col(\"relationship\"))\n",
    "\n",
    "# Add the reversed edges to the graph\n",
    "undirected_graph = GraphFrame(g.vertices, g.edges.union(reversed_edges))\n",
    "\n",
    "# Run connectedComponents on the undirected graph\n",
    "result = undirected_graph.connectedComponents()\n",
    "\n",
    "# Filter the result to only include rows where 'id' starts with 'State'\n",
    "state_result = result.filter(result.id.startswith('State'))\n",
    "\n",
    "# Display the state results\n",
    "state_result.select(\"id\", \"component\").orderBy(\"component\").show(200)\n",
    "\n",
    "# Print the number of connected components (islands)\n",
    "print(result.select(\"component\").distinct().count())"
   ]
  }
 ],
 "metadata": {
  "kernelspec": {
   "display_name": "Python 3",
   "language": "python",
   "name": "python3"
  },
  "language_info": {
   "codemirror_mode": {
    "name": "ipython",
    "version": 3
   },
   "file_extension": ".py",
   "mimetype": "text/x-python",
   "name": "python",
   "nbconvert_exporter": "python",
   "pygments_lexer": "ipython3",
   "version": "3.9.18"
  }
 },
 "nbformat": 4,
 "nbformat_minor": 2
}
