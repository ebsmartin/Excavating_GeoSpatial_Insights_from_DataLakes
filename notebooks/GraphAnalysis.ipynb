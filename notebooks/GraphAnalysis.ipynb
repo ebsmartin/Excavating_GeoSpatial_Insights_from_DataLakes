{
 "cells": [
  {
   "cell_type": "code",
   "execution_count": 1,
   "metadata": {},
   "outputs": [
    {
     "name": "stdout",
     "output_type": "stream",
     "text": [
      "3.5.0\n",
      "/bin/python3.9\n"
     ]
    }
   ],
   "source": [
    "import sys\n",
    "sys.path.append(\"/usr/local/python-env/py39/lib/python3.9/site-packages\")\n",
    "\n",
    "import pyspark\n",
    "print(pyspark.__version__)\n",
    "\n",
    "print(sys.executable)"
   ]
  },
  {
   "cell_type": "code",
   "execution_count": 2,
   "metadata": {},
   "outputs": [],
   "source": [
    "import os\n",
    "\n",
    "os.environ['PYSPARK_PYTHON'] = '/usr/bin/python3.9'"
   ]
  },
  {
   "cell_type": "code",
   "execution_count": 3,
   "metadata": {},
   "outputs": [
    {
     "name": "stdout",
     "output_type": "stream",
     "text": [
      "Apache Sedona version: 1.5.1\n"
     ]
    }
   ],
   "source": [
    "import pkg_resources\n",
    "\n",
    "sedona_version = pkg_resources.get_distribution(\"apache-sedona\").version\n",
    "print(f\"Apache Sedona version: {sedona_version}\")"
   ]
  },
  {
   "cell_type": "code",
   "execution_count": 4,
   "metadata": {},
   "outputs": [
    {
     "name": "stdout",
     "output_type": "stream",
     "text": [
      "/usr/local/spark/latest\n",
      "/usr/bin/python3.9\n"
     ]
    }
   ],
   "source": [
    "print(os.environ['SPARK_HOME'])\n",
    "print(os.environ['PYSPARK_PYTHON'])"
   ]
  },
  {
   "cell_type": "code",
   "execution_count": 5,
   "metadata": {},
   "outputs": [],
   "source": [
    "from pyspark.sql import SparkSession\n",
    "from sedona.register import SedonaRegistrator\n",
    "from sedona.utils import SedonaKryoRegistrator, KryoSerializer\n",
    "from pyspark.sql.functions import col\n",
    "from pyspark.sql import functions as F\n"
   ]
  },
  {
   "cell_type": "code",
   "execution_count": 6,
   "metadata": {},
   "outputs": [
    {
     "name": "stdout",
     "output_type": "stream",
     "text": [
      ":: loading settings :: url = jar:file:/usr/local/spark/3.5.0-with-hadoop3.3/jars/ivy-2.5.1.jar!/org/apache/ivy/core/settings/ivysettings.xml\n"
     ]
    },
    {
     "name": "stderr",
     "output_type": "stream",
     "text": [
      "Ivy Default Cache set to: /s/chopin/l/grad/ebmartin/.ivy2/cache\n",
      "The jars for the packages stored in: /s/chopin/l/grad/ebmartin/.ivy2/jars\n",
      "graphframes#graphframes added as a dependency\n",
      ":: resolving dependencies :: org.apache.spark#spark-submit-parent-8f6d1789-e739-41ca-8497-73e23b826bda;1.0\n",
      "\tconfs: [default]\n",
      "\tfound graphframes#graphframes;0.8.3-spark3.4-s_2.12 in spark-packages\n",
      "\tfound org.slf4j#slf4j-api;1.7.16 in central\n",
      ":: resolution report :: resolve 64ms :: artifacts dl 2ms\n",
      "\t:: modules in use:\n",
      "\tgraphframes#graphframes;0.8.3-spark3.4-s_2.12 from spark-packages in [default]\n",
      "\torg.slf4j#slf4j-api;1.7.16 from central in [default]\n",
      "\t---------------------------------------------------------------------\n",
      "\t|                  |            modules            ||   artifacts   |\n",
      "\t|       conf       | number| search|dwnlded|evicted|| number|dwnlded|\n",
      "\t---------------------------------------------------------------------\n",
      "\t|      default     |   2   |   0   |   0   |   0   ||   2   |   0   |\n",
      "\t---------------------------------------------------------------------\n",
      ":: retrieving :: org.apache.spark#spark-submit-parent-8f6d1789-e739-41ca-8497-73e23b826bda\n",
      "\tconfs: [default]\n",
      "\t0 artifacts copied, 2 already retrieved (0kB/3ms)\n",
      "Setting default log level to \"WARN\".\n",
      "To adjust logging level use sc.setLogLevel(newLevel). For SparkR, use setLogLevel(newLevel).\n"
     ]
    }
   ],
   "source": [
    "spark = SparkSession \\\n",
    "    .builder \\\n",
    "    .appName(\"GraphFramesExample\") \\\n",
    "    .master('spark://hartford:30196') \\\n",
    "    .config(\"spark.jars.packages\", \"graphframes:graphframes:0.8.3-spark3.4-s_2.12\") \\\n",
    "    .config(\"spark.yarn.resourcemanager.address\", \"columbia.cs.colostate.edu:30799\") \\\n",
    "    .getOrCreate()\n",
    "\n",
    "spark.sparkContext.setLogLevel(\"ERROR\")\n",
    "logger = spark._jvm.org.apache.log4j.LogManager.getLogger(__name__)\n"
   ]
  },
  {
   "cell_type": "code",
   "execution_count": 7,
   "metadata": {},
   "outputs": [],
   "source": [
    "# Import the necessary module from py4j to interact with JVM\n",
    "from py4j.java_gateway import java_import\n",
    "\n",
    "# Import the Path class from Hadoop. This class is used to handle file paths in Hadoop.\n",
    "java_import(spark._jvm, 'org.apache.hadoop.fs.Path')\n",
    "\n",
    "fs = spark._jvm.org.apache.hadoop.fs.FileSystem.get(spark._jsc.hadoopConfiguration())"
   ]
  },
  {
   "cell_type": "code",
   "execution_count": 7,
   "metadata": {},
   "outputs": [],
   "source": [
    "def get_csv_df(file_name: str):\n",
    "    data_directory = \"hdfs://hartford.cs.colostate.edu:30181/geospatial/input/knowledge_graphs/\"\n",
    "    print(f\"Processing file: {file_name}\")\n",
    "\n",
    "    if \"Nodes\" in file_name:\n",
    "        schema = \"Node_ID string, Type string\"\n",
    "        df = spark.read.format(\"csv\").option(\"header\", \"true\").schema(schema).load(data_directory + file_name)\n",
    "        df = df.withColumnRenamed(\"Node_ID\", \"id\")  # Rename column for GraphFrame compatibility\n",
    "    elif \"Edges\" in file_name:\n",
    "        schema = \"Subject string, Relationship string, Object string\"\n",
    "        df = spark.read.format(\"csv\").option(\"header\", \"true\").schema(schema).load(data_directory + file_name)\n",
    "        df = df.withColumnRenamed(\"Subject\", \"src\").withColumnRenamed(\"Object\", \"dst\")  # Rename columns for GraphFrame compatibility\n",
    "    else:\n",
    "        df = None\n",
    "\n",
    "    return df\n"
   ]
  },
  {
   "cell_type": "code",
   "execution_count": 8,
   "metadata": {},
   "outputs": [],
   "source": [
    "from graphframes import *"
   ]
  },
  {
   "cell_type": "code",
   "execution_count": 9,
   "metadata": {},
   "outputs": [
    {
     "name": "stdout",
     "output_type": "stream",
     "text": [
      "Processing file: BaseNodes.csv\n",
      "Processing file: BaseEdges.csv\n"
     ]
    }
   ],
   "source": [
    "# Load the nodes and edges data\n",
    "nodes_df = get_csv_df(\"BaseNodes.csv\")\n",
    "edges_df = get_csv_df(\"BaseEdges.csv\")"
   ]
  },
  {
   "cell_type": "code",
   "execution_count": 10,
   "metadata": {},
   "outputs": [
    {
     "name": "stdout",
     "output_type": "stream",
     "text": [
      "['id', 'Type']\n",
      "['src', 'Relationship', 'dst']\n"
     ]
    }
   ],
   "source": [
    "print(nodes_df.columns)\n",
    "print(edges_df.columns)"
   ]
  },
  {
   "cell_type": "code",
   "execution_count": 11,
   "metadata": {},
   "outputs": [
    {
     "name": "stderr",
     "output_type": "stream",
     "text": [
      "                                                                                \r"
     ]
    },
    {
     "name": "stdout",
     "output_type": "stream",
     "text": [
      "+--------------------+-----+\n",
      "|                  id| Type|\n",
      "+--------------------+-----+\n",
      "|BlockGroup_010890...|Block|\n",
      "|BlockGroup_011010...|Block|\n",
      "|BlockGroup_011250...|Block|\n",
      "|BlockGroup_010310...|Block|\n",
      "|BlockGroup_010830...|Block|\n",
      "|BlockGroup_010439...|Block|\n",
      "|BlockGroup_010730...|Block|\n",
      "|BlockGroup_011170...|Block|\n",
      "|BlockGroup_011030...|Block|\n",
      "|BlockGroup_010970...|Block|\n",
      "|BlockGroup_010770...|Block|\n",
      "|BlockGroup_010259...|Block|\n",
      "|BlockGroup_010730...|Block|\n",
      "|BlockGroup_010199...|Block|\n",
      "|BlockGroup_010950...|Block|\n",
      "|BlockGroup_010499...|Block|\n",
      "|BlockGroup_010730...|Block|\n",
      "|BlockGroup_010670...|Block|\n",
      "|BlockGroup_011010...|Block|\n",
      "|BlockGroup_010890...|Block|\n",
      "+--------------------+-----+\n",
      "only showing top 20 rows\n",
      "\n"
     ]
    },
    {
     "name": "stderr",
     "output_type": "stream",
     "text": [
      "[Stage 1:>                                                          (0 + 1) / 1]\r"
     ]
    },
    {
     "name": "stdout",
     "output_type": "stream",
     "text": [
      "+--------------------+------------+-----------------+\n",
      "|                 src|Relationship|              dst|\n",
      "+--------------------+------------+-----------------+\n",
      "|BlockGroup_010730...|    isPartOf|Tract_01073010500|\n",
      "|BlockGroup_010730...|    isPartOf|Tract_01073010703|\n",
      "|BlockGroup_010970...|    isPartOf|Tract_01097005100|\n",
      "|BlockGroup_011170...|    isPartOf|Tract_01117030616|\n",
      "|BlockGroup_010770...|    isPartOf|Tract_01077011605|\n",
      "|BlockGroup_010730...|    isPartOf|Tract_01073005000|\n",
      "|BlockGroup_011010...|    isPartOf|Tract_01101001100|\n",
      "|BlockGroup_010810...|    isPartOf|Tract_01081040602|\n",
      "|BlockGroup_010150...|    isPartOf|Tract_01015001300|\n",
      "|BlockGroup_010139...|    isPartOf|Tract_01013953200|\n",
      "|BlockGroup_010890...|    isPartOf|Tract_01089010625|\n",
      "|BlockGroup_010030...|    isPartOf|Tract_01003011503|\n",
      "|BlockGroup_011250...|    isPartOf|Tract_01125011402|\n",
      "|BlockGroup_010970...|    isPartOf|Tract_01097003301|\n",
      "|BlockGroup_010030...|    isPartOf|Tract_01003010100|\n",
      "|BlockGroup_010890...|    isPartOf|Tract_01089010625|\n",
      "|BlockGroup_010970...|    isPartOf|Tract_01097000600|\n",
      "|BlockGroup_010479...|    isPartOf|Tract_01047957000|\n",
      "|BlockGroup_010730...|    isPartOf|Tract_01073010801|\n",
      "|BlockGroup_010970...|    isPartOf|Tract_01097003406|\n",
      "+--------------------+------------+-----------------+\n",
      "only showing top 20 rows\n",
      "\n"
     ]
    },
    {
     "name": "stderr",
     "output_type": "stream",
     "text": [
      "                                                                                \r"
     ]
    }
   ],
   "source": [
    "nodes_df.show()\n",
    "edges_df.show()"
   ]
  },
  {
   "cell_type": "code",
   "execution_count": 30,
   "metadata": {},
   "outputs": [],
   "source": [
    "g = GraphFrame(nodes_df, edges_df)\n",
    "\n",
    "# Set checkpoint directory\n",
    "spark.sparkContext.setCheckpointDir('hdfs://hartford.cs.colostate.edu:30181/geospatial/input/knowledge_graphs/checkpoints/')\n"
   ]
  },
  {
   "cell_type": "code",
   "execution_count": 31,
   "metadata": {},
   "outputs": [
    {
     "name": "stdout",
     "output_type": "stream",
     "text": [
      "+--------------+------------+-----------------+\n",
      "|           src|Relationship|              dst|\n",
      "+--------------+------------+-----------------+\n",
      "|State_Colorado|    Contains| County_Archuleta|\n",
      "|State_Colorado|    Contains|  County_La Plata|\n",
      "|State_Colorado|    Contains| County_Montezuma|\n",
      "|State_Colorado|    Contains|County_Rio Grande|\n",
      "|State_Colorado|    Contains|   County_Mineral|\n",
      "|State_Colorado|    Contains|   County_Dolores|\n",
      "|State_Colorado|    Contains|  County_San Juan|\n",
      "|State_Colorado|    Contains|  County_Hinsdale|\n",
      "|State_Colorado|    Contains|County_San Miguel|\n",
      "|State_Colorado|    Contains|     County_Ouray|\n",
      "|State_Colorado|    Contains|   County_Conejos|\n",
      "|State_Colorado|    Contains|  County_Costilla|\n",
      "|State_Colorado|    Contains|   County_Alamosa|\n",
      "|State_Colorado|    Contains|  County_Huerfano|\n",
      "|State_Colorado|    Contains|  County_Saguache|\n",
      "|State_Colorado|    Contains|    County_Custer|\n",
      "|State_Colorado|    Contains|    County_Pueblo|\n",
      "|State_Colorado|    Contains|   County_Fremont|\n",
      "|State_Colorado|    Contains|   County_Chaffee|\n",
      "|State_Colorado|    Contains|   County_El Paso|\n",
      "+--------------+------------+-----------------+\n",
      "only showing top 20 rows\n",
      "\n"
     ]
    }
   ],
   "source": [
    "counties_in_state = edges_df \\\n",
    "    .filter((col(\"src\") == \"State_Colorado\") & (col(\"Relationship\") == \"Contains\")) \\\n",
    "\n",
    "counties_in_state.show()"
   ]
  },
  {
   "cell_type": "markdown",
   "metadata": {},
   "source": [
    "# =========================================================================\n",
    "\n",
    "# GRAPH METRICS AND ANALYSIS\n",
    "\n",
    "# =========================================================================\n",
    "\n",
    "\n",
    "# Aggregation Queries"
   ]
  },
  {
   "cell_type": "code",
   "execution_count": 19,
   "metadata": {},
   "outputs": [
    {
     "ename": "AnalysisException",
     "evalue": "[PATH_NOT_FOUND] Path does not exist: hdfs://hartford.cs.colostate.edu:30181/user/ebmartin/demographics.csv.",
     "output_type": "error",
     "traceback": [
      "\u001b[0;31m---------------------------------------------------------------------------\u001b[0m",
      "\u001b[0;31mAnalysisException\u001b[0m                         Traceback (most recent call last)",
      "Cell \u001b[0;32mIn[19], line 1\u001b[0m\n\u001b[0;32m----> 1\u001b[0m demographics_df \u001b[38;5;241m=\u001b[39m \u001b[43mspark\u001b[49m\u001b[38;5;241;43m.\u001b[39;49m\u001b[43mread\u001b[49m\u001b[38;5;241;43m.\u001b[39;49m\u001b[43mcsv\u001b[49m\u001b[43m(\u001b[49m\u001b[38;5;124;43m\"\u001b[39;49m\u001b[38;5;124;43mdemographics.csv\u001b[39;49m\u001b[38;5;124;43m\"\u001b[39;49m\u001b[43m,\u001b[49m\u001b[43m \u001b[49m\u001b[43mheader\u001b[49m\u001b[38;5;241;43m=\u001b[39;49m\u001b[38;5;28;43;01mTrue\u001b[39;49;00m\u001b[43m,\u001b[49m\u001b[43m \u001b[49m\u001b[43minferSchema\u001b[49m\u001b[38;5;241;43m=\u001b[39;49m\u001b[38;5;28;43;01mTrue\u001b[39;49;00m\u001b[43m)\u001b[49m\n\u001b[1;32m      3\u001b[0m \u001b[38;5;66;03m# Aggregate data for each tract\u001b[39;00m\n\u001b[1;32m      4\u001b[0m tract_data \u001b[38;5;241m=\u001b[39m demographics_df \\\n\u001b[1;32m      5\u001b[0m     \u001b[38;5;241m.\u001b[39mjoin(edges_df, edges_df[\u001b[38;5;124m\"\u001b[39m\u001b[38;5;124mdst\u001b[39m\u001b[38;5;124m\"\u001b[39m] \u001b[38;5;241m==\u001b[39m demographics_df[\u001b[38;5;124m\"\u001b[39m\u001b[38;5;124mBlockGroupID\u001b[39m\u001b[38;5;124m\"\u001b[39m]) \\\n\u001b[1;32m      6\u001b[0m     \u001b[38;5;241m.\u001b[39mgroupBy(\u001b[38;5;124m\"\u001b[39m\u001b[38;5;124msrc\u001b[39m\u001b[38;5;124m\"\u001b[39m) \\\n\u001b[1;32m      7\u001b[0m     \u001b[38;5;241m.\u001b[39magg(\u001b[38;5;28msum\u001b[39m(\u001b[38;5;124m\"\u001b[39m\u001b[38;5;124mPopulation\u001b[39m\u001b[38;5;124m\"\u001b[39m)\u001b[38;5;241m.\u001b[39malias(\u001b[38;5;124m\"\u001b[39m\u001b[38;5;124mTotalPopulation\u001b[39m\u001b[38;5;124m\"\u001b[39m))\n",
      "File \u001b[0;32m~/.local/lib/python3.9/site-packages/pyspark/sql/readwriter.py:740\u001b[0m, in \u001b[0;36mDataFrameReader.csv\u001b[0;34m(self, path, schema, sep, encoding, quote, escape, comment, header, inferSchema, ignoreLeadingWhiteSpace, ignoreTrailingWhiteSpace, nullValue, nanValue, positiveInf, negativeInf, dateFormat, timestampFormat, maxColumns, maxCharsPerColumn, maxMalformedLogPerPartition, mode, columnNameOfCorruptRecord, multiLine, charToEscapeQuoteEscaping, samplingRatio, enforceSchema, emptyValue, locale, lineSep, pathGlobFilter, recursiveFileLookup, modifiedBefore, modifiedAfter, unescapedQuoteHandling)\u001b[0m\n\u001b[1;32m    738\u001b[0m \u001b[38;5;28;01mif\u001b[39;00m \u001b[38;5;28mtype\u001b[39m(path) \u001b[38;5;241m==\u001b[39m \u001b[38;5;28mlist\u001b[39m:\n\u001b[1;32m    739\u001b[0m     \u001b[38;5;28;01massert\u001b[39;00m \u001b[38;5;28mself\u001b[39m\u001b[38;5;241m.\u001b[39m_spark\u001b[38;5;241m.\u001b[39m_sc\u001b[38;5;241m.\u001b[39m_jvm \u001b[38;5;129;01mis\u001b[39;00m \u001b[38;5;129;01mnot\u001b[39;00m \u001b[38;5;28;01mNone\u001b[39;00m\n\u001b[0;32m--> 740\u001b[0m     \u001b[38;5;28;01mreturn\u001b[39;00m \u001b[38;5;28mself\u001b[39m\u001b[38;5;241m.\u001b[39m_df(\u001b[38;5;28;43mself\u001b[39;49m\u001b[38;5;241;43m.\u001b[39;49m\u001b[43m_jreader\u001b[49m\u001b[38;5;241;43m.\u001b[39;49m\u001b[43mcsv\u001b[49m\u001b[43m(\u001b[49m\u001b[38;5;28;43mself\u001b[39;49m\u001b[38;5;241;43m.\u001b[39;49m\u001b[43m_spark\u001b[49m\u001b[38;5;241;43m.\u001b[39;49m\u001b[43m_sc\u001b[49m\u001b[38;5;241;43m.\u001b[39;49m\u001b[43m_jvm\u001b[49m\u001b[38;5;241;43m.\u001b[39;49m\u001b[43mPythonUtils\u001b[49m\u001b[38;5;241;43m.\u001b[39;49m\u001b[43mtoSeq\u001b[49m\u001b[43m(\u001b[49m\u001b[43mpath\u001b[49m\u001b[43m)\u001b[49m\u001b[43m)\u001b[49m)\n\u001b[1;32m    741\u001b[0m \u001b[38;5;28;01melif\u001b[39;00m \u001b[38;5;28misinstance\u001b[39m(path, RDD):\n\u001b[1;32m    743\u001b[0m     \u001b[38;5;28;01mdef\u001b[39;00m \u001b[38;5;21mfunc\u001b[39m(iterator):\n",
      "File \u001b[0;32m~/.local/lib/python3.9/site-packages/py4j/java_gateway.py:1322\u001b[0m, in \u001b[0;36mJavaMember.__call__\u001b[0;34m(self, *args)\u001b[0m\n\u001b[1;32m   1316\u001b[0m command \u001b[38;5;241m=\u001b[39m proto\u001b[38;5;241m.\u001b[39mCALL_COMMAND_NAME \u001b[38;5;241m+\u001b[39m\\\n\u001b[1;32m   1317\u001b[0m     \u001b[38;5;28mself\u001b[39m\u001b[38;5;241m.\u001b[39mcommand_header \u001b[38;5;241m+\u001b[39m\\\n\u001b[1;32m   1318\u001b[0m     args_command \u001b[38;5;241m+\u001b[39m\\\n\u001b[1;32m   1319\u001b[0m     proto\u001b[38;5;241m.\u001b[39mEND_COMMAND_PART\n\u001b[1;32m   1321\u001b[0m answer \u001b[38;5;241m=\u001b[39m \u001b[38;5;28mself\u001b[39m\u001b[38;5;241m.\u001b[39mgateway_client\u001b[38;5;241m.\u001b[39msend_command(command)\n\u001b[0;32m-> 1322\u001b[0m return_value \u001b[38;5;241m=\u001b[39m \u001b[43mget_return_value\u001b[49m\u001b[43m(\u001b[49m\n\u001b[1;32m   1323\u001b[0m \u001b[43m    \u001b[49m\u001b[43manswer\u001b[49m\u001b[43m,\u001b[49m\u001b[43m \u001b[49m\u001b[38;5;28;43mself\u001b[39;49m\u001b[38;5;241;43m.\u001b[39;49m\u001b[43mgateway_client\u001b[49m\u001b[43m,\u001b[49m\u001b[43m \u001b[49m\u001b[38;5;28;43mself\u001b[39;49m\u001b[38;5;241;43m.\u001b[39;49m\u001b[43mtarget_id\u001b[49m\u001b[43m,\u001b[49m\u001b[43m \u001b[49m\u001b[38;5;28;43mself\u001b[39;49m\u001b[38;5;241;43m.\u001b[39;49m\u001b[43mname\u001b[49m\u001b[43m)\u001b[49m\n\u001b[1;32m   1325\u001b[0m \u001b[38;5;28;01mfor\u001b[39;00m temp_arg \u001b[38;5;129;01min\u001b[39;00m temp_args:\n\u001b[1;32m   1326\u001b[0m     \u001b[38;5;28;01mif\u001b[39;00m \u001b[38;5;28mhasattr\u001b[39m(temp_arg, \u001b[38;5;124m\"\u001b[39m\u001b[38;5;124m_detach\u001b[39m\u001b[38;5;124m\"\u001b[39m):\n",
      "File \u001b[0;32m~/.local/lib/python3.9/site-packages/pyspark/errors/exceptions/captured.py:185\u001b[0m, in \u001b[0;36mcapture_sql_exception.<locals>.deco\u001b[0;34m(*a, **kw)\u001b[0m\n\u001b[1;32m    181\u001b[0m converted \u001b[38;5;241m=\u001b[39m convert_exception(e\u001b[38;5;241m.\u001b[39mjava_exception)\n\u001b[1;32m    182\u001b[0m \u001b[38;5;28;01mif\u001b[39;00m \u001b[38;5;129;01mnot\u001b[39;00m \u001b[38;5;28misinstance\u001b[39m(converted, UnknownException):\n\u001b[1;32m    183\u001b[0m     \u001b[38;5;66;03m# Hide where the exception came from that shows a non-Pythonic\u001b[39;00m\n\u001b[1;32m    184\u001b[0m     \u001b[38;5;66;03m# JVM exception message.\u001b[39;00m\n\u001b[0;32m--> 185\u001b[0m     \u001b[38;5;28;01mraise\u001b[39;00m converted \u001b[38;5;28;01mfrom\u001b[39;00m \u001b[38;5;28;01mNone\u001b[39;00m\n\u001b[1;32m    186\u001b[0m \u001b[38;5;28;01melse\u001b[39;00m:\n\u001b[1;32m    187\u001b[0m     \u001b[38;5;28;01mraise\u001b[39;00m\n",
      "\u001b[0;31mAnalysisException\u001b[0m: [PATH_NOT_FOUND] Path does not exist: hdfs://hartford.cs.colostate.edu:30181/user/ebmartin/demographics.csv."
     ]
    }
   ],
   "source": [
    "demographics_df = spark.read.csv(\"demographics.csv\", header=True, inferSchema=True)\n",
    "\n",
    "# Aggregate data for each tract\n",
    "tract_data = demographics_df \\\n",
    "    .join(edges_df, edges_df[\"dst\"] == demographics_df[\"BlockGroupID\"]) \\\n",
    "    .groupBy(\"src\") \\\n",
    "    .agg(sum(\"Population\").alias(\"TotalPopulation\"))"
   ]
  },
  {
   "cell_type": "markdown",
   "metadata": {},
   "source": [
    "# Proximity Queries"
   ]
  },
  {
   "cell_type": "code",
   "execution_count": null,
   "metadata": {},
   "outputs": [],
   "source": [
    "# Assuming 'lat' and 'lon' columns exist and 'point_lat' and 'point_lon' are given\n",
    "from pyspark.sql.functions import expr\n",
    "\n",
    "radius_query = nodes_df.filter(\n",
    "    expr(f\"ST_Distance(ST_Point(lon, lat), ST_Point({point_lon}, {point_lat})) <= {radius}\")\n",
    ")"
   ]
  },
  {
   "cell_type": "markdown",
   "metadata": {},
   "source": [
    "# In-degreee"
   ]
  },
  {
   "cell_type": "code",
   "execution_count": 14,
   "metadata": {},
   "outputs": [
    {
     "name": "stdout",
     "output_type": "stream",
     "text": [
      "In-degree of each vertex:\n"
     ]
    },
    {
     "name": "stderr",
     "output_type": "stream",
     "text": [
      "[Stage 4:============================================>              (6 + 2) / 8]\r"
     ]
    },
    {
     "name": "stdout",
     "output_type": "stream",
     "text": [
      "+--------------------+--------+\n",
      "|                  id|inDegree|\n",
      "+--------------------+--------+\n",
      "|   Tract_48201312901|       3|\n",
      "|   Tract_48453041800|       4|\n",
      "|   Tract_48339694204|       4|\n",
      "|   Tract_48367140413|       3|\n",
      "|   Tract_48453034700|       4|\n",
      "|   Tract_48121020119|       3|\n",
      "|BlockGroup_780309...|       1|\n",
      "|   Tract_49053270401|       4|\n",
      "|BlockGroup_490351...|       1|\n",
      "|BlockGroup_490251...|       1|\n",
      "|BlockGroup_490351...|       1|\n",
      "|BlockGroup_490490...|       1|\n",
      "|BlockGroup_490399...|       1|\n",
      "|BlockGroup_490490...|       1|\n",
      "|BlockGroup_490490...|       1|\n",
      "|BlockGroup_490111...|       1|\n",
      "|BlockGroup_490111...|       1|\n",
      "|BlockGroup_490351...|       1|\n",
      "|BlockGroup_490351...|       1|\n",
      "|BlockGroup_490251...|       1|\n",
      "+--------------------+--------+\n",
      "only showing top 20 rows\n",
      "\n"
     ]
    },
    {
     "name": "stderr",
     "output_type": "stream",
     "text": [
      "                                                                                \r"
     ]
    }
   ],
   "source": [
    "# Run a simple graph algorithm (optional)\n",
    "print(\"In-degree of each vertex:\")\n",
    "g.inDegrees.show()"
   ]
  },
  {
   "cell_type": "markdown",
   "metadata": {},
   "source": [
    "# Page Rank Algorithm\n",
    "\n",
    "Notice the namespace collisions."
   ]
  },
  {
   "cell_type": "code",
   "execution_count": 15,
   "metadata": {},
   "outputs": [
    {
     "name": "stderr",
     "output_type": "stream",
     "text": [
      "                                                                                \r"
     ]
    },
    {
     "name": "stdout",
     "output_type": "stream",
     "text": [
      "+--------------+------+-----------------+\n",
      "|            id|  Type|         pagerank|\n",
      "+--------------+------+-----------------+\n",
      "|  County_Wayne|County|694.5898103981434|\n",
      "|  County_Wayne|County|694.5898103981434|\n",
      "|  County_Wayne|County|694.5898103981434|\n",
      "|  County_Wayne|County|694.5898103981434|\n",
      "|  County_Wayne|County|694.5898103981434|\n",
      "|  County_Wayne|County|694.5898103981434|\n",
      "|  County_Wayne|County|694.5898103981434|\n",
      "|  County_Wayne|County|694.5898103981434|\n",
      "|  County_Wayne|County|694.5898103981434|\n",
      "|  County_Wayne|County|694.5898103981434|\n",
      "|  County_Wayne|County|694.5898103981434|\n",
      "|  County_Wayne|County|694.5898103981434|\n",
      "|  County_Wayne|County|694.5898103981434|\n",
      "|  County_Wayne|County|694.5898103981434|\n",
      "|  County_Wayne|County|694.5898103981434|\n",
      "| County_Harris|County|629.4496687056359|\n",
      "| County_Harris|County|629.4496687056359|\n",
      "|County_Suffolk|County|405.5873200441693|\n",
      "|County_Suffolk|County|405.5873200441693|\n",
      "| County_Monroe|County|  383.69214961953|\n",
      "+--------------+------+-----------------+\n",
      "only showing top 20 rows\n",
      "\n",
      "+--------------------+-----+------------------+\n",
      "|                  id| Type|          pagerank|\n",
      "+--------------------+-----+------------------+\n",
      "|   Tract_42069100500|Tract|1.8358762590239928|\n",
      "|BlockGroup_051074...|Block|0.5666008287374715|\n",
      "|BlockGroup_320030...|Block|0.5666008287374715|\n",
      "|BlockGroup_080319...|Block|0.5666008287374715|\n",
      "|BlockGroup_391010...|Block|0.5666008287374715|\n",
      "|BlockGroup_483379...|Block|0.5666008287374715|\n",
      "|BlockGroup_080770...|Block|1.9749063040728307|\n",
      "|   Tract_34039035500|Tract| 5.248893557777225|\n",
      "|   Tract_53001950100|Tract|3.5746981898856887|\n",
      "|BlockGroup_091900...|Block|1.2872778396238433|\n",
      "|BlockGroup_483030...|Block|0.5666008287374715|\n",
      "|BlockGroup_010730...|Block|0.5666008287374715|\n",
      "|   Tract_05119004226|Tract|0.5666008287374715|\n",
      "|BlockGroup_450439...|Block|0.5666008287374715|\n",
      "|BlockGroup_530330...|Block|0.5666008287374715|\n",
      "|   Tract_47125101702|Tract|3.5746981898856887|\n",
      "|BlockGroup_260992...|Block|0.5666008287374715|\n",
      "|   Tract_48439113716|Tract|1.7896089517984284|\n",
      "|BlockGroup_420110...|Block|0.5666008287374715|\n",
      "|BlockGroup_482150...|Block|2.7412522956709675|\n",
      "+--------------------+-----+------------------+\n",
      "only showing top 20 rows\n",
      "\n"
     ]
    },
    {
     "name": "stderr",
     "output_type": "stream",
     "text": [
      "                                                                                \r"
     ]
    },
    {
     "name": "stdout",
     "output_type": "stream",
     "text": [
      "+-----------------+------------+--------------------+-------------------+\n",
      "|              src|Relationship|                 dst|             weight|\n",
      "+-----------------+------------+--------------------+-------------------+\n",
      "|Tract_01003010906|    Contains|BlockGroup_010030...|                0.5|\n",
      "|Tract_01003011419|    Contains|BlockGroup_010030...|                0.5|\n",
      "|Tract_01003011419|    Contains|BlockGroup_010030...|                0.5|\n",
      "|Tract_01005950400|    Contains|BlockGroup_010059...| 0.3333333333333333|\n",
      "|Tract_01009050105|    Contains|BlockGroup_010090...|                0.5|\n",
      "|Tract_01015000600|    Contains|BlockGroup_010150...|                0.5|\n",
      "|Tract_01015001102|    Contains|BlockGroup_010150...|                0.5|\n",
      "|Tract_01015001201|    Contains|BlockGroup_010150...|                0.5|\n",
      "|Tract_01015002200|    Contains|BlockGroup_010150...|                1.0|\n",
      "|Tract_01015002400|    Contains|BlockGroup_010150...| 0.3333333333333333|\n",
      "|Tract_01015981903|    Contains|BlockGroup_010159...|                1.0|\n",
      "|Tract_01019955802|    Contains|BlockGroup_010199...|                1.0|\n",
      "|Tract_01025957901|    Contains|BlockGroup_010259...|0.14285714285714285|\n",
      "|Tract_01031010200|    Contains|BlockGroup_010310...|                0.5|\n",
      "|Tract_01031010600|    Contains|BlockGroup_010310...|                1.0|\n",
      "|Tract_01033020500|    Contains|BlockGroup_010330...|                1.0|\n",
      "|Tract_01039962400|    Contains|BlockGroup_010399...|0.16666666666666666|\n",
      "|Tract_01041963700|    Contains|BlockGroup_010419...|               0.25|\n",
      "|Tract_01043965100|    Contains|BlockGroup_010439...|                0.5|\n",
      "|Tract_01045021300|    Contains|BlockGroup_010450...|                0.5|\n",
      "+-----------------+------------+--------------------+-------------------+\n",
      "only showing top 20 rows\n",
      "\n"
     ]
    }
   ],
   "source": [
    "# Graph Frames page rank \n",
    "results = g.pageRank(resetProbability=0.15, tol=0.01)\n",
    "results.vertices.orderBy(F.desc(\"pagerank\")).show()\n",
    "results.vertices.show()\n",
    "results.edges.show()\n"
   ]
  },
  {
   "cell_type": "code",
   "execution_count": 16,
   "metadata": {},
   "outputs": [
    {
     "name": "stderr",
     "output_type": "stream",
     "text": [
      "                                                                                \r"
     ]
    },
    {
     "name": "stdout",
     "output_type": "stream",
     "text": [
      "+-----------------+------------+-------------------+\n",
      "|              src|Relationship|                dst|\n",
      "+-----------------+------------+-------------------+\n",
      "|Tract_01127021100|    isPartOf|      County_Walker|\n",
      "|Tract_01127021000|    isPartOf|      County_Walker|\n",
      "|Tract_01127021600|    isPartOf|      County_Walker|\n",
      "|Tract_01127021300|    isPartOf|      County_Walker|\n",
      "|Tract_01127021400|    isPartOf|      County_Walker|\n",
      "|Tract_01127021500|    isPartOf|      County_Walker|\n",
      "|Tract_01127021700|    isPartOf|      County_Walker|\n",
      "|Tract_01127021800|    isPartOf|      County_Walker|\n",
      "|Tract_01127020100|    isPartOf|      County_Walker|\n",
      "|Tract_01127020600|    isPartOf|      County_Walker|\n",
      "|Tract_01127020400|    isPartOf|      County_Walker|\n",
      "|Tract_01127021900|    isPartOf|      County_Walker|\n",
      "|Tract_01127021200|    isPartOf|      County_Walker|\n",
      "|Tract_01127020301|    isPartOf|      County_Walker|\n",
      "|Tract_01127020801|    isPartOf|      County_Walker|\n",
      "|Tract_01127020700|    isPartOf|      County_Walker|\n",
      "|Tract_01127020200|    isPartOf|      County_Walker|\n",
      "|Tract_01127020302|    isPartOf|      County_Walker|\n",
      "|Tract_01127020802|    isPartOf|      County_Walker|\n",
      "|Tract_01127020900|    isPartOf|      County_Walker|\n",
      "|Tract_01129044200|    isPartOf|  County_Washington|\n",
      "|Tract_01129044100|    isPartOf|  County_Washington|\n",
      "|Tract_01129044300|    isPartOf|  County_Washington|\n",
      "|Tract_01129044000|    isPartOf|  County_Washington|\n",
      "|Tract_01129043900|    isPartOf|  County_Washington|\n",
      "|    State_Alabama|    Contains|  County_Washington|\n",
      "|    State_Alabama|    Contains|      County_Walker|\n",
      "|Tract_02158000100|    isPartOf|County_Wade Hampton|\n",
      "|     State_Alaska|    Contains|County_Wade Hampton|\n",
      "|Tract_05143011103|    isPartOf|  County_Washington|\n",
      "|Tract_05143011107|    isPartOf|  County_Washington|\n",
      "|Tract_05143011006|    isPartOf|  County_Washington|\n",
      "|Tract_05143011105|    isPartOf|  County_Washington|\n",
      "|Tract_05143011104|    isPartOf|  County_Washington|\n",
      "|Tract_05143010521|    isPartOf|  County_Washington|\n",
      "|Tract_05143011106|    isPartOf|  County_Washington|\n",
      "|Tract_05143010112|    isPartOf|  County_Washington|\n",
      "|Tract_05143010109|    isPartOf|  County_Washington|\n",
      "|Tract_05143010101|    isPartOf|  County_Washington|\n",
      "|Tract_05143011004|    isPartOf|  County_Washington|\n",
      "|Tract_05143011003|    isPartOf|  County_Washington|\n",
      "|Tract_05143011002|    isPartOf|  County_Washington|\n",
      "|Tract_05143011005|    isPartOf|  County_Washington|\n",
      "|Tract_05143010513|    isPartOf|  County_Washington|\n",
      "|Tract_05143010514|    isPartOf|  County_Washington|\n",
      "|Tract_05143010515|    isPartOf|  County_Washington|\n",
      "|Tract_05143010520|    isPartOf|  County_Washington|\n",
      "|Tract_05143010508|    isPartOf|  County_Washington|\n",
      "|Tract_05143011301|    isPartOf|  County_Washington|\n",
      "|Tract_05143011302|    isPartOf|  County_Washington|\n",
      "|Tract_05143010113|    isPartOf|  County_Washington|\n",
      "|Tract_05143010601|    isPartOf|  County_Washington|\n",
      "|Tract_05143010110|    isPartOf|  County_Washington|\n",
      "|Tract_05143010111|    isPartOf|  County_Washington|\n",
      "|Tract_05143010704|    isPartOf|  County_Washington|\n",
      "|Tract_05143010706|    isPartOf|  County_Washington|\n",
      "|Tract_05143010516|    isPartOf|  County_Washington|\n",
      "|Tract_05143010602|    isPartOf|  County_Washington|\n",
      "|Tract_05143010107|    isPartOf|  County_Washington|\n",
      "|Tract_05143010703|    isPartOf|  County_Washington|\n",
      "|Tract_05143010517|    isPartOf|  County_Washington|\n",
      "|Tract_05143010705|    isPartOf|  County_Washington|\n",
      "|Tract_05143010115|    isPartOf|  County_Washington|\n",
      "|Tract_05143010108|    isPartOf|  County_Washington|\n",
      "|Tract_05143010114|    isPartOf|  County_Washington|\n",
      "|Tract_05143010511|    isPartOf|  County_Washington|\n",
      "|Tract_05143010405|    isPartOf|  County_Washington|\n",
      "|Tract_05143010303|    isPartOf|  County_Washington|\n",
      "|Tract_05143010305|    isPartOf|  County_Washington|\n",
      "|Tract_05143010304|    isPartOf|  County_Washington|\n",
      "|Tract_05143010404|    isPartOf|  County_Washington|\n",
      "|Tract_05143010512|    isPartOf|  County_Washington|\n",
      "|Tract_05143010306|    isPartOf|  County_Washington|\n",
      "|Tract_05143010307|    isPartOf|  County_Washington|\n",
      "|Tract_05143011200|    isPartOf|  County_Washington|\n",
      "|Tract_05143010402|    isPartOf|  County_Washington|\n",
      "|Tract_05143010518|    isPartOf|  County_Washington|\n",
      "|Tract_05143010510|    isPartOf|  County_Washington|\n",
      "|Tract_05143010501|    isPartOf|  County_Washington|\n",
      "|Tract_05143010202|    isPartOf|  County_Washington|\n",
      "|Tract_05143010519|    isPartOf|  County_Washington|\n",
      "|Tract_05143010401|    isPartOf|  County_Washington|\n",
      "|Tract_05143010201|    isPartOf|  County_Washington|\n",
      "|   State_Arkansas|    Contains|  County_Washington|\n",
      "|Tract_08121924100|    isPartOf|  County_Washington|\n",
      "|Tract_08121924200|    isPartOf|  County_Washington|\n",
      "|   State_Colorado|    Contains|  County_Washington|\n",
      "|Tract_12129010102|    isPartOf|     County_Wakulla|\n",
      "|Tract_12129010205|    isPartOf|     County_Wakulla|\n",
      "|Tract_12129010207|    isPartOf|     County_Wakulla|\n",
      "|Tract_12129010204|    isPartOf|     County_Wakulla|\n",
      "|Tract_12129010101|    isPartOf|     County_Wakulla|\n",
      "|Tract_12129010206|    isPartOf|     County_Wakulla|\n",
      "|Tract_12129010208|    isPartOf|     County_Wakulla|\n",
      "|Tract_12129010209|    isPartOf|     County_Wakulla|\n",
      "|Tract_12133970301|    isPartOf|  County_Washington|\n",
      "|Tract_12133970302|    isPartOf|  County_Washington|\n",
      "|Tract_12133970303|    isPartOf|  County_Washington|\n",
      "|Tract_12133970200|    isPartOf|  County_Washington|\n",
      "|Tract_12133970102|    isPartOf|  County_Washington|\n",
      "+-----------------+------------+-------------------+\n",
      "only showing top 100 rows\n",
      "\n"
     ]
    },
    {
     "name": "stderr",
     "output_type": "stream",
     "text": [
      "                                                                                \r"
     ]
    }
   ],
   "source": [
    "g.edges.filter(\"dst LIKE 'County_Wa%'\").show(100)"
   ]
  },
  {
   "cell_type": "markdown",
   "metadata": {},
   "source": [
    "# Shortest paths:\n",
    "\n",
    "Computes the shortest paths from each vertex to the given set of landmark vertices."
   ]
  },
  {
   "cell_type": "code",
   "execution_count": null,
   "metadata": {},
   "outputs": [
    {
     "name": "stderr",
     "output_type": "stream",
     "text": [
      "                                                                                \r"
     ]
    },
    {
     "name": "stdout",
     "output_type": "stream",
     "text": [
      "+--------------------+-----+-------------------+\n",
      "|                  id| Type|          distances|\n",
      "+--------------------+-----+-------------------+\n",
      "|BlockGroup_181270...|Block|                 {}|\n",
      "|   Tract_42029302703|Tract|                 {}|\n",
      "|BlockGroup_230310...|Block|                 {}|\n",
      "|BlockGroup_260172...|Block|                 {}|\n",
      "|BlockGroup_360290...|Block|                 {}|\n",
      "|BlockGroup_360593...|Block|                 {}|\n",
      "|BlockGroup_060371...|Block|                 {}|\n",
      "|   Tract_42041011602|Tract|{County_Wayne -> 5}|\n",
      "|BlockGroup_160139...|Block|                 {}|\n",
      "|BlockGroup_060376...|Block|                 {}|\n",
      "|   Tract_29510127800|Tract|                 {}|\n",
      "|BlockGroup_291833...|Block|                 {}|\n",
      "|   Tract_42055012100|Tract|                 {}|\n",
      "|BlockGroup_200910...|Block|                 {}|\n",
      "|BlockGroup_470010...|Block|                 {}|\n",
      "|BlockGroup_280059...|Block|                 {}|\n",
      "|BlockGroup_060014...|Block|                 {}|\n",
      "|   Tract_39155931100|Tract|{County_Wayne -> 3}|\n",
      "|BlockGroup_060770...|Block|                 {}|\n",
      "|BlockGroup_220050...|Block|                 {}|\n",
      "+--------------------+-----+-------------------+\n",
      "only showing top 20 rows\n",
      "\n"
     ]
    }
   ],
   "source": [
    "results = g.shortestPaths(landmarks=[\"County_Wayne\"])\n",
    "\n",
    "results.show()"
   ]
  },
  {
   "cell_type": "markdown",
   "metadata": {},
   "source": [
    "# Triangle count\n",
    "\n",
    "Counts the number of triangles passing through each vertex, providing a measure of clustering."
   ]
  },
  {
   "cell_type": "code",
   "execution_count": null,
   "metadata": {},
   "outputs": [
    {
     "name": "stderr",
     "output_type": "stream",
     "text": [
      "                                                                                \r"
     ]
    },
    {
     "name": "stdout",
     "output_type": "stream",
     "text": [
      "+-----+--------------------+-----+\n",
      "|count|                  id| Type|\n",
      "+-----+--------------------+-----+\n",
      "|    0|   Tract_25003933300|Tract|\n",
      "|    0|BlockGroup_011010...|Block|\n",
      "|    0|   Tract_25027746100|Tract|\n",
      "|    0|BlockGroup_011170...|Block|\n",
      "|    0|   Tract_25017336402|Tract|\n",
      "|    0|BlockGroup_011250...|Block|\n",
      "|    0|   Tract_25023530300|Tract|\n",
      "|    0|BlockGroup_010030...|Block|\n",
      "|    0|   Tract_25005610204|Tract|\n",
      "|    0|BlockGroup_010810...|Block|\n",
      "|    0|   Tract_25009221700|Tract|\n",
      "|    0|BlockGroup_010799...|Block|\n",
      "|    0|   Tract_25001014900|Tract|\n",
      "|    0|BlockGroup_010030...|Block|\n",
      "|    0|   Tract_25023525204|Tract|\n",
      "|    0|BlockGroup_010550...|Block|\n",
      "|    0|   Tract_25021440102|Tract|\n",
      "|    0|BlockGroup_011310...|Block|\n",
      "|    0|   Tract_25017383700|Tract|\n",
      "|    0|BlockGroup_010872...|Block|\n",
      "+-----+--------------------+-----+\n",
      "only showing top 20 rows\n",
      "\n"
     ]
    },
    {
     "name": "stderr",
     "output_type": "stream",
     "text": [
      "                                                                                \r"
     ]
    },
    {
     "name": "stdout",
     "output_type": "stream",
     "text": [
      "+-----+-----------------+-----+\n",
      "|count|               id| Type|\n",
      "+-----+-----------------+-----+\n",
      "|    0|Tract_47037017701|Tract|\n",
      "|    0|Tract_47041920101|Tract|\n",
      "|    0|Tract_47157009501|Tract|\n",
      "|    0|Tract_47157008700|Tract|\n",
      "|    0|Tract_47157020653|Tract|\n",
      "|    0|Tract_47019071600|Tract|\n",
      "|    0|Tract_47137925102|Tract|\n",
      "|    0|Tract_47113001300|Tract|\n",
      "|    0|Tract_47113001612|Tract|\n",
      "|    0|Tract_47093005909|Tract|\n",
      "|    0|Tract_47153060200|Tract|\n",
      "|    0|Tract_47163041600|Tract|\n",
      "|    0|Tract_47111970200|Tract|\n",
      "|    0|Tract_47011011501|Tract|\n",
      "|    0|Tract_47165020904|Tract|\n",
      "|    0|Tract_47063100100|Tract|\n",
      "|    0|Tract_47157021357|Tract|\n",
      "|    0|Tract_47157011401|Tract|\n",
      "|    0|Tract_47125102100|Tract|\n",
      "|    0|Tract_47003950100|Tract|\n",
      "+-----+-----------------+-----+\n",
      "only showing top 20 rows\n",
      "\n"
     ]
    }
   ],
   "source": [
    "results = g.triangleCount()\n",
    "\n",
    "# sort by count\n",
    "results.orderBy(\"count\", ascending=False).show()\n",
    "results.show()\n"
   ]
  },
  {
   "cell_type": "markdown",
   "metadata": {},
   "source": []
  },
  {
   "cell_type": "code",
   "execution_count": null,
   "metadata": {},
   "outputs": [
    {
     "name": "stderr",
     "output_type": "stream",
     "text": [
      "                                                                                \r"
     ]
    },
    {
     "name": "stdout",
     "output_type": "stream",
     "text": [
      "+--------------------+-----+-----------+\n",
      "|                  id| Type|  component|\n",
      "+--------------------+-----+-----------+\n",
      "|   Tract_42069100500|Tract|      49840|\n",
      "|BlockGroup_051074...|Block|17179874016|\n",
      "|BlockGroup_320030...|Block|17179929341|\n",
      "|BlockGroup_080319...|Block|17179887086|\n",
      "|BlockGroup_391010...|Block|      46044|\n",
      "|BlockGroup_483379...|Block|17179967366|\n",
      "|BlockGroup_080770...|Block|         41|\n",
      "|   Tract_34039035500|Tract|         41|\n",
      "|   Tract_53001950100|Tract| 8590020586|\n",
      "|BlockGroup_091900...|Block|         41|\n",
      "|BlockGroup_483030...|Block|17179967045|\n",
      "|BlockGroup_010730...|Block|        474|\n",
      "|   Tract_05119004226|Tract| 8590000008|\n",
      "|BlockGroup_450439...|Block|17179958043|\n",
      "|BlockGroup_530330...|Block|      60033|\n",
      "|   Tract_47125101702|Tract| 8589988079|\n",
      "|BlockGroup_260992...|Block|17179919889|\n",
      "|   Tract_48439113716|Tract|         41|\n",
      "|BlockGroup_420110...|Block|17179953027|\n",
      "|BlockGroup_482150...|Block| 8589991608|\n",
      "+--------------------+-----+-----------+\n",
      "only showing top 20 rows\n",
      "\n"
     ]
    }
   ],
   "source": [
    "results = g.stronglyConnectedComponents(maxIter=10)\n",
    "\n",
    "results.show()"
   ]
  },
  {
   "cell_type": "code",
   "execution_count": 24,
   "metadata": {},
   "outputs": [
    {
     "name": "stdout",
     "output_type": "stream",
     "text": [
      "+--------------------+--------------------+--------------------+\n",
      "|                   a|                  ab|                   b|\n",
      "+--------------------+--------------------+--------------------+\n",
      "|{State_Mississipp...|{State_Mississipp...|{Country_United S...|\n",
      "|{State_North Caro...|{State_North Caro...|{Country_United S...|\n",
      "|{State_Oklahoma, ...|{State_Oklahoma, ...|{Country_United S...|\n",
      "|{State_Virginia, ...|{State_Virginia, ...|{Country_United S...|\n",
      "|{State_West Virgi...|{State_West Virgi...|{Country_United S...|\n",
      "|{State_Louisiana,...|{State_Louisiana,...|{Country_United S...|\n",
      "|{State_Michigan, ...|{State_Michigan, ...|{Country_United S...|\n",
      "|{State_Massachuse...|{State_Massachuse...|{Country_United S...|\n",
      "|{State_Idaho, State}|{State_Idaho, isP...|{Country_United S...|\n",
      "|{State_Florida, S...|{State_Florida, i...|{Country_United S...|\n",
      "|{State_Nebraska, ...|{State_Nebraska, ...|{Country_United S...|\n",
      "|{State_Washington...|{State_Washington...|{Country_United S...|\n",
      "|{State_New Mexico...|{State_New Mexico...|{Country_United S...|\n",
      "|{State_South Dako...|{State_South Dako...|{Country_United S...|\n",
      "|{State_Texas, State}|{State_Texas, isP...|{Country_United S...|\n",
      "|{State_California...|{State_California...|{Country_United S...|\n",
      "|{State_Alabama, S...|{State_Alabama, i...|{Country_United S...|\n",
      "|{State_Georgia, S...|{State_Georgia, i...|{Country_United S...|\n",
      "|{State_Pennsylvan...|{State_Pennsylvan...|{Country_United S...|\n",
      "|{State_Missouri, ...|{State_Missouri, ...|{Country_United S...|\n",
      "|{State_Colorado, ...|{State_Colorado, ...|{Country_United S...|\n",
      "| {State_Utah, State}|{State_Utah, isPa...|{Country_United S...|\n",
      "|{State_Tennessee,...|{State_Tennessee,...|{Country_United S...|\n",
      "|{State_Wyoming, S...|{State_Wyoming, i...|{Country_United S...|\n",
      "|{State_New York, ...|{State_New York, ...|{Country_United S...|\n",
      "|{State_Kansas, St...|{State_Kansas, is...|{Country_United S...|\n",
      "|{State_Alaska, St...|{State_Alaska, is...|{Country_United S...|\n",
      "|{State_Nevada, St...|{State_Nevada, is...|{Country_United S...|\n",
      "|{State_Illinois, ...|{State_Illinois, ...|{Country_United S...|\n",
      "|{State_Vermont, S...|{State_Vermont, i...|{Country_United S...|\n",
      "|{State_Montana, S...|{State_Montana, i...|{Country_United S...|\n",
      "| {State_Iowa, State}|{State_Iowa, isPa...|{Country_United S...|\n",
      "|{State_South Caro...|{State_South Caro...|{Country_United S...|\n",
      "|{State_New Hampsh...|{State_New Hampsh...|{Country_United S...|\n",
      "|{State_Arizona, S...|{State_Arizona, i...|{Country_United S...|\n",
      "|{State_District o...|{State_District o...|{Country_United S...|\n",
      "|{State_New Jersey...|{State_New Jersey...|{Country_United S...|\n",
      "|{State_Maryland, ...|{State_Maryland, ...|{Country_United S...|\n",
      "|{State_Maine, State}|{State_Maine, isP...|{Country_United S...|\n",
      "|{State_Delaware, ...|{State_Delaware, ...|{Country_United S...|\n",
      "|{State_Rhode Isla...|{State_Rhode Isla...|{Country_United S...|\n",
      "|{State_Kentucky, ...|{State_Kentucky, ...|{Country_United S...|\n",
      "| {State_Ohio, State}|{State_Ohio, isPa...|{Country_United S...|\n",
      "|{State_Wisconsin,...|{State_Wisconsin,...|{Country_United S...|\n",
      "|{State_Oregon, St...|{State_Oregon, is...|{Country_United S...|\n",
      "|{State_North Dako...|{State_North Dako...|{Country_United S...|\n",
      "|{State_Arkansas, ...|{State_Arkansas, ...|{Country_United S...|\n",
      "|{State_Indiana, S...|{State_Indiana, i...|{Country_United S...|\n",
      "|{State_Minnesota,...|{State_Minnesota,...|{Country_United S...|\n",
      "|{State_Connecticu...|{State_Connecticu...|{Country_United S...|\n",
      "+--------------------+--------------------+--------------------+\n",
      "\n",
      "50\n"
     ]
    }
   ],
   "source": [
    "# Find all states that are part of the 'Country_United States of America'\n",
    "motifs = g.find(\"(a)-[ab]->(b)\")\n",
    "motifs = motifs.filter(\"b.id = 'Country_United States of America' AND ab.relationship = 'isPartOf' AND a.Type = 'State'\")\n",
    "\n",
    "# Display the result\n",
    "motifs.show(100)\n",
    "\n",
    "# Print the number of states\n",
    "print(motifs.count())"
   ]
  },
  {
   "cell_type": "code",
   "execution_count": 32,
   "metadata": {},
   "outputs": [
    {
     "name": "stdout",
     "output_type": "stream",
     "text": [
      "52\n",
      "+-----------------+-----+\n",
      "|               id| Type|\n",
      "+-----------------+-----+\n",
      "|       State_Guam|State|\n",
      "|State_Puerto Rico|State|\n",
      "+-----------------+-----+\n",
      "\n"
     ]
    },
    {
     "name": "stderr",
     "output_type": "stream",
     "text": [
      "                                                                                \r"
     ]
    },
    {
     "name": "stdout",
     "output_type": "stream",
     "text": [
      "2\n"
     ]
    }
   ],
   "source": [
    "# Find all states\n",
    "all_states = g.vertices.filter(\"Type == 'State'\")\n",
    "print(all_states.count())\n",
    "\n",
    "# Find all states that are part of the 'Country_United States of America'\n",
    "usa_states_motifs = g.find(\"(a)-[ab]->(b)\").filter(\"b.id = 'Country_United States of America' AND ab.relationship = 'isPartOf' AND a.Type = 'State'\")\n",
    "\n",
    "# Select the 'a' vertex from the usa_states_motifs, which represents the states\n",
    "usa_states = usa_states_motifs.select(\"a.*\")\n",
    "\n",
    "# Find all states that are not part of the 'Country_United States of America'\n",
    "non_usa_states = all_states.subtract(usa_states)\n",
    "\n",
    "# Display the result\n",
    "non_usa_states.show()\n",
    "\n",
    "# Print the number of non-USA states\n",
    "print(non_usa_states.count())"
   ]
  },
  {
   "cell_type": "code",
   "execution_count": null,
   "metadata": {},
   "outputs": [
    {
     "name": "stderr",
     "output_type": "stream",
     "text": [
      "ERROR:root:KeyboardInterrupt while sending command.\n",
      "Traceback (most recent call last):\n",
      "  File \"/s/chopin/l/grad/ebmartin/.local/lib/python3.9/site-packages/py4j/java_gateway.py\", line 1038, in send_command\n",
      "    response = connection.send_command(command)\n",
      "  File \"/s/chopin/l/grad/ebmartin/.local/lib/python3.9/site-packages/py4j/clientserver.py\", line 503, in send_command\n",
      "    self.socket.sendall(command.encode(\"utf-8\"))\n",
      "KeyboardInterrupt\n"
     ]
    },
    {
     "ename": "KeyboardInterrupt",
     "evalue": "",
     "output_type": "error",
     "traceback": [
      "\u001b[0;31m---------------------------------------------------------------------------\u001b[0m",
      "\u001b[0;31mKeyboardInterrupt\u001b[0m                         Traceback (most recent call last)",
      "Cell \u001b[0;32mIn[52], line 15\u001b[0m\n\u001b[1;32m     12\u001b[0m island_ids \u001b[38;5;241m=\u001b[39m [row[\u001b[38;5;124m'\u001b[39m\u001b[38;5;124mcomponent\u001b[39m\u001b[38;5;124m'\u001b[39m] \u001b[38;5;28;01mfor\u001b[39;00m row \u001b[38;5;129;01min\u001b[39;00m islands\u001b[38;5;241m.\u001b[39mcollect()]\n\u001b[1;32m     14\u001b[0m \u001b[38;5;66;03m# Filter the vertices of the islands based on their relationships\u001b[39;00m\n\u001b[0;32m---> 15\u001b[0m island_vertices \u001b[38;5;241m=\u001b[39m result\u001b[38;5;241m.\u001b[39mfilter(\u001b[43mresult\u001b[49m\u001b[43m[\u001b[49m\u001b[38;5;124;43m'\u001b[39;49m\u001b[38;5;124;43mcomponent\u001b[39;49m\u001b[38;5;124;43m'\u001b[39;49m\u001b[43m]\u001b[49m\u001b[38;5;241;43m.\u001b[39;49m\u001b[43misin\u001b[49m\u001b[43m(\u001b[49m\u001b[43misland_ids\u001b[49m\u001b[43m)\u001b[49m)\n\u001b[1;32m     17\u001b[0m \u001b[38;5;66;03m# Find motifs to check the relationships of the vertices\u001b[39;00m\n\u001b[1;32m     18\u001b[0m motifs \u001b[38;5;241m=\u001b[39m g\u001b[38;5;241m.\u001b[39mfind(\u001b[38;5;124m\"\u001b[39m\u001b[38;5;124m(a)-[ab]->(b); (b)-[bc]->(c)\u001b[39m\u001b[38;5;124m\"\u001b[39m)\n",
      "File \u001b[0;32m~/.local/lib/python3.9/site-packages/pyspark/sql/column.py:972\u001b[0m, in \u001b[0;36mColumn.isin\u001b[0;34m(self, *cols)\u001b[0m\n\u001b[1;32m    968\u001b[0m \u001b[38;5;28;01mif\u001b[39;00m \u001b[38;5;28mlen\u001b[39m(cols) \u001b[38;5;241m==\u001b[39m \u001b[38;5;241m1\u001b[39m \u001b[38;5;129;01mand\u001b[39;00m \u001b[38;5;28misinstance\u001b[39m(cols[\u001b[38;5;241m0\u001b[39m], (\u001b[38;5;28mlist\u001b[39m, \u001b[38;5;28mset\u001b[39m)):\n\u001b[1;32m    969\u001b[0m     cols \u001b[38;5;241m=\u001b[39m cast(Tuple, cols[\u001b[38;5;241m0\u001b[39m])\n\u001b[1;32m    970\u001b[0m cols \u001b[38;5;241m=\u001b[39m cast(\n\u001b[1;32m    971\u001b[0m     Tuple,\n\u001b[0;32m--> 972\u001b[0m     [c\u001b[38;5;241m.\u001b[39m_jc \u001b[38;5;28;01mif\u001b[39;00m \u001b[38;5;28misinstance\u001b[39m(c, Column) \u001b[38;5;28;01melse\u001b[39;00m _create_column_from_literal(c) \u001b[38;5;28;01mfor\u001b[39;00m c \u001b[38;5;129;01min\u001b[39;00m cols],\n\u001b[1;32m    973\u001b[0m )\n\u001b[1;32m    974\u001b[0m sc \u001b[38;5;241m=\u001b[39m get_active_spark_context()\n\u001b[1;32m    975\u001b[0m jc \u001b[38;5;241m=\u001b[39m \u001b[38;5;28mgetattr\u001b[39m(\u001b[38;5;28mself\u001b[39m\u001b[38;5;241m.\u001b[39m_jc, \u001b[38;5;124m\"\u001b[39m\u001b[38;5;124misin\u001b[39m\u001b[38;5;124m\"\u001b[39m)(_to_seq(sc, cols))\n",
      "File \u001b[0;32m~/.local/lib/python3.9/site-packages/pyspark/sql/column.py:972\u001b[0m, in \u001b[0;36m<listcomp>\u001b[0;34m(.0)\u001b[0m\n\u001b[1;32m    968\u001b[0m \u001b[38;5;28;01mif\u001b[39;00m \u001b[38;5;28mlen\u001b[39m(cols) \u001b[38;5;241m==\u001b[39m \u001b[38;5;241m1\u001b[39m \u001b[38;5;129;01mand\u001b[39;00m \u001b[38;5;28misinstance\u001b[39m(cols[\u001b[38;5;241m0\u001b[39m], (\u001b[38;5;28mlist\u001b[39m, \u001b[38;5;28mset\u001b[39m)):\n\u001b[1;32m    969\u001b[0m     cols \u001b[38;5;241m=\u001b[39m cast(Tuple, cols[\u001b[38;5;241m0\u001b[39m])\n\u001b[1;32m    970\u001b[0m cols \u001b[38;5;241m=\u001b[39m cast(\n\u001b[1;32m    971\u001b[0m     Tuple,\n\u001b[0;32m--> 972\u001b[0m     [c\u001b[38;5;241m.\u001b[39m_jc \u001b[38;5;28;01mif\u001b[39;00m \u001b[38;5;28misinstance\u001b[39m(c, Column) \u001b[38;5;28;01melse\u001b[39;00m \u001b[43m_create_column_from_literal\u001b[49m\u001b[43m(\u001b[49m\u001b[43mc\u001b[49m\u001b[43m)\u001b[49m \u001b[38;5;28;01mfor\u001b[39;00m c \u001b[38;5;129;01min\u001b[39;00m cols],\n\u001b[1;32m    973\u001b[0m )\n\u001b[1;32m    974\u001b[0m sc \u001b[38;5;241m=\u001b[39m get_active_spark_context()\n\u001b[1;32m    975\u001b[0m jc \u001b[38;5;241m=\u001b[39m \u001b[38;5;28mgetattr\u001b[39m(\u001b[38;5;28mself\u001b[39m\u001b[38;5;241m.\u001b[39m_jc, \u001b[38;5;124m\"\u001b[39m\u001b[38;5;124misin\u001b[39m\u001b[38;5;124m\"\u001b[39m)(_to_seq(sc, cols))\n",
      "File \u001b[0;32m~/.local/lib/python3.9/site-packages/pyspark/sql/column.py:51\u001b[0m, in \u001b[0;36m_create_column_from_literal\u001b[0;34m(literal)\u001b[0m\n\u001b[1;32m     49\u001b[0m \u001b[38;5;28;01mdef\u001b[39;00m \u001b[38;5;21m_create_column_from_literal\u001b[39m(literal: Union[\u001b[38;5;124m\"\u001b[39m\u001b[38;5;124mLiteralType\u001b[39m\u001b[38;5;124m\"\u001b[39m, \u001b[38;5;124m\"\u001b[39m\u001b[38;5;124mDecimalLiteral\u001b[39m\u001b[38;5;124m\"\u001b[39m]) \u001b[38;5;241m-\u001b[39m\u001b[38;5;241m>\u001b[39m \u001b[38;5;124m\"\u001b[39m\u001b[38;5;124mColumn\u001b[39m\u001b[38;5;124m\"\u001b[39m:\n\u001b[1;32m     50\u001b[0m     sc \u001b[38;5;241m=\u001b[39m get_active_spark_context()\n\u001b[0;32m---> 51\u001b[0m     \u001b[38;5;28;01mreturn\u001b[39;00m \u001b[43mcast\u001b[49m\u001b[43m(\u001b[49m\u001b[43mJVMView\u001b[49m\u001b[43m,\u001b[49m\u001b[43m \u001b[49m\u001b[43msc\u001b[49m\u001b[38;5;241;43m.\u001b[39;49m\u001b[43m_jvm\u001b[49m\u001b[43m)\u001b[49m\u001b[38;5;241;43m.\u001b[39;49m\u001b[43mfunctions\u001b[49m\u001b[38;5;241;43m.\u001b[39;49m\u001b[43mlit\u001b[49m(literal)\n",
      "File \u001b[0;32m~/.local/lib/python3.9/site-packages/py4j/java_gateway.py:1535\u001b[0m, in \u001b[0;36mJavaClass.__getattr__\u001b[0;34m(self, name)\u001b[0m\n\u001b[1;32m   1528\u001b[0m     \u001b[38;5;28;01mraise\u001b[39;00m \u001b[38;5;167;01mAttributeError\u001b[39;00m\n\u001b[1;32m   1530\u001b[0m command \u001b[38;5;241m=\u001b[39m proto\u001b[38;5;241m.\u001b[39mREFLECTION_COMMAND_NAME \u001b[38;5;241m+\u001b[39m\\\n\u001b[1;32m   1531\u001b[0m     proto\u001b[38;5;241m.\u001b[39mREFL_GET_MEMBER_SUB_COMMAND_NAME \u001b[38;5;241m+\u001b[39m\\\n\u001b[1;32m   1532\u001b[0m     \u001b[38;5;28mself\u001b[39m\u001b[38;5;241m.\u001b[39m_fqn \u001b[38;5;241m+\u001b[39m \u001b[38;5;124m\"\u001b[39m\u001b[38;5;130;01m\\n\u001b[39;00m\u001b[38;5;124m\"\u001b[39m \u001b[38;5;241m+\u001b[39m\\\n\u001b[1;32m   1533\u001b[0m     name \u001b[38;5;241m+\u001b[39m \u001b[38;5;124m\"\u001b[39m\u001b[38;5;130;01m\\n\u001b[39;00m\u001b[38;5;124m\"\u001b[39m \u001b[38;5;241m+\u001b[39m\\\n\u001b[1;32m   1534\u001b[0m     proto\u001b[38;5;241m.\u001b[39mEND_COMMAND_PART\n\u001b[0;32m-> 1535\u001b[0m answer \u001b[38;5;241m=\u001b[39m \u001b[38;5;28;43mself\u001b[39;49m\u001b[38;5;241;43m.\u001b[39;49m\u001b[43m_gateway_client\u001b[49m\u001b[38;5;241;43m.\u001b[39;49m\u001b[43msend_command\u001b[49m\u001b[43m(\u001b[49m\u001b[43mcommand\u001b[49m\u001b[43m)\u001b[49m\n\u001b[1;32m   1537\u001b[0m \u001b[38;5;28;01mif\u001b[39;00m \u001b[38;5;28mlen\u001b[39m(answer) \u001b[38;5;241m>\u001b[39m \u001b[38;5;241m1\u001b[39m \u001b[38;5;129;01mand\u001b[39;00m answer[\u001b[38;5;241m0\u001b[39m] \u001b[38;5;241m==\u001b[39m proto\u001b[38;5;241m.\u001b[39mSUCCESS:\n\u001b[1;32m   1538\u001b[0m     \u001b[38;5;28;01mif\u001b[39;00m answer[\u001b[38;5;241m1\u001b[39m] \u001b[38;5;241m==\u001b[39m proto\u001b[38;5;241m.\u001b[39mMETHOD_TYPE:\n",
      "File \u001b[0;32m~/.local/lib/python3.9/site-packages/py4j/java_gateway.py:1038\u001b[0m, in \u001b[0;36mGatewayClient.send_command\u001b[0;34m(self, command, retry, binary)\u001b[0m\n\u001b[1;32m   1036\u001b[0m connection \u001b[38;5;241m=\u001b[39m \u001b[38;5;28mself\u001b[39m\u001b[38;5;241m.\u001b[39m_get_connection()\n\u001b[1;32m   1037\u001b[0m \u001b[38;5;28;01mtry\u001b[39;00m:\n\u001b[0;32m-> 1038\u001b[0m     response \u001b[38;5;241m=\u001b[39m \u001b[43mconnection\u001b[49m\u001b[38;5;241;43m.\u001b[39;49m\u001b[43msend_command\u001b[49m\u001b[43m(\u001b[49m\u001b[43mcommand\u001b[49m\u001b[43m)\u001b[49m\n\u001b[1;32m   1039\u001b[0m     \u001b[38;5;28;01mif\u001b[39;00m binary:\n\u001b[1;32m   1040\u001b[0m         \u001b[38;5;28;01mreturn\u001b[39;00m response, \u001b[38;5;28mself\u001b[39m\u001b[38;5;241m.\u001b[39m_create_connection_guard(connection)\n",
      "File \u001b[0;32m~/.local/lib/python3.9/site-packages/py4j/clientserver.py:503\u001b[0m, in \u001b[0;36mClientServerConnection.send_command\u001b[0;34m(self, command)\u001b[0m\n\u001b[1;32m    501\u001b[0m logger\u001b[38;5;241m.\u001b[39mdebug(\u001b[38;5;124m\"\u001b[39m\u001b[38;5;124mCommand to send: \u001b[39m\u001b[38;5;132;01m{0}\u001b[39;00m\u001b[38;5;124m\"\u001b[39m\u001b[38;5;241m.\u001b[39mformat(command))\n\u001b[1;32m    502\u001b[0m \u001b[38;5;28;01mtry\u001b[39;00m:\n\u001b[0;32m--> 503\u001b[0m     \u001b[38;5;28;43mself\u001b[39;49m\u001b[38;5;241;43m.\u001b[39;49m\u001b[43msocket\u001b[49m\u001b[38;5;241;43m.\u001b[39;49m\u001b[43msendall\u001b[49m\u001b[43m(\u001b[49m\u001b[43mcommand\u001b[49m\u001b[38;5;241;43m.\u001b[39;49m\u001b[43mencode\u001b[49m\u001b[43m(\u001b[49m\u001b[38;5;124;43m\"\u001b[39;49m\u001b[38;5;124;43mutf-8\u001b[39;49m\u001b[38;5;124;43m\"\u001b[39;49m\u001b[43m)\u001b[49m\u001b[43m)\u001b[49m\n\u001b[1;32m    504\u001b[0m \u001b[38;5;28;01mexcept\u001b[39;00m \u001b[38;5;167;01mException\u001b[39;00m \u001b[38;5;28;01mas\u001b[39;00m e:\n\u001b[1;32m    505\u001b[0m     logger\u001b[38;5;241m.\u001b[39minfo(\u001b[38;5;124m\"\u001b[39m\u001b[38;5;124mError while sending or receiving.\u001b[39m\u001b[38;5;124m\"\u001b[39m, exc_info\u001b[38;5;241m=\u001b[39m\u001b[38;5;28;01mTrue\u001b[39;00m)\n",
      "\u001b[0;31mKeyboardInterrupt\u001b[0m: "
     ]
    }
   ],
   "source": [
    "# Run connectedComponents on the graph\n",
    "result = g.connectedComponents()\n",
    "\n",
    "# Count the number of vertices in each component\n",
    "componentCounts = result.groupBy(\"component\").count()\n",
    "\n",
    "# Identify components that have a small number of vertices\n",
    "# Adjust the threshold according to what you consider to be an \"island\"\n",
    "islands = componentCounts.filter(\"count <= 10\")\n",
    "\n",
    "# Get the component IDs of the islands\n",
    "island_ids = [row['component'] for row in islands.collect()]\n",
    "\n",
    "# Filter the vertices of the islands based on their relationships\n",
    "island_vertices = result.filter(result['component'].isin(island_ids))\n",
    "\n",
    "# Find motifs to check the relationships of the vertices\n",
    "motifs = g.find(\"(a)-[ab]->(b); (b)-[bc]->(c)\")\n",
    "\n",
    "# Filter the motifs where 'a' is an island vertex, 'ab' and 'bc' are 'isPartOf' relationships, and 'c' is not a 'Country'\n",
    "filtered_motifs = motifs.filter(\n",
    "    motifs['a'].id.isin([row['id'] for row in island_vertices.collect()]) &\n",
    "    (motifs['ab']['relationship'] == 'isPartOf') &\n",
    "    (motifs['bc']['relationship'] == 'isPartOf') &\n",
    "    (motifs['c']['Type'] != 'Country')\n",
    ")\n",
    "\n",
    "filtered_motifs.show()"
   ]
  },
  {
   "cell_type": "code",
   "execution_count": 14,
   "metadata": {},
   "outputs": [
    {
     "name": "stderr",
     "output_type": "stream",
     "text": [
      "ERROR:root:KeyboardInterrupt while sending command.                (0 + 2) / 10]\n",
      "Traceback (most recent call last):\n",
      "  File \"/s/chopin/l/grad/ebmartin/.local/lib/python3.9/site-packages/py4j/java_gateway.py\", line 1038, in send_command\n",
      "    response = connection.send_command(command)\n",
      "  File \"/s/chopin/l/grad/ebmartin/.local/lib/python3.9/site-packages/py4j/clientserver.py\", line 511, in send_command\n",
      "    answer = smart_decode(self.stream.readline()[:-1])\n",
      "  File \"/usr/lib64/python3.9/socket.py\", line 704, in readinto\n",
      "    return self._sock.recv_into(b)\n",
      "KeyboardInterrupt\n"
     ]
    },
    {
     "ename": "KeyboardInterrupt",
     "evalue": "",
     "output_type": "error",
     "traceback": [
      "\u001b[0;31m---------------------------------------------------------------------------\u001b[0m",
      "\u001b[0;31mKeyboardInterrupt\u001b[0m                         Traceback (most recent call last)",
      "Cell \u001b[0;32mIn[14], line 14\u001b[0m\n\u001b[1;32m     11\u001b[0m \u001b[38;5;66;03m# Select the states that don't have a 'Country' relationship\u001b[39;00m\n\u001b[1;32m     12\u001b[0m states_without_country \u001b[38;5;241m=\u001b[39m filtered_motifs\u001b[38;5;241m.\u001b[39mselect(\u001b[38;5;124m\"\u001b[39m\u001b[38;5;124ma.id\u001b[39m\u001b[38;5;124m\"\u001b[39m)\u001b[38;5;241m.\u001b[39mdistinct()\n\u001b[0;32m---> 14\u001b[0m \u001b[43mstates_without_country\u001b[49m\u001b[38;5;241;43m.\u001b[39;49m\u001b[43mshow\u001b[49m\u001b[43m(\u001b[49m\u001b[43m)\u001b[49m\n",
      "File \u001b[0;32m~/.local/lib/python3.9/site-packages/pyspark/sql/dataframe.py:959\u001b[0m, in \u001b[0;36mDataFrame.show\u001b[0;34m(self, n, truncate, vertical)\u001b[0m\n\u001b[1;32m    953\u001b[0m     \u001b[38;5;28;01mraise\u001b[39;00m PySparkTypeError(\n\u001b[1;32m    954\u001b[0m         error_class\u001b[38;5;241m=\u001b[39m\u001b[38;5;124m\"\u001b[39m\u001b[38;5;124mNOT_BOOL\u001b[39m\u001b[38;5;124m\"\u001b[39m,\n\u001b[1;32m    955\u001b[0m         message_parameters\u001b[38;5;241m=\u001b[39m{\u001b[38;5;124m\"\u001b[39m\u001b[38;5;124marg_name\u001b[39m\u001b[38;5;124m\"\u001b[39m: \u001b[38;5;124m\"\u001b[39m\u001b[38;5;124mvertical\u001b[39m\u001b[38;5;124m\"\u001b[39m, \u001b[38;5;124m\"\u001b[39m\u001b[38;5;124marg_type\u001b[39m\u001b[38;5;124m\"\u001b[39m: \u001b[38;5;28mtype\u001b[39m(vertical)\u001b[38;5;241m.\u001b[39m\u001b[38;5;18m__name__\u001b[39m},\n\u001b[1;32m    956\u001b[0m     )\n\u001b[1;32m    958\u001b[0m \u001b[38;5;28;01mif\u001b[39;00m \u001b[38;5;28misinstance\u001b[39m(truncate, \u001b[38;5;28mbool\u001b[39m) \u001b[38;5;129;01mand\u001b[39;00m truncate:\n\u001b[0;32m--> 959\u001b[0m     \u001b[38;5;28mprint\u001b[39m(\u001b[38;5;28;43mself\u001b[39;49m\u001b[38;5;241;43m.\u001b[39;49m\u001b[43m_jdf\u001b[49m\u001b[38;5;241;43m.\u001b[39;49m\u001b[43mshowString\u001b[49m\u001b[43m(\u001b[49m\u001b[43mn\u001b[49m\u001b[43m,\u001b[49m\u001b[43m \u001b[49m\u001b[38;5;241;43m20\u001b[39;49m\u001b[43m,\u001b[49m\u001b[43m \u001b[49m\u001b[43mvertical\u001b[49m\u001b[43m)\u001b[49m)\n\u001b[1;32m    960\u001b[0m \u001b[38;5;28;01melse\u001b[39;00m:\n\u001b[1;32m    961\u001b[0m     \u001b[38;5;28;01mtry\u001b[39;00m:\n",
      "File \u001b[0;32m~/.local/lib/python3.9/site-packages/py4j/java_gateway.py:1321\u001b[0m, in \u001b[0;36mJavaMember.__call__\u001b[0;34m(self, *args)\u001b[0m\n\u001b[1;32m   1314\u001b[0m args_command, temp_args \u001b[38;5;241m=\u001b[39m \u001b[38;5;28mself\u001b[39m\u001b[38;5;241m.\u001b[39m_build_args(\u001b[38;5;241m*\u001b[39margs)\n\u001b[1;32m   1316\u001b[0m command \u001b[38;5;241m=\u001b[39m proto\u001b[38;5;241m.\u001b[39mCALL_COMMAND_NAME \u001b[38;5;241m+\u001b[39m\\\n\u001b[1;32m   1317\u001b[0m     \u001b[38;5;28mself\u001b[39m\u001b[38;5;241m.\u001b[39mcommand_header \u001b[38;5;241m+\u001b[39m\\\n\u001b[1;32m   1318\u001b[0m     args_command \u001b[38;5;241m+\u001b[39m\\\n\u001b[1;32m   1319\u001b[0m     proto\u001b[38;5;241m.\u001b[39mEND_COMMAND_PART\n\u001b[0;32m-> 1321\u001b[0m answer \u001b[38;5;241m=\u001b[39m \u001b[38;5;28;43mself\u001b[39;49m\u001b[38;5;241;43m.\u001b[39;49m\u001b[43mgateway_client\u001b[49m\u001b[38;5;241;43m.\u001b[39;49m\u001b[43msend_command\u001b[49m\u001b[43m(\u001b[49m\u001b[43mcommand\u001b[49m\u001b[43m)\u001b[49m\n\u001b[1;32m   1322\u001b[0m return_value \u001b[38;5;241m=\u001b[39m get_return_value(\n\u001b[1;32m   1323\u001b[0m     answer, \u001b[38;5;28mself\u001b[39m\u001b[38;5;241m.\u001b[39mgateway_client, \u001b[38;5;28mself\u001b[39m\u001b[38;5;241m.\u001b[39mtarget_id, \u001b[38;5;28mself\u001b[39m\u001b[38;5;241m.\u001b[39mname)\n\u001b[1;32m   1325\u001b[0m \u001b[38;5;28;01mfor\u001b[39;00m temp_arg \u001b[38;5;129;01min\u001b[39;00m temp_args:\n",
      "File \u001b[0;32m~/.local/lib/python3.9/site-packages/py4j/java_gateway.py:1038\u001b[0m, in \u001b[0;36mGatewayClient.send_command\u001b[0;34m(self, command, retry, binary)\u001b[0m\n\u001b[1;32m   1036\u001b[0m connection \u001b[38;5;241m=\u001b[39m \u001b[38;5;28mself\u001b[39m\u001b[38;5;241m.\u001b[39m_get_connection()\n\u001b[1;32m   1037\u001b[0m \u001b[38;5;28;01mtry\u001b[39;00m:\n\u001b[0;32m-> 1038\u001b[0m     response \u001b[38;5;241m=\u001b[39m \u001b[43mconnection\u001b[49m\u001b[38;5;241;43m.\u001b[39;49m\u001b[43msend_command\u001b[49m\u001b[43m(\u001b[49m\u001b[43mcommand\u001b[49m\u001b[43m)\u001b[49m\n\u001b[1;32m   1039\u001b[0m     \u001b[38;5;28;01mif\u001b[39;00m binary:\n\u001b[1;32m   1040\u001b[0m         \u001b[38;5;28;01mreturn\u001b[39;00m response, \u001b[38;5;28mself\u001b[39m\u001b[38;5;241m.\u001b[39m_create_connection_guard(connection)\n",
      "File \u001b[0;32m~/.local/lib/python3.9/site-packages/py4j/clientserver.py:511\u001b[0m, in \u001b[0;36mClientServerConnection.send_command\u001b[0;34m(self, command)\u001b[0m\n\u001b[1;32m    509\u001b[0m \u001b[38;5;28;01mtry\u001b[39;00m:\n\u001b[1;32m    510\u001b[0m     \u001b[38;5;28;01mwhile\u001b[39;00m \u001b[38;5;28;01mTrue\u001b[39;00m:\n\u001b[0;32m--> 511\u001b[0m         answer \u001b[38;5;241m=\u001b[39m smart_decode(\u001b[38;5;28;43mself\u001b[39;49m\u001b[38;5;241;43m.\u001b[39;49m\u001b[43mstream\u001b[49m\u001b[38;5;241;43m.\u001b[39;49m\u001b[43mreadline\u001b[49m\u001b[43m(\u001b[49m\u001b[43m)\u001b[49m[:\u001b[38;5;241m-\u001b[39m\u001b[38;5;241m1\u001b[39m])\n\u001b[1;32m    512\u001b[0m         logger\u001b[38;5;241m.\u001b[39mdebug(\u001b[38;5;124m\"\u001b[39m\u001b[38;5;124mAnswer received: \u001b[39m\u001b[38;5;132;01m{0}\u001b[39;00m\u001b[38;5;124m\"\u001b[39m\u001b[38;5;241m.\u001b[39mformat(answer))\n\u001b[1;32m    513\u001b[0m         \u001b[38;5;66;03m# Happens when a the other end is dead. There might be an empty\u001b[39;00m\n\u001b[1;32m    514\u001b[0m         \u001b[38;5;66;03m# answer before the socket raises an error.\u001b[39;00m\n",
      "File \u001b[0;32m/usr/lib64/python3.9/socket.py:704\u001b[0m, in \u001b[0;36mSocketIO.readinto\u001b[0;34m(self, b)\u001b[0m\n\u001b[1;32m    702\u001b[0m \u001b[38;5;28;01mwhile\u001b[39;00m \u001b[38;5;28;01mTrue\u001b[39;00m:\n\u001b[1;32m    703\u001b[0m     \u001b[38;5;28;01mtry\u001b[39;00m:\n\u001b[0;32m--> 704\u001b[0m         \u001b[38;5;28;01mreturn\u001b[39;00m \u001b[38;5;28;43mself\u001b[39;49m\u001b[38;5;241;43m.\u001b[39;49m\u001b[43m_sock\u001b[49m\u001b[38;5;241;43m.\u001b[39;49m\u001b[43mrecv_into\u001b[49m\u001b[43m(\u001b[49m\u001b[43mb\u001b[49m\u001b[43m)\u001b[49m\n\u001b[1;32m    705\u001b[0m     \u001b[38;5;28;01mexcept\u001b[39;00m timeout:\n\u001b[1;32m    706\u001b[0m         \u001b[38;5;28mself\u001b[39m\u001b[38;5;241m.\u001b[39m_timeout_occurred \u001b[38;5;241m=\u001b[39m \u001b[38;5;28;01mTrue\u001b[39;00m\n",
      "\u001b[0;31mKeyboardInterrupt\u001b[0m: "
     ]
    }
   ],
   "source": [
    "# Find motifs to check the relationships of the vertices\n",
    "motifs = g.find(\"(a)-[ab]->(b); !(b)-[]->(c)\")\n",
    "\n",
    "# Filter the motifs where 'a' is a state, 'ab' is 'isPartOf' relationship, and 'b' is not a 'Country'\n",
    "filtered_motifs = motifs.filter(\n",
    "    (motifs['a']['Type'] == 'State') &\n",
    "    (motifs['ab']['relationship'] == 'isPartOf') &\n",
    "    (motifs['b']['Type'] != 'Country')\n",
    ")\n",
    "\n",
    "# Select the states that don't have a 'Country' relationship\n",
    "states_without_country = filtered_motifs.select(\"a.id\").distinct()\n",
    "\n",
    "states_without_country.show()"
   ]
  },
  {
   "cell_type": "code",
   "execution_count": 34,
   "metadata": {},
   "outputs": [
    {
     "name": "stderr",
     "output_type": "stream",
     "text": [
      "24/04/24 14:58:21 ERROR TaskSchedulerImpl: Lost executor 2 on 129.82.44.145: Command exited with code 52\n",
      "24/04/24 14:58:31 ERROR TaskSchedulerImpl: Lost executor 7 on 129.82.44.143: Command exited with code 52\n",
      "24/04/24 14:58:47 ERROR TaskSchedulerImpl: Lost executor 3 on 129.82.44.149: Command exited with code 52\n",
      "24/04/24 14:59:44 ERROR TaskSchedulerImpl: Lost executor 6 on 129.82.44.142: Command exited with code 52\n",
      "ERROR:root:KeyboardInterrupt while sending command.                 (0 + 8) / 8]\n",
      "Traceback (most recent call last):\n",
      "  File \"/s/chopin/l/grad/ebmartin/.local/lib/python3.9/site-packages/py4j/java_gateway.py\", line 1038, in send_command\n",
      "    response = connection.send_command(command)\n",
      "  File \"/s/chopin/l/grad/ebmartin/.local/lib/python3.9/site-packages/py4j/clientserver.py\", line 511, in send_command\n",
      "    answer = smart_decode(self.stream.readline()[:-1])\n",
      "  File \"/usr/lib64/python3.9/socket.py\", line 704, in readinto\n",
      "    return self._sock.recv_into(b)\n",
      "KeyboardInterrupt\n"
     ]
    },
    {
     "ename": "KeyboardInterrupt",
     "evalue": "",
     "output_type": "error",
     "traceback": [
      "\u001b[0;31m---------------------------------------------------------------------------\u001b[0m",
      "\u001b[0;31mKeyboardInterrupt\u001b[0m                         Traceback (most recent call last)",
      "Cell \u001b[0;32mIn[34], line 12\u001b[0m\n\u001b[1;32m      9\u001b[0m \u001b[38;5;66;03m# Select the vertices that are not connected to 'Earth'\u001b[39;00m\n\u001b[1;32m     10\u001b[0m vertices_not_connected_to_earth \u001b[38;5;241m=\u001b[39m filtered_motifs\u001b[38;5;241m.\u001b[39mselect(\u001b[38;5;124m\"\u001b[39m\u001b[38;5;124ma.id\u001b[39m\u001b[38;5;124m\"\u001b[39m)\u001b[38;5;241m.\u001b[39mdistinct()\n\u001b[0;32m---> 12\u001b[0m \u001b[43mvertices_not_connected_to_earth\u001b[49m\u001b[38;5;241;43m.\u001b[39;49m\u001b[43mshow\u001b[49m\u001b[43m(\u001b[49m\u001b[43m)\u001b[49m\n",
      "File \u001b[0;32m~/.local/lib/python3.9/site-packages/pyspark/sql/dataframe.py:959\u001b[0m, in \u001b[0;36mDataFrame.show\u001b[0;34m(self, n, truncate, vertical)\u001b[0m\n\u001b[1;32m    953\u001b[0m     \u001b[38;5;28;01mraise\u001b[39;00m PySparkTypeError(\n\u001b[1;32m    954\u001b[0m         error_class\u001b[38;5;241m=\u001b[39m\u001b[38;5;124m\"\u001b[39m\u001b[38;5;124mNOT_BOOL\u001b[39m\u001b[38;5;124m\"\u001b[39m,\n\u001b[1;32m    955\u001b[0m         message_parameters\u001b[38;5;241m=\u001b[39m{\u001b[38;5;124m\"\u001b[39m\u001b[38;5;124marg_name\u001b[39m\u001b[38;5;124m\"\u001b[39m: \u001b[38;5;124m\"\u001b[39m\u001b[38;5;124mvertical\u001b[39m\u001b[38;5;124m\"\u001b[39m, \u001b[38;5;124m\"\u001b[39m\u001b[38;5;124marg_type\u001b[39m\u001b[38;5;124m\"\u001b[39m: \u001b[38;5;28mtype\u001b[39m(vertical)\u001b[38;5;241m.\u001b[39m\u001b[38;5;18m__name__\u001b[39m},\n\u001b[1;32m    956\u001b[0m     )\n\u001b[1;32m    958\u001b[0m \u001b[38;5;28;01mif\u001b[39;00m \u001b[38;5;28misinstance\u001b[39m(truncate, \u001b[38;5;28mbool\u001b[39m) \u001b[38;5;129;01mand\u001b[39;00m truncate:\n\u001b[0;32m--> 959\u001b[0m     \u001b[38;5;28mprint\u001b[39m(\u001b[38;5;28;43mself\u001b[39;49m\u001b[38;5;241;43m.\u001b[39;49m\u001b[43m_jdf\u001b[49m\u001b[38;5;241;43m.\u001b[39;49m\u001b[43mshowString\u001b[49m\u001b[43m(\u001b[49m\u001b[43mn\u001b[49m\u001b[43m,\u001b[49m\u001b[43m \u001b[49m\u001b[38;5;241;43m20\u001b[39;49m\u001b[43m,\u001b[49m\u001b[43m \u001b[49m\u001b[43mvertical\u001b[49m\u001b[43m)\u001b[49m)\n\u001b[1;32m    960\u001b[0m \u001b[38;5;28;01melse\u001b[39;00m:\n\u001b[1;32m    961\u001b[0m     \u001b[38;5;28;01mtry\u001b[39;00m:\n",
      "File \u001b[0;32m~/.local/lib/python3.9/site-packages/py4j/java_gateway.py:1321\u001b[0m, in \u001b[0;36mJavaMember.__call__\u001b[0;34m(self, *args)\u001b[0m\n\u001b[1;32m   1314\u001b[0m args_command, temp_args \u001b[38;5;241m=\u001b[39m \u001b[38;5;28mself\u001b[39m\u001b[38;5;241m.\u001b[39m_build_args(\u001b[38;5;241m*\u001b[39margs)\n\u001b[1;32m   1316\u001b[0m command \u001b[38;5;241m=\u001b[39m proto\u001b[38;5;241m.\u001b[39mCALL_COMMAND_NAME \u001b[38;5;241m+\u001b[39m\\\n\u001b[1;32m   1317\u001b[0m     \u001b[38;5;28mself\u001b[39m\u001b[38;5;241m.\u001b[39mcommand_header \u001b[38;5;241m+\u001b[39m\\\n\u001b[1;32m   1318\u001b[0m     args_command \u001b[38;5;241m+\u001b[39m\\\n\u001b[1;32m   1319\u001b[0m     proto\u001b[38;5;241m.\u001b[39mEND_COMMAND_PART\n\u001b[0;32m-> 1321\u001b[0m answer \u001b[38;5;241m=\u001b[39m \u001b[38;5;28;43mself\u001b[39;49m\u001b[38;5;241;43m.\u001b[39;49m\u001b[43mgateway_client\u001b[49m\u001b[38;5;241;43m.\u001b[39;49m\u001b[43msend_command\u001b[49m\u001b[43m(\u001b[49m\u001b[43mcommand\u001b[49m\u001b[43m)\u001b[49m\n\u001b[1;32m   1322\u001b[0m return_value \u001b[38;5;241m=\u001b[39m get_return_value(\n\u001b[1;32m   1323\u001b[0m     answer, \u001b[38;5;28mself\u001b[39m\u001b[38;5;241m.\u001b[39mgateway_client, \u001b[38;5;28mself\u001b[39m\u001b[38;5;241m.\u001b[39mtarget_id, \u001b[38;5;28mself\u001b[39m\u001b[38;5;241m.\u001b[39mname)\n\u001b[1;32m   1325\u001b[0m \u001b[38;5;28;01mfor\u001b[39;00m temp_arg \u001b[38;5;129;01min\u001b[39;00m temp_args:\n",
      "File \u001b[0;32m~/.local/lib/python3.9/site-packages/py4j/java_gateway.py:1038\u001b[0m, in \u001b[0;36mGatewayClient.send_command\u001b[0;34m(self, command, retry, binary)\u001b[0m\n\u001b[1;32m   1036\u001b[0m connection \u001b[38;5;241m=\u001b[39m \u001b[38;5;28mself\u001b[39m\u001b[38;5;241m.\u001b[39m_get_connection()\n\u001b[1;32m   1037\u001b[0m \u001b[38;5;28;01mtry\u001b[39;00m:\n\u001b[0;32m-> 1038\u001b[0m     response \u001b[38;5;241m=\u001b[39m \u001b[43mconnection\u001b[49m\u001b[38;5;241;43m.\u001b[39;49m\u001b[43msend_command\u001b[49m\u001b[43m(\u001b[49m\u001b[43mcommand\u001b[49m\u001b[43m)\u001b[49m\n\u001b[1;32m   1039\u001b[0m     \u001b[38;5;28;01mif\u001b[39;00m binary:\n\u001b[1;32m   1040\u001b[0m         \u001b[38;5;28;01mreturn\u001b[39;00m response, \u001b[38;5;28mself\u001b[39m\u001b[38;5;241m.\u001b[39m_create_connection_guard(connection)\n",
      "File \u001b[0;32m~/.local/lib/python3.9/site-packages/py4j/clientserver.py:511\u001b[0m, in \u001b[0;36mClientServerConnection.send_command\u001b[0;34m(self, command)\u001b[0m\n\u001b[1;32m    509\u001b[0m \u001b[38;5;28;01mtry\u001b[39;00m:\n\u001b[1;32m    510\u001b[0m     \u001b[38;5;28;01mwhile\u001b[39;00m \u001b[38;5;28;01mTrue\u001b[39;00m:\n\u001b[0;32m--> 511\u001b[0m         answer \u001b[38;5;241m=\u001b[39m smart_decode(\u001b[38;5;28;43mself\u001b[39;49m\u001b[38;5;241;43m.\u001b[39;49m\u001b[43mstream\u001b[49m\u001b[38;5;241;43m.\u001b[39;49m\u001b[43mreadline\u001b[49m\u001b[43m(\u001b[49m\u001b[43m)\u001b[49m[:\u001b[38;5;241m-\u001b[39m\u001b[38;5;241m1\u001b[39m])\n\u001b[1;32m    512\u001b[0m         logger\u001b[38;5;241m.\u001b[39mdebug(\u001b[38;5;124m\"\u001b[39m\u001b[38;5;124mAnswer received: \u001b[39m\u001b[38;5;132;01m{0}\u001b[39;00m\u001b[38;5;124m\"\u001b[39m\u001b[38;5;241m.\u001b[39mformat(answer))\n\u001b[1;32m    513\u001b[0m         \u001b[38;5;66;03m# Happens when a the other end is dead. There might be an empty\u001b[39;00m\n\u001b[1;32m    514\u001b[0m         \u001b[38;5;66;03m# answer before the socket raises an error.\u001b[39;00m\n",
      "File \u001b[0;32m/usr/lib64/python3.9/socket.py:704\u001b[0m, in \u001b[0;36mSocketIO.readinto\u001b[0;34m(self, b)\u001b[0m\n\u001b[1;32m    702\u001b[0m \u001b[38;5;28;01mwhile\u001b[39;00m \u001b[38;5;28;01mTrue\u001b[39;00m:\n\u001b[1;32m    703\u001b[0m     \u001b[38;5;28;01mtry\u001b[39;00m:\n\u001b[0;32m--> 704\u001b[0m         \u001b[38;5;28;01mreturn\u001b[39;00m \u001b[38;5;28;43mself\u001b[39;49m\u001b[38;5;241;43m.\u001b[39;49m\u001b[43m_sock\u001b[49m\u001b[38;5;241;43m.\u001b[39;49m\u001b[43mrecv_into\u001b[49m\u001b[43m(\u001b[49m\u001b[43mb\u001b[49m\u001b[43m)\u001b[49m\n\u001b[1;32m    705\u001b[0m     \u001b[38;5;28;01mexcept\u001b[39;00m timeout:\n\u001b[1;32m    706\u001b[0m         \u001b[38;5;28mself\u001b[39m\u001b[38;5;241m.\u001b[39m_timeout_occurred \u001b[38;5;241m=\u001b[39m \u001b[38;5;28;01mTrue\u001b[39;00m\n",
      "\u001b[0;31mKeyboardInterrupt\u001b[0m: "
     ]
    },
    {
     "name": "stderr",
     "output_type": "stream",
     "text": [
      "24/04/24 15:00:35 ERROR TaskSchedulerImpl: Lost executor 0 on 129.82.44.142: Command exited with code 52\n",
      "[Stage 3269:>                                                       (0 + 8) / 8]\r"
     ]
    }
   ],
   "source": [
    "# Find motifs to check the relationships of the vertices\n",
    "motifs = g.find(\"(a)-[ab]->(b); !(a)-[]->(c)\")\n",
    "\n",
    "# Filter the motifs where 'a' is not connected to 'Earth'\n",
    "filtered_motifs = motifs.filter(\n",
    "    (motifs['c']['id'] != 'Earth')\n",
    ")\n",
    "\n",
    "# Select the vertices that are not connected to 'Earth'\n",
    "vertices_not_connected_to_earth = filtered_motifs.select(\"a.id\").distinct()\n",
    "\n",
    "vertices_not_connected_to_earth.show()"
   ]
  },
  {
   "cell_type": "code",
   "execution_count": 18,
   "metadata": {},
   "outputs": [
    {
     "name": "stderr",
     "output_type": "stream",
     "text": [
      "                                                                                \r"
     ]
    },
    {
     "name": "stdout",
     "output_type": "stream",
     "text": [
      "+------------+------------+-------------+\n",
      "|         src|Relationship|          dst|\n",
      "+------------+------------+-------------+\n",
      "|State_Hawaii|    Contains|County_Hawaii|\n",
      "|State_Hawaii|    Contains|  County_Maui|\n",
      "|State_Hawaii|    Contains| County_Kauai|\n",
      "+------------+------------+-------------+\n",
      "\n"
     ]
    },
    {
     "name": "stderr",
     "output_type": "stream",
     "text": [
      "[Stage 8:=======>                                                   (1 + 7) / 8]\r"
     ]
    }
   ],
   "source": [
    "g.edges.filter(\"src == 'State_Hawaii'\").show(100)"
   ]
  },
  {
   "cell_type": "code",
   "execution_count": 17,
   "metadata": {},
   "outputs": [
    {
     "name": "stdout",
     "output_type": "stream",
     "text": [
      "+--------------------+------------+--------------------+\n",
      "|                 src|Relationship|                 dst|\n",
      "+--------------------+------------+--------------------+\n",
      "|       State_Alabama|    Contains|      County_Baldwin|\n",
      "|       State_Alabama|    Contains|       County_Mobile|\n",
      "|       State_Alabama|    Contains|   County_Washington|\n",
      "|       State_Alabama|    Contains|       County_Monroe|\n",
      "|       State_Alabama|    Contains|       County_Clarke|\n",
      "|       State_Alabama|    Contains|       County_Wilcox|\n",
      "|       State_Alabama|    Contains|      County_Choctaw|\n",
      "|       State_Alabama|    Contains|      County_Marengo|\n",
      "|       State_Alabama|    Contains|       County_Sumter|\n",
      "|       State_Alabama|    Contains|        County_Perry|\n",
      "|       State_Alabama|    Contains|       County_Geneva|\n",
      "|       State_Alabama|    Contains|      County_Houston|\n",
      "|       State_Alabama|    Contains|       County_Coffee|\n",
      "|       State_Alabama|    Contains|         County_Dale|\n",
      "|       State_Alabama|    Contains|        County_Henry|\n",
      "|       State_Alabama|    Contains|         County_Pike|\n",
      "|       State_Alabama|    Contains|      County_Barbour|\n",
      "|       State_Alabama|    Contains|      County_Bullock|\n",
      "|       State_Alabama|    Contains|      County_Russell|\n",
      "|       State_Alabama|    Contains|        County_Macon|\n",
      "|       State_Alabama|    Contains|     County_Escambia|\n",
      "|       State_Alabama|    Contains|    County_Covington|\n",
      "|       State_Alabama|    Contains|      County_Conecuh|\n",
      "|       State_Alabama|    Contains|     County_Crenshaw|\n",
      "|       State_Alabama|    Contains|       County_Butler|\n",
      "|       State_Alabama|    Contains|      County_Lowndes|\n",
      "|       State_Alabama|    Contains|   County_Montgomery|\n",
      "|       State_Alabama|    Contains|       County_Dallas|\n",
      "|       State_Alabama|    Contains|      County_Autauga|\n",
      "|       State_Alabama|    Contains|       County_Elmore|\n",
      "|       State_Alabama|    Contains|          County_Lee|\n",
      "|       State_Alabama|    Contains|   County_Tallapoosa|\n",
      "|       State_Alabama|    Contains|     County_Chambers|\n",
      "|       State_Alabama|    Contains|         County_Clay|\n",
      "|       State_Alabama|    Contains|     County_Randolph|\n",
      "|       State_Alabama|    Contains|     County_Cleburne|\n",
      "|       State_Alabama|    Contains|      County_Calhoun|\n",
      "|       State_Alabama|    Contains|       County_Etowah|\n",
      "|       State_Alabama|    Contains|     County_Cherokee|\n",
      "|       State_Alabama|    Contains|       County_DeKalb|\n",
      "|       State_Alabama|    Contains|         County_Hale|\n",
      "|       State_Alabama|    Contains|       County_Greene|\n",
      "|       State_Alabama|    Contains|      County_Pickens|\n",
      "|       State_Alabama|    Contains|   County_Tuscaloosa|\n",
      "|       State_Alabama|    Contains|      County_Fayette|\n",
      "|       State_Alabama|    Contains|        County_Lamar|\n",
      "|       State_Alabama|    Contains|       County_Walker|\n",
      "|       State_Alabama|    Contains|       County_Marion|\n",
      "|       State_Alabama|    Contains|      County_Winston|\n",
      "|       State_Alabama|    Contains|     County_Franklin|\n",
      "|       State_Alabama|    Contains|      County_Chilton|\n",
      "|       State_Alabama|    Contains|        County_Coosa|\n",
      "|       State_Alabama|    Contains|         County_Bibb|\n",
      "|       State_Alabama|    Contains|       County_Shelby|\n",
      "|       State_Alabama|    Contains|    County_Talladega|\n",
      "|       State_Alabama|    Contains|    County_Jefferson|\n",
      "|       State_Alabama|    Contains|    County_St. Clair|\n",
      "|       State_Alabama|    Contains|       County_Blount|\n",
      "|       State_Alabama|    Contains|      County_Cullman|\n",
      "|       State_Alabama|    Contains|     County_Marshall|\n",
      "|       State_Alabama|    Contains|       County_Morgan|\n",
      "|       State_Alabama|    Contains|      County_Madison|\n",
      "|       State_Alabama|    Contains|    County_Limestone|\n",
      "|       State_Alabama|    Contains|     County_Lawrence|\n",
      "|       State_Alabama|    Contains|      County_Colbert|\n",
      "|       State_Alabama|    Contains|   County_Lauderdale|\n",
      "|       State_Alabama|    Contains|      County_Jackson|\n",
      "|        State_Alaska|    Contains|County_Prince of ...|\n",
      "|        State_Alaska|    Contains|County_Ketchikan ...|\n",
      "|        State_Alaska|    Contains|     County_Wrangell|\n",
      "|        State_Alaska|    Contains|   County_Petersburg|\n",
      "|        State_Alaska|    Contains|        County_Sitka|\n",
      "|        State_Alaska|    Contains|       County_Juneau|\n",
      "|        State_Alaska|    Contains|       County_Haines|\n",
      "|        State_Alaska|    Contains|      County_Skagway|\n",
      "|        State_Alaska|    Contains|County_Aleutians ...|\n",
      "|        State_Alaska|    Contains|County_Lake and P...|\n",
      "|        State_Alaska|    Contains|  County_Bristol Bay|\n",
      "|        State_Alaska|    Contains|   County_Dillingham|\n",
      "|        State_Alaska|    Contains|       County_Bethel|\n",
      "|        State_Alaska|    Contains|    County_Anchorage|\n",
      "|        State_Alaska|    Contains| County_Wade Hampton|\n",
      "|        State_Alaska|    Contains|County_Matanuska-...|\n",
      "|        State_Alaska|    Contains|      County_Yakutat|\n",
      "|        State_Alaska|    Contains|County_Valdez-Cor...|\n",
      "|        State_Alaska|    Contains|County_Southeast ...|\n",
      "|        State_Alaska|    Contains|County_Fairbanks ...|\n",
      "|        State_Alaska|    Contains|       County_Denali|\n",
      "|        State_Alaska|    Contains|         County_Nome|\n",
      "|        State_Alaska|    Contains|County_Yukon-Koyukuk|\n",
      "|        State_Alaska|    Contains|County_Northwest ...|\n",
      "|        State_Alaska|    Contains|  County_North Slope|\n",
      "|State_American Samoa|    Contains|      County_Western|\n",
      "|State_American Samoa|    Contains|      County_Eastern|\n",
      "|State_American Samoa|    Contains|County_Swains Island|\n",
      "|       State_Arizona|    Contains|   County_Santa Cruz|\n",
      "|       State_Arizona|    Contains|      County_Cochise|\n",
      "|       State_Arizona|    Contains|       County_Graham|\n",
      "|       State_Arizona|    Contains|     County_Greenlee|\n",
      "|       State_Arizona|    Contains|         County_Gila|\n",
      "+--------------------+------------+--------------------+\n",
      "only showing top 100 rows\n",
      "\n"
     ]
    },
    {
     "name": "stderr",
     "output_type": "stream",
     "text": [
      "                                                                                \r"
     ]
    },
    {
     "name": "stderr",
     "output_type": "stream",
     "text": [
      "[Stage 8:>                                                          (0 + 8) / 8]\r"
     ]
    }
   ],
   "source": [
    "g.edges.filter(\"src LIKE 'State%' AND Relationship != 'isPartOf' AND dst NOT LIKE 'Country%'\").show(100)"
   ]
  },
  {
   "cell_type": "code",
   "execution_count": 33,
   "metadata": {},
   "outputs": [
    {
     "name": "stderr",
     "output_type": "stream",
     "text": [
      "                                                                                \r"
     ]
    },
    {
     "name": "stdout",
     "output_type": "stream",
     "text": [
      "+--------------------+-----------+\n",
      "|                  id|  component|\n",
      "+--------------------+-----------+\n",
      "|   State_Mississippi|         41|\n",
      "|      State_Colorado|         41|\n",
      "|       State_Alabama|         41|\n",
      "|   State_Connecticut|         41|\n",
      "|       State_Montana|         41|\n",
      "|       State_Indiana|         41|\n",
      "|         State_Idaho|         41|\n",
      "|          State_Ohio|         41|\n",
      "|    State_New Jersey|         41|\n",
      "| State_West Virginia|         41|\n",
      "|         State_Maine|         41|\n",
      "|    State_New Mexico|         41|\n",
      "|         State_Texas|         41|\n",
      "|          State_Guam|      64137|\n",
      "|      State_Illinois|      64138|\n",
      "|        State_Kansas|      64140|\n",
      "|      State_Maryland|      64141|\n",
      "|      State_Michigan|      64142|\n",
      "| State_New Hampshire|      64143|\n",
      "|  State_North Dakota|      64144|\n",
      "|      State_Oklahoma|      64146|\n",
      "|        State_Oregon|      64147|\n",
      "|  State_Pennsylvania|      64148|\n",
      "|    State_Washington|      64149|\n",
      "|     State_Wisconsin|      64151|\n",
      "|       State_Wyoming|      64152|\n",
      "|      State_Arkansas| 8589998930|\n",
      "|      State_Delaware| 8589998931|\n",
      "|       State_Florida| 8589998932|\n",
      "|       State_Georgia| 8589998933|\n",
      "| State_Massachusetts| 8589998936|\n",
      "|      State_Nebraska| 8589998937|\n",
      "|        State_Nevada| 8589998938|\n",
      "|      State_New York| 8589998939|\n",
      "|State_North Carolina| 8589998940|\n",
      "|State_South Carolina| 8589998941|\n",
      "|  State_South Dakota| 8589998942|\n",
      "|          State_Utah| 8589998943|\n",
      "|       State_Vermont| 8589998944|\n",
      "|      State_Virginia| 8589998945|\n",
      "|        State_Alaska|17179978778|\n",
      "|       State_Arizona|17179978779|\n",
      "|    State_California|17179978780|\n",
      "|State_District of...|17179978781|\n",
      "|          State_Iowa|17179978782|\n",
      "|      State_Kentucky|17179978783|\n",
      "|     State_Louisiana|17179978784|\n",
      "|     State_Minnesota|17179978785|\n",
      "|      State_Missouri|17179978787|\n",
      "|   State_Puerto Rico|17179978791|\n",
      "|  State_Rhode Island|17179978792|\n",
      "|     State_Tennessee|17179978793|\n",
      "+--------------------+-----------+\n",
      "\n"
     ]
    },
    {
     "name": "stderr",
     "output_type": "stream",
     "text": [
      "[Stage 3257:=====================================>                  (2 + 1) / 3]\r"
     ]
    },
    {
     "name": "stdout",
     "output_type": "stream",
     "text": [
      "288338\n"
     ]
    },
    {
     "name": "stderr",
     "output_type": "stream",
     "text": [
      "                                                                                \r"
     ]
    }
   ],
   "source": [
    "from pyspark.sql.functions import col\n",
    "\n",
    "# Reverse the edges\n",
    "reversed_edges = g.edges.select(col(\"dst\").alias(\"src\"), col(\"src\").alias(\"dst\"), col(\"relationship\"))\n",
    "\n",
    "# Add the reversed edges to the graph\n",
    "undirected_graph = GraphFrame(g.vertices, g.edges.union(reversed_edges))\n",
    "\n",
    "# Run connectedComponents on the undirected graph\n",
    "result = undirected_graph.connectedComponents()\n",
    "\n",
    "# Filter the result to only include rows where 'id' starts with 'State'\n",
    "state_result = result.filter(result.id.startswith('State'))\n",
    "\n",
    "# Display the state results\n",
    "state_result.select(\"id\", \"component\").orderBy(\"component\").show(200)\n",
    "\n",
    "# Print the number of connected components (islands)\n",
    "print(result.select(\"component\").distinct().count())"
   ]
  },
  {
   "cell_type": "code",
   "execution_count": 22,
   "metadata": {},
   "outputs": [
    {
     "name": "stderr",
     "output_type": "stream",
     "text": [
      "[Stage 2724:=================================================>      (7 + 1) / 8]\r"
     ]
    },
    {
     "name": "stdout",
     "output_type": "stream",
     "text": [
      "+---+\n",
      "| id|\n",
      "+---+\n",
      "+---+\n",
      "\n"
     ]
    }
   ],
   "source": [
    "# Find motifs to check the relationships of the vertices\n",
    "motifs = g.find(\"(a)-[ab]->(b)\")\n",
    "\n",
    "# Filter the motifs where 'a' is a state, 'ab' is 'isPartOf' relationship, and 'b' is not a 'Country'\n",
    "filtered_motifs = motifs.filter(\n",
    "    (motifs['a']['Type'] == 'State') &\n",
    "    (motifs['ab']['relationship'] == 'isPartOf') &\n",
    "    (motifs['b']['Type'] != 'Country')\n",
    ")\n",
    "\n",
    "# Select the states that don't have a 'Country' relationship\n",
    "states_country = filtered_motifs.select(\"a.id\").distinct()\n",
    "\n",
    "states_country.show()"
   ]
  },
  {
   "cell_type": "code",
   "execution_count": null,
   "metadata": {},
   "outputs": [
    {
     "name": "stderr",
     "output_type": "stream",
     "text": [
      "[Stage 9219:=====>          (1 + 2) / 3][Stage 9289:==========>     (2 + 0) / 3]\r"
     ]
    },
    {
     "name": "stdout",
     "output_type": "stream",
     "text": [
      "+--------------------+-----+-----------+\n",
      "|                  id| Type|  component|\n",
      "+--------------------+-----+-----------+\n",
      "|    State_Washington|State|      64149|\n",
      "|          State_Guam|State|      64137|\n",
      "|      State_Oklahoma|State|      64146|\n",
      "|        State_Kansas|State|      64140|\n",
      "|     State_Minnesota|State|17179978785|\n",
      "|State_District of...|State|17179978781|\n",
      "| State_New Hampshire|State|      64143|\n",
      "|       State_Arizona|State|17179978779|\n",
      "|    State_New Mexico|State|         41|\n",
      "|        State_Nevada|State| 8589998938|\n",
      "|      State_Nebraska|State| 8589998937|\n",
      "|         State_Texas|State|         41|\n",
      "|       State_Wyoming|State|      64152|\n",
      "|State_North Carolina|State| 8589998940|\n",
      "|         State_Maine|State|         41|\n",
      "|      State_Maryland|State|      64141|\n",
      "|  State_Rhode Island|State|17179978792|\n",
      "|   State_Puerto Rico|State|17179978791|\n",
      "| State_West Virginia|State|         41|\n",
      "|  State_North Dakota|State|      64144|\n",
      "|       State_Florida|State| 8589998932|\n",
      "|State_South Carolina|State| 8589998941|\n",
      "|       State_Montana|State|         41|\n",
      "|      State_Illinois|State|      64138|\n",
      "|   State_Mississippi|State|         41|\n",
      "|      State_Colorado|State|         41|\n",
      "|       State_Alabama|State|         41|\n",
      "|      State_New York|State| 8589998939|\n",
      "|        State_Oregon|State|      64147|\n",
      "|  State_South Dakota|State| 8589998942|\n",
      "|          State_Iowa|State|17179978782|\n",
      "|       State_Vermont|State| 8589998944|\n",
      "|      State_Arkansas|State| 8589998930|\n",
      "|          State_Ohio|State|         41|\n",
      "|     State_Wisconsin|State|      64151|\n",
      "|     State_Tennessee|State|17179978793|\n",
      "|  State_Pennsylvania|State|      64148|\n",
      "|    State_New Jersey|State|         41|\n",
      "|       State_Georgia|State| 8589998933|\n",
      "|   State_Connecticut|State|         41|\n",
      "| State_Massachusetts|State| 8589998936|\n",
      "|          State_Utah|State| 8589998943|\n",
      "|      State_Kentucky|State|17179978783|\n",
      "|    State_California|State|17179978780|\n",
      "|      State_Missouri|State|17179978787|\n",
      "|       State_Indiana|State|         41|\n",
      "|     State_Louisiana|State|17179978784|\n",
      "|      State_Michigan|State|      64142|\n",
      "|         State_Idaho|State|         41|\n",
      "|      State_Delaware|State| 8589998931|\n",
      "|        State_Alaska|State|17179978778|\n",
      "|      State_Virginia|State| 8589998945|\n",
      "+--------------------+-----+-----------+\n",
      "\n"
     ]
    },
    {
     "name": "stderr",
     "output_type": "stream",
     "text": [
      "                                                                                \r"
     ]
    }
   ],
   "source": [
    "results.filter(\"id LIKE 'State%'\").show(100)"
   ]
  },
  {
   "cell_type": "code",
   "execution_count": null,
   "metadata": {},
   "outputs": [
    {
     "name": "stderr",
     "output_type": "stream",
     "text": [
      "                                                                                \r"
     ]
    },
    {
     "data": {
      "image/png": "[encoded data removed]",
      "text/plain": [
       "<Figure size 1000x600 with 1 Axes>"
      ]
     },
     "metadata": {},
     "output_type": "display_data"
    }
   ],
   "source": [
    "import matplotlib.pyplot as plt\n",
    "import pandas as pd\n",
    "\n",
    "# Count the number of vertices and edges\n",
    "num_vertices = g.vertices.count()\n",
    "num_edges = g.edges.count()\n",
    "\n",
    "# Create a DataFrame with the counts\n",
    "df = pd.DataFrame({'Elements': ['Vertices', 'Edges'], 'Count': [num_vertices, num_edges]})\n",
    "\n",
    "# Plot the counts\n",
    "plt.figure(figsize=(10, 6))\n",
    "plt.bar(df['Elements'], df['Count'], color=['blue', 'green'])\n",
    "plt.title('Number of Vertices and Edges')\n",
    "plt.xlabel('Elements')\n",
    "plt.ylabel('Count')\n",
    "plt.show()"
   ]
  }
 ],
 "metadata": {
  "kernelspec": {
   "display_name": "Python 3",
   "language": "python",
   "name": "python3"
  },
  "language_info": {
   "codemirror_mode": {
    "name": "ipython",
    "version": 3
   },
   "file_extension": ".py",
   "mimetype": "text/x-python",
   "name": "python",
   "nbconvert_exporter": "python",
   "pygments_lexer": "ipython3",
   "version": "3.9.18"
  }
 },
 "nbformat": 4,
 "nbformat_minor": 2
}
