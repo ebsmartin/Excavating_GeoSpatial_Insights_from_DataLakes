{
 "cells": [
  {
   "cell_type": "code",
   "execution_count": 1,
   "metadata": {},
   "outputs": [
    {
     "name": "stdout",
     "output_type": "stream",
     "text": [
      "3.5.1\n",
      "/usr/bin/python3.9\n"
     ]
    }
   ],
   "source": [
    "import sys\n",
    "sys.path.append(\"/usr/local/python-env/py39/lib/python3.9/site-packages\")\n",
    "\n",
    "import pyspark\n",
    "print(pyspark.__version__)\n",
    "\n",
    "print(sys.executable)"
   ]
  },
  {
   "cell_type": "code",
   "execution_count": 2,
   "metadata": {},
   "outputs": [],
   "source": [
    "import os\n",
    "\n",
    "os.environ['PYSPARK_PYTHON'] = '/usr/bin/python3.9'"
   ]
  },
  {
   "cell_type": "code",
   "execution_count": 3,
   "metadata": {},
   "outputs": [
    {
     "name": "stdout",
     "output_type": "stream",
     "text": [
      "Apache Sedona version: 1.5.1\n"
     ]
    }
   ],
   "source": [
    "import pkg_resources\n",
    "\n",
    "sedona_version = pkg_resources.get_distribution(\"apache-sedona\").version\n",
    "print(f\"Apache Sedona version: {sedona_version}\")"
   ]
  },
  {
   "cell_type": "code",
   "execution_count": 4,
   "metadata": {},
   "outputs": [
    {
     "name": "stdout",
     "output_type": "stream",
     "text": [
      "/usr/local/spark/latest\n",
      "/usr/bin/python3.9\n"
     ]
    }
   ],
   "source": [
    "print(os.environ['SPARK_HOME'])\n",
    "print(os.environ['PYSPARK_PYTHON'])"
   ]
  },
  {
   "cell_type": "code",
   "execution_count": 5,
   "metadata": {},
   "outputs": [],
   "source": [
    "from pyspark.sql import SparkSession\n",
    "from sedona.register import SedonaRegistrator\n",
    "from sedona.utils import SedonaKryoRegistrator, KryoSerializer\n",
    "from pyspark.sql.functions import col\n"
   ]
  },
  {
   "cell_type": "code",
   "execution_count": 6,
   "metadata": {},
   "outputs": [
    {
     "name": "stdout",
     "output_type": "stream",
     "text": [
      ":: loading settings :: url = jar:file:/usr/local/spark/3.5.0-with-hadoop3.3/jars/ivy-2.5.1.jar!/org/apache/ivy/core/settings/ivysettings.xml\n"
     ]
    },
    {
     "name": "stderr",
     "output_type": "stream",
     "text": [
      "Ivy Default Cache set to: /s/chopin/a/grad/flarrieu/.ivy2/cache\n",
      "The jars for the packages stored in: /s/chopin/a/grad/flarrieu/.ivy2/jars\n",
      "graphframes#graphframes added as a dependency\n",
      ":: resolving dependencies :: org.apache.spark#spark-submit-parent-2decc6c3-8899-427c-9579-8dada6759f1c;1.0\n",
      "\tconfs: [default]\n",
      "\tfound graphframes#graphframes;0.8.3-spark3.4-s_2.12 in spark-packages\n",
      "\tfound org.slf4j#slf4j-api;1.7.16 in spark-list\n",
      ":: resolution report :: resolve 125ms :: artifacts dl 6ms\n",
      "\t:: modules in use:\n",
      "\tgraphframes#graphframes;0.8.3-spark3.4-s_2.12 from spark-packages in [default]\n",
      "\torg.slf4j#slf4j-api;1.7.16 from spark-list in [default]\n",
      "\t---------------------------------------------------------------------\n",
      "\t|                  |            modules            ||   artifacts   |\n",
      "\t|       conf       | number| search|dwnlded|evicted|| number|dwnlded|\n",
      "\t---------------------------------------------------------------------\n",
      "\t|      default     |   2   |   0   |   0   |   0   ||   2   |   0   |\n",
      "\t---------------------------------------------------------------------\n",
      ":: retrieving :: org.apache.spark#spark-submit-parent-2decc6c3-8899-427c-9579-8dada6759f1c\n",
      "\tconfs: [default]\n",
      "\t0 artifacts copied, 2 already retrieved (0kB/6ms)\n",
      "24/04/24 11:51:31 WARN NativeCodeLoader: Unable to load native-hadoop library for your platform... using builtin-java classes where applicable\n",
      "Setting default log level to \"WARN\".\n",
      "To adjust logging level use sc.setLogLevel(newLevel). For SparkR, use setLogLevel(newLevel).\n"
     ]
    }
   ],
   "source": [
    "spark = SparkSession \\\n",
    "    .builder \\\n",
    "    .appName(\"GraphFramesExample\") \\\n",
    "    .master('spark://columbus-oh.cs.colostate.edu:30800') \\\n",
    "    .config(\"spark.jars.packages\", \"graphframes:graphframes:0.8.3-spark3.4-s_2.12\") \\\n",
    "    .config(\"spark.yarn.resourcemanager.address\", \"columbia.cs.colostate.edu:30799\") \\\n",
    "    .getOrCreate()\n",
    "\n",
    "spark.sparkContext.setLogLevel(\"ERROR\")\n",
    "logger = spark._jvm.org.apache.log4j.LogManager.getLogger(__name__)\n"
   ]
  },
  {
   "cell_type": "code",
   "execution_count": 7,
   "metadata": {},
   "outputs": [],
   "source": [
    "# Import the necessary module from py4j to interact with JVM\n",
    "from py4j.java_gateway import java_import\n",
    "\n",
    "# Import the Path class from Hadoop. This class is used to handle file paths in Hadoop.\n",
    "java_import(spark._jvm, 'org.apache.hadoop.fs.Path')\n",
    "\n",
    "fs = spark._jvm.org.apache.hadoop.fs.FileSystem.get(spark._jsc.hadoopConfiguration())"
   ]
  },
  {
   "cell_type": "code",
   "execution_count": 8,
   "metadata": {},
   "outputs": [],
   "source": [
    "def get_csv_df(file_name: str):\n",
    "    data_directory = \"hdfs://columbus-oh.cs.colostate.edu:30785/geospatial/graph/\"\n",
    "    print(f\"Processing file: {file_name}\")\n",
    "\n",
    "    if \"Nodes\" in file_name:\n",
    "        schema = \"Node_ID string, Type string\"\n",
    "        df = spark.read.format(\"csv\").option(\"header\", \"true\").schema(schema).load(data_directory + file_name)\n",
    "        df = df.withColumnRenamed(\"Node_ID\", \"id\")  # Rename column for GraphFrame compatibility\n",
    "    elif \"Edges\" in file_name:\n",
    "        schema = \"Subject string, Relationship string, Object string\"\n",
    "        df = spark.read.format(\"csv\").option(\"header\", \"true\").schema(schema).load(data_directory + file_name)\n",
    "        df = df.withColumnRenamed(\"Subject\", \"src\").withColumnRenamed(\"Object\", \"dst\")  # Rename columns for GraphFrame compatibility\n",
    "    else:\n",
    "        df = None\n",
    "\n",
    "    return df\n"
   ]
  },
  {
   "cell_type": "code",
   "execution_count": 9,
   "metadata": {},
   "outputs": [],
   "source": [
    "from graphframes import *"
   ]
  },
  {
   "cell_type": "code",
   "execution_count": 10,
   "metadata": {},
   "outputs": [
    {
     "name": "stdout",
     "output_type": "stream",
     "text": [
      "Processing file: BaseNodes.csv\n",
      "Processing file: BaseEdges.csv\n"
     ]
    }
   ],
   "source": [
    "# Load the nodes and edges data\n",
    "nodes_df = get_csv_df(\"BaseNodes.csv\")\n",
    "edges_df = get_csv_df(\"BaseEdges.csv\")"
   ]
  },
  {
   "cell_type": "code",
   "execution_count": 11,
   "metadata": {},
   "outputs": [
    {
     "name": "stdout",
     "output_type": "stream",
     "text": [
      "['id', 'Type']\n",
      "['src', 'Relationship', 'dst']\n"
     ]
    }
   ],
   "source": [
    "print(nodes_df.columns)\n",
    "print(edges_df.columns)"
   ]
  },
  {
   "cell_type": "code",
   "execution_count": 12,
   "metadata": {},
   "outputs": [
    {
     "name": "stderr",
     "output_type": "stream",
     "text": [
      "                                                                                \r"
     ]
    },
    {
     "name": "stdout",
     "output_type": "stream",
     "text": [
      "+--------------------+-----+\n",
      "|                  id| Type|\n",
      "+--------------------+-----+\n",
      "|BlockGroup_060871...|Block|\n",
      "|BlockGroup_060375...|Block|\n",
      "|BlockGroup_060133...|Block|\n",
      "|BlockGroup_060372...|Block|\n",
      "|BlockGroup_060014...|Block|\n",
      "|BlockGroup_060855...|Block|\n",
      "|BlockGroup_061070...|Block|\n",
      "|BlockGroup_060830...|Block|\n",
      "|BlockGroup_060133...|Block|\n",
      "|BlockGroup_060374...|Block|\n",
      "|BlockGroup_060371...|Block|\n",
      "|BlockGroup_060590...|Block|\n",
      "|BlockGroup_060190...|Block|\n",
      "|BlockGroup_060855...|Block|\n",
      "|BlockGroup_060770...|Block|\n",
      "|BlockGroup_060470...|Block|\n",
      "|BlockGroup_060910...|Block|\n",
      "|BlockGroup_060816...|Block|\n",
      "|BlockGroup_060371...|Block|\n",
      "|BlockGroup_060730...|Block|\n",
      "+--------------------+-----+\n",
      "only showing top 20 rows\n",
      "\n"
     ]
    },
    {
     "name": "stderr",
     "output_type": "stream",
     "text": [
      "[Stage 1:>                                                          (0 + 1) / 1]\r"
     ]
    },
    {
     "name": "stdout",
     "output_type": "stream",
     "text": [
      "+--------------------+------------+-----------------+\n",
      "|                 src|Relationship|              dst|\n",
      "+--------------------+------------+-----------------+\n",
      "|BlockGroup_060730...|    isPartOf|Tract_06073018102|\n",
      "|BlockGroup_060730...|    isPartOf|Tract_06073007200|\n",
      "|BlockGroup_060730...|    isPartOf|Tract_06073017702|\n",
      "|BlockGroup_060759...|    isPartOf|Tract_06075980200|\n",
      "|BlockGroup_060350...|    isPartOf|Tract_06035040600|\n",
      "|BlockGroup_060750...|    isPartOf|Tract_06075010500|\n",
      "|BlockGroup_060590...|    isPartOf|Tract_06059099239|\n",
      "|BlockGroup_060373...|    isPartOf|Tract_06037301206|\n",
      "|BlockGroup_060590...|    isPartOf|Tract_06059099405|\n",
      "|BlockGroup_060290...|    isPartOf|Tract_06029002002|\n",
      "|BlockGroup_061130...|    isPartOf|Tract_06113010704|\n",
      "|BlockGroup_060650...|    isPartOf|Tract_06065046900|\n",
      "|BlockGroup_060770...|    isPartOf|Tract_06077004905|\n",
      "|BlockGroup_060374...|    isPartOf|Tract_06037408900|\n",
      "|BlockGroup_060790...|    isPartOf|Tract_06079012302|\n",
      "|BlockGroup_061110...|    isPartOf|Tract_06111005908|\n",
      "|BlockGroup_060450...|    isPartOf|Tract_06045010602|\n",
      "|BlockGroup_060371...|    isPartOf|Tract_06037187102|\n",
      "|BlockGroup_060375...|    isPartOf|Tract_06037531702|\n",
      "|BlockGroup_060390...|    isPartOf|Tract_06039000109|\n",
      "+--------------------+------------+-----------------+\n",
      "only showing top 20 rows\n",
      "\n"
     ]
    },
    {
     "name": "stderr",
     "output_type": "stream",
     "text": [
      "                                                                                \r"
     ]
    }
   ],
   "source": [
    "nodes_df.show()\n",
    "edges_df.show()"
   ]
  },
  {
   "cell_type": "code",
   "execution_count": 13,
   "metadata": {},
   "outputs": [],
   "source": [
    "g = GraphFrame(nodes_df, edges_df)\n"
   ]
  },
  {
   "cell_type": "code",
   "execution_count": 14,
   "metadata": {},
   "outputs": [
    {
     "name": "stderr",
     "output_type": "stream",
     "text": [
      "[Stage 4:=============================>                             (3 + 3) / 6]\r"
     ]
    },
    {
     "name": "stdout",
     "output_type": "stream",
     "text": [
      "+--------------+------------+-----------------+\n",
      "|           src|Relationship|              dst|\n",
      "+--------------+------------+-----------------+\n",
      "|State_Colorado|    Contains| County_Archuleta|\n",
      "|State_Colorado|    Contains|  County_La Plata|\n",
      "|State_Colorado|    Contains| County_Montezuma|\n",
      "|State_Colorado|    Contains|County_Rio Grande|\n",
      "|State_Colorado|    Contains|   County_Mineral|\n",
      "|State_Colorado|    Contains|   County_Dolores|\n",
      "|State_Colorado|    Contains|  County_San Juan|\n",
      "|State_Colorado|    Contains|  County_Hinsdale|\n",
      "|State_Colorado|    Contains|County_San Miguel|\n",
      "|State_Colorado|    Contains|     County_Ouray|\n",
      "|State_Colorado|    Contains|   County_Conejos|\n",
      "|State_Colorado|    Contains|  County_Costilla|\n",
      "|State_Colorado|    Contains|   County_Alamosa|\n",
      "|State_Colorado|    Contains|  County_Huerfano|\n",
      "|State_Colorado|    Contains|  County_Saguache|\n",
      "|State_Colorado|    Contains|    County_Custer|\n",
      "|State_Colorado|    Contains|    County_Pueblo|\n",
      "|State_Colorado|    Contains|   County_Fremont|\n",
      "|State_Colorado|    Contains|   County_Chaffee|\n",
      "|State_Colorado|    Contains|   County_El Paso|\n",
      "+--------------+------------+-----------------+\n",
      "only showing top 20 rows\n",
      "\n"
     ]
    },
    {
     "name": "stderr",
     "output_type": "stream",
     "text": [
      "                                                                                \r"
     ]
    }
   ],
   "source": [
    "counties_in_state = edges_df \\\n",
    "    .filter((col(\"src\") == \"State_Colorado\") & (col(\"Relationship\") == \"Contains\")) \\\n",
    "\n",
    "counties_in_state.show()"
   ]
  },
  {
   "cell_type": "markdown",
   "metadata": {},
   "source": [
    "# Aggregation Queries"
   ]
  },
  {
   "cell_type": "code",
   "execution_count": null,
   "metadata": {},
   "outputs": [],
   "source": [
    "demographics_df = spark.read.csv(\"demographics.csv\", header=True, inferSchema=True)\n",
    "\n",
    "# Aggregate data for each tract\n",
    "tract_data = demographics_df \\\n",
    "    .join(edges_df, edges_df[\"dst\"] == demographics_df[\"BlockGroupID\"]) \\\n",
    "    .groupBy(\"src\") \\\n",
    "    .agg(sum(\"Population\").alias(\"TotalPopulation\"))"
   ]
  },
  {
   "cell_type": "markdown",
   "metadata": {},
   "source": [
    "# Proximity Queries"
   ]
  },
  {
   "cell_type": "code",
   "execution_count": null,
   "metadata": {},
   "outputs": [],
   "source": [
    "# Assuming 'lat' and 'lon' columns exist and 'point_lat' and 'point_lon' are given\n",
    "from pyspark.sql.functions import expr\n",
    "\n",
    "radius_query = nodes_df.filter(\n",
    "    expr(f\"ST_Distance(ST_Point(lon, lat), ST_Point({point_lon}, {point_lat})) <= {radius}\")\n",
    ")"
   ]
  },
  {
   "cell_type": "markdown",
   "metadata": {},
   "source": [
    "# In-degreee"
   ]
  },
  {
   "cell_type": "code",
   "execution_count": null,
   "metadata": {},
   "outputs": [],
   "source": [
    "# Run a simple graph algorithm (optional)\n",
    "print(\"In-degree of each vertex:\")\n",
    "g.inDegrees.show()"
   ]
  }
 ],
 "metadata": {
  "kernelspec": {
   "display_name": "Python 3",
   "language": "python",
   "name": "python3"
  },
  "language_info": {
   "codemirror_mode": {
    "name": "ipython",
    "version": 3
   },
   "file_extension": ".py",
   "mimetype": "text/x-python",
   "name": "python",
   "nbconvert_exporter": "python",
   "pygments_lexer": "ipython3",
   "version": "3.9.18"
  }
 },
 "nbformat": 4,
 "nbformat_minor": 2
}
