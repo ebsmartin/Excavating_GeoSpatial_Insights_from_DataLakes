{
 "cells": [
  {
   "cell_type": "markdown",
   "metadata": {},
   "source": [
    "## Geometry String to Object\n",
    "\n",
    "This example demonstrates how to convert Geometry json strings to geometry"
   ]
  },
  {
   "cell_type": "code",
   "execution_count": null,
   "metadata": {},
   "outputs": [],
   "source": [
    "# View the first 5 rows of the state_boundaries_sedona DataFrame\n",
    "\n",
    "# Path to the GeoJSON file\n",
    "geojson_path = \"hdfs://columbus-oh.cs.colostate.edu:30785/geospatial/input/cb_2018_us_state_20m.json\"\n",
    "\n",
    "# Read the GeoJSON file using the defined schema using sedona into a spark dataframe\n",
    "state_boundaries_sedona = spark.read.schema(geojsonSchema).json(geojson_path, multiLine=True)\n",
    "\n",
    "# Explode the features array to create a row for each feature and select the columns\n",
    "state_boundaries_sedona = (state_boundaries_sedona\n",
    "                        .select(F.explode(\"features\").alias(\"features\"))\n",
    "                        .select(\"features.*\")\n",
    "                        # Use Sedona's ST_GeomFromGeoJSON function to convert the geometry string to a geometry object\n",
    "                        .withColumn(\"geometry\", F.expr(\"ST_GeomFromGeoJSON(geometry)\"))\n",
    "                        )\n",
    "\n",
    "state_boundaries_sedona.show(5, truncate=False)"
   ]
  },
  {
   "cell_type": "markdown",
   "metadata": {},
   "source": [
    "## Running Spatial Queries\n",
    "\n",
    "https://sedona.apache.org/1.5.1/api/sql/Function/\n",
    "\n",
    "### Range Query\n",
    "\n",
    "This example demonstrates how to perform a range query using ST_Contains to find geometries within a specified polygon:"
   ]
  },
  {
   "cell_type": "code",
   "execution_count": null,
   "metadata": {},
   "outputs": [],
   "source": [
    "# Define a polygon using ST_PolygonFromEnvelope and perform a range query\n",
    "\n",
    "bbox_polygon = \"ST_PolygonFromEnvelope(-79.5, 37.9, -75.6, 39.8)\"\n",
    "\n",
    "# Perform the range query to find features within the bounding box\n",
    "contained_features = state_boundaries_sedona.filter(\n",
    "    F.expr(f\"ST_Contains({bbox_polygon}, geometry)\")\n",
    ")\n",
    "\n",
    "# Show results\n",
    "contained_features.show()"
   ]
  },
  {
   "cell_type": "markdown",
   "metadata": {},
   "source": [
    "## KNN Query\n",
    "\n",
    "This example demonstrates how to perform a k-nearest neighbors (KNN) query using ST_Distance to find the k nearest geometries to a specified point:"
   ]
  },
  {
   "cell_type": "code",
   "execution_count": null,
   "metadata": {},
   "outputs": [],
   "source": [
    "from pyspark.sql import functions as F\n",
    "\n",
    "# Calculate the center of the bounding box and create a WKT representation of the point\n",
    "center_longitude = (-79.5 + -75.6) / 2\n",
    "center_latitude = (37.9 + 39.8) / 2\n",
    "center_point_wkt = f\"POINT({center_longitude} {center_latitude})\"\n",
    "\n",
    "# Perform the KNN query using ST_Distance to calculate the distance to the center point\n",
    "knnQueryResult = state_boundaries_sedona.select(\n",
    "    # Access the 'NAME' from the 'properties' map\n",
    "    F.col(\"properties\").getItem(\"NAME\").alias(\"NAME\"),\n",
    "    F.expr(f\"ST_Distance(ST_GeomFromWKT('{center_point_wkt}'), geometry)\").alias(\"distance\")\n",
    ").orderBy(\"distance\").limit(5)\n",
    "\n",
    "knnQueryResult.show()"
   ]
  },
  {
   "cell_type": "markdown",
   "metadata": {},
   "source": [
    "## Generating Geohashes\n",
    "\n",
    "This example demonstrates how to generate the geohash of each geometry"
   ]
  },
  {
   "cell_type": "code",
   "execution_count": null,
   "metadata": {},
   "outputs": [],
   "source": [
    "# Define the precision for the GeoHash\n",
    "precision = 17\n",
    "\n",
    "# Apply the ST_GeoHash function to each DataFrame in the dictionary\n",
    "for file_name, df in json_dataset_dataframes.items():\n",
    "    # Add a new column 'geohash' to the DataFrame\n",
    "    # The new column is the GeoHash of the 'geometry' column with the given precision\n",
    "    df = df.withColumn('geohash', F.expr(f\"ST_GeoHash(geometry, {precision})\"))\n",
    "    \n",
    "    # Update the DataFrame in the dictionary\n",
    "    json_dataset_dataframes[file_name] = df"
   ]
  },
  {
   "cell_type": "code",
   "execution_count": null,
   "metadata": {},
   "outputs": [],
   "source": [
    "# Loop through each DataFrame in the dictionary\n",
    "for file_name, df in json_dataset_dataframes.items():\n",
    "    # Print the file name\n",
    "    print(f\"File: {file_name}\")\n",
    "    \n",
    "    # Show the first few rows of the DataFrame\n",
    "    df.show()"
   ]
  }
 ],
 "metadata": {
  "kernelspec": {
   "display_name": "Python 3",
   "language": "python",
   "name": "python3"
  },
  "language_info": {
   "codemirror_mode": {
    "name": "ipython",
    "version": 3
   },
   "file_extension": ".py",
   "mimetype": "text/x-python",
   "name": "python",
   "nbconvert_exporter": "python",
   "pygments_lexer": "ipython3",
   "version": "3.9.18"
  },
  "orig_nbformat": 4
 },
 "nbformat": 4,
 "nbformat_minor": 2
}
