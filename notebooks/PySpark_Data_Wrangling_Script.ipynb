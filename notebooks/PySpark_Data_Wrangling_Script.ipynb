{
 "cells": [
  {
   "cell_type": "markdown",
   "metadata": {},
   "source": [
    "# **Excavating New Datasets via GeoSpatial Insights from Datalakes**\n"
   ]
  },
  {
   "cell_type": "markdown",
   "metadata": {},
   "source": [
    "Eric Martin <br>\n",
    "Federico Larrieu <br>\n",
    "CS 555 Distributed Systems <br>\n",
    "Colorado State University <br>\n",
    "Spring 2024 <br>\n",
    "\n",
    "### Objective\n",
    "\n",
    "    • Perform analytics over a large-scale temporal network\n",
    "\n",
    "### Overview\n",
    "In this assignment, I will perform an analysis of a continuously evolving temporal network. Large-scale networks are observed in many different sociological and scientific settings such as computer networks, networks of social media, academic/technical citation networks and hyperlink networks. To understand such networks, there have been several properties of interest based primarily on two key measurements: the degrees of nodes and the shortest distances between pairs of nodes. The node-to-node distances often infer the graph’s diameter, which is the maximum shortest distance among all the connected pairs of nodes. \n",
    "\n",
    "Most of the large networks evolve over time by adding new members/items and relationships between them or removing some of them. In the traditional temporal network analysis, there are two major hypotheses. \n",
    "\n",
    "    (a) the average node degree in the network remains constant over time.\n",
    "    (Or the number of edges grows linearly in the number of nodes.). \n",
    "\n",
    "    (b) the diameter is a slowly growing function of the network size. \n",
    "\n",
    "    How are these hypothesis (a) and (b) reflected in real-world data?\n",
    "\n",
    "In this assignment, I measure fundamental network properties with a \n",
    "citation network and investigate how they evolve. I will perform the following computations using Apache Spark.\n",
    "\n",
    "### Dataset\n",
    "\n",
    "The dataset for this assignment is the arXiv citation graph ( J. Gehrke, P. Ginsparg, and J. M. Kleinberg. Overview of the 2003 kdd cup. SIGKDD Explorations, 5(2):149–151, 2003) that covers papers published in the period from January 1993 to April 2003 (11 years). \n",
    "\n",
    "Please note that the dataset for the last year (2003) is incomplete and does not represent the entire year."
   ]
  },
  {
   "cell_type": "markdown",
   "metadata": {},
   "source": [
    "## Task 1: Exercises on the basic Spark features\n",
    "\n",
    "In this task, I will practice with the key features of the Apache Spark.\n",
    "\n",
    "    (1) Count the number of unique published papers per year - create an output file with the number of papers published each year.\n",
    "\n",
    "    (2) Count the number of edges (citations) generated per year - create an output file with the number of citations added each year.\n",
    "\n",
    "\n",
    "First I am going to transfer my two datasets to the HDFS file system. I will use the following commands to transfer the files to the HDFS file system.\n",
    "\n",
    "1) Start HDFS on NameNode\n",
    "    ```bash\n",
    "    start-dfs.sh\n",
    "    ```\n",
    "2) Start YARN on ResourceManager\n",
    "    ```bash\n",
    "    start-yarn.sh\n",
    "    ```\n",
    "3) Start Spark on the NameNode \n",
    "    start-master.sh\n",
    "    start-workers.sh\n",
    "    ```\n",
    "4) Transfer the files to HDFS\n",
    "    ```bash\n",
    "        hadoop fs -mkdir /pa1\n",
    "        hadoop fs -mkdir /pa1/input\n",
    "        hadoop fs -put cs535/PA1/citations-redo.txt /pa1/input\n",
    "        hadoop fs -put cs535/PA1/published-dates-redo.txt /pa1/input\n",
    "    ```\n",
    "5) Verify the files are in HDFS\n",
    "    5.1) Set up SSH with tunneling\n",
    "    ```bash\n",
    "        ssh -L 8080:localhost:8080 ebmartin@hartford.cs.colostate.edu\n",
    "    ```\n",
    "    5.2) Find HDFS web address \n",
    "    ```bash\n",
    "        cd hadoopConf\n",
    "        vim hdfs-site.xml\n",
    "    ```\n",
    "    5.3) Find the following:\n",
    "    ```xml\n",
    "        <property>\n",
    "            <name>dfs.namenode.http-address</name>\n",
    "            <value>hartford.cs.colostate.edu:30182</value>\n",
    "            <description>Location of the DFS web UI</description>\n",
    "        </property>\n",
    "    ``````\n",
    "    5.4) Open local web browser and go to HDFS web address (http://<namenode>:<port>)\n",
    "    ```bash\n",
    "        http://hartford.cs.colostate.edu:30182/\n",
    "    ```\n",
    "    5.5) Verify files are in HDFS\n",
    "    ```bash\n",
    "        http://hartford.cs.colostate.edu:30182/explorer.html#/pa1/input\n",
    "    ```\n",
    "6) Check the YARN web portal to see if the Spark application is running (http://<resource_manager_host>:<port>)\n",
    "    ```bash\n",
    "        http://honolulu.cs.colostate.edu:30194/\n",
    "    ```\n",
    "7) Check the Spark web portal to see if the Spark application is running (http://<SPARK_MASTER_IP>:<SPARK_MASTER_WEBUI_PORT>)\n",
    "    ```bash\n",
    "        http://hartford.cs.colostate.edu:30197/\n",
    "    ```\n",
    "    *Note:*\n",
    "    *I wrote all this so I can reference how I did it in future assignments.*"
   ]
  },
  {
   "cell_type": "markdown",
   "metadata": {},
   "source": [
    "### Load data into Spark"
   ]
  },
  {
   "cell_type": "code",
   "execution_count": 1,
   "metadata": {},
   "outputs": [
    {
     "name": "stdout",
     "output_type": "stream",
     "text": [
      "3.5.0\n",
      "/bin/python3.9\n"
     ]
    }
   ],
   "source": [
    "import sys\n",
    "sys.path.append(\"/usr/local/python-env/py39/lib/python3.9/site-packages\")\n",
    "\n",
    "import pyspark\n",
    "print(pyspark.__version__)\n",
    "\n",
    "\n",
    "print(sys.executable)"
   ]
  },
  {
   "cell_type": "markdown",
   "metadata": {},
   "source": [
    "### Initialze a SparkSession\n",
    "\n",
    "Initialize a test session to ensure the SparkSession is working properly. This will connect to the resource manager node that is running the YARN cluster. If we visit the YARN web portal, we can see that the Spark application is running."
   ]
  },
  {
   "cell_type": "markdown",
   "metadata": {},
   "source": [
    "Ensuring the pyspark library is being accessed from my local usr directory.\n"
   ]
  },
  {
   "cell_type": "code",
   "execution_count": 2,
   "metadata": {},
   "outputs": [],
   "source": [
    "import os\n",
    "os.environ['PYSPARK_PYTHON'] = '/usr/bin/python3.9'"
   ]
  },
  {
   "cell_type": "code",
   "execution_count": 3,
   "metadata": {},
   "outputs": [
    {
     "name": "stdout",
     "output_type": "stream",
     "text": [
      "Apache Sedona version: 1.5.1\n"
     ]
    }
   ],
   "source": [
    "import pkg_resources\n",
    "\n",
    "sedona_version = pkg_resources.get_distribution(\"apache-sedona\").version\n",
    "print(f\"Apache Sedona version: {sedona_version}\")"
   ]
  },
  {
   "cell_type": "code",
   "execution_count": 4,
   "metadata": {},
   "outputs": [
    {
     "name": "stdout",
     "output_type": "stream",
     "text": [
      "/usr/local/spark/latest\n",
      "/usr/bin/python3.9\n"
     ]
    }
   ],
   "source": [
    "print(os.environ['SPARK_HOME'])\n",
    "print(os.environ['PYSPARK_PYTHON'])"
   ]
  },
  {
   "cell_type": "markdown",
   "metadata": {},
   "source": [
    "## Now to make the app"
   ]
  },
  {
   "cell_type": "code",
   "execution_count": 5,
   "metadata": {},
   "outputs": [
    {
     "name": "stdout",
     "output_type": "stream",
     "text": [
      "Skipping SedonaKepler import, verify if keplergl is installed\n"
     ]
    },
    {
     "name": "stderr",
     "output_type": "stream",
     "text": [
      "https://artifacts.unidata.ucar.edu/repository/unidata-all added as a remote repository with the name: repo-1\n",
      "Ivy Default Cache set to: /s/chopin/l/grad/ebmartin/.ivy2/cache\n",
      "The jars for the packages stored in: /s/chopin/l/grad/ebmartin/.ivy2/jars\n",
      "org.apache.sedona#sedona-spark-3.5_2.12 added as a dependency\n",
      "org.datasyslab#geotools-wrapper added as a dependency\n",
      ":: resolving dependencies :: org.apache.spark#spark-submit-parent-7224d46c-5fba-467d-97bb-0541fc98d16e;1.0\n",
      "\tconfs: [default]\n",
      "\tfound org.apache.sedona#sedona-spark-3.5_2.12;1.5.1 in central\n",
      "\tfound org.apache.sedona#sedona-common;1.5.1 in central\n",
      "\tfound org.apache.commons#commons-math3;3.6.1 in local-m2-cache\n",
      "\tfound org.locationtech.jts#jts-core;1.19.0 in central\n",
      "\tfound org.wololo#jts2geojson;0.16.1 in central\n",
      "\tfound org.locationtech.spatial4j#spatial4j;0.8 in central\n",
      "\tfound com.google.geometry#s2-geometry;2.0.0 in central\n",
      "\tfound com.google.guava#guava;25.1-jre in central\n",
      "\tfound com.google.code.findbugs#jsr305;3.0.2 in local-m2-cache\n",
      "\tfound org.checkerframework#checker-qual;2.0.0 in central\n"
     ]
    },
    {
     "name": "stdout",
     "output_type": "stream",
     "text": [
      ":: loading settings :: url = jar:file:/usr/local/spark/3.5.0-with-hadoop3.3/jars/ivy-2.5.1.jar!/org/apache/ivy/core/settings/ivysettings.xml\n"
     ]
    },
    {
     "name": "stderr",
     "output_type": "stream",
     "text": [
      "\tfound com.google.errorprone#error_prone_annotations;2.1.3 in central\n",
      "\tfound com.google.j2objc#j2objc-annotations;1.1 in local-m2-cache\n",
      "\tfound org.codehaus.mojo#animal-sniffer-annotations;1.14 in central\n",
      "\tfound com.uber#h3;4.1.1 in central\n",
      "\tfound net.sf.geographiclib#GeographicLib-Java;1.52 in central\n",
      "\tfound com.github.ben-manes.caffeine#caffeine;2.9.2 in central\n",
      "\tfound org.checkerframework#checker-qual;3.10.0 in central\n",
      "\tfound com.google.errorprone#error_prone_annotations;2.5.1 in central\n",
      "\tfound org.apache.sedona#sedona-spark-common-3.5_2.12;1.5.1 in central\n",
      "\tfound commons-lang#commons-lang;2.6 in local-m2-cache\n",
      "\tfound org.scala-lang.modules#scala-collection-compat_2.12;2.5.0 in central\n",
      "\tfound org.beryx#awt-color-factory;1.0.0 in central\n",
      "\tfound org.datasyslab#geotools-wrapper;1.5.1-28.2 in central\n",
      ":: resolution report :: resolve 288ms :: artifacts dl 18ms\n",
      "\t:: modules in use:\n",
      "\tcom.github.ben-manes.caffeine#caffeine;2.9.2 from central in [default]\n",
      "\tcom.google.code.findbugs#jsr305;3.0.2 from local-m2-cache in [default]\n",
      "\tcom.google.errorprone#error_prone_annotations;2.5.1 from central in [default]\n",
      "\tcom.google.geometry#s2-geometry;2.0.0 from central in [default]\n",
      "\tcom.google.guava#guava;25.1-jre from central in [default]\n",
      "\tcom.google.j2objc#j2objc-annotations;1.1 from local-m2-cache in [default]\n",
      "\tcom.uber#h3;4.1.1 from central in [default]\n",
      "\tcommons-lang#commons-lang;2.6 from local-m2-cache in [default]\n",
      "\tnet.sf.geographiclib#GeographicLib-Java;1.52 from central in [default]\n",
      "\torg.apache.commons#commons-math3;3.6.1 from local-m2-cache in [default]\n",
      "\torg.apache.sedona#sedona-common;1.5.1 from central in [default]\n",
      "\torg.apache.sedona#sedona-spark-3.5_2.12;1.5.1 from central in [default]\n",
      "\torg.apache.sedona#sedona-spark-common-3.5_2.12;1.5.1 from central in [default]\n",
      "\torg.beryx#awt-color-factory;1.0.0 from central in [default]\n",
      "\torg.checkerframework#checker-qual;3.10.0 from central in [default]\n",
      "\torg.codehaus.mojo#animal-sniffer-annotations;1.14 from central in [default]\n",
      "\torg.datasyslab#geotools-wrapper;1.5.1-28.2 from central in [default]\n",
      "\torg.locationtech.jts#jts-core;1.19.0 from central in [default]\n",
      "\torg.locationtech.spatial4j#spatial4j;0.8 from central in [default]\n",
      "\torg.scala-lang.modules#scala-collection-compat_2.12;2.5.0 from central in [default]\n",
      "\torg.wololo#jts2geojson;0.16.1 from central in [default]\n",
      "\t:: evicted modules:\n",
      "\torg.checkerframework#checker-qual;2.0.0 by [org.checkerframework#checker-qual;3.10.0] in [default]\n",
      "\tcom.google.errorprone#error_prone_annotations;2.1.3 by [com.google.errorprone#error_prone_annotations;2.5.1] in [default]\n",
      "\t---------------------------------------------------------------------\n",
      "\t|                  |            modules            ||   artifacts   |\n",
      "\t|       conf       | number| search|dwnlded|evicted|| number|dwnlded|\n",
      "\t---------------------------------------------------------------------\n",
      "\t|      default     |   23  |   0   |   0   |   2   ||   21  |   0   |\n",
      "\t---------------------------------------------------------------------\n",
      ":: retrieving :: org.apache.spark#spark-submit-parent-7224d46c-5fba-467d-97bb-0541fc98d16e\n",
      "\tconfs: [default]\n",
      "\t0 artifacts copied, 21 already retrieved (0kB/9ms)\n",
      "Setting default log level to \"WARN\".\n",
      "To adjust logging level use sc.setLogLevel(newLevel). For SparkR, use setLogLevel(newLevel).\n",
      "/tmp/ipykernel_19115/4208096476.py:35: DeprecationWarning: Call to deprecated function registerAll (Deprecated since 1.4.1, use SedonaContext.create() instead.).\n",
      "  SedonaRegistrator.registerAll(spark)\n",
      "/s/chopin/l/grad/ebmartin/.local/lib/python3.9/site-packages/sedona/register/geo_registrator.py:45: DeprecationWarning: Call to deprecated function register (Deprecated since 1.4.1, use SedonaContext.create() instead.).\n",
      "  cls.register(spark)\n"
     ]
    }
   ],
   "source": [
    "from pyspark.sql import SparkSession\n",
    "from pyspark.sql import functions as F\n",
    "from pyspark.sql.functions import split\n",
    "from pyspark.sql.functions import col\n",
    "from pyspark.sql import Row\n",
    "from pyspark.sql.types import IntegerType, DateType\n",
    "from pyspark.sql.functions import year  # used to extract year from date, could do this manually as well\n",
    "from pyspark.sql import Window\n",
    "from pyspark.sql.functions import sum as pyspark_sum\n",
    "\n",
    "\n",
    "from pyspark.sql import SparkSession\n",
    "from sedona.register import SedonaRegistrator\n",
    "from sedona.utils import SedonaKryoRegistrator, KryoSerializer\n",
    "from sedona.spark import *\n",
    "import geopandas as gpd\n",
    "\n",
    "spark = SparkSession \\\n",
    "    .builder \\\n",
    "    .appName('GeoSpatialQueries_eric') \\\n",
    "    .master('spark://hartford:30196') \\\n",
    "    .config(\"spark.yarn.resourcemanager.address\", \"honolulu.cs.colostate.edu:30190\") \\\n",
    "    .config(\"spark.serializer\", KryoSerializer.getName) \\\n",
    "    .config(\"spark.kryo.registrator\", SedonaKryoRegistrator.getName) \\\n",
    "    .config('spark.jars.packages',\n",
    "            'org.apache.sedona:sedona-spark-3.5_2.12:1.5.1,'\n",
    "            'org.datasyslab:geotools-wrapper:1.5.1-28.2') \\\n",
    "    .config('spark.jars.repositories', 'https://artifacts.unidata.ucar.edu/repository/unidata-all') \\\n",
    "    .getOrCreate()\n",
    "\n",
    "# Set log level to DEBUG\n",
    "spark.sparkContext.setLogLevel(\"ERROR\")\n",
    "\n",
    "sedona = SedonaContext.create(spark)\n",
    "SedonaRegistrator.registerAll(spark)\n",
    "\n",
    "# create a logger\n",
    "logger = spark._jvm.org.apache.log4j.LogManager.getLogger(__name__)\n",
    "logger.info(\"Pyspark initialized...\")\n",
    "\n",
    "# IF YOU WANT TO RUN THE TEST, SET isTest = True\n",
    "isTest = False"
   ]
  },
  {
   "cell_type": "markdown",
   "metadata": {},
   "source": [
    "## Load the datasets\n",
    "\n",
    "Got the code for this from https://sedona.apache.org/1.5.1/tutorial/sql/\n",
    "\n",
    "Load GeoJSON using Spark JSON Data Source:\n",
    "\n",
    "Spark SQL's built-in JSON data source supports reading GeoJSON data. To ensure proper parsing of the geometry property, we can define a schema with the geometry property set to type 'string'. This prevents Spark from interpreting the property and allows us to use the ST_GeomFromGeoJSON function for accurate geometry parsing.\n",
    "\n",
    "```python\n",
    "schema = \"type string, crs string, totalFeatures long, features array<struct<type string, geometry string, properties map<string, string>>>\";\n",
    "(sedona.read.json(geojson_path, schema=schema)\n",
    "    .selectExpr(\"explode(features) as features\") # Explode the envelope to get one feature per row.\n",
    "    .select(\"features.*\") # Unpack the features struct.\n",
    "    .withColumn(\"geometry\", f.expr(\"ST_GeomFromGeoJSON(geometry)\")) # Convert the geometry string.\n",
    "    .printSchema())\n",
    "```"
   ]
  },
  {
   "cell_type": "code",
   "execution_count": 6,
   "metadata": {},
   "outputs": [],
   "source": [
    "# Import the necessary module from py4j to interact with JVM\n",
    "from py4j.java_gateway import java_import\n",
    "\n",
    "# Import the Path class from Hadoop. This class is used to handle file paths in Hadoop.\n",
    "java_import(spark._jvm, 'org.apache.hadoop.fs.Path')\n",
    "\n",
    "# Define a function to recursively get all .json and .geojson files in a directory and its subdirectories\n",
    "def get_files_recursive(path):\n",
    "    # Use the listStatus method of the FileSystem class to get an array of FileStatus objects\n",
    "    # Each FileStatus object represents a file or directory in the given path\n",
    "    file_status_arr = fs.listStatus(spark._jvm.Path(path))\n",
    "    \n",
    "    # Initialize an empty list to hold the file paths\n",
    "    file_paths = []\n",
    "    \n",
    "    # Loop through each FileStatus object in the array\n",
    "    for file_status in file_status_arr:\n",
    "        # If the FileStatus object represents a directory\n",
    "        if file_status.isDirectory():\n",
    "            # Call the get_files_recursive function with the directory path\n",
    "            # This is a recursive call, which means the function calls itself\n",
    "            # Add the returned file paths to the file_paths list\n",
    "            file_paths += get_files_recursive(file_status.getPath().toString())\n",
    "        # If the FileStatus object represents a file that ends with .json or .geojson\n",
    "        elif file_status.getPath().getName().endswith(('.json', '.geojson')):\n",
    "            # Add the file path to the file_paths list\n",
    "            file_paths.append(file_status.getPath().toString())\n",
    "    \n",
    "    # Return the list of file paths\n",
    "    return file_paths"
   ]
  },
  {
   "cell_type": "code",
   "execution_count": 7,
   "metadata": {},
   "outputs": [
    {
     "name": "stdout",
     "output_type": "stream",
     "text": [
      "Processing file: hdfs://hartford.cs.colostate.edu:30181/geospatial/input/AgriculturalArea/AgriculturalArea.geojson\n",
      "Processing file: hdfs://hartford.cs.colostate.edu:30181/geospatial/input/CityBoundaries/CityBoundaries.geojson\n",
      "Processing file: hdfs://hartford.cs.colostate.edu:30181/geospatial/input/CountryTerritories/CountryTerritories.geojson\n",
      "Processing file: hdfs://hartford.cs.colostate.edu:30181/geospatial/input/EcoRegions/EcoRegions.geojson\n",
      "Processing file: hdfs://hartford.cs.colostate.edu:30181/geospatial/input/GeographicRegions/GeographicRegions.geojson\n",
      "Processing file: hdfs://hartford.cs.colostate.edu:30181/geospatial/input/GeologicalFeatures/Areas_diapiric_structures.geojson\n",
      "Processing file: hdfs://hartford.cs.colostate.edu:30181/geospatial/input/GeologicalFeatures/Bathymetry.geojson\n",
      "Processing file: hdfs://hartford.cs.colostate.edu:30181/geospatial/input/GeologicalFeatures/Calderas.geojson\n",
      "Processing file: hdfs://hartford.cs.colostate.edu:30181/geospatial/input/GeologicalFeatures/Diapiric_trends.geojson\n",
      "Processing file: hdfs://hartford.cs.colostate.edu:30181/geospatial/input/GeologicalFeatures/Diapirs.geojson\n",
      "Processing file: hdfs://hartford.cs.colostate.edu:30181/geospatial/input/GeologicalFeatures/Dikes_sills.geojson\n",
      "Processing file: hdfs://hartford.cs.colostate.edu:30181/geospatial/input/GeologicalFeatures/Faults.geojson\n",
      "Processing file: hdfs://hartford.cs.colostate.edu:30181/geospatial/input/GeologicalFeatures/Gas_fluid_seep.geojson\n",
      "Processing file: hdfs://hartford.cs.colostate.edu:30181/geospatial/input/GeologicalFeatures/Gas_oil_seep.geojson\n",
      "Processing file: hdfs://hartford.cs.colostate.edu:30181/geospatial/input/GeologicalFeatures/Geologic_contacts.geojson\n",
      "Processing file: hdfs://hartford.cs.colostate.edu:30181/geospatial/input/GeologicalFeatures/Geologic_overprints.geojson\n",
      "Processing file: hdfs://hartford.cs.colostate.edu:30181/geospatial/input/GeologicalFeatures/Geologic_units.geojson\n",
      "Processing file: hdfs://hartford.cs.colostate.edu:30181/geospatial/input/GeologicalFeatures/Glaciation_extents.geojson\n",
      "Processing file: hdfs://hartford.cs.colostate.edu:30181/geospatial/input/GeologicalFeatures/Hydrothermal_vents.geojson\n",
      "Processing file: hdfs://hartford.cs.colostate.edu:30181/geospatial/input/GeologicalFeatures/Impact_structure_great_10_KM.geojson\n",
      "Processing file: hdfs://hartford.cs.colostate.edu:30181/geospatial/input/GeologicalFeatures/Impact_structure_less_10_KM.geojson\n",
      "Processing file: hdfs://hartford.cs.colostate.edu:30181/geospatial/input/GeologicalFeatures/Maganifeorus_deposits.geojson\n",
      "Processing file: hdfs://hartford.cs.colostate.edu:30181/geospatial/input/GeologicalFeatures/Phosphate_nodules_pavement.geojson\n",
      "Processing file: hdfs://hartford.cs.colostate.edu:30181/geospatial/input/GeologicalFeatures/Polymetallic_sulfide_deposits.geojson\n",
      "Processing file: hdfs://hartford.cs.colostate.edu:30181/geospatial/input/GeologicalFeatures/Rock_in_seafloor_sample.geojson\n",
      "Processing file: hdfs://hartford.cs.colostate.edu:30181/geospatial/input/GeologicalFeatures/Special_submarine_features.geojson\n",
      "Processing file: hdfs://hartford.cs.colostate.edu:30181/geospatial/input/GeologicalFeatures/Volcanoes.geojson\n",
      "Processing file: hdfs://hartford.cs.colostate.edu:30181/geospatial/input/WorldContinents/WorldContinents.geojson\n",
      "Processing file: hdfs://hartford.cs.colostate.edu:30181/geospatial/input/cb_2018_us_state_20m.json\n"
     ]
    }
   ],
   "source": [
    "\n",
    "# Initialize a Hadoop file system \n",
    "fs = spark._jvm.org.apache.hadoop.fs.FileSystem.get(spark._jsc.hadoopConfiguration())\n",
    "\n",
    "# Directory containing the files\n",
    "json_directory = \"hdfs://hartford.cs.colostate.edu:30181/geospatial/input/\"\n",
    "\n",
    "# Define the schema for the GeoJSON data\n",
    "geojsonSchema = \"type string, crs string, totalFeatures long, features array<struct<type string, geometry string, properties map<string, string>>>\"\n",
    "\n",
    "\n",
    "if isTest:\n",
    "\n",
    "    # Path to the GeoJSON file\n",
    "    geojson_path = \"hdfs://hartford.cs.colostate.edu:30181/geospatial/input/cb_2018_us_state_20m.json\"\n",
    "\n",
    "    # Read the GeoJSON file using the defined schema using sedona into a spark dataframe\n",
    "    state_boundaries_sedona = spark.read.schema(geojsonSchema).json(geojson_path, multiLine=True)\n",
    "    \n",
    "    # Explode the features array to create a row for each feature and select the columns\n",
    "    state_boundaries_sedona = (state_boundaries_sedona\n",
    "                               .select(F.explode(\"features\").alias(\"features\"))\n",
    "                               .select(\"features.*\")\n",
    "                               # Use Sedona's ST_GeomFromGeoJSON function to convert the geometry string to a geometry object\n",
    "                               .withColumn(\"geometry\", F.expr(\"ST_GeomFromGeoJSON(geometry)\"))\n",
    "                              )\n",
    "\n",
    "else:\n",
    "    # Get a list of the JSON and GeoJSON files in the directory and its subdirectories\n",
    "    json_files = get_files_recursive(json_directory)\n",
    "\n",
    "    # Create a dictionary to hold the DataFrames\n",
    "    json_dataset_dataframes = {}\n",
    "\n",
    "    # Define the current and desired EPSG codes\n",
    "    current_epsg = \"EPSG:3857\"  # Web Mercator\n",
    "    desired_epsg = \"EPSG:4326\"  # WGS84\n",
    "\n",
    "    # Load each JSON file into a DataFrame and store it in the dictionary\n",
    "    for file_path in json_files:\n",
    "        file_name = file_path.split('/')[-1]\n",
    "        \n",
    "        # Print the file path\n",
    "        print(f\"Processing file: {file_path}\")\n",
    "        \n",
    "        # Read the GeoJSON file using the defined schema using sedona into a spark dataframe\n",
    "        df = spark.read.schema(geojsonSchema).json(file_path, multiLine=True)\n",
    "        \n",
    "        # Explode the features array to create a row for each feature and select the columns\n",
    "        df = (df\n",
    "            .select(F.explode(\"features\").alias(\"features\"))\n",
    "            .select(\"features.*\")\n",
    "            # Use Sedona's ST_GeomFromGeoJSON function to convert the geometry string to a geometry object\n",
    "            .withColumn(\"geometry\", F.expr(\"ST_GeomFromGeoJSON(geometry)\"))\n",
    "            # Transform the 'geometry' column from the current EPSG code to the desired EPSG code\n",
    "            .withColumn(\"geometry\", F.expr(f\"ST_Transform(geometry, '{current_epsg}', '{desired_epsg}')\"))\n",
    "            )\n",
    "        \n",
    "        json_dataset_dataframes[file_name] = df"
   ]
  },
  {
   "cell_type": "markdown",
   "metadata": {},
   "source": [
    "## We can see that the datasets are not in a workable format"
   ]
  },
  {
   "cell_type": "code",
   "execution_count": 8,
   "metadata": {},
   "outputs": [
    {
     "name": "stdout",
     "output_type": "stream",
     "text": [
      "AgriculturalArea.geojson Schema:\n",
      "root\n",
      " |-- type: string (nullable = true)\n",
      " |-- geometry: geometry (nullable = true)\n",
      " |-- properties: map (nullable = true)\n",
      " |    |-- key: string\n",
      " |    |-- value: string (valueContainsNull = true)\n",
      "\n",
      "CityBoundaries.geojson Schema:\n",
      "root\n",
      " |-- type: string (nullable = true)\n",
      " |-- geometry: geometry (nullable = true)\n",
      " |-- properties: map (nullable = true)\n",
      " |    |-- key: string\n",
      " |    |-- value: string (valueContainsNull = true)\n",
      "\n",
      "CountryTerritories.geojson Schema:\n",
      "root\n",
      " |-- type: string (nullable = true)\n",
      " |-- geometry: geometry (nullable = true)\n",
      " |-- properties: map (nullable = true)\n",
      " |    |-- key: string\n",
      " |    |-- value: string (valueContainsNull = true)\n",
      "\n",
      "EcoRegions.geojson Schema:\n",
      "root\n",
      " |-- type: string (nullable = true)\n",
      " |-- geometry: geometry (nullable = true)\n",
      " |-- properties: map (nullable = true)\n",
      " |    |-- key: string\n",
      " |    |-- value: string (valueContainsNull = true)\n",
      "\n",
      "GeographicRegions.geojson Schema:\n",
      "root\n",
      " |-- type: string (nullable = true)\n",
      " |-- geometry: geometry (nullable = true)\n",
      " |-- properties: map (nullable = true)\n",
      " |    |-- key: string\n",
      " |    |-- value: string (valueContainsNull = true)\n",
      "\n",
      "Areas_diapiric_structures.geojson Schema:\n",
      "root\n",
      " |-- type: string (nullable = true)\n",
      " |-- geometry: geometry (nullable = true)\n",
      " |-- properties: map (nullable = true)\n",
      " |    |-- key: string\n",
      " |    |-- value: string (valueContainsNull = true)\n",
      "\n",
      "Bathymetry.geojson Schema:\n",
      "root\n",
      " |-- type: string (nullable = true)\n",
      " |-- geometry: geometry (nullable = true)\n",
      " |-- properties: map (nullable = true)\n",
      " |    |-- key: string\n",
      " |    |-- value: string (valueContainsNull = true)\n",
      "\n",
      "Calderas.geojson Schema:\n",
      "root\n",
      " |-- type: string (nullable = true)\n",
      " |-- geometry: geometry (nullable = true)\n",
      " |-- properties: map (nullable = true)\n",
      " |    |-- key: string\n",
      " |    |-- value: string (valueContainsNull = true)\n",
      "\n",
      "Diapiric_trends.geojson Schema:\n",
      "root\n",
      " |-- type: string (nullable = true)\n",
      " |-- geometry: geometry (nullable = true)\n",
      " |-- properties: map (nullable = true)\n",
      " |    |-- key: string\n",
      " |    |-- value: string (valueContainsNull = true)\n",
      "\n",
      "Diapirs.geojson Schema:\n",
      "root\n",
      " |-- type: string (nullable = true)\n",
      " |-- geometry: geometry (nullable = true)\n",
      " |-- properties: map (nullable = true)\n",
      " |    |-- key: string\n",
      " |    |-- value: string (valueContainsNull = true)\n",
      "\n",
      "Dikes_sills.geojson Schema:\n",
      "root\n",
      " |-- type: string (nullable = true)\n",
      " |-- geometry: geometry (nullable = true)\n",
      " |-- properties: map (nullable = true)\n",
      " |    |-- key: string\n",
      " |    |-- value: string (valueContainsNull = true)\n",
      "\n",
      "Faults.geojson Schema:\n",
      "root\n",
      " |-- type: string (nullable = true)\n",
      " |-- geometry: geometry (nullable = true)\n",
      " |-- properties: map (nullable = true)\n",
      " |    |-- key: string\n",
      " |    |-- value: string (valueContainsNull = true)\n",
      "\n",
      "Gas_fluid_seep.geojson Schema:\n",
      "root\n",
      " |-- type: string (nullable = true)\n",
      " |-- geometry: geometry (nullable = true)\n",
      " |-- properties: map (nullable = true)\n",
      " |    |-- key: string\n",
      " |    |-- value: string (valueContainsNull = true)\n",
      "\n",
      "Gas_oil_seep.geojson Schema:\n",
      "root\n",
      " |-- type: string (nullable = true)\n",
      " |-- geometry: geometry (nullable = true)\n",
      " |-- properties: map (nullable = true)\n",
      " |    |-- key: string\n",
      " |    |-- value: string (valueContainsNull = true)\n",
      "\n",
      "Geologic_contacts.geojson Schema:\n",
      "root\n",
      " |-- type: string (nullable = true)\n",
      " |-- geometry: geometry (nullable = true)\n",
      " |-- properties: map (nullable = true)\n",
      " |    |-- key: string\n",
      " |    |-- value: string (valueContainsNull = true)\n",
      "\n",
      "Geologic_overprints.geojson Schema:\n",
      "root\n",
      " |-- type: string (nullable = true)\n",
      " |-- geometry: geometry (nullable = true)\n",
      " |-- properties: map (nullable = true)\n",
      " |    |-- key: string\n",
      " |    |-- value: string (valueContainsNull = true)\n",
      "\n",
      "Geologic_units.geojson Schema:\n",
      "root\n",
      " |-- type: string (nullable = true)\n",
      " |-- geometry: geometry (nullable = true)\n",
      " |-- properties: map (nullable = true)\n",
      " |    |-- key: string\n",
      " |    |-- value: string (valueContainsNull = true)\n",
      "\n",
      "Glaciation_extents.geojson Schema:\n",
      "root\n",
      " |-- type: string (nullable = true)\n",
      " |-- geometry: geometry (nullable = true)\n",
      " |-- properties: map (nullable = true)\n",
      " |    |-- key: string\n",
      " |    |-- value: string (valueContainsNull = true)\n",
      "\n",
      "Hydrothermal_vents.geojson Schema:\n",
      "root\n",
      " |-- type: string (nullable = true)\n",
      " |-- geometry: geometry (nullable = true)\n",
      " |-- properties: map (nullable = true)\n",
      " |    |-- key: string\n",
      " |    |-- value: string (valueContainsNull = true)\n",
      "\n",
      "Impact_structure_great_10_KM.geojson Schema:\n",
      "root\n",
      " |-- type: string (nullable = true)\n",
      " |-- geometry: geometry (nullable = true)\n",
      " |-- properties: map (nullable = true)\n",
      " |    |-- key: string\n",
      " |    |-- value: string (valueContainsNull = true)\n",
      "\n",
      "Impact_structure_less_10_KM.geojson Schema:\n",
      "root\n",
      " |-- type: string (nullable = true)\n",
      " |-- geometry: geometry (nullable = true)\n",
      " |-- properties: map (nullable = true)\n",
      " |    |-- key: string\n",
      " |    |-- value: string (valueContainsNull = true)\n",
      "\n",
      "Maganifeorus_deposits.geojson Schema:\n",
      "root\n",
      " |-- type: string (nullable = true)\n",
      " |-- geometry: geometry (nullable = true)\n",
      " |-- properties: map (nullable = true)\n",
      " |    |-- key: string\n",
      " |    |-- value: string (valueContainsNull = true)\n",
      "\n",
      "Phosphate_nodules_pavement.geojson Schema:\n",
      "root\n",
      " |-- type: string (nullable = true)\n",
      " |-- geometry: geometry (nullable = true)\n",
      " |-- properties: map (nullable = true)\n",
      " |    |-- key: string\n",
      " |    |-- value: string (valueContainsNull = true)\n",
      "\n",
      "Polymetallic_sulfide_deposits.geojson Schema:\n",
      "root\n",
      " |-- type: string (nullable = true)\n",
      " |-- geometry: geometry (nullable = true)\n",
      " |-- properties: map (nullable = true)\n",
      " |    |-- key: string\n",
      " |    |-- value: string (valueContainsNull = true)\n",
      "\n",
      "Rock_in_seafloor_sample.geojson Schema:\n",
      "root\n",
      " |-- type: string (nullable = true)\n",
      " |-- geometry: geometry (nullable = true)\n",
      " |-- properties: map (nullable = true)\n",
      " |    |-- key: string\n",
      " |    |-- value: string (valueContainsNull = true)\n",
      "\n",
      "Special_submarine_features.geojson Schema:\n",
      "root\n",
      " |-- type: string (nullable = true)\n",
      " |-- geometry: geometry (nullable = true)\n",
      " |-- properties: map (nullable = true)\n",
      " |    |-- key: string\n",
      " |    |-- value: string (valueContainsNull = true)\n",
      "\n",
      "Volcanoes.geojson Schema:\n",
      "root\n",
      " |-- type: string (nullable = true)\n",
      " |-- geometry: geometry (nullable = true)\n",
      " |-- properties: map (nullable = true)\n",
      " |    |-- key: string\n",
      " |    |-- value: string (valueContainsNull = true)\n",
      "\n",
      "WorldContinents.geojson Schema:\n",
      "root\n",
      " |-- type: string (nullable = true)\n",
      " |-- geometry: geometry (nullable = true)\n",
      " |-- properties: map (nullable = true)\n",
      " |    |-- key: string\n",
      " |    |-- value: string (valueContainsNull = true)\n",
      "\n",
      "cb_2018_us_state_20m.json Schema:\n",
      "root\n",
      " |-- type: string (nullable = true)\n",
      " |-- geometry: geometry (nullable = true)\n",
      " |-- properties: map (nullable = true)\n",
      " |    |-- key: string\n",
      " |    |-- value: string (valueContainsNull = true)\n",
      "\n"
     ]
    }
   ],
   "source": [
    "# print the schemas\n",
    "\n",
    "if (isTest):\n",
    "    print(\"State Boundaries Sedona Schema:\")\n",
    "    state_boundaries_sedona.printSchema()\n",
    "else:\n",
    "    for key, value in json_dataset_dataframes.items():\n",
    "        print(f\"{key} Schema:\")\n",
    "        value.printSchema()"
   ]
  },
  {
   "cell_type": "code",
   "execution_count": 9,
   "metadata": {},
   "outputs": [],
   "source": [
    "# View the first 5 rows of the state_boundaries_sedona DataFrame\n",
    "\n",
    "if (isTest):\n",
    "    state_boundaries_sedona.show(5, truncate=False)"
   ]
  },
  {
   "cell_type": "markdown",
   "metadata": {},
   "source": [
    "## Running Spatial Queries\n",
    "\n",
    "https://sedona.apache.org/1.5.1/api/sql/Function/"
   ]
  },
  {
   "cell_type": "markdown",
   "metadata": {},
   "source": [
    "### Range Query\n",
    "\n",
    "This example demonstrates how to perform a range query using ST_Contains to find geometries within a specified polygon:"
   ]
  },
  {
   "cell_type": "code",
   "execution_count": 10,
   "metadata": {},
   "outputs": [
    {
     "ename": "NameError",
     "evalue": "name 'state_boundaries_sedona' is not defined",
     "output_type": "error",
     "traceback": [
      "\u001b[0;31m---------------------------------------------------------------------------\u001b[0m",
      "\u001b[0;31mNameError\u001b[0m                                 Traceback (most recent call last)",
      "Cell \u001b[0;32mIn[10], line 6\u001b[0m\n\u001b[1;32m      3\u001b[0m bbox_polygon \u001b[38;5;241m=\u001b[39m \u001b[38;5;124m\"\u001b[39m\u001b[38;5;124mST_PolygonFromEnvelope(-79.5, 37.9, -75.6, 39.8)\u001b[39m\u001b[38;5;124m\"\u001b[39m\n\u001b[1;32m      5\u001b[0m \u001b[38;5;66;03m# Perform the range query to find features within the bounding box\u001b[39;00m\n\u001b[0;32m----> 6\u001b[0m contained_features \u001b[38;5;241m=\u001b[39m \u001b[43mstate_boundaries_sedona\u001b[49m\u001b[38;5;241m.\u001b[39mfilter(\n\u001b[1;32m      7\u001b[0m     F\u001b[38;5;241m.\u001b[39mexpr(\u001b[38;5;124mf\u001b[39m\u001b[38;5;124m\"\u001b[39m\u001b[38;5;124mST_Contains(\u001b[39m\u001b[38;5;132;01m{\u001b[39;00mbbox_polygon\u001b[38;5;132;01m}\u001b[39;00m\u001b[38;5;124m, geometry)\u001b[39m\u001b[38;5;124m\"\u001b[39m)\n\u001b[1;32m      8\u001b[0m )\n\u001b[1;32m     10\u001b[0m \u001b[38;5;66;03m# Show results\u001b[39;00m\n\u001b[1;32m     11\u001b[0m contained_features\u001b[38;5;241m.\u001b[39mshow()\n",
      "\u001b[0;31mNameError\u001b[0m: name 'state_boundaries_sedona' is not defined"
     ]
    }
   ],
   "source": [
    "if (isTest):\n",
    "\n",
    "    # Define a polygon using ST_PolygonFromEnvelope and perform a range query\n",
    "\n",
    "    bbox_polygon = \"ST_PolygonFromEnvelope(-79.5, 37.9, -75.6, 39.8)\"\n",
    "\n",
    "    # Perform the range query to find features within the bounding box\n",
    "    contained_features = state_boundaries_sedona.filter(\n",
    "        F.expr(f\"ST_Contains({bbox_polygon}, geometry)\")\n",
    "    )\n",
    "\n",
    "    # Show results\n",
    "    contained_features.show()"
   ]
  },
  {
   "cell_type": "markdown",
   "metadata": {},
   "source": [
    "## KNN Query\n",
    "\n",
    "This example demonstrates how to perform a k-nearest neighbors (KNN) query using ST_Distance to find the k nearest geometries to a specified point:"
   ]
  },
  {
   "cell_type": "code",
   "execution_count": null,
   "metadata": {},
   "outputs": [
    {
     "name": "stdout",
     "output_type": "stream",
     "text": [
      "+--------------------+-------------------+\n",
      "|                NAME|           distance|\n",
      "+--------------------+-------------------+\n",
      "|            Virginia|                0.0|\n",
      "|            Maryland| 0.2425364842513449|\n",
      "|       West Virginia|0.39633443061384227|\n",
      "|District of Columbia|0.43843022219048333|\n",
      "|        Pennsylvania| 0.8705736535332227|\n",
      "+--------------------+-------------------+\n",
      "\n"
     ]
    }
   ],
   "source": [
    "from pyspark.sql import functions as F\n",
    "\n",
    "if (isTest):\n",
    "    # Calculate the center of the bounding box and create a WKT representation of the point\n",
    "    center_longitude = (-79.5 + -75.6) / 2\n",
    "    center_latitude = (37.9 + 39.8) / 2\n",
    "    center_point_wkt = f\"POINT({center_longitude} {center_latitude})\"\n",
    "\n",
    "    # Perform the KNN query using ST_Distance to calculate the distance to the center point\n",
    "    knnQueryResult = state_boundaries_sedona.select(\n",
    "        # Access the 'NAME' from the 'properties' map\n",
    "        F.col(\"properties\").getItem(\"NAME\").alias(\"NAME\"),\n",
    "        F.expr(f\"ST_Distance(ST_GeomFromWKT('{center_point_wkt}'), geometry)\").alias(\"distance\")\n",
    "    ).orderBy(\"distance\").limit(5)\n",
    "\n",
    "    knnQueryResult.show()\n",
    "\n"
   ]
  },
  {
   "cell_type": "markdown",
   "metadata": {},
   "source": [
    "## Adding GeoHash Column to GeoDataFrame\n",
    "\n",
    "The 'geohash' column contains GeoHash strings that represent the geographic locations in the 'geometry' column."
   ]
  },
  {
   "cell_type": "code",
   "execution_count": 11,
   "metadata": {},
   "outputs": [],
   "source": [
    "# Define the precision for the GeoHash\n",
    "precision = 17\n",
    "\n",
    "# Apply the ST_GeoHash function to each DataFrame in the dictionary\n",
    "for file_name, df in json_dataset_dataframes.items():\n",
    "    # Add a new column 'geohash' to the DataFrame\n",
    "    # The new column is the GeoHash of the 'geometry' column with the given precision\n",
    "    df = df.withColumn('geohash', F.expr(f\"ST_GeoHash(geometry, {precision})\"))\n",
    "    \n",
    "    # Update the DataFrame in the dictionary\n",
    "    json_dataset_dataframes[file_name] = df"
   ]
  },
  {
   "cell_type": "markdown",
   "metadata": {},
   "source": [
    "## View the new GeoDataFrames"
   ]
  },
  {
   "cell_type": "code",
   "execution_count": 12,
   "metadata": {},
   "outputs": [
    {
     "name": "stdout",
     "output_type": "stream",
     "text": [
      "File: AgriculturalArea.geojson\n"
     ]
    },
    {
     "name": "stderr",
     "output_type": "stream",
     "text": [
      "                                                                                \r"
     ]
    },
    {
     "name": "stdout",
     "output_type": "stream",
     "text": [
      "+-------+--------------------+--------------------+-----------------+\n",
      "|   type|            geometry|          properties|          geohash|\n",
      "+-------+--------------------+--------------------+-----------------+\n",
      "|Feature|POLYGON ((-86.411...|{atlas_stco -> 01...|djf2gyhbv2zcvfuq5|\n",
      "|Feature|POLYGON ((-87.765...|{atlas_stco -> 01...|dj3xh3s29uwyntq0h|\n",
      "|Feature|POLYGON ((-85.051...|{atlas_stco -> 01...|djem2sjezsn8d3f48|\n",
      "|Feature|POLYGON ((-86.881...|{atlas_stco -> 01...|djf5bys527zx3dc1w|\n",
      "|Feature|POLYGON ((-86.303...|{atlas_stco -> 01...|dn43kxg2ne76f5uqj|\n",
      "|Feature|POLYGON ((-85.433...|{atlas_stco -> 01...|djen9drdpb0td407b|\n",
      "|Feature|POLYGON ((-86.499...|{atlas_stco -> 01...|djdkedfefunffsg28|\n",
      "|Feature|POLYGON ((-85.530...|{atlas_stco -> 01...|dn4bndnzcsk6uqfwr|\n",
      "|Feature|POLYGON ((-85.186...|{atlas_stco -> 01...|djg738ee4883qth40|\n",
      "|Feature|POLYGON ((-85.463...|{atlas_stco -> 01...|dn54exu7y6bqterch|\n",
      "|Feature|POLYGON ((-86.517...|{atlas_stco -> 01...|djf6gpjngyymyuzwy|\n",
      "|Feature|POLYGON ((-88.073...|{atlas_stco -> 01...|dj9q0fnyqf5h6q5zk|\n",
      "|Feature|POLYGON ((-87.500...|{atlas_stco -> 01...|dj9e9nsmk6dvdbtkp|\n",
      "|Feature|POLYGON ((-85.653...|{atlas_stco -> 01...|djfvmj5fs2g4sk56r|\n",
      "|Feature|POLYGON ((-85.386...|{atlas_stco -> 01...|djgpu1ywhptz38ksr|\n",
      "|Feature|POLYGON ((-85.791...|{atlas_stco -> 01...|djdfehnn260qw50tu|\n",
      "|Feature|POLYGON ((-87.426...|{atlas_stco -> 01...|dn1td6q6g43jhjd0b|\n",
      "|Feature|POLYGON ((-86.701...|{atlas_stco -> 01...|djd551rvmfsqfjxzv|\n",
      "|Feature|POLYGON ((-86.009...|{atlas_stco -> 01...|djfem499zw8u7p7k9|\n",
      "|Feature|POLYGON ((-86.193...|{atlas_stco -> 01...|djd9bfuy1nd0y1zrp|\n",
      "+-------+--------------------+--------------------+-----------------+\n",
      "only showing top 20 rows\n",
      "\n",
      "File: CityBoundaries.geojson\n"
     ]
    },
    {
     "name": "stderr",
     "output_type": "stream",
     "text": [
      "                                                                                \r"
     ]
    },
    {
     "name": "stdout",
     "output_type": "stream",
     "text": [
      "+-------+--------------------+--------------------+-----------------+\n",
      "|   type|            geometry|          properties|          geohash|\n",
      "+-------+--------------------+--------------------+-----------------+\n",
      "|Feature|POLYGON ((-98.181...|{NAME -> Pharr, C...|9udhv9gc9gecvqr6b|\n",
      "|Feature|POLYGON ((-98.226...|{NAME -> McAllen,...|9udjhn79s44yyf1ck|\n",
      "|Feature|POLYGON ((-98.138...|{NAME -> Edinburg...|9udjyhewy9e3jpdst|\n",
      "|Feature|POLYGON ((-99.627...|{NAME -> Laredo, ...|9uchybk9yh4ghr3qh|\n",
      "|Feature|POLYGON ((-98.335...|{NAME -> Mission,...|9udj43639h5p1xxn3|\n",
      "|Feature|MULTIPOLYGON (((-...|{NAME -> San Anto...|9v1zwnv74ny5kz9dp|\n",
      "|Feature|POLYGON ((-97.615...|{NAME -> Round Ro...|9v6t9mjhcjk8p3pnp|\n",
      "|Feature|MULTIPOLYGON (((-...|{NAME -> Austin, ...|9v6krtket1p5txews|\n",
      "|Feature|MULTIPOLYGON (((-...|{NAME -> Killeen,...|9vd88s51j8bfr5cc5|\n",
      "|Feature|POLYGON ((-97.437...|{NAME -> Brownsvi...|9udsn62mw79ru7q95|\n",
      "|Feature|POLYGON ((-100.45...|{NAME -> San Ange...|9v8df609xcq644ts7|\n",
      "|Feature|POLYGON ((-96.274...|{NAME -> College ...|9v7w0bf1pfb51ye06|\n",
      "|Feature|POLYGON ((-96.274...|{NAME -> Bryan, C...|9v7qrmwhrj9yk6me0|\n",
      "|Feature|MULTIPOLYGON (((-...|{NAME -> Houston,...|9vk1esn9b6jn382rp|\n",
      "|Feature|MULTIPOLYGON (((-...|{NAME -> Sugar La...|9v7brdjdm3cdk2h8n|\n",
      "|Feature|MULTIPOLYGON (((-...|{NAME -> Pearland...|9vk0ne580e7r77hwu|\n",
      "|Feature|POLYGON ((-95.518...|{NAME -> Missouri...|9vk0450mgq9ckvq6u|\n",
      "|Feature|POLYGON ((-95.049...|{NAME -> League C...|9vhrg9jgsj1qvr1xq|\n",
      "|Feature|MULTIPOLYGON (((-...|{NAME -> Pasadena...|9vk2etrvr1nf0h9zy|\n",
      "|Feature|MULTIPOLYGON (((-...|{NAME -> Baytown,...|9vk3pr12y4k2nbgx1|\n",
      "+-------+--------------------+--------------------+-----------------+\n",
      "only showing top 20 rows\n",
      "\n",
      "File: CountryTerritories.geojson\n",
      "+-------+--------------------+--------------------+-----------------+\n",
      "|   type|            geometry|          properties|          geohash|\n",
      "+-------+--------------------+--------------------+-----------------+\n",
      "|Feature|POLYGON ((0.00029...|{geo_point_2d -> ...|s0000001ph9sp9kfk|\n",
      "|Feature|POLYGON ((0.00008...|{geo_point_2d -> ...|s00000043wrhgd1ze|\n",
      "|Feature|POLYGON ((-0.0000...|{geo_point_2d -> ...|ebpbpbpfxd3tppqpc|\n",
      "|Feature|POLYGON ((0.00015...|{geo_point_2d -> ...|s00000046zckv90ds|\n",
      "|Feature|POLYGON ((-0.0000...|{geo_point_2d -> ...|ebpbpbpfn672zmu2u|\n",
      "|Feature|POLYGON ((0.00005...|{geo_point_2d -> ...|s0000004973j3v8cw|\n",
      "|Feature|POLYGON ((0.00078...|{geo_point_2d -> ...|s0000006w02m0ug1k|\n",
      "|Feature|POLYGON ((-0.0006...|{geo_point_2d -> ...|ebpbpbp89kgqfgbxm|\n",
      "|Feature|POLYGON ((0.00011...|{geo_point_2d -> ...|s00000044w5mkyz6h|\n",
      "|Feature|MULTIPOLYGON (((0...|{geo_point_2d -> ...|s000000045fjz8jsn|\n",
      "|Feature|POLYGON ((-0.0006...|{geo_point_2d -> ...|ebpbpbp2zy64rw3bk|\n",
      "|Feature|MULTIPOLYGON (((0...|{geo_point_2d -> ...|s0000005j4pef48zw|\n",
      "|Feature|POLYGON ((0.00013...|{geo_point_2d -> ...|s0000000ctqps32f5|\n",
      "|Feature|MULTIPOLYGON (((-...|{geo_point_2d -> ...|ebpbpbp2vkz1nu8y3|\n",
      "|Feature|POLYGON ((-0.0000...|{geo_point_2d -> ...|ebpbpbpcwt0rxe3zu|\n",
      "|Feature|MULTIPOLYGON (((0...|{geo_point_2d -> ...|s000000by3rbt28vs|\n",
      "|Feature|MULTIPOLYGON (((0...|{geo_point_2d -> ...|s000000fqf9t0z69y|\n",
      "|Feature|MULTIPOLYGON (((0...|{geo_point_2d -> ...|s00000042mrvpqmwd|\n",
      "|Feature|POLYGON ((0.00018...|{geo_point_2d -> ...|s0000004k3snf4n67|\n",
      "|Feature|POLYGON ((-0.0004...|{geo_point_2d -> ...|7zzzzzzwk3d3q5prr|\n",
      "+-------+--------------------+--------------------+-----------------+\n",
      "only showing top 20 rows\n",
      "\n",
      "File: EcoRegions.geojson\n"
     ]
    },
    {
     "name": "stderr",
     "output_type": "stream",
     "text": [
      "                                                                                \r"
     ]
    },
    {
     "name": "stdout",
     "output_type": "stream",
     "text": [
      "+-------+--------------------+--------------------+-----------------+\n",
      "|   type|            geometry|          properties|          geohash|\n",
      "+-------+--------------------+--------------------+-----------------+\n",
      "|Feature|POLYGON ((-20.518...|{US_L3CODE -> 1, ...|edcx39wzyh0rw2wv3|\n",
      "|Feature|POLYGON ((-20.902...|{US_L3CODE -> 1, ...|ee14sq49zdwvdswf5|\n",
      "|Feature|POLYGON ((-20.901...|{US_L3CODE -> 1, ...|ee14sr41kemvhhyee|\n",
      "|Feature|POLYGON ((-20.915...|{US_L3CODE -> 1, ...|ee14uhcuq9q0t79me|\n",
      "|Feature|POLYGON ((-20.954...|{US_L3CODE -> 1, ...|ee155jt16k77cycup|\n",
      "|Feature|POLYGON ((-20.955...|{US_L3CODE -> 1, ...|ee155nhdytpfp852m|\n",
      "|Feature|POLYGON ((-20.954...|{US_L3CODE -> 1, ...|ee155nj7xwwknfgyw|\n",
      "|Feature|POLYGON ((-20.959...|{US_L3CODE -> 1, ...|ee155p1em6ys2gsvk|\n",
      "|Feature|POLYGON ((-20.741...|{US_L3CODE -> 1, ...|ee1k3sn8m8ejswy4p|\n",
      "|Feature|POLYGON ((-20.759...|{US_L3CODE -> 1, ...|ee1jzx3bej7k47d2n|\n",
      "|Feature|POLYGON ((-20.758...|{US_L3CODE -> 1, ...|ee1npe5gm5er8qt2p|\n",
      "|Feature|POLYGON ((-20.759...|{US_L3CODE -> 1, ...|ee1np65s6g8jktnj7|\n",
      "|Feature|POLYGON ((-20.854...|{US_L3CODE -> 1, ...|ee9hjrkpb68w18pwj|\n",
      "|Feature|POLYGON ((-20.857...|{US_L3CODE -> 1, ...|ee9hm291jg8hm9n6z|\n",
      "|Feature|POLYGON ((-18.954...|{US_L3CODE -> 1, ...|es6w8ves79jq5npjn|\n",
      "|Feature|POLYGON ((-19.164...|{US_L3CODE -> 1, ...|es6rebt05cnsj0n0g|\n",
      "|Feature|POLYGON ((-19.075...|{US_L3CODE -> 1, ...|esd2mgdb5ep5q8jrk|\n",
      "|Feature|POLYGON ((-18.223...|{US_L3CODE -> 1, ...|esep8cr0cdp38y6vn|\n",
      "|Feature|POLYGON ((-19.001...|{US_L3CODE -> 1, ...|es406dj9q4v7z9puk|\n",
      "|Feature|POLYGON ((-13.734...|{US_L3CODE -> 10,...|esnpnuv6g50mbpr81|\n",
      "+-------+--------------------+--------------------+-----------------+\n",
      "only showing top 20 rows\n",
      "\n",
      "File: GeographicRegions.geojson\n"
     ]
    },
    {
     "name": "stderr",
     "output_type": "stream",
     "text": [
      "                                                                                \r"
     ]
    },
    {
     "name": "stdout",
     "output_type": "stream",
     "text": [
      "+-------+--------------------+--------------------+-----------------+\n",
      "|   type|            geometry|          properties|          geohash|\n",
      "+-------+--------------------+--------------------+-----------------+\n",
      "|Feature|POLYGON ((0.00151...|{scalerank -> 7.0...|kpbpbpcp5jwt7cwgm|\n",
      "|Feature|POLYGON ((0.00152...|{scalerank -> 7.0...|kpbpbpcngw1mzvb5w|\n",
      "|Feature|POLYGON ((0.00150...|{scalerank -> 7.0...|kpbpbpcp701vwbw8c|\n",
      "|Feature|POLYGON ((0.00149...|{scalerank -> 7.0...|kpbpbpcp6v53xzsdk|\n",
      "|Feature|POLYGON ((0.00149...|{scalerank -> 7.0...|kpbpbpcp6ut88wwe5|\n",
      "|Feature|POLYGON ((-0.0015...|{scalerank -> 7.0...|ebpbpbnfen8rjejnm|\n",
      "|Feature|POLYGON ((-0.0014...|{scalerank -> 7.0...|ebpbpbnfvetkyuru1|\n",
      "|Feature|POLYGON ((-0.0001...|{scalerank -> 7.0...|ebpbpbpct0ss6c2zh|\n",
      "|Feature|POLYGON ((0.00035...|{scalerank -> 7.0...|kpbpbpbr8r6667kmr|\n",
      "|Feature|POLYGON ((0.00049...|{scalerank -> 7.0...|kpbpbpbrg85tbnj2g|\n",
      "|Feature|POLYGON ((0.00039...|{scalerank -> 7.0...|kpbpbpbr35mh8tqfg|\n",
      "|Feature|POLYGON ((0.00040...|{scalerank -> 7.0...|kpbpbpbr36w34jwv5|\n",
      "|Feature|POLYGON ((0.00039...|{scalerank -> 7.0...|kpbpbpbr3791n5c2b|\n",
      "|Feature|POLYGON ((0.00035...|{scalerank -> 7.0...|kpbpbpbr86fkbnycx|\n",
      "|Feature|POLYGON ((-0.0002...|{scalerank -> 7.0...|ebpbpbpf16ncqwg50|\n",
      "|Feature|POLYGON ((-0.0002...|{scalerank -> 7.0...|ebpbpbpf406mrj741|\n",
      "|Feature|POLYGON ((-0.0002...|{scalerank -> 7.0...|ebpbpbpf42cfb3prn|\n",
      "|Feature|POLYGON ((-0.0002...|{scalerank -> 7.0...|ebpbpbpcftzvdmhqw|\n",
      "|Feature|POLYGON ((-0.0002...|{scalerank -> 7.0...|ebpbpbpbfch2pugfk|\n",
      "|Feature|POLYGON ((-0.0002...|{scalerank -> 7.0...|ebpbpbpbfgv8tux7j|\n",
      "+-------+--------------------+--------------------+-----------------+\n",
      "only showing top 20 rows\n",
      "\n",
      "File: Areas_diapiric_structures.geojson\n",
      "+-------+--------------------+--------------------+-----------------+\n",
      "|   type|            geometry|          properties|          geohash|\n",
      "+-------+--------------------+--------------------+-----------------+\n",
      "|Feature|POLYGON ((30.1676...|{Shape_Area -> 5....|u8jr5bkdxf4zcyxy1|\n",
      "|Feature|POLYGON ((32.1729...|{Shape_Area -> 4....|u8qujjgcrthmsn74w|\n",
      "|Feature|POLYGON ((31.3514...|{Shape_Area -> 1....|u8wk9pdkdjvxmbhhv|\n",
      "|Feature|POLYGON ((31.6987...|{Shape_Area -> 1....|u8w8dfvrxf3upqcfh|\n",
      "|Feature|POLYGON ((32.6848...|{Shape_Area -> 1....|u8rr35ez21pq7ds4w|\n",
      "|Feature|POLYGON ((31.8276...|{Shape_Area -> 3....|u8wtkzy150h5hfunq|\n",
      "|Feature|POLYGON ((31.7660...|{Shape_Area -> 1....|u8y8gsug5628khp6w|\n",
      "|Feature|POLYGON ((32.0500...|{Shape_Area -> 7....|u8qg3gmfqsyhu4eru|\n",
      "|Feature|POLYGON ((31.3515...|{Shape_Area -> 4....|u8q3fp4qb9d5wrxnr|\n",
      "|Feature|POLYGON ((33.0437...|{Shape_Area -> 5....|u8xkwze3v3cvz6nnf|\n",
      "|Feature|POLYGON ((32.7521...|{Shape_Area -> 1....|u8xm3vm1unxqeqbzz|\n",
      "|Feature|POLYGON ((32.0876...|{Shape_Area -> 1....|u8qszctwpzrb3292m|\n",
      "|Feature|POLYGON ((9.30234...|{Shape_Area -> 5....|u5q951r3rhsvr81tr|\n",
      "|Feature|POLYGON ((31.7363...|{Shape_Area -> 8....|u8wsmhwj19wp7t0w9|\n",
      "|Feature|POLYGON ((30.8316...|{Shape_Area -> 9....|u8tyjgjvh64kd86cv|\n",
      "|Feature|POLYGON ((32.2640...|{Shape_Area -> 3....|u8xj8w5n4r1d3b7dd|\n",
      "|Feature|POLYGON ((32.6471...|{Shape_Area -> 1....|u8rhp3x2gpc825kp1|\n",
      "|Feature|POLYGON ((31.9922...|{Shape_Area -> 4....|u8wybhy95b86fgvqm|\n",
      "|Feature|POLYGON ((31.0855...|{Shape_Area -> 1....|u8wntgjbmvshb69hg|\n",
      "|Feature|POLYGON ((31.3891...|{Shape_Area -> 1....|u8wqh43verjbw56vm|\n",
      "+-------+--------------------+--------------------+-----------------+\n",
      "only showing top 20 rows\n",
      "\n",
      "File: Bathymetry.geojson\n"
     ]
    },
    {
     "name": "stderr",
     "output_type": "stream",
     "text": [
      "                                                                                \r"
     ]
    },
    {
     "name": "stdout",
     "output_type": "stream",
     "text": [
      "+-------+--------------------+--------------------+-----------------+\n",
      "|   type|            geometry|          properties|          geohash|\n",
      "+-------+--------------------+--------------------+-----------------+\n",
      "|Feature|LINESTRING (-21.6...|{Shape_Leng -> 2....|eqvmurp1s9wk843kk|\n",
      "|Feature|LINESTRING (12.94...|{Shape_Leng -> 2....|ewr2mz5h211j65se7|\n",
      "|Feature|LINESTRING (13.91...|{Shape_Leng -> 1....|ewr8kx0hr35vk5e7q|\n",
      "|Feature|LINESTRING (16.96...|{Shape_Leng -> 2....|ey22rx4s7c5mr5e7k|\n",
      "|Feature|LINESTRING (39.94...|{Shape_Leng -> 3....|sqqyp8hk3sgcw9dg3|\n",
      "|Feature|LINESTRING (39.94...|{Shape_Leng -> 3....|sqrn2g7854y781wyw|\n",
      "|Feature|LINESTRING (39.94...|{Shape_Leng -> 2....|sxh5kqjxrfn1qc23v|\n",
      "|Feature|LINESTRING (39.94...|{Shape_Leng -> 2....|sxh8renumeznh52fn|\n",
      "|Feature|LINESTRING (39.94...|{Shape_Leng -> 1....|swkzyyu9dcdb8upd4|\n",
      "|Feature|LINESTRING (-17.2...|{Shape_Leng -> 30...|exkrqpwcxy7xpmk84|\n",
      "|Feature|LINESTRING (-38.6...|{Shape_Leng -> 1....|ercgtxukcrck7e31k|\n",
      "|Feature|LINESTRING (-10.7...|{Shape_Leng -> 64...|gftvdckc5h660vd7g|\n",
      "|Feature|LINESTRING (-10.6...|{Shape_Leng -> 1....|gftyexm8808mwkemx|\n",
      "|Feature|LINESTRING (7.622...|{Shape_Leng -> 57...|gftv389m3egge2yjb|\n",
      "|Feature|LINESTRING (-11.3...|{Shape_Leng -> 15...|eu4hqzh222x9nn12h|\n",
      "|Feature|LINESTRING (-21.6...|{Shape_Leng -> 17...|es0tk4z4z0rv2ve51|\n",
      "|Feature|LINESTRING (-21.6...|{Shape_Leng -> 98...|es09gyfg0knwfv1up|\n",
      "|Feature|LINESTRING (-21.6...|{Shape_Leng -> 29...|es09uwfv7uxrse5y2|\n",
      "|Feature|LINESTRING (-21.6...|{Shape_Leng -> 69...|eebwe9mk4qcd7t24q|\n",
      "|Feature|LINESTRING (-21.6...|{Shape_Leng -> 25...|eebvfxw8f1zdsbc63|\n",
      "+-------+--------------------+--------------------+-----------------+\n",
      "only showing top 20 rows\n",
      "\n",
      "File: Calderas.geojson\n"
     ]
    },
    {
     "name": "stderr",
     "output_type": "stream",
     "text": [
      "                                                                                \r"
     ]
    },
    {
     "name": "stdout",
     "output_type": "stream",
     "text": [
      "+-------+--------------------+--------------------+-----------------+\n",
      "|   type|            geometry|          properties|          geohash|\n",
      "+-------+--------------------+--------------------+-----------------+\n",
      "|Feature|LINESTRING (24.93...|{Shape_Leng -> 38...|udcxqq29xver79fpg|\n",
      "|Feature|LINESTRING (24.62...|{Shape_Leng -> 47...|udcrx5cbpwgnk7gue|\n",
      "|Feature|LINESTRING (24.33...|{Shape_Leng -> 34...|ue1k1fzugn8wtswgb|\n",
      "|Feature|LINESTRING (23.67...|{Shape_Leng -> 42...|ue0fc3hfvhr4pyxcw|\n",
      "|Feature|LINESTRING (23.74...|{Shape_Leng -> 37...|ue0b72d516ztm5rnz|\n",
      "|Feature|LINESTRING (22.36...|{Shape_Leng -> 14...|u6zgs6cuhj2kz42ew|\n",
      "|Feature|LINESTRING (23.35...|{Shape_Leng -> 25...|udbt596cx5u1sy8hk|\n",
      "|Feature|LINESTRING (23.35...|{Shape_Leng -> 34...|udbte25w1swm8pkbt|\n",
      "|Feature|LINESTRING (-20.3...|{Shape_Leng -> 50...|ge1td13r2w8zdj2rt|\n",
      "|Feature|LINESTRING (-21.2...|{Shape_Leng -> 50...|ge0ys5ff8th5ec5jb|\n",
      "|Feature|LINESTRING (-21.8...|{Shape_Leng -> 27...|ge0rr1nxngdtbv9ut|\n",
      "|Feature|LINESTRING (-21.5...|{Shape_Leng -> 25...|ge0x7p6fb5ctp7m8x|\n",
      "|Feature|LINESTRING (-20.1...|{Shape_Leng -> 89...|ge1tp81q23m7yuwk2|\n",
      "|Feature|LINESTRING (-21.1...|{Shape_Leng -> 63...|ge0zhv6x34zvj3sn7|\n",
      "|Feature|LINESTRING (-20.3...|{Shape_Leng -> 74...|ge1rr35166b9gh95b|\n",
      "|Feature|LINESTRING (-21.1...|{Shape_Leng -> 48...|ge31104ps7t739s42|\n",
      "|Feature|LINESTRING (-21.1...|{Shape_Leng -> 47...|ge2cxwd9pz0udpkv9|\n",
      "|Feature|LINESTRING (-22.6...|{Shape_Leng -> 48...|g7rcww5mr0y8tucuc|\n",
      "|Feature|LINESTRING (-21.8...|{Shape_Leng -> 15...|gdbm43vtyhsppk8qs|\n",
      "|Feature|LINESTRING (-21.2...|{Shape_Leng -> 25...|g9bbuftqtd26fk66n|\n",
      "+-------+--------------------+--------------------+-----------------+\n",
      "only showing top 20 rows\n",
      "\n",
      "File: Diapiric_trends.geojson\n",
      "+-------+--------------------+--------------------+-----------------+\n",
      "|   type|            geometry|          properties|          geohash|\n",
      "+-------+--------------------+--------------------+-----------------+\n",
      "|Feature|LINESTRING (-1.98...|{Shape_Leng -> 33...|gfq9t4e745358cx17|\n",
      "|Feature|LINESTRING (5.664...|{Shape_Leng -> 78...|sh7vxdkx5n77knhpc|\n",
      "|Feature|LINESTRING (5.807...|{Shape_Leng -> 14...|shknkrm318gxpk9uq|\n",
      "|Feature|LINESTRING (5.916...|{Shape_Leng -> 30...|shknrcn8f538fq3ed|\n",
      "|Feature|LINESTRING (6.181...|{Shape_Leng -> 78...|shkmvry8hd3y5zzfp|\n",
      "|Feature|LINESTRING (6.155...|{Shape_Leng -> 57...|shkqkdjrh28pmj556|\n",
      "|Feature|LINESTRING (6.070...|{Shape_Leng -> 11...|shkqdupq089hhh22u|\n",
      "|Feature|LINESTRING (6.070...|{Shape_Leng -> 17...|shkr7f9prfj20qm4b|\n",
      "|Feature|LINESTRING (9.316...|{Shape_Leng -> 27...|shwdkznww32qqszkx|\n",
      "|Feature|LINESTRING (9.104...|{Shape_Leng -> 10...|shw8vtwynxxvuctzx|\n",
      "|Feature|LINESTRING (9.372...|{Shape_Leng -> 66...|shwdpqrub8rmm27kk|\n",
      "|Feature|LINESTRING (9.634...|{Shape_Leng -> 44...|shwctsm5y95s29x1n|\n",
      "|Feature|LINESTRING (9.437...|{Shape_Leng -> 48...|shqz4r71k84tc4jrh|\n",
      "|Feature|LINESTRING (9.128...|{Shape_Leng -> 58...|shqweze74xyz85475|\n",
      "|Feature|LINESTRING (8.746...|{Shape_Leng -> 57...|shqqdqgwd0kud7p8t|\n",
      "|Feature|LINESTRING (9.031...|{Shape_Leng -> 38...|shw2zd7dmtpwhf32h|\n",
      "|Feature|LINESTRING (8.912...|{Shape_Leng -> 72...|shw2pyv01gv1m39yr|\n",
      "|Feature|LINESTRING (8.886...|{Shape_Leng -> 46...|shw2g8wy59srcds15|\n",
      "|Feature|LINESTRING (8.813...|{Shape_Leng -> 22...|shw23tbns85u9regb|\n",
      "|Feature|LINESTRING (8.381...|{Shape_Leng -> 86...|shqpg8mk0rj62wg4u|\n",
      "+-------+--------------------+--------------------+-----------------+\n",
      "only showing top 20 rows\n",
      "\n",
      "File: Diapirs.geojson\n",
      "+-------+--------------------+--------------------+-----------------+\n",
      "|   type|            geometry|          properties|          geohash|\n",
      "+-------+--------------------+--------------------+-----------------+\n",
      "|Feature|POINT (30.4060414...|{SHAPE_TYPE -> Do...|u8m85cj5bjgc88ujs|\n",
      "|Feature|POINT (30.9265697...|{SHAPE_TYPE -> Do...|u8mbzz0p1kcf3r3mk|\n",
      "|Feature|POINT (30.6843429...|{SHAPE_TYPE -> Do...|u8mb65retn8kvd9b4|\n",
      "|Feature|POINT (30.2791350...|{SHAPE_TYPE -> Do...|u8jxch2x6crt91nkz|\n",
      "|Feature|POINT (30.5065310...|{SHAPE_TYPE -> Do...|u8jsy1y1tswmbxgt1|\n",
      "|Feature|POINT (30.5065634...|{SHAPE_TYPE -> Do...|u8jewnnpq2wmsfemw|\n",
      "|Feature|POINT (32.0420266...|{SHAPE_TYPE -> Do...|u8wz94sk96dwzextx|\n",
      "|Feature|POINT (32.1134005...|{SHAPE_TYPE -> Do...|u8wydb0k2mz528xvg|\n",
      "|Feature|POINT (32.4900208...|{SHAPE_TYPE -> Do...|u8xng24w03g7m7huu|\n",
      "|Feature|POINT (31.5584119...|{SHAPE_TYPE -> Do...|u8w7w5k4h73sc4rsr|\n",
      "|Feature|POINT (32.2512126...|{SHAPE_TYPE -> Do...|u8qgvgsx5srhs3yhz|\n",
      "|Feature|POINT (31.8599316...|{SHAPE_TYPE -> Do...|u8qescpxqpyuk1bfv|\n",
      "|Feature|POINT (33.9272793...|{SHAPE_TYPE -> Do...|ub2hu515fvj09qc86|\n",
      "|Feature|POINT (33.7211309...|{SHAPE_TYPE -> Do...|u8rfpm4zp71whb3qh|\n",
      "|Feature|POINT (32.0292154...|{SHAPE_TYPE -> Do...|u8qb8gdynbd40kvd8|\n",
      "|Feature|POINT (31.5851431...|{SHAPE_TYPE -> Do...|u8nmwtzt5nmb8tby8|\n",
      "|Feature|POINT (31.3948159...|{SHAPE_TYPE -> Do...|u8n7dkvh2ppd8tffq|\n",
      "|Feature|POINT (-0.8244919...|{SHAPE_TYPE -> Do...|gfr7mnzw5fnk2ftk9|\n",
      "|Feature|POINT (-0.5035075...|{SHAPE_TYPE -> Do...|gfrtu832grj8cd3yh|\n",
      "|Feature|POINT (-0.2620758...|{SHAPE_TYPE -> Do...|gfrv651ht0n0g0gqe|\n",
      "+-------+--------------------+--------------------+-----------------+\n",
      "only showing top 20 rows\n",
      "\n",
      "File: Dikes_sills.geojson\n"
     ]
    },
    {
     "name": "stderr",
     "output_type": "stream",
     "text": [
      "                                                                                \r"
     ]
    },
    {
     "name": "stdout",
     "output_type": "stream",
     "text": [
      "+-------+--------------------+--------------------+-----------------+\n",
      "|   type|            geometry|          properties|          geohash|\n",
      "+-------+--------------------+--------------------+-----------------+\n",
      "|Feature|LINESTRING (24.99...|{DIKE_ABBRE -> Zm...|u83u0cj41kbecjxp6|\n",
      "|Feature|LINESTRING (24.94...|{DIKE_ABBRE -> Zm...|u83speypuwd8pqfw4|\n",
      "|Feature|LINESTRING (24.91...|{DIKE_ABBRE -> Zm...|u83sny5c85kkcszhs|\n",
      "|Feature|LINESTRING (24.86...|{DIKE_ABBRE -> Zm...|u83wtwquv5dqy0ngh|\n",
      "|Feature|LINESTRING (24.83...|{DIKE_ABBRE -> Zm...|u83xm5kfj1pznuuvn|\n",
      "|Feature|LINESTRING (24.84...|{DIKE_ABBRE -> Zm...|u83xv5rttfn2gmrpm|\n",
      "|Feature|LINESTRING (24.87...|{DIKE_ABBRE -> Zm...|u83xy4cnq2ntf7u8p|\n",
      "|Feature|LINESTRING (24.76...|{DIKE_ABBRE -> Zm...|u83xgq63ewz844deh|\n",
      "|Feature|LINESTRING (24.70...|{DIKE_ABBRE -> Zm...|u8984nt8sq9jfccd0|\n",
      "|Feature|LINESTRING (24.67...|{DIKE_ABBRE -> Zm...|u8981x8zqsuw0wvx7|\n",
      "|Feature|LINESTRING (24.92...|{DIKE_ABBRE -> Zm...|u898xqgytqgy43zb0|\n",
      "|Feature|LINESTRING (24.79...|{DIKE_ABBRE -> Zm...|u898umbkc7suxr5y1|\n",
      "|Feature|LINESTRING (24.75...|{DIKE_ABBRE -> Zm...|u898grc89gbyf5g9q|\n",
      "|Feature|LINESTRING (24.76...|{DIKE_ABBRE -> Zm...|u899793epecs3hm8n|\n",
      "|Feature|LINESTRING (24.85...|{DIKE_ABBRE -> Zm...|u899t83nysh0gyyff|\n",
      "|Feature|LINESTRING (24.80...|{DIKE_ABBRE -> Zm...|u899s7qb9qyw23u26|\n",
      "|Feature|LINESTRING (24.76...|{DIKE_ABBRE -> Zm...|u899ethmxfh7u81ph|\n",
      "|Feature|LINESTRING (21.60...|{DIKE_ABBRE -> Y²...|u2xm5qwqfq8tm21v4|\n",
      "|Feature|LINESTRING (21.62...|{DIKE_ABBRE -> Y²...|u2xm7y69k4y4s0w9c|\n",
      "|Feature|LINESTRING (21.59...|{DIKE_ABBRE -> Y²...|u2xme62mbwhtvptpv|\n",
      "+-------+--------------------+--------------------+-----------------+\n",
      "only showing top 20 rows\n",
      "\n",
      "File: Faults.geojson\n",
      "+-------+--------------------+--------------------+-----------------+\n",
      "|   type|            geometry|          properties|          geohash|\n",
      "+-------+--------------------+--------------------+-----------------+\n",
      "|Feature|LINESTRING (4.577...|{SLIP_DIR -> NULL...|shd9ex78fc8t5wtw9|\n",
      "|Feature|LINESTRING (4.058...|{SLIP_DIR -> NULL...|shd393k5ppb03whbz|\n",
      "|Feature|LINESTRING (-19.0...|{SLIP_DIR -> NULL...|ewf6jr182qmnjbnde|\n",
      "|Feature|LINESTRING (-19.3...|{SLIP_DIR -> NULL...|ewf4qx8334qkc990r|\n",
      "|Feature|LINESTRING (-19.6...|{SLIP_DIR -> NULL...|ewf4bsqkqbxjvfwnm|\n",
      "|Feature|LINESTRING (-19.0...|{SLIP_DIR -> NULL...|ewf7meqcu1u674z6v|\n",
      "|Feature|LINESTRING (-19.3...|{SLIP_DIR -> NULL...|ewdnyxnrcthgd7fd9|\n",
      "|Feature|LINESTRING (-19.2...|{SLIP_DIR -> NULL...|ewdr67mkbv9s61nqm|\n",
      "|Feature|LINESTRING (-19.3...|{SLIP_DIR -> NULL...|ewdpr7u8wjjfv3eg7|\n",
      "|Feature|LINESTRING (-19.2...|{SLIP_DIR -> NULL...|ewdqgkzr5zupje05g|\n",
      "|Feature|LINESTRING (-19.2...|{SLIP_DIR -> NULL...|ewdrg11248g89jbfn|\n",
      "|Feature|LINESTRING (-19.3...|{SLIP_DIR -> NULL...|ewdrb4w6tzfnkmp3x|\n",
      "|Feature|LINESTRING (-19.3...|{SLIP_DIR -> NULL...|ewdpuszqp1wb30ef6|\n",
      "|Feature|LINESTRING (-19.5...|{SLIP_DIR -> NULL...|ewf01szzsdbrmsd52|\n",
      "|Feature|LINESTRING (-19.1...|{SLIP_DIR -> NULL...|ewf2t92hqju3j08p1|\n",
      "|Feature|LINESTRING (-19.5...|{SLIP_DIR -> NULL...|ewf08utc6m69r88hr|\n",
      "|Feature|LINESTRING (-19.0...|{SLIP_DIR -> NULL...|ewf2uqzqq4r89ejpf|\n",
      "|Feature|LINESTRING (-19.1...|{SLIP_DIR -> NULL...|ewf2ghm3fusntxb8u|\n",
      "|Feature|LINESTRING (-19.2...|{SLIP_DIR -> NULL...|ewf30f35s2geczcd3|\n",
      "|Feature|LINESTRING (-19.2...|{SLIP_DIR -> NULL...|ewf2mz49ewzh1fz3b|\n",
      "+-------+--------------------+--------------------+-----------------+\n",
      "only showing top 20 rows\n",
      "\n",
      "File: Gas_fluid_seep.geojson\n"
     ]
    },
    {
     "name": "stderr",
     "output_type": "stream",
     "text": [
      "                                                                                \r"
     ]
    },
    {
     "name": "stdout",
     "output_type": "stream",
     "text": [
      "+-------+--------------------+----------------+-----------------+\n",
      "|   type|            geometry|      properties|          geohash|\n",
      "+-------+--------------------+----------------+-----------------+\n",
      "|Feature|POINT (-22.241921...| {OBJECTID -> 0}|gd2jmf5fjsv6ecn7g|\n",
      "|Feature|POINT (-16.611828...| {OBJECTID -> 1}|exhhtyrtsqgh573gt|\n",
      "|Feature|POINT (-16.493114...| {OBJECTID -> 2}|exhk8dq4d8dsgpyyg|\n",
      "|Feature|POINT (18.8519986...| {OBJECTID -> 3}|smmqkzp853tpbrzc9|\n",
      "|Feature|POINT (7.76133436...| {OBJECTID -> 4}|shmxbsedu4nqge4rd|\n",
      "|Feature|POINT (4.52164832...| {OBJECTID -> 5}|sh5pqbuxdn3r5mq6t|\n",
      "|Feature|POINT (4.47757233...| {OBJECTID -> 6}|sh7hjvhqwyrfvmmkq|\n",
      "|Feature|POINT (4.28080609...| {OBJECTID -> 7}|sh7j17vnwhb2u5y0v|\n",
      "|Feature|POINT (4.41620004...| {OBJECTID -> 8}|sh7jhqzf2ymmt9vyk|\n",
      "|Feature|POINT (4.55000298...| {OBJECTID -> 9}|sh7jrd3pncb4uj7pf|\n",
      "|Feature|POINT (5.65508131...|{OBJECTID -> 10}|shkhbttysvqr0nq7p|\n",
      "|Feature|POINT (5.74795570...|{OBJECTID -> 11}|shkj4gcw9hf2veb2f|\n",
      "|Feature|POINT (5.82508434...|{OBJECTID -> 12}|shkjks18y73xnrrhm|\n",
      "|Feature|POINT (6.11946225...|{OBJECTID -> 13}|shkme7b49y9y0gydg|\n",
      "|Feature|POINT (6.16039065...|{OBJECTID -> 14}|shkqh1mggd81w896p|\n",
      "|Feature|POINT (6.32567420...|{OBJECTID -> 15}|shkqpby5ngh89g926|\n",
      "|Feature|POINT (6.31150916...|{OBJECTID -> 16}|shkqrw7guc6rd8yfk|\n",
      "|Feature|POINT (6.41855492...|{OBJECTID -> 17}|shkt6p3v5pjqq57q7|\n",
      "|Feature|POINT (6.40596161...|{OBJECTID -> 18}|shkw1g2wm9rhqpde9|\n",
      "|Feature|POINT (6.40753997...|{OBJECTID -> 19}|shkw3zcvdd8154vq4|\n",
      "+-------+--------------------+----------------+-----------------+\n",
      "only showing top 20 rows\n",
      "\n",
      "File: Gas_oil_seep.geojson\n",
      "+-------+--------------------+---------------+-----------------+\n",
      "|   type|            geometry|     properties|          geohash|\n",
      "+-------+--------------------+---------------+-----------------+\n",
      "|Feature|POINT (8.49725050...|{OBJECTID -> 0}|u1yp3ke827c1new25|\n",
      "|Feature|POINT (-9.4242281...|{OBJECTID -> 1}|eu3q9d92ze41vx2jw|\n",
      "|Feature|POINT (-9.5275439...|{OBJECTID -> 2}|eu3nznykb0u26ztb5|\n",
      "+-------+--------------------+---------------+-----------------+\n",
      "\n",
      "File: Geologic_contacts.geojson\n"
     ]
    },
    {
     "name": "stderr",
     "output_type": "stream",
     "text": [
      "                                                                                \r"
     ]
    },
    {
     "name": "stdout",
     "output_type": "stream",
     "text": [
      "+-------+--------------------+--------------------+-----------------+\n",
      "|   type|            geometry|          properties|          geohash|\n",
      "+-------+--------------------+--------------------+-----------------+\n",
      "|Feature|LINESTRING (-10.5...|{Shape_Leng -> 81...|gg6c0yck7umk62wn5|\n",
      "|Feature|LINESTRING (-0.00...|{Shape_Leng -> 17...|ggpk0peebq45gq5te|\n",
      "|Feature|LINESTRING (-0.87...|{Shape_Leng -> 36...|u5224kj3br33wd697|\n",
      "|Feature|LINESTRING (-29.4...|{Shape_Leng -> 48...|g7hju5v0ce0q21g3k|\n",
      "|Feature|LINESTRING (-13.0...|{Shape_Leng -> 54...|gdwv9pn6h4tm4gvpm|\n",
      "|Feature|LINESTRING (-13.0...|{Shape_Leng -> 43...|gdw8cdtrw7f184nwd|\n",
      "|Feature|LINESTRING (-14.0...|{Shape_Leng -> 21...|gdw12u6g9twy0s7p6|\n",
      "|Feature|LINESTRING (-13.7...|{Shape_Leng -> 11...|gdqqcbky3bv9ptmxk|\n",
      "|Feature|LINESTRING (-14.1...|{Shape_Leng -> 46...|gdmvxnrkem5gcsv20|\n",
      "|Feature|LINESTRING (-13.7...|{Shape_Leng -> 38...|gdnyvryk24xe2ee0j|\n",
      "|Feature|LINESTRING (-12.4...|{Shape_Leng -> 98...|gdpr3ucq59hnkyhx2|\n",
      "|Feature|LINESTRING (-27.9...|{Shape_Leng -> 45...|g6gt3jh98nvrmxw24|\n",
      "|Feature|LINESTRING (-29.2...|{Shape_Leng -> 32...|g75sschk0s3d6tu9u|\n",
      "|Feature|LINESTRING (-5.52...|{Shape_Leng -> 22...|gft4ub1rdnzwx0136|\n",
      "|Feature|LINESTRING (-17.4...|{Shape_Leng -> 33...|gdsmb1kq0vup6vbym|\n",
      "|Feature|LINESTRING (-14.0...|{Shape_Leng -> 70...|gdmzrrbdxwuz8xd6d|\n",
      "|Feature|LINESTRING (-13.5...|{Shape_Leng -> 74...|gdqk2tegs8w58er55|\n",
      "|Feature|LINESTRING (-13.8...|{Shape_Leng -> 58...|gdq4y8dtdu4dss09d|\n",
      "|Feature|LINESTRING (-12.9...|{Shape_Leng -> 40...|gdqc659ufysrg9drc|\n",
      "|Feature|LINESTRING (-14.3...|{Shape_Leng -> 87...|gdw40hj3rjfb5tbmg|\n",
      "+-------+--------------------+--------------------+-----------------+\n",
      "only showing top 20 rows\n",
      "\n",
      "File: Geologic_overprints.geojson\n"
     ]
    },
    {
     "name": "stderr",
     "output_type": "stream",
     "text": [
      "                                                                                \r"
     ]
    },
    {
     "name": "stdout",
     "output_type": "stream",
     "text": [
      "+-------+--------------------+--------------------+-----------------+\n",
      "|   type|            geometry|          properties|          geohash|\n",
      "+-------+--------------------+--------------------+-----------------+\n",
      "|Feature|POLYGON ((-5.0409...|{SHAPE_Area -> 4....|evu2dp9p62096n21k|\n",
      "|Feature|POLYGON ((-3.0900...|{SHAPE_Area -> 5....|eynzwyhbmgn2eejzn|\n",
      "|Feature|POLYGON ((-4.9772...|{SHAPE_Area -> 4....|ezh322k0u0k6kt6mr|\n",
      "|Feature|POLYGON ((-6.5575...|{SHAPE_Area -> 1....|ey7e9re1jkr4shzue|\n",
      "|Feature|POLYGON ((-6.6101...|{SHAPE_Area -> 1....|eygu050hq39vvdcu3|\n",
      "|Feature|POLYGON ((0.00221...|{SHAPE_Area -> 1....|s58p2n6kctys0176r|\n",
      "|Feature|POLYGON ((-2.4091...|{SHAPE_Area -> 1....|egw63jjm8v2sm97m2|\n",
      "|Feature|POLYGON ((-2.2983...|{SHAPE_Area -> 2....|egw3g2kj2937fmrjm|\n",
      "|Feature|POLYGON ((-1.0553...|{SHAPE_Area -> 3....|egp5zjq2y2053vbt0|\n",
      "|Feature|POLYGON ((-1.2008...|{SHAPE_Area -> 3....|egp4sujmnft8breez|\n",
      "|Feature|POLYGON ((0.14866...|{SHAPE_Area -> 4....|s5b15e062usjqsggw|\n",
      "|Feature|POLYGON ((0.25740...|{SHAPE_Area -> 4....|s5b0mv7j87v114xh2|\n",
      "|Feature|POLYGON ((-3.7417...|{SHAPE_Area -> 4....|egtr4xv7zcsp5r0qy|\n",
      "|Feature|POLYGON ((0.04621...|{SHAPE_Area -> 6....|s58hbuh047zhncjke|\n",
      "|Feature|POLYGON ((0.33884...|{SHAPE_Area -> 1....|s5b1n1390hgcfnxqv|\n",
      "|Feature|POLYGON ((0.53436...|{SHAPE_Area -> 6....|s5b25ny6ewe7ze3tq|\n",
      "|Feature|POLYGON ((2.84275...|{SHAPE_Area -> 7....|s4f03ye1y07c8mrgz|\n",
      "|Feature|POLYGON ((-0.7305...|{SHAPE_Area -> 1....|egpe6k7qvutjs23ph|\n",
      "|Feature|POLYGON ((-0.2955...|{SHAPE_Area -> 1....|efzxpe13sf4uqg4uq|\n",
      "|Feature|POLYGON ((-0.7884...|{SHAPE_Area -> 2....|egrkyfw6mym7gh29k|\n",
      "+-------+--------------------+--------------------+-----------------+\n",
      "only showing top 20 rows\n",
      "\n",
      "File: Geologic_units.geojson\n"
     ]
    },
    {
     "name": "stderr",
     "output_type": "stream",
     "text": [
      "                                                                                \r"
     ]
    },
    {
     "name": "stdout",
     "output_type": "stream",
     "text": [
      "+-------+--------------------+--------------------+-----------------+\n",
      "|   type|            geometry|          properties|          geohash|\n",
      "+-------+--------------------+--------------------+-----------------+\n",
      "|Feature|POLYGON ((-16.543...|{UNIT_ABBRE -> PZ...|g8egk8hjct80cfjvh|\n",
      "|Feature|POLYGON ((-17.804...|{UNIT_ABBRE -> TQ...|g8ek26wq85k5jjv8r|\n",
      "|Feature|POLYGON ((-17.885...|{UNIT_ABBRE -> TQ...|g8ehv23dvhfszty5d|\n",
      "|Feature|POLYGON ((-2.9781...|{UNIT_ABBRE -> pC...|gcmpfu9rtjc54bp5u|\n",
      "|Feature|POLYGON ((-4.5299...|{UNIT_ABBRE -> CA...|gcsks8yqf7hrktq07|\n",
      "|Feature|POLYGON ((0.60887...|{UNIT_ABBRE -> S*...|u18r3juugv8r8e93j|\n",
      "|Feature|POLYGON ((-1.0438...|{UNIT_ABBRE -> CA...|gcxy95qvdvqhgeh4e|\n",
      "|Feature|POLYGON ((-38.348...|{UNIT_ABBRE -> T*...|g64bh0t4nq24duk5k|\n",
      "|Feature|POLYGON ((16.5161...|{UNIT_ABBRE -> TQ...|gfxx59e2vzp2tye55|\n",
      "|Feature|POLYGON ((-17.406...|{UNIT_ABBRE -> TQ...|g85fksr7tk5htqd0b|\n",
      "|Feature|POLYGON ((-1.9430...|{UNIT_ABBRE -> CA...|gctzy3qppmfrv1hes|\n",
      "|Feature|POLYGON ((-12.664...|{UNIT_ABBRE -> CA...|g8wujehk4bspcqz19|\n",
      "|Feature|POLYGON ((-12.877...|{UNIT_ABBRE -> Z,...|g8wge88s4xcnj7jhk|\n",
      "|Feature|POLYGON ((-12.588...|{UNIT_ABBRE -> pg...|g8xh390y89z6b2wct|\n",
      "|Feature|POLYGON ((-1.3640...|{UNIT_ABBRE -> WX...|gbwv3w8f4ewgsuftj|\n",
      "|Feature|POLYGON ((-12.716...|{UNIT_ABBRE -> Z,...|g8wvt3qh2b78mujec|\n",
      "|Feature|POLYGON ((-5.2298...|{UNIT_ABBRE -> X²...|gbskbv1yf73bzx8kw|\n",
      "|Feature|POLYGON ((-5.7387...|{UNIT_ABBRE -> mD...|gbetnq3e2ttycxbmv|\n",
      "|Feature|POLYGON ((-4.5613...|{UNIT_ABBRE -> VW...|gbsv0m29d6b5p6zfm|\n",
      "|Feature|POLYGON ((-12.530...|{UNIT_ABBRE -> CA...|g8xjhb52c3vgryzhv|\n",
      "+-------+--------------------+--------------------+-----------------+\n",
      "only showing top 20 rows\n",
      "\n",
      "File: Glaciation_extents.geojson\n",
      "+-------+--------------------+--------------------+-----------------+\n",
      "|   type|            geometry|          properties|          geohash|\n",
      "+-------+--------------------+--------------------+-----------------+\n",
      "|Feature|LINESTRING (18.49...|{Shape_Leng -> 52...|snv05smdvj9rj16rv|\n",
      "|Feature|LINESTRING (-8.05...|{Shape_Leng -> 17...|ez6hr0p1cxr3p7652|\n",
      "|Feature|LINESTRING (-7.90...|{Shape_Leng -> 18...|ez4rsktcptz3mfz40|\n",
      "|Feature|LINESTRING (-7.90...|{Shape_Leng -> 68...|ez4rwkvtk1snpukev|\n",
      "|Feature|LINESTRING (-8.17...|{Shape_Leng -> 13...|ez67h0ft7t1bmp3nu|\n",
      "|Feature|LINESTRING (-8.16...|{Shape_Leng -> 15...|ez6jx17w4xttqsc63|\n",
      "|Feature|LINESTRING (-7.94...|{Shape_Leng -> 50...|ez6kbrjg7cus2zvdu|\n",
      "|Feature|LINESTRING (-6.82...|{Shape_Leng -> 38...|ez7hmb0hhjrqbrsu3|\n",
      "|Feature|LINESTRING (-3.26...|{Shape_Leng -> 65...|ezmdrnh3u7spkchuc|\n",
      "|Feature|LINESTRING (-5.34...|{Shape_Leng -> 19...|ezk6vw1h37yj59m7x|\n",
      "|Feature|LINESTRING (-7.72...|{Shape_Leng -> 86...|ez79wf1nrjvk3dpp0|\n",
      "|Feature|LINESTRING (1.430...|{Shape_Leng -> 22...|snjp0dgk1ykh7xdhp|\n",
      "|Feature|LINESTRING (6.893...|{Shape_Leng -> 68...|snsmtnxrfyh709b3j|\n",
      "|Feature|LINESTRING (15.77...|{Shape_Leng -> 28...|sqegxmuw7392sdm41|\n",
      "|Feature|LINESTRING (-2.50...|{Shape_Leng -> 50...|eyzpbm2rv2n83dkr2|\n",
      "|Feature|LINESTRING (-2.97...|{Shape_Leng -> 30...|ezjumezhtsev961yn|\n",
      "|Feature|LINESTRING (-3.01...|{Shape_Leng -> 23...|ezjvvj0ep8gw7wjye|\n",
      "|Feature|LINESTRING (-3.38...|{Shape_Leng -> 22...|ezm8c6q6fc6ymxfyq|\n",
      "|Feature|LINESTRING (-3.23...|{Shape_Leng -> 31...|ezmdr3y5x9g2k8tgs|\n",
      "|Feature|LINESTRING (-3.62...|{Shape_Leng -> 95...|ezm3ce5kcmqq2c7dq|\n",
      "+-------+--------------------+--------------------+-----------------+\n",
      "only showing top 20 rows\n",
      "\n",
      "File: Hydrothermal_vents.geojson\n",
      "+-------+--------------------+----------------+-----------------+\n",
      "|   type|            geometry|      properties|          geohash|\n",
      "+-------+--------------------+----------------+-----------------+\n",
      "|Feature|POINT (21.4343201...| {OBJECTID -> 0}|u7p1xexvxz79cmv9v|\n",
      "|Feature|POINT (22.0168297...| {OBJECTID -> 1}|u7pdm18jj6d5jbcpf|\n",
      "|Feature|POINT (24.9190851...| {OBJECTID -> 2}|udc8rp1d0v8tv03tv|\n",
      "|Feature|POINT (-8.1812863...| {OBJECTID -> 3}|eg6hvy68fpqgb2ygj|\n",
      "|Feature|POINT (-7.9333726...| {OBJECTID -> 4}|eg6ke7zhe00960k8y|\n",
      "|Feature|POINT (-7.9075141...| {OBJECTID -> 5}|eg6ku43fmtfh3bcjm|\n",
      "|Feature|POINT (-7.8835940...| {OBJECTID -> 6}|eg6mh8g24byjyqfyr|\n",
      "|Feature|POINT (-9.4818003...| {OBJECTID -> 7}|eu37bnp96j3nnjxqh|\n",
      "|Feature|POINT (-9.5338839...| {OBJECTID -> 8}|eu3jx53eh6uvdvnjg|\n",
      "|Feature|POINT (-3.3651634...| {OBJECTID -> 9}|ecv872vx44bhr2cny|\n",
      "|Feature|POINT (-3.3782448...|{OBJECTID -> 10}|ecv8ehk134y41uz5g|\n",
      "|Feature|POINT (-19.330439...|{OBJECTID -> 11}|ewdqb1kp0h7su3r47|\n",
      "|Feature|POINT (-19.244025...|{OBJECTID -> 12}|ewdrfndgj9yekwdbu|\n",
      "|Feature|POINT (-18.099938...|{OBJECTID -> 13}|ewgns5k02y5964ww7|\n",
      "|Feature|POINT (-18.001858...|{OBJECTID -> 14}|ewgpn352yr95gjkw4|\n",
      "|Feature|POINT (-19.904800...|{OBJECTID -> 15}|ex3cgj9z0w1r5nddf|\n",
      "|Feature|POINT (-19.830238...|{OBJECTID -> 16}|ex3fhzbh1byy8bgug|\n",
      "|Feature|POINT (-19.787051...|{OBJECTID -> 17}|ex3fmtrd039hs794b|\n",
      "|Feature|POINT (-19.693556...|{OBJECTID -> 18}|ex3fzvge6vh5gjfs3|\n",
      "|Feature|POINT (-19.240375...|{OBJECTID -> 19}|ex6mdhtefz2mw48rf|\n",
      "+-------+--------------------+----------------+-----------------+\n",
      "only showing top 20 rows\n",
      "\n",
      "File: Impact_structure_great_10_KM.geojson\n",
      "+-------+--------------------+--------------------+-----------------+\n",
      "|   type|            geometry|          properties|          geohash|\n",
      "+-------+--------------------+--------------------+-----------------+\n",
      "|Feature|LINESTRING (1.300...|{NAME -> Ames, EX...|sj8uqpxjxp34q8jeq|\n",
      "|Feature|LINESTRING (18.18...|{NAME -> Charlevo...|srth5nfge149yuyfb|\n",
      "|Feature|LINESTRING (17.48...|{NAME -> Chesapea...|sqhsqj1jrvsk3vphj|\n",
      "|Feature|LINESTRING (8.247...|{NAME -> Chicxulu...|s5qrk0zn9k4q3c1hc|\n",
      "|Feature|LINESTRING (-6.31...|{NAME -> Eagle Bu...|ez7x30j1zer1151ny|\n",
      "|Feature|LINESTRING (8.816...|{NAME -> Kentland...|snq73xs3gvjs2smr5|\n",
      "|Feature|LINESTRING (18.17...|{NAME -> Manicoua...|u2hskfy40sk2d0pdg|\n",
      "|Feature|LINESTRING (3.667...|{NAME -> Manson, ...|snd8vjhdnxv3kvx7p|\n",
      "|Feature|LINESTRING (24.07...|{NAME -> Montagna...|sx34pdgur7duz1hgc|\n",
      "|Feature|LINESTRING (0.716...|{NAME -> Saint Ma...|sp8t7m80um5w4zyvz|\n",
      "|Feature|LINESTRING (-2.55...|{NAME -> Sierra M...|euy4yz6um75t8degr|\n",
      "|Feature|LINESTRING (7.838...|{NAME -> Slate Is...|spmsj4gkr8gkc4yz1|\n",
      "|Feature|LINESTRING (12.27...|{NAME -> Sudbury,...|sr0rqt5zc5uhyr6hp|\n",
      "|Feature|LINESTRING (19.59...|{NAME -> Toms Can...|sqmzrvfm6qg2dnm2r|\n",
      "|Feature|LINESTRING (9.164...|{NAME -> Wells Cr...|sjy83845mbxxrbf48|\n",
      "|Feature|LINESTRING (2.982...|{NAME -> Marquez,...|shfn64v11t3pkbmcn|\n",
      "|Feature|LINESTRING (-9.30...|{NAME -> Beaverhe...|eycefrv6czgfw519f|\n",
      "|Feature|LINESTRING (14.86...|{NAME -> Presqu'i...|srf8kgevdvf78nkm3|\n",
      "|Feature|LINESTRING (-7.24...|{NAME -> Upheaval...|ey4bkjm1d46t9dnjs|\n",
      "|Feature|LINESTRING (18.57...|{NAME -> Mistasti...|u2v0snhpzq68vrgqg|\n",
      "+-------+--------------------+--------------------+-----------------+\n",
      "only showing top 20 rows\n",
      "\n",
      "File: Impact_structure_less_10_KM.geojson\n",
      "+-------+--------------------+--------------------+-----------------+\n",
      "|   type|            geometry|          properties|          geohash|\n",
      "+-------+--------------------+--------------------+-----------------+\n",
      "|Feature|POINT (16.1670605...|{NAME -> La Moine...|u2g6pys2zufj572c0|\n",
      "|Feature|POINT (11.1395021...|{NAME -> Couture,...|u0zgv6x8cnyz6rsfd|\n",
      "|Feature|POINT (11.5411103...|{NAME -> New Queb...|u300we5br25esxg1h|\n",
      "|Feature|POINT (13.7850222...|{NAME -> Brent, E...|sr1z1ejzy71w4u91z|\n",
      "|Feature|POINT (9.73293893...|{NAME -> Calvin, ...|snwbtqx29bm60fqhk|\n",
      "|Feature|POINT (6.30202356...|{NAME -> Crooked ...|sjump6hvxy17gmj0s|\n",
      "|Feature|POINT (8.15080967...|{NAME -> Des Plai...|sntc36xhrwspn25bq|\n",
      "|Feature|POINT (-3.9751972...|{NAME -> Elbow, E...|ezt5j9327hn4f3zk5|\n",
      "|Feature|POINT (10.7617197...|{NAME -> Flynn Cr...|sjz8ubh2nnpb791pp|\n",
      "|Feature|POINT (7.20273160...|{NAME -> Glasford...|snm1ecsz7y3fqxb8e|\n",
      "|Feature|POINT (6.88937233...|{NAME -> Glover B...|snubhv0wqh8kg4hnv|\n",
      "|Feature|POINT (0.64383670...|{NAME -> Haviland...|sjb6yesf6kp2y01b7|\n",
      "|Feature|POINT (15.3735838...|{NAME -> Hollefor...|sr4fjbftqmngpr1g7|\n",
      "|Feature|POINT (15.2304897...|{NAME -> lIe Roul...|srfudd4t2pskbg8f4|\n",
      "|Feature|POINT (-5.4201388...|{NAME -> Maple Cr...|ezkphtthmdgsbkepx|\n",
      "|Feature|POINT (12.1033909...|{NAME -> Middlesb...|smbe7kv6j2nqsc0j0|\n",
      "|Feature|POINT (-1.1380396...|{NAME -> Newporte...|ezr4qj7q9u0jswrqq|\n",
      "|Feature|POINT (-2.1316709...|{NAME -> Red Wing...|eznmpkxc03yzy2kbg|\n",
      "|Feature|POINT (11.9720438...|{NAME -> Serpent ...|sq0w02tf2vdzt150p|\n",
      "|Feature|POINT (11.1814917...|{NAME -> Versaill...|snpcqrw179ss3c4fn|\n",
      "+-------+--------------------+--------------------+-----------------+\n",
      "only showing top 20 rows\n",
      "\n",
      "File: Maganifeorus_deposits.geojson\n",
      "+-------+--------------------+--------------------+-----------------+\n",
      "|   type|            geometry|          properties|          geohash|\n",
      "+-------+--------------------+--------------------+-----------------+\n",
      "|Feature|POINT (35.8855584...|{SHAPE_TYPE -> Bl...|ub3x0eghfp5f3z0zg|\n",
      "|Feature|POINT (36.0708565...|{SHAPE_TYPE -> Bl...|ub3wuf9vxzu5749vr|\n",
      "|Feature|POINT (30.1016092...|{SHAPE_TYPE -> Cr...|uem3kgx34q4xhf1pn|\n",
      "|Feature|POINT (-0.7501882...|{SHAPE_TYPE -> No...|ggr3qcjdpr7juh5u3|\n",
      "|Feature|POINT (-26.623223...|{SHAPE_TYPE -> Un...|g3j14ntwcft2xcvvy|\n",
      "|Feature|POINT (-35.725134...|{SHAPE_TYPE -> Un...|g0ye501z241p1n7r9|\n",
      "|Feature|POINT (-38.163232...|{SHAPE_TYPE -> Un...|g0uf7td6hnp8d74m6|\n",
      "|Feature|POINT (-38.336138...|{SHAPE_TYPE -> Un...|g0ssxsh3z1ycz7wt7|\n",
      "|Feature|POINT (-34.359466...|{SHAPE_TYPE -> Un...|g0x9f4u5nrkxbdett|\n",
      "|Feature|POINT (-38.600032...|{SHAPE_TYPE -> Un...|g0hw9ws7611ut4cpc|\n",
      "|Feature|POINT (-35.958709...|{SHAPE_TYPE -> Un...|g4n6mdpxjq6v6gcq0|\n",
      "|Feature|POINT (-25.520267...|{SHAPE_TYPE -> Un...|g3jyek2tntmdey6ux|\n",
      "|Feature|POINT (-22.153384...|{SHAPE_TYPE -> Un...|g905xvuksxp1vz1mu|\n",
      "|Feature|POINT (-19.293096...|{SHAPE_TYPE -> Un...|g86r2bz0nm8qfre96|\n",
      "|Feature|POINT (-16.411818...|{SHAPE_TYPE -> Bl...|edh749c30ym1g4z42|\n",
      "|Feature|POINT (-17.264024...|{SHAPE_TYPE -> Bl...|ee79xjssr147f59th|\n",
      "|Feature|POINT (33.9461109...|{SHAPE_TYPE -> Bl...|sg01u3yu98qynxvh6|\n",
      "|Feature|POINT (17.5954375...|{SHAPE_TYPE -> Bl...|smhs0rst72m5kquku|\n",
      "|Feature|POINT (31.1888616...|{SHAPE_TYPE -> Bl...|sey5vxp1c4hz64j1v|\n",
      "|Feature|POINT (31.7979672...|{SHAPE_TYPE -> Cr...|swws7s6dd7dyv4px5|\n",
      "+-------+--------------------+--------------------+-----------------+\n",
      "only showing top 20 rows\n",
      "\n",
      "File: Phosphate_nodules_pavement.geojson\n",
      "+-------+--------------------+----------------+-----------------+\n",
      "|   type|            geometry|      properties|          geohash|\n",
      "+-------+--------------------+----------------+-----------------+\n",
      "|Feature|POINT (-14.881238...| {OBJECTID -> 0}|etmrv25vf4btkxbgx|\n",
      "|Feature|POINT (-14.828397...| {OBJECTID -> 1}|etmrwx673797v31k8|\n",
      "|Feature|POINT (-14.854822...| {OBJECTID -> 2}|etmrmzzj3s10tuzu0|\n",
      "|Feature|POINT (-14.931414...| {OBJECTID -> 3}|etmrkpx20gd03mbdb|\n",
      "|Feature|POINT (-14.984250...| {OBJECTID -> 4}|etmre08zcdhzhqhuy|\n",
      "|Feature|POINT (-14.931408...| {OBJECTID -> 5}|etmrhjpm2cqx1nxy8|\n",
      "|Feature|POINT (-14.931409...| {OBJECTID -> 6}|etmqspx22cqp5pqkr|\n",
      "|Feature|POINT (-14.886521...| {OBJECTID -> 7}|etmqv1pvqgt05xggr|\n",
      "|Feature|POINT (-14.836329...| {OBJECTID -> 8}|etmqw2h9b6qvv0g3e|\n",
      "|Feature|POINT (-14.804627...| {OBJECTID -> 9}|etmqr47871jyn6cxf|\n",
      "|Feature|POINT (-14.691018...|{OBJECTID -> 10}|etmtceq64knk0sg8c|\n",
      "|Feature|POINT (-14.601204...|{OBJECTID -> 11}|etmtexzxzm0b4ebf5|\n",
      "|Feature|POINT (-14.463850...|{OBJECTID -> 12}|etmwnzg8pb7evyuh5|\n",
      "|Feature|POINT (-14.484987...|{OBJECTID -> 13}|etmww7k7566s56sgz|\n",
      "|Feature|POINT (-14.675194...|{OBJECTID -> 14}|etmx649c74vtsbbv4|\n",
      "|Feature|POINT (-14.632940...|{OBJECTID -> 15}|etmx5n2sgzc4e4t20|\n",
      "|Feature|POINT (-14.572206...|{OBJECTID -> 16}|etmwsqsvfcz3kfx1j|\n",
      "|Feature|POINT (-14.524653...|{OBJECTID -> 17}|etmwvqpkpp9pk2vtd|\n",
      "|Feature|POINT (-14.413726...|{OBJECTID -> 18}|ettb2h2jrf63yqee2|\n",
      "|Feature|POINT (-14.376737...|{OBJECTID -> 19}|ettb8c75v8z895ruy|\n",
      "+-------+--------------------+----------------+-----------------+\n",
      "only showing top 20 rows\n",
      "\n",
      "File: Polymetallic_sulfide_deposits.geojson\n",
      "+-------+--------------------+----------------+-----------------+\n",
      "|   type|            geometry|      properties|          geohash|\n",
      "+-------+--------------------+----------------+-----------------+\n",
      "|Feature|POINT (-16.816448...| {OBJECTID -> 0}|etspcm69u67jrphyv|\n",
      "|Feature|POINT (-3.4668825...| {OBJECTID -> 1}|ecvt3j52zg900f9sw|\n",
      "|Feature|POINT (-3.4550050...| {OBJECTID -> 2}|ecve37h4k936rptf1|\n",
      "|Feature|POINT (-3.4589654...| {OBJECTID -> 3}|ecvw16330m26wk30y|\n",
      "|Feature|POINT (-3.4827136...| {OBJECTID -> 4}|ecvs28zgwzs6rsf38|\n",
      "|Feature|POINT (-8.0977849...| {OBJECTID -> 5}|eg6hxxzr7ztfjnf5d|\n",
      "|Feature|POINT (-7.8480055...| {OBJECTID -> 6}|eg6mm2m220nbqqwbw|\n",
      "|Feature|POINT (-3.4052216...| {OBJECTID -> 7}|ecv9ft8kkw6ezq0u1|\n",
      "|Feature|POINT (-3.3933412...| {OBJECTID -> 8}|ecv9dg9n1mm37vhw4|\n",
      "|Feature|POINT (-3.3854217...| {OBJECTID -> 9}|ecv96cwzcunx996d3|\n",
      "|Feature|POINT (-3.3775045...|{OBJECTID -> 10}|ecv8gpu9drq449fx2|\n",
      "|Feature|POINT (-3.3435535...|{OBJECTID -> 11}|ectxgvtmct9z9g5h8|\n",
      "|Feature|POINT (-3.8978053...|{OBJECTID -> 12}|ect1rq3ww93ewnu0k|\n",
      "+-------+--------------------+----------------+-----------------+\n",
      "\n",
      "File: Rock_in_seafloor_sample.geojson\n",
      "+-------+--------------------+--------------------+-----------------+\n",
      "|   type|            geometry|          properties|          geohash|\n",
      "+-------+--------------------+--------------------+-----------------+\n",
      "|Feature|POINT (33.6998734...|{SHAPE_TYPE -> Ul...|u9zzqf57zbwvq6c48|\n",
      "|Feature|POINT (33.8242567...|{SHAPE_TYPE -> Ul...|ucbp1sn1621u5qk5d|\n",
      "|Feature|POINT (34.4553868...|{SHAPE_TYPE -> Ul...|uf0d0098ktqe13qrq|\n",
      "|Feature|POINT (33.0180687...|{SHAPE_TYPE -> Ul...|u9zmrk5hbf23xq3ew|\n",
      "|Feature|POINT (30.3046700...|{SHAPE_TYPE -> Ul...|u9mx3w7nmzpb4mb4b|\n",
      "|Feature|POINT (34.0425598...|{SHAPE_TYPE -> Fe...|sf0nndt1cpk2su2fc|\n",
      "|Feature|POINT (37.2159241...|{SHAPE_TYPE -> Fe...|sg67wg5c1vk6sxegw|\n",
      "|Feature|POINT (29.8600770...|{SHAPE_TYPE -> Fe...|set0xkx6q4pq2j43b|\n",
      "|Feature|POINT (34.1467920...|{SHAPE_TYPE -> Fe...|sg02c42zjbtd5wsjk|\n",
      "|Feature|POINT (35.1746743...|{SHAPE_TYPE -> Fe...|sf3p07j3t7f0qmh5m|\n",
      "|Feature|POINT (14.4342440...|{SHAPE_TYPE -> Fe...|s74683wsqq06t99sb|\n",
      "|Feature|POINT (17.0260529...|{SHAPE_TYPE -> Fe...|s7h0gqvgrz30xhv8h|\n",
      "|Feature|POINT (12.9536050...|{SHAPE_TYPE -> Fe...|s6cpwv0wbbs50139y|\n",
      "|Feature|POINT (13.2624023...|{SHAPE_TYPE -> Fe...|s712my16hk5yq154y|\n",
      "|Feature|POINT (13.5316171...|{SHAPE_TYPE -> Fe...|s718gvvmvx15dqwdp|\n",
      "|Feature|POINT (13.4603471...|{SHAPE_TYPE -> Fe...|s718f3c92zdr422r8|\n",
      "|Feature|POINT (15.0612443...|{SHAPE_TYPE -> Fe...|s74sqex78mtccw2gs|\n",
      "|Feature|POINT (14.8740898...|{SHAPE_TYPE -> Fe...|s74efmnfrrv61jxhc|\n",
      "|Feature|POINT (14.7001168...|{SHAPE_TYPE -> Fe...|s746yw8q199t6338p|\n",
      "|Feature|POINT (35.2645346...|{SHAPE_TYPE -> Fe...|sf3nfmqy74yfk2p60|\n",
      "+-------+--------------------+--------------------+-----------------+\n",
      "only showing top 20 rows\n",
      "\n",
      "File: Special_submarine_features.geojson\n",
      "+-------+--------------------+--------------------+-----------------+\n",
      "|   type|            geometry|          properties|          geohash|\n",
      "+-------+--------------------+--------------------+-----------------+\n",
      "|Feature|LINESTRING (34.48...|{SLIP_DIR -> NULL...|szdpvchzr8xspknsq|\n",
      "|Feature|LINESTRING (33.36...|{SLIP_DIR -> NULL...|sxjtsqm492gv4m1tu|\n",
      "|Feature|LINESTRING (-38.6...|{SLIP_DIR -> NULL...|er3u3nw60kwfbnh9p|\n",
      "|Feature|LINESTRING (-9.16...|{SLIP_DIR -> NULL...|eu3w4cw4z6mp7s7z9|\n",
      "|Feature|LINESTRING (-9.24...|{SLIP_DIR -> NULL...|eu3w0t7ry9fwkrbzr|\n",
      "|Feature|LINESTRING (-9.74...|{SLIP_DIR -> NULL...|eu3h7fvzvdrqjdg74|\n",
      "|Feature|LINESTRING (-9.69...|{SLIP_DIR -> NULL...|eu35uxc5hf8xv4sbx|\n",
      "|Feature|LINESTRING (-9.64...|{SLIP_DIR -> NULL...|eu35vf0t1edufy0p1|\n",
      "|Feature|LINESTRING (-15.7...|{SLIP_DIR -> NULL...|exkf93q97zr5zfc7c|\n",
      "|Feature|LINESTRING (-8.18...|{SLIP_DIR -> NULL...|egdpwpfjhh9prw7f9|\n",
      "|Feature|LINESTRING (-8.40...|{SLIP_DIR -> NULL...|egdnc6cphxk5c7jc2|\n",
      "|Feature|LINESTRING (-8.32...|{SLIP_DIR -> NULL...|egdp4wjeb6275td2t|\n",
      "|Feature|LINESTRING (-8.54...|{SLIP_DIR -> NULL...|eg9zh99ek4f1u6s0k|\n",
      "|Feature|LINESTRING (-17.2...|{SLIP_DIR -> NULL...|ew5b3r3ep3vm82sp7|\n",
      "|Feature|LINESTRING (-17.2...|{SLIP_DIR -> NULL...|ewe76jyvy8w15kwdy|\n",
      "|Feature|LINESTRING (-17.5...|{SLIP_DIR -> NULL...|ewe7rfrcwstydxtrk|\n",
      "|Feature|LINESTRING (-17.3...|{SLIP_DIR -> NULL...|eweef4xd127ufm19c|\n",
      "|Feature|LINESTRING (-17.3...|{SLIP_DIR -> NULL...|ewes6dssbjwdb3cjg|\n",
      "|Feature|LINESTRING (-17.0...|{SLIP_DIR -> NULL...|ewey442et8vpw05dz|\n",
      "|Feature|LINESTRING (-17.0...|{SLIP_DIR -> NULL...|ewey0fckj51w239kr|\n",
      "+-------+--------------------+--------------------+-----------------+\n",
      "only showing top 20 rows\n",
      "\n",
      "File: Volcanoes.geojson\n",
      "+-------+--------------------+--------------------+-----------------+\n",
      "|   type|            geometry|          properties|          geohash|\n",
      "+-------+--------------------+--------------------+-----------------+\n",
      "|Feature|POINT (-14.001289...|{SHAPE_TYPE -> Vo...|g8n53rhx63ctu4vs1|\n",
      "|Feature|POINT (-14.001057...|{SHAPE_TYPE -> Vo...|g8n53rhwxty8nkruv|\n",
      "|Feature|POINT (-14.001057...|{SHAPE_TYPE -> Vo...|g8n53rhwxty8nkruv|\n",
      "|Feature|POINT (-15.108833...|{SHAPE_TYPE -> Vo...|g9mm20n0fskfpd1bm|\n",
      "|Feature|POINT (-15.021756...|{SHAPE_TYPE -> Vo...|g9mmf4v6xwn30ds3y|\n",
      "|Feature|POINT (-15.874061...|{SHAPE_TYPE -> Vo...|g8hswg8yed4ph04wb|\n",
      "|Feature|POINT (-14.362252...|{SHAPE_TYPE -> Vo...|g8jg9hjezqb0132s9|\n",
      "|Feature|POINT (-14.169514...|{SHAPE_TYPE -> Vo...|g8jgtwf446sj15u5j|\n",
      "|Feature|POINT (-13.085424...|{SHAPE_TYPE -> Vo...|g8qen4x7px2rnrbjc|\n",
      "|Feature|POINT (-15.017522...|{SHAPE_TYPE -> Vo...|g8mqdqbx46gret9em|\n",
      "|Feature|POINT (-13.463887...|{SHAPE_TYPE -> Vo...|g8w2mw7zhswj38swe|\n",
      "|Feature|POINT (-16.088151...|{SHAPE_TYPE -> Vo...|g8s99vuznbkxpnvrq|\n",
      "|Feature|POINT (-15.977143...|{SHAPE_TYPE -> Vo...|g8s9kktu9d4jev97v|\n",
      "|Feature|POINT (-15.813306...|{SHAPE_TYPE -> Vo...|g8sc81jj5k0qv6s20|\n",
      "|Feature|POINT (-15.779029...|{SHAPE_TYPE -> Vo...|g8sf0fnn9uz4y15ge|\n",
      "|Feature|POINT (-15.425238...|{SHAPE_TYPE -> Vo...|g8th8gz9tusq4mwgb|\n",
      "|Feature|POINT (-15.261446...|{SHAPE_TYPE -> Vo...|g8thusnfye0x2ms63|\n",
      "|Feature|POINT (-15.348679...|{SHAPE_TYPE -> Vo...|g8tj4xz7jv6gzp29r|\n",
      "|Feature|POINT (-15.475638...|{SHAPE_TYPE -> Vo...|g8sypvfzrqrm2tqxz|\n",
      "|Feature|POINT (-14.563860...|{SHAPE_TYPE -> Vo...|g8ttke6umrwkjhd2h|\n",
      "+-------+--------------------+--------------------+-----------------+\n",
      "only showing top 20 rows\n",
      "\n",
      "File: WorldContinents.geojson\n",
      "+-------+--------------------+--------------------+-----------------+\n",
      "|   type|            geometry|          properties|          geohash|\n",
      "+-------+--------------------+--------------------+-----------------+\n",
      "|Feature|MULTIPOLYGON (((3...|{FID -> 1, OBJECT...|s2jx1vhx7kepc2z3n|\n",
      "|Feature|MULTIPOLYGON (((-...|{FID -> 2, OBJECT...|sn200h2hbnb02jbh2|\n",
      "|Feature|MULTIPOLYGON (((1...|{FID -> 3, OBJECT...|r40xmjxgqukv4ef3f|\n",
      "|Feature|MULTIPOLYGON (((1...|{FID -> 4, OBJECT...|kjb48p002n24802j8|\n",
      "|Feature|MULTIPOLYGON (((-...|{FID -> 5, OBJECT...|6s5hc1wkz2gj34d8u|\n",
      "|Feature|MULTIPOLYGON (((-...|{FID -> 6, OBJECT...|5gzzpfpvwmr7e5r0f|\n",
      "|Feature|MULTIPOLYGON (((2...|{FID -> 7, OBJECT...|u6mkhmc1sgmdgkqfe|\n",
      "|Feature|MULTIPOLYGON (((-...|{FID -> 8, OBJECT...|u00d3exb8nv10h3bq|\n",
      "+-------+--------------------+--------------------+-----------------+\n",
      "\n",
      "File: cb_2018_us_state_20m.json\n",
      "+-------+--------------------+--------------------+-----------------+\n",
      "|   type|            geometry|          properties|          geohash|\n",
      "+-------+--------------------+--------------------+-----------------+\n",
      "|Feature|MULTIPOLYGON (((-...|{STATEFP -> 24, S...|ebpbpbp6pc42jzkuq|\n",
      "|Feature|POLYGON ((-0.0008...|{STATEFP -> 19, S...|ebpbpbp6hqnrrub2x|\n",
      "|Feature|POLYGON ((-0.0006...|{STATEFP -> 10, S...|ebpbpbpd01wcdkbk4|\n",
      "|Feature|MULTIPOLYGON (((-...|{STATEFP -> 39, S...|ebpbpbp6neq38n4zb|\n",
      "|Feature|POLYGON ((-0.0007...|{STATEFP -> 42, S...|ebpbpbp6pu8hv0ur1|\n",
      "|Feature|POLYGON ((-0.0009...|{STATEFP -> 31, S...|ebpbpbp65jkrcg9hz|\n",
      "|Feature|MULTIPOLYGON (((-...|{STATEFP -> 53, S...|ebpbpbp4qxntnrp4n|\n",
      "|Feature|MULTIPOLYGON (((-...|{STATEFP -> 72, S...|ebpbpbp8fn3zyywtd|\n",
      "|Feature|POLYGON ((-0.0007...|{STATEFP -> 01, S...|ebpbpbp3tye7uksy5|\n",
      "|Feature|POLYGON ((-0.0008...|{STATEFP -> 05, S...|ebpbpbp3udny5xqz1|\n",
      "|Feature|POLYGON ((-0.0009...|{STATEFP -> 35, S...|ebpbpbp3cc1yceq8p|\n",
      "|Feature|POLYGON ((-0.0009...|{STATEFP -> 48, S...|ebpbpbp3eh1w73zkr|\n",
      "|Feature|MULTIPOLYGON (((-...|{STATEFP -> 06, S...|ebpbpbp1zn3j3brmu|\n",
      "|Feature|POLYGON ((-0.0008...|{STATEFP -> 21, S...|ebpbpbp3yp36z91je|\n",
      "|Feature|POLYGON ((-0.0007...|{STATEFP -> 13, S...|ebpbpbp3wwdx1pyw4|\n",
      "|Feature|MULTIPOLYGON (((-...|{STATEFP -> 55, S...|ebpbpbp6m4ypjxuwd|\n",
      "|Feature|POLYGON ((-0.0011...|{STATEFP -> 41, S...|ebpbpbp4qcbucd3tn|\n",
      "|Feature|POLYGON ((-0.0008...|{STATEFP -> 29, S...|ebpbpbp6h8hue7z6x|\n",
      "|Feature|MULTIPOLYGON (((-...|{STATEFP -> 51, S...|ebpbpbp3zreu2r14s|\n",
      "|Feature|POLYGON ((-0.0008...|{STATEFP -> 47, S...|ebpbpbp3yh004chyp|\n",
      "+-------+--------------------+--------------------+-----------------+\n",
      "only showing top 20 rows\n",
      "\n"
     ]
    }
   ],
   "source": [
    "# Loop through each DataFrame in the dictionary\n",
    "for file_name, df in json_dataset_dataframes.items():\n",
    "    # Print the file name\n",
    "    print(f\"File: {file_name}\")\n",
    "    \n",
    "    # Show the first few rows of the DataFrame\n",
    "    df.show()"
   ]
  },
  {
   "cell_type": "markdown",
   "metadata": {},
   "source": [
    "# Gather Metrics for Spatial Proximity Querying\n",
    "\n",
    "Using the cross-join operation to find the closest points to each point in the dataset."
   ]
  },
  {
   "cell_type": "code",
   "execution_count": 14,
   "metadata": {},
   "outputs": [
    {
     "name": "stdout",
     "output_type": "stream",
     "text": [
      "Processing: AgriculturalArea.geojson against CityBoundaries.geojson\n"
     ]
    },
    {
     "name": "stderr",
     "output_type": "stream",
     "text": [
      "                                                                                \r"
     ]
    },
    {
     "name": "stdout",
     "output_type": "stream",
     "text": [
      "ST_Distance calculation: Duration = 2.9196858406066895 seconds, Rows processed = 1535000\n"
     ]
    },
    {
     "name": "stderr",
     "output_type": "stream",
     "text": [
      "                                                                                \r"
     ]
    },
    {
     "name": "stdout",
     "output_type": "stream",
     "text": [
      "ST_HausdorffDistance calculation: Duration = 1.6309833526611328 seconds, Rows processed = 1535000\n"
     ]
    },
    {
     "name": "stderr",
     "output_type": "stream",
     "text": [
      "                                                                                \r"
     ]
    },
    {
     "name": "stdout",
     "output_type": "stream",
     "text": [
      "ST_FrechetDistance calculation: Duration = 1.6947312355041504 seconds, Rows processed = 1535000\n",
      "Processing: AgriculturalArea.geojson against CountryTerritories.geojson\n"
     ]
    },
    {
     "name": "stderr",
     "output_type": "stream",
     "text": [
      "                                                                                \r"
     ]
    },
    {
     "name": "stdout",
     "output_type": "stream",
     "text": [
      "ST_Distance calculation: Duration = 1.6325654983520508 seconds, Rows processed = 785920\n"
     ]
    },
    {
     "name": "stderr",
     "output_type": "stream",
     "text": [
      "                                                                                \r"
     ]
    },
    {
     "name": "stdout",
     "output_type": "stream",
     "text": [
      "ST_HausdorffDistance calculation: Duration = 0.9933407306671143 seconds, Rows processed = 785920\n"
     ]
    },
    {
     "name": "stderr",
     "output_type": "stream",
     "text": [
      "                                                                                \r"
     ]
    },
    {
     "name": "stdout",
     "output_type": "stream",
     "text": [
      "ST_FrechetDistance calculation: Duration = 0.9777247905731201 seconds, Rows processed = 785920\n",
      "Processing: AgriculturalArea.geojson against EcoRegions.geojson\n"
     ]
    },
    {
     "name": "stderr",
     "output_type": "stream",
     "text": [
      "                                                                                \r"
     ]
    },
    {
     "name": "stdout",
     "output_type": "stream",
     "text": [
      "ST_Distance calculation: Duration = 2.9818644523620605 seconds, Rows processed = 3837500\n"
     ]
    },
    {
     "name": "stderr",
     "output_type": "stream",
     "text": [
      "                                                                                \r"
     ]
    },
    {
     "name": "stdout",
     "output_type": "stream",
     "text": [
      "ST_HausdorffDistance calculation: Duration = 7.966117858886719 seconds, Rows processed = 3837500\n"
     ]
    },
    {
     "name": "stderr",
     "output_type": "stream",
     "text": [
      "                                                                                \r"
     ]
    },
    {
     "name": "stdout",
     "output_type": "stream",
     "text": [
      "ST_FrechetDistance calculation: Duration = 12.336567401885986 seconds, Rows processed = 3837500\n",
      "Processing: AgriculturalArea.geojson against GeographicRegions.geojson\n",
      "ST_Distance calculation: Duration = 0.818988561630249 seconds, Rows processed = 3223500\n",
      "ST_HausdorffDistance calculation: Duration = 0.7839467525482178 seconds, Rows processed = 3223500\n"
     ]
    },
    {
     "name": "stderr",
     "output_type": "stream",
     "text": [
      "                                                                                \r"
     ]
    },
    {
     "name": "stdout",
     "output_type": "stream",
     "text": [
      "ST_FrechetDistance calculation: Duration = 1.364365577697754 seconds, Rows processed = 3223500\n",
      "Processing: AgriculturalArea.geojson against Areas_diapiric_structures.geojson\n"
     ]
    },
    {
     "name": "stderr",
     "output_type": "stream",
     "text": [
      "                                                                                \r"
     ]
    },
    {
     "name": "stdout",
     "output_type": "stream",
     "text": [
      "ST_Distance calculation: Duration = 6.0416083335876465 seconds, Rows processed = 236390\n"
     ]
    },
    {
     "name": "stderr",
     "output_type": "stream",
     "text": [
      "                                                                                \r"
     ]
    },
    {
     "name": "stdout",
     "output_type": "stream",
     "text": [
      "ST_HausdorffDistance calculation: Duration = 1.1545145511627197 seconds, Rows processed = 236390\n"
     ]
    },
    {
     "name": "stderr",
     "output_type": "stream",
     "text": [
      "                                                                                \r"
     ]
    },
    {
     "name": "stdout",
     "output_type": "stream",
     "text": [
      "ST_FrechetDistance calculation: Duration = 1.419480323791504 seconds, Rows processed = 236390\n",
      "Processing: AgriculturalArea.geojson against Bathymetry.geojson\n"
     ]
    },
    {
     "name": "stderr",
     "output_type": "stream",
     "text": [
      "                                                                                \r"
     ]
    },
    {
     "name": "stdout",
     "output_type": "stream",
     "text": [
      "ST_Distance calculation: Duration = 1.4198575019836426 seconds, Rows processed = 7521500\n",
      "ST_HausdorffDistance calculation: Duration = 1.123981237411499 seconds, Rows processed = 7521500\n",
      "ST_FrechetDistance calculation: Duration = 1.1943542957305908 seconds, Rows processed = 7521500\n",
      "Processing: AgriculturalArea.geojson against Calderas.geojson\n"
     ]
    },
    {
     "name": "stderr",
     "output_type": "stream",
     "text": [
      "                                                                                \r"
     ]
    },
    {
     "name": "stdout",
     "output_type": "stream",
     "text": [
      "ST_Distance calculation: Duration = 0.9353811740875244 seconds, Rows processed = 221040\n",
      "ST_HausdorffDistance calculation: Duration = 0.6240110397338867 seconds, Rows processed = 221040\n",
      "ST_FrechetDistance calculation: Duration = 0.6743390560150146 seconds, Rows processed = 221040\n",
      "Processing: AgriculturalArea.geojson against Diapiric_trends.geojson\n"
     ]
    },
    {
     "name": "stderr",
     "output_type": "stream",
     "text": [
      "                                                                                \r"
     ]
    },
    {
     "name": "stdout",
     "output_type": "stream",
     "text": [
      "ST_Distance calculation: Duration = 0.9597489833831787 seconds, Rows processed = 540320\n"
     ]
    },
    {
     "name": "stderr",
     "output_type": "stream",
     "text": [
      "                                                                                \r"
     ]
    },
    {
     "name": "stdout",
     "output_type": "stream",
     "text": [
      "ST_HausdorffDistance calculation: Duration = 0.9602422714233398 seconds, Rows processed = 540320\n"
     ]
    },
    {
     "name": "stderr",
     "output_type": "stream",
     "text": [
      "                                                                                \r"
     ]
    },
    {
     "name": "stdout",
     "output_type": "stream",
     "text": [
      "ST_FrechetDistance calculation: Duration = 0.9048595428466797 seconds, Rows processed = 540320\n",
      "Processing: AgriculturalArea.geojson against Diapirs.geojson\n"
     ]
    },
    {
     "name": "stderr",
     "output_type": "stream",
     "text": [
      "                                                                                \r"
     ]
    },
    {
     "name": "stdout",
     "output_type": "stream",
     "text": [
      "ST_Distance calculation: Duration = 0.758237361907959 seconds, Rows processed = 4156780\n"
     ]
    },
    {
     "name": "stderr",
     "output_type": "stream",
     "text": [
      "                                                                                \r"
     ]
    },
    {
     "name": "stdout",
     "output_type": "stream",
     "text": [
      "ST_HausdorffDistance calculation: Duration = 0.8459639549255371 seconds, Rows processed = 4156780\n",
      "ST_FrechetDistance calculation: Duration = 0.6437830924987793 seconds, Rows processed = 4156780\n",
      "Processing: AgriculturalArea.geojson against Dikes_sills.geojson\n",
      "ST_Distance calculation: Duration = 0.7175540924072266 seconds, Rows processed = 11070420\n"
     ]
    },
    {
     "name": "stderr",
     "output_type": "stream",
     "text": [
      "                                                                                \r"
     ]
    },
    {
     "name": "stdout",
     "output_type": "stream",
     "text": [
      "ST_HausdorffDistance calculation: Duration = 0.8915388584136963 seconds, Rows processed = 11070420\n",
      "ST_FrechetDistance calculation: Duration = 0.7972712516784668 seconds, Rows processed = 11070420\n",
      "Processing: AgriculturalArea.geojson against Faults.geojson\n",
      "ST_Distance calculation: Duration = 0.9394724369049072 seconds, Rows processed = 38141680\n"
     ]
    },
    {
     "name": "stderr",
     "output_type": "stream",
     "text": [
      "                                                                                \r"
     ]
    },
    {
     "name": "stdout",
     "output_type": "stream",
     "text": [
      "ST_HausdorffDistance calculation: Duration = 1.0667285919189453 seconds, Rows processed = 38141680\n"
     ]
    },
    {
     "name": "stderr",
     "output_type": "stream",
     "text": [
      "                                                                                \r"
     ]
    },
    {
     "name": "stdout",
     "output_type": "stream",
     "text": [
      "ST_FrechetDistance calculation: Duration = 1.0159697532653809 seconds, Rows processed = 38141680\n",
      "Processing: AgriculturalArea.geojson against Gas_fluid_seep.geojson\n"
     ]
    },
    {
     "name": "stderr",
     "output_type": "stream",
     "text": [
      "                                                                                \r"
     ]
    },
    {
     "name": "stdout",
     "output_type": "stream",
     "text": [
      "ST_Distance calculation: Duration = 0.782782793045044 seconds, Rows processed = 116660\n",
      "ST_HausdorffDistance calculation: Duration = 0.7698404788970947 seconds, Rows processed = 116660\n"
     ]
    },
    {
     "name": "stderr",
     "output_type": "stream",
     "text": [
      "                                                                                \r"
     ]
    },
    {
     "name": "stdout",
     "output_type": "stream",
     "text": [
      "ST_FrechetDistance calculation: Duration = 5.97638463973999 seconds, Rows processed = 116660\n",
      "Processing: AgriculturalArea.geojson against Gas_oil_seep.geojson\n"
     ]
    },
    {
     "name": "stderr",
     "output_type": "stream",
     "text": [
      "                                                                                \r"
     ]
    },
    {
     "name": "stdout",
     "output_type": "stream",
     "text": [
      "ST_Distance calculation: Duration = 0.6664450168609619 seconds, Rows processed = 9210\n"
     ]
    },
    {
     "name": "stderr",
     "output_type": "stream",
     "text": [
      "                                                                                \r"
     ]
    },
    {
     "name": "stdout",
     "output_type": "stream",
     "text": [
      "ST_HausdorffDistance calculation: Duration = 0.8295145034790039 seconds, Rows processed = 9210\n",
      "ST_FrechetDistance calculation: Duration = 0.7228648662567139 seconds, Rows processed = 9210\n",
      "Processing: AgriculturalArea.geojson against Geologic_contacts.geojson\n"
     ]
    },
    {
     "name": "stderr",
     "output_type": "stream",
     "text": [
      "                                                                                \r"
     ]
    },
    {
     "name": "stdout",
     "output_type": "stream",
     "text": [
      "ST_Distance calculation: Duration = 18.00181293487549 seconds, Rows processed = 163802920\n"
     ]
    },
    {
     "name": "stderr",
     "output_type": "stream",
     "text": [
      "                                                                                \r"
     ]
    },
    {
     "name": "stdout",
     "output_type": "stream",
     "text": [
      "ST_HausdorffDistance calculation: Duration = 2.729602575302124 seconds, Rows processed = 163802920\n"
     ]
    },
    {
     "name": "stderr",
     "output_type": "stream",
     "text": [
      "                                                                                \r"
     ]
    },
    {
     "name": "stdout",
     "output_type": "stream",
     "text": [
      "ST_FrechetDistance calculation: Duration = 2.8062939643859863 seconds, Rows processed = 163802920\n",
      "Processing: AgriculturalArea.geojson against Geologic_overprints.geojson\n",
      "ST_Distance calculation: Duration = 1.0600807666778564 seconds, Rows processed = 5747040\n"
     ]
    },
    {
     "name": "stderr",
     "output_type": "stream",
     "text": [
      "                                                                                \r"
     ]
    },
    {
     "name": "stdout",
     "output_type": "stream",
     "text": [
      "ST_HausdorffDistance calculation: Duration = 1.1106903553009033 seconds, Rows processed = 5747040\n"
     ]
    },
    {
     "name": "stderr",
     "output_type": "stream",
     "text": [
      "                                                                                \r"
     ]
    },
    {
     "name": "stdout",
     "output_type": "stream",
     "text": [
      "ST_FrechetDistance calculation: Duration = 1.2724864482879639 seconds, Rows processed = 5747040\n",
      "Processing: AgriculturalArea.geojson against Geologic_units.geojson\n"
     ]
    },
    {
     "name": "stderr",
     "output_type": "stream",
     "text": [
      "24/04/22 12:37:15 ERROR TaskSchedulerImpl: Lost executor 2 on 129.82.44.149: Command exited with code 52\n",
      "24/04/22 12:37:35 ERROR TaskSchedulerImpl: Lost executor 0 on 129.82.44.144: Command exited with code 52\n",
      "                                                                                \r"
     ]
    },
    {
     "name": "stdout",
     "output_type": "stream",
     "text": [
      "ST_Distance calculation: Duration = 36.1690833568573 seconds, Rows processed = 122271960\n"
     ]
    },
    {
     "name": "stderr",
     "output_type": "stream",
     "text": [
      "                                                                                \r"
     ]
    },
    {
     "name": "stdout",
     "output_type": "stream",
     "text": [
      "ST_HausdorffDistance calculation: Duration = 5.767192125320435 seconds, Rows processed = 122271960\n"
     ]
    },
    {
     "name": "stderr",
     "output_type": "stream",
     "text": [
      "                                                                                \r"
     ]
    },
    {
     "name": "stdout",
     "output_type": "stream",
     "text": [
      "ST_FrechetDistance calculation: Duration = 6.9150309562683105 seconds, Rows processed = 122271960\n",
      "Processing: AgriculturalArea.geojson against Glaciation_extents.geojson\n"
     ]
    },
    {
     "name": "stderr",
     "output_type": "stream",
     "text": [
      "                                                                                \r"
     ]
    },
    {
     "name": "stdout",
     "output_type": "stream",
     "text": [
      "ST_Distance calculation: Duration = 1.343919038772583 seconds, Rows processed = 76750\n"
     ]
    },
    {
     "name": "stderr",
     "output_type": "stream",
     "text": [
      "                                                                                \r"
     ]
    },
    {
     "name": "stdout",
     "output_type": "stream",
     "text": [
      "ST_HausdorffDistance calculation: Duration = 0.7906060218811035 seconds, Rows processed = 76750\n"
     ]
    },
    {
     "name": "stderr",
     "output_type": "stream",
     "text": [
      "                                                                                \r"
     ]
    },
    {
     "name": "stdout",
     "output_type": "stream",
     "text": [
      "ST_FrechetDistance calculation: Duration = 1.2365329265594482 seconds, Rows processed = 76750\n",
      "Processing: AgriculturalArea.geojson against Hydrothermal_vents.geojson\n"
     ]
    },
    {
     "name": "stderr",
     "output_type": "stream",
     "text": [
      "                                                                                \r"
     ]
    },
    {
     "name": "stdout",
     "output_type": "stream",
     "text": [
      "ST_Distance calculation: Duration = 5.954314708709717 seconds, Rows processed = 150430\n"
     ]
    },
    {
     "name": "stderr",
     "output_type": "stream",
     "text": [
      "                                                                                \r"
     ]
    },
    {
     "name": "stdout",
     "output_type": "stream",
     "text": [
      "ST_HausdorffDistance calculation: Duration = 0.7923111915588379 seconds, Rows processed = 150430\n"
     ]
    },
    {
     "name": "stderr",
     "output_type": "stream",
     "text": [
      "                                                                                \r"
     ]
    },
    {
     "name": "stdout",
     "output_type": "stream",
     "text": [
      "ST_FrechetDistance calculation: Duration = 0.8856174945831299 seconds, Rows processed = 150430\n",
      "Processing: AgriculturalArea.geojson against Impact_structure_great_10_KM.geojson\n"
     ]
    },
    {
     "name": "stderr",
     "output_type": "stream",
     "text": [
      "                                                                                \r"
     ]
    },
    {
     "name": "stdout",
     "output_type": "stream",
     "text": [
      "ST_Distance calculation: Duration = 0.8016104698181152 seconds, Rows processed = 95170\n",
      "ST_HausdorffDistance calculation: Duration = 0.598851203918457 seconds, Rows processed = 95170\n",
      "ST_FrechetDistance calculation: Duration = 0.6340398788452148 seconds, Rows processed = 95170\n",
      "Processing: AgriculturalArea.geojson against Impact_structure_less_10_KM.geojson\n"
     ]
    },
    {
     "name": "stderr",
     "output_type": "stream",
     "text": [
      "                                                                                \r"
     ]
    },
    {
     "name": "stdout",
     "output_type": "stream",
     "text": [
      "ST_Distance calculation: Duration = 0.695751428604126 seconds, Rows processed = 76750\n"
     ]
    },
    {
     "name": "stderr",
     "output_type": "stream",
     "text": [
      "                                                                                \r"
     ]
    },
    {
     "name": "stdout",
     "output_type": "stream",
     "text": [
      "ST_HausdorffDistance calculation: Duration = 0.865725040435791 seconds, Rows processed = 76750\n"
     ]
    },
    {
     "name": "stderr",
     "output_type": "stream",
     "text": [
      "                                                                                \r"
     ]
    },
    {
     "name": "stdout",
     "output_type": "stream",
     "text": [
      "ST_FrechetDistance calculation: Duration = 0.8672189712524414 seconds, Rows processed = 76750\n",
      "Processing: AgriculturalArea.geojson against Maganifeorus_deposits.geojson\n",
      "ST_Distance calculation: Duration = 0.6008083820343018 seconds, Rows processed = 1648590\n"
     ]
    },
    {
     "name": "stderr",
     "output_type": "stream",
     "text": [
      "                                                                                \r"
     ]
    },
    {
     "name": "stdout",
     "output_type": "stream",
     "text": [
      "ST_HausdorffDistance calculation: Duration = 5.844120264053345 seconds, Rows processed = 1648590\n"
     ]
    },
    {
     "name": "stderr",
     "output_type": "stream",
     "text": [
      "                                                                                \r"
     ]
    },
    {
     "name": "stdout",
     "output_type": "stream",
     "text": [
      "ST_FrechetDistance calculation: Duration = 0.9174623489379883 seconds, Rows processed = 1648590\n",
      "Processing: AgriculturalArea.geojson against Phosphate_nodules_pavement.geojson\n",
      "ST_Distance calculation: Duration = 0.6502237319946289 seconds, Rows processed = 1716130\n"
     ]
    },
    {
     "name": "stderr",
     "output_type": "stream",
     "text": [
      "                                                                                \r"
     ]
    },
    {
     "name": "stdout",
     "output_type": "stream",
     "text": [
      "ST_HausdorffDistance calculation: Duration = 0.6140649318695068 seconds, Rows processed = 1716130\n",
      "ST_FrechetDistance calculation: Duration = 0.5961728096008301 seconds, Rows processed = 1716130\n",
      "Processing: AgriculturalArea.geojson against Polymetallic_sulfide_deposits.geojson\n"
     ]
    },
    {
     "name": "stderr",
     "output_type": "stream",
     "text": [
      "                                                                                \r"
     ]
    },
    {
     "name": "stdout",
     "output_type": "stream",
     "text": [
      "ST_Distance calculation: Duration = 0.799769401550293 seconds, Rows processed = 39910\n",
      "ST_HausdorffDistance calculation: Duration = 0.6703789234161377 seconds, Rows processed = 39910\n",
      "ST_FrechetDistance calculation: Duration = 0.6360049247741699 seconds, Rows processed = 39910\n",
      "Processing: AgriculturalArea.geojson against Rock_in_seafloor_sample.geojson\n",
      "ST_Distance calculation: Duration = 0.6290085315704346 seconds, Rows processed = 153500\n"
     ]
    },
    {
     "name": "stderr",
     "output_type": "stream",
     "text": [
      "                                                                                \r"
     ]
    },
    {
     "name": "stdout",
     "output_type": "stream",
     "text": [
      "ST_HausdorffDistance calculation: Duration = 0.6840808391571045 seconds, Rows processed = 153500\n",
      "ST_FrechetDistance calculation: Duration = 0.7216811180114746 seconds, Rows processed = 153500\n",
      "Processing: AgriculturalArea.geojson against Special_submarine_features.geojson\n",
      "ST_Distance calculation: Duration = 1.2124733924865723 seconds, Rows processed = 8476270\n"
     ]
    },
    {
     "name": "stderr",
     "output_type": "stream",
     "text": [
      "                                                                                \r"
     ]
    },
    {
     "name": "stdout",
     "output_type": "stream",
     "text": [
      "ST_HausdorffDistance calculation: Duration = 0.9751050472259521 seconds, Rows processed = 8476270\n"
     ]
    },
    {
     "name": "stderr",
     "output_type": "stream",
     "text": [
      "                                                                                \r"
     ]
    },
    {
     "name": "stdout",
     "output_type": "stream",
     "text": [
      "ST_FrechetDistance calculation: Duration = 0.934063196182251 seconds, Rows processed = 8476270\n",
      "Processing: AgriculturalArea.geojson against Volcanoes.geojson\n",
      "ST_Distance calculation: Duration = 0.679800271987915 seconds, Rows processed = 1872700\n"
     ]
    },
    {
     "name": "stderr",
     "output_type": "stream",
     "text": [
      "                                                                                \r"
     ]
    },
    {
     "name": "stdout",
     "output_type": "stream",
     "text": [
      "ST_HausdorffDistance calculation: Duration = 0.825171709060669 seconds, Rows processed = 1872700\n"
     ]
    },
    {
     "name": "stderr",
     "output_type": "stream",
     "text": [
      "                                                                                \r"
     ]
    },
    {
     "name": "stdout",
     "output_type": "stream",
     "text": [
      "ST_FrechetDistance calculation: Duration = 0.8159804344177246 seconds, Rows processed = 1872700\n",
      "Processing: AgriculturalArea.geojson against WorldContinents.geojson\n",
      "ST_Distance calculation: Duration = 0.771855354309082 seconds, Rows processed = 24560\n"
     ]
    },
    {
     "name": "stderr",
     "output_type": "stream",
     "text": [
      "                                                                                \r"
     ]
    },
    {
     "name": "stdout",
     "output_type": "stream",
     "text": [
      "ST_HausdorffDistance calculation: Duration = 1.0752720832824707 seconds, Rows processed = 24560\n",
      "ST_FrechetDistance calculation: Duration = 0.736274003982544 seconds, Rows processed = 24560\n",
      "Processing: AgriculturalArea.geojson against cb_2018_us_state_20m.json\n"
     ]
    },
    {
     "name": "stderr",
     "output_type": "stream",
     "text": [
      "                                                                                \r"
     ]
    },
    {
     "name": "stdout",
     "output_type": "stream",
     "text": [
      "ST_Distance calculation: Duration = 0.6238019466400146 seconds, Rows processed = 159640\n"
     ]
    },
    {
     "name": "stderr",
     "output_type": "stream",
     "text": [
      "                                                                                \r"
     ]
    },
    {
     "name": "stdout",
     "output_type": "stream",
     "text": [
      "ST_HausdorffDistance calculation: Duration = 0.9369478225708008 seconds, Rows processed = 159640\n"
     ]
    },
    {
     "name": "stderr",
     "output_type": "stream",
     "text": [
      "                                                                                \r"
     ]
    },
    {
     "name": "stdout",
     "output_type": "stream",
     "text": [
      "ST_FrechetDistance calculation: Duration = 0.6545507907867432 seconds, Rows processed = 159640\n",
      "Processing: CityBoundaries.geojson against AgriculturalArea.geojson\n"
     ]
    },
    {
     "name": "stderr",
     "output_type": "stream",
     "text": [
      "                                                                                \r"
     ]
    },
    {
     "name": "stdout",
     "output_type": "stream",
     "text": [
      "ST_Distance calculation: Duration = 1.5131700038909912 seconds, Rows processed = 1535000\n"
     ]
    },
    {
     "name": "stderr",
     "output_type": "stream",
     "text": [
      "                                                                                \r"
     ]
    },
    {
     "name": "stdout",
     "output_type": "stream",
     "text": [
      "ST_HausdorffDistance calculation: Duration = 1.436349868774414 seconds, Rows processed = 1535000\n"
     ]
    },
    {
     "name": "stderr",
     "output_type": "stream",
     "text": [
      "                                                                                \r"
     ]
    },
    {
     "name": "stdout",
     "output_type": "stream",
     "text": [
      "ST_FrechetDistance calculation: Duration = 1.738837480545044 seconds, Rows processed = 1535000\n",
      "Processing: CityBoundaries.geojson against CountryTerritories.geojson\n"
     ]
    },
    {
     "name": "stderr",
     "output_type": "stream",
     "text": [
      "                                                                                \r"
     ]
    },
    {
     "name": "stdout",
     "output_type": "stream",
     "text": [
      "ST_Distance calculation: Duration = 6.803822755813599 seconds, Rows processed = 128000\n"
     ]
    },
    {
     "name": "stderr",
     "output_type": "stream",
     "text": [
      "                                                                                \r"
     ]
    },
    {
     "name": "stdout",
     "output_type": "stream",
     "text": [
      "ST_HausdorffDistance calculation: Duration = 1.0942676067352295 seconds, Rows processed = 128000\n"
     ]
    },
    {
     "name": "stderr",
     "output_type": "stream",
     "text": [
      "                                                                                \r"
     ]
    },
    {
     "name": "stdout",
     "output_type": "stream",
     "text": [
      "ST_FrechetDistance calculation: Duration = 1.2039289474487305 seconds, Rows processed = 128000\n",
      "Processing: CityBoundaries.geojson against EcoRegions.geojson\n"
     ]
    },
    {
     "name": "stderr",
     "output_type": "stream",
     "text": [
      "                                                                                \r"
     ]
    },
    {
     "name": "stdout",
     "output_type": "stream",
     "text": [
      "ST_Distance calculation: Duration = 7.885580778121948 seconds, Rows processed = 625000\n"
     ]
    },
    {
     "name": "stderr",
     "output_type": "stream",
     "text": [
      "                                                                                \r"
     ]
    },
    {
     "name": "stdout",
     "output_type": "stream",
     "text": [
      "ST_HausdorffDistance calculation: Duration = 2.990090847015381 seconds, Rows processed = 625000\n"
     ]
    },
    {
     "name": "stderr",
     "output_type": "stream",
     "text": [
      "                                                                                \r"
     ]
    },
    {
     "name": "stdout",
     "output_type": "stream",
     "text": [
      "ST_FrechetDistance calculation: Duration = 7.9745683670043945 seconds, Rows processed = 625000\n",
      "Processing: CityBoundaries.geojson against GeographicRegions.geojson\n"
     ]
    },
    {
     "name": "stderr",
     "output_type": "stream",
     "text": [
      "                                                                                \r"
     ]
    },
    {
     "name": "stdout",
     "output_type": "stream",
     "text": [
      "ST_Distance calculation: Duration = 1.1504578590393066 seconds, Rows processed = 525000\n"
     ]
    },
    {
     "name": "stderr",
     "output_type": "stream",
     "text": [
      "                                                                                \r"
     ]
    },
    {
     "name": "stdout",
     "output_type": "stream",
     "text": [
      "ST_HausdorffDistance calculation: Duration = 1.0402820110321045 seconds, Rows processed = 525000\n"
     ]
    },
    {
     "name": "stderr",
     "output_type": "stream",
     "text": [
      "                                                                                \r"
     ]
    },
    {
     "name": "stdout",
     "output_type": "stream",
     "text": [
      "ST_FrechetDistance calculation: Duration = 1.0688953399658203 seconds, Rows processed = 525000\n",
      "Processing: CityBoundaries.geojson against Areas_diapiric_structures.geojson\n"
     ]
    },
    {
     "name": "stderr",
     "output_type": "stream",
     "text": [
      "                                                                                \r"
     ]
    },
    {
     "name": "stdout",
     "output_type": "stream",
     "text": [
      "ST_Distance calculation: Duration = 0.9346790313720703 seconds, Rows processed = 38500\n"
     ]
    },
    {
     "name": "stderr",
     "output_type": "stream",
     "text": [
      "                                                                                \r"
     ]
    },
    {
     "name": "stdout",
     "output_type": "stream",
     "text": [
      "ST_HausdorffDistance calculation: Duration = 1.020395278930664 seconds, Rows processed = 38500\n"
     ]
    },
    {
     "name": "stderr",
     "output_type": "stream",
     "text": [
      "                                                                                \r"
     ]
    },
    {
     "name": "stdout",
     "output_type": "stream",
     "text": [
      "ST_FrechetDistance calculation: Duration = 0.9206538200378418 seconds, Rows processed = 38500\n",
      "Processing: CityBoundaries.geojson against Bathymetry.geojson\n"
     ]
    },
    {
     "name": "stderr",
     "output_type": "stream",
     "text": [
      "                                                                                \r"
     ]
    },
    {
     "name": "stdout",
     "output_type": "stream",
     "text": [
      "ST_Distance calculation: Duration = 1.4767558574676514 seconds, Rows processed = 1225000\n"
     ]
    },
    {
     "name": "stderr",
     "output_type": "stream",
     "text": [
      "                                                                                \r"
     ]
    },
    {
     "name": "stdout",
     "output_type": "stream",
     "text": [
      "ST_HausdorffDistance calculation: Duration = 1.5198421478271484 seconds, Rows processed = 1225000\n"
     ]
    },
    {
     "name": "stderr",
     "output_type": "stream",
     "text": [
      "                                                                                \r"
     ]
    },
    {
     "name": "stdout",
     "output_type": "stream",
     "text": [
      "ST_FrechetDistance calculation: Duration = 1.4520900249481201 seconds, Rows processed = 1225000\n",
      "Processing: CityBoundaries.geojson against Calderas.geojson\n"
     ]
    },
    {
     "name": "stderr",
     "output_type": "stream",
     "text": [
      "                                                                                \r"
     ]
    },
    {
     "name": "stdout",
     "output_type": "stream",
     "text": [
      "ST_Distance calculation: Duration = 0.9160680770874023 seconds, Rows processed = 36000\n"
     ]
    },
    {
     "name": "stderr",
     "output_type": "stream",
     "text": [
      "                                                                                \r"
     ]
    },
    {
     "name": "stdout",
     "output_type": "stream",
     "text": [
      "ST_HausdorffDistance calculation: Duration = 0.9026756286621094 seconds, Rows processed = 36000\n"
     ]
    },
    {
     "name": "stderr",
     "output_type": "stream",
     "text": [
      "                                                                                \r"
     ]
    },
    {
     "name": "stdout",
     "output_type": "stream",
     "text": [
      "ST_FrechetDistance calculation: Duration = 6.068694591522217 seconds, Rows processed = 36000\n",
      "Processing: CityBoundaries.geojson against Diapiric_trends.geojson\n"
     ]
    },
    {
     "name": "stderr",
     "output_type": "stream",
     "text": [
      "                                                                                \r"
     ]
    },
    {
     "name": "stdout",
     "output_type": "stream",
     "text": [
      "ST_Distance calculation: Duration = 0.9260573387145996 seconds, Rows processed = 88000\n"
     ]
    },
    {
     "name": "stderr",
     "output_type": "stream",
     "text": [
      "                                                                                \r"
     ]
    },
    {
     "name": "stdout",
     "output_type": "stream",
     "text": [
      "ST_HausdorffDistance calculation: Duration = 6.022814989089966 seconds, Rows processed = 88000\n"
     ]
    },
    {
     "name": "stderr",
     "output_type": "stream",
     "text": [
      "                                                                                \r"
     ]
    },
    {
     "name": "stdout",
     "output_type": "stream",
     "text": [
      "ST_FrechetDistance calculation: Duration = 0.9887564182281494 seconds, Rows processed = 88000\n",
      "Processing: CityBoundaries.geojson against Diapirs.geojson\n"
     ]
    },
    {
     "name": "stderr",
     "output_type": "stream",
     "text": [
      "                                                                                \r"
     ]
    },
    {
     "name": "stdout",
     "output_type": "stream",
     "text": [
      "ST_Distance calculation: Duration = 0.9468574523925781 seconds, Rows processed = 677000\n"
     ]
    },
    {
     "name": "stderr",
     "output_type": "stream",
     "text": [
      "                                                                                \r"
     ]
    },
    {
     "name": "stdout",
     "output_type": "stream",
     "text": [
      "ST_HausdorffDistance calculation: Duration = 0.9433548450469971 seconds, Rows processed = 677000\n"
     ]
    },
    {
     "name": "stderr",
     "output_type": "stream",
     "text": [
      "                                                                                \r"
     ]
    },
    {
     "name": "stdout",
     "output_type": "stream",
     "text": [
      "ST_FrechetDistance calculation: Duration = 0.9281256198883057 seconds, Rows processed = 677000\n",
      "Processing: CityBoundaries.geojson against Dikes_sills.geojson\n"
     ]
    },
    {
     "name": "stderr",
     "output_type": "stream",
     "text": [
      "                                                                                \r"
     ]
    },
    {
     "name": "stdout",
     "output_type": "stream",
     "text": [
      "ST_Distance calculation: Duration = 0.963294506072998 seconds, Rows processed = 1803000\n"
     ]
    },
    {
     "name": "stderr",
     "output_type": "stream",
     "text": [
      "                                                                                \r"
     ]
    },
    {
     "name": "stdout",
     "output_type": "stream",
     "text": [
      "ST_HausdorffDistance calculation: Duration = 1.0141565799713135 seconds, Rows processed = 1803000\n"
     ]
    },
    {
     "name": "stderr",
     "output_type": "stream",
     "text": [
      "                                                                                \r"
     ]
    },
    {
     "name": "stdout",
     "output_type": "stream",
     "text": [
      "ST_FrechetDistance calculation: Duration = 0.9239513874053955 seconds, Rows processed = 1803000\n",
      "Processing: CityBoundaries.geojson against Faults.geojson\n"
     ]
    },
    {
     "name": "stderr",
     "output_type": "stream",
     "text": [
      "                                                                                \r"
     ]
    },
    {
     "name": "stdout",
     "output_type": "stream",
     "text": [
      "ST_Distance calculation: Duration = 1.212475061416626 seconds, Rows processed = 6212000\n"
     ]
    },
    {
     "name": "stderr",
     "output_type": "stream",
     "text": [
      "                                                                                \r"
     ]
    },
    {
     "name": "stdout",
     "output_type": "stream",
     "text": [
      "ST_HausdorffDistance calculation: Duration = 3.4693586826324463 seconds, Rows processed = 6212000\n"
     ]
    },
    {
     "name": "stderr",
     "output_type": "stream",
     "text": [
      "                                                                                \r"
     ]
    },
    {
     "name": "stdout",
     "output_type": "stream",
     "text": [
      "ST_FrechetDistance calculation: Duration = 3.121943473815918 seconds, Rows processed = 6212000\n",
      "Processing: CityBoundaries.geojson against Gas_fluid_seep.geojson\n"
     ]
    },
    {
     "name": "stderr",
     "output_type": "stream",
     "text": [
      "                                                                                \r"
     ]
    },
    {
     "name": "stdout",
     "output_type": "stream",
     "text": [
      "ST_Distance calculation: Duration = 0.885718822479248 seconds, Rows processed = 19000\n"
     ]
    },
    {
     "name": "stderr",
     "output_type": "stream",
     "text": [
      "                                                                                \r"
     ]
    },
    {
     "name": "stdout",
     "output_type": "stream",
     "text": [
      "ST_HausdorffDistance calculation: Duration = 0.9166028499603271 seconds, Rows processed = 19000\n"
     ]
    },
    {
     "name": "stderr",
     "output_type": "stream",
     "text": [
      "                                                                                \r"
     ]
    },
    {
     "name": "stdout",
     "output_type": "stream",
     "text": [
      "ST_FrechetDistance calculation: Duration = 0.9599370956420898 seconds, Rows processed = 19000\n",
      "Processing: CityBoundaries.geojson against Gas_oil_seep.geojson\n"
     ]
    },
    {
     "name": "stderr",
     "output_type": "stream",
     "text": [
      "                                                                                \r"
     ]
    },
    {
     "name": "stdout",
     "output_type": "stream",
     "text": [
      "ST_Distance calculation: Duration = 0.9133365154266357 seconds, Rows processed = 1500\n"
     ]
    },
    {
     "name": "stderr",
     "output_type": "stream",
     "text": [
      "                                                                                \r"
     ]
    },
    {
     "name": "stdout",
     "output_type": "stream",
     "text": [
      "ST_HausdorffDistance calculation: Duration = 0.9601573944091797 seconds, Rows processed = 1500\n"
     ]
    },
    {
     "name": "stderr",
     "output_type": "stream",
     "text": [
      "                                                                                \r"
     ]
    },
    {
     "name": "stdout",
     "output_type": "stream",
     "text": [
      "ST_FrechetDistance calculation: Duration = 1.0292134284973145 seconds, Rows processed = 1500\n",
      "Processing: CityBoundaries.geojson against Geologic_contacts.geojson\n"
     ]
    },
    {
     "name": "stderr",
     "output_type": "stream",
     "text": [
      "                                                                                \r"
     ]
    },
    {
     "name": "stdout",
     "output_type": "stream",
     "text": [
      "ST_Distance calculation: Duration = 2.8677806854248047 seconds, Rows processed = 26678000\n"
     ]
    },
    {
     "name": "stderr",
     "output_type": "stream",
     "text": [
      "                                                                                \r"
     ]
    },
    {
     "name": "stdout",
     "output_type": "stream",
     "text": [
      "ST_HausdorffDistance calculation: Duration = 2.9453487396240234 seconds, Rows processed = 26678000\n"
     ]
    },
    {
     "name": "stderr",
     "output_type": "stream",
     "text": [
      "                                                                                \r"
     ]
    },
    {
     "name": "stdout",
     "output_type": "stream",
     "text": [
      "ST_FrechetDistance calculation: Duration = 2.8959760665893555 seconds, Rows processed = 26678000\n",
      "Processing: CityBoundaries.geojson against Geologic_overprints.geojson\n"
     ]
    },
    {
     "name": "stderr",
     "output_type": "stream",
     "text": [
      "                                                                                \r"
     ]
    },
    {
     "name": "stdout",
     "output_type": "stream",
     "text": [
      "ST_Distance calculation: Duration = 1.3956389427185059 seconds, Rows processed = 936000\n"
     ]
    },
    {
     "name": "stderr",
     "output_type": "stream",
     "text": [
      "                                                                                \r"
     ]
    },
    {
     "name": "stdout",
     "output_type": "stream",
     "text": [
      "ST_HausdorffDistance calculation: Duration = 1.3740689754486084 seconds, Rows processed = 936000\n"
     ]
    },
    {
     "name": "stderr",
     "output_type": "stream",
     "text": [
      "                                                                                \r"
     ]
    },
    {
     "name": "stdout",
     "output_type": "stream",
     "text": [
      "ST_FrechetDistance calculation: Duration = 1.3088116645812988 seconds, Rows processed = 936000\n",
      "Processing: CityBoundaries.geojson against Geologic_units.geojson\n"
     ]
    },
    {
     "name": "stderr",
     "output_type": "stream",
     "text": [
      "                                                                                \r"
     ]
    },
    {
     "name": "stdout",
     "output_type": "stream",
     "text": [
      "ST_Distance calculation: Duration = 5.637075901031494 seconds, Rows processed = 19914000\n"
     ]
    },
    {
     "name": "stderr",
     "output_type": "stream",
     "text": [
      "                                                                                \r"
     ]
    },
    {
     "name": "stdout",
     "output_type": "stream",
     "text": [
      "ST_HausdorffDistance calculation: Duration = 21.877841472625732 seconds, Rows processed = 19914000\n"
     ]
    },
    {
     "name": "stderr",
     "output_type": "stream",
     "text": [
      "                                                                                \r"
     ]
    },
    {
     "name": "stdout",
     "output_type": "stream",
     "text": [
      "ST_FrechetDistance calculation: Duration = 5.6618311405181885 seconds, Rows processed = 19914000\n",
      "Processing: CityBoundaries.geojson against Glaciation_extents.geojson\n"
     ]
    },
    {
     "name": "stderr",
     "output_type": "stream",
     "text": [
      "                                                                                \r"
     ]
    },
    {
     "name": "stdout",
     "output_type": "stream",
     "text": [
      "ST_Distance calculation: Duration = 0.9371535778045654 seconds, Rows processed = 12500\n"
     ]
    },
    {
     "name": "stderr",
     "output_type": "stream",
     "text": [
      "                                                                                \r"
     ]
    },
    {
     "name": "stdout",
     "output_type": "stream",
     "text": [
      "ST_HausdorffDistance calculation: Duration = 0.9720726013183594 seconds, Rows processed = 12500\n"
     ]
    },
    {
     "name": "stderr",
     "output_type": "stream",
     "text": [
      "                                                                                \r"
     ]
    },
    {
     "name": "stdout",
     "output_type": "stream",
     "text": [
      "ST_FrechetDistance calculation: Duration = 6.047849655151367 seconds, Rows processed = 12500\n",
      "Processing: CityBoundaries.geojson against Hydrothermal_vents.geojson\n"
     ]
    },
    {
     "name": "stderr",
     "output_type": "stream",
     "text": [
      "                                                                                \r"
     ]
    },
    {
     "name": "stdout",
     "output_type": "stream",
     "text": [
      "ST_Distance calculation: Duration = 0.9575991630554199 seconds, Rows processed = 24500\n"
     ]
    },
    {
     "name": "stderr",
     "output_type": "stream",
     "text": [
      "                                                                                \r"
     ]
    },
    {
     "name": "stdout",
     "output_type": "stream",
     "text": [
      "ST_HausdorffDistance calculation: Duration = 0.9742958545684814 seconds, Rows processed = 24500\n"
     ]
    },
    {
     "name": "stderr",
     "output_type": "stream",
     "text": [
      "                                                                                \r"
     ]
    },
    {
     "name": "stdout",
     "output_type": "stream",
     "text": [
      "ST_FrechetDistance calculation: Duration = 0.8561611175537109 seconds, Rows processed = 24500\n",
      "Processing: CityBoundaries.geojson against Impact_structure_great_10_KM.geojson\n"
     ]
    },
    {
     "name": "stderr",
     "output_type": "stream",
     "text": [
      "                                                                                \r"
     ]
    },
    {
     "name": "stdout",
     "output_type": "stream",
     "text": [
      "ST_Distance calculation: Duration = 0.9255609512329102 seconds, Rows processed = 15500\n"
     ]
    },
    {
     "name": "stderr",
     "output_type": "stream",
     "text": [
      "                                                                                \r"
     ]
    },
    {
     "name": "stdout",
     "output_type": "stream",
     "text": [
      "ST_HausdorffDistance calculation: Duration = 0.9635217189788818 seconds, Rows processed = 15500\n"
     ]
    },
    {
     "name": "stderr",
     "output_type": "stream",
     "text": [
      "                                                                                \r"
     ]
    },
    {
     "name": "stdout",
     "output_type": "stream",
     "text": [
      "ST_FrechetDistance calculation: Duration = 0.9443254470825195 seconds, Rows processed = 15500\n",
      "Processing: CityBoundaries.geojson against Impact_structure_less_10_KM.geojson\n"
     ]
    },
    {
     "name": "stderr",
     "output_type": "stream",
     "text": [
      "                                                                                \r"
     ]
    },
    {
     "name": "stdout",
     "output_type": "stream",
     "text": [
      "ST_Distance calculation: Duration = 0.9090800285339355 seconds, Rows processed = 12500\n"
     ]
    },
    {
     "name": "stderr",
     "output_type": "stream",
     "text": [
      "                                                                                \r"
     ]
    },
    {
     "name": "stdout",
     "output_type": "stream",
     "text": [
      "ST_HausdorffDistance calculation: Duration = 0.8925182819366455 seconds, Rows processed = 12500\n"
     ]
    },
    {
     "name": "stderr",
     "output_type": "stream",
     "text": [
      "                                                                                \r"
     ]
    },
    {
     "name": "stdout",
     "output_type": "stream",
     "text": [
      "ST_FrechetDistance calculation: Duration = 0.8979647159576416 seconds, Rows processed = 12500\n",
      "Processing: CityBoundaries.geojson against Maganifeorus_deposits.geojson\n"
     ]
    },
    {
     "name": "stderr",
     "output_type": "stream",
     "text": [
      "                                                                                \r"
     ]
    },
    {
     "name": "stdout",
     "output_type": "stream",
     "text": [
      "ST_Distance calculation: Duration = 0.9125401973724365 seconds, Rows processed = 268500\n"
     ]
    },
    {
     "name": "stderr",
     "output_type": "stream",
     "text": [
      "                                                                                \r"
     ]
    },
    {
     "name": "stdout",
     "output_type": "stream",
     "text": [
      "ST_HausdorffDistance calculation: Duration = 0.9586338996887207 seconds, Rows processed = 268500\n"
     ]
    },
    {
     "name": "stderr",
     "output_type": "stream",
     "text": [
      "                                                                                \r"
     ]
    },
    {
     "name": "stdout",
     "output_type": "stream",
     "text": [
      "ST_FrechetDistance calculation: Duration = 0.9874625205993652 seconds, Rows processed = 268500\n",
      "Processing: CityBoundaries.geojson against Phosphate_nodules_pavement.geojson\n"
     ]
    },
    {
     "name": "stderr",
     "output_type": "stream",
     "text": [
      "                                                                                \r"
     ]
    },
    {
     "name": "stdout",
     "output_type": "stream",
     "text": [
      "ST_Distance calculation: Duration = 0.9560837745666504 seconds, Rows processed = 279500\n"
     ]
    },
    {
     "name": "stderr",
     "output_type": "stream",
     "text": [
      "                                                                                \r"
     ]
    },
    {
     "name": "stdout",
     "output_type": "stream",
     "text": [
      "ST_HausdorffDistance calculation: Duration = 6.072118520736694 seconds, Rows processed = 279500\n"
     ]
    },
    {
     "name": "stderr",
     "output_type": "stream",
     "text": [
      "                                                                                \r"
     ]
    },
    {
     "name": "stdout",
     "output_type": "stream",
     "text": [
      "ST_FrechetDistance calculation: Duration = 0.9318959712982178 seconds, Rows processed = 279500\n",
      "Processing: CityBoundaries.geojson against Polymetallic_sulfide_deposits.geojson\n"
     ]
    },
    {
     "name": "stderr",
     "output_type": "stream",
     "text": [
      "                                                                                \r"
     ]
    },
    {
     "name": "stdout",
     "output_type": "stream",
     "text": [
      "ST_Distance calculation: Duration = 0.9280858039855957 seconds, Rows processed = 6500\n"
     ]
    },
    {
     "name": "stderr",
     "output_type": "stream",
     "text": [
      "                                                                                \r"
     ]
    },
    {
     "name": "stdout",
     "output_type": "stream",
     "text": [
      "ST_HausdorffDistance calculation: Duration = 0.91107177734375 seconds, Rows processed = 6500\n"
     ]
    },
    {
     "name": "stderr",
     "output_type": "stream",
     "text": [
      "                                                                                \r"
     ]
    },
    {
     "name": "stdout",
     "output_type": "stream",
     "text": [
      "ST_FrechetDistance calculation: Duration = 0.960162878036499 seconds, Rows processed = 6500\n",
      "Processing: CityBoundaries.geojson against Rock_in_seafloor_sample.geojson\n"
     ]
    },
    {
     "name": "stderr",
     "output_type": "stream",
     "text": [
      "                                                                                \r"
     ]
    },
    {
     "name": "stdout",
     "output_type": "stream",
     "text": [
      "ST_Distance calculation: Duration = 0.9138846397399902 seconds, Rows processed = 25000\n"
     ]
    },
    {
     "name": "stderr",
     "output_type": "stream",
     "text": [
      "                                                                                \r"
     ]
    },
    {
     "name": "stdout",
     "output_type": "stream",
     "text": [
      "ST_HausdorffDistance calculation: Duration = 0.924060583114624 seconds, Rows processed = 25000\n"
     ]
    },
    {
     "name": "stderr",
     "output_type": "stream",
     "text": [
      "                                                                                \r"
     ]
    },
    {
     "name": "stdout",
     "output_type": "stream",
     "text": [
      "ST_FrechetDistance calculation: Duration = 6.058060646057129 seconds, Rows processed = 25000\n",
      "Processing: CityBoundaries.geojson against Special_submarine_features.geojson\n"
     ]
    },
    {
     "name": "stderr",
     "output_type": "stream",
     "text": [
      "                                                                                \r"
     ]
    },
    {
     "name": "stdout",
     "output_type": "stream",
     "text": [
      "ST_Distance calculation: Duration = 1.0591368675231934 seconds, Rows processed = 1380500\n"
     ]
    },
    {
     "name": "stderr",
     "output_type": "stream",
     "text": [
      "                                                                                \r"
     ]
    },
    {
     "name": "stdout",
     "output_type": "stream",
     "text": [
      "ST_HausdorffDistance calculation: Duration = 1.014638900756836 seconds, Rows processed = 1380500\n"
     ]
    },
    {
     "name": "stderr",
     "output_type": "stream",
     "text": [
      "                                                                                \r"
     ]
    },
    {
     "name": "stdout",
     "output_type": "stream",
     "text": [
      "ST_FrechetDistance calculation: Duration = 1.07993483543396 seconds, Rows processed = 1380500\n",
      "Processing: CityBoundaries.geojson against Volcanoes.geojson\n"
     ]
    },
    {
     "name": "stderr",
     "output_type": "stream",
     "text": [
      "                                                                                \r"
     ]
    },
    {
     "name": "stdout",
     "output_type": "stream",
     "text": [
      "ST_Distance calculation: Duration = 0.9249160289764404 seconds, Rows processed = 305000\n"
     ]
    },
    {
     "name": "stderr",
     "output_type": "stream",
     "text": [
      "                                                                                \r"
     ]
    },
    {
     "name": "stdout",
     "output_type": "stream",
     "text": [
      "ST_HausdorffDistance calculation: Duration = 1.0058417320251465 seconds, Rows processed = 305000\n"
     ]
    },
    {
     "name": "stderr",
     "output_type": "stream",
     "text": [
      "                                                                                \r"
     ]
    },
    {
     "name": "stdout",
     "output_type": "stream",
     "text": [
      "ST_FrechetDistance calculation: Duration = 0.9302816390991211 seconds, Rows processed = 305000\n",
      "Processing: CityBoundaries.geojson against WorldContinents.geojson\n"
     ]
    },
    {
     "name": "stderr",
     "output_type": "stream",
     "text": [
      "                                                                                \r"
     ]
    },
    {
     "name": "stdout",
     "output_type": "stream",
     "text": [
      "ST_Distance calculation: Duration = 1.4528026580810547 seconds, Rows processed = 4000\n"
     ]
    },
    {
     "name": "stderr",
     "output_type": "stream",
     "text": [
      "                                                                                \r"
     ]
    },
    {
     "name": "stdout",
     "output_type": "stream",
     "text": [
      "ST_HausdorffDistance calculation: Duration = 6.058196067810059 seconds, Rows processed = 4000\n"
     ]
    },
    {
     "name": "stderr",
     "output_type": "stream",
     "text": [
      "                                                                                \r"
     ]
    },
    {
     "name": "stdout",
     "output_type": "stream",
     "text": [
      "ST_FrechetDistance calculation: Duration = 1.067772626876831 seconds, Rows processed = 4000\n",
      "Processing: CityBoundaries.geojson against cb_2018_us_state_20m.json\n"
     ]
    },
    {
     "name": "stderr",
     "output_type": "stream",
     "text": [
      "                                                                                \r"
     ]
    },
    {
     "name": "stdout",
     "output_type": "stream",
     "text": [
      "ST_Distance calculation: Duration = 0.9263029098510742 seconds, Rows processed = 26000\n"
     ]
    },
    {
     "name": "stderr",
     "output_type": "stream",
     "text": [
      "                                                                                \r"
     ]
    },
    {
     "name": "stdout",
     "output_type": "stream",
     "text": [
      "ST_HausdorffDistance calculation: Duration = 0.8932175636291504 seconds, Rows processed = 26000\n"
     ]
    },
    {
     "name": "stderr",
     "output_type": "stream",
     "text": [
      "                                                                                \r"
     ]
    },
    {
     "name": "stdout",
     "output_type": "stream",
     "text": [
      "ST_FrechetDistance calculation: Duration = 0.8786706924438477 seconds, Rows processed = 26000\n",
      "Processing: CountryTerritories.geojson against AgriculturalArea.geojson\n"
     ]
    },
    {
     "name": "stderr",
     "output_type": "stream",
     "text": [
      "                                                                                \r"
     ]
    },
    {
     "name": "stdout",
     "output_type": "stream",
     "text": [
      "ST_Distance calculation: Duration = 6.804656505584717 seconds, Rows processed = 785920\n"
     ]
    },
    {
     "name": "stderr",
     "output_type": "stream",
     "text": [
      "                                                                                \r"
     ]
    },
    {
     "name": "stdout",
     "output_type": "stream",
     "text": [
      "ST_HausdorffDistance calculation: Duration = 1.4423432350158691 seconds, Rows processed = 785920\n"
     ]
    },
    {
     "name": "stderr",
     "output_type": "stream",
     "text": [
      "                                                                                \r"
     ]
    },
    {
     "name": "stdout",
     "output_type": "stream",
     "text": [
      "ST_FrechetDistance calculation: Duration = 0.7906589508056641 seconds, Rows processed = 785920\n",
      "Processing: CountryTerritories.geojson against CityBoundaries.geojson\n"
     ]
    },
    {
     "name": "stderr",
     "output_type": "stream",
     "text": [
      "                                                                                \r"
     ]
    },
    {
     "name": "stdout",
     "output_type": "stream",
     "text": [
      "ST_Distance calculation: Duration = 1.1421878337860107 seconds, Rows processed = 128000\n"
     ]
    },
    {
     "name": "stderr",
     "output_type": "stream",
     "text": [
      "                                                                                \r"
     ]
    },
    {
     "name": "stdout",
     "output_type": "stream",
     "text": [
      "ST_HausdorffDistance calculation: Duration = 6.272245168685913 seconds, Rows processed = 128000\n"
     ]
    },
    {
     "name": "stderr",
     "output_type": "stream",
     "text": [
      "                                                                                \r"
     ]
    },
    {
     "name": "stdout",
     "output_type": "stream",
     "text": [
      "ST_FrechetDistance calculation: Duration = 1.1177165508270264 seconds, Rows processed = 128000\n",
      "Processing: CountryTerritories.geojson against EcoRegions.geojson\n"
     ]
    },
    {
     "name": "stderr",
     "output_type": "stream",
     "text": [
      "                                                                                \r"
     ]
    },
    {
     "name": "stdout",
     "output_type": "stream",
     "text": [
      "ST_Distance calculation: Duration = 2.7191925048828125 seconds, Rows processed = 320000\n"
     ]
    },
    {
     "name": "stderr",
     "output_type": "stream",
     "text": [
      "                                                                                \r"
     ]
    },
    {
     "name": "stdout",
     "output_type": "stream",
     "text": [
      "ST_HausdorffDistance calculation: Duration = 2.0539042949676514 seconds, Rows processed = 320000\n"
     ]
    },
    {
     "name": "stderr",
     "output_type": "stream",
     "text": [
      "                                                                                \r"
     ]
    },
    {
     "name": "stdout",
     "output_type": "stream",
     "text": [
      "ST_FrechetDistance calculation: Duration = 2.1725614070892334 seconds, Rows processed = 320000\n",
      "Processing: CountryTerritories.geojson against GeographicRegions.geojson\n",
      "ST_Distance calculation: Duration = 0.3522670269012451 seconds, Rows processed = 268800\n",
      "ST_HausdorffDistance calculation: Duration = 0.3884756565093994 seconds, Rows processed = 268800\n",
      "ST_FrechetDistance calculation: Duration = 0.3851916790008545 seconds, Rows processed = 268800\n",
      "Processing: CountryTerritories.geojson against Areas_diapiric_structures.geojson\n"
     ]
    },
    {
     "name": "stderr",
     "output_type": "stream",
     "text": [
      "                                                                                \r"
     ]
    },
    {
     "name": "stdout",
     "output_type": "stream",
     "text": [
      "ST_Distance calculation: Duration = 0.934105634689331 seconds, Rows processed = 19712\n"
     ]
    },
    {
     "name": "stderr",
     "output_type": "stream",
     "text": [
      "                                                                                \r"
     ]
    },
    {
     "name": "stdout",
     "output_type": "stream",
     "text": [
      "ST_HausdorffDistance calculation: Duration = 0.8749325275421143 seconds, Rows processed = 19712\n"
     ]
    },
    {
     "name": "stderr",
     "output_type": "stream",
     "text": [
      "                                                                                \r"
     ]
    },
    {
     "name": "stdout",
     "output_type": "stream",
     "text": [
      "ST_FrechetDistance calculation: Duration = 0.8669915199279785 seconds, Rows processed = 19712\n",
      "Processing: CountryTerritories.geojson against Bathymetry.geojson\n"
     ]
    },
    {
     "name": "stderr",
     "output_type": "stream",
     "text": [
      "                                                                                \r"
     ]
    },
    {
     "name": "stdout",
     "output_type": "stream",
     "text": [
      "ST_Distance calculation: Duration = 4.36259126663208 seconds, Rows processed = 627200\n"
     ]
    },
    {
     "name": "stderr",
     "output_type": "stream",
     "text": [
      "                                                                                \r"
     ]
    },
    {
     "name": "stdout",
     "output_type": "stream",
     "text": [
      "ST_HausdorffDistance calculation: Duration = 0.7753551006317139 seconds, Rows processed = 627200\n"
     ]
    },
    {
     "name": "stderr",
     "output_type": "stream",
     "text": [
      "                                                                                \r"
     ]
    },
    {
     "name": "stdout",
     "output_type": "stream",
     "text": [
      "ST_FrechetDistance calculation: Duration = 0.788870096206665 seconds, Rows processed = 627200\n",
      "Processing: CountryTerritories.geojson against Calderas.geojson\n",
      "ST_Distance calculation: Duration = 0.23316287994384766 seconds, Rows processed = 18432\n",
      "ST_HausdorffDistance calculation: Duration = 0.20850300788879395 seconds, Rows processed = 18432\n"
     ]
    },
    {
     "name": "stderr",
     "output_type": "stream",
     "text": [
      "                                                                                \r"
     ]
    },
    {
     "name": "stdout",
     "output_type": "stream",
     "text": [
      "ST_FrechetDistance calculation: Duration = 0.854539155960083 seconds, Rows processed = 18432\n",
      "Processing: CountryTerritories.geojson against Diapiric_trends.geojson\n",
      "ST_Distance calculation: Duration = 0.21428775787353516 seconds, Rows processed = 45056\n",
      "ST_HausdorffDistance calculation: Duration = 0.2290973663330078 seconds, Rows processed = 45056\n",
      "ST_FrechetDistance calculation: Duration = 0.25368356704711914 seconds, Rows processed = 45056\n",
      "Processing: CountryTerritories.geojson against Diapirs.geojson\n",
      "ST_Distance calculation: Duration = 0.21724843978881836 seconds, Rows processed = 346624\n",
      "ST_HausdorffDistance calculation: Duration = 0.22205066680908203 seconds, Rows processed = 346624\n"
     ]
    },
    {
     "name": "stderr",
     "output_type": "stream",
     "text": [
      "                                                                                \r"
     ]
    },
    {
     "name": "stdout",
     "output_type": "stream",
     "text": [
      "ST_FrechetDistance calculation: Duration = 0.8536128997802734 seconds, Rows processed = 346624\n",
      "Processing: CountryTerritories.geojson against Dikes_sills.geojson\n",
      "ST_Distance calculation: Duration = 0.2863030433654785 seconds, Rows processed = 923136\n"
     ]
    },
    {
     "name": "stderr",
     "output_type": "stream",
     "text": [
      "                                                                                \r"
     ]
    },
    {
     "name": "stdout",
     "output_type": "stream",
     "text": [
      "ST_HausdorffDistance calculation: Duration = 0.8720216751098633 seconds, Rows processed = 923136\n",
      "ST_FrechetDistance calculation: Duration = 0.2779877185821533 seconds, Rows processed = 923136\n",
      "Processing: CountryTerritories.geojson against Faults.geojson\n",
      "ST_Distance calculation: Duration = 0.5475497245788574 seconds, Rows processed = 3180544\n",
      "ST_HausdorffDistance calculation: Duration = 0.5525927543640137 seconds, Rows processed = 3180544\n",
      "ST_FrechetDistance calculation: Duration = 0.5545449256896973 seconds, Rows processed = 3180544\n",
      "Processing: CountryTerritories.geojson against Gas_fluid_seep.geojson\n",
      "ST_Distance calculation: Duration = 0.2235865592956543 seconds, Rows processed = 9728\n",
      "ST_HausdorffDistance calculation: Duration = 0.2255237102508545 seconds, Rows processed = 9728\n",
      "ST_FrechetDistance calculation: Duration = 0.21985173225402832 seconds, Rows processed = 9728\n",
      "Processing: CountryTerritories.geojson against Gas_oil_seep.geojson\n",
      "ST_Distance calculation: Duration = 0.21326661109924316 seconds, Rows processed = 768\n",
      "ST_HausdorffDistance calculation: Duration = 0.21511554718017578 seconds, Rows processed = 768\n"
     ]
    },
    {
     "name": "stderr",
     "output_type": "stream",
     "text": [
      "                                                                                \r"
     ]
    },
    {
     "name": "stdout",
     "output_type": "stream",
     "text": [
      "ST_FrechetDistance calculation: Duration = 0.8521192073822021 seconds, Rows processed = 768\n",
      "Processing: CountryTerritories.geojson against Geologic_contacts.geojson\n"
     ]
    },
    {
     "name": "stderr",
     "output_type": "stream",
     "text": [
      "                                                                                \r"
     ]
    },
    {
     "name": "stdout",
     "output_type": "stream",
     "text": [
      "ST_Distance calculation: Duration = 2.1293439865112305 seconds, Rows processed = 13659136\n"
     ]
    },
    {
     "name": "stderr",
     "output_type": "stream",
     "text": [
      "                                                                                \r"
     ]
    },
    {
     "name": "stdout",
     "output_type": "stream",
     "text": [
      "ST_HausdorffDistance calculation: Duration = 3.3626041412353516 seconds, Rows processed = 13659136\n"
     ]
    },
    {
     "name": "stderr",
     "output_type": "stream",
     "text": [
      "                                                                                \r"
     ]
    },
    {
     "name": "stdout",
     "output_type": "stream",
     "text": [
      "ST_FrechetDistance calculation: Duration = 2.1934561729431152 seconds, Rows processed = 13659136\n",
      "Processing: CountryTerritories.geojson against Geologic_overprints.geojson\n"
     ]
    },
    {
     "name": "stderr",
     "output_type": "stream",
     "text": [
      "                                                                                \r"
     ]
    },
    {
     "name": "stdout",
     "output_type": "stream",
     "text": [
      "ST_Distance calculation: Duration = 2.9089298248291016 seconds, Rows processed = 479232\n",
      "ST_HausdorffDistance calculation: Duration = 0.6530106067657471 seconds, Rows processed = 479232\n",
      "ST_FrechetDistance calculation: Duration = 0.6169328689575195 seconds, Rows processed = 479232\n",
      "Processing: CountryTerritories.geojson against Geologic_units.geojson\n"
     ]
    },
    {
     "name": "stderr",
     "output_type": "stream",
     "text": [
      "                                                                                \r"
     ]
    },
    {
     "name": "stdout",
     "output_type": "stream",
     "text": [
      "ST_Distance calculation: Duration = 5.056090831756592 seconds, Rows processed = 10195968\n"
     ]
    },
    {
     "name": "stderr",
     "output_type": "stream",
     "text": [
      "24/04/22 12:42:57 ERROR TaskSchedulerImpl: Lost executor 9 on 129.82.44.142: Command exited with code 52\n",
      "                                                                                \r"
     ]
    },
    {
     "name": "stdout",
     "output_type": "stream",
     "text": [
      "ST_HausdorffDistance calculation: Duration = 30.89020848274231 seconds, Rows processed = 10195968\n"
     ]
    },
    {
     "name": "stderr",
     "output_type": "stream",
     "text": [
      "                                                                                \r"
     ]
    },
    {
     "name": "stdout",
     "output_type": "stream",
     "text": [
      "ST_FrechetDistance calculation: Duration = 4.6489691734313965 seconds, Rows processed = 10195968\n",
      "Processing: CountryTerritories.geojson against Glaciation_extents.geojson\n"
     ]
    },
    {
     "name": "stderr",
     "output_type": "stream",
     "text": [
      "                                                                                \r"
     ]
    },
    {
     "name": "stdout",
     "output_type": "stream",
     "text": [
      "ST_Distance calculation: Duration = 2.0280725955963135 seconds, Rows processed = 6400\n",
      "ST_HausdorffDistance calculation: Duration = 0.2579348087310791 seconds, Rows processed = 6400\n",
      "ST_FrechetDistance calculation: Duration = 0.20917749404907227 seconds, Rows processed = 6400\n",
      "Processing: CountryTerritories.geojson against Hydrothermal_vents.geojson\n",
      "ST_Distance calculation: Duration = 0.27474308013916016 seconds, Rows processed = 12544\n",
      "ST_HausdorffDistance calculation: Duration = 0.2155008316040039 seconds, Rows processed = 12544\n",
      "ST_FrechetDistance calculation: Duration = 0.21108746528625488 seconds, Rows processed = 12544\n",
      "Processing: CountryTerritories.geojson against Impact_structure_great_10_KM.geojson\n",
      "ST_Distance calculation: Duration = 0.2286214828491211 seconds, Rows processed = 7936\n"
     ]
    },
    {
     "name": "stderr",
     "output_type": "stream",
     "text": [
      "                                                                                \r"
     ]
    },
    {
     "name": "stdout",
     "output_type": "stream",
     "text": [
      "ST_HausdorffDistance calculation: Duration = 0.9043631553649902 seconds, Rows processed = 7936\n",
      "ST_FrechetDistance calculation: Duration = 0.23891735076904297 seconds, Rows processed = 7936\n",
      "Processing: CountryTerritories.geojson against Impact_structure_less_10_KM.geojson\n",
      "ST_Distance calculation: Duration = 0.20924043655395508 seconds, Rows processed = 6400\n",
      "ST_HausdorffDistance calculation: Duration = 0.2099745273590088 seconds, Rows processed = 6400\n",
      "ST_FrechetDistance calculation: Duration = 0.2138197422027588 seconds, Rows processed = 6400\n",
      "Processing: CountryTerritories.geojson against Maganifeorus_deposits.geojson\n",
      "ST_Distance calculation: Duration = 0.2214052677154541 seconds, Rows processed = 137472\n",
      "ST_HausdorffDistance calculation: Duration = 0.21638870239257812 seconds, Rows processed = 137472\n",
      "ST_FrechetDistance calculation: Duration = 0.21218538284301758 seconds, Rows processed = 137472\n",
      "Processing: CountryTerritories.geojson against Phosphate_nodules_pavement.geojson\n",
      "ST_Distance calculation: Duration = 0.21581745147705078 seconds, Rows processed = 143104\n",
      "ST_HausdorffDistance calculation: Duration = 0.21585822105407715 seconds, Rows processed = 143104\n",
      "ST_FrechetDistance calculation: Duration = 0.20416593551635742 seconds, Rows processed = 143104\n",
      "Processing: CountryTerritories.geojson against Polymetallic_sulfide_deposits.geojson\n"
     ]
    },
    {
     "name": "stderr",
     "output_type": "stream",
     "text": [
      "                                                                                \r"
     ]
    },
    {
     "name": "stdout",
     "output_type": "stream",
     "text": [
      "ST_Distance calculation: Duration = 0.8617737293243408 seconds, Rows processed = 3328\n"
     ]
    },
    {
     "name": "stderr",
     "output_type": "stream",
     "text": [
      "                                                                                \r"
     ]
    },
    {
     "name": "stdout",
     "output_type": "stream",
     "text": [
      "ST_HausdorffDistance calculation: Duration = 0.849327802658081 seconds, Rows processed = 3328\n",
      "ST_FrechetDistance calculation: Duration = 0.21096253395080566 seconds, Rows processed = 3328\n",
      "Processing: CountryTerritories.geojson against Rock_in_seafloor_sample.geojson\n",
      "ST_Distance calculation: Duration = 0.20424342155456543 seconds, Rows processed = 12800\n",
      "ST_HausdorffDistance calculation: Duration = 0.2376558780670166 seconds, Rows processed = 12800\n",
      "ST_FrechetDistance calculation: Duration = 0.21773934364318848 seconds, Rows processed = 12800\n",
      "Processing: CountryTerritories.geojson against Special_submarine_features.geojson\n"
     ]
    },
    {
     "name": "stderr",
     "output_type": "stream",
     "text": [
      "                                                                                \r"
     ]
    },
    {
     "name": "stdout",
     "output_type": "stream",
     "text": [
      "ST_Distance calculation: Duration = 0.9443211555480957 seconds, Rows processed = 706816\n",
      "ST_HausdorffDistance calculation: Duration = 0.3226921558380127 seconds, Rows processed = 706816\n"
     ]
    },
    {
     "name": "stderr",
     "output_type": "stream",
     "text": [
      "                                                                                \r"
     ]
    },
    {
     "name": "stdout",
     "output_type": "stream",
     "text": [
      "ST_FrechetDistance calculation: Duration = 0.9399547576904297 seconds, Rows processed = 706816\n",
      "Processing: CountryTerritories.geojson against Volcanoes.geojson\n",
      "ST_Distance calculation: Duration = 0.24064397811889648 seconds, Rows processed = 156160\n"
     ]
    },
    {
     "name": "stderr",
     "output_type": "stream",
     "text": [
      "                                                                                \r"
     ]
    },
    {
     "name": "stdout",
     "output_type": "stream",
     "text": [
      "ST_HausdorffDistance calculation: Duration = 0.8411464691162109 seconds, Rows processed = 156160\n",
      "ST_FrechetDistance calculation: Duration = 0.2156507968902588 seconds, Rows processed = 156160\n",
      "Processing: CountryTerritories.geojson against WorldContinents.geojson\n",
      "ST_Distance calculation: Duration = 0.29837536811828613 seconds, Rows processed = 2048\n",
      "ST_HausdorffDistance calculation: Duration = 0.30889248847961426 seconds, Rows processed = 2048\n",
      "ST_FrechetDistance calculation: Duration = 0.3004765510559082 seconds, Rows processed = 2048\n",
      "Processing: CountryTerritories.geojson against cb_2018_us_state_20m.json\n",
      "ST_Distance calculation: Duration = 0.237701416015625 seconds, Rows processed = 13312\n",
      "ST_HausdorffDistance calculation: Duration = 0.3896472454071045 seconds, Rows processed = 13312\n",
      "ST_FrechetDistance calculation: Duration = 0.22390127182006836 seconds, Rows processed = 13312\n",
      "Processing: EcoRegions.geojson against AgriculturalArea.geojson\n"
     ]
    },
    {
     "name": "stderr",
     "output_type": "stream",
     "text": [
      "                                                                                \r"
     ]
    },
    {
     "name": "stdout",
     "output_type": "stream",
     "text": [
      "ST_Distance calculation: Duration = 2.452706813812256 seconds, Rows processed = 3837500\n"
     ]
    },
    {
     "name": "stderr",
     "output_type": "stream",
     "text": [
      "                                                                                \r"
     ]
    },
    {
     "name": "stdout",
     "output_type": "stream",
     "text": [
      "ST_HausdorffDistance calculation: Duration = 12.286732196807861 seconds, Rows processed = 3837500\n"
     ]
    },
    {
     "name": "stderr",
     "output_type": "stream",
     "text": [
      "                                                                                \r"
     ]
    },
    {
     "name": "stdout",
     "output_type": "stream",
     "text": [
      "ST_FrechetDistance calculation: Duration = 2.6287121772766113 seconds, Rows processed = 3837500\n",
      "Processing: EcoRegions.geojson against CityBoundaries.geojson\n"
     ]
    },
    {
     "name": "stderr",
     "output_type": "stream",
     "text": [
      "                                                                                \r"
     ]
    },
    {
     "name": "stdout",
     "output_type": "stream",
     "text": [
      "ST_Distance calculation: Duration = 17.55179476737976 seconds, Rows processed = 625000\n"
     ]
    },
    {
     "name": "stderr",
     "output_type": "stream",
     "text": [
      "                                                                                \r"
     ]
    },
    {
     "name": "stdout",
     "output_type": "stream",
     "text": [
      "ST_HausdorffDistance calculation: Duration = 17.652162551879883 seconds, Rows processed = 625000\n"
     ]
    },
    {
     "name": "stderr",
     "output_type": "stream",
     "text": [
      "                                                                                \r"
     ]
    },
    {
     "name": "stdout",
     "output_type": "stream",
     "text": [
      "ST_FrechetDistance calculation: Duration = 7.981876611709595 seconds, Rows processed = 625000\n",
      "Processing: EcoRegions.geojson against CountryTerritories.geojson\n"
     ]
    },
    {
     "name": "stderr",
     "output_type": "stream",
     "text": [
      "                                                                                \r"
     ]
    },
    {
     "name": "stdout",
     "output_type": "stream",
     "text": [
      "ST_Distance calculation: Duration = 2.6578516960144043 seconds, Rows processed = 320000\n"
     ]
    },
    {
     "name": "stderr",
     "output_type": "stream",
     "text": [
      "                                                                                \r"
     ]
    },
    {
     "name": "stdout",
     "output_type": "stream",
     "text": [
      "ST_HausdorffDistance calculation: Duration = 2.254676103591919 seconds, Rows processed = 320000\n"
     ]
    },
    {
     "name": "stderr",
     "output_type": "stream",
     "text": [
      "                                                                                \r"
     ]
    },
    {
     "name": "stdout",
     "output_type": "stream",
     "text": [
      "ST_FrechetDistance calculation: Duration = 2.2366039752960205 seconds, Rows processed = 320000\n",
      "Processing: EcoRegions.geojson against GeographicRegions.geojson\n"
     ]
    },
    {
     "name": "stderr",
     "output_type": "stream",
     "text": [
      "                                                                                \r"
     ]
    },
    {
     "name": "stdout",
     "output_type": "stream",
     "text": [
      "ST_Distance calculation: Duration = 2.09611439704895 seconds, Rows processed = 1312500\n"
     ]
    },
    {
     "name": "stderr",
     "output_type": "stream",
     "text": [
      "                                                                                \r"
     ]
    },
    {
     "name": "stdout",
     "output_type": "stream",
     "text": [
      "ST_HausdorffDistance calculation: Duration = 2.08270001411438 seconds, Rows processed = 1312500\n"
     ]
    },
    {
     "name": "stderr",
     "output_type": "stream",
     "text": [
      "                                                                                \r"
     ]
    },
    {
     "name": "stdout",
     "output_type": "stream",
     "text": [
      "ST_FrechetDistance calculation: Duration = 2.0481767654418945 seconds, Rows processed = 1312500\n",
      "Processing: EcoRegions.geojson against Areas_diapiric_structures.geojson\n"
     ]
    },
    {
     "name": "stderr",
     "output_type": "stream",
     "text": [
      "                                                                                \r"
     ]
    },
    {
     "name": "stdout",
     "output_type": "stream",
     "text": [
      "ST_Distance calculation: Duration = 1.9738445281982422 seconds, Rows processed = 96250\n"
     ]
    },
    {
     "name": "stderr",
     "output_type": "stream",
     "text": [
      "                                                                                \r"
     ]
    },
    {
     "name": "stdout",
     "output_type": "stream",
     "text": [
      "ST_HausdorffDistance calculation: Duration = 1.9080901145935059 seconds, Rows processed = 96250\n"
     ]
    },
    {
     "name": "stderr",
     "output_type": "stream",
     "text": [
      "                                                                                \r"
     ]
    },
    {
     "name": "stdout",
     "output_type": "stream",
     "text": [
      "ST_FrechetDistance calculation: Duration = 2.036978006362915 seconds, Rows processed = 96250\n",
      "Processing: EcoRegions.geojson against Bathymetry.geojson\n"
     ]
    },
    {
     "name": "stderr",
     "output_type": "stream",
     "text": [
      "                                                                                \r"
     ]
    },
    {
     "name": "stdout",
     "output_type": "stream",
     "text": [
      "ST_Distance calculation: Duration = 2.4709537029266357 seconds, Rows processed = 3062500\n"
     ]
    },
    {
     "name": "stderr",
     "output_type": "stream",
     "text": [
      "                                                                                \r"
     ]
    },
    {
     "name": "stdout",
     "output_type": "stream",
     "text": [
      "ST_HausdorffDistance calculation: Duration = 12.260792016983032 seconds, Rows processed = 3062500\n"
     ]
    },
    {
     "name": "stderr",
     "output_type": "stream",
     "text": [
      "                                                                                \r"
     ]
    },
    {
     "name": "stdout",
     "output_type": "stream",
     "text": [
      "ST_FrechetDistance calculation: Duration = 2.53090500831604 seconds, Rows processed = 3062500\n",
      "Processing: EcoRegions.geojson against Calderas.geojson\n"
     ]
    },
    {
     "name": "stderr",
     "output_type": "stream",
     "text": [
      "                                                                                \r"
     ]
    },
    {
     "name": "stdout",
     "output_type": "stream",
     "text": [
      "ST_Distance calculation: Duration = 2.0393147468566895 seconds, Rows processed = 90000\n"
     ]
    },
    {
     "name": "stderr",
     "output_type": "stream",
     "text": [
      "                                                                                \r"
     ]
    },
    {
     "name": "stdout",
     "output_type": "stream",
     "text": [
      "ST_HausdorffDistance calculation: Duration = 1.9339385032653809 seconds, Rows processed = 90000\n"
     ]
    },
    {
     "name": "stderr",
     "output_type": "stream",
     "text": [
      "                                                                                \r"
     ]
    },
    {
     "name": "stdout",
     "output_type": "stream",
     "text": [
      "ST_FrechetDistance calculation: Duration = 1.9589414596557617 seconds, Rows processed = 90000\n",
      "Processing: EcoRegions.geojson against Diapiric_trends.geojson\n"
     ]
    },
    {
     "name": "stderr",
     "output_type": "stream",
     "text": [
      "                                                                                \r"
     ]
    },
    {
     "name": "stdout",
     "output_type": "stream",
     "text": [
      "ST_Distance calculation: Duration = 2.0286900997161865 seconds, Rows processed = 220000\n"
     ]
    },
    {
     "name": "stderr",
     "output_type": "stream",
     "text": [
      "                                                                                \r"
     ]
    },
    {
     "name": "stdout",
     "output_type": "stream",
     "text": [
      "ST_HausdorffDistance calculation: Duration = 11.71179485321045 seconds, Rows processed = 220000\n"
     ]
    },
    {
     "name": "stderr",
     "output_type": "stream",
     "text": [
      "                                                                                \r"
     ]
    },
    {
     "name": "stdout",
     "output_type": "stream",
     "text": [
      "ST_FrechetDistance calculation: Duration = 1.925955057144165 seconds, Rows processed = 220000\n",
      "Processing: EcoRegions.geojson against Diapirs.geojson\n"
     ]
    },
    {
     "name": "stderr",
     "output_type": "stream",
     "text": [
      "                                                                                \r"
     ]
    },
    {
     "name": "stdout",
     "output_type": "stream",
     "text": [
      "ST_Distance calculation: Duration = 2.0211968421936035 seconds, Rows processed = 1692500\n"
     ]
    },
    {
     "name": "stderr",
     "output_type": "stream",
     "text": [
      "                                                                                \r"
     ]
    },
    {
     "name": "stdout",
     "output_type": "stream",
     "text": [
      "ST_HausdorffDistance calculation: Duration = 1.9806456565856934 seconds, Rows processed = 1692500\n"
     ]
    },
    {
     "name": "stderr",
     "output_type": "stream",
     "text": [
      "                                                                                \r"
     ]
    },
    {
     "name": "stdout",
     "output_type": "stream",
     "text": [
      "ST_FrechetDistance calculation: Duration = 1.8941795825958252 seconds, Rows processed = 1692500\n",
      "Processing: EcoRegions.geojson against Dikes_sills.geojson\n"
     ]
    },
    {
     "name": "stderr",
     "output_type": "stream",
     "text": [
      "                                                                                \r"
     ]
    },
    {
     "name": "stdout",
     "output_type": "stream",
     "text": [
      "ST_Distance calculation: Duration = 1.9649231433868408 seconds, Rows processed = 4507500\n"
     ]
    },
    {
     "name": "stderr",
     "output_type": "stream",
     "text": [
      "                                                                                \r"
     ]
    },
    {
     "name": "stdout",
     "output_type": "stream",
     "text": [
      "ST_HausdorffDistance calculation: Duration = 11.774805784225464 seconds, Rows processed = 4507500\n"
     ]
    },
    {
     "name": "stderr",
     "output_type": "stream",
     "text": [
      "                                                                                \r"
     ]
    },
    {
     "name": "stdout",
     "output_type": "stream",
     "text": [
      "ST_FrechetDistance calculation: Duration = 2.0908467769622803 seconds, Rows processed = 4507500\n",
      "Processing: EcoRegions.geojson against Faults.geojson\n"
     ]
    },
    {
     "name": "stderr",
     "output_type": "stream",
     "text": [
      "                                                                                \r"
     ]
    },
    {
     "name": "stdout",
     "output_type": "stream",
     "text": [
      "ST_Distance calculation: Duration = 4.158665657043457 seconds, Rows processed = 15530000\n"
     ]
    },
    {
     "name": "stderr",
     "output_type": "stream",
     "text": [
      "                                                                                \r"
     ]
    },
    {
     "name": "stdout",
     "output_type": "stream",
     "text": [
      "ST_HausdorffDistance calculation: Duration = 2.334275960922241 seconds, Rows processed = 15530000\n"
     ]
    },
    {
     "name": "stderr",
     "output_type": "stream",
     "text": [
      "                                                                                \r"
     ]
    },
    {
     "name": "stdout",
     "output_type": "stream",
     "text": [
      "ST_FrechetDistance calculation: Duration = 12.058207988739014 seconds, Rows processed = 15530000\n",
      "Processing: EcoRegions.geojson against Gas_fluid_seep.geojson\n"
     ]
    },
    {
     "name": "stderr",
     "output_type": "stream",
     "text": [
      "                                                                                \r"
     ]
    },
    {
     "name": "stdout",
     "output_type": "stream",
     "text": [
      "ST_Distance calculation: Duration = 1.9452595710754395 seconds, Rows processed = 47500\n"
     ]
    },
    {
     "name": "stderr",
     "output_type": "stream",
     "text": [
      "                                                                                \r"
     ]
    },
    {
     "name": "stdout",
     "output_type": "stream",
     "text": [
      "ST_HausdorffDistance calculation: Duration = 2.110330581665039 seconds, Rows processed = 47500\n"
     ]
    },
    {
     "name": "stderr",
     "output_type": "stream",
     "text": [
      "                                                                                \r"
     ]
    },
    {
     "name": "stdout",
     "output_type": "stream",
     "text": [
      "ST_FrechetDistance calculation: Duration = 11.708468198776245 seconds, Rows processed = 47500\n",
      "Processing: EcoRegions.geojson against Gas_oil_seep.geojson\n"
     ]
    },
    {
     "name": "stderr",
     "output_type": "stream",
     "text": [
      "                                                                                \r"
     ]
    },
    {
     "name": "stdout",
     "output_type": "stream",
     "text": [
      "ST_Distance calculation: Duration = 11.708481073379517 seconds, Rows processed = 3750\n"
     ]
    },
    {
     "name": "stderr",
     "output_type": "stream",
     "text": [
      "                                                                                \r"
     ]
    },
    {
     "name": "stdout",
     "output_type": "stream",
     "text": [
      "ST_HausdorffDistance calculation: Duration = 11.723207473754883 seconds, Rows processed = 3750\n"
     ]
    },
    {
     "name": "stderr",
     "output_type": "stream",
     "text": [
      "                                                                                \r"
     ]
    },
    {
     "name": "stdout",
     "output_type": "stream",
     "text": [
      "ST_FrechetDistance calculation: Duration = 1.9572577476501465 seconds, Rows processed = 3750\n",
      "Processing: EcoRegions.geojson against Geologic_contacts.geojson\n"
     ]
    },
    {
     "name": "stderr",
     "output_type": "stream",
     "text": [
      "                                                                                \r"
     ]
    },
    {
     "name": "stdout",
     "output_type": "stream",
     "text": [
      "ST_Distance calculation: Duration = 3.890965461730957 seconds, Rows processed = 66695000\n"
     ]
    },
    {
     "name": "stderr",
     "output_type": "stream",
     "text": [
      "                                                                                \r"
     ]
    },
    {
     "name": "stdout",
     "output_type": "stream",
     "text": [
      "ST_HausdorffDistance calculation: Duration = 14.584925174713135 seconds, Rows processed = 66695000\n"
     ]
    },
    {
     "name": "stderr",
     "output_type": "stream",
     "text": [
      "                                                                                \r"
     ]
    },
    {
     "name": "stdout",
     "output_type": "stream",
     "text": [
      "ST_FrechetDistance calculation: Duration = 3.9238078594207764 seconds, Rows processed = 66695000\n",
      "Processing: EcoRegions.geojson against Geologic_overprints.geojson\n"
     ]
    },
    {
     "name": "stderr",
     "output_type": "stream",
     "text": [
      "                                                                                \r"
     ]
    },
    {
     "name": "stdout",
     "output_type": "stream",
     "text": [
      "ST_Distance calculation: Duration = 2.28005051612854 seconds, Rows processed = 2340000\n"
     ]
    },
    {
     "name": "stderr",
     "output_type": "stream",
     "text": [
      "                                                                                \r"
     ]
    },
    {
     "name": "stdout",
     "output_type": "stream",
     "text": [
      "ST_HausdorffDistance calculation: Duration = 2.4339611530303955 seconds, Rows processed = 2340000\n"
     ]
    },
    {
     "name": "stderr",
     "output_type": "stream",
     "text": [
      "                                                                                \r"
     ]
    },
    {
     "name": "stdout",
     "output_type": "stream",
     "text": [
      "ST_FrechetDistance calculation: Duration = 2.299774169921875 seconds, Rows processed = 2340000\n",
      "Processing: EcoRegions.geojson against Geologic_units.geojson\n"
     ]
    },
    {
     "name": "stderr",
     "output_type": "stream",
     "text": [
      "                                                                                \r"
     ]
    },
    {
     "name": "stdout",
     "output_type": "stream",
     "text": [
      "ST_Distance calculation: Duration = 7.254859447479248 seconds, Rows processed = 49785000\n"
     ]
    },
    {
     "name": "stderr",
     "output_type": "stream",
     "text": [
      "24/04/22 12:47:45 ERROR TaskSchedulerImpl: Lost executor 8 on 129.82.44.142: Command exited with code 52\n",
      "                                                                                \r"
     ]
    },
    {
     "name": "stdout",
     "output_type": "stream",
     "text": [
      "ST_HausdorffDistance calculation: Duration = 50.46161127090454 seconds, Rows processed = 49785000\n"
     ]
    },
    {
     "name": "stderr",
     "output_type": "stream",
     "text": [
      "                                                                                \r"
     ]
    },
    {
     "name": "stdout",
     "output_type": "stream",
     "text": [
      "ST_FrechetDistance calculation: Duration = 6.653622627258301 seconds, Rows processed = 49785000\n",
      "Processing: EcoRegions.geojson against Glaciation_extents.geojson\n"
     ]
    },
    {
     "name": "stderr",
     "output_type": "stream",
     "text": [
      "                                                                                \r"
     ]
    },
    {
     "name": "stdout",
     "output_type": "stream",
     "text": [
      "ST_Distance calculation: Duration = 2.099210262298584 seconds, Rows processed = 31250\n"
     ]
    },
    {
     "name": "stderr",
     "output_type": "stream",
     "text": [
      "                                                                                \r"
     ]
    },
    {
     "name": "stdout",
     "output_type": "stream",
     "text": [
      "ST_HausdorffDistance calculation: Duration = 2.0828113555908203 seconds, Rows processed = 31250\n"
     ]
    },
    {
     "name": "stderr",
     "output_type": "stream",
     "text": [
      "                                                                                \r"
     ]
    },
    {
     "name": "stdout",
     "output_type": "stream",
     "text": [
      "ST_FrechetDistance calculation: Duration = 2.1017630100250244 seconds, Rows processed = 31250\n",
      "Processing: EcoRegions.geojson against Hydrothermal_vents.geojson\n"
     ]
    },
    {
     "name": "stderr",
     "output_type": "stream",
     "text": [
      "                                                                                \r"
     ]
    },
    {
     "name": "stdout",
     "output_type": "stream",
     "text": [
      "ST_Distance calculation: Duration = 2.0437240600585938 seconds, Rows processed = 61250\n"
     ]
    },
    {
     "name": "stderr",
     "output_type": "stream",
     "text": [
      "                                                                                \r"
     ]
    },
    {
     "name": "stdout",
     "output_type": "stream",
     "text": [
      "ST_HausdorffDistance calculation: Duration = 1.9520695209503174 seconds, Rows processed = 61250\n"
     ]
    },
    {
     "name": "stderr",
     "output_type": "stream",
     "text": [
      "                                                                                \r"
     ]
    },
    {
     "name": "stdout",
     "output_type": "stream",
     "text": [
      "ST_FrechetDistance calculation: Duration = 2.030956983566284 seconds, Rows processed = 61250\n",
      "Processing: EcoRegions.geojson against Impact_structure_great_10_KM.geojson\n"
     ]
    },
    {
     "name": "stderr",
     "output_type": "stream",
     "text": [
      "                                                                                \r"
     ]
    },
    {
     "name": "stdout",
     "output_type": "stream",
     "text": [
      "ST_Distance calculation: Duration = 1.9314944744110107 seconds, Rows processed = 38750\n"
     ]
    },
    {
     "name": "stderr",
     "output_type": "stream",
     "text": [
      "                                                                                \r"
     ]
    },
    {
     "name": "stdout",
     "output_type": "stream",
     "text": [
      "ST_HausdorffDistance calculation: Duration = 1.9345736503601074 seconds, Rows processed = 38750\n"
     ]
    },
    {
     "name": "stderr",
     "output_type": "stream",
     "text": [
      "                                                                                \r"
     ]
    },
    {
     "name": "stdout",
     "output_type": "stream",
     "text": [
      "ST_FrechetDistance calculation: Duration = 3.5374975204467773 seconds, Rows processed = 38750\n",
      "Processing: EcoRegions.geojson against Impact_structure_less_10_KM.geojson\n"
     ]
    },
    {
     "name": "stderr",
     "output_type": "stream",
     "text": [
      "                                                                                \r"
     ]
    },
    {
     "name": "stdout",
     "output_type": "stream",
     "text": [
      "ST_Distance calculation: Duration = 1.938858985900879 seconds, Rows processed = 31250\n"
     ]
    },
    {
     "name": "stderr",
     "output_type": "stream",
     "text": [
      "                                                                                \r"
     ]
    },
    {
     "name": "stdout",
     "output_type": "stream",
     "text": [
      "ST_HausdorffDistance calculation: Duration = 2.002755880355835 seconds, Rows processed = 31250\n"
     ]
    },
    {
     "name": "stderr",
     "output_type": "stream",
     "text": [
      "                                                                                \r"
     ]
    },
    {
     "name": "stdout",
     "output_type": "stream",
     "text": [
      "ST_FrechetDistance calculation: Duration = 2.0214521884918213 seconds, Rows processed = 31250\n",
      "Processing: EcoRegions.geojson against Maganifeorus_deposits.geojson\n"
     ]
    },
    {
     "name": "stderr",
     "output_type": "stream",
     "text": [
      "                                                                                \r"
     ]
    },
    {
     "name": "stdout",
     "output_type": "stream",
     "text": [
      "ST_Distance calculation: Duration = 1.962153434753418 seconds, Rows processed = 671250\n"
     ]
    },
    {
     "name": "stderr",
     "output_type": "stream",
     "text": [
      "                                                                                \r"
     ]
    },
    {
     "name": "stdout",
     "output_type": "stream",
     "text": [
      "ST_HausdorffDistance calculation: Duration = 1.8390369415283203 seconds, Rows processed = 671250\n"
     ]
    },
    {
     "name": "stderr",
     "output_type": "stream",
     "text": [
      "                                                                                \r"
     ]
    },
    {
     "name": "stdout",
     "output_type": "stream",
     "text": [
      "ST_FrechetDistance calculation: Duration = 2.0358262062072754 seconds, Rows processed = 671250\n",
      "Processing: EcoRegions.geojson against Phosphate_nodules_pavement.geojson\n"
     ]
    },
    {
     "name": "stderr",
     "output_type": "stream",
     "text": [
      "                                                                                \r"
     ]
    },
    {
     "name": "stdout",
     "output_type": "stream",
     "text": [
      "ST_Distance calculation: Duration = 11.857586145401001 seconds, Rows processed = 698750\n"
     ]
    },
    {
     "name": "stderr",
     "output_type": "stream",
     "text": [
      "                                                                                \r"
     ]
    },
    {
     "name": "stdout",
     "output_type": "stream",
     "text": [
      "ST_HausdorffDistance calculation: Duration = 1.8807411193847656 seconds, Rows processed = 698750\n"
     ]
    },
    {
     "name": "stderr",
     "output_type": "stream",
     "text": [
      "                                                                                \r"
     ]
    },
    {
     "name": "stdout",
     "output_type": "stream",
     "text": [
      "ST_FrechetDistance calculation: Duration = 11.730194091796875 seconds, Rows processed = 698750\n",
      "Processing: EcoRegions.geojson against Polymetallic_sulfide_deposits.geojson\n"
     ]
    },
    {
     "name": "stderr",
     "output_type": "stream",
     "text": [
      "                                                                                \r"
     ]
    },
    {
     "name": "stdout",
     "output_type": "stream",
     "text": [
      "ST_Distance calculation: Duration = 11.769022464752197 seconds, Rows processed = 16250\n"
     ]
    },
    {
     "name": "stderr",
     "output_type": "stream",
     "text": [
      "                                                                                \r"
     ]
    },
    {
     "name": "stdout",
     "output_type": "stream",
     "text": [
      "ST_HausdorffDistance calculation: Duration = 1.96085786819458 seconds, Rows processed = 16250\n"
     ]
    },
    {
     "name": "stderr",
     "output_type": "stream",
     "text": [
      "                                                                                \r"
     ]
    },
    {
     "name": "stdout",
     "output_type": "stream",
     "text": [
      "ST_FrechetDistance calculation: Duration = 2.10031795501709 seconds, Rows processed = 16250\n",
      "Processing: EcoRegions.geojson against Rock_in_seafloor_sample.geojson\n"
     ]
    },
    {
     "name": "stderr",
     "output_type": "stream",
     "text": [
      "                                                                                \r"
     ]
    },
    {
     "name": "stdout",
     "output_type": "stream",
     "text": [
      "ST_Distance calculation: Duration = 1.8840434551239014 seconds, Rows processed = 62500\n"
     ]
    },
    {
     "name": "stderr",
     "output_type": "stream",
     "text": [
      "                                                                                \r"
     ]
    },
    {
     "name": "stdout",
     "output_type": "stream",
     "text": [
      "ST_HausdorffDistance calculation: Duration = 11.728398561477661 seconds, Rows processed = 62500\n"
     ]
    },
    {
     "name": "stderr",
     "output_type": "stream",
     "text": [
      "                                                                                \r"
     ]
    },
    {
     "name": "stdout",
     "output_type": "stream",
     "text": [
      "ST_FrechetDistance calculation: Duration = 2.042083501815796 seconds, Rows processed = 62500\n",
      "Processing: EcoRegions.geojson against Special_submarine_features.geojson\n"
     ]
    },
    {
     "name": "stderr",
     "output_type": "stream",
     "text": [
      "                                                                                \r"
     ]
    },
    {
     "name": "stdout",
     "output_type": "stream",
     "text": [
      "ST_Distance calculation: Duration = 2.0263843536376953 seconds, Rows processed = 3451250\n"
     ]
    },
    {
     "name": "stderr",
     "output_type": "stream",
     "text": [
      "                                                                                \r"
     ]
    },
    {
     "name": "stdout",
     "output_type": "stream",
     "text": [
      "ST_HausdorffDistance calculation: Duration = 2.1857545375823975 seconds, Rows processed = 3451250\n"
     ]
    },
    {
     "name": "stderr",
     "output_type": "stream",
     "text": [
      "                                                                                \r"
     ]
    },
    {
     "name": "stdout",
     "output_type": "stream",
     "text": [
      "ST_FrechetDistance calculation: Duration = 2.5869803428649902 seconds, Rows processed = 3451250\n",
      "Processing: EcoRegions.geojson against Volcanoes.geojson\n"
     ]
    },
    {
     "name": "stderr",
     "output_type": "stream",
     "text": [
      "                                                                                \r"
     ]
    },
    {
     "name": "stdout",
     "output_type": "stream",
     "text": [
      "ST_Distance calculation: Duration = 2.076991081237793 seconds, Rows processed = 762500\n"
     ]
    },
    {
     "name": "stderr",
     "output_type": "stream",
     "text": [
      "                                                                                \r"
     ]
    },
    {
     "name": "stdout",
     "output_type": "stream",
     "text": [
      "ST_HausdorffDistance calculation: Duration = 1.9520924091339111 seconds, Rows processed = 762500\n"
     ]
    },
    {
     "name": "stderr",
     "output_type": "stream",
     "text": [
      "                                                                                \r"
     ]
    },
    {
     "name": "stdout",
     "output_type": "stream",
     "text": [
      "ST_FrechetDistance calculation: Duration = 1.9590096473693848 seconds, Rows processed = 762500\n",
      "Processing: EcoRegions.geojson against WorldContinents.geojson\n"
     ]
    },
    {
     "name": "stderr",
     "output_type": "stream",
     "text": [
      "                                                                                \r"
     ]
    },
    {
     "name": "stdout",
     "output_type": "stream",
     "text": [
      "ST_Distance calculation: Duration = 1.9859225749969482 seconds, Rows processed = 10000\n"
     ]
    },
    {
     "name": "stderr",
     "output_type": "stream",
     "text": [
      "                                                                                \r"
     ]
    },
    {
     "name": "stdout",
     "output_type": "stream",
     "text": [
      "ST_HausdorffDistance calculation: Duration = 1.9333021640777588 seconds, Rows processed = 10000\n"
     ]
    },
    {
     "name": "stderr",
     "output_type": "stream",
     "text": [
      "                                                                                \r"
     ]
    },
    {
     "name": "stdout",
     "output_type": "stream",
     "text": [
      "ST_FrechetDistance calculation: Duration = 2.1383819580078125 seconds, Rows processed = 10000\n",
      "Processing: EcoRegions.geojson against cb_2018_us_state_20m.json\n"
     ]
    },
    {
     "name": "stderr",
     "output_type": "stream",
     "text": [
      "                                                                                \r"
     ]
    },
    {
     "name": "stdout",
     "output_type": "stream",
     "text": [
      "ST_Distance calculation: Duration = 11.891412019729614 seconds, Rows processed = 65000\n"
     ]
    },
    {
     "name": "stderr",
     "output_type": "stream",
     "text": [
      "                                                                                \r"
     ]
    },
    {
     "name": "stdout",
     "output_type": "stream",
     "text": [
      "ST_HausdorffDistance calculation: Duration = 11.740746021270752 seconds, Rows processed = 65000\n"
     ]
    },
    {
     "name": "stderr",
     "output_type": "stream",
     "text": [
      "                                                                                \r"
     ]
    },
    {
     "name": "stdout",
     "output_type": "stream",
     "text": [
      "ST_FrechetDistance calculation: Duration = 2.0937318801879883 seconds, Rows processed = 65000\n",
      "Processing: GeographicRegions.geojson against AgriculturalArea.geojson\n"
     ]
    },
    {
     "name": "stderr",
     "output_type": "stream",
     "text": [
      "                                                                                \r"
     ]
    },
    {
     "name": "stdout",
     "output_type": "stream",
     "text": [
      "ST_Distance calculation: Duration = 0.880164384841919 seconds, Rows processed = 3223500\n",
      "ST_HausdorffDistance calculation: Duration = 0.6593115329742432 seconds, Rows processed = 3223500\n",
      "ST_FrechetDistance calculation: Duration = 0.8844819068908691 seconds, Rows processed = 3223500\n",
      "Processing: GeographicRegions.geojson against CityBoundaries.geojson\n"
     ]
    },
    {
     "name": "stderr",
     "output_type": "stream",
     "text": [
      "                                                                                \r"
     ]
    },
    {
     "name": "stdout",
     "output_type": "stream",
     "text": [
      "ST_Distance calculation: Duration = 1.0165495872497559 seconds, Rows processed = 525000\n"
     ]
    },
    {
     "name": "stderr",
     "output_type": "stream",
     "text": [
      "                                                                                \r"
     ]
    },
    {
     "name": "stdout",
     "output_type": "stream",
     "text": [
      "ST_HausdorffDistance calculation: Duration = 1.0522115230560303 seconds, Rows processed = 525000\n"
     ]
    },
    {
     "name": "stderr",
     "output_type": "stream",
     "text": [
      "                                                                                \r"
     ]
    },
    {
     "name": "stdout",
     "output_type": "stream",
     "text": [
      "ST_FrechetDistance calculation: Duration = 1.012035846710205 seconds, Rows processed = 525000\n",
      "Processing: GeographicRegions.geojson against CountryTerritories.geojson\n"
     ]
    },
    {
     "name": "stderr",
     "output_type": "stream",
     "text": [
      "                                                                                \r"
     ]
    },
    {
     "name": "stdout",
     "output_type": "stream",
     "text": [
      "ST_Distance calculation: Duration = 0.9276688098907471 seconds, Rows processed = 268800\n"
     ]
    },
    {
     "name": "stderr",
     "output_type": "stream",
     "text": [
      "                                                                                \r"
     ]
    },
    {
     "name": "stdout",
     "output_type": "stream",
     "text": [
      "ST_HausdorffDistance calculation: Duration = 0.9280962944030762 seconds, Rows processed = 268800\n"
     ]
    },
    {
     "name": "stderr",
     "output_type": "stream",
     "text": [
      "                                                                                \r"
     ]
    },
    {
     "name": "stdout",
     "output_type": "stream",
     "text": [
      "ST_FrechetDistance calculation: Duration = 0.9586942195892334 seconds, Rows processed = 268800\n",
      "Processing: GeographicRegions.geojson against EcoRegions.geojson\n"
     ]
    },
    {
     "name": "stderr",
     "output_type": "stream",
     "text": [
      "                                                                                \r"
     ]
    },
    {
     "name": "stdout",
     "output_type": "stream",
     "text": [
      "ST_Distance calculation: Duration = 2.694105625152588 seconds, Rows processed = 1312500\n"
     ]
    },
    {
     "name": "stderr",
     "output_type": "stream",
     "text": [
      "                                                                                \r"
     ]
    },
    {
     "name": "stdout",
     "output_type": "stream",
     "text": [
      "ST_HausdorffDistance calculation: Duration = 11.870611429214478 seconds, Rows processed = 1312500\n"
     ]
    },
    {
     "name": "stderr",
     "output_type": "stream",
     "text": [
      "                                                                                \r"
     ]
    },
    {
     "name": "stdout",
     "output_type": "stream",
     "text": [
      "ST_FrechetDistance calculation: Duration = 2.091559410095215 seconds, Rows processed = 1312500\n",
      "Processing: GeographicRegions.geojson against Areas_diapiric_structures.geojson\n",
      "ST_Distance calculation: Duration = 0.2031240463256836 seconds, Rows processed = 80850\n",
      "ST_HausdorffDistance calculation: Duration = 0.3048529624938965 seconds, Rows processed = 80850\n",
      "ST_FrechetDistance calculation: Duration = 0.2087416648864746 seconds, Rows processed = 80850\n",
      "Processing: GeographicRegions.geojson against Bathymetry.geojson\n",
      "ST_Distance calculation: Duration = 0.7381231784820557 seconds, Rows processed = 2572500\n"
     ]
    },
    {
     "name": "stderr",
     "output_type": "stream",
     "text": [
      "                                                                                \r"
     ]
    },
    {
     "name": "stdout",
     "output_type": "stream",
     "text": [
      "ST_HausdorffDistance calculation: Duration = 1.3099949359893799 seconds, Rows processed = 2572500\n"
     ]
    },
    {
     "name": "stderr",
     "output_type": "stream",
     "text": [
      "                                                                                \r"
     ]
    },
    {
     "name": "stdout",
     "output_type": "stream",
     "text": [
      "ST_FrechetDistance calculation: Duration = 3.740104913711548 seconds, Rows processed = 2572500\n",
      "Processing: GeographicRegions.geojson against Calderas.geojson\n",
      "ST_Distance calculation: Duration = 0.1790485382080078 seconds, Rows processed = 75600\n",
      "ST_HausdorffDistance calculation: Duration = 0.19395160675048828 seconds, Rows processed = 75600\n",
      "ST_FrechetDistance calculation: Duration = 0.21752452850341797 seconds, Rows processed = 75600\n",
      "Processing: GeographicRegions.geojson against Diapiric_trends.geojson\n",
      "ST_Distance calculation: Duration = 0.20975208282470703 seconds, Rows processed = 184800\n",
      "ST_HausdorffDistance calculation: Duration = 0.20920538902282715 seconds, Rows processed = 184800\n",
      "ST_FrechetDistance calculation: Duration = 0.230393648147583 seconds, Rows processed = 184800\n",
      "Processing: GeographicRegions.geojson against Diapirs.geojson\n",
      "ST_Distance calculation: Duration = 0.2439718246459961 seconds, Rows processed = 1421700\n",
      "ST_HausdorffDistance calculation: Duration = 0.1820535659790039 seconds, Rows processed = 1421700\n",
      "ST_FrechetDistance calculation: Duration = 0.21279597282409668 seconds, Rows processed = 1421700\n",
      "Processing: GeographicRegions.geojson against Dikes_sills.geojson\n",
      "ST_Distance calculation: Duration = 0.25275683403015137 seconds, Rows processed = 3786300\n",
      "ST_HausdorffDistance calculation: Duration = 0.4728572368621826 seconds, Rows processed = 3786300\n",
      "ST_FrechetDistance calculation: Duration = 0.5049722194671631 seconds, Rows processed = 3786300\n",
      "Processing: GeographicRegions.geojson against Faults.geojson\n",
      "ST_Distance calculation: Duration = 0.7665750980377197 seconds, Rows processed = 13045200\n",
      "ST_HausdorffDistance calculation: Duration = 0.5193629264831543 seconds, Rows processed = 13045200\n",
      "ST_FrechetDistance calculation: Duration = 0.7143592834472656 seconds, Rows processed = 13045200\n",
      "Processing: GeographicRegions.geojson against Gas_fluid_seep.geojson\n",
      "ST_Distance calculation: Duration = 0.2727959156036377 seconds, Rows processed = 39900\n",
      "ST_HausdorffDistance calculation: Duration = 0.18879270553588867 seconds, Rows processed = 39900\n",
      "ST_FrechetDistance calculation: Duration = 0.2681591510772705 seconds, Rows processed = 39900\n",
      "Processing: GeographicRegions.geojson against Gas_oil_seep.geojson\n"
     ]
    },
    {
     "name": "stderr",
     "output_type": "stream",
     "text": [
      "                                                                                \r"
     ]
    },
    {
     "name": "stdout",
     "output_type": "stream",
     "text": [
      "ST_Distance calculation: Duration = 0.7462587356567383 seconds, Rows processed = 3150\n",
      "ST_HausdorffDistance calculation: Duration = 0.195267915725708 seconds, Rows processed = 3150\n",
      "ST_FrechetDistance calculation: Duration = 0.18491387367248535 seconds, Rows processed = 3150\n",
      "Processing: GeographicRegions.geojson against Geologic_contacts.geojson\n"
     ]
    },
    {
     "name": "stderr",
     "output_type": "stream",
     "text": [
      "                                                                                \r"
     ]
    },
    {
     "name": "stdout",
     "output_type": "stream",
     "text": [
      "ST_Distance calculation: Duration = 2.877372980117798 seconds, Rows processed = 56023800\n"
     ]
    },
    {
     "name": "stderr",
     "output_type": "stream",
     "text": [
      "                                                                                \r"
     ]
    },
    {
     "name": "stdout",
     "output_type": "stream",
     "text": [
      "ST_HausdorffDistance calculation: Duration = 2.938422203063965 seconds, Rows processed = 56023800\n"
     ]
    },
    {
     "name": "stderr",
     "output_type": "stream",
     "text": [
      "                                                                                \r"
     ]
    },
    {
     "name": "stdout",
     "output_type": "stream",
     "text": [
      "ST_FrechetDistance calculation: Duration = 2.2224879264831543 seconds, Rows processed = 56023800\n",
      "Processing: GeographicRegions.geojson against Geologic_overprints.geojson\n",
      "ST_Distance calculation: Duration = 0.660179853439331 seconds, Rows processed = 1965600\n"
     ]
    },
    {
     "name": "stderr",
     "output_type": "stream",
     "text": [
      "                                                                                \r"
     ]
    },
    {
     "name": "stdout",
     "output_type": "stream",
     "text": [
      "ST_HausdorffDistance calculation: Duration = 2.8784308433532715 seconds, Rows processed = 1965600\n",
      "ST_FrechetDistance calculation: Duration = 0.6281397342681885 seconds, Rows processed = 1965600\n",
      "Processing: GeographicRegions.geojson against Geologic_units.geojson\n"
     ]
    },
    {
     "name": "stderr",
     "output_type": "stream",
     "text": [
      "                                                                                \r"
     ]
    },
    {
     "name": "stdout",
     "output_type": "stream",
     "text": [
      "ST_Distance calculation: Duration = 4.724117994308472 seconds, Rows processed = 41819400\n"
     ]
    },
    {
     "name": "stderr",
     "output_type": "stream",
     "text": [
      "                                                                                \r"
     ]
    },
    {
     "name": "stdout",
     "output_type": "stream",
     "text": [
      "ST_HausdorffDistance calculation: Duration = 4.934129476547241 seconds, Rows processed = 41819400\n"
     ]
    },
    {
     "name": "stderr",
     "output_type": "stream",
     "text": [
      "                                                                                \r"
     ]
    },
    {
     "name": "stdout",
     "output_type": "stream",
     "text": [
      "ST_FrechetDistance calculation: Duration = 4.920376539230347 seconds, Rows processed = 41819400\n",
      "Processing: GeographicRegions.geojson against Glaciation_extents.geojson\n"
     ]
    },
    {
     "name": "stderr",
     "output_type": "stream",
     "text": [
      "                                                                                \r"
     ]
    },
    {
     "name": "stdout",
     "output_type": "stream",
     "text": [
      "ST_Distance calculation: Duration = 0.7648487091064453 seconds, Rows processed = 26250\n",
      "ST_HausdorffDistance calculation: Duration = 0.1958153247833252 seconds, Rows processed = 26250\n"
     ]
    },
    {
     "name": "stderr",
     "output_type": "stream",
     "text": [
      "                                                                                \r"
     ]
    },
    {
     "name": "stdout",
     "output_type": "stream",
     "text": [
      "ST_FrechetDistance calculation: Duration = 0.819828987121582 seconds, Rows processed = 26250\n",
      "Processing: GeographicRegions.geojson against Hydrothermal_vents.geojson\n",
      "ST_Distance calculation: Duration = 0.1981821060180664 seconds, Rows processed = 51450\n",
      "ST_HausdorffDistance calculation: Duration = 0.18233990669250488 seconds, Rows processed = 51450\n",
      "ST_FrechetDistance calculation: Duration = 0.19651293754577637 seconds, Rows processed = 51450\n",
      "Processing: GeographicRegions.geojson against Impact_structure_great_10_KM.geojson\n",
      "ST_Distance calculation: Duration = 0.2151343822479248 seconds, Rows processed = 32550\n",
      "ST_HausdorffDistance calculation: Duration = 0.19723081588745117 seconds, Rows processed = 32550\n",
      "ST_FrechetDistance calculation: Duration = 0.26210737228393555 seconds, Rows processed = 32550\n",
      "Processing: GeographicRegions.geojson against Impact_structure_less_10_KM.geojson\n",
      "ST_Distance calculation: Duration = 0.1954789161682129 seconds, Rows processed = 26250\n",
      "ST_HausdorffDistance calculation: Duration = 0.18662238121032715 seconds, Rows processed = 26250\n",
      "ST_FrechetDistance calculation: Duration = 0.20958876609802246 seconds, Rows processed = 26250\n",
      "Processing: GeographicRegions.geojson against Maganifeorus_deposits.geojson\n",
      "ST_Distance calculation: Duration = 0.2007761001586914 seconds, Rows processed = 563850\n",
      "ST_HausdorffDistance calculation: Duration = 0.20283985137939453 seconds, Rows processed = 563850\n"
     ]
    },
    {
     "name": "stderr",
     "output_type": "stream",
     "text": [
      "[Stage 1628:>                                                       (0 + 1) / 1]\r"
     ]
    },
    {
     "name": "stdout",
     "output_type": "stream",
     "text": [
      "ST_FrechetDistance calculation: Duration = 0.7713251113891602 seconds, Rows processed = 563850\n",
      "Processing: GeographicRegions.geojson against Phosphate_nodules_pavement.geojson\n"
     ]
    },
    {
     "name": "stderr",
     "output_type": "stream",
     "text": [
      "                                                                                \r"
     ]
    },
    {
     "name": "stdout",
     "output_type": "stream",
     "text": [
      "ST_Distance calculation: Duration = 0.19550609588623047 seconds, Rows processed = 586950\n"
     ]
    },
    {
     "name": "stderr",
     "output_type": "stream",
     "text": [
      "                                                                                \r"
     ]
    },
    {
     "name": "stdout",
     "output_type": "stream",
     "text": [
      "ST_HausdorffDistance calculation: Duration = 0.757012128829956 seconds, Rows processed = 586950\n",
      "ST_FrechetDistance calculation: Duration = 0.2203972339630127 seconds, Rows processed = 586950\n",
      "Processing: GeographicRegions.geojson against Polymetallic_sulfide_deposits.geojson\n",
      "ST_Distance calculation: Duration = 0.18629002571105957 seconds, Rows processed = 13650\n"
     ]
    },
    {
     "name": "stderr",
     "output_type": "stream",
     "text": [
      "                                                                                \r"
     ]
    },
    {
     "name": "stdout",
     "output_type": "stream",
     "text": [
      "ST_HausdorffDistance calculation: Duration = 0.768958330154419 seconds, Rows processed = 13650\n",
      "ST_FrechetDistance calculation: Duration = 0.17878055572509766 seconds, Rows processed = 13650\n",
      "Processing: GeographicRegions.geojson against Rock_in_seafloor_sample.geojson\n"
     ]
    },
    {
     "name": "stderr",
     "output_type": "stream",
     "text": [
      "                                                                                \r"
     ]
    },
    {
     "name": "stdout",
     "output_type": "stream",
     "text": [
      "ST_Distance calculation: Duration = 0.7665083408355713 seconds, Rows processed = 52500\n",
      "ST_HausdorffDistance calculation: Duration = 0.18580031394958496 seconds, Rows processed = 52500\n",
      "ST_FrechetDistance calculation: Duration = 0.20372271537780762 seconds, Rows processed = 52500\n",
      "Processing: GeographicRegions.geojson against Special_submarine_features.geojson\n",
      "ST_Distance calculation: Duration = 0.27332210540771484 seconds, Rows processed = 2899050\n",
      "ST_HausdorffDistance calculation: Duration = 0.3018918037414551 seconds, Rows processed = 2899050\n",
      "ST_FrechetDistance calculation: Duration = 0.31421995162963867 seconds, Rows processed = 2899050\n",
      "Processing: GeographicRegions.geojson against Volcanoes.geojson\n",
      "ST_Distance calculation: Duration = 0.17729735374450684 seconds, Rows processed = 640500\n",
      "ST_HausdorffDistance calculation: Duration = 0.20560026168823242 seconds, Rows processed = 640500\n",
      "ST_FrechetDistance calculation: Duration = 0.1796879768371582 seconds, Rows processed = 640500\n",
      "Processing: GeographicRegions.geojson against WorldContinents.geojson\n"
     ]
    },
    {
     "name": "stderr",
     "output_type": "stream",
     "text": [
      "                                                                                \r"
     ]
    },
    {
     "name": "stdout",
     "output_type": "stream",
     "text": [
      "ST_Distance calculation: Duration = 0.8571875095367432 seconds, Rows processed = 8400\n",
      "ST_HausdorffDistance calculation: Duration = 0.27515363693237305 seconds, Rows processed = 8400\n",
      "ST_FrechetDistance calculation: Duration = 0.27761030197143555 seconds, Rows processed = 8400\n",
      "Processing: GeographicRegions.geojson against cb_2018_us_state_20m.json\n",
      "ST_Distance calculation: Duration = 0.2273273468017578 seconds, Rows processed = 54600\n",
      "ST_HausdorffDistance calculation: Duration = 0.20939898490905762 seconds, Rows processed = 54600\n",
      "ST_FrechetDistance calculation: Duration = 0.2189171314239502 seconds, Rows processed = 54600\n",
      "Processing: Areas_diapiric_structures.geojson against AgriculturalArea.geojson\n",
      "ST_Distance calculation: Duration = 0.6097207069396973 seconds, Rows processed = 236390\n"
     ]
    },
    {
     "name": "stderr",
     "output_type": "stream",
     "text": [
      "                                                                                \r"
     ]
    },
    {
     "name": "stdout",
     "output_type": "stream",
     "text": [
      "ST_HausdorffDistance calculation: Duration = 0.7803692817687988 seconds, Rows processed = 236390\n"
     ]
    },
    {
     "name": "stderr",
     "output_type": "stream",
     "text": [
      "                                                                                \r"
     ]
    },
    {
     "name": "stdout",
     "output_type": "stream",
     "text": [
      "ST_FrechetDistance calculation: Duration = 0.6314449310302734 seconds, Rows processed = 236390\n",
      "Processing: Areas_diapiric_structures.geojson against CityBoundaries.geojson\n"
     ]
    },
    {
     "name": "stderr",
     "output_type": "stream",
     "text": [
      "                                                                                \r"
     ]
    },
    {
     "name": "stdout",
     "output_type": "stream",
     "text": [
      "ST_Distance calculation: Duration = 0.8958621025085449 seconds, Rows processed = 38500\n"
     ]
    },
    {
     "name": "stderr",
     "output_type": "stream",
     "text": [
      "                                                                                \r"
     ]
    },
    {
     "name": "stdout",
     "output_type": "stream",
     "text": [
      "ST_HausdorffDistance calculation: Duration = 0.9335384368896484 seconds, Rows processed = 38500\n"
     ]
    },
    {
     "name": "stderr",
     "output_type": "stream",
     "text": [
      "                                                                                \r"
     ]
    },
    {
     "name": "stdout",
     "output_type": "stream",
     "text": [
      "ST_FrechetDistance calculation: Duration = 0.9290122985839844 seconds, Rows processed = 38500\n",
      "Processing: Areas_diapiric_structures.geojson against CountryTerritories.geojson\n",
      "ST_Distance calculation: Duration = 0.21997570991516113 seconds, Rows processed = 19712\n",
      "ST_HausdorffDistance calculation: Duration = 0.21487760543823242 seconds, Rows processed = 19712\n",
      "ST_FrechetDistance calculation: Duration = 0.2067863941192627 seconds, Rows processed = 19712\n",
      "Processing: Areas_diapiric_structures.geojson against EcoRegions.geojson\n"
     ]
    },
    {
     "name": "stderr",
     "output_type": "stream",
     "text": [
      "                                                                                \r"
     ]
    },
    {
     "name": "stdout",
     "output_type": "stream",
     "text": [
      "ST_Distance calculation: Duration = 2.0775599479675293 seconds, Rows processed = 96250\n"
     ]
    },
    {
     "name": "stderr",
     "output_type": "stream",
     "text": [
      "                                                                                \r"
     ]
    },
    {
     "name": "stdout",
     "output_type": "stream",
     "text": [
      "ST_HausdorffDistance calculation: Duration = 1.9406838417053223 seconds, Rows processed = 96250\n"
     ]
    },
    {
     "name": "stderr",
     "output_type": "stream",
     "text": [
      "                                                                                \r"
     ]
    },
    {
     "name": "stdout",
     "output_type": "stream",
     "text": [
      "ST_FrechetDistance calculation: Duration = 2.0054988861083984 seconds, Rows processed = 96250\n",
      "Processing: Areas_diapiric_structures.geojson against GeographicRegions.geojson\n",
      "ST_Distance calculation: Duration = 0.2029109001159668 seconds, Rows processed = 80850\n",
      "ST_HausdorffDistance calculation: Duration = 0.202467679977417 seconds, Rows processed = 80850\n",
      "ST_FrechetDistance calculation: Duration = 0.20943951606750488 seconds, Rows processed = 80850\n",
      "Processing: Areas_diapiric_structures.geojson against Bathymetry.geojson\n",
      "ST_Distance calculation: Duration = 0.6811749935150146 seconds, Rows processed = 188650\n",
      "ST_HausdorffDistance calculation: Duration = 0.60066819190979 seconds, Rows processed = 188650\n"
     ]
    },
    {
     "name": "stderr",
     "output_type": "stream",
     "text": [
      "                                                                                \r"
     ]
    },
    {
     "name": "stdout",
     "output_type": "stream",
     "text": [
      "ST_FrechetDistance calculation: Duration = 0.7019565105438232 seconds, Rows processed = 188650\n",
      "Processing: Areas_diapiric_structures.geojson against Calderas.geojson\n",
      "ST_Distance calculation: Duration = 0.165879487991333 seconds, Rows processed = 5544\n",
      "ST_HausdorffDistance calculation: Duration = 0.18275928497314453 seconds, Rows processed = 5544\n",
      "ST_FrechetDistance calculation: Duration = 0.10784435272216797 seconds, Rows processed = 5544\n",
      "Processing: Areas_diapiric_structures.geojson against Diapiric_trends.geojson\n",
      "ST_Distance calculation: Duration = 0.08949708938598633 seconds, Rows processed = 13552\n",
      "ST_HausdorffDistance calculation: Duration = 0.10183191299438477 seconds, Rows processed = 13552\n",
      "ST_FrechetDistance calculation: Duration = 0.11808443069458008 seconds, Rows processed = 13552\n",
      "Processing: Areas_diapiric_structures.geojson against Diapirs.geojson\n",
      "ST_Distance calculation: Duration = 0.08818650245666504 seconds, Rows processed = 104258\n",
      "ST_HausdorffDistance calculation: Duration = 0.12197637557983398 seconds, Rows processed = 104258\n",
      "ST_FrechetDistance calculation: Duration = 0.12972187995910645 seconds, Rows processed = 104258\n",
      "Processing: Areas_diapiric_structures.geojson against Dikes_sills.geojson\n",
      "ST_Distance calculation: Duration = 0.19280076026916504 seconds, Rows processed = 277662\n",
      "ST_HausdorffDistance calculation: Duration = 0.13208889961242676 seconds, Rows processed = 277662\n",
      "ST_FrechetDistance calculation: Duration = 0.12854242324829102 seconds, Rows processed = 277662\n",
      "Processing: Areas_diapiric_structures.geojson against Faults.geojson\n",
      "ST_Distance calculation: Duration = 0.4279818534851074 seconds, Rows processed = 956648\n",
      "ST_HausdorffDistance calculation: Duration = 0.4782712459564209 seconds, Rows processed = 956648\n",
      "ST_FrechetDistance calculation: Duration = 0.5596556663513184 seconds, Rows processed = 956648\n",
      "Processing: Areas_diapiric_structures.geojson against Gas_fluid_seep.geojson\n",
      "ST_Distance calculation: Duration = 0.08867096900939941 seconds, Rows processed = 2926\n",
      "ST_HausdorffDistance calculation: Duration = 0.11167049407958984 seconds, Rows processed = 2926\n",
      "ST_FrechetDistance calculation: Duration = 0.11137723922729492 seconds, Rows processed = 2926\n",
      "Processing: Areas_diapiric_structures.geojson against Gas_oil_seep.geojson\n",
      "ST_Distance calculation: Duration = 0.08938932418823242 seconds, Rows processed = 231\n",
      "ST_HausdorffDistance calculation: Duration = 0.09327912330627441 seconds, Rows processed = 231\n",
      "ST_FrechetDistance calculation: Duration = 0.12833881378173828 seconds, Rows processed = 231\n",
      "Processing: Areas_diapiric_structures.geojson against Geologic_contacts.geojson\n"
     ]
    },
    {
     "name": "stderr",
     "output_type": "stream",
     "text": [
      "                                                                                \r"
     ]
    },
    {
     "name": "stdout",
     "output_type": "stream",
     "text": [
      "ST_Distance calculation: Duration = 1.9376006126403809 seconds, Rows processed = 4108412\n"
     ]
    },
    {
     "name": "stderr",
     "output_type": "stream",
     "text": [
      "                                                                                \r"
     ]
    },
    {
     "name": "stdout",
     "output_type": "stream",
     "text": [
      "ST_HausdorffDistance calculation: Duration = 2.057398796081543 seconds, Rows processed = 4108412\n"
     ]
    },
    {
     "name": "stderr",
     "output_type": "stream",
     "text": [
      "                                                                                \r"
     ]
    },
    {
     "name": "stdout",
     "output_type": "stream",
     "text": [
      "ST_FrechetDistance calculation: Duration = 2.0481605529785156 seconds, Rows processed = 4108412\n",
      "Processing: Areas_diapiric_structures.geojson against Geologic_overprints.geojson\n",
      "ST_Distance calculation: Duration = 0.6211628913879395 seconds, Rows processed = 144144\n",
      "ST_HausdorffDistance calculation: Duration = 0.47645068168640137 seconds, Rows processed = 144144\n"
     ]
    },
    {
     "name": "stderr",
     "output_type": "stream",
     "text": [
      "                                                                                \r"
     ]
    },
    {
     "name": "stdout",
     "output_type": "stream",
     "text": [
      "ST_FrechetDistance calculation: Duration = 2.770719051361084 seconds, Rows processed = 144144\n",
      "Processing: Areas_diapiric_structures.geojson against Geologic_units.geojson\n"
     ]
    },
    {
     "name": "stderr",
     "output_type": "stream",
     "text": [
      "                                                                                \r"
     ]
    },
    {
     "name": "stdout",
     "output_type": "stream",
     "text": [
      "ST_Distance calculation: Duration = 4.800619125366211 seconds, Rows processed = 3066756\n"
     ]
    },
    {
     "name": "stderr",
     "output_type": "stream",
     "text": [
      "                                                                                \r"
     ]
    },
    {
     "name": "stdout",
     "output_type": "stream",
     "text": [
      "ST_HausdorffDistance calculation: Duration = 4.904538154602051 seconds, Rows processed = 3066756\n"
     ]
    },
    {
     "name": "stderr",
     "output_type": "stream",
     "text": [
      "                                                                                \r"
     ]
    },
    {
     "name": "stdout",
     "output_type": "stream",
     "text": [
      "ST_FrechetDistance calculation: Duration = 14.5949227809906 seconds, Rows processed = 3066756\n",
      "Processing: Areas_diapiric_structures.geojson against Glaciation_extents.geojson\n",
      "ST_Distance calculation: Duration = 0.0921933650970459 seconds, Rows processed = 1925\n",
      "ST_HausdorffDistance calculation: Duration = 0.09242630004882812 seconds, Rows processed = 1925\n",
      "ST_FrechetDistance calculation: Duration = 0.0850214958190918 seconds, Rows processed = 1925\n",
      "Processing: Areas_diapiric_structures.geojson against Hydrothermal_vents.geojson\n",
      "ST_Distance calculation: Duration = 0.15662837028503418 seconds, Rows processed = 3773\n",
      "ST_HausdorffDistance calculation: Duration = 0.09095239639282227 seconds, Rows processed = 3773\n",
      "ST_FrechetDistance calculation: Duration = 0.11250448226928711 seconds, Rows processed = 3773\n",
      "Processing: Areas_diapiric_structures.geojson against Impact_structure_great_10_KM.geojson\n",
      "ST_Distance calculation: Duration = 0.17359185218811035 seconds, Rows processed = 2387\n",
      "ST_HausdorffDistance calculation: Duration = 0.11173439025878906 seconds, Rows processed = 2387\n",
      "ST_FrechetDistance calculation: Duration = 0.15638065338134766 seconds, Rows processed = 2387\n",
      "Processing: Areas_diapiric_structures.geojson against Impact_structure_less_10_KM.geojson\n",
      "ST_Distance calculation: Duration = 0.09945082664489746 seconds, Rows processed = 1925\n",
      "ST_HausdorffDistance calculation: Duration = 0.08450651168823242 seconds, Rows processed = 1925\n",
      "ST_FrechetDistance calculation: Duration = 0.08677887916564941 seconds, Rows processed = 1925\n",
      "Processing: Areas_diapiric_structures.geojson against Maganifeorus_deposits.geojson\n",
      "ST_Distance calculation: Duration = 0.09808182716369629 seconds, Rows processed = 41349\n",
      "ST_HausdorffDistance calculation: Duration = 0.11036205291748047 seconds, Rows processed = 41349\n",
      "ST_FrechetDistance calculation: Duration = 0.09004497528076172 seconds, Rows processed = 41349\n",
      "Processing: Areas_diapiric_structures.geojson against Phosphate_nodules_pavement.geojson\n",
      "ST_Distance calculation: Duration = 0.10054850578308105 seconds, Rows processed = 43043\n",
      "ST_HausdorffDistance calculation: Duration = 0.0993196964263916 seconds, Rows processed = 43043\n",
      "ST_FrechetDistance calculation: Duration = 0.15494084358215332 seconds, Rows processed = 43043\n",
      "Processing: Areas_diapiric_structures.geojson against Polymetallic_sulfide_deposits.geojson\n",
      "ST_Distance calculation: Duration = 0.09644126892089844 seconds, Rows processed = 1001\n",
      "ST_HausdorffDistance calculation: Duration = 0.08844304084777832 seconds, Rows processed = 1001\n",
      "ST_FrechetDistance calculation: Duration = 0.0775156021118164 seconds, Rows processed = 1001\n",
      "Processing: Areas_diapiric_structures.geojson against Rock_in_seafloor_sample.geojson\n",
      "ST_Distance calculation: Duration = 0.08263802528381348 seconds, Rows processed = 3850\n",
      "ST_HausdorffDistance calculation: Duration = 0.10774922370910645 seconds, Rows processed = 3850\n",
      "ST_FrechetDistance calculation: Duration = 0.19491958618164062 seconds, Rows processed = 3850\n",
      "Processing: Areas_diapiric_structures.geojson against Special_submarine_features.geojson\n",
      "ST_Distance calculation: Duration = 0.6521127223968506 seconds, Rows processed = 212597\n"
     ]
    },
    {
     "name": "stderr",
     "output_type": "stream",
     "text": [
      "                                                                                \r"
     ]
    },
    {
     "name": "stdout",
     "output_type": "stream",
     "text": [
      "ST_HausdorffDistance calculation: Duration = 0.6228816509246826 seconds, Rows processed = 212597\n"
     ]
    },
    {
     "name": "stderr",
     "output_type": "stream",
     "text": [
      "                                                                                \r"
     ]
    },
    {
     "name": "stdout",
     "output_type": "stream",
     "text": [
      "ST_FrechetDistance calculation: Duration = 0.616030216217041 seconds, Rows processed = 212597\n",
      "Processing: Areas_diapiric_structures.geojson against Volcanoes.geojson\n",
      "ST_Distance calculation: Duration = 0.0866694450378418 seconds, Rows processed = 46970\n",
      "ST_HausdorffDistance calculation: Duration = 0.10192751884460449 seconds, Rows processed = 46970\n",
      "ST_FrechetDistance calculation: Duration = 0.08006763458251953 seconds, Rows processed = 46970\n",
      "Processing: Areas_diapiric_structures.geojson against WorldContinents.geojson\n",
      "ST_Distance calculation: Duration = 0.6745784282684326 seconds, Rows processed = 616\n",
      "ST_HausdorffDistance calculation: Duration = 0.16147661209106445 seconds, Rows processed = 616\n",
      "ST_FrechetDistance calculation: Duration = 0.18175387382507324 seconds, Rows processed = 616\n",
      "Processing: Areas_diapiric_structures.geojson against cb_2018_us_state_20m.json\n",
      "ST_Distance calculation: Duration = 0.18089509010314941 seconds, Rows processed = 4004\n",
      "ST_HausdorffDistance calculation: Duration = 0.09003019332885742 seconds, Rows processed = 4004\n",
      "ST_FrechetDistance calculation: Duration = 0.11738824844360352 seconds, Rows processed = 4004\n",
      "Processing: Bathymetry.geojson against AgriculturalArea.geojson\n",
      "ST_Distance calculation: Duration = 1.0877137184143066 seconds, Rows processed = 7521500\n"
     ]
    },
    {
     "name": "stderr",
     "output_type": "stream",
     "text": [
      "[Stage 2056:>                                                       (0 + 1) / 1]\r"
     ]
    },
    {
     "name": "stdout",
     "output_type": "stream",
     "text": [
      "ST_HausdorffDistance calculation: Duration = 9.432408809661865 seconds, Rows processed = 7521500\n"
     ]
    },
    {
     "name": "stderr",
     "output_type": "stream",
     "text": [
      "                                                                                \r"
     ]
    },
    {
     "name": "stdout",
     "output_type": "stream",
     "text": [
      "ST_FrechetDistance calculation: Duration = 1.3125989437103271 seconds, Rows processed = 7521500\n",
      "Processing: Bathymetry.geojson against CityBoundaries.geojson\n"
     ]
    },
    {
     "name": "stderr",
     "output_type": "stream",
     "text": [
      "                                                                                \r"
     ]
    },
    {
     "name": "stdout",
     "output_type": "stream",
     "text": [
      "ST_Distance calculation: Duration = 1.4429433345794678 seconds, Rows processed = 1225000\n"
     ]
    },
    {
     "name": "stderr",
     "output_type": "stream",
     "text": [
      "                                                                                \r"
     ]
    },
    {
     "name": "stdout",
     "output_type": "stream",
     "text": [
      "ST_HausdorffDistance calculation: Duration = 1.454378366470337 seconds, Rows processed = 1225000\n"
     ]
    },
    {
     "name": "stderr",
     "output_type": "stream",
     "text": [
      "                                                                                \r"
     ]
    },
    {
     "name": "stdout",
     "output_type": "stream",
     "text": [
      "ST_FrechetDistance calculation: Duration = 1.4835994243621826 seconds, Rows processed = 1225000\n",
      "Processing: Bathymetry.geojson against CountryTerritories.geojson\n",
      "ST_Distance calculation: Duration = 0.7587757110595703 seconds, Rows processed = 627200\n"
     ]
    },
    {
     "name": "stderr",
     "output_type": "stream",
     "text": [
      "                                                                                \r"
     ]
    },
    {
     "name": "stdout",
     "output_type": "stream",
     "text": [
      "ST_HausdorffDistance calculation: Duration = 1.3535747528076172 seconds, Rows processed = 627200\n"
     ]
    },
    {
     "name": "stderr",
     "output_type": "stream",
     "text": [
      "                                                                                \r"
     ]
    },
    {
     "name": "stdout",
     "output_type": "stream",
     "text": [
      "ST_FrechetDistance calculation: Duration = 1.4186489582061768 seconds, Rows processed = 627200\n",
      "Processing: Bathymetry.geojson against EcoRegions.geojson\n"
     ]
    },
    {
     "name": "stderr",
     "output_type": "stream",
     "text": [
      "                                                                                \r"
     ]
    },
    {
     "name": "stdout",
     "output_type": "stream",
     "text": [
      "ST_Distance calculation: Duration = 12.292249202728271 seconds, Rows processed = 3062500\n"
     ]
    },
    {
     "name": "stderr",
     "output_type": "stream",
     "text": [
      "                                                                                \r"
     ]
    },
    {
     "name": "stdout",
     "output_type": "stream",
     "text": [
      "ST_HausdorffDistance calculation: Duration = 2.506495475769043 seconds, Rows processed = 3062500\n"
     ]
    },
    {
     "name": "stderr",
     "output_type": "stream",
     "text": [
      "                                                                                \r"
     ]
    },
    {
     "name": "stdout",
     "output_type": "stream",
     "text": [
      "ST_FrechetDistance calculation: Duration = 2.654301166534424 seconds, Rows processed = 3062500\n",
      "Processing: Bathymetry.geojson against GeographicRegions.geojson\n"
     ]
    },
    {
     "name": "stderr",
     "output_type": "stream",
     "text": [
      "                                                                                \r"
     ]
    },
    {
     "name": "stdout",
     "output_type": "stream",
     "text": [
      "ST_Distance calculation: Duration = 0.7674562931060791 seconds, Rows processed = 2572500\n"
     ]
    },
    {
     "name": "stderr",
     "output_type": "stream",
     "text": [
      "                                                                                \r"
     ]
    },
    {
     "name": "stdout",
     "output_type": "stream",
     "text": [
      "ST_HausdorffDistance calculation: Duration = 3.7105236053466797 seconds, Rows processed = 2572500\n",
      "ST_FrechetDistance calculation: Duration = 0.7194201946258545 seconds, Rows processed = 2572500\n",
      "Processing: Bathymetry.geojson against Areas_diapiric_structures.geojson\n",
      "ST_Distance calculation: Duration = 0.6037688255310059 seconds, Rows processed = 188650\n",
      "ST_HausdorffDistance calculation: Duration = 0.6989405155181885 seconds, Rows processed = 188650\n"
     ]
    },
    {
     "name": "stderr",
     "output_type": "stream",
     "text": [
      "                                                                                \r"
     ]
    },
    {
     "name": "stdout",
     "output_type": "stream",
     "text": [
      "ST_FrechetDistance calculation: Duration = 0.6573262214660645 seconds, Rows processed = 188650\n",
      "Processing: Bathymetry.geojson against Calderas.geojson\n",
      "ST_Distance calculation: Duration = 0.6370303630828857 seconds, Rows processed = 176400\n",
      "ST_HausdorffDistance calculation: Duration = 0.6278390884399414 seconds, Rows processed = 176400\n",
      "ST_FrechetDistance calculation: Duration = 0.6230783462524414 seconds, Rows processed = 176400\n",
      "Processing: Bathymetry.geojson against Diapiric_trends.geojson\n"
     ]
    },
    {
     "name": "stderr",
     "output_type": "stream",
     "text": [
      "                                                                                \r"
     ]
    },
    {
     "name": "stdout",
     "output_type": "stream",
     "text": [
      "ST_Distance calculation: Duration = 0.6780028343200684 seconds, Rows processed = 431200\n"
     ]
    },
    {
     "name": "stderr",
     "output_type": "stream",
     "text": [
      "                                                                                \r"
     ]
    },
    {
     "name": "stdout",
     "output_type": "stream",
     "text": [
      "ST_HausdorffDistance calculation: Duration = 0.639589786529541 seconds, Rows processed = 431200\n"
     ]
    },
    {
     "name": "stderr",
     "output_type": "stream",
     "text": [
      "                                                                                \r"
     ]
    },
    {
     "name": "stdout",
     "output_type": "stream",
     "text": [
      "ST_FrechetDistance calculation: Duration = 3.608546733856201 seconds, Rows processed = 431200\n",
      "Processing: Bathymetry.geojson against Diapirs.geojson\n",
      "ST_Distance calculation: Duration = 0.6561770439147949 seconds, Rows processed = 3317300\n"
     ]
    },
    {
     "name": "stderr",
     "output_type": "stream",
     "text": [
      "                                                                                \r"
     ]
    },
    {
     "name": "stdout",
     "output_type": "stream",
     "text": [
      "ST_HausdorffDistance calculation: Duration = 3.611577033996582 seconds, Rows processed = 3317300\n",
      "ST_FrechetDistance calculation: Duration = 0.6363191604614258 seconds, Rows processed = 3317300\n",
      "Processing: Bathymetry.geojson against Dikes_sills.geojson\n"
     ]
    },
    {
     "name": "stderr",
     "output_type": "stream",
     "text": [
      "                                                                                \r"
     ]
    },
    {
     "name": "stdout",
     "output_type": "stream",
     "text": [
      "ST_Distance calculation: Duration = 0.6877996921539307 seconds, Rows processed = 8834700\n",
      "ST_HausdorffDistance calculation: Duration = 0.6965141296386719 seconds, Rows processed = 8834700\n",
      "ST_FrechetDistance calculation: Duration = 0.6464753150939941 seconds, Rows processed = 8834700\n",
      "Processing: Bathymetry.geojson against Faults.geojson\n"
     ]
    },
    {
     "name": "stderr",
     "output_type": "stream",
     "text": [
      "                                                                                \r"
     ]
    },
    {
     "name": "stdout",
     "output_type": "stream",
     "text": [
      "ST_Distance calculation: Duration = 3.926313877105713 seconds, Rows processed = 30438800\n"
     ]
    },
    {
     "name": "stderr",
     "output_type": "stream",
     "text": [
      "                                                                                \r"
     ]
    },
    {
     "name": "stdout",
     "output_type": "stream",
     "text": [
      "ST_HausdorffDistance calculation: Duration = 0.9692139625549316 seconds, Rows processed = 30438800\n"
     ]
    },
    {
     "name": "stderr",
     "output_type": "stream",
     "text": [
      "                                                                                \r"
     ]
    },
    {
     "name": "stdout",
     "output_type": "stream",
     "text": [
      "ST_FrechetDistance calculation: Duration = 2.7989487648010254 seconds, Rows processed = 30438800\n",
      "Processing: Bathymetry.geojson against Gas_fluid_seep.geojson\n",
      "ST_Distance calculation: Duration = 0.6474924087524414 seconds, Rows processed = 93100\n",
      "ST_HausdorffDistance calculation: Duration = 0.6123268604278564 seconds, Rows processed = 93100\n",
      "ST_FrechetDistance calculation: Duration = 0.6108312606811523 seconds, Rows processed = 93100\n",
      "Processing: Bathymetry.geojson against Gas_oil_seep.geojson\n",
      "ST_Distance calculation: Duration = 0.6117737293243408 seconds, Rows processed = 7350\n",
      "ST_HausdorffDistance calculation: Duration = 0.6084492206573486 seconds, Rows processed = 7350\n"
     ]
    },
    {
     "name": "stderr",
     "output_type": "stream",
     "text": [
      "                                                                                \r"
     ]
    },
    {
     "name": "stdout",
     "output_type": "stream",
     "text": [
      "ST_FrechetDistance calculation: Duration = 0.6376063823699951 seconds, Rows processed = 7350\n",
      "Processing: Bathymetry.geojson against Geologic_contacts.geojson\n"
     ]
    },
    {
     "name": "stderr",
     "output_type": "stream",
     "text": [
      "                                                                                \r"
     ]
    },
    {
     "name": "stdout",
     "output_type": "stream",
     "text": [
      "ST_Distance calculation: Duration = 2.6028077602386475 seconds, Rows processed = 130722200\n"
     ]
    },
    {
     "name": "stderr",
     "output_type": "stream",
     "text": [
      "                                                                                \r"
     ]
    },
    {
     "name": "stdout",
     "output_type": "stream",
     "text": [
      "ST_HausdorffDistance calculation: Duration = 2.674968719482422 seconds, Rows processed = 130722200\n"
     ]
    },
    {
     "name": "stderr",
     "output_type": "stream",
     "text": [
      "                                                                                \r"
     ]
    },
    {
     "name": "stdout",
     "output_type": "stream",
     "text": [
      "ST_FrechetDistance calculation: Duration = 2.6067683696746826 seconds, Rows processed = 130722200\n",
      "Processing: Bathymetry.geojson against Geologic_overprints.geojson\n"
     ]
    },
    {
     "name": "stderr",
     "output_type": "stream",
     "text": [
      "                                                                                \r"
     ]
    },
    {
     "name": "stdout",
     "output_type": "stream",
     "text": [
      "ST_Distance calculation: Duration = 4.090235471725464 seconds, Rows processed = 4586400\n",
      "ST_HausdorffDistance calculation: Duration = 1.0715937614440918 seconds, Rows processed = 4586400\n"
     ]
    },
    {
     "name": "stderr",
     "output_type": "stream",
     "text": [
      "                                                                                \r"
     ]
    },
    {
     "name": "stdout",
     "output_type": "stream",
     "text": [
      "ST_FrechetDistance calculation: Duration = 3.330803394317627 seconds, Rows processed = 4586400\n",
      "Processing: Bathymetry.geojson against Geologic_units.geojson\n"
     ]
    },
    {
     "name": "stderr",
     "output_type": "stream",
     "text": [
      "                                                                                \r"
     ]
    },
    {
     "name": "stdout",
     "output_type": "stream",
     "text": [
      "ST_Distance calculation: Duration = 5.432010650634766 seconds, Rows processed = 97578600\n"
     ]
    },
    {
     "name": "stderr",
     "output_type": "stream",
     "text": [
      "                                                                                \r"
     ]
    },
    {
     "name": "stdout",
     "output_type": "stream",
     "text": [
      "ST_HausdorffDistance calculation: Duration = 5.284182786941528 seconds, Rows processed = 97578600\n"
     ]
    },
    {
     "name": "stderr",
     "output_type": "stream",
     "text": [
      "                                                                                \r"
     ]
    },
    {
     "name": "stdout",
     "output_type": "stream",
     "text": [
      "ST_FrechetDistance calculation: Duration = 5.465512037277222 seconds, Rows processed = 97578600\n",
      "Processing: Bathymetry.geojson against Glaciation_extents.geojson\n"
     ]
    },
    {
     "name": "stderr",
     "output_type": "stream",
     "text": [
      "                                                                                \r"
     ]
    },
    {
     "name": "stdout",
     "output_type": "stream",
     "text": [
      "ST_Distance calculation: Duration = 0.6870989799499512 seconds, Rows processed = 61250\n",
      "ST_HausdorffDistance calculation: Duration = 0.6421985626220703 seconds, Rows processed = 61250\n",
      "ST_FrechetDistance calculation: Duration = 0.6081387996673584 seconds, Rows processed = 61250\n",
      "Processing: Bathymetry.geojson against Hydrothermal_vents.geojson\n",
      "ST_Distance calculation: Duration = 0.621614933013916 seconds, Rows processed = 120050\n",
      "ST_HausdorffDistance calculation: Duration = 0.6487481594085693 seconds, Rows processed = 120050\n",
      "ST_FrechetDistance calculation: Duration = 0.6184296607971191 seconds, Rows processed = 120050\n",
      "Processing: Bathymetry.geojson against Impact_structure_great_10_KM.geojson\n"
     ]
    },
    {
     "name": "stderr",
     "output_type": "stream",
     "text": [
      "                                                                                \r"
     ]
    },
    {
     "name": "stdout",
     "output_type": "stream",
     "text": [
      "ST_Distance calculation: Duration = 0.6678872108459473 seconds, Rows processed = 75950\n",
      "ST_HausdorffDistance calculation: Duration = 0.647545576095581 seconds, Rows processed = 75950\n",
      "ST_FrechetDistance calculation: Duration = 0.6125898361206055 seconds, Rows processed = 75950\n",
      "Processing: Bathymetry.geojson against Impact_structure_less_10_KM.geojson\n",
      "ST_Distance calculation: Duration = 0.6385006904602051 seconds, Rows processed = 61250\n"
     ]
    },
    {
     "name": "stderr",
     "output_type": "stream",
     "text": [
      "                                                                                \r"
     ]
    },
    {
     "name": "stdout",
     "output_type": "stream",
     "text": [
      "ST_HausdorffDistance calculation: Duration = 0.6471788883209229 seconds, Rows processed = 61250\n"
     ]
    },
    {
     "name": "stderr",
     "output_type": "stream",
     "text": [
      "                                                                                \r"
     ]
    },
    {
     "name": "stdout",
     "output_type": "stream",
     "text": [
      "ST_FrechetDistance calculation: Duration = 0.611030101776123 seconds, Rows processed = 61250\n",
      "Processing: Bathymetry.geojson against Maganifeorus_deposits.geojson\n"
     ]
    },
    {
     "name": "stderr",
     "output_type": "stream",
     "text": [
      "                                                                                \r"
     ]
    },
    {
     "name": "stdout",
     "output_type": "stream",
     "text": [
      "ST_Distance calculation: Duration = 0.6250672340393066 seconds, Rows processed = 1315650\n",
      "ST_HausdorffDistance calculation: Duration = 0.6196658611297607 seconds, Rows processed = 1315650\n",
      "ST_FrechetDistance calculation: Duration = 0.6003262996673584 seconds, Rows processed = 1315650\n",
      "Processing: Bathymetry.geojson against Phosphate_nodules_pavement.geojson\n",
      "ST_Distance calculation: Duration = 0.6992089748382568 seconds, Rows processed = 1369550\n"
     ]
    },
    {
     "name": "stderr",
     "output_type": "stream",
     "text": [
      "                                                                                \r"
     ]
    },
    {
     "name": "stdout",
     "output_type": "stream",
     "text": [
      "ST_HausdorffDistance calculation: Duration = 0.6515300273895264 seconds, Rows processed = 1369550\n"
     ]
    },
    {
     "name": "stderr",
     "output_type": "stream",
     "text": [
      "                                                                                \r"
     ]
    },
    {
     "name": "stdout",
     "output_type": "stream",
     "text": [
      "ST_FrechetDistance calculation: Duration = 0.638934850692749 seconds, Rows processed = 1369550\n",
      "Processing: Bathymetry.geojson against Polymetallic_sulfide_deposits.geojson\n",
      "ST_Distance calculation: Duration = 0.6265227794647217 seconds, Rows processed = 31850\n",
      "ST_HausdorffDistance calculation: Duration = 0.6041772365570068 seconds, Rows processed = 31850\n"
     ]
    },
    {
     "name": "stderr",
     "output_type": "stream",
     "text": [
      "                                                                                \r"
     ]
    },
    {
     "name": "stdout",
     "output_type": "stream",
     "text": [
      "ST_FrechetDistance calculation: Duration = 3.611245632171631 seconds, Rows processed = 31850\n",
      "Processing: Bathymetry.geojson against Rock_in_seafloor_sample.geojson\n",
      "ST_Distance calculation: Duration = 0.6417996883392334 seconds, Rows processed = 122500\n",
      "ST_HausdorffDistance calculation: Duration = 0.632509708404541 seconds, Rows processed = 122500\n",
      "ST_FrechetDistance calculation: Duration = 0.625514030456543 seconds, Rows processed = 122500\n",
      "Processing: Bathymetry.geojson against Special_submarine_features.geojson\n",
      "ST_Distance calculation: Duration = 0.6932346820831299 seconds, Rows processed = 6764450\n"
     ]
    },
    {
     "name": "stderr",
     "output_type": "stream",
     "text": [
      "                                                                                \r"
     ]
    },
    {
     "name": "stdout",
     "output_type": "stream",
     "text": [
      "ST_HausdorffDistance calculation: Duration = 0.7165102958679199 seconds, Rows processed = 6764450\n",
      "ST_FrechetDistance calculation: Duration = 0.7083706855773926 seconds, Rows processed = 6764450\n",
      "Processing: Bathymetry.geojson against Volcanoes.geojson\n",
      "ST_Distance calculation: Duration = 0.625795841217041 seconds, Rows processed = 1494500\n",
      "ST_HausdorffDistance calculation: Duration = 0.6315321922302246 seconds, Rows processed = 1494500\n",
      "ST_FrechetDistance calculation: Duration = 0.5860207080841064 seconds, Rows processed = 1494500\n",
      "Processing: Bathymetry.geojson against WorldContinents.geojson\n",
      "ST_Distance calculation: Duration = 0.7588043212890625 seconds, Rows processed = 19600\n"
     ]
    },
    {
     "name": "stderr",
     "output_type": "stream",
     "text": [
      "                                                                                \r"
     ]
    },
    {
     "name": "stdout",
     "output_type": "stream",
     "text": [
      "ST_HausdorffDistance calculation: Duration = 0.7625172138214111 seconds, Rows processed = 19600\n"
     ]
    },
    {
     "name": "stderr",
     "output_type": "stream",
     "text": [
      "                                                                                \r"
     ]
    },
    {
     "name": "stdout",
     "output_type": "stream",
     "text": [
      "ST_FrechetDistance calculation: Duration = 4.192590236663818 seconds, Rows processed = 19600\n",
      "Processing: Bathymetry.geojson against cb_2018_us_state_20m.json\n",
      "ST_Distance calculation: Duration = 0.6355223655700684 seconds, Rows processed = 127400\n",
      "ST_HausdorffDistance calculation: Duration = 0.6276304721832275 seconds, Rows processed = 127400\n",
      "ST_FrechetDistance calculation: Duration = 0.8297152519226074 seconds, Rows processed = 127400\n",
      "Processing: Calderas.geojson against AgriculturalArea.geojson\n"
     ]
    },
    {
     "name": "stderr",
     "output_type": "stream",
     "text": [
      "                                                                                \r"
     ]
    },
    {
     "name": "stdout",
     "output_type": "stream",
     "text": [
      "ST_Distance calculation: Duration = 5.9862611293792725 seconds, Rows processed = 221040\n",
      "ST_HausdorffDistance calculation: Duration = 0.6257815361022949 seconds, Rows processed = 221040\n",
      "ST_FrechetDistance calculation: Duration = 0.5961835384368896 seconds, Rows processed = 221040\n",
      "Processing: Calderas.geojson against CityBoundaries.geojson\n"
     ]
    },
    {
     "name": "stderr",
     "output_type": "stream",
     "text": [
      "                                                                                \r"
     ]
    },
    {
     "name": "stdout",
     "output_type": "stream",
     "text": [
      "ST_Distance calculation: Duration = 6.0218284130096436 seconds, Rows processed = 36000\n"
     ]
    },
    {
     "name": "stderr",
     "output_type": "stream",
     "text": [
      "                                                                                \r"
     ]
    },
    {
     "name": "stdout",
     "output_type": "stream",
     "text": [
      "ST_HausdorffDistance calculation: Duration = 6.0033276081085205 seconds, Rows processed = 36000\n"
     ]
    },
    {
     "name": "stderr",
     "output_type": "stream",
     "text": [
      "                                                                                \r"
     ]
    },
    {
     "name": "stdout",
     "output_type": "stream",
     "text": [
      "ST_FrechetDistance calculation: Duration = 0.9176397323608398 seconds, Rows processed = 36000\n",
      "Processing: Calderas.geojson against CountryTerritories.geojson\n"
     ]
    },
    {
     "name": "stderr",
     "output_type": "stream",
     "text": [
      "                                                                                \r"
     ]
    },
    {
     "name": "stdout",
     "output_type": "stream",
     "text": [
      "ST_Distance calculation: Duration = 0.8336367607116699 seconds, Rows processed = 18432\n",
      "ST_HausdorffDistance calculation: Duration = 0.20557880401611328 seconds, Rows processed = 18432\n",
      "ST_FrechetDistance calculation: Duration = 0.21080756187438965 seconds, Rows processed = 18432\n",
      "Processing: Calderas.geojson against EcoRegions.geojson\n"
     ]
    },
    {
     "name": "stderr",
     "output_type": "stream",
     "text": [
      "                                                                                \r"
     ]
    },
    {
     "name": "stdout",
     "output_type": "stream",
     "text": [
      "ST_Distance calculation: Duration = 1.9369525909423828 seconds, Rows processed = 90000\n"
     ]
    },
    {
     "name": "stderr",
     "output_type": "stream",
     "text": [
      "                                                                                \r"
     ]
    },
    {
     "name": "stdout",
     "output_type": "stream",
     "text": [
      "ST_HausdorffDistance calculation: Duration = 1.9314751625061035 seconds, Rows processed = 90000\n"
     ]
    },
    {
     "name": "stderr",
     "output_type": "stream",
     "text": [
      "                                                                                \r"
     ]
    },
    {
     "name": "stdout",
     "output_type": "stream",
     "text": [
      "ST_FrechetDistance calculation: Duration = 2.023383617401123 seconds, Rows processed = 90000\n",
      "Processing: Calderas.geojson against GeographicRegions.geojson\n",
      "ST_Distance calculation: Duration = 0.21322846412658691 seconds, Rows processed = 75600\n",
      "ST_HausdorffDistance calculation: Duration = 0.20366907119750977 seconds, Rows processed = 75600\n",
      "ST_FrechetDistance calculation: Duration = 0.18956208229064941 seconds, Rows processed = 75600\n",
      "Processing: Calderas.geojson against Areas_diapiric_structures.geojson\n",
      "ST_Distance calculation: Duration = 0.11615395545959473 seconds, Rows processed = 5544\n",
      "ST_HausdorffDistance calculation: Duration = 0.0854806900024414 seconds, Rows processed = 5544\n",
      "ST_FrechetDistance calculation: Duration = 0.09743857383728027 seconds, Rows processed = 5544\n",
      "Processing: Calderas.geojson against Bathymetry.geojson\n",
      "ST_Distance calculation: Duration = 0.6184549331665039 seconds, Rows processed = 176400\n"
     ]
    },
    {
     "name": "stderr",
     "output_type": "stream",
     "text": [
      "                                                                                \r"
     ]
    },
    {
     "name": "stdout",
     "output_type": "stream",
     "text": [
      "ST_HausdorffDistance calculation: Duration = 0.6561675071716309 seconds, Rows processed = 176400\n"
     ]
    },
    {
     "name": "stderr",
     "output_type": "stream",
     "text": [
      "                                                                                \r"
     ]
    },
    {
     "name": "stdout",
     "output_type": "stream",
     "text": [
      "ST_FrechetDistance calculation: Duration = 3.6178736686706543 seconds, Rows processed = 176400\n",
      "Processing: Calderas.geojson against Diapiric_trends.geojson\n",
      "ST_Distance calculation: Duration = 0.08280372619628906 seconds, Rows processed = 12672\n",
      "ST_HausdorffDistance calculation: Duration = 0.08677005767822266 seconds, Rows processed = 12672\n",
      "ST_FrechetDistance calculation: Duration = 0.1569206714630127 seconds, Rows processed = 12672\n",
      "Processing: Calderas.geojson against Diapirs.geojson\n",
      "ST_Distance calculation: Duration = 0.07018303871154785 seconds, Rows processed = 97488\n",
      "ST_HausdorffDistance calculation: Duration = 0.08456778526306152 seconds, Rows processed = 97488\n",
      "ST_FrechetDistance calculation: Duration = 0.07375383377075195 seconds, Rows processed = 97488\n",
      "Processing: Calderas.geojson against Dikes_sills.geojson\n",
      "ST_Distance calculation: Duration = 0.11942005157470703 seconds, Rows processed = 259632\n",
      "ST_HausdorffDistance calculation: Duration = 0.13213133811950684 seconds, Rows processed = 259632\n",
      "ST_FrechetDistance calculation: Duration = 0.10892224311828613 seconds, Rows processed = 259632\n",
      "Processing: Calderas.geojson against Faults.geojson\n",
      "ST_Distance calculation: Duration = 0.4513392448425293 seconds, Rows processed = 894528\n",
      "ST_HausdorffDistance calculation: Duration = 0.39327549934387207 seconds, Rows processed = 894528\n",
      "ST_FrechetDistance calculation: Duration = 0.4146087169647217 seconds, Rows processed = 894528\n",
      "Processing: Calderas.geojson against Gas_fluid_seep.geojson\n",
      "ST_Distance calculation: Duration = 0.087646484375 seconds, Rows processed = 2736\n",
      "ST_HausdorffDistance calculation: Duration = 0.10115671157836914 seconds, Rows processed = 2736\n",
      "ST_FrechetDistance calculation: Duration = 0.07496237754821777 seconds, Rows processed = 2736\n",
      "Processing: Calderas.geojson against Gas_oil_seep.geojson\n",
      "ST_Distance calculation: Duration = 0.06825494766235352 seconds, Rows processed = 216\n",
      "ST_HausdorffDistance calculation: Duration = 0.07686471939086914 seconds, Rows processed = 216\n",
      "ST_FrechetDistance calculation: Duration = 0.07060766220092773 seconds, Rows processed = 216\n",
      "Processing: Calderas.geojson against Geologic_contacts.geojson\n"
     ]
    },
    {
     "name": "stderr",
     "output_type": "stream",
     "text": [
      "                                                                                \r"
     ]
    },
    {
     "name": "stdout",
     "output_type": "stream",
     "text": [
      "ST_Distance calculation: Duration = 1.941469669342041 seconds, Rows processed = 3841632\n"
     ]
    },
    {
     "name": "stderr",
     "output_type": "stream",
     "text": [
      "                                                                                \r"
     ]
    },
    {
     "name": "stdout",
     "output_type": "stream",
     "text": [
      "ST_HausdorffDistance calculation: Duration = 1.9911167621612549 seconds, Rows processed = 3841632\n"
     ]
    },
    {
     "name": "stderr",
     "output_type": "stream",
     "text": [
      "                                                                                \r"
     ]
    },
    {
     "name": "stdout",
     "output_type": "stream",
     "text": [
      "ST_FrechetDistance calculation: Duration = 1.8873436450958252 seconds, Rows processed = 3841632\n",
      "Processing: Calderas.geojson against Geologic_overprints.geojson\n",
      "ST_Distance calculation: Duration = 0.48885154724121094 seconds, Rows processed = 134784\n"
     ]
    },
    {
     "name": "stderr",
     "output_type": "stream",
     "text": [
      "                                                                                \r"
     ]
    },
    {
     "name": "stdout",
     "output_type": "stream",
     "text": [
      "ST_HausdorffDistance calculation: Duration = 2.776336908340454 seconds, Rows processed = 134784\n",
      "ST_FrechetDistance calculation: Duration = 0.5152587890625 seconds, Rows processed = 134784\n",
      "Processing: Calderas.geojson against Geologic_units.geojson\n"
     ]
    },
    {
     "name": "stderr",
     "output_type": "stream",
     "text": [
      "                                                                                \r"
     ]
    },
    {
     "name": "stdout",
     "output_type": "stream",
     "text": [
      "ST_Distance calculation: Duration = 4.729115962982178 seconds, Rows processed = 2867616\n"
     ]
    },
    {
     "name": "stderr",
     "output_type": "stream",
     "text": [
      "                                                                                \r"
     ]
    },
    {
     "name": "stdout",
     "output_type": "stream",
     "text": [
      "ST_HausdorffDistance calculation: Duration = 20.906349182128906 seconds, Rows processed = 2867616\n"
     ]
    },
    {
     "name": "stderr",
     "output_type": "stream",
     "text": [
      "                                                                                \r"
     ]
    },
    {
     "name": "stdout",
     "output_type": "stream",
     "text": [
      "ST_FrechetDistance calculation: Duration = 4.7821314334869385 seconds, Rows processed = 2867616\n",
      "Processing: Calderas.geojson against Glaciation_extents.geojson\n",
      "ST_Distance calculation: Duration = 0.0881948471069336 seconds, Rows processed = 1800\n",
      "ST_HausdorffDistance calculation: Duration = 0.11281013488769531 seconds, Rows processed = 1800\n",
      "ST_FrechetDistance calculation: Duration = 0.10857558250427246 seconds, Rows processed = 1800\n",
      "Processing: Calderas.geojson against Hydrothermal_vents.geojson\n",
      "ST_Distance calculation: Duration = 0.09707903861999512 seconds, Rows processed = 3528\n",
      "ST_HausdorffDistance calculation: Duration = 0.0869293212890625 seconds, Rows processed = 3528\n",
      "ST_FrechetDistance calculation: Duration = 0.12447547912597656 seconds, Rows processed = 3528\n",
      "Processing: Calderas.geojson against Impact_structure_great_10_KM.geojson\n",
      "ST_Distance calculation: Duration = 0.0811312198638916 seconds, Rows processed = 2232\n",
      "ST_HausdorffDistance calculation: Duration = 0.14863276481628418 seconds, Rows processed = 2232\n",
      "ST_FrechetDistance calculation: Duration = 0.09810471534729004 seconds, Rows processed = 2232\n",
      "Processing: Calderas.geojson against Impact_structure_less_10_KM.geojson\n",
      "ST_Distance calculation: Duration = 0.0830078125 seconds, Rows processed = 1800\n",
      "ST_HausdorffDistance calculation: Duration = 0.0787055492401123 seconds, Rows processed = 1800\n",
      "ST_FrechetDistance calculation: Duration = 0.08383059501647949 seconds, Rows processed = 1800\n",
      "Processing: Calderas.geojson against Maganifeorus_deposits.geojson\n",
      "ST_Distance calculation: Duration = 0.07891607284545898 seconds, Rows processed = 38664\n",
      "ST_HausdorffDistance calculation: Duration = 0.09840536117553711 seconds, Rows processed = 38664\n",
      "ST_FrechetDistance calculation: Duration = 0.07738494873046875 seconds, Rows processed = 38664\n",
      "Processing: Calderas.geojson against Phosphate_nodules_pavement.geojson\n",
      "ST_Distance calculation: Duration = 0.07048344612121582 seconds, Rows processed = 40248\n",
      "ST_HausdorffDistance calculation: Duration = 0.10337114334106445 seconds, Rows processed = 40248\n",
      "ST_FrechetDistance calculation: Duration = 0.08555841445922852 seconds, Rows processed = 40248\n",
      "Processing: Calderas.geojson against Polymetallic_sulfide_deposits.geojson\n",
      "ST_Distance calculation: Duration = 0.08582830429077148 seconds, Rows processed = 936\n",
      "ST_HausdorffDistance calculation: Duration = 0.07476305961608887 seconds, Rows processed = 936\n",
      "ST_FrechetDistance calculation: Duration = 0.07743048667907715 seconds, Rows processed = 936\n",
      "Processing: Calderas.geojson against Rock_in_seafloor_sample.geojson\n",
      "ST_Distance calculation: Duration = 0.06532502174377441 seconds, Rows processed = 3600\n",
      "ST_HausdorffDistance calculation: Duration = 0.06962990760803223 seconds, Rows processed = 3600\n",
      "ST_FrechetDistance calculation: Duration = 0.08812618255615234 seconds, Rows processed = 3600\n",
      "Processing: Calderas.geojson against Special_submarine_features.geojson\n",
      "ST_Distance calculation: Duration = 0.18448877334594727 seconds, Rows processed = 198792\n",
      "ST_HausdorffDistance calculation: Duration = 0.15105271339416504 seconds, Rows processed = 198792\n",
      "ST_FrechetDistance calculation: Duration = 0.202423095703125 seconds, Rows processed = 198792\n",
      "Processing: Calderas.geojson against Volcanoes.geojson\n",
      "ST_Distance calculation: Duration = 0.09524226188659668 seconds, Rows processed = 43920\n",
      "ST_HausdorffDistance calculation: Duration = 0.06670546531677246 seconds, Rows processed = 43920\n",
      "ST_FrechetDistance calculation: Duration = 0.10086679458618164 seconds, Rows processed = 43920\n",
      "Processing: Calderas.geojson against WorldContinents.geojson\n",
      "ST_Distance calculation: Duration = 0.1634519100189209 seconds, Rows processed = 576\n",
      "ST_HausdorffDistance calculation: Duration = 0.15161466598510742 seconds, Rows processed = 576\n",
      "ST_FrechetDistance calculation: Duration = 0.15502357482910156 seconds, Rows processed = 576\n",
      "Processing: Calderas.geojson against cb_2018_us_state_20m.json\n",
      "ST_Distance calculation: Duration = 0.10300469398498535 seconds, Rows processed = 3744\n",
      "ST_HausdorffDistance calculation: Duration = 0.0758049488067627 seconds, Rows processed = 3744\n",
      "ST_FrechetDistance calculation: Duration = 0.0993964672088623 seconds, Rows processed = 3744\n",
      "Processing: Diapiric_trends.geojson against AgriculturalArea.geojson\n"
     ]
    },
    {
     "name": "stderr",
     "output_type": "stream",
     "text": [
      "                                                                                \r"
     ]
    },
    {
     "name": "stdout",
     "output_type": "stream",
     "text": [
      "ST_Distance calculation: Duration = 0.7569370269775391 seconds, Rows processed = 540320\n"
     ]
    },
    {
     "name": "stderr",
     "output_type": "stream",
     "text": [
      "                                                                                \r"
     ]
    },
    {
     "name": "stdout",
     "output_type": "stream",
     "text": [
      "ST_HausdorffDistance calculation: Duration = 0.793997049331665 seconds, Rows processed = 540320\n"
     ]
    },
    {
     "name": "stderr",
     "output_type": "stream",
     "text": [
      "                                                                                \r"
     ]
    },
    {
     "name": "stdout",
     "output_type": "stream",
     "text": [
      "ST_FrechetDistance calculation: Duration = 0.7427847385406494 seconds, Rows processed = 540320\n",
      "Processing: Diapiric_trends.geojson against CityBoundaries.geojson\n"
     ]
    },
    {
     "name": "stderr",
     "output_type": "stream",
     "text": [
      "                                                                                \r"
     ]
    },
    {
     "name": "stdout",
     "output_type": "stream",
     "text": [
      "ST_Distance calculation: Duration = 1.269101619720459 seconds, Rows processed = 88000\n"
     ]
    },
    {
     "name": "stderr",
     "output_type": "stream",
     "text": [
      "                                                                                \r"
     ]
    },
    {
     "name": "stdout",
     "output_type": "stream",
     "text": [
      "ST_HausdorffDistance calculation: Duration = 1.2829711437225342 seconds, Rows processed = 88000\n"
     ]
    },
    {
     "name": "stderr",
     "output_type": "stream",
     "text": [
      "                                                                                \r"
     ]
    },
    {
     "name": "stdout",
     "output_type": "stream",
     "text": [
      "ST_FrechetDistance calculation: Duration = 6.036566734313965 seconds, Rows processed = 88000\n",
      "Processing: Diapiric_trends.geojson against CountryTerritories.geojson\n",
      "ST_Distance calculation: Duration = 0.22808074951171875 seconds, Rows processed = 45056\n",
      "ST_HausdorffDistance calculation: Duration = 0.21965932846069336 seconds, Rows processed = 45056\n",
      "ST_FrechetDistance calculation: Duration = 0.23473262786865234 seconds, Rows processed = 45056\n",
      "Processing: Diapiric_trends.geojson against EcoRegions.geojson\n"
     ]
    },
    {
     "name": "stderr",
     "output_type": "stream",
     "text": [
      "[Stage 2760:>                                                       (0 + 1) / 1]\r"
     ]
    },
    {
     "name": "stdout",
     "output_type": "stream",
     "text": [
      "ST_Distance calculation: Duration = 1.951744556427002 seconds, Rows processed = 220000\n"
     ]
    },
    {
     "name": "stderr",
     "output_type": "stream",
     "text": [
      "                                                                                \r"
     ]
    },
    {
     "name": "stdout",
     "output_type": "stream",
     "text": [
      "ST_HausdorffDistance calculation: Duration = 1.951810359954834 seconds, Rows processed = 220000\n"
     ]
    },
    {
     "name": "stderr",
     "output_type": "stream",
     "text": [
      "[Stage 2768:>                                                       (0 + 1) / 1]\r"
     ]
    },
    {
     "name": "stdout",
     "output_type": "stream",
     "text": [
      "ST_FrechetDistance calculation: Duration = 1.980095624923706 seconds, Rows processed = 220000\n",
      "Processing: Diapiric_trends.geojson against GeographicRegions.geojson\n"
     ]
    },
    {
     "name": "stderr",
     "output_type": "stream",
     "text": [
      "                                                                                \r"
     ]
    },
    {
     "name": "stdout",
     "output_type": "stream",
     "text": [
      "ST_Distance calculation: Duration = 0.19899606704711914 seconds, Rows processed = 184800\n",
      "ST_HausdorffDistance calculation: Duration = 0.2113037109375 seconds, Rows processed = 184800\n",
      "ST_FrechetDistance calculation: Duration = 0.19613862037658691 seconds, Rows processed = 184800\n",
      "Processing: Diapiric_trends.geojson against Areas_diapiric_structures.geojson\n",
      "ST_Distance calculation: Duration = 0.08293986320495605 seconds, Rows processed = 13552\n",
      "ST_HausdorffDistance calculation: Duration = 0.08894658088684082 seconds, Rows processed = 13552\n",
      "ST_FrechetDistance calculation: Duration = 0.08939981460571289 seconds, Rows processed = 13552\n",
      "Processing: Diapiric_trends.geojson against Bathymetry.geojson\n",
      "ST_Distance calculation: Duration = 0.6488204002380371 seconds, Rows processed = 431200\n",
      "ST_HausdorffDistance calculation: Duration = 0.6123287677764893 seconds, Rows processed = 431200\n"
     ]
    },
    {
     "name": "stderr",
     "output_type": "stream",
     "text": [
      "                                                                                \r"
     ]
    },
    {
     "name": "stdout",
     "output_type": "stream",
     "text": [
      "ST_FrechetDistance calculation: Duration = 3.6046905517578125 seconds, Rows processed = 431200\n",
      "Processing: Diapiric_trends.geojson against Calderas.geojson\n",
      "ST_Distance calculation: Duration = 0.08228707313537598 seconds, Rows processed = 12672\n",
      "ST_HausdorffDistance calculation: Duration = 0.07200026512145996 seconds, Rows processed = 12672\n",
      "ST_FrechetDistance calculation: Duration = 0.07977819442749023 seconds, Rows processed = 12672\n",
      "Processing: Diapiric_trends.geojson against Diapirs.geojson\n",
      "ST_Distance calculation: Duration = 0.09586501121520996 seconds, Rows processed = 238304\n",
      "ST_HausdorffDistance calculation: Duration = 0.117919921875 seconds, Rows processed = 238304\n",
      "ST_FrechetDistance calculation: Duration = 0.12575864791870117 seconds, Rows processed = 238304\n",
      "Processing: Diapiric_trends.geojson against Dikes_sills.geojson\n",
      "ST_Distance calculation: Duration = 0.12505674362182617 seconds, Rows processed = 634656\n",
      "ST_HausdorffDistance calculation: Duration = 0.11765551567077637 seconds, Rows processed = 634656\n",
      "ST_FrechetDistance calculation: Duration = 0.13315320014953613 seconds, Rows processed = 634656\n",
      "Processing: Diapiric_trends.geojson against Faults.geojson\n",
      "ST_Distance calculation: Duration = 0.37901806831359863 seconds, Rows processed = 2186624\n",
      "ST_HausdorffDistance calculation: Duration = 0.3937346935272217 seconds, Rows processed = 2186624\n",
      "ST_FrechetDistance calculation: Duration = 0.37897419929504395 seconds, Rows processed = 2186624\n",
      "Processing: Diapiric_trends.geojson against Gas_fluid_seep.geojson\n",
      "ST_Distance calculation: Duration = 0.0979452133178711 seconds, Rows processed = 6688\n",
      "ST_HausdorffDistance calculation: Duration = 0.08066248893737793 seconds, Rows processed = 6688\n",
      "ST_FrechetDistance calculation: Duration = 0.0807199478149414 seconds, Rows processed = 6688\n",
      "Processing: Diapiric_trends.geojson against Gas_oil_seep.geojson\n",
      "ST_Distance calculation: Duration = 0.071807861328125 seconds, Rows processed = 528\n",
      "ST_HausdorffDistance calculation: Duration = 0.09110641479492188 seconds, Rows processed = 528\n",
      "ST_FrechetDistance calculation: Duration = 0.06633353233337402 seconds, Rows processed = 528\n",
      "Processing: Diapiric_trends.geojson against Geologic_contacts.geojson\n"
     ]
    },
    {
     "name": "stderr",
     "output_type": "stream",
     "text": [
      "                                                                                \r"
     ]
    },
    {
     "name": "stdout",
     "output_type": "stream",
     "text": [
      "ST_Distance calculation: Duration = 1.962160348892212 seconds, Rows processed = 9390656\n"
     ]
    },
    {
     "name": "stderr",
     "output_type": "stream",
     "text": [
      "                                                                                \r"
     ]
    },
    {
     "name": "stdout",
     "output_type": "stream",
     "text": [
      "ST_HausdorffDistance calculation: Duration = 2.0121171474456787 seconds, Rows processed = 9390656\n"
     ]
    },
    {
     "name": "stderr",
     "output_type": "stream",
     "text": [
      "                                                                                \r"
     ]
    },
    {
     "name": "stdout",
     "output_type": "stream",
     "text": [
      "ST_FrechetDistance calculation: Duration = 2.0290770530700684 seconds, Rows processed = 9390656\n",
      "Processing: Diapiric_trends.geojson against Geologic_overprints.geojson\n",
      "ST_Distance calculation: Duration = 0.5020852088928223 seconds, Rows processed = 329472\n",
      "ST_HausdorffDistance calculation: Duration = 0.4916043281555176 seconds, Rows processed = 329472\n",
      "ST_FrechetDistance calculation: Duration = 0.5171878337860107 seconds, Rows processed = 329472\n",
      "Processing: Diapiric_trends.geojson against Geologic_units.geojson\n"
     ]
    },
    {
     "name": "stderr",
     "output_type": "stream",
     "text": [
      "                                                                                \r"
     ]
    },
    {
     "name": "stdout",
     "output_type": "stream",
     "text": [
      "ST_Distance calculation: Duration = 4.806482791900635 seconds, Rows processed = 7009728\n"
     ]
    },
    {
     "name": "stderr",
     "output_type": "stream",
     "text": [
      "                                                                                \r"
     ]
    },
    {
     "name": "stdout",
     "output_type": "stream",
     "text": [
      "ST_HausdorffDistance calculation: Duration = 21.05057668685913 seconds, Rows processed = 7009728\n"
     ]
    },
    {
     "name": "stderr",
     "output_type": "stream",
     "text": [
      "                                                                                \r"
     ]
    },
    {
     "name": "stdout",
     "output_type": "stream",
     "text": [
      "ST_FrechetDistance calculation: Duration = 4.748121976852417 seconds, Rows processed = 7009728\n",
      "Processing: Diapiric_trends.geojson against Glaciation_extents.geojson\n",
      "ST_Distance calculation: Duration = 0.07337236404418945 seconds, Rows processed = 4400\n",
      "ST_HausdorffDistance calculation: Duration = 0.09628152847290039 seconds, Rows processed = 4400\n",
      "ST_FrechetDistance calculation: Duration = 0.08180356025695801 seconds, Rows processed = 4400\n",
      "Processing: Diapiric_trends.geojson against Hydrothermal_vents.geojson\n",
      "ST_Distance calculation: Duration = 0.08298349380493164 seconds, Rows processed = 8624\n",
      "ST_HausdorffDistance calculation: Duration = 0.0700526237487793 seconds, Rows processed = 8624\n",
      "ST_FrechetDistance calculation: Duration = 0.07216835021972656 seconds, Rows processed = 8624\n",
      "Processing: Diapiric_trends.geojson against Impact_structure_great_10_KM.geojson\n",
      "ST_Distance calculation: Duration = 0.08978056907653809 seconds, Rows processed = 5456\n",
      "ST_HausdorffDistance calculation: Duration = 0.13332533836364746 seconds, Rows processed = 5456\n",
      "ST_FrechetDistance calculation: Duration = 0.07589507102966309 seconds, Rows processed = 5456\n",
      "Processing: Diapiric_trends.geojson against Impact_structure_less_10_KM.geojson\n",
      "ST_Distance calculation: Duration = 0.09787702560424805 seconds, Rows processed = 4400\n",
      "ST_HausdorffDistance calculation: Duration = 0.09582090377807617 seconds, Rows processed = 4400\n",
      "ST_FrechetDistance calculation: Duration = 0.08980154991149902 seconds, Rows processed = 4400\n",
      "Processing: Diapiric_trends.geojson against Maganifeorus_deposits.geojson\n",
      "ST_Distance calculation: Duration = 0.0861353874206543 seconds, Rows processed = 94512\n",
      "ST_HausdorffDistance calculation: Duration = 0.09203696250915527 seconds, Rows processed = 94512\n",
      "ST_FrechetDistance calculation: Duration = 0.08742356300354004 seconds, Rows processed = 94512\n",
      "Processing: Diapiric_trends.geojson against Phosphate_nodules_pavement.geojson\n",
      "ST_Distance calculation: Duration = 0.06854605674743652 seconds, Rows processed = 98384\n",
      "ST_HausdorffDistance calculation: Duration = 0.09985041618347168 seconds, Rows processed = 98384\n",
      "ST_FrechetDistance calculation: Duration = 0.09297537803649902 seconds, Rows processed = 98384\n",
      "Processing: Diapiric_trends.geojson against Polymetallic_sulfide_deposits.geojson\n",
      "ST_Distance calculation: Duration = 0.0757746696472168 seconds, Rows processed = 2288\n",
      "ST_HausdorffDistance calculation: Duration = 0.06485867500305176 seconds, Rows processed = 2288\n",
      "ST_FrechetDistance calculation: Duration = 0.09153866767883301 seconds, Rows processed = 2288\n",
      "Processing: Diapiric_trends.geojson against Rock_in_seafloor_sample.geojson\n",
      "ST_Distance calculation: Duration = 0.07316207885742188 seconds, Rows processed = 8800\n",
      "ST_HausdorffDistance calculation: Duration = 0.07607865333557129 seconds, Rows processed = 8800\n",
      "ST_FrechetDistance calculation: Duration = 0.09272623062133789 seconds, Rows processed = 8800\n",
      "Processing: Diapiric_trends.geojson against Special_submarine_features.geojson\n",
      "ST_Distance calculation: Duration = 0.1528770923614502 seconds, Rows processed = 485936\n",
      "ST_HausdorffDistance calculation: Duration = 0.1679058074951172 seconds, Rows processed = 485936\n",
      "ST_FrechetDistance calculation: Duration = 0.15901827812194824 seconds, Rows processed = 485936\n",
      "Processing: Diapiric_trends.geojson against Volcanoes.geojson\n",
      "ST_Distance calculation: Duration = 0.08061003684997559 seconds, Rows processed = 107360\n",
      "ST_HausdorffDistance calculation: Duration = 0.09124135971069336 seconds, Rows processed = 107360\n",
      "ST_FrechetDistance calculation: Duration = 0.06926631927490234 seconds, Rows processed = 107360\n",
      "Processing: Diapiric_trends.geojson against WorldContinents.geojson\n",
      "ST_Distance calculation: Duration = 0.15988874435424805 seconds, Rows processed = 1408\n",
      "ST_HausdorffDistance calculation: Duration = 0.17812681198120117 seconds, Rows processed = 1408\n",
      "ST_FrechetDistance calculation: Duration = 0.1491398811340332 seconds, Rows processed = 1408\n",
      "Processing: Diapiric_trends.geojson against cb_2018_us_state_20m.json\n",
      "ST_Distance calculation: Duration = 0.2512397766113281 seconds, Rows processed = 9152\n",
      "ST_HausdorffDistance calculation: Duration = 0.09258437156677246 seconds, Rows processed = 9152\n",
      "ST_FrechetDistance calculation: Duration = 0.08378243446350098 seconds, Rows processed = 9152\n",
      "Processing: Diapirs.geojson against AgriculturalArea.geojson\n",
      "ST_Distance calculation: Duration = 0.5320005416870117 seconds, Rows processed = 4156780\n"
     ]
    },
    {
     "name": "stderr",
     "output_type": "stream",
     "text": [
      "                                                                                \r"
     ]
    },
    {
     "name": "stdout",
     "output_type": "stream",
     "text": [
      "ST_HausdorffDistance calculation: Duration = 0.7752666473388672 seconds, Rows processed = 4156780\n",
      "ST_FrechetDistance calculation: Duration = 0.6265532970428467 seconds, Rows processed = 4156780\n",
      "Processing: Diapirs.geojson against CityBoundaries.geojson\n"
     ]
    },
    {
     "name": "stderr",
     "output_type": "stream",
     "text": [
      "                                                                                \r"
     ]
    },
    {
     "name": "stdout",
     "output_type": "stream",
     "text": [
      "ST_Distance calculation: Duration = 6.013846397399902 seconds, Rows processed = 677000\n"
     ]
    },
    {
     "name": "stderr",
     "output_type": "stream",
     "text": [
      "                                                                                \r"
     ]
    },
    {
     "name": "stdout",
     "output_type": "stream",
     "text": [
      "ST_HausdorffDistance calculation: Duration = 0.881335973739624 seconds, Rows processed = 677000\n"
     ]
    },
    {
     "name": "stderr",
     "output_type": "stream",
     "text": [
      "                                                                                \r"
     ]
    },
    {
     "name": "stdout",
     "output_type": "stream",
     "text": [
      "ST_FrechetDistance calculation: Duration = 0.927422285079956 seconds, Rows processed = 677000\n",
      "Processing: Diapirs.geojson against CountryTerritories.geojson\n",
      "ST_Distance calculation: Duration = 0.2436840534210205 seconds, Rows processed = 346624\n",
      "ST_HausdorffDistance calculation: Duration = 0.21389174461364746 seconds, Rows processed = 346624\n",
      "ST_FrechetDistance calculation: Duration = 0.21393752098083496 seconds, Rows processed = 346624\n",
      "Processing: Diapirs.geojson against EcoRegions.geojson\n"
     ]
    },
    {
     "name": "stderr",
     "output_type": "stream",
     "text": [
      "                                                                                \r"
     ]
    },
    {
     "name": "stdout",
     "output_type": "stream",
     "text": [
      "ST_Distance calculation: Duration = 1.955704689025879 seconds, Rows processed = 1692500\n"
     ]
    },
    {
     "name": "stderr",
     "output_type": "stream",
     "text": [
      "                                                                                \r"
     ]
    },
    {
     "name": "stdout",
     "output_type": "stream",
     "text": [
      "ST_HausdorffDistance calculation: Duration = 1.9583463668823242 seconds, Rows processed = 1692500\n"
     ]
    },
    {
     "name": "stderr",
     "output_type": "stream",
     "text": [
      "                                                                                \r"
     ]
    },
    {
     "name": "stdout",
     "output_type": "stream",
     "text": [
      "ST_FrechetDistance calculation: Duration = 11.718522310256958 seconds, Rows processed = 1692500\n",
      "Processing: Diapirs.geojson against GeographicRegions.geojson\n",
      "ST_Distance calculation: Duration = 0.1993093490600586 seconds, Rows processed = 1421700\n",
      "ST_HausdorffDistance calculation: Duration = 0.19983649253845215 seconds, Rows processed = 1421700\n",
      "ST_FrechetDistance calculation: Duration = 0.19399166107177734 seconds, Rows processed = 1421700\n",
      "Processing: Diapirs.geojson against Areas_diapiric_structures.geojson\n",
      "ST_Distance calculation: Duration = 0.08318901062011719 seconds, Rows processed = 104258\n",
      "ST_HausdorffDistance calculation: Duration = 0.0944209098815918 seconds, Rows processed = 104258\n",
      "ST_FrechetDistance calculation: Duration = 0.10117864608764648 seconds, Rows processed = 104258\n",
      "Processing: Diapirs.geojson against Bathymetry.geojson\n"
     ]
    },
    {
     "name": "stderr",
     "output_type": "stream",
     "text": [
      "                                                                                \r"
     ]
    },
    {
     "name": "stdout",
     "output_type": "stream",
     "text": [
      "ST_Distance calculation: Duration = 3.6095852851867676 seconds, Rows processed = 3317300\n"
     ]
    },
    {
     "name": "stderr",
     "output_type": "stream",
     "text": [
      "                                                                                \r"
     ]
    },
    {
     "name": "stdout",
     "output_type": "stream",
     "text": [
      "ST_HausdorffDistance calculation: Duration = 3.593526601791382 seconds, Rows processed = 3317300\n",
      "ST_FrechetDistance calculation: Duration = 0.6278276443481445 seconds, Rows processed = 3317300\n",
      "Processing: Diapirs.geojson against Calderas.geojson\n",
      "ST_Distance calculation: Duration = 0.08034062385559082 seconds, Rows processed = 97488\n",
      "ST_HausdorffDistance calculation: Duration = 0.06629276275634766 seconds, Rows processed = 97488\n",
      "ST_FrechetDistance calculation: Duration = 0.07088088989257812 seconds, Rows processed = 97488\n",
      "Processing: Diapirs.geojson against Diapiric_trends.geojson\n",
      "ST_Distance calculation: Duration = 0.10771393775939941 seconds, Rows processed = 238304\n",
      "ST_HausdorffDistance calculation: Duration = 0.06965470314025879 seconds, Rows processed = 238304\n",
      "ST_FrechetDistance calculation: Duration = 0.0755929946899414 seconds, Rows processed = 238304\n",
      "Processing: Diapirs.geojson against Dikes_sills.geojson\n",
      "ST_Distance calculation: Duration = 0.35474395751953125 seconds, Rows processed = 4882524\n",
      "ST_HausdorffDistance calculation: Duration = 0.1134176254272461 seconds, Rows processed = 4882524\n",
      "ST_FrechetDistance calculation: Duration = 0.13252663612365723 seconds, Rows processed = 4882524\n",
      "Processing: Diapirs.geojson against Faults.geojson\n",
      "ST_Distance calculation: Duration = 0.4147634506225586 seconds, Rows processed = 16822096\n"
     ]
    },
    {
     "name": "stderr",
     "output_type": "stream",
     "text": [
      "                                                                                \r"
     ]
    },
    {
     "name": "stdout",
     "output_type": "stream",
     "text": [
      "ST_HausdorffDistance calculation: Duration = 2.235553741455078 seconds, Rows processed = 16822096\n",
      "ST_FrechetDistance calculation: Duration = 0.4556615352630615 seconds, Rows processed = 16822096\n",
      "Processing: Diapirs.geojson against Gas_fluid_seep.geojson\n",
      "ST_Distance calculation: Duration = 0.08887124061584473 seconds, Rows processed = 51452\n",
      "ST_HausdorffDistance calculation: Duration = 0.07830286026000977 seconds, Rows processed = 51452\n",
      "ST_FrechetDistance calculation: Duration = 0.0862271785736084 seconds, Rows processed = 51452\n",
      "Processing: Diapirs.geojson against Gas_oil_seep.geojson\n",
      "ST_Distance calculation: Duration = 0.0682985782623291 seconds, Rows processed = 4062\n",
      "ST_HausdorffDistance calculation: Duration = 0.09006166458129883 seconds, Rows processed = 4062\n",
      "ST_FrechetDistance calculation: Duration = 0.06681513786315918 seconds, Rows processed = 4062\n",
      "Processing: Diapirs.geojson against Geologic_contacts.geojson\n"
     ]
    },
    {
     "name": "stderr",
     "output_type": "stream",
     "text": [
      "                                                                                \r"
     ]
    },
    {
     "name": "stdout",
     "output_type": "stream",
     "text": [
      "ST_Distance calculation: Duration = 2.0160939693450928 seconds, Rows processed = 72244024\n"
     ]
    },
    {
     "name": "stderr",
     "output_type": "stream",
     "text": [
      "                                                                                \r"
     ]
    },
    {
     "name": "stdout",
     "output_type": "stream",
     "text": [
      "ST_HausdorffDistance calculation: Duration = 2.095100164413452 seconds, Rows processed = 72244024\n"
     ]
    },
    {
     "name": "stderr",
     "output_type": "stream",
     "text": [
      "                                                                                \r"
     ]
    },
    {
     "name": "stdout",
     "output_type": "stream",
     "text": [
      "ST_FrechetDistance calculation: Duration = 2.3391146659851074 seconds, Rows processed = 72244024\n",
      "Processing: Diapirs.geojson against Geologic_overprints.geojson\n"
     ]
    },
    {
     "name": "stderr",
     "output_type": "stream",
     "text": [
      "                                                                                \r"
     ]
    },
    {
     "name": "stdout",
     "output_type": "stream",
     "text": [
      "ST_Distance calculation: Duration = 2.7573904991149902 seconds, Rows processed = 2534688\n"
     ]
    },
    {
     "name": "stderr",
     "output_type": "stream",
     "text": [
      "                                                                                \r"
     ]
    },
    {
     "name": "stdout",
     "output_type": "stream",
     "text": [
      "ST_HausdorffDistance calculation: Duration = 2.754197597503662 seconds, Rows processed = 2534688\n",
      "ST_FrechetDistance calculation: Duration = 0.48848915100097656 seconds, Rows processed = 2534688\n",
      "Processing: Diapirs.geojson against Geologic_units.geojson\n"
     ]
    },
    {
     "name": "stderr",
     "output_type": "stream",
     "text": [
      "                                                                                \r"
     ]
    },
    {
     "name": "stdout",
     "output_type": "stream",
     "text": [
      "ST_Distance calculation: Duration = 21.707061052322388 seconds, Rows processed = 53927112\n"
     ]
    },
    {
     "name": "stderr",
     "output_type": "stream",
     "text": [
      "                                                                                \r"
     ]
    },
    {
     "name": "stdout",
     "output_type": "stream",
     "text": [
      "ST_HausdorffDistance calculation: Duration = 14.757814168930054 seconds, Rows processed = 53927112\n"
     ]
    },
    {
     "name": "stderr",
     "output_type": "stream",
     "text": [
      "                                                                                \r"
     ]
    },
    {
     "name": "stdout",
     "output_type": "stream",
     "text": [
      "ST_FrechetDistance calculation: Duration = 14.760701656341553 seconds, Rows processed = 53927112\n",
      "Processing: Diapirs.geojson against Glaciation_extents.geojson\n",
      "ST_Distance calculation: Duration = 0.10054683685302734 seconds, Rows processed = 33850\n",
      "ST_HausdorffDistance calculation: Duration = 0.06457972526550293 seconds, Rows processed = 33850\n",
      "ST_FrechetDistance calculation: Duration = 0.06520295143127441 seconds, Rows processed = 33850\n",
      "Processing: Diapirs.geojson against Hydrothermal_vents.geojson\n",
      "ST_Distance calculation: Duration = 0.06610298156738281 seconds, Rows processed = 66346\n",
      "ST_HausdorffDistance calculation: Duration = 0.06904935836791992 seconds, Rows processed = 66346\n",
      "ST_FrechetDistance calculation: Duration = 0.08333039283752441 seconds, Rows processed = 66346\n",
      "Processing: Diapirs.geojson against Impact_structure_great_10_KM.geojson\n",
      "ST_Distance calculation: Duration = 0.0939939022064209 seconds, Rows processed = 41974\n",
      "ST_HausdorffDistance calculation: Duration = 0.11570143699645996 seconds, Rows processed = 41974\n",
      "ST_FrechetDistance calculation: Duration = 0.08306050300598145 seconds, Rows processed = 41974\n",
      "Processing: Diapirs.geojson against Impact_structure_less_10_KM.geojson\n",
      "ST_Distance calculation: Duration = 0.06715083122253418 seconds, Rows processed = 33850\n",
      "ST_HausdorffDistance calculation: Duration = 0.06889581680297852 seconds, Rows processed = 33850\n",
      "ST_FrechetDistance calculation: Duration = 0.06397128105163574 seconds, Rows processed = 33850\n",
      "Processing: Diapirs.geojson against Maganifeorus_deposits.geojson\n",
      "ST_Distance calculation: Duration = 0.08060598373413086 seconds, Rows processed = 727098\n",
      "ST_HausdorffDistance calculation: Duration = 0.10176753997802734 seconds, Rows processed = 727098\n",
      "ST_FrechetDistance calculation: Duration = 0.06752681732177734 seconds, Rows processed = 727098\n",
      "Processing: Diapirs.geojson against Phosphate_nodules_pavement.geojson\n",
      "ST_Distance calculation: Duration = 0.0693972110748291 seconds, Rows processed = 756886\n",
      "ST_HausdorffDistance calculation: Duration = 0.0722043514251709 seconds, Rows processed = 756886\n",
      "ST_FrechetDistance calculation: Duration = 0.09302783012390137 seconds, Rows processed = 756886\n",
      "Processing: Diapirs.geojson against Polymetallic_sulfide_deposits.geojson\n",
      "ST_Distance calculation: Duration = 0.08332228660583496 seconds, Rows processed = 17602\n",
      "ST_HausdorffDistance calculation: Duration = 0.06632041931152344 seconds, Rows processed = 17602\n",
      "ST_FrechetDistance calculation: Duration = 0.07741165161132812 seconds, Rows processed = 17602\n",
      "Processing: Diapirs.geojson against Rock_in_seafloor_sample.geojson\n",
      "ST_Distance calculation: Duration = 0.06230282783508301 seconds, Rows processed = 67700\n",
      "ST_HausdorffDistance calculation: Duration = 0.0666351318359375 seconds, Rows processed = 67700\n",
      "ST_FrechetDistance calculation: Duration = 0.08099794387817383 seconds, Rows processed = 67700\n",
      "Processing: Diapirs.geojson against Special_submarine_features.geojson\n",
      "ST_Distance calculation: Duration = 0.17322230339050293 seconds, Rows processed = 3738394\n",
      "ST_HausdorffDistance calculation: Duration = 0.1532142162322998 seconds, Rows processed = 3738394\n",
      "ST_FrechetDistance calculation: Duration = 0.17626667022705078 seconds, Rows processed = 3738394\n",
      "Processing: Diapirs.geojson against Volcanoes.geojson\n",
      "ST_Distance calculation: Duration = 0.07055115699768066 seconds, Rows processed = 825940\n",
      "ST_HausdorffDistance calculation: Duration = 0.06707406044006348 seconds, Rows processed = 825940\n",
      "ST_FrechetDistance calculation: Duration = 0.08067154884338379 seconds, Rows processed = 825940\n",
      "Processing: Diapirs.geojson against WorldContinents.geojson\n",
      "ST_Distance calculation: Duration = 0.14704036712646484 seconds, Rows processed = 10832\n",
      "ST_HausdorffDistance calculation: Duration = 0.1452655792236328 seconds, Rows processed = 10832\n",
      "ST_FrechetDistance calculation: Duration = 0.6479456424713135 seconds, Rows processed = 10832\n",
      "Processing: Diapirs.geojson against cb_2018_us_state_20m.json\n",
      "ST_Distance calculation: Duration = 0.09546899795532227 seconds, Rows processed = 70408\n",
      "ST_HausdorffDistance calculation: Duration = 0.25797200202941895 seconds, Rows processed = 70408\n",
      "ST_FrechetDistance calculation: Duration = 0.0832970142364502 seconds, Rows processed = 70408\n",
      "Processing: Dikes_sills.geojson against AgriculturalArea.geojson\n"
     ]
    },
    {
     "name": "stderr",
     "output_type": "stream",
     "text": [
      "                                                                                \r"
     ]
    },
    {
     "name": "stdout",
     "output_type": "stream",
     "text": [
      "ST_Distance calculation: Duration = 1.1647861003875732 seconds, Rows processed = 11070420\n",
      "ST_HausdorffDistance calculation: Duration = 0.8258411884307861 seconds, Rows processed = 11070420\n"
     ]
    },
    {
     "name": "stderr",
     "output_type": "stream",
     "text": [
      "                                                                                \r"
     ]
    },
    {
     "name": "stdout",
     "output_type": "stream",
     "text": [
      "ST_FrechetDistance calculation: Duration = 0.6253037452697754 seconds, Rows processed = 11070420\n",
      "Processing: Dikes_sills.geojson against CityBoundaries.geojson\n"
     ]
    },
    {
     "name": "stderr",
     "output_type": "stream",
     "text": [
      "                                                                                \r"
     ]
    },
    {
     "name": "stdout",
     "output_type": "stream",
     "text": [
      "ST_Distance calculation: Duration = 0.9202389717102051 seconds, Rows processed = 1803000\n"
     ]
    },
    {
     "name": "stderr",
     "output_type": "stream",
     "text": [
      "                                                                                \r"
     ]
    },
    {
     "name": "stdout",
     "output_type": "stream",
     "text": [
      "ST_HausdorffDistance calculation: Duration = 0.9225888252258301 seconds, Rows processed = 1803000\n"
     ]
    },
    {
     "name": "stderr",
     "output_type": "stream",
     "text": [
      "                                                                                \r"
     ]
    },
    {
     "name": "stdout",
     "output_type": "stream",
     "text": [
      "ST_FrechetDistance calculation: Duration = 1.0012032985687256 seconds, Rows processed = 1803000\n",
      "Processing: Dikes_sills.geojson against CountryTerritories.geojson\n",
      "ST_Distance calculation: Duration = 0.2868990898132324 seconds, Rows processed = 923136\n",
      "ST_HausdorffDistance calculation: Duration = 0.2547779083251953 seconds, Rows processed = 923136\n"
     ]
    },
    {
     "name": "stderr",
     "output_type": "stream",
     "text": [
      "                                                                                \r"
     ]
    },
    {
     "name": "stdout",
     "output_type": "stream",
     "text": [
      "ST_FrechetDistance calculation: Duration = 0.8707675933837891 seconds, Rows processed = 923136\n",
      "Processing: Dikes_sills.geojson against EcoRegions.geojson\n"
     ]
    },
    {
     "name": "stderr",
     "output_type": "stream",
     "text": [
      "                                                                                \r"
     ]
    },
    {
     "name": "stdout",
     "output_type": "stream",
     "text": [
      "ST_Distance calculation: Duration = 2.1207311153411865 seconds, Rows processed = 4507500\n"
     ]
    },
    {
     "name": "stderr",
     "output_type": "stream",
     "text": [
      "                                                                                \r"
     ]
    },
    {
     "name": "stdout",
     "output_type": "stream",
     "text": [
      "ST_HausdorffDistance calculation: Duration = 2.068568468093872 seconds, Rows processed = 4507500\n"
     ]
    },
    {
     "name": "stderr",
     "output_type": "stream",
     "text": [
      "                                                                                \r"
     ]
    },
    {
     "name": "stdout",
     "output_type": "stream",
     "text": [
      "ST_FrechetDistance calculation: Duration = 1.9768133163452148 seconds, Rows processed = 4507500\n",
      "Processing: Dikes_sills.geojson against GeographicRegions.geojson\n",
      "ST_Distance calculation: Duration = 0.22556638717651367 seconds, Rows processed = 3786300\n",
      "ST_HausdorffDistance calculation: Duration = 0.23040771484375 seconds, Rows processed = 3786300\n",
      "ST_FrechetDistance calculation: Duration = 0.263596773147583 seconds, Rows processed = 3786300\n",
      "Processing: Dikes_sills.geojson against Areas_diapiric_structures.geojson\n",
      "ST_Distance calculation: Duration = 0.12037467956542969 seconds, Rows processed = 277662\n",
      "ST_HausdorffDistance calculation: Duration = 0.40018367767333984 seconds, Rows processed = 277662\n",
      "ST_FrechetDistance calculation: Duration = 0.14318203926086426 seconds, Rows processed = 277662\n",
      "Processing: Dikes_sills.geojson against Bathymetry.geojson\n",
      "ST_Distance calculation: Duration = 0.6610641479492188 seconds, Rows processed = 8834700\n",
      "ST_HausdorffDistance calculation: Duration = 0.698084831237793 seconds, Rows processed = 8834700\n"
     ]
    },
    {
     "name": "stderr",
     "output_type": "stream",
     "text": [
      "                                                                                \r"
     ]
    },
    {
     "name": "stdout",
     "output_type": "stream",
     "text": [
      "ST_FrechetDistance calculation: Duration = 0.6600079536437988 seconds, Rows processed = 8834700\n",
      "Processing: Dikes_sills.geojson against Calderas.geojson\n",
      "ST_Distance calculation: Duration = 0.12885141372680664 seconds, Rows processed = 259632\n",
      "ST_HausdorffDistance calculation: Duration = 0.11088943481445312 seconds, Rows processed = 259632\n",
      "ST_FrechetDistance calculation: Duration = 0.3544301986694336 seconds, Rows processed = 259632\n",
      "Processing: Dikes_sills.geojson against Diapiric_trends.geojson\n",
      "ST_Distance calculation: Duration = 0.12332630157470703 seconds, Rows processed = 634656\n",
      "ST_HausdorffDistance calculation: Duration = 0.37349796295166016 seconds, Rows processed = 634656\n",
      "ST_FrechetDistance calculation: Duration = 0.12818264961242676 seconds, Rows processed = 634656\n",
      "Processing: Dikes_sills.geojson against Diapirs.geojson\n",
      "ST_Distance calculation: Duration = 0.12059569358825684 seconds, Rows processed = 4882524\n",
      "ST_HausdorffDistance calculation: Duration = 0.10988473892211914 seconds, Rows processed = 4882524\n",
      "ST_FrechetDistance calculation: Duration = 0.1049509048461914 seconds, Rows processed = 4882524\n",
      "Processing: Dikes_sills.geojson against Faults.geojson\n",
      "ST_Distance calculation: Duration = 0.439497709274292 seconds, Rows processed = 44800944\n",
      "ST_HausdorffDistance calculation: Duration = 0.4730393886566162 seconds, Rows processed = 44800944\n",
      "ST_FrechetDistance calculation: Duration = 0.4535846710205078 seconds, Rows processed = 44800944\n",
      "Processing: Dikes_sills.geojson against Gas_fluid_seep.geojson\n",
      "ST_Distance calculation: Duration = 0.10246920585632324 seconds, Rows processed = 137028\n",
      "ST_HausdorffDistance calculation: Duration = 0.10688257217407227 seconds, Rows processed = 137028\n",
      "ST_FrechetDistance calculation: Duration = 0.09988903999328613 seconds, Rows processed = 137028\n",
      "Processing: Dikes_sills.geojson against Gas_oil_seep.geojson\n",
      "ST_Distance calculation: Duration = 0.34848713874816895 seconds, Rows processed = 10818\n",
      "ST_HausdorffDistance calculation: Duration = 0.10062718391418457 seconds, Rows processed = 10818\n",
      "ST_FrechetDistance calculation: Duration = 0.10887479782104492 seconds, Rows processed = 10818\n",
      "Processing: Dikes_sills.geojson against Geologic_contacts.geojson\n"
     ]
    },
    {
     "name": "stderr",
     "output_type": "stream",
     "text": [
      "                                                                                \r"
     ]
    },
    {
     "name": "stdout",
     "output_type": "stream",
     "text": [
      "ST_Distance calculation: Duration = 2.192589521408081 seconds, Rows processed = 192401736\n"
     ]
    },
    {
     "name": "stderr",
     "output_type": "stream",
     "text": [
      "                                                                                \r"
     ]
    },
    {
     "name": "stdout",
     "output_type": "stream",
     "text": [
      "ST_HausdorffDistance calculation: Duration = 2.15395450592041 seconds, Rows processed = 192401736\n"
     ]
    },
    {
     "name": "stderr",
     "output_type": "stream",
     "text": [
      "                                                                                \r"
     ]
    },
    {
     "name": "stdout",
     "output_type": "stream",
     "text": [
      "ST_FrechetDistance calculation: Duration = 2.1606013774871826 seconds, Rows processed = 192401736\n",
      "Processing: Dikes_sills.geojson against Geologic_overprints.geojson\n",
      "ST_Distance calculation: Duration = 0.8135347366333008 seconds, Rows processed = 6750432\n"
     ]
    },
    {
     "name": "stderr",
     "output_type": "stream",
     "text": [
      "                                                                                \r"
     ]
    },
    {
     "name": "stdout",
     "output_type": "stream",
     "text": [
      "ST_HausdorffDistance calculation: Duration = 3.0400564670562744 seconds, Rows processed = 6750432\n",
      "ST_FrechetDistance calculation: Duration = 0.5495712757110596 seconds, Rows processed = 6750432\n",
      "Processing: Dikes_sills.geojson against Geologic_units.geojson\n"
     ]
    },
    {
     "name": "stderr",
     "output_type": "stream",
     "text": [
      "                                                                                \r"
     ]
    },
    {
     "name": "stdout",
     "output_type": "stream",
     "text": [
      "ST_Distance calculation: Duration = 5.0823869705200195 seconds, Rows processed = 143619768\n"
     ]
    },
    {
     "name": "stderr",
     "output_type": "stream",
     "text": [
      "                                                                                \r"
     ]
    },
    {
     "name": "stdout",
     "output_type": "stream",
     "text": [
      "ST_HausdorffDistance calculation: Duration = 5.027773141860962 seconds, Rows processed = 143619768\n"
     ]
    },
    {
     "name": "stderr",
     "output_type": "stream",
     "text": [
      "                                                                                \r"
     ]
    },
    {
     "name": "stdout",
     "output_type": "stream",
     "text": [
      "ST_FrechetDistance calculation: Duration = 14.882478952407837 seconds, Rows processed = 143619768\n",
      "Processing: Dikes_sills.geojson against Glaciation_extents.geojson\n",
      "ST_Distance calculation: Duration = 0.13178801536560059 seconds, Rows processed = 90150\n",
      "ST_HausdorffDistance calculation: Duration = 0.13796520233154297 seconds, Rows processed = 90150\n",
      "ST_FrechetDistance calculation: Duration = 0.10655999183654785 seconds, Rows processed = 90150\n",
      "Processing: Dikes_sills.geojson against Hydrothermal_vents.geojson\n",
      "ST_Distance calculation: Duration = 0.12293267250061035 seconds, Rows processed = 176694\n",
      "ST_HausdorffDistance calculation: Duration = 0.11337971687316895 seconds, Rows processed = 176694\n",
      "ST_FrechetDistance calculation: Duration = 0.11318683624267578 seconds, Rows processed = 176694\n",
      "Processing: Dikes_sills.geojson against Impact_structure_great_10_KM.geojson\n",
      "ST_Distance calculation: Duration = 0.1424572467803955 seconds, Rows processed = 111786\n",
      "ST_HausdorffDistance calculation: Duration = 0.13551545143127441 seconds, Rows processed = 111786\n",
      "ST_FrechetDistance calculation: Duration = 0.12705111503601074 seconds, Rows processed = 111786\n",
      "Processing: Dikes_sills.geojson against Impact_structure_less_10_KM.geojson\n",
      "ST_Distance calculation: Duration = 0.13543915748596191 seconds, Rows processed = 90150\n",
      "ST_HausdorffDistance calculation: Duration = 0.10831928253173828 seconds, Rows processed = 90150\n",
      "ST_FrechetDistance calculation: Duration = 0.11665678024291992 seconds, Rows processed = 90150\n",
      "Processing: Dikes_sills.geojson against Maganifeorus_deposits.geojson\n",
      "ST_Distance calculation: Duration = 0.10803937911987305 seconds, Rows processed = 1936422\n",
      "ST_HausdorffDistance calculation: Duration = 0.10265278816223145 seconds, Rows processed = 1936422\n",
      "ST_FrechetDistance calculation: Duration = 0.11223530769348145 seconds, Rows processed = 1936422\n",
      "Processing: Dikes_sills.geojson against Phosphate_nodules_pavement.geojson\n",
      "ST_Distance calculation: Duration = 0.10025191307067871 seconds, Rows processed = 2015754\n",
      "ST_HausdorffDistance calculation: Duration = 0.13627934455871582 seconds, Rows processed = 2015754\n",
      "ST_FrechetDistance calculation: Duration = 0.11064338684082031 seconds, Rows processed = 2015754\n",
      "Processing: Dikes_sills.geojson against Polymetallic_sulfide_deposits.geojson\n",
      "ST_Distance calculation: Duration = 0.10458803176879883 seconds, Rows processed = 46878\n",
      "ST_HausdorffDistance calculation: Duration = 0.11320829391479492 seconds, Rows processed = 46878\n",
      "ST_FrechetDistance calculation: Duration = 0.35310983657836914 seconds, Rows processed = 46878\n",
      "Processing: Dikes_sills.geojson against Rock_in_seafloor_sample.geojson\n",
      "ST_Distance calculation: Duration = 0.11215710639953613 seconds, Rows processed = 180300\n",
      "ST_HausdorffDistance calculation: Duration = 0.11277055740356445 seconds, Rows processed = 180300\n",
      "ST_FrechetDistance calculation: Duration = 0.13331222534179688 seconds, Rows processed = 180300\n",
      "Processing: Dikes_sills.geojson against Special_submarine_features.geojson\n",
      "ST_Distance calculation: Duration = 0.19008207321166992 seconds, Rows processed = 9956166\n",
      "ST_HausdorffDistance calculation: Duration = 0.18215632438659668 seconds, Rows processed = 9956166\n"
     ]
    },
    {
     "name": "stderr",
     "output_type": "stream",
     "text": [
      "                                                                                \r"
     ]
    },
    {
     "name": "stdout",
     "output_type": "stream",
     "text": [
      "ST_FrechetDistance calculation: Duration = 0.6272327899932861 seconds, Rows processed = 9956166\n",
      "Processing: Dikes_sills.geojson against Volcanoes.geojson\n",
      "ST_Distance calculation: Duration = 0.10408973693847656 seconds, Rows processed = 2199660\n",
      "ST_HausdorffDistance calculation: Duration = 0.10074853897094727 seconds, Rows processed = 2199660\n",
      "ST_FrechetDistance calculation: Duration = 0.13882827758789062 seconds, Rows processed = 2199660\n",
      "Processing: Dikes_sills.geojson against WorldContinents.geojson\n",
      "ST_Distance calculation: Duration = 0.25315308570861816 seconds, Rows processed = 28848\n",
      "ST_HausdorffDistance calculation: Duration = 0.1962122917175293 seconds, Rows processed = 28848\n",
      "ST_FrechetDistance calculation: Duration = 0.23800086975097656 seconds, Rows processed = 28848\n",
      "Processing: Dikes_sills.geojson against cb_2018_us_state_20m.json\n",
      "ST_Distance calculation: Duration = 0.1499178409576416 seconds, Rows processed = 187512\n",
      "ST_HausdorffDistance calculation: Duration = 0.1055457592010498 seconds, Rows processed = 187512\n",
      "ST_FrechetDistance calculation: Duration = 0.10784101486206055 seconds, Rows processed = 187512\n",
      "Processing: Faults.geojson against AgriculturalArea.geojson\n"
     ]
    },
    {
     "name": "stderr",
     "output_type": "stream",
     "text": [
      "                                                                                \r"
     ]
    },
    {
     "name": "stdout",
     "output_type": "stream",
     "text": [
      "ST_Distance calculation: Duration = 1.1650652885437012 seconds, Rows processed = 38141680\n",
      "ST_HausdorffDistance calculation: Duration = 0.9165472984313965 seconds, Rows processed = 38141680\n"
     ]
    },
    {
     "name": "stderr",
     "output_type": "stream",
     "text": [
      "                                                                                \r"
     ]
    },
    {
     "name": "stdout",
     "output_type": "stream",
     "text": [
      "ST_FrechetDistance calculation: Duration = 1.2818093299865723 seconds, Rows processed = 38141680\n",
      "Processing: Faults.geojson against CityBoundaries.geojson\n"
     ]
    },
    {
     "name": "stderr",
     "output_type": "stream",
     "text": [
      "                                                                                \r"
     ]
    },
    {
     "name": "stdout",
     "output_type": "stream",
     "text": [
      "ST_Distance calculation: Duration = 1.5814404487609863 seconds, Rows processed = 6212000\n"
     ]
    },
    {
     "name": "stderr",
     "output_type": "stream",
     "text": [
      "                                                                                \r"
     ]
    },
    {
     "name": "stdout",
     "output_type": "stream",
     "text": [
      "ST_HausdorffDistance calculation: Duration = 1.2979698181152344 seconds, Rows processed = 6212000\n"
     ]
    },
    {
     "name": "stderr",
     "output_type": "stream",
     "text": [
      "                                                                                \r"
     ]
    },
    {
     "name": "stdout",
     "output_type": "stream",
     "text": [
      "ST_FrechetDistance calculation: Duration = 1.2755601406097412 seconds, Rows processed = 6212000\n",
      "Processing: Faults.geojson against CountryTerritories.geojson\n",
      "ST_Distance calculation: Duration = 0.5631921291351318 seconds, Rows processed = 3180544\n",
      "ST_HausdorffDistance calculation: Duration = 0.5520980358123779 seconds, Rows processed = 3180544\n"
     ]
    },
    {
     "name": "stderr",
     "output_type": "stream",
     "text": [
      "                                                                                \r"
     ]
    },
    {
     "name": "stdout",
     "output_type": "stream",
     "text": [
      "ST_FrechetDistance calculation: Duration = 2.9867634773254395 seconds, Rows processed = 3180544\n",
      "Processing: Faults.geojson against EcoRegions.geojson\n"
     ]
    },
    {
     "name": "stderr",
     "output_type": "stream",
     "text": [
      "                                                                                \r"
     ]
    },
    {
     "name": "stdout",
     "output_type": "stream",
     "text": [
      "ST_Distance calculation: Duration = 2.406339645385742 seconds, Rows processed = 15530000\n"
     ]
    },
    {
     "name": "stderr",
     "output_type": "stream",
     "text": [
      "                                                                                \r"
     ]
    },
    {
     "name": "stdout",
     "output_type": "stream",
     "text": [
      "ST_HausdorffDistance calculation: Duration = 2.3400051593780518 seconds, Rows processed = 15530000\n"
     ]
    },
    {
     "name": "stderr",
     "output_type": "stream",
     "text": [
      "                                                                                \r"
     ]
    },
    {
     "name": "stdout",
     "output_type": "stream",
     "text": [
      "ST_FrechetDistance calculation: Duration = 2.383242130279541 seconds, Rows processed = 15530000\n",
      "Processing: Faults.geojson against GeographicRegions.geojson\n",
      "ST_Distance calculation: Duration = 0.5146365165710449 seconds, Rows processed = 13045200\n",
      "ST_HausdorffDistance calculation: Duration = 0.5201065540313721 seconds, Rows processed = 13045200\n",
      "ST_FrechetDistance calculation: Duration = 0.5047211647033691 seconds, Rows processed = 13045200\n",
      "Processing: Faults.geojson against Areas_diapiric_structures.geojson\n",
      "ST_Distance calculation: Duration = 0.39600324630737305 seconds, Rows processed = 956648\n",
      "ST_HausdorffDistance calculation: Duration = 0.42193174362182617 seconds, Rows processed = 956648\n",
      "ST_FrechetDistance calculation: Duration = 0.39606618881225586 seconds, Rows processed = 956648\n",
      "Processing: Faults.geojson against Bathymetry.geojson\n",
      "ST_Distance calculation: Duration = 0.958125114440918 seconds, Rows processed = 30438800\n"
     ]
    },
    {
     "name": "stderr",
     "output_type": "stream",
     "text": [
      "                                                                                \r"
     ]
    },
    {
     "name": "stdout",
     "output_type": "stream",
     "text": [
      "ST_HausdorffDistance calculation: Duration = 0.9634020328521729 seconds, Rows processed = 30438800\n"
     ]
    },
    {
     "name": "stderr",
     "output_type": "stream",
     "text": [
      "                                                                                \r"
     ]
    },
    {
     "name": "stdout",
     "output_type": "stream",
     "text": [
      "ST_FrechetDistance calculation: Duration = 0.9938101768493652 seconds, Rows processed = 30438800\n",
      "Processing: Faults.geojson against Calderas.geojson\n",
      "ST_Distance calculation: Duration = 0.40901970863342285 seconds, Rows processed = 894528\n"
     ]
    },
    {
     "name": "stderr",
     "output_type": "stream",
     "text": [
      "                                                                                \r"
     ]
    },
    {
     "name": "stdout",
     "output_type": "stream",
     "text": [
      "ST_HausdorffDistance calculation: Duration = 2.229924201965332 seconds, Rows processed = 894528\n",
      "ST_FrechetDistance calculation: Duration = 0.41575098037719727 seconds, Rows processed = 894528\n",
      "Processing: Faults.geojson against Diapiric_trends.geojson\n",
      "ST_Distance calculation: Duration = 0.3904736042022705 seconds, Rows processed = 2186624\n",
      "ST_HausdorffDistance calculation: Duration = 0.4038887023925781 seconds, Rows processed = 2186624\n",
      "ST_FrechetDistance calculation: Duration = 0.4209122657775879 seconds, Rows processed = 2186624\n",
      "Processing: Faults.geojson against Diapirs.geojson\n"
     ]
    },
    {
     "name": "stderr",
     "output_type": "stream",
     "text": [
      "                                                                                \r"
     ]
    },
    {
     "name": "stdout",
     "output_type": "stream",
     "text": [
      "ST_Distance calculation: Duration = 2.2433550357818604 seconds, Rows processed = 16822096\n",
      "ST_HausdorffDistance calculation: Duration = 0.4225654602050781 seconds, Rows processed = 16822096\n",
      "ST_FrechetDistance calculation: Duration = 0.4451873302459717 seconds, Rows processed = 16822096\n",
      "Processing: Faults.geojson against Dikes_sills.geojson\n",
      "ST_Distance calculation: Duration = 0.4724726676940918 seconds, Rows processed = 44800944\n",
      "ST_HausdorffDistance calculation: Duration = 0.4618847370147705 seconds, Rows processed = 44800944\n",
      "ST_FrechetDistance calculation: Duration = 0.4614903926849365 seconds, Rows processed = 44800944\n",
      "Processing: Faults.geojson against Gas_fluid_seep.geojson\n",
      "ST_Distance calculation: Duration = 0.39855408668518066 seconds, Rows processed = 472112\n",
      "ST_HausdorffDistance calculation: Duration = 0.39989471435546875 seconds, Rows processed = 472112\n",
      "ST_FrechetDistance calculation: Duration = 0.395953893661499 seconds, Rows processed = 472112\n",
      "Processing: Faults.geojson against Gas_oil_seep.geojson\n"
     ]
    },
    {
     "name": "stderr",
     "output_type": "stream",
     "text": [
      "                                                                                \r"
     ]
    },
    {
     "name": "stdout",
     "output_type": "stream",
     "text": [
      "ST_Distance calculation: Duration = 2.2243146896362305 seconds, Rows processed = 37272\n",
      "ST_HausdorffDistance calculation: Duration = 0.39971494674682617 seconds, Rows processed = 37272\n",
      "ST_FrechetDistance calculation: Duration = 0.3879842758178711 seconds, Rows processed = 37272\n",
      "Processing: Faults.geojson against Geologic_contacts.geojson\n"
     ]
    },
    {
     "name": "stderr",
     "output_type": "stream",
     "text": [
      "                                                                                \r"
     ]
    },
    {
     "name": "stdout",
     "output_type": "stream",
     "text": [
      "ST_Distance calculation: Duration = 2.778644561767578 seconds, Rows processed = 662894944\n"
     ]
    },
    {
     "name": "stderr",
     "output_type": "stream",
     "text": [
      "                                                                                \r"
     ]
    },
    {
     "name": "stdout",
     "output_type": "stream",
     "text": [
      "ST_HausdorffDistance calculation: Duration = 2.7442309856414795 seconds, Rows processed = 662894944\n"
     ]
    },
    {
     "name": "stderr",
     "output_type": "stream",
     "text": [
      "                                                                                \r"
     ]
    },
    {
     "name": "stdout",
     "output_type": "stream",
     "text": [
      "ST_FrechetDistance calculation: Duration = 12.811257600784302 seconds, Rows processed = 662894944\n",
      "Processing: Faults.geojson against Geologic_overprints.geojson\n",
      "ST_Distance calculation: Duration = 0.8987166881561279 seconds, Rows processed = 23257728\n",
      "ST_HausdorffDistance calculation: Duration = 0.8659796714782715 seconds, Rows processed = 23257728\n"
     ]
    },
    {
     "name": "stderr",
     "output_type": "stream",
     "text": [
      "                                                                                \r"
     ]
    },
    {
     "name": "stdout",
     "output_type": "stream",
     "text": [
      "ST_FrechetDistance calculation: Duration = 2.6787428855895996 seconds, Rows processed = 23257728\n",
      "Processing: Faults.geojson against Geologic_units.geojson\n"
     ]
    },
    {
     "name": "stderr",
     "output_type": "stream",
     "text": [
      "                                                                                \r"
     ]
    },
    {
     "name": "stdout",
     "output_type": "stream",
     "text": [
      "ST_Distance calculation: Duration = 5.41053032875061 seconds, Rows processed = 494823072\n"
     ]
    },
    {
     "name": "stderr",
     "output_type": "stream",
     "text": [
      "                                                                                \r"
     ]
    },
    {
     "name": "stdout",
     "output_type": "stream",
     "text": [
      "ST_HausdorffDistance calculation: Duration = 5.411996841430664 seconds, Rows processed = 494823072\n"
     ]
    },
    {
     "name": "stderr",
     "output_type": "stream",
     "text": [
      "                                                                                \r"
     ]
    },
    {
     "name": "stdout",
     "output_type": "stream",
     "text": [
      "ST_FrechetDistance calculation: Duration = 5.410165786743164 seconds, Rows processed = 494823072\n",
      "Processing: Faults.geojson against Glaciation_extents.geojson\n",
      "ST_Distance calculation: Duration = 0.41458916664123535 seconds, Rows processed = 310600\n"
     ]
    },
    {
     "name": "stderr",
     "output_type": "stream",
     "text": [
      "                                                                                \r"
     ]
    },
    {
     "name": "stdout",
     "output_type": "stream",
     "text": [
      "ST_HausdorffDistance calculation: Duration = 2.2479090690612793 seconds, Rows processed = 310600\n"
     ]
    },
    {
     "name": "stderr",
     "output_type": "stream",
     "text": [
      "                                                                                \r"
     ]
    },
    {
     "name": "stdout",
     "output_type": "stream",
     "text": [
      "ST_FrechetDistance calculation: Duration = 2.223140001296997 seconds, Rows processed = 310600\n",
      "Processing: Faults.geojson against Hydrothermal_vents.geojson\n",
      "ST_Distance calculation: Duration = 0.39241862297058105 seconds, Rows processed = 608776\n",
      "ST_HausdorffDistance calculation: Duration = 0.3840293884277344 seconds, Rows processed = 608776\n",
      "ST_FrechetDistance calculation: Duration = 0.3863067626953125 seconds, Rows processed = 608776\n",
      "Processing: Faults.geojson against Impact_structure_great_10_KM.geojson\n",
      "ST_Distance calculation: Duration = 0.46064209938049316 seconds, Rows processed = 385144\n"
     ]
    },
    {
     "name": "stderr",
     "output_type": "stream",
     "text": [
      "                                                                                \r"
     ]
    },
    {
     "name": "stdout",
     "output_type": "stream",
     "text": [
      "ST_HausdorffDistance calculation: Duration = 2.245621681213379 seconds, Rows processed = 385144\n",
      "ST_FrechetDistance calculation: Duration = 0.39661741256713867 seconds, Rows processed = 385144\n",
      "Processing: Faults.geojson against Impact_structure_less_10_KM.geojson\n",
      "ST_Distance calculation: Duration = 0.3709602355957031 seconds, Rows processed = 310600\n",
      "ST_HausdorffDistance calculation: Duration = 0.3869025707244873 seconds, Rows processed = 310600\n",
      "ST_FrechetDistance calculation: Duration = 0.4152064323425293 seconds, Rows processed = 310600\n",
      "Processing: Faults.geojson against Maganifeorus_deposits.geojson\n",
      "ST_Distance calculation: Duration = 0.4027547836303711 seconds, Rows processed = 6671688\n",
      "ST_HausdorffDistance calculation: Duration = 0.37578606605529785 seconds, Rows processed = 6671688\n",
      "ST_FrechetDistance calculation: Duration = 0.4129796028137207 seconds, Rows processed = 6671688\n",
      "Processing: Faults.geojson against Phosphate_nodules_pavement.geojson\n",
      "ST_Distance calculation: Duration = 0.39917755126953125 seconds, Rows processed = 6945016\n",
      "ST_HausdorffDistance calculation: Duration = 0.4095187187194824 seconds, Rows processed = 6945016\n",
      "ST_FrechetDistance calculation: Duration = 0.38268089294433594 seconds, Rows processed = 6945016\n",
      "Processing: Faults.geojson against Polymetallic_sulfide_deposits.geojson\n",
      "ST_Distance calculation: Duration = 0.3846859931945801 seconds, Rows processed = 161512\n",
      "ST_HausdorffDistance calculation: Duration = 0.3736720085144043 seconds, Rows processed = 161512\n",
      "ST_FrechetDistance calculation: Duration = 0.5777935981750488 seconds, Rows processed = 161512\n",
      "Processing: Faults.geojson against Rock_in_seafloor_sample.geojson\n",
      "ST_Distance calculation: Duration = 0.39305734634399414 seconds, Rows processed = 621200\n",
      "ST_HausdorffDistance calculation: Duration = 0.5002214908599854 seconds, Rows processed = 621200\n",
      "ST_FrechetDistance calculation: Duration = 0.3877420425415039 seconds, Rows processed = 621200\n",
      "Processing: Faults.geojson against Special_submarine_features.geojson\n",
      "ST_Distance calculation: Duration = 0.5113801956176758 seconds, Rows processed = 34302664\n",
      "ST_HausdorffDistance calculation: Duration = 0.5006618499755859 seconds, Rows processed = 34302664\n",
      "ST_FrechetDistance calculation: Duration = 0.5773377418518066 seconds, Rows processed = 34302664\n",
      "Processing: Faults.geojson against Volcanoes.geojson\n",
      "ST_Distance calculation: Duration = 0.4145078659057617 seconds, Rows processed = 7578640\n"
     ]
    },
    {
     "name": "stderr",
     "output_type": "stream",
     "text": [
      "                                                                                \r"
     ]
    },
    {
     "name": "stdout",
     "output_type": "stream",
     "text": [
      "ST_HausdorffDistance calculation: Duration = 2.1872129440307617 seconds, Rows processed = 7578640\n",
      "ST_FrechetDistance calculation: Duration = 0.3911867141723633 seconds, Rows processed = 7578640\n",
      "Processing: Faults.geojson against WorldContinents.geojson\n",
      "ST_Distance calculation: Duration = 0.4698002338409424 seconds, Rows processed = 99392\n",
      "ST_HausdorffDistance calculation: Duration = 0.5839138031005859 seconds, Rows processed = 99392\n",
      "ST_FrechetDistance calculation: Duration = 0.461745023727417 seconds, Rows processed = 99392\n",
      "Processing: Faults.geojson against cb_2018_us_state_20m.json\n"
     ]
    },
    {
     "name": "stderr",
     "output_type": "stream",
     "text": [
      "                                                                                \r"
     ]
    },
    {
     "name": "stdout",
     "output_type": "stream",
     "text": [
      "ST_Distance calculation: Duration = 2.1935644149780273 seconds, Rows processed = 646048\n",
      "ST_HausdorffDistance calculation: Duration = 0.4154667854309082 seconds, Rows processed = 646048\n",
      "ST_FrechetDistance calculation: Duration = 0.39869236946105957 seconds, Rows processed = 646048\n",
      "Processing: Gas_fluid_seep.geojson against AgriculturalArea.geojson\n",
      "ST_Distance calculation: Duration = 0.565432071685791 seconds, Rows processed = 116660\n"
     ]
    },
    {
     "name": "stderr",
     "output_type": "stream",
     "text": [
      "                                                                                \r"
     ]
    },
    {
     "name": "stdout",
     "output_type": "stream",
     "text": [
      "ST_HausdorffDistance calculation: Duration = 0.8411073684692383 seconds, Rows processed = 116660\n",
      "ST_FrechetDistance calculation: Duration = 0.6366193294525146 seconds, Rows processed = 116660\n",
      "Processing: Gas_fluid_seep.geojson against CityBoundaries.geojson\n"
     ]
    },
    {
     "name": "stderr",
     "output_type": "stream",
     "text": [
      "                                                                                \r"
     ]
    },
    {
     "name": "stdout",
     "output_type": "stream",
     "text": [
      "ST_Distance calculation: Duration = 0.9181220531463623 seconds, Rows processed = 19000\n"
     ]
    },
    {
     "name": "stderr",
     "output_type": "stream",
     "text": [
      "                                                                                \r"
     ]
    },
    {
     "name": "stdout",
     "output_type": "stream",
     "text": [
      "ST_HausdorffDistance calculation: Duration = 0.8868443965911865 seconds, Rows processed = 19000\n"
     ]
    },
    {
     "name": "stderr",
     "output_type": "stream",
     "text": [
      "                                                                                \r"
     ]
    },
    {
     "name": "stdout",
     "output_type": "stream",
     "text": [
      "ST_FrechetDistance calculation: Duration = 1.4555089473724365 seconds, Rows processed = 19000\n",
      "Processing: Gas_fluid_seep.geojson against CountryTerritories.geojson\n",
      "ST_Distance calculation: Duration = 0.2063140869140625 seconds, Rows processed = 9728\n",
      "ST_HausdorffDistance calculation: Duration = 0.20931363105773926 seconds, Rows processed = 9728\n",
      "ST_FrechetDistance calculation: Duration = 0.2140355110168457 seconds, Rows processed = 9728\n",
      "Processing: Gas_fluid_seep.geojson against EcoRegions.geojson\n"
     ]
    },
    {
     "name": "stderr",
     "output_type": "stream",
     "text": [
      "                                                                                \r"
     ]
    },
    {
     "name": "stdout",
     "output_type": "stream",
     "text": [
      "ST_Distance calculation: Duration = 1.9913134574890137 seconds, Rows processed = 47500\n"
     ]
    },
    {
     "name": "stderr",
     "output_type": "stream",
     "text": [
      "                                                                                \r"
     ]
    },
    {
     "name": "stdout",
     "output_type": "stream",
     "text": [
      "ST_HausdorffDistance calculation: Duration = 30.22019934654236 seconds, Rows processed = 47500\n"
     ]
    },
    {
     "name": "stderr",
     "output_type": "stream",
     "text": [
      "                                                                                \r"
     ]
    },
    {
     "name": "stdout",
     "output_type": "stream",
     "text": [
      "ST_FrechetDistance calculation: Duration = 1.9474456310272217 seconds, Rows processed = 47500\n",
      "Processing: Gas_fluid_seep.geojson against GeographicRegions.geojson\n",
      "ST_Distance calculation: Duration = 0.17997956275939941 seconds, Rows processed = 39900\n",
      "ST_HausdorffDistance calculation: Duration = 0.21608853340148926 seconds, Rows processed = 39900\n"
     ]
    },
    {
     "name": "stderr",
     "output_type": "stream",
     "text": [
      "                                                                                \r"
     ]
    },
    {
     "name": "stdout",
     "output_type": "stream",
     "text": [
      "ST_FrechetDistance calculation: Duration = 1.4588217735290527 seconds, Rows processed = 39900\n",
      "Processing: Gas_fluid_seep.geojson against Areas_diapiric_structures.geojson\n"
     ]
    },
    {
     "name": "stderr",
     "output_type": "stream",
     "text": [
      "                                                                                \r"
     ]
    },
    {
     "name": "stdout",
     "output_type": "stream",
     "text": [
      "ST_Distance calculation: Duration = 1.0959258079528809 seconds, Rows processed = 2926\n",
      "ST_HausdorffDistance calculation: Duration = 0.08090448379516602 seconds, Rows processed = 2926\n",
      "ST_FrechetDistance calculation: Duration = 0.0814661979675293 seconds, Rows processed = 2926\n",
      "Processing: Gas_fluid_seep.geojson against Bathymetry.geojson\n"
     ]
    },
    {
     "name": "stderr",
     "output_type": "stream",
     "text": [
      "                                                                                \r"
     ]
    },
    {
     "name": "stdout",
     "output_type": "stream",
     "text": [
      "ST_Distance calculation: Duration = 0.6997959613800049 seconds, Rows processed = 93100\n",
      "ST_HausdorffDistance calculation: Duration = 0.6258840560913086 seconds, Rows processed = 93100\n"
     ]
    },
    {
     "name": "stderr",
     "output_type": "stream",
     "text": [
      "                                                                                \r"
     ]
    },
    {
     "name": "stdout",
     "output_type": "stream",
     "text": [
      "ST_FrechetDistance calculation: Duration = 0.6642286777496338 seconds, Rows processed = 93100\n",
      "Processing: Gas_fluid_seep.geojson against Calderas.geojson\n",
      "ST_Distance calculation: Duration = 0.06552624702453613 seconds, Rows processed = 2736\n",
      "ST_HausdorffDistance calculation: Duration = 0.6431770324707031 seconds, Rows processed = 2736\n",
      "ST_FrechetDistance calculation: Duration = 0.06288957595825195 seconds, Rows processed = 2736\n",
      "Processing: Gas_fluid_seep.geojson against Diapiric_trends.geojson\n",
      "ST_Distance calculation: Duration = 0.06736016273498535 seconds, Rows processed = 6688\n",
      "ST_HausdorffDistance calculation: Duration = 0.07299590110778809 seconds, Rows processed = 6688\n",
      "ST_FrechetDistance calculation: Duration = 0.0643160343170166 seconds, Rows processed = 6688\n",
      "Processing: Gas_fluid_seep.geojson against Diapirs.geojson\n",
      "ST_Distance calculation: Duration = 0.6069858074188232 seconds, Rows processed = 51452\n"
     ]
    },
    {
     "name": "stderr",
     "output_type": "stream",
     "text": [
      "                                                                                \r"
     ]
    },
    {
     "name": "stdout",
     "output_type": "stream",
     "text": [
      "ST_HausdorffDistance calculation: Duration = 1.4572296142578125 seconds, Rows processed = 51452\n"
     ]
    },
    {
     "name": "stderr",
     "output_type": "stream",
     "text": [
      "                                                                                \r"
     ]
    },
    {
     "name": "stdout",
     "output_type": "stream",
     "text": [
      "ST_FrechetDistance calculation: Duration = 1.1400666236877441 seconds, Rows processed = 51452\n",
      "Processing: Gas_fluid_seep.geojson against Dikes_sills.geojson\n",
      "ST_Distance calculation: Duration = 0.4062232971191406 seconds, Rows processed = 137028\n",
      "ST_HausdorffDistance calculation: Duration = 0.10542631149291992 seconds, Rows processed = 137028\n",
      "ST_FrechetDistance calculation: Duration = 0.2999875545501709 seconds, Rows processed = 137028\n",
      "Processing: Gas_fluid_seep.geojson against Faults.geojson\n",
      "ST_Distance calculation: Duration = 0.3881349563598633 seconds, Rows processed = 472112\n",
      "ST_HausdorffDistance calculation: Duration = 0.38135266304016113 seconds, Rows processed = 472112\n",
      "ST_FrechetDistance calculation: Duration = 0.47295284271240234 seconds, Rows processed = 472112\n",
      "Processing: Gas_fluid_seep.geojson against Gas_oil_seep.geojson\n",
      "ST_Distance calculation: Duration = 0.06154608726501465 seconds, Rows processed = 114\n"
     ]
    },
    {
     "name": "stderr",
     "output_type": "stream",
     "text": [
      "                                                                                \r"
     ]
    },
    {
     "name": "stdout",
     "output_type": "stream",
     "text": [
      "ST_HausdorffDistance calculation: Duration = 1.0557799339294434 seconds, Rows processed = 114\n",
      "ST_FrechetDistance calculation: Duration = 0.06615161895751953 seconds, Rows processed = 114\n",
      "Processing: Gas_fluid_seep.geojson against Geologic_contacts.geojson\n"
     ]
    },
    {
     "name": "stderr",
     "output_type": "stream",
     "text": [
      "                                                                                \r"
     ]
    },
    {
     "name": "stdout",
     "output_type": "stream",
     "text": [
      "ST_Distance calculation: Duration = 2.1855275630950928 seconds, Rows processed = 2027528\n"
     ]
    },
    {
     "name": "stderr",
     "output_type": "stream",
     "text": [
      "                                                                                \r"
     ]
    },
    {
     "name": "stdout",
     "output_type": "stream",
     "text": [
      "ST_HausdorffDistance calculation: Duration = 2.9092414379119873 seconds, Rows processed = 2027528\n"
     ]
    },
    {
     "name": "stderr",
     "output_type": "stream",
     "text": [
      "                                                                                \r"
     ]
    },
    {
     "name": "stdout",
     "output_type": "stream",
     "text": [
      "ST_FrechetDistance calculation: Duration = 3.04962420463562 seconds, Rows processed = 2027528\n",
      "Processing: Gas_fluid_seep.geojson against Geologic_overprints.geojson\n"
     ]
    },
    {
     "name": "stderr",
     "output_type": "stream",
     "text": [
      "                                                                                \r"
     ]
    },
    {
     "name": "stdout",
     "output_type": "stream",
     "text": [
      "ST_Distance calculation: Duration = 4.498844861984253 seconds, Rows processed = 71136\n",
      "ST_HausdorffDistance calculation: Duration = 0.6321423053741455 seconds, Rows processed = 71136\n",
      "ST_FrechetDistance calculation: Duration = 0.5079660415649414 seconds, Rows processed = 71136\n",
      "Processing: Gas_fluid_seep.geojson against Geologic_units.geojson\n"
     ]
    },
    {
     "name": "stderr",
     "output_type": "stream",
     "text": [
      "                                                                                \r"
     ]
    },
    {
     "name": "stdout",
     "output_type": "stream",
     "text": [
      "ST_Distance calculation: Duration = 4.938472032546997 seconds, Rows processed = 1513464\n"
     ]
    },
    {
     "name": "stderr",
     "output_type": "stream",
     "text": [
      "                                                                                \r"
     ]
    },
    {
     "name": "stdout",
     "output_type": "stream",
     "text": [
      "ST_HausdorffDistance calculation: Duration = 4.699781656265259 seconds, Rows processed = 1513464\n"
     ]
    },
    {
     "name": "stderr",
     "output_type": "stream",
     "text": [
      "                                                                                \r"
     ]
    },
    {
     "name": "stdout",
     "output_type": "stream",
     "text": [
      "ST_FrechetDistance calculation: Duration = 48.80853247642517 seconds, Rows processed = 1513464\n",
      "Processing: Gas_fluid_seep.geojson against Glaciation_extents.geojson\n"
     ]
    },
    {
     "name": "stderr",
     "output_type": "stream",
     "text": [
      "                                                                                \r"
     ]
    },
    {
     "name": "stdout",
     "output_type": "stream",
     "text": [
      "ST_Distance calculation: Duration = 0.7616236209869385 seconds, Rows processed = 950\n",
      "ST_HausdorffDistance calculation: Duration = 0.7214958667755127 seconds, Rows processed = 950\n",
      "ST_FrechetDistance calculation: Duration = 0.07156109809875488 seconds, Rows processed = 950\n",
      "Processing: Gas_fluid_seep.geojson against Hydrothermal_vents.geojson\n",
      "ST_Distance calculation: Duration = 0.06794142723083496 seconds, Rows processed = 1862\n",
      "ST_HausdorffDistance calculation: Duration = 0.620997428894043 seconds, Rows processed = 1862\n",
      "ST_FrechetDistance calculation: Duration = 0.06510567665100098 seconds, Rows processed = 1862\n",
      "Processing: Gas_fluid_seep.geojson against Impact_structure_great_10_KM.geojson\n",
      "ST_Distance calculation: Duration = 0.9713003635406494 seconds, Rows processed = 1178\n",
      "ST_HausdorffDistance calculation: Duration = 0.7856276035308838 seconds, Rows processed = 1178\n",
      "ST_FrechetDistance calculation: Duration = 0.07580041885375977 seconds, Rows processed = 1178\n",
      "Processing: Gas_fluid_seep.geojson against Impact_structure_less_10_KM.geojson\n",
      "ST_Distance calculation: Duration = 0.05989480018615723 seconds, Rows processed = 950\n",
      "ST_HausdorffDistance calculation: Duration = 0.13325262069702148 seconds, Rows processed = 950\n",
      "ST_FrechetDistance calculation: Duration = 0.43924665451049805 seconds, Rows processed = 950\n",
      "Processing: Gas_fluid_seep.geojson against Maganifeorus_deposits.geojson\n",
      "ST_Distance calculation: Duration = 0.06948995590209961 seconds, Rows processed = 20406\n",
      "ST_HausdorffDistance calculation: Duration = 0.06609082221984863 seconds, Rows processed = 20406\n",
      "ST_FrechetDistance calculation: Duration = 0.06414914131164551 seconds, Rows processed = 20406\n",
      "Processing: Gas_fluid_seep.geojson against Phosphate_nodules_pavement.geojson\n",
      "ST_Distance calculation: Duration = 0.1325089931488037 seconds, Rows processed = 21242\n",
      "ST_HausdorffDistance calculation: Duration = 0.11608648300170898 seconds, Rows processed = 21242\n",
      "ST_FrechetDistance calculation: Duration = 0.07061290740966797 seconds, Rows processed = 21242\n",
      "Processing: Gas_fluid_seep.geojson against Polymetallic_sulfide_deposits.geojson\n",
      "ST_Distance calculation: Duration = 0.4144277572631836 seconds, Rows processed = 494\n",
      "ST_HausdorffDistance calculation: Duration = 0.06574296951293945 seconds, Rows processed = 494\n",
      "ST_FrechetDistance calculation: Duration = 0.0599212646484375 seconds, Rows processed = 494\n",
      "Processing: Gas_fluid_seep.geojson against Rock_in_seafloor_sample.geojson\n"
     ]
    },
    {
     "name": "stderr",
     "output_type": "stream",
     "text": [
      "                                                                                \r"
     ]
    },
    {
     "name": "stdout",
     "output_type": "stream",
     "text": [
      "ST_Distance calculation: Duration = 1.1273550987243652 seconds, Rows processed = 1900\n",
      "ST_HausdorffDistance calculation: Duration = 0.06641912460327148 seconds, Rows processed = 1900\n",
      "ST_FrechetDistance calculation: Duration = 0.05897879600524902 seconds, Rows processed = 1900\n",
      "Processing: Gas_fluid_seep.geojson against Special_submarine_features.geojson\n",
      "ST_Distance calculation: Duration = 0.15057158470153809 seconds, Rows processed = 104918\n"
     ]
    },
    {
     "name": "stderr",
     "output_type": "stream",
     "text": [
      "                                                                                \r"
     ]
    },
    {
     "name": "stdout",
     "output_type": "stream",
     "text": [
      "ST_HausdorffDistance calculation: Duration = 1.4798688888549805 seconds, Rows processed = 104918\n",
      "ST_FrechetDistance calculation: Duration = 0.15033578872680664 seconds, Rows processed = 104918\n",
      "Processing: Gas_fluid_seep.geojson against Volcanoes.geojson\n",
      "ST_Distance calculation: Duration = 0.06369376182556152 seconds, Rows processed = 23180\n"
     ]
    },
    {
     "name": "stderr",
     "output_type": "stream",
     "text": [
      "                                                                                \r"
     ]
    },
    {
     "name": "stdout",
     "output_type": "stream",
     "text": [
      "ST_HausdorffDistance calculation: Duration = 0.9015746116638184 seconds, Rows processed = 23180\n",
      "ST_FrechetDistance calculation: Duration = 0.9551911354064941 seconds, Rows processed = 23180\n",
      "Processing: Gas_fluid_seep.geojson against WorldContinents.geojson\n",
      "ST_Distance calculation: Duration = 0.22705864906311035 seconds, Rows processed = 304\n",
      "ST_HausdorffDistance calculation: Duration = 0.15088987350463867 seconds, Rows processed = 304\n",
      "ST_FrechetDistance calculation: Duration = 0.15123295783996582 seconds, Rows processed = 304\n",
      "Processing: Gas_fluid_seep.geojson against cb_2018_us_state_20m.json\n",
      "ST_Distance calculation: Duration = 0.16715264320373535 seconds, Rows processed = 1976\n",
      "ST_HausdorffDistance calculation: Duration = 0.12210965156555176 seconds, Rows processed = 1976\n"
     ]
    },
    {
     "name": "stderr",
     "output_type": "stream",
     "text": [
      "                                                                                \r"
     ]
    },
    {
     "name": "stdout",
     "output_type": "stream",
     "text": [
      "ST_FrechetDistance calculation: Duration = 0.789588451385498 seconds, Rows processed = 1976\n",
      "Processing: Gas_oil_seep.geojson against AgriculturalArea.geojson\n"
     ]
    },
    {
     "name": "stderr",
     "output_type": "stream",
     "text": [
      "                                                                                \r"
     ]
    },
    {
     "name": "stdout",
     "output_type": "stream",
     "text": [
      "ST_Distance calculation: Duration = 0.6554186344146729 seconds, Rows processed = 9210\n",
      "ST_HausdorffDistance calculation: Duration = 0.5292580127716064 seconds, Rows processed = 9210\n"
     ]
    },
    {
     "name": "stderr",
     "output_type": "stream",
     "text": [
      "                                                                                \r"
     ]
    },
    {
     "name": "stdout",
     "output_type": "stream",
     "text": [
      "ST_FrechetDistance calculation: Duration = 1.3558974266052246 seconds, Rows processed = 9210\n",
      "Processing: Gas_oil_seep.geojson against CityBoundaries.geojson\n"
     ]
    },
    {
     "name": "stderr",
     "output_type": "stream",
     "text": [
      "                                                                                \r"
     ]
    },
    {
     "name": "stdout",
     "output_type": "stream",
     "text": [
      "ST_Distance calculation: Duration = 0.8897898197174072 seconds, Rows processed = 1500\n"
     ]
    },
    {
     "name": "stderr",
     "output_type": "stream",
     "text": [
      "                                                                                \r"
     ]
    },
    {
     "name": "stdout",
     "output_type": "stream",
     "text": [
      "ST_HausdorffDistance calculation: Duration = 6.392813444137573 seconds, Rows processed = 1500\n"
     ]
    },
    {
     "name": "stderr",
     "output_type": "stream",
     "text": [
      "                                                                                \r"
     ]
    },
    {
     "name": "stdout",
     "output_type": "stream",
     "text": [
      "ST_FrechetDistance calculation: Duration = 6.84399676322937 seconds, Rows processed = 1500\n",
      "Processing: Gas_oil_seep.geojson against CountryTerritories.geojson\n"
     ]
    },
    {
     "name": "stderr",
     "output_type": "stream",
     "text": [
      "                                                                                \r"
     ]
    },
    {
     "name": "stdout",
     "output_type": "stream",
     "text": [
      "ST_Distance calculation: Duration = 7.243633508682251 seconds, Rows processed = 768\n",
      "ST_HausdorffDistance calculation: Duration = 0.742102861404419 seconds, Rows processed = 768\n",
      "ST_FrechetDistance calculation: Duration = 0.25519561767578125 seconds, Rows processed = 768\n",
      "Processing: Gas_oil_seep.geojson against EcoRegions.geojson\n"
     ]
    },
    {
     "name": "stderr",
     "output_type": "stream",
     "text": [
      "                                                                                \r"
     ]
    },
    {
     "name": "stdout",
     "output_type": "stream",
     "text": [
      "ST_Distance calculation: Duration = 1.8940815925598145 seconds, Rows processed = 3750\n"
     ]
    },
    {
     "name": "stderr",
     "output_type": "stream",
     "text": [
      "                                                                                \r"
     ]
    },
    {
     "name": "stdout",
     "output_type": "stream",
     "text": [
      "ST_HausdorffDistance calculation: Duration = 2.667245388031006 seconds, Rows processed = 3750\n"
     ]
    },
    {
     "name": "stderr",
     "output_type": "stream",
     "text": [
      "                                                                                \r"
     ]
    },
    {
     "name": "stdout",
     "output_type": "stream",
     "text": [
      "ST_FrechetDistance calculation: Duration = 1.9252395629882812 seconds, Rows processed = 3750\n",
      "Processing: Gas_oil_seep.geojson against GeographicRegions.geojson\n",
      "ST_Distance calculation: Duration = 0.18724822998046875 seconds, Rows processed = 3150\n",
      "ST_HausdorffDistance calculation: Duration = 0.19153618812561035 seconds, Rows processed = 3150\n"
     ]
    },
    {
     "name": "stderr",
     "output_type": "stream",
     "text": [
      "                                                                                \r"
     ]
    },
    {
     "name": "stdout",
     "output_type": "stream",
     "text": [
      "ST_FrechetDistance calculation: Duration = 0.8569777011871338 seconds, Rows processed = 3150\n",
      "Processing: Gas_oil_seep.geojson against Areas_diapiric_structures.geojson\n",
      "ST_Distance calculation: Duration = 0.07306051254272461 seconds, Rows processed = 231\n",
      "ST_HausdorffDistance calculation: Duration = 0.7173457145690918 seconds, Rows processed = 231\n"
     ]
    },
    {
     "name": "stderr",
     "output_type": "stream",
     "text": [
      "                                                                                \r"
     ]
    },
    {
     "name": "stdout",
     "output_type": "stream",
     "text": [
      "ST_FrechetDistance calculation: Duration = 0.9963862895965576 seconds, Rows processed = 231\n",
      "Processing: Gas_oil_seep.geojson against Bathymetry.geojson\n"
     ]
    },
    {
     "name": "stderr",
     "output_type": "stream",
     "text": [
      "                                                                                \r"
     ]
    },
    {
     "name": "stdout",
     "output_type": "stream",
     "text": [
      "ST_Distance calculation: Duration = 0.6064519882202148 seconds, Rows processed = 7350\n"
     ]
    },
    {
     "name": "stderr",
     "output_type": "stream",
     "text": [
      "                                                                                \r"
     ]
    },
    {
     "name": "stdout",
     "output_type": "stream",
     "text": [
      "ST_HausdorffDistance calculation: Duration = 9.96104884147644 seconds, Rows processed = 7350\n"
     ]
    },
    {
     "name": "stderr",
     "output_type": "stream",
     "text": [
      "                                                                                \r"
     ]
    },
    {
     "name": "stdout",
     "output_type": "stream",
     "text": [
      "ST_FrechetDistance calculation: Duration = 7.8635008335113525 seconds, Rows processed = 7350\n",
      "Processing: Gas_oil_seep.geojson against Calderas.geojson\n",
      "ST_Distance calculation: Duration = 0.0725865364074707 seconds, Rows processed = 216\n",
      "ST_HausdorffDistance calculation: Duration = 0.6604022979736328 seconds, Rows processed = 216\n",
      "ST_FrechetDistance calculation: Duration = 0.07713532447814941 seconds, Rows processed = 216\n",
      "Processing: Gas_oil_seep.geojson against Diapiric_trends.geojson\n",
      "ST_Distance calculation: Duration = 0.2199258804321289 seconds, Rows processed = 528\n",
      "ST_HausdorffDistance calculation: Duration = 1.0119667053222656 seconds, Rows processed = 528\n",
      "ST_FrechetDistance calculation: Duration = 0.0696568489074707 seconds, Rows processed = 528\n",
      "Processing: Gas_oil_seep.geojson against Diapirs.geojson\n",
      "ST_Distance calculation: Duration = 0.06222653388977051 seconds, Rows processed = 4062\n",
      "ST_HausdorffDistance calculation: Duration = 0.4239232540130615 seconds, Rows processed = 4062\n",
      "ST_FrechetDistance calculation: Duration = 0.23206686973571777 seconds, Rows processed = 4062\n",
      "Processing: Gas_oil_seep.geojson against Dikes_sills.geojson\n",
      "ST_Distance calculation: Duration = 0.7772400379180908 seconds, Rows processed = 10818\n",
      "ST_HausdorffDistance calculation: Duration = 0.7917337417602539 seconds, Rows processed = 10818\n"
     ]
    },
    {
     "name": "stderr",
     "output_type": "stream",
     "text": [
      "                                                                                \r"
     ]
    },
    {
     "name": "stdout",
     "output_type": "stream",
     "text": [
      "ST_FrechetDistance calculation: Duration = 1.0512592792510986 seconds, Rows processed = 10818\n",
      "Processing: Gas_oil_seep.geojson against Faults.geojson\n",
      "ST_Distance calculation: Duration = 0.39056396484375 seconds, Rows processed = 37272\n",
      "ST_HausdorffDistance calculation: Duration = 0.3947591781616211 seconds, Rows processed = 37272\n",
      "ST_FrechetDistance calculation: Duration = 0.7661459445953369 seconds, Rows processed = 37272\n",
      "Processing: Gas_oil_seep.geojson against Gas_fluid_seep.geojson\n",
      "ST_Distance calculation: Duration = 0.06311726570129395 seconds, Rows processed = 114\n",
      "ST_HausdorffDistance calculation: Duration = 0.06986260414123535 seconds, Rows processed = 114\n",
      "ST_FrechetDistance calculation: Duration = 0.09601354598999023 seconds, Rows processed = 114\n",
      "Processing: Gas_oil_seep.geojson against Geologic_contacts.geojson\n"
     ]
    },
    {
     "name": "stderr",
     "output_type": "stream",
     "text": [
      "                                                                                \r"
     ]
    },
    {
     "name": "stdout",
     "output_type": "stream",
     "text": [
      "ST_Distance calculation: Duration = 2.9061338901519775 seconds, Rows processed = 160068\n"
     ]
    },
    {
     "name": "stderr",
     "output_type": "stream",
     "text": [
      "                                                                                \r"
     ]
    },
    {
     "name": "stdout",
     "output_type": "stream",
     "text": [
      "ST_HausdorffDistance calculation: Duration = 2.018852710723877 seconds, Rows processed = 160068\n"
     ]
    },
    {
     "name": "stderr",
     "output_type": "stream",
     "text": [
      "                                                                                \r"
     ]
    },
    {
     "name": "stdout",
     "output_type": "stream",
     "text": [
      "ST_FrechetDistance calculation: Duration = 2.0285871028900146 seconds, Rows processed = 160068\n",
      "Processing: Gas_oil_seep.geojson against Geologic_overprints.geojson\n",
      "ST_Distance calculation: Duration = 0.4669620990753174 seconds, Rows processed = 5616\n",
      "ST_HausdorffDistance calculation: Duration = 0.49505090713500977 seconds, Rows processed = 5616\n",
      "ST_FrechetDistance calculation: Duration = 0.4806201457977295 seconds, Rows processed = 5616\n",
      "Processing: Gas_oil_seep.geojson against Geologic_units.geojson\n"
     ]
    },
    {
     "name": "stderr",
     "output_type": "stream",
     "text": [
      "                                                                                \r"
     ]
    },
    {
     "name": "stdout",
     "output_type": "stream",
     "text": [
      "ST_Distance calculation: Duration = 5.006193161010742 seconds, Rows processed = 119484\n"
     ]
    },
    {
     "name": "stderr",
     "output_type": "stream",
     "text": [
      "24/04/22 13:06:08 ERROR TaskSchedulerImpl: Lost executor 13 on 129.82.44.142: Command exited with code 52\n",
      "                                                                                \r"
     ]
    },
    {
     "name": "stdout",
     "output_type": "stream",
     "text": [
      "ST_HausdorffDistance calculation: Duration = 49.685829877853394 seconds, Rows processed = 119484\n"
     ]
    },
    {
     "name": "stderr",
     "output_type": "stream",
     "text": [
      "                                                                                \r"
     ]
    },
    {
     "name": "stdout",
     "output_type": "stream",
     "text": [
      "ST_FrechetDistance calculation: Duration = 25.956722497940063 seconds, Rows processed = 119484\n",
      "Processing: Gas_oil_seep.geojson against Glaciation_extents.geojson\n",
      "ST_Distance calculation: Duration = 0.0666344165802002 seconds, Rows processed = 75\n",
      "ST_HausdorffDistance calculation: Duration = 0.0645146369934082 seconds, Rows processed = 75\n",
      "ST_FrechetDistance calculation: Duration = 0.09621930122375488 seconds, Rows processed = 75\n",
      "Processing: Gas_oil_seep.geojson against Hydrothermal_vents.geojson\n",
      "ST_Distance calculation: Duration = 0.07152652740478516 seconds, Rows processed = 147\n",
      "ST_HausdorffDistance calculation: Duration = 0.22076058387756348 seconds, Rows processed = 147\n",
      "ST_FrechetDistance calculation: Duration = 0.21071434020996094 seconds, Rows processed = 147\n",
      "Processing: Gas_oil_seep.geojson against Impact_structure_great_10_KM.geojson\n",
      "ST_Distance calculation: Duration = 0.07356548309326172 seconds, Rows processed = 93\n",
      "ST_HausdorffDistance calculation: Duration = 0.22587847709655762 seconds, Rows processed = 93\n",
      "ST_FrechetDistance calculation: Duration = 0.07076334953308105 seconds, Rows processed = 93\n",
      "Processing: Gas_oil_seep.geojson against Impact_structure_less_10_KM.geojson\n",
      "ST_Distance calculation: Duration = 0.08421659469604492 seconds, Rows processed = 75\n",
      "ST_HausdorffDistance calculation: Duration = 0.0573267936706543 seconds, Rows processed = 75\n",
      "ST_FrechetDistance calculation: Duration = 0.06412243843078613 seconds, Rows processed = 75\n",
      "Processing: Gas_oil_seep.geojson against Maganifeorus_deposits.geojson\n",
      "ST_Distance calculation: Duration = 0.058499813079833984 seconds, Rows processed = 1611\n",
      "ST_HausdorffDistance calculation: Duration = 0.06402015686035156 seconds, Rows processed = 1611\n",
      "ST_FrechetDistance calculation: Duration = 0.05769610404968262 seconds, Rows processed = 1611\n",
      "Processing: Gas_oil_seep.geojson against Phosphate_nodules_pavement.geojson\n",
      "ST_Distance calculation: Duration = 0.05782008171081543 seconds, Rows processed = 1677\n",
      "ST_HausdorffDistance calculation: Duration = 0.062161922454833984 seconds, Rows processed = 1677\n",
      "ST_FrechetDistance calculation: Duration = 0.19336676597595215 seconds, Rows processed = 1677\n",
      "Processing: Gas_oil_seep.geojson against Polymetallic_sulfide_deposits.geojson\n",
      "ST_Distance calculation: Duration = 0.06501555442810059 seconds, Rows processed = 39\n",
      "ST_HausdorffDistance calculation: Duration = 0.05668807029724121 seconds, Rows processed = 39\n",
      "ST_FrechetDistance calculation: Duration = 0.056458473205566406 seconds, Rows processed = 39\n",
      "Processing: Gas_oil_seep.geojson against Rock_in_seafloor_sample.geojson\n",
      "ST_Distance calculation: Duration = 0.06238198280334473 seconds, Rows processed = 150\n",
      "ST_HausdorffDistance calculation: Duration = 0.06274151802062988 seconds, Rows processed = 150\n",
      "ST_FrechetDistance calculation: Duration = 0.05664634704589844 seconds, Rows processed = 150\n",
      "Processing: Gas_oil_seep.geojson against Special_submarine_features.geojson\n",
      "ST_Distance calculation: Duration = 0.1481308937072754 seconds, Rows processed = 8283\n",
      "ST_HausdorffDistance calculation: Duration = 0.13339781761169434 seconds, Rows processed = 8283\n",
      "ST_FrechetDistance calculation: Duration = 0.14323186874389648 seconds, Rows processed = 8283\n",
      "Processing: Gas_oil_seep.geojson against Volcanoes.geojson\n",
      "ST_Distance calculation: Duration = 0.06261920928955078 seconds, Rows processed = 1830\n",
      "ST_HausdorffDistance calculation: Duration = 0.30753207206726074 seconds, Rows processed = 1830\n",
      "ST_FrechetDistance calculation: Duration = 0.19984197616577148 seconds, Rows processed = 1830\n",
      "Processing: Gas_oil_seep.geojson against WorldContinents.geojson\n",
      "ST_Distance calculation: Duration = 0.2926974296569824 seconds, Rows processed = 24\n",
      "ST_HausdorffDistance calculation: Duration = 0.14629244804382324 seconds, Rows processed = 24\n",
      "ST_FrechetDistance calculation: Duration = 0.15268778800964355 seconds, Rows processed = 24\n",
      "Processing: Gas_oil_seep.geojson against cb_2018_us_state_20m.json\n",
      "ST_Distance calculation: Duration = 0.0643460750579834 seconds, Rows processed = 156\n",
      "ST_HausdorffDistance calculation: Duration = 0.07926416397094727 seconds, Rows processed = 156\n",
      "ST_FrechetDistance calculation: Duration = 0.07208919525146484 seconds, Rows processed = 156\n",
      "Processing: Geologic_contacts.geojson against AgriculturalArea.geojson\n"
     ]
    },
    {
     "name": "stderr",
     "output_type": "stream",
     "text": [
      "                                                                                \r"
     ]
    },
    {
     "name": "stdout",
     "output_type": "stream",
     "text": [
      "ST_Distance calculation: Duration = 2.5430285930633545 seconds, Rows processed = 163802920\n"
     ]
    },
    {
     "name": "stderr",
     "output_type": "stream",
     "text": [
      "                                                                                \r"
     ]
    },
    {
     "name": "stdout",
     "output_type": "stream",
     "text": [
      "ST_HausdorffDistance calculation: Duration = 2.5040738582611084 seconds, Rows processed = 163802920\n"
     ]
    },
    {
     "name": "stderr",
     "output_type": "stream",
     "text": [
      "                                                                                \r"
     ]
    },
    {
     "name": "stdout",
     "output_type": "stream",
     "text": [
      "ST_FrechetDistance calculation: Duration = 6.378286838531494 seconds, Rows processed = 163802920\n",
      "Processing: Geologic_contacts.geojson against CityBoundaries.geojson\n"
     ]
    },
    {
     "name": "stderr",
     "output_type": "stream",
     "text": [
      "                                                                                \r"
     ]
    },
    {
     "name": "stdout",
     "output_type": "stream",
     "text": [
      "ST_Distance calculation: Duration = 2.9103481769561768 seconds, Rows processed = 26678000\n"
     ]
    },
    {
     "name": "stderr",
     "output_type": "stream",
     "text": [
      "                                                                                \r"
     ]
    },
    {
     "name": "stdout",
     "output_type": "stream",
     "text": [
      "ST_HausdorffDistance calculation: Duration = 2.823612689971924 seconds, Rows processed = 26678000\n"
     ]
    },
    {
     "name": "stderr",
     "output_type": "stream",
     "text": [
      "                                                                                \r"
     ]
    },
    {
     "name": "stdout",
     "output_type": "stream",
     "text": [
      "ST_FrechetDistance calculation: Duration = 18.655235290527344 seconds, Rows processed = 26678000\n",
      "Processing: Geologic_contacts.geojson against CountryTerritories.geojson\n"
     ]
    },
    {
     "name": "stderr",
     "output_type": "stream",
     "text": [
      "                                                                                \r"
     ]
    },
    {
     "name": "stdout",
     "output_type": "stream",
     "text": [
      "ST_Distance calculation: Duration = 2.1988325119018555 seconds, Rows processed = 13659136\n"
     ]
    },
    {
     "name": "stderr",
     "output_type": "stream",
     "text": [
      "                                                                                \r"
     ]
    },
    {
     "name": "stdout",
     "output_type": "stream",
     "text": [
      "ST_HausdorffDistance calculation: Duration = 2.0948476791381836 seconds, Rows processed = 13659136\n"
     ]
    },
    {
     "name": "stderr",
     "output_type": "stream",
     "text": [
      "                                                                                \r"
     ]
    },
    {
     "name": "stdout",
     "output_type": "stream",
     "text": [
      "ST_FrechetDistance calculation: Duration = 2.180344343185425 seconds, Rows processed = 13659136\n",
      "Processing: Geologic_contacts.geojson against EcoRegions.geojson\n"
     ]
    },
    {
     "name": "stderr",
     "output_type": "stream",
     "text": [
      "                                                                                \r"
     ]
    },
    {
     "name": "stdout",
     "output_type": "stream",
     "text": [
      "ST_Distance calculation: Duration = 6.302701473236084 seconds, Rows processed = 66695000\n"
     ]
    },
    {
     "name": "stderr",
     "output_type": "stream",
     "text": [
      "                                                                                \r"
     ]
    },
    {
     "name": "stdout",
     "output_type": "stream",
     "text": [
      "ST_HausdorffDistance calculation: Duration = 3.9055237770080566 seconds, Rows processed = 66695000\n"
     ]
    },
    {
     "name": "stderr",
     "output_type": "stream",
     "text": [
      "                                                                                \r"
     ]
    },
    {
     "name": "stdout",
     "output_type": "stream",
     "text": [
      "ST_FrechetDistance calculation: Duration = 3.922349691390991 seconds, Rows processed = 66695000\n",
      "Processing: Geologic_contacts.geojson against GeographicRegions.geojson\n"
     ]
    },
    {
     "name": "stderr",
     "output_type": "stream",
     "text": [
      "                                                                                \r"
     ]
    },
    {
     "name": "stdout",
     "output_type": "stream",
     "text": [
      "ST_Distance calculation: Duration = 2.2460415363311768 seconds, Rows processed = 56023800\n"
     ]
    },
    {
     "name": "stderr",
     "output_type": "stream",
     "text": [
      "                                                                                \r"
     ]
    },
    {
     "name": "stdout",
     "output_type": "stream",
     "text": [
      "ST_HausdorffDistance calculation: Duration = 6.710933208465576 seconds, Rows processed = 56023800\n"
     ]
    },
    {
     "name": "stderr",
     "output_type": "stream",
     "text": [
      "                                                                                \r"
     ]
    },
    {
     "name": "stdout",
     "output_type": "stream",
     "text": [
      "ST_FrechetDistance calculation: Duration = 2.202981948852539 seconds, Rows processed = 56023800\n",
      "Processing: Geologic_contacts.geojson against Areas_diapiric_structures.geojson\n"
     ]
    },
    {
     "name": "stderr",
     "output_type": "stream",
     "text": [
      "                                                                                \r"
     ]
    },
    {
     "name": "stdout",
     "output_type": "stream",
     "text": [
      "ST_Distance calculation: Duration = 18.51974129676819 seconds, Rows processed = 4108412\n"
     ]
    },
    {
     "name": "stderr",
     "output_type": "stream",
     "text": [
      "                                                                                \r"
     ]
    },
    {
     "name": "stdout",
     "output_type": "stream",
     "text": [
      "ST_HausdorffDistance calculation: Duration = 2.068279504776001 seconds, Rows processed = 4108412\n"
     ]
    },
    {
     "name": "stderr",
     "output_type": "stream",
     "text": [
      "[Stage 4808:>                                                       (0 + 1) / 1]\r"
     ]
    },
    {
     "name": "stdout",
     "output_type": "stream",
     "text": [
      "ST_FrechetDistance calculation: Duration = 2.1394968032836914 seconds, Rows processed = 4108412\n",
      "Processing: Geologic_contacts.geojson against Bathymetry.geojson\n"
     ]
    },
    {
     "name": "stderr",
     "output_type": "stream",
     "text": [
      "                                                                                \r"
     ]
    },
    {
     "name": "stdout",
     "output_type": "stream",
     "text": [
      "ST_Distance calculation: Duration = 7.870773792266846 seconds, Rows processed = 130722200\n"
     ]
    },
    {
     "name": "stderr",
     "output_type": "stream",
     "text": [
      "                                                                                \r"
     ]
    },
    {
     "name": "stdout",
     "output_type": "stream",
     "text": [
      "ST_HausdorffDistance calculation: Duration = 6.518082618713379 seconds, Rows processed = 130722200\n"
     ]
    },
    {
     "name": "stderr",
     "output_type": "stream",
     "text": [
      "                                                                                \r"
     ]
    },
    {
     "name": "stdout",
     "output_type": "stream",
     "text": [
      "ST_FrechetDistance calculation: Duration = 33.74271869659424 seconds, Rows processed = 130722200\n",
      "Processing: Geologic_contacts.geojson against Calderas.geojson\n"
     ]
    },
    {
     "name": "stderr",
     "output_type": "stream",
     "text": [
      "                                                                                \r"
     ]
    },
    {
     "name": "stdout",
     "output_type": "stream",
     "text": [
      "ST_Distance calculation: Duration = 2.3725500106811523 seconds, Rows processed = 3841632\n"
     ]
    },
    {
     "name": "stderr",
     "output_type": "stream",
     "text": [
      "                                                                                \r"
     ]
    },
    {
     "name": "stdout",
     "output_type": "stream",
     "text": [
      "ST_HausdorffDistance calculation: Duration = 2.0458133220672607 seconds, Rows processed = 3841632\n"
     ]
    },
    {
     "name": "stderr",
     "output_type": "stream",
     "text": [
      "                                                                                \r"
     ]
    },
    {
     "name": "stdout",
     "output_type": "stream",
     "text": [
      "ST_FrechetDistance calculation: Duration = 2.1081206798553467 seconds, Rows processed = 3841632\n",
      "Processing: Geologic_contacts.geojson against Diapiric_trends.geojson\n"
     ]
    },
    {
     "name": "stderr",
     "output_type": "stream",
     "text": [
      "                                                                                \r"
     ]
    },
    {
     "name": "stdout",
     "output_type": "stream",
     "text": [
      "ST_Distance calculation: Duration = 2.035006284713745 seconds, Rows processed = 9390656\n"
     ]
    },
    {
     "name": "stderr",
     "output_type": "stream",
     "text": [
      "                                                                                \r"
     ]
    },
    {
     "name": "stdout",
     "output_type": "stream",
     "text": [
      "ST_HausdorffDistance calculation: Duration = 2.0800702571868896 seconds, Rows processed = 9390656\n"
     ]
    },
    {
     "name": "stderr",
     "output_type": "stream",
     "text": [
      "                                                                                \r"
     ]
    },
    {
     "name": "stdout",
     "output_type": "stream",
     "text": [
      "ST_FrechetDistance calculation: Duration = 5.131682872772217 seconds, Rows processed = 9390656\n",
      "Processing: Geologic_contacts.geojson against Diapirs.geojson\n"
     ]
    },
    {
     "name": "stderr",
     "output_type": "stream",
     "text": [
      "                                                                                \r"
     ]
    },
    {
     "name": "stdout",
     "output_type": "stream",
     "text": [
      "ST_Distance calculation: Duration = 2.0220789909362793 seconds, Rows processed = 72244024\n"
     ]
    },
    {
     "name": "stderr",
     "output_type": "stream",
     "text": [
      "                                                                                \r"
     ]
    },
    {
     "name": "stdout",
     "output_type": "stream",
     "text": [
      "ST_HausdorffDistance calculation: Duration = 2.1176886558532715 seconds, Rows processed = 72244024\n"
     ]
    },
    {
     "name": "stderr",
     "output_type": "stream",
     "text": [
      "                                                                                \r"
     ]
    },
    {
     "name": "stdout",
     "output_type": "stream",
     "text": [
      "ST_FrechetDistance calculation: Duration = 2.095210075378418 seconds, Rows processed = 72244024\n",
      "Processing: Geologic_contacts.geojson against Dikes_sills.geojson\n"
     ]
    },
    {
     "name": "stderr",
     "output_type": "stream",
     "text": [
      "                                                                                \r"
     ]
    },
    {
     "name": "stdout",
     "output_type": "stream",
     "text": [
      "ST_Distance calculation: Duration = 2.2088050842285156 seconds, Rows processed = 192401736\n"
     ]
    },
    {
     "name": "stderr",
     "output_type": "stream",
     "text": [
      "                                                                                \r"
     ]
    },
    {
     "name": "stdout",
     "output_type": "stream",
     "text": [
      "ST_HausdorffDistance calculation: Duration = 2.183697462081909 seconds, Rows processed = 192401736\n"
     ]
    },
    {
     "name": "stderr",
     "output_type": "stream",
     "text": [
      "                                                                                \r"
     ]
    },
    {
     "name": "stdout",
     "output_type": "stream",
     "text": [
      "ST_FrechetDistance calculation: Duration = 2.351616859436035 seconds, Rows processed = 192401736\n",
      "Processing: Geologic_contacts.geojson against Faults.geojson\n"
     ]
    },
    {
     "name": "stderr",
     "output_type": "stream",
     "text": [
      "                                                                                \r"
     ]
    },
    {
     "name": "stdout",
     "output_type": "stream",
     "text": [
      "ST_Distance calculation: Duration = 25.172564268112183 seconds, Rows processed = 662894944\n"
     ]
    },
    {
     "name": "stderr",
     "output_type": "stream",
     "text": [
      "                                                                                \r"
     ]
    },
    {
     "name": "stdout",
     "output_type": "stream",
     "text": [
      "ST_HausdorffDistance calculation: Duration = 2.8606343269348145 seconds, Rows processed = 662894944\n"
     ]
    },
    {
     "name": "stderr",
     "output_type": "stream",
     "text": [
      "                                                                                \r"
     ]
    },
    {
     "name": "stdout",
     "output_type": "stream",
     "text": [
      "ST_FrechetDistance calculation: Duration = 2.8221681118011475 seconds, Rows processed = 662894944\n",
      "Processing: Geologic_contacts.geojson against Gas_fluid_seep.geojson\n"
     ]
    },
    {
     "name": "stderr",
     "output_type": "stream",
     "text": [
      "                                                                                \r"
     ]
    },
    {
     "name": "stdout",
     "output_type": "stream",
     "text": [
      "ST_Distance calculation: Duration = 2.030681848526001 seconds, Rows processed = 2027528\n"
     ]
    },
    {
     "name": "stderr",
     "output_type": "stream",
     "text": [
      "                                                                                \r"
     ]
    },
    {
     "name": "stdout",
     "output_type": "stream",
     "text": [
      "ST_HausdorffDistance calculation: Duration = 2.0100502967834473 seconds, Rows processed = 2027528\n"
     ]
    },
    {
     "name": "stderr",
     "output_type": "stream",
     "text": [
      "                                                                                \r"
     ]
    },
    {
     "name": "stdout",
     "output_type": "stream",
     "text": [
      "ST_FrechetDistance calculation: Duration = 28.486324548721313 seconds, Rows processed = 2027528\n",
      "Processing: Geologic_contacts.geojson against Gas_oil_seep.geojson\n"
     ]
    },
    {
     "name": "stderr",
     "output_type": "stream",
     "text": [
      "                                                                                \r"
     ]
    },
    {
     "name": "stdout",
     "output_type": "stream",
     "text": [
      "ST_Distance calculation: Duration = 1.9318573474884033 seconds, Rows processed = 160068\n"
     ]
    },
    {
     "name": "stderr",
     "output_type": "stream",
     "text": [
      "                                                                                \r"
     ]
    },
    {
     "name": "stdout",
     "output_type": "stream",
     "text": [
      "ST_HausdorffDistance calculation: Duration = 2.0570712089538574 seconds, Rows processed = 160068\n"
     ]
    },
    {
     "name": "stderr",
     "output_type": "stream",
     "text": [
      "                                                                                \r"
     ]
    },
    {
     "name": "stdout",
     "output_type": "stream",
     "text": [
      "ST_FrechetDistance calculation: Duration = 2.11812686920166 seconds, Rows processed = 160068\n",
      "Processing: Geologic_contacts.geojson against Geologic_overprints.geojson\n"
     ]
    },
    {
     "name": "stderr",
     "output_type": "stream",
     "text": [
      "                                                                                \r"
     ]
    },
    {
     "name": "stdout",
     "output_type": "stream",
     "text": [
      "ST_Distance calculation: Duration = 2.4490840435028076 seconds, Rows processed = 99882432\n"
     ]
    },
    {
     "name": "stderr",
     "output_type": "stream",
     "text": [
      "                                                                                \r"
     ]
    },
    {
     "name": "stdout",
     "output_type": "stream",
     "text": [
      "ST_HausdorffDistance calculation: Duration = 2.47370982170105 seconds, Rows processed = 99882432\n"
     ]
    },
    {
     "name": "stderr",
     "output_type": "stream",
     "text": [
      "                                                                                \r"
     ]
    },
    {
     "name": "stdout",
     "output_type": "stream",
     "text": [
      "ST_FrechetDistance calculation: Duration = 2.4944491386413574 seconds, Rows processed = 99882432\n",
      "Processing: Geologic_contacts.geojson against Geologic_units.geojson\n"
     ]
    },
    {
     "name": "stderr",
     "output_type": "stream",
     "text": [
      "                                                                                \r"
     ]
    },
    {
     "name": "stdout",
     "output_type": "stream",
     "text": [
      "ST_Distance calculation: Duration = 48.556514501571655 seconds, Rows processed = 2125062768\n"
     ]
    },
    {
     "name": "stderr",
     "output_type": "stream",
     "text": [
      "                                                                                \r"
     ]
    },
    {
     "name": "stdout",
     "output_type": "stream",
     "text": [
      "ST_HausdorffDistance calculation: Duration = 8.642089128494263 seconds, Rows processed = 2125062768\n"
     ]
    },
    {
     "name": "stderr",
     "output_type": "stream",
     "text": [
      "                                                                                \r"
     ]
    },
    {
     "name": "stdout",
     "output_type": "stream",
     "text": [
      "ST_FrechetDistance calculation: Duration = 8.558045625686646 seconds, Rows processed = 2125062768\n",
      "Processing: Geologic_contacts.geojson against Glaciation_extents.geojson\n"
     ]
    },
    {
     "name": "stderr",
     "output_type": "stream",
     "text": [
      "                                                                                \r"
     ]
    },
    {
     "name": "stdout",
     "output_type": "stream",
     "text": [
      "ST_Distance calculation: Duration = 13.002329111099243 seconds, Rows processed = 1333900\n"
     ]
    },
    {
     "name": "stderr",
     "output_type": "stream",
     "text": [
      "                                                                                \r"
     ]
    },
    {
     "name": "stdout",
     "output_type": "stream",
     "text": [
      "ST_HausdorffDistance calculation: Duration = 1.9816484451293945 seconds, Rows processed = 1333900\n"
     ]
    },
    {
     "name": "stderr",
     "output_type": "stream",
     "text": [
      "                                                                                \r"
     ]
    },
    {
     "name": "stdout",
     "output_type": "stream",
     "text": [
      "ST_FrechetDistance calculation: Duration = 3.0169320106506348 seconds, Rows processed = 1333900\n",
      "Processing: Geologic_contacts.geojson against Hydrothermal_vents.geojson\n"
     ]
    },
    {
     "name": "stderr",
     "output_type": "stream",
     "text": [
      "                                                                                \r"
     ]
    },
    {
     "name": "stdout",
     "output_type": "stream",
     "text": [
      "ST_Distance calculation: Duration = 2.1329240798950195 seconds, Rows processed = 2614444\n"
     ]
    },
    {
     "name": "stderr",
     "output_type": "stream",
     "text": [
      "                                                                                \r"
     ]
    },
    {
     "name": "stdout",
     "output_type": "stream",
     "text": [
      "ST_HausdorffDistance calculation: Duration = 3.3242969512939453 seconds, Rows processed = 2614444\n"
     ]
    },
    {
     "name": "stderr",
     "output_type": "stream",
     "text": [
      "                                                                                \r"
     ]
    },
    {
     "name": "stdout",
     "output_type": "stream",
     "text": [
      "ST_FrechetDistance calculation: Duration = 1.9586546421051025 seconds, Rows processed = 2614444\n",
      "Processing: Geologic_contacts.geojson against Impact_structure_great_10_KM.geojson\n"
     ]
    },
    {
     "name": "stderr",
     "output_type": "stream",
     "text": [
      "                                                                                \r"
     ]
    },
    {
     "name": "stdout",
     "output_type": "stream",
     "text": [
      "ST_Distance calculation: Duration = 13.704300880432129 seconds, Rows processed = 1654036\n"
     ]
    },
    {
     "name": "stderr",
     "output_type": "stream",
     "text": [
      "                                                                                \r"
     ]
    },
    {
     "name": "stdout",
     "output_type": "stream",
     "text": [
      "ST_HausdorffDistance calculation: Duration = 2.2817561626434326 seconds, Rows processed = 1654036\n"
     ]
    },
    {
     "name": "stderr",
     "output_type": "stream",
     "text": [
      "                                                                                \r"
     ]
    },
    {
     "name": "stdout",
     "output_type": "stream",
     "text": [
      "ST_FrechetDistance calculation: Duration = 2.884737491607666 seconds, Rows processed = 1654036\n",
      "Processing: Geologic_contacts.geojson against Impact_structure_less_10_KM.geojson\n"
     ]
    },
    {
     "name": "stderr",
     "output_type": "stream",
     "text": [
      "                                                                                \r"
     ]
    },
    {
     "name": "stdout",
     "output_type": "stream",
     "text": [
      "ST_Distance calculation: Duration = 2.422545909881592 seconds, Rows processed = 1333900\n"
     ]
    },
    {
     "name": "stderr",
     "output_type": "stream",
     "text": [
      "                                                                                \r"
     ]
    },
    {
     "name": "stdout",
     "output_type": "stream",
     "text": [
      "ST_HausdorffDistance calculation: Duration = 1.9758894443511963 seconds, Rows processed = 1333900\n"
     ]
    },
    {
     "name": "stderr",
     "output_type": "stream",
     "text": [
      "                                                                                \r"
     ]
    },
    {
     "name": "stdout",
     "output_type": "stream",
     "text": [
      "ST_FrechetDistance calculation: Duration = 3.0862364768981934 seconds, Rows processed = 1333900\n",
      "Processing: Geologic_contacts.geojson against Maganifeorus_deposits.geojson\n"
     ]
    },
    {
     "name": "stderr",
     "output_type": "stream",
     "text": [
      "                                                                                \r"
     ]
    },
    {
     "name": "stdout",
     "output_type": "stream",
     "text": [
      "ST_Distance calculation: Duration = 12.918036460876465 seconds, Rows processed = 28652172\n"
     ]
    },
    {
     "name": "stderr",
     "output_type": "stream",
     "text": [
      "                                                                                \r"
     ]
    },
    {
     "name": "stdout",
     "output_type": "stream",
     "text": [
      "ST_HausdorffDistance calculation: Duration = 2.9627180099487305 seconds, Rows processed = 28652172\n"
     ]
    },
    {
     "name": "stderr",
     "output_type": "stream",
     "text": [
      "                                                                                \r"
     ]
    },
    {
     "name": "stdout",
     "output_type": "stream",
     "text": [
      "ST_FrechetDistance calculation: Duration = 3.1650052070617676 seconds, Rows processed = 28652172\n",
      "Processing: Geologic_contacts.geojson against Phosphate_nodules_pavement.geojson\n"
     ]
    },
    {
     "name": "stderr",
     "output_type": "stream",
     "text": [
      "                                                                                \r"
     ]
    },
    {
     "name": "stdout",
     "output_type": "stream",
     "text": [
      "ST_Distance calculation: Duration = 1.9762039184570312 seconds, Rows processed = 29826004\n"
     ]
    },
    {
     "name": "stderr",
     "output_type": "stream",
     "text": [
      "                                                                                \r"
     ]
    },
    {
     "name": "stdout",
     "output_type": "stream",
     "text": [
      "ST_HausdorffDistance calculation: Duration = 13.219146013259888 seconds, Rows processed = 29826004\n"
     ]
    },
    {
     "name": "stderr",
     "output_type": "stream",
     "text": [
      "                                                                                \r"
     ]
    },
    {
     "name": "stdout",
     "output_type": "stream",
     "text": [
      "ST_FrechetDistance calculation: Duration = 2.2057976722717285 seconds, Rows processed = 29826004\n",
      "Processing: Geologic_contacts.geojson against Polymetallic_sulfide_deposits.geojson\n"
     ]
    },
    {
     "name": "stderr",
     "output_type": "stream",
     "text": [
      "                                                                                \r"
     ]
    },
    {
     "name": "stdout",
     "output_type": "stream",
     "text": [
      "ST_Distance calculation: Duration = 2.0188515186309814 seconds, Rows processed = 693628\n"
     ]
    },
    {
     "name": "stderr",
     "output_type": "stream",
     "text": [
      "                                                                                \r"
     ]
    },
    {
     "name": "stdout",
     "output_type": "stream",
     "text": [
      "ST_HausdorffDistance calculation: Duration = 12.514672040939331 seconds, Rows processed = 693628\n"
     ]
    },
    {
     "name": "stderr",
     "output_type": "stream",
     "text": [
      "                                                                                \r"
     ]
    },
    {
     "name": "stdout",
     "output_type": "stream",
     "text": [
      "ST_FrechetDistance calculation: Duration = 2.0154008865356445 seconds, Rows processed = 693628\n",
      "Processing: Geologic_contacts.geojson against Rock_in_seafloor_sample.geojson\n"
     ]
    },
    {
     "name": "stderr",
     "output_type": "stream",
     "text": [
      "                                                                                \r"
     ]
    },
    {
     "name": "stdout",
     "output_type": "stream",
     "text": [
      "ST_Distance calculation: Duration = 3.8270649909973145 seconds, Rows processed = 2667800\n"
     ]
    },
    {
     "name": "stderr",
     "output_type": "stream",
     "text": [
      "                                                                                \r"
     ]
    },
    {
     "name": "stdout",
     "output_type": "stream",
     "text": [
      "ST_HausdorffDistance calculation: Duration = 1.9867126941680908 seconds, Rows processed = 2667800\n"
     ]
    },
    {
     "name": "stderr",
     "output_type": "stream",
     "text": [
      "                                                                                \r"
     ]
    },
    {
     "name": "stdout",
     "output_type": "stream",
     "text": [
      "ST_FrechetDistance calculation: Duration = 2.0107741355895996 seconds, Rows processed = 2667800\n",
      "Processing: Geologic_contacts.geojson against Special_submarine_features.geojson\n"
     ]
    },
    {
     "name": "stderr",
     "output_type": "stream",
     "text": [
      "                                                                                \r"
     ]
    },
    {
     "name": "stdout",
     "output_type": "stream",
     "text": [
      "ST_Distance calculation: Duration = 3.6155052185058594 seconds, Rows processed = 147315916\n"
     ]
    },
    {
     "name": "stderr",
     "output_type": "stream",
     "text": [
      "                                                                                \r"
     ]
    },
    {
     "name": "stdout",
     "output_type": "stream",
     "text": [
      "ST_HausdorffDistance calculation: Duration = 2.1819567680358887 seconds, Rows processed = 147315916\n"
     ]
    },
    {
     "name": "stderr",
     "output_type": "stream",
     "text": [
      "                                                                                \r"
     ]
    },
    {
     "name": "stdout",
     "output_type": "stream",
     "text": [
      "ST_FrechetDistance calculation: Duration = 3.1090588569641113 seconds, Rows processed = 147315916\n",
      "Processing: Geologic_contacts.geojson against Volcanoes.geojson\n"
     ]
    },
    {
     "name": "stderr",
     "output_type": "stream",
     "text": [
      "                                                                                \r"
     ]
    },
    {
     "name": "stdout",
     "output_type": "stream",
     "text": [
      "ST_Distance calculation: Duration = 2.066019296646118 seconds, Rows processed = 32547160\n"
     ]
    },
    {
     "name": "stderr",
     "output_type": "stream",
     "text": [
      "                                                                                \r"
     ]
    },
    {
     "name": "stdout",
     "output_type": "stream",
     "text": [
      "ST_HausdorffDistance calculation: Duration = 2.9786579608917236 seconds, Rows processed = 32547160\n"
     ]
    },
    {
     "name": "stderr",
     "output_type": "stream",
     "text": [
      "                                                                                \r"
     ]
    },
    {
     "name": "stdout",
     "output_type": "stream",
     "text": [
      "ST_FrechetDistance calculation: Duration = 2.031982660293579 seconds, Rows processed = 32547160\n",
      "Processing: Geologic_contacts.geojson against WorldContinents.geojson\n"
     ]
    },
    {
     "name": "stderr",
     "output_type": "stream",
     "text": [
      "                                                                                \r"
     ]
    },
    {
     "name": "stdout",
     "output_type": "stream",
     "text": [
      "ST_Distance calculation: Duration = 2.023634433746338 seconds, Rows processed = 426848\n"
     ]
    },
    {
     "name": "stderr",
     "output_type": "stream",
     "text": [
      "                                                                                \r"
     ]
    },
    {
     "name": "stdout",
     "output_type": "stream",
     "text": [
      "ST_HausdorffDistance calculation: Duration = 3.0400781631469727 seconds, Rows processed = 426848\n"
     ]
    },
    {
     "name": "stderr",
     "output_type": "stream",
     "text": [
      "                                                                                \r"
     ]
    },
    {
     "name": "stdout",
     "output_type": "stream",
     "text": [
      "ST_FrechetDistance calculation: Duration = 2.6459450721740723 seconds, Rows processed = 426848\n",
      "Processing: Geologic_contacts.geojson against cb_2018_us_state_20m.json\n"
     ]
    },
    {
     "name": "stderr",
     "output_type": "stream",
     "text": [
      "                                                                                \r"
     ]
    },
    {
     "name": "stdout",
     "output_type": "stream",
     "text": [
      "ST_Distance calculation: Duration = 2.013838768005371 seconds, Rows processed = 2774512\n"
     ]
    },
    {
     "name": "stderr",
     "output_type": "stream",
     "text": [
      "                                                                                \r"
     ]
    },
    {
     "name": "stdout",
     "output_type": "stream",
     "text": [
      "ST_HausdorffDistance calculation: Duration = 2.0355801582336426 seconds, Rows processed = 2774512\n"
     ]
    },
    {
     "name": "stderr",
     "output_type": "stream",
     "text": [
      "                                                                                \r"
     ]
    },
    {
     "name": "stdout",
     "output_type": "stream",
     "text": [
      "ST_FrechetDistance calculation: Duration = 1.935448169708252 seconds, Rows processed = 2774512\n",
      "Processing: Geologic_overprints.geojson against AgriculturalArea.geojson\n"
     ]
    },
    {
     "name": "stderr",
     "output_type": "stream",
     "text": [
      "                                                                                \r"
     ]
    },
    {
     "name": "stdout",
     "output_type": "stream",
     "text": [
      "ST_Distance calculation: Duration = 1.0396828651428223 seconds, Rows processed = 5747040\n"
     ]
    },
    {
     "name": "stderr",
     "output_type": "stream",
     "text": [
      "                                                                                \r"
     ]
    },
    {
     "name": "stdout",
     "output_type": "stream",
     "text": [
      "ST_HausdorffDistance calculation: Duration = 1.2101194858551025 seconds, Rows processed = 5747040\n"
     ]
    },
    {
     "name": "stderr",
     "output_type": "stream",
     "text": [
      "                                                                                \r"
     ]
    },
    {
     "name": "stdout",
     "output_type": "stream",
     "text": [
      "ST_FrechetDistance calculation: Duration = 1.2884271144866943 seconds, Rows processed = 5747040\n",
      "Processing: Geologic_overprints.geojson against CityBoundaries.geojson\n"
     ]
    },
    {
     "name": "stderr",
     "output_type": "stream",
     "text": [
      "                                                                                \r"
     ]
    },
    {
     "name": "stdout",
     "output_type": "stream",
     "text": [
      "ST_Distance calculation: Duration = 1.3215770721435547 seconds, Rows processed = 936000\n"
     ]
    },
    {
     "name": "stderr",
     "output_type": "stream",
     "text": [
      "                                                                                \r"
     ]
    },
    {
     "name": "stdout",
     "output_type": "stream",
     "text": [
      "ST_HausdorffDistance calculation: Duration = 1.3688652515411377 seconds, Rows processed = 936000\n"
     ]
    },
    {
     "name": "stderr",
     "output_type": "stream",
     "text": [
      "                                                                                \r"
     ]
    },
    {
     "name": "stdout",
     "output_type": "stream",
     "text": [
      "ST_FrechetDistance calculation: Duration = 1.3598618507385254 seconds, Rows processed = 936000\n",
      "Processing: Geologic_overprints.geojson against CountryTerritories.geojson\n"
     ]
    },
    {
     "name": "stderr",
     "output_type": "stream",
     "text": [
      "                                                                                \r"
     ]
    },
    {
     "name": "stdout",
     "output_type": "stream",
     "text": [
      "ST_Distance calculation: Duration = 6.427769899368286 seconds, Rows processed = 479232\n"
     ]
    },
    {
     "name": "stderr",
     "output_type": "stream",
     "text": [
      "                                                                                \r"
     ]
    },
    {
     "name": "stdout",
     "output_type": "stream",
     "text": [
      "ST_HausdorffDistance calculation: Duration = 1.2246675491333008 seconds, Rows processed = 479232\n",
      "ST_FrechetDistance calculation: Duration = 0.6537210941314697 seconds, Rows processed = 479232\n",
      "Processing: Geologic_overprints.geojson against EcoRegions.geojson\n"
     ]
    },
    {
     "name": "stderr",
     "output_type": "stream",
     "text": [
      "                                                                                \r"
     ]
    },
    {
     "name": "stdout",
     "output_type": "stream",
     "text": [
      "ST_Distance calculation: Duration = 2.3059263229370117 seconds, Rows processed = 2340000\n"
     ]
    },
    {
     "name": "stderr",
     "output_type": "stream",
     "text": [
      "                                                                                \r"
     ]
    },
    {
     "name": "stdout",
     "output_type": "stream",
     "text": [
      "ST_HausdorffDistance calculation: Duration = 2.4129180908203125 seconds, Rows processed = 2340000\n"
     ]
    },
    {
     "name": "stderr",
     "output_type": "stream",
     "text": [
      "                                                                                \r"
     ]
    },
    {
     "name": "stdout",
     "output_type": "stream",
     "text": [
      "ST_FrechetDistance calculation: Duration = 2.472688913345337 seconds, Rows processed = 2340000\n",
      "Processing: Geologic_overprints.geojson against GeographicRegions.geojson\n",
      "ST_Distance calculation: Duration = 0.6073799133300781 seconds, Rows processed = 1965600\n"
     ]
    },
    {
     "name": "stderr",
     "output_type": "stream",
     "text": [
      "                                                                                \r"
     ]
    },
    {
     "name": "stdout",
     "output_type": "stream",
     "text": [
      "ST_HausdorffDistance calculation: Duration = 2.698556423187256 seconds, Rows processed = 1965600\n"
     ]
    },
    {
     "name": "stderr",
     "output_type": "stream",
     "text": [
      "                                                                                \r"
     ]
    },
    {
     "name": "stdout",
     "output_type": "stream",
     "text": [
      "ST_FrechetDistance calculation: Duration = 3.110980272293091 seconds, Rows processed = 1965600\n",
      "Processing: Geologic_overprints.geojson against Areas_diapiric_structures.geojson\n"
     ]
    },
    {
     "name": "stderr",
     "output_type": "stream",
     "text": [
      "                                                                                \r"
     ]
    },
    {
     "name": "stdout",
     "output_type": "stream",
     "text": [
      "ST_Distance calculation: Duration = 3.138833999633789 seconds, Rows processed = 144144\n",
      "ST_HausdorffDistance calculation: Duration = 0.48229122161865234 seconds, Rows processed = 144144\n"
     ]
    },
    {
     "name": "stderr",
     "output_type": "stream",
     "text": [
      "                                                                                \r"
     ]
    },
    {
     "name": "stdout",
     "output_type": "stream",
     "text": [
      "ST_FrechetDistance calculation: Duration = 3.262911081314087 seconds, Rows processed = 144144\n",
      "Processing: Geologic_overprints.geojson against Bathymetry.geojson\n",
      "ST_Distance calculation: Duration = 1.019862174987793 seconds, Rows processed = 4586400\n"
     ]
    },
    {
     "name": "stderr",
     "output_type": "stream",
     "text": [
      "                                                                                \r"
     ]
    },
    {
     "name": "stdout",
     "output_type": "stream",
     "text": [
      "ST_HausdorffDistance calculation: Duration = 4.468600273132324 seconds, Rows processed = 4586400\n",
      "ST_FrechetDistance calculation: Duration = 1.1151041984558105 seconds, Rows processed = 4586400\n",
      "Processing: Geologic_overprints.geojson against Calderas.geojson\n",
      "ST_Distance calculation: Duration = 0.630119800567627 seconds, Rows processed = 134784\n",
      "ST_HausdorffDistance calculation: Duration = 0.5233943462371826 seconds, Rows processed = 134784\n",
      "ST_FrechetDistance calculation: Duration = 0.49631690979003906 seconds, Rows processed = 134784\n",
      "Processing: Geologic_overprints.geojson against Diapiric_trends.geojson\n",
      "ST_Distance calculation: Duration = 1.0088810920715332 seconds, Rows processed = 329472\n",
      "ST_HausdorffDistance calculation: Duration = 0.8611905574798584 seconds, Rows processed = 329472\n",
      "ST_FrechetDistance calculation: Duration = 0.9352233409881592 seconds, Rows processed = 329472\n",
      "Processing: Geologic_overprints.geojson against Diapirs.geojson\n",
      "ST_Distance calculation: Duration = 0.5206162929534912 seconds, Rows processed = 2534688\n",
      "ST_HausdorffDistance calculation: Duration = 0.658179521560669 seconds, Rows processed = 2534688\n",
      "ST_FrechetDistance calculation: Duration = 0.9202687740325928 seconds, Rows processed = 2534688\n",
      "Processing: Geologic_overprints.geojson against Dikes_sills.geojson\n"
     ]
    },
    {
     "name": "stderr",
     "output_type": "stream",
     "text": [
      "                                                                                \r"
     ]
    },
    {
     "name": "stdout",
     "output_type": "stream",
     "text": [
      "ST_Distance calculation: Duration = 3.1467795372009277 seconds, Rows processed = 6750432\n"
     ]
    },
    {
     "name": "stderr",
     "output_type": "stream",
     "text": [
      "                                                                                \r"
     ]
    },
    {
     "name": "stdout",
     "output_type": "stream",
     "text": [
      "ST_HausdorffDistance calculation: Duration = 3.342998504638672 seconds, Rows processed = 6750432\n",
      "ST_FrechetDistance calculation: Duration = 0.550804853439331 seconds, Rows processed = 6750432\n",
      "Processing: Geologic_overprints.geojson against Faults.geojson\n"
     ]
    },
    {
     "name": "stderr",
     "output_type": "stream",
     "text": [
      "                                                                                \r"
     ]
    },
    {
     "name": "stdout",
     "output_type": "stream",
     "text": [
      "ST_Distance calculation: Duration = 3.4599504470825195 seconds, Rows processed = 23257728\n",
      "ST_HausdorffDistance calculation: Duration = 0.9463496208190918 seconds, Rows processed = 23257728\n"
     ]
    },
    {
     "name": "stderr",
     "output_type": "stream",
     "text": [
      "                                                                                \r"
     ]
    },
    {
     "name": "stdout",
     "output_type": "stream",
     "text": [
      "ST_FrechetDistance calculation: Duration = 13.145005941390991 seconds, Rows processed = 23257728\n",
      "Processing: Geologic_overprints.geojson against Gas_fluid_seep.geojson\n",
      "ST_Distance calculation: Duration = 0.5868861675262451 seconds, Rows processed = 71136\n",
      "ST_HausdorffDistance calculation: Duration = 0.504511833190918 seconds, Rows processed = 71136\n",
      "ST_FrechetDistance calculation: Duration = 0.4801046848297119 seconds, Rows processed = 71136\n",
      "Processing: Geologic_overprints.geojson against Gas_oil_seep.geojson\n",
      "ST_Distance calculation: Duration = 0.4795994758605957 seconds, Rows processed = 5616\n",
      "ST_HausdorffDistance calculation: Duration = 0.48575806617736816 seconds, Rows processed = 5616\n",
      "ST_FrechetDistance calculation: Duration = 0.4852902889251709 seconds, Rows processed = 5616\n",
      "Processing: Geologic_overprints.geojson against Geologic_contacts.geojson\n"
     ]
    },
    {
     "name": "stderr",
     "output_type": "stream",
     "text": [
      "                                                                                \r"
     ]
    },
    {
     "name": "stdout",
     "output_type": "stream",
     "text": [
      "ST_Distance calculation: Duration = 2.531524896621704 seconds, Rows processed = 99882432\n"
     ]
    },
    {
     "name": "stderr",
     "output_type": "stream",
     "text": [
      "                                                                                \r"
     ]
    },
    {
     "name": "stdout",
     "output_type": "stream",
     "text": [
      "ST_HausdorffDistance calculation: Duration = 2.499267578125 seconds, Rows processed = 99882432\n"
     ]
    },
    {
     "name": "stderr",
     "output_type": "stream",
     "text": [
      "                                                                                \r"
     ]
    },
    {
     "name": "stdout",
     "output_type": "stream",
     "text": [
      "ST_FrechetDistance calculation: Duration = 2.4560978412628174 seconds, Rows processed = 99882432\n",
      "Processing: Geologic_overprints.geojson against Geologic_units.geojson\n"
     ]
    },
    {
     "name": "stderr",
     "output_type": "stream",
     "text": [
      "24/04/22 13:15:50 ERROR TaskSchedulerImpl: Lost executor 4 on 129.82.44.144: Command exited with code 52\n",
      "                                                                                \r"
     ]
    },
    {
     "name": "stdout",
     "output_type": "stream",
     "text": [
      "ST_Distance calculation: Duration = 15.15363097190857 seconds, Rows processed = 74558016\n"
     ]
    },
    {
     "name": "stderr",
     "output_type": "stream",
     "text": [
      "                                                                                \r"
     ]
    },
    {
     "name": "stdout",
     "output_type": "stream",
     "text": [
      "ST_HausdorffDistance calculation: Duration = 22.53434991836548 seconds, Rows processed = 74558016\n"
     ]
    },
    {
     "name": "stderr",
     "output_type": "stream",
     "text": [
      "                                                                                \r"
     ]
    },
    {
     "name": "stdout",
     "output_type": "stream",
     "text": [
      "ST_FrechetDistance calculation: Duration = 7.763540029525757 seconds, Rows processed = 74558016\n",
      "Processing: Geologic_overprints.geojson against Glaciation_extents.geojson\n",
      "ST_Distance calculation: Duration = 0.5017223358154297 seconds, Rows processed = 46800\n"
     ]
    },
    {
     "name": "stderr",
     "output_type": "stream",
     "text": [
      "                                                                                \r"
     ]
    },
    {
     "name": "stdout",
     "output_type": "stream",
     "text": [
      "ST_HausdorffDistance calculation: Duration = 3.1076223850250244 seconds, Rows processed = 46800\n"
     ]
    },
    {
     "name": "stderr",
     "output_type": "stream",
     "text": [
      "                                                                                \r"
     ]
    },
    {
     "name": "stdout",
     "output_type": "stream",
     "text": [
      "ST_FrechetDistance calculation: Duration = 1.5255393981933594 seconds, Rows processed = 46800\n",
      "Processing: Geologic_overprints.geojson against Hydrothermal_vents.geojson\n"
     ]
    },
    {
     "name": "stderr",
     "output_type": "stream",
     "text": [
      "                                                                                \r"
     ]
    },
    {
     "name": "stdout",
     "output_type": "stream",
     "text": [
      "ST_Distance calculation: Duration = 3.4092342853546143 seconds, Rows processed = 91728\n",
      "ST_HausdorffDistance calculation: Duration = 0.5142171382904053 seconds, Rows processed = 91728\n"
     ]
    },
    {
     "name": "stderr",
     "output_type": "stream",
     "text": [
      "                                                                                \r"
     ]
    },
    {
     "name": "stdout",
     "output_type": "stream",
     "text": [
      "ST_FrechetDistance calculation: Duration = 3.146949291229248 seconds, Rows processed = 91728\n",
      "Processing: Geologic_overprints.geojson against Impact_structure_great_10_KM.geojson\n",
      "ST_Distance calculation: Duration = 0.6508505344390869 seconds, Rows processed = 58032\n"
     ]
    },
    {
     "name": "stderr",
     "output_type": "stream",
     "text": [
      "                                                                                \r"
     ]
    },
    {
     "name": "stdout",
     "output_type": "stream",
     "text": [
      "ST_HausdorffDistance calculation: Duration = 1.780416488647461 seconds, Rows processed = 58032\n"
     ]
    },
    {
     "name": "stderr",
     "output_type": "stream",
     "text": [
      "                                                                                \r"
     ]
    },
    {
     "name": "stdout",
     "output_type": "stream",
     "text": [
      "ST_FrechetDistance calculation: Duration = 4.0557403564453125 seconds, Rows processed = 58032\n",
      "Processing: Geologic_overprints.geojson against Impact_structure_less_10_KM.geojson\n",
      "ST_Distance calculation: Duration = 0.524559497833252 seconds, Rows processed = 46800\n",
      "ST_HausdorffDistance calculation: Duration = 0.5144317150115967 seconds, Rows processed = 46800\n"
     ]
    },
    {
     "name": "stderr",
     "output_type": "stream",
     "text": [
      "                                                                                \r"
     ]
    },
    {
     "name": "stdout",
     "output_type": "stream",
     "text": [
      "ST_FrechetDistance calculation: Duration = 3.0534863471984863 seconds, Rows processed = 46800\n",
      "Processing: Geologic_overprints.geojson against Maganifeorus_deposits.geojson\n",
      "ST_Distance calculation: Duration = 0.633587121963501 seconds, Rows processed = 1005264\n",
      "ST_HausdorffDistance calculation: Duration = 0.6565639972686768 seconds, Rows processed = 1005264\n"
     ]
    },
    {
     "name": "stderr",
     "output_type": "stream",
     "text": [
      "                                                                                \r"
     ]
    },
    {
     "name": "stdout",
     "output_type": "stream",
     "text": [
      "ST_FrechetDistance calculation: Duration = 3.276151180267334 seconds, Rows processed = 1005264\n",
      "Processing: Geologic_overprints.geojson against Phosphate_nodules_pavement.geojson\n"
     ]
    },
    {
     "name": "stderr",
     "output_type": "stream",
     "text": [
      "                                                                                \r"
     ]
    },
    {
     "name": "stdout",
     "output_type": "stream",
     "text": [
      "ST_Distance calculation: Duration = 3.135446548461914 seconds, Rows processed = 1046448\n",
      "ST_HausdorffDistance calculation: Duration = 0.5449564456939697 seconds, Rows processed = 1046448\n"
     ]
    },
    {
     "name": "stderr",
     "output_type": "stream",
     "text": [
      "                                                                                \r"
     ]
    },
    {
     "name": "stdout",
     "output_type": "stream",
     "text": [
      "ST_FrechetDistance calculation: Duration = 3.0668258666992188 seconds, Rows processed = 1046448\n",
      "Processing: Geologic_overprints.geojson against Polymetallic_sulfide_deposits.geojson\n",
      "ST_Distance calculation: Duration = 0.5042827129364014 seconds, Rows processed = 24336\n",
      "ST_HausdorffDistance calculation: Duration = 0.4775865077972412 seconds, Rows processed = 24336\n",
      "ST_FrechetDistance calculation: Duration = 0.5009288787841797 seconds, Rows processed = 24336\n",
      "Processing: Geologic_overprints.geojson against Rock_in_seafloor_sample.geojson\n"
     ]
    },
    {
     "name": "stderr",
     "output_type": "stream",
     "text": [
      "                                                                                \r"
     ]
    },
    {
     "name": "stdout",
     "output_type": "stream",
     "text": [
      "ST_Distance calculation: Duration = 3.1155760288238525 seconds, Rows processed = 93600\n",
      "ST_HausdorffDistance calculation: Duration = 0.6540553569793701 seconds, Rows processed = 93600\n",
      "ST_FrechetDistance calculation: Duration = 0.7687981128692627 seconds, Rows processed = 93600\n",
      "Processing: Geologic_overprints.geojson against Special_submarine_features.geojson\n"
     ]
    },
    {
     "name": "stderr",
     "output_type": "stream",
     "text": [
      "                                                                                \r"
     ]
    },
    {
     "name": "stdout",
     "output_type": "stream",
     "text": [
      "ST_Distance calculation: Duration = 0.9517331123352051 seconds, Rows processed = 5168592\n"
     ]
    },
    {
     "name": "stderr",
     "output_type": "stream",
     "text": [
      "                                                                                \r"
     ]
    },
    {
     "name": "stdout",
     "output_type": "stream",
     "text": [
      "ST_HausdorffDistance calculation: Duration = 4.141674995422363 seconds, Rows processed = 5168592\n",
      "ST_FrechetDistance calculation: Duration = 0.6194436550140381 seconds, Rows processed = 5168592\n",
      "Processing: Geologic_overprints.geojson against Volcanoes.geojson\n",
      "ST_Distance calculation: Duration = 0.5048685073852539 seconds, Rows processed = 1141920\n",
      "ST_HausdorffDistance calculation: Duration = 0.5187721252441406 seconds, Rows processed = 1141920\n",
      "ST_FrechetDistance calculation: Duration = 0.5265941619873047 seconds, Rows processed = 1141920\n",
      "Processing: Geologic_overprints.geojson against WorldContinents.geojson\n",
      "ST_Distance calculation: Duration = 0.552802324295044 seconds, Rows processed = 14976\n",
      "ST_HausdorffDistance calculation: Duration = 0.5861613750457764 seconds, Rows processed = 14976\n",
      "ST_FrechetDistance calculation: Duration = 0.5655965805053711 seconds, Rows processed = 14976\n",
      "Processing: Geologic_overprints.geojson against cb_2018_us_state_20m.json\n",
      "ST_Distance calculation: Duration = 0.5242576599121094 seconds, Rows processed = 97344\n",
      "ST_HausdorffDistance calculation: Duration = 0.5619416236877441 seconds, Rows processed = 97344\n"
     ]
    },
    {
     "name": "stderr",
     "output_type": "stream",
     "text": [
      "                                                                                \r"
     ]
    },
    {
     "name": "stdout",
     "output_type": "stream",
     "text": [
      "ST_FrechetDistance calculation: Duration = 1.1285667419433594 seconds, Rows processed = 97344\n",
      "Processing: Geologic_units.geojson against AgriculturalArea.geojson\n"
     ]
    },
    {
     "name": "stderr",
     "output_type": "stream",
     "text": [
      "24/04/22 13:17:46 ERROR TaskSchedulerImpl: Lost executor 15 on 129.82.44.144: Command exited with code 52\n",
      "                                                                                \r"
     ]
    },
    {
     "name": "stdout",
     "output_type": "stream",
     "text": [
      "ST_Distance calculation: Duration = 29.164690256118774 seconds, Rows processed = 122271960\n"
     ]
    },
    {
     "name": "stderr",
     "output_type": "stream",
     "text": [
      "                                                                                \r"
     ]
    },
    {
     "name": "stdout",
     "output_type": "stream",
     "text": [
      "ST_HausdorffDistance calculation: Duration = 5.408154487609863 seconds, Rows processed = 122271960\n"
     ]
    },
    {
     "name": "stderr",
     "output_type": "stream",
     "text": [
      "                                                                                \r"
     ]
    },
    {
     "name": "stdout",
     "output_type": "stream",
     "text": [
      "ST_FrechetDistance calculation: Duration = 22.681225776672363 seconds, Rows processed = 122271960\n",
      "Processing: Geologic_units.geojson against CityBoundaries.geojson\n"
     ]
    },
    {
     "name": "stderr",
     "output_type": "stream",
     "text": [
      "[Stage 5424:>                                                       (0 + 1) / 1]\r"
     ]
    },
    {
     "name": "stdout",
     "output_type": "stream",
     "text": [
      "ST_Distance calculation: Duration = 5.8453569412231445 seconds, Rows processed = 19914000\n"
     ]
    },
    {
     "name": "stderr",
     "output_type": "stream",
     "text": [
      "24/04/22 13:18:31 ERROR TaskSchedulerImpl: Lost executor 7 on 129.82.44.149: Command exited with code 52\n",
      "24/04/22 13:19:25 ERROR TaskSchedulerImpl: Lost executor 14 on 129.82.44.142: Command exited with code 52\n",
      "                                                                                \r"
     ]
    },
    {
     "name": "stdout",
     "output_type": "stream",
     "text": [
      "ST_HausdorffDistance calculation: Duration = 71.40990376472473 seconds, Rows processed = 19914000\n"
     ]
    },
    {
     "name": "stderr",
     "output_type": "stream",
     "text": [
      "                                                                                \r"
     ]
    },
    {
     "name": "stdout",
     "output_type": "stream",
     "text": [
      "ST_FrechetDistance calculation: Duration = 11.682142972946167 seconds, Rows processed = 19914000\n",
      "Processing: Geologic_units.geojson against CountryTerritories.geojson\n"
     ]
    },
    {
     "name": "stderr",
     "output_type": "stream",
     "text": [
      "                                                                                \r"
     ]
    },
    {
     "name": "stdout",
     "output_type": "stream",
     "text": [
      "ST_Distance calculation: Duration = 8.416359424591064 seconds, Rows processed = 10195968\n"
     ]
    },
    {
     "name": "stderr",
     "output_type": "stream",
     "text": [
      "                                                                                \r"
     ]
    },
    {
     "name": "stdout",
     "output_type": "stream",
     "text": [
      "ST_HausdorffDistance calculation: Duration = 4.876608848571777 seconds, Rows processed = 10195968\n"
     ]
    },
    {
     "name": "stderr",
     "output_type": "stream",
     "text": [
      "                                                                                \r"
     ]
    },
    {
     "name": "stdout",
     "output_type": "stream",
     "text": [
      "ST_FrechetDistance calculation: Duration = 16.753154516220093 seconds, Rows processed = 10195968\n",
      "Processing: Geologic_units.geojson against EcoRegions.geojson\n"
     ]
    },
    {
     "name": "stderr",
     "output_type": "stream",
     "text": [
      "                                                                                \r"
     ]
    },
    {
     "name": "stdout",
     "output_type": "stream",
     "text": [
      "ST_Distance calculation: Duration = 75.9793848991394 seconds, Rows processed = 49785000\n"
     ]
    },
    {
     "name": "stderr",
     "output_type": "stream",
     "text": [
      "                                                                                \r"
     ]
    },
    {
     "name": "stdout",
     "output_type": "stream",
     "text": [
      "ST_HausdorffDistance calculation: Duration = 45.46399688720703 seconds, Rows processed = 49785000\n"
     ]
    },
    {
     "name": "stderr",
     "output_type": "stream",
     "text": [
      "                                                                                \r"
     ]
    },
    {
     "name": "stdout",
     "output_type": "stream",
     "text": [
      "ST_FrechetDistance calculation: Duration = 7.304100036621094 seconds, Rows processed = 49785000\n",
      "Processing: Geologic_units.geojson against GeographicRegions.geojson\n"
     ]
    },
    {
     "name": "stderr",
     "output_type": "stream",
     "text": [
      "                                                                                \r"
     ]
    },
    {
     "name": "stdout",
     "output_type": "stream",
     "text": [
      "ST_Distance calculation: Duration = 5.050027132034302 seconds, Rows processed = 41819400\n"
     ]
    },
    {
     "name": "stderr",
     "output_type": "stream",
     "text": [
      "                                                                                \r"
     ]
    },
    {
     "name": "stdout",
     "output_type": "stream",
     "text": [
      "ST_HausdorffDistance calculation: Duration = 5.117346525192261 seconds, Rows processed = 41819400\n"
     ]
    },
    {
     "name": "stderr",
     "output_type": "stream",
     "text": [
      "24/04/22 13:22:53 ERROR TaskSchedulerImpl: Lost executor 3 on 129.82.44.145: Command exited with code 52\n",
      "                                                                                \r"
     ]
    },
    {
     "name": "stdout",
     "output_type": "stream",
     "text": [
      "ST_FrechetDistance calculation: Duration = 26.043729066848755 seconds, Rows processed = 41819400\n",
      "Processing: Geologic_units.geojson against Areas_diapiric_structures.geojson\n"
     ]
    },
    {
     "name": "stderr",
     "output_type": "stream",
     "text": [
      "                                                                                \r"
     ]
    },
    {
     "name": "stdout",
     "output_type": "stream",
     "text": [
      "ST_Distance calculation: Duration = 4.775304555892944 seconds, Rows processed = 3066756\n"
     ]
    },
    {
     "name": "stderr",
     "output_type": "stream",
     "text": [
      "                                                                                \r"
     ]
    },
    {
     "name": "stdout",
     "output_type": "stream",
     "text": [
      "ST_HausdorffDistance calculation: Duration = 47.345638036727905 seconds, Rows processed = 3066756\n"
     ]
    },
    {
     "name": "stderr",
     "output_type": "stream",
     "text": [
      "                                                                                \r"
     ]
    },
    {
     "name": "stdout",
     "output_type": "stream",
     "text": [
      "ST_FrechetDistance calculation: Duration = 5.864117383956909 seconds, Rows processed = 3066756\n",
      "Processing: Geologic_units.geojson against Bathymetry.geojson\n"
     ]
    },
    {
     "name": "stderr",
     "output_type": "stream",
     "text": [
      "                                                                                \r"
     ]
    },
    {
     "name": "stdout",
     "output_type": "stream",
     "text": [
      "ST_Distance calculation: Duration = 14.919351816177368 seconds, Rows processed = 97578600\n"
     ]
    },
    {
     "name": "stderr",
     "output_type": "stream",
     "text": [
      "24/04/22 13:24:22 ERROR TaskSchedulerImpl: Lost executor 16 on 129.82.44.144: Command exited with code 52\n",
      "                                                                                \r"
     ]
    },
    {
     "name": "stdout",
     "output_type": "stream",
     "text": [
      "ST_HausdorffDistance calculation: Duration = 16.681466579437256 seconds, Rows processed = 97578600\n"
     ]
    },
    {
     "name": "stderr",
     "output_type": "stream",
     "text": [
      "                                                                                \r"
     ]
    },
    {
     "name": "stdout",
     "output_type": "stream",
     "text": [
      "ST_FrechetDistance calculation: Duration = 48.92546319961548 seconds, Rows processed = 97578600\n",
      "Processing: Geologic_units.geojson against Calderas.geojson\n"
     ]
    },
    {
     "name": "stderr",
     "output_type": "stream",
     "text": [
      "                                                                                \r"
     ]
    },
    {
     "name": "stdout",
     "output_type": "stream",
     "text": [
      "ST_Distance calculation: Duration = 15.145528793334961 seconds, Rows processed = 2867616\n"
     ]
    },
    {
     "name": "stderr",
     "output_type": "stream",
     "text": [
      "                                                                                \r"
     ]
    },
    {
     "name": "stdout",
     "output_type": "stream",
     "text": [
      "ST_HausdorffDistance calculation: Duration = 46.34960412979126 seconds, Rows processed = 2867616\n"
     ]
    },
    {
     "name": "stderr",
     "output_type": "stream",
     "text": [
      "                                                                                \r"
     ]
    },
    {
     "name": "stdout",
     "output_type": "stream",
     "text": [
      "ST_FrechetDistance calculation: Duration = 6.140527725219727 seconds, Rows processed = 2867616\n",
      "Processing: Geologic_units.geojson against Diapiric_trends.geojson\n"
     ]
    },
    {
     "name": "stderr",
     "output_type": "stream",
     "text": [
      "24/04/22 13:26:34 ERROR TaskSchedulerImpl: Lost executor 17 on 129.82.44.149: Command exited with code 52\n"
     ]
    },
    {
     "name": "stdout",
     "output_type": "stream",
     "text": [
      "ST_Distance calculation: Duration = 15.126911163330078 seconds, Rows processed = 7009728\n"
     ]
    },
    {
     "name": "stderr",
     "output_type": "stream",
     "text": [
      "                                                                                \r"
     ]
    },
    {
     "name": "stdout",
     "output_type": "stream",
     "text": [
      "ST_HausdorffDistance calculation: Duration = 6.5773515701293945 seconds, Rows processed = 7009728\n"
     ]
    },
    {
     "name": "stderr",
     "output_type": "stream",
     "text": [
      "                                                                                \r"
     ]
    },
    {
     "name": "stdout",
     "output_type": "stream",
     "text": [
      "ST_FrechetDistance calculation: Duration = 4.972140073776245 seconds, Rows processed = 7009728\n",
      "Processing: Geologic_units.geojson against Diapirs.geojson\n"
     ]
    },
    {
     "name": "stderr",
     "output_type": "stream",
     "text": [
      "                                                                                \r"
     ]
    },
    {
     "name": "stdout",
     "output_type": "stream",
     "text": [
      "ST_Distance calculation: Duration = 4.693569898605347 seconds, Rows processed = 53927112\n"
     ]
    },
    {
     "name": "stderr",
     "output_type": "stream",
     "text": [
      "                                                                                \r"
     ]
    },
    {
     "name": "stdout",
     "output_type": "stream",
     "text": [
      "ST_HausdorffDistance calculation: Duration = 15.246599912643433 seconds, Rows processed = 53927112\n"
     ]
    },
    {
     "name": "stderr",
     "output_type": "stream",
     "text": [
      "24/04/22 13:27:20 ERROR TaskSchedulerImpl: Lost executor 19 on 129.82.44.145: Command exited with code 52\n",
      "                                                                                \r"
     ]
    },
    {
     "name": "stdout",
     "output_type": "stream",
     "text": [
      "ST_FrechetDistance calculation: Duration = 9.789689064025879 seconds, Rows processed = 53927112\n",
      "Processing: Geologic_units.geojson against Dikes_sills.geojson\n"
     ]
    },
    {
     "name": "stderr",
     "output_type": "stream",
     "text": [
      "24/04/22 13:27:41 ERROR TaskSchedulerImpl: Lost executor 11 on 129.82.44.144: Command exited with code 52\n",
      "                                                                                \r"
     ]
    },
    {
     "name": "stdout",
     "output_type": "stream",
     "text": [
      "ST_Distance calculation: Duration = 25.878936052322388 seconds, Rows processed = 143619768\n"
     ]
    },
    {
     "name": "stderr",
     "output_type": "stream",
     "text": [
      "                                                                                \r"
     ]
    },
    {
     "name": "stdout",
     "output_type": "stream",
     "text": [
      "ST_HausdorffDistance calculation: Duration = 15.294414281845093 seconds, Rows processed = 143619768\n"
     ]
    },
    {
     "name": "stderr",
     "output_type": "stream",
     "text": [
      "                                                                                \r"
     ]
    },
    {
     "name": "stdout",
     "output_type": "stream",
     "text": [
      "ST_FrechetDistance calculation: Duration = 5.518895387649536 seconds, Rows processed = 143619768\n",
      "Processing: Geologic_units.geojson against Faults.geojson\n"
     ]
    },
    {
     "name": "stderr",
     "output_type": "stream",
     "text": [
      "                                                                                \r"
     ]
    },
    {
     "name": "stdout",
     "output_type": "stream",
     "text": [
      "ST_Distance calculation: Duration = 5.434255361557007 seconds, Rows processed = 494823072\n"
     ]
    },
    {
     "name": "stderr",
     "output_type": "stream",
     "text": [
      "                                                                                \r"
     ]
    },
    {
     "name": "stdout",
     "output_type": "stream",
     "text": [
      "ST_HausdorffDistance calculation: Duration = 15.589246988296509 seconds, Rows processed = 494823072\n"
     ]
    },
    {
     "name": "stderr",
     "output_type": "stream",
     "text": [
      "                                                                                \r"
     ]
    },
    {
     "name": "stdout",
     "output_type": "stream",
     "text": [
      "ST_FrechetDistance calculation: Duration = 5.461385250091553 seconds, Rows processed = 494823072\n",
      "Processing: Geologic_units.geojson against Gas_fluid_seep.geojson\n"
     ]
    },
    {
     "name": "stderr",
     "output_type": "stream",
     "text": [
      "                                                                                \r"
     ]
    },
    {
     "name": "stdout",
     "output_type": "stream",
     "text": [
      "ST_Distance calculation: Duration = 57.084572553634644 seconds, Rows processed = 1513464\n"
     ]
    },
    {
     "name": "stderr",
     "output_type": "stream",
     "text": [
      "                                                                                \r"
     ]
    },
    {
     "name": "stdout",
     "output_type": "stream",
     "text": [
      "ST_HausdorffDistance calculation: Duration = 5.052382469177246 seconds, Rows processed = 1513464\n"
     ]
    },
    {
     "name": "stderr",
     "output_type": "stream",
     "text": [
      "24/04/22 13:30:36 ERROR TaskSchedulerImpl: Lost executor 18 on 129.82.44.142: Command exited with code 52\n",
      "                                                                                \r"
     ]
    },
    {
     "name": "stdout",
     "output_type": "stream",
     "text": [
      "ST_FrechetDistance calculation: Duration = 58.85472249984741 seconds, Rows processed = 1513464\n",
      "Processing: Geologic_units.geojson against Gas_oil_seep.geojson\n"
     ]
    },
    {
     "name": "stderr",
     "output_type": "stream",
     "text": [
      "                                                                                \r"
     ]
    },
    {
     "name": "stdout",
     "output_type": "stream",
     "text": [
      "ST_Distance calculation: Duration = 5.732941389083862 seconds, Rows processed = 119484\n"
     ]
    },
    {
     "name": "stderr",
     "output_type": "stream",
     "text": [
      "                                                                                \r"
     ]
    },
    {
     "name": "stdout",
     "output_type": "stream",
     "text": [
      "ST_HausdorffDistance calculation: Duration = 5.444056272506714 seconds, Rows processed = 119484\n"
     ]
    },
    {
     "name": "stderr",
     "output_type": "stream",
     "text": [
      "24/04/22 13:31:07 ERROR TaskSchedulerImpl: Lost executor 1 on 129.82.44.145: Command exited with code 52\n",
      "24/04/22 13:31:12 ERROR TaskSchedulerImpl: Lost executor 20 on 129.82.44.144: Command exited with code 52\n",
      "24/04/22 13:31:59 ERROR TaskSchedulerImpl: Lost executor 12 on 129.82.44.142: Command exited with code 52\n",
      "                                                                                \r"
     ]
    },
    {
     "name": "stdout",
     "output_type": "stream",
     "text": [
      "ST_FrechetDistance calculation: Duration = 78.75638008117676 seconds, Rows processed = 119484\n",
      "Processing: Geologic_units.geojson against Geologic_contacts.geojson\n"
     ]
    },
    {
     "name": "stderr",
     "output_type": "stream",
     "text": [
      "                                                                                \r"
     ]
    },
    {
     "name": "stdout",
     "output_type": "stream",
     "text": [
      "ST_Distance calculation: Duration = 18.61164379119873 seconds, Rows processed = 2125062768\n"
     ]
    },
    {
     "name": "stderr",
     "output_type": "stream",
     "text": [
      "                                                                                \r"
     ]
    },
    {
     "name": "stdout",
     "output_type": "stream",
     "text": [
      "ST_HausdorffDistance calculation: Duration = 19.724320888519287 seconds, Rows processed = 2125062768\n"
     ]
    },
    {
     "name": "stderr",
     "output_type": "stream",
     "text": [
      "                                                                                \r"
     ]
    },
    {
     "name": "stdout",
     "output_type": "stream",
     "text": [
      "ST_FrechetDistance calculation: Duration = 8.396085977554321 seconds, Rows processed = 2125062768\n",
      "Processing: Geologic_units.geojson against Geologic_overprints.geojson\n"
     ]
    },
    {
     "name": "stderr",
     "output_type": "stream",
     "text": [
      "                                                                                \r"
     ]
    },
    {
     "name": "stdout",
     "output_type": "stream",
     "text": [
      "ST_Distance calculation: Duration = 6.9958295822143555 seconds, Rows processed = 74558016\n"
     ]
    },
    {
     "name": "stderr",
     "output_type": "stream",
     "text": [
      "                                                                                \r"
     ]
    },
    {
     "name": "stdout",
     "output_type": "stream",
     "text": [
      "ST_HausdorffDistance calculation: Duration = 55.5560839176178 seconds, Rows processed = 74558016\n"
     ]
    },
    {
     "name": "stderr",
     "output_type": "stream",
     "text": [
      "                                                                                \r"
     ]
    },
    {
     "name": "stdout",
     "output_type": "stream",
     "text": [
      "ST_FrechetDistance calculation: Duration = 16.306870937347412 seconds, Rows processed = 74558016\n",
      "Processing: Geologic_units.geojson against Glaciation_extents.geojson\n"
     ]
    },
    {
     "name": "stderr",
     "output_type": "stream",
     "text": [
      "24/04/22 13:34:20 ERROR TaskSchedulerImpl: Lost executor 21 on 129.82.44.149: Command exited with code 52\n",
      "                                                                                \r"
     ]
    },
    {
     "name": "stdout",
     "output_type": "stream",
     "text": [
      "ST_Distance calculation: Duration = 58.29764533042908 seconds, Rows processed = 995700\n"
     ]
    },
    {
     "name": "stderr",
     "output_type": "stream",
     "text": [
      "                                                                                \r"
     ]
    },
    {
     "name": "stdout",
     "output_type": "stream",
     "text": [
      "ST_HausdorffDistance calculation: Duration = 5.300386190414429 seconds, Rows processed = 995700\n"
     ]
    },
    {
     "name": "stderr",
     "output_type": "stream",
     "text": [
      "24/04/22 13:36:09 ERROR TaskSchedulerImpl: Lost executor 27 on 129.82.44.142: Command exited with code 52\n",
      "24/04/22 13:36:24 ERROR TaskSchedulerImpl: Lost executor 25 on 129.82.44.145: Command exited with code 52\n",
      "                                                                                \r"
     ]
    },
    {
     "name": "stdout",
     "output_type": "stream",
     "text": [
      "ST_FrechetDistance calculation: Duration = 75.04417419433594 seconds, Rows processed = 995700\n",
      "Processing: Geologic_units.geojson against Hydrothermal_vents.geojson\n"
     ]
    },
    {
     "name": "stderr",
     "output_type": "stream",
     "text": [
      "                                                                                \r"
     ]
    },
    {
     "name": "stdout",
     "output_type": "stream",
     "text": [
      "ST_Distance calculation: Duration = 5.643816947937012 seconds, Rows processed = 1951572\n"
     ]
    },
    {
     "name": "stderr",
     "output_type": "stream",
     "text": [
      "                                                                                \r"
     ]
    },
    {
     "name": "stdout",
     "output_type": "stream",
     "text": [
      "ST_HausdorffDistance calculation: Duration = 4.707138299942017 seconds, Rows processed = 1951572\n"
     ]
    },
    {
     "name": "stderr",
     "output_type": "stream",
     "text": [
      "                                                                                \r"
     ]
    },
    {
     "name": "stdout",
     "output_type": "stream",
     "text": [
      "ST_FrechetDistance calculation: Duration = 5.245991230010986 seconds, Rows processed = 1951572\n",
      "Processing: Geologic_units.geojson against Impact_structure_great_10_KM.geojson\n"
     ]
    },
    {
     "name": "stderr",
     "output_type": "stream",
     "text": [
      "                                                                                \r"
     ]
    },
    {
     "name": "stdout",
     "output_type": "stream",
     "text": [
      "ST_Distance calculation: Duration = 17.893857717514038 seconds, Rows processed = 1234668\n"
     ]
    },
    {
     "name": "stderr",
     "output_type": "stream",
     "text": [
      "24/04/22 13:37:23 ERROR TaskSchedulerImpl: Lost executor 30 on 129.82.44.145: Command exited with code 52\n",
      "                                                                                \r"
     ]
    },
    {
     "name": "stdout",
     "output_type": "stream",
     "text": [
      "ST_HausdorffDistance calculation: Duration = 25.90077543258667 seconds, Rows processed = 1234668\n"
     ]
    },
    {
     "name": "stderr",
     "output_type": "stream",
     "text": [
      "                                                                                \r"
     ]
    },
    {
     "name": "stdout",
     "output_type": "stream",
     "text": [
      "ST_FrechetDistance calculation: Duration = 5.355117082595825 seconds, Rows processed = 1234668\n",
      "Processing: Geologic_units.geojson against Impact_structure_less_10_KM.geojson\n"
     ]
    },
    {
     "name": "stderr",
     "output_type": "stream",
     "text": [
      "                                                                                \r"
     ]
    },
    {
     "name": "stdout",
     "output_type": "stream",
     "text": [
      "ST_Distance calculation: Duration = 49.01136779785156 seconds, Rows processed = 995700\n"
     ]
    },
    {
     "name": "stderr",
     "output_type": "stream",
     "text": [
      "                                                                                \r"
     ]
    },
    {
     "name": "stdout",
     "output_type": "stream",
     "text": [
      "ST_HausdorffDistance calculation: Duration = 5.41471004486084 seconds, Rows processed = 995700\n"
     ]
    },
    {
     "name": "stderr",
     "output_type": "stream",
     "text": [
      "                                                                                \r"
     ]
    },
    {
     "name": "stdout",
     "output_type": "stream",
     "text": [
      "ST_FrechetDistance calculation: Duration = 43.341707706451416 seconds, Rows processed = 995700\n",
      "Processing: Geologic_units.geojson against Maganifeorus_deposits.geojson\n"
     ]
    },
    {
     "name": "stderr",
     "output_type": "stream",
     "text": [
      "                                                                                \r"
     ]
    },
    {
     "name": "stdout",
     "output_type": "stream",
     "text": [
      "ST_Distance calculation: Duration = 4.673036098480225 seconds, Rows processed = 21387636\n"
     ]
    },
    {
     "name": "stderr",
     "output_type": "stream",
     "text": [
      "                                                                                \r"
     ]
    },
    {
     "name": "stdout",
     "output_type": "stream",
     "text": [
      "ST_HausdorffDistance calculation: Duration = 6.996000528335571 seconds, Rows processed = 21387636\n"
     ]
    },
    {
     "name": "stderr",
     "output_type": "stream",
     "text": [
      "                                                                                \r"
     ]
    },
    {
     "name": "stdout",
     "output_type": "stream",
     "text": [
      "ST_FrechetDistance calculation: Duration = 50.36729049682617 seconds, Rows processed = 21387636\n",
      "Processing: Geologic_units.geojson against Phosphate_nodules_pavement.geojson\n"
     ]
    },
    {
     "name": "stderr",
     "output_type": "stream",
     "text": [
      "                                                                                \r"
     ]
    },
    {
     "name": "stdout",
     "output_type": "stream",
     "text": [
      "ST_Distance calculation: Duration = 5.049807071685791 seconds, Rows processed = 22263852\n"
     ]
    },
    {
     "name": "stderr",
     "output_type": "stream",
     "text": [
      "24/04/22 13:40:28 ERROR TaskSchedulerImpl: Lost executor 6 on 129.82.44.143: Command exited with code 52\n",
      "                                                                                \r"
     ]
    },
    {
     "name": "stdout",
     "output_type": "stream",
     "text": [
      "ST_HausdorffDistance calculation: Duration = 25.49186086654663 seconds, Rows processed = 22263852\n"
     ]
    },
    {
     "name": "stderr",
     "output_type": "stream",
     "text": [
      "                                                                                \r"
     ]
    },
    {
     "name": "stdout",
     "output_type": "stream",
     "text": [
      "ST_FrechetDistance calculation: Duration = 15.207199096679688 seconds, Rows processed = 22263852\n",
      "Processing: Geologic_units.geojson against Polymetallic_sulfide_deposits.geojson\n"
     ]
    },
    {
     "name": "stderr",
     "output_type": "stream",
     "text": [
      "                                                                                \r"
     ]
    },
    {
     "name": "stdout",
     "output_type": "stream",
     "text": [
      "ST_Distance calculation: Duration = 16.258144855499268 seconds, Rows processed = 517764\n"
     ]
    },
    {
     "name": "stderr",
     "output_type": "stream",
     "text": [
      "                                                                                \r"
     ]
    },
    {
     "name": "stdout",
     "output_type": "stream",
     "text": [
      "ST_HausdorffDistance calculation: Duration = 4.613304615020752 seconds, Rows processed = 517764\n"
     ]
    },
    {
     "name": "stderr",
     "output_type": "stream",
     "text": [
      "                                                                                \r"
     ]
    },
    {
     "name": "stdout",
     "output_type": "stream",
     "text": [
      "ST_FrechetDistance calculation: Duration = 5.682767391204834 seconds, Rows processed = 517764\n",
      "Processing: Geologic_units.geojson against Rock_in_seafloor_sample.geojson\n"
     ]
    },
    {
     "name": "stderr",
     "output_type": "stream",
     "text": [
      "                                                                                \r"
     ]
    },
    {
     "name": "stdout",
     "output_type": "stream",
     "text": [
      "ST_Distance calculation: Duration = 4.840183973312378 seconds, Rows processed = 1991400\n"
     ]
    },
    {
     "name": "stderr",
     "output_type": "stream",
     "text": [
      "                                                                                \r"
     ]
    },
    {
     "name": "stdout",
     "output_type": "stream",
     "text": [
      "ST_HausdorffDistance calculation: Duration = 4.715442657470703 seconds, Rows processed = 1991400\n"
     ]
    },
    {
     "name": "stderr",
     "output_type": "stream",
     "text": [
      "                                                                                \r"
     ]
    },
    {
     "name": "stdout",
     "output_type": "stream",
     "text": [
      "ST_FrechetDistance calculation: Duration = 4.950390100479126 seconds, Rows processed = 1991400\n",
      "Processing: Geologic_units.geojson against Special_submarine_features.geojson\n"
     ]
    },
    {
     "name": "stderr",
     "output_type": "stream",
     "text": [
      "                                                                                \r"
     ]
    },
    {
     "name": "stdout",
     "output_type": "stream",
     "text": [
      "ST_Distance calculation: Duration = 15.900819540023804 seconds, Rows processed = 109965108\n"
     ]
    },
    {
     "name": "stderr",
     "output_type": "stream",
     "text": [
      "                                                                                \r"
     ]
    },
    {
     "name": "stdout",
     "output_type": "stream",
     "text": [
      "ST_HausdorffDistance calculation: Duration = 6.0480873584747314 seconds, Rows processed = 109965108\n"
     ]
    },
    {
     "name": "stderr",
     "output_type": "stream",
     "text": [
      "                                                                                \r"
     ]
    },
    {
     "name": "stdout",
     "output_type": "stream",
     "text": [
      "ST_FrechetDistance calculation: Duration = 15.855424642562866 seconds, Rows processed = 109965108\n",
      "Processing: Geologic_units.geojson against Volcanoes.geojson\n"
     ]
    },
    {
     "name": "stderr",
     "output_type": "stream",
     "text": [
      "[Stage 5712:>                                                       (0 + 1) / 1]\r"
     ]
    },
    {
     "name": "stdout",
     "output_type": "stream",
     "text": [
      "ST_Distance calculation: Duration = 4.847701787948608 seconds, Rows processed = 24295080\n"
     ]
    },
    {
     "name": "stderr",
     "output_type": "stream",
     "text": [
      "                                                                                \r"
     ]
    },
    {
     "name": "stdout",
     "output_type": "stream",
     "text": [
      "ST_HausdorffDistance calculation: Duration = 4.915527582168579 seconds, Rows processed = 24295080\n"
     ]
    },
    {
     "name": "stderr",
     "output_type": "stream",
     "text": [
      "                                                                                \r"
     ]
    },
    {
     "name": "stdout",
     "output_type": "stream",
     "text": [
      "ST_FrechetDistance calculation: Duration = 4.6861653327941895 seconds, Rows processed = 24295080\n",
      "Processing: Geologic_units.geojson against WorldContinents.geojson\n"
     ]
    },
    {
     "name": "stderr",
     "output_type": "stream",
     "text": [
      "                                                                                \r"
     ]
    },
    {
     "name": "stdout",
     "output_type": "stream",
     "text": [
      "ST_Distance calculation: Duration = 4.879810333251953 seconds, Rows processed = 318624\n"
     ]
    },
    {
     "name": "stderr",
     "output_type": "stream",
     "text": [
      "                                                                                \r"
     ]
    },
    {
     "name": "stdout",
     "output_type": "stream",
     "text": [
      "ST_HausdorffDistance calculation: Duration = 15.26265263557434 seconds, Rows processed = 318624\n"
     ]
    },
    {
     "name": "stderr",
     "output_type": "stream",
     "text": [
      "                                                                                \r"
     ]
    },
    {
     "name": "stdout",
     "output_type": "stream",
     "text": [
      "ST_FrechetDistance calculation: Duration = 59.08867120742798 seconds, Rows processed = 318624\n",
      "Processing: Geologic_units.geojson against cb_2018_us_state_20m.json\n"
     ]
    },
    {
     "name": "stderr",
     "output_type": "stream",
     "text": [
      "                                                                                \r"
     ]
    },
    {
     "name": "stdout",
     "output_type": "stream",
     "text": [
      "ST_Distance calculation: Duration = 15.198508501052856 seconds, Rows processed = 2071056\n"
     ]
    },
    {
     "name": "stderr",
     "output_type": "stream",
     "text": [
      "24/04/22 13:44:55 ERROR TaskSchedulerImpl: Lost executor 29 on 129.82.44.142: Command exited with code 52\n",
      "                                                                                \r"
     ]
    },
    {
     "name": "stdout",
     "output_type": "stream",
     "text": [
      "ST_HausdorffDistance calculation: Duration = 52.74321389198303 seconds, Rows processed = 2071056\n"
     ]
    },
    {
     "name": "stderr",
     "output_type": "stream",
     "text": [
      "                                                                                \r"
     ]
    },
    {
     "name": "stdout",
     "output_type": "stream",
     "text": [
      "ST_FrechetDistance calculation: Duration = 5.5596160888671875 seconds, Rows processed = 2071056\n",
      "Processing: Glaciation_extents.geojson against AgriculturalArea.geojson\n",
      "ST_Distance calculation: Duration = 0.5981805324554443 seconds, Rows processed = 76750\n"
     ]
    },
    {
     "name": "stderr",
     "output_type": "stream",
     "text": [
      "                                                                                \r"
     ]
    },
    {
     "name": "stdout",
     "output_type": "stream",
     "text": [
      "ST_HausdorffDistance calculation: Duration = 7.235177993774414 seconds, Rows processed = 76750\n"
     ]
    },
    {
     "name": "stderr",
     "output_type": "stream",
     "text": [
      "                                                                                \r"
     ]
    },
    {
     "name": "stdout",
     "output_type": "stream",
     "text": [
      "ST_FrechetDistance calculation: Duration = 7.2158496379852295 seconds, Rows processed = 76750\n",
      "Processing: Glaciation_extents.geojson against CityBoundaries.geojson\n"
     ]
    },
    {
     "name": "stderr",
     "output_type": "stream",
     "text": [
      "                                                                                \r"
     ]
    },
    {
     "name": "stdout",
     "output_type": "stream",
     "text": [
      "ST_Distance calculation: Duration = 0.9201996326446533 seconds, Rows processed = 12500\n"
     ]
    },
    {
     "name": "stderr",
     "output_type": "stream",
     "text": [
      "                                                                                \r"
     ]
    },
    {
     "name": "stdout",
     "output_type": "stream",
     "text": [
      "ST_HausdorffDistance calculation: Duration = 0.9078845977783203 seconds, Rows processed = 12500\n"
     ]
    },
    {
     "name": "stderr",
     "output_type": "stream",
     "text": [
      "                                                                                \r"
     ]
    },
    {
     "name": "stdout",
     "output_type": "stream",
     "text": [
      "ST_FrechetDistance calculation: Duration = 0.8747177124023438 seconds, Rows processed = 12500\n",
      "Processing: Glaciation_extents.geojson against CountryTerritories.geojson\n"
     ]
    },
    {
     "name": "stderr",
     "output_type": "stream",
     "text": [
      "                                                                                \r"
     ]
    },
    {
     "name": "stdout",
     "output_type": "stream",
     "text": [
      "ST_Distance calculation: Duration = 4.034695386886597 seconds, Rows processed = 6400\n",
      "ST_HausdorffDistance calculation: Duration = 0.2053661346435547 seconds, Rows processed = 6400\n",
      "ST_FrechetDistance calculation: Duration = 0.24858307838439941 seconds, Rows processed = 6400\n",
      "Processing: Glaciation_extents.geojson against EcoRegions.geojson\n"
     ]
    },
    {
     "name": "stderr",
     "output_type": "stream",
     "text": [
      "                                                                                \r"
     ]
    },
    {
     "name": "stdout",
     "output_type": "stream",
     "text": [
      "ST_Distance calculation: Duration = 1.8891932964324951 seconds, Rows processed = 31250\n"
     ]
    },
    {
     "name": "stderr",
     "output_type": "stream",
     "text": [
      "                                                                                \r"
     ]
    },
    {
     "name": "stdout",
     "output_type": "stream",
     "text": [
      "ST_HausdorffDistance calculation: Duration = 1.9272067546844482 seconds, Rows processed = 31250\n"
     ]
    },
    {
     "name": "stderr",
     "output_type": "stream",
     "text": [
      "                                                                                \r"
     ]
    },
    {
     "name": "stdout",
     "output_type": "stream",
     "text": [
      "ST_FrechetDistance calculation: Duration = 3.2780659198760986 seconds, Rows processed = 31250\n",
      "Processing: Glaciation_extents.geojson against GeographicRegions.geojson\n",
      "ST_Distance calculation: Duration = 0.6658034324645996 seconds, Rows processed = 26250\n",
      "ST_HausdorffDistance calculation: Duration = 0.24854040145874023 seconds, Rows processed = 26250\n"
     ]
    },
    {
     "name": "stderr",
     "output_type": "stream",
     "text": [
      "                                                                                \r"
     ]
    },
    {
     "name": "stdout",
     "output_type": "stream",
     "text": [
      "ST_FrechetDistance calculation: Duration = 2.681715250015259 seconds, Rows processed = 26250\n",
      "Processing: Glaciation_extents.geojson against Areas_diapiric_structures.geojson\n",
      "ST_Distance calculation: Duration = 0.13854479789733887 seconds, Rows processed = 1925\n",
      "ST_HausdorffDistance calculation: Duration = 0.08033919334411621 seconds, Rows processed = 1925\n",
      "ST_FrechetDistance calculation: Duration = 0.2016892433166504 seconds, Rows processed = 1925\n",
      "Processing: Glaciation_extents.geojson against Bathymetry.geojson\n",
      "ST_Distance calculation: Duration = 0.7033615112304688 seconds, Rows processed = 61250\n"
     ]
    },
    {
     "name": "stderr",
     "output_type": "stream",
     "text": [
      "                                                                                \r"
     ]
    },
    {
     "name": "stdout",
     "output_type": "stream",
     "text": [
      "ST_HausdorffDistance calculation: Duration = 0.7415859699249268 seconds, Rows processed = 61250\n",
      "ST_FrechetDistance calculation: Duration = 0.7055573463439941 seconds, Rows processed = 61250\n",
      "Processing: Glaciation_extents.geojson against Calderas.geojson\n",
      "ST_Distance calculation: Duration = 0.09095382690429688 seconds, Rows processed = 1800\n",
      "ST_HausdorffDistance calculation: Duration = 0.11893153190612793 seconds, Rows processed = 1800\n"
     ]
    },
    {
     "name": "stderr",
     "output_type": "stream",
     "text": [
      "                                                                                \r"
     ]
    },
    {
     "name": "stdout",
     "output_type": "stream",
     "text": [
      "ST_FrechetDistance calculation: Duration = 0.7793762683868408 seconds, Rows processed = 1800\n",
      "Processing: Glaciation_extents.geojson against Diapiric_trends.geojson\n",
      "ST_Distance calculation: Duration = 0.08466720581054688 seconds, Rows processed = 4400\n",
      "ST_HausdorffDistance calculation: Duration = 0.08713603019714355 seconds, Rows processed = 4400\n",
      "ST_FrechetDistance calculation: Duration = 0.07798218727111816 seconds, Rows processed = 4400\n",
      "Processing: Glaciation_extents.geojson against Diapirs.geojson\n"
     ]
    },
    {
     "name": "stderr",
     "output_type": "stream",
     "text": [
      "                                                                                \r"
     ]
    },
    {
     "name": "stdout",
     "output_type": "stream",
     "text": [
      "ST_Distance calculation: Duration = 1.1551523208618164 seconds, Rows processed = 33850\n"
     ]
    },
    {
     "name": "stderr",
     "output_type": "stream",
     "text": [
      "                                                                                \r"
     ]
    },
    {
     "name": "stdout",
     "output_type": "stream",
     "text": [
      "ST_HausdorffDistance calculation: Duration = 0.8325605392456055 seconds, Rows processed = 33850\n",
      "ST_FrechetDistance calculation: Duration = 0.7736837863922119 seconds, Rows processed = 33850\n",
      "Processing: Glaciation_extents.geojson against Dikes_sills.geojson\n",
      "ST_Distance calculation: Duration = 0.1254885196685791 seconds, Rows processed = 90150\n",
      "ST_HausdorffDistance calculation: Duration = 0.12195873260498047 seconds, Rows processed = 90150\n",
      "ST_FrechetDistance calculation: Duration = 0.10869765281677246 seconds, Rows processed = 90150\n",
      "Processing: Glaciation_extents.geojson against Faults.geojson\n",
      "ST_Distance calculation: Duration = 0.42327880859375 seconds, Rows processed = 310600\n"
     ]
    },
    {
     "name": "stderr",
     "output_type": "stream",
     "text": [
      "                                                                                \r"
     ]
    },
    {
     "name": "stdout",
     "output_type": "stream",
     "text": [
      "ST_HausdorffDistance calculation: Duration = 2.609011650085449 seconds, Rows processed = 310600\n",
      "ST_FrechetDistance calculation: Duration = 0.4170956611633301 seconds, Rows processed = 310600\n",
      "Processing: Glaciation_extents.geojson against Gas_fluid_seep.geojson\n",
      "ST_Distance calculation: Duration = 0.08121609687805176 seconds, Rows processed = 950\n",
      "ST_HausdorffDistance calculation: Duration = 0.07981348037719727 seconds, Rows processed = 950\n"
     ]
    },
    {
     "name": "stderr",
     "output_type": "stream",
     "text": [
      "                                                                                \r"
     ]
    },
    {
     "name": "stdout",
     "output_type": "stream",
     "text": [
      "ST_FrechetDistance calculation: Duration = 1.1418395042419434 seconds, Rows processed = 950\n",
      "Processing: Glaciation_extents.geojson against Gas_oil_seep.geojson\n",
      "ST_Distance calculation: Duration = 0.8928399085998535 seconds, Rows processed = 75\n",
      "ST_HausdorffDistance calculation: Duration = 0.0731511116027832 seconds, Rows processed = 75\n",
      "ST_FrechetDistance calculation: Duration = 0.08081817626953125 seconds, Rows processed = 75\n",
      "Processing: Glaciation_extents.geojson against Geologic_contacts.geojson\n"
     ]
    },
    {
     "name": "stderr",
     "output_type": "stream",
     "text": [
      "                                                                                \r"
     ]
    },
    {
     "name": "stdout",
     "output_type": "stream",
     "text": [
      "ST_Distance calculation: Duration = 2.000417947769165 seconds, Rows processed = 1333900\n"
     ]
    },
    {
     "name": "stderr",
     "output_type": "stream",
     "text": [
      "                                                                                \r"
     ]
    },
    {
     "name": "stdout",
     "output_type": "stream",
     "text": [
      "ST_HausdorffDistance calculation: Duration = 1.9671778678894043 seconds, Rows processed = 1333900\n"
     ]
    },
    {
     "name": "stderr",
     "output_type": "stream",
     "text": [
      "                                                                                \r"
     ]
    },
    {
     "name": "stdout",
     "output_type": "stream",
     "text": [
      "ST_FrechetDistance calculation: Duration = 1.9665441513061523 seconds, Rows processed = 1333900\n",
      "Processing: Glaciation_extents.geojson against Geologic_overprints.geojson\n",
      "ST_Distance calculation: Duration = 0.4792294502258301 seconds, Rows processed = 46800\n",
      "ST_HausdorffDistance calculation: Duration = 0.5313966274261475 seconds, Rows processed = 46800\n",
      "ST_FrechetDistance calculation: Duration = 0.4807450771331787 seconds, Rows processed = 46800\n",
      "Processing: Glaciation_extents.geojson against Geologic_units.geojson\n"
     ]
    },
    {
     "name": "stderr",
     "output_type": "stream",
     "text": [
      "[Stage 5940:>                                                       (0 + 1) / 1]\r"
     ]
    },
    {
     "name": "stdout",
     "output_type": "stream",
     "text": [
      "ST_Distance calculation: Duration = 4.789411783218384 seconds, Rows processed = 995700\n"
     ]
    },
    {
     "name": "stderr",
     "output_type": "stream",
     "text": [
      "                                                                                \r"
     ]
    },
    {
     "name": "stdout",
     "output_type": "stream",
     "text": [
      "ST_HausdorffDistance calculation: Duration = 4.769439935684204 seconds, Rows processed = 995700\n"
     ]
    },
    {
     "name": "stderr",
     "output_type": "stream",
     "text": [
      "24/04/22 13:46:28 ERROR TaskSchedulerImpl: Lost executor 26 on 129.82.44.144: Command exited with code 52\n",
      "                                                                                \r"
     ]
    },
    {
     "name": "stdout",
     "output_type": "stream",
     "text": [
      "ST_FrechetDistance calculation: Duration = 35.807778120040894 seconds, Rows processed = 995700\n",
      "Processing: Glaciation_extents.geojson against Hydrothermal_vents.geojson\n",
      "ST_Distance calculation: Duration = 0.12243938446044922 seconds, Rows processed = 1225\n"
     ]
    },
    {
     "name": "stderr",
     "output_type": "stream",
     "text": [
      "                                                                                \r"
     ]
    },
    {
     "name": "stdout",
     "output_type": "stream",
     "text": [
      "ST_HausdorffDistance calculation: Duration = 7.890998601913452 seconds, Rows processed = 1225\n",
      "ST_FrechetDistance calculation: Duration = 0.08050966262817383 seconds, Rows processed = 1225\n",
      "Processing: Glaciation_extents.geojson against Impact_structure_great_10_KM.geojson\n",
      "ST_Distance calculation: Duration = 0.0865166187286377 seconds, Rows processed = 775\n",
      "ST_HausdorffDistance calculation: Duration = 0.07837176322937012 seconds, Rows processed = 775\n",
      "ST_FrechetDistance calculation: Duration = 0.09430813789367676 seconds, Rows processed = 775\n",
      "Processing: Glaciation_extents.geojson against Impact_structure_less_10_KM.geojson\n",
      "ST_Distance calculation: Duration = 0.6146981716156006 seconds, Rows processed = 625\n"
     ]
    },
    {
     "name": "stderr",
     "output_type": "stream",
     "text": [
      "                                                                                \r"
     ]
    },
    {
     "name": "stdout",
     "output_type": "stream",
     "text": [
      "ST_HausdorffDistance calculation: Duration = 1.2047319412231445 seconds, Rows processed = 625\n"
     ]
    },
    {
     "name": "stderr",
     "output_type": "stream",
     "text": [
      "                                                                                \r"
     ]
    },
    {
     "name": "stdout",
     "output_type": "stream",
     "text": [
      "ST_FrechetDistance calculation: Duration = 1.1122841835021973 seconds, Rows processed = 625\n",
      "Processing: Glaciation_extents.geojson against Maganifeorus_deposits.geojson\n",
      "ST_Distance calculation: Duration = 0.492295503616333 seconds, Rows processed = 13425\n",
      "ST_HausdorffDistance calculation: Duration = 0.5525999069213867 seconds, Rows processed = 13425\n",
      "ST_FrechetDistance calculation: Duration = 0.0829474925994873 seconds, Rows processed = 13425\n",
      "Processing: Glaciation_extents.geojson against Phosphate_nodules_pavement.geojson\n",
      "ST_Distance calculation: Duration = 0.09532904624938965 seconds, Rows processed = 13975\n",
      "ST_HausdorffDistance calculation: Duration = 0.4994370937347412 seconds, Rows processed = 13975\n",
      "ST_FrechetDistance calculation: Duration = 0.08269500732421875 seconds, Rows processed = 13975\n",
      "Processing: Glaciation_extents.geojson against Polymetallic_sulfide_deposits.geojson\n",
      "ST_Distance calculation: Duration = 0.5808765888214111 seconds, Rows processed = 325\n",
      "ST_HausdorffDistance calculation: Duration = 0.5793371200561523 seconds, Rows processed = 325\n",
      "ST_FrechetDistance calculation: Duration = 0.07761001586914062 seconds, Rows processed = 325\n",
      "Processing: Glaciation_extents.geojson against Rock_in_seafloor_sample.geojson\n",
      "ST_Distance calculation: Duration = 0.5738480091094971 seconds, Rows processed = 1250\n",
      "ST_HausdorffDistance calculation: Duration = 0.0791006088256836 seconds, Rows processed = 1250\n",
      "ST_FrechetDistance calculation: Duration = 0.0811924934387207 seconds, Rows processed = 1250\n",
      "Processing: Glaciation_extents.geojson against Special_submarine_features.geojson\n",
      "ST_Distance calculation: Duration = 0.1573326587677002 seconds, Rows processed = 69025\n"
     ]
    },
    {
     "name": "stderr",
     "output_type": "stream",
     "text": [
      "                                                                                \r"
     ]
    },
    {
     "name": "stdout",
     "output_type": "stream",
     "text": [
      "ST_HausdorffDistance calculation: Duration = 1.7051715850830078 seconds, Rows processed = 69025\n"
     ]
    },
    {
     "name": "stderr",
     "output_type": "stream",
     "text": [
      "                                                                                \r"
     ]
    },
    {
     "name": "stdout",
     "output_type": "stream",
     "text": [
      "ST_FrechetDistance calculation: Duration = 1.1427862644195557 seconds, Rows processed = 69025\n",
      "Processing: Glaciation_extents.geojson against Volcanoes.geojson\n",
      "ST_Distance calculation: Duration = 0.0728311538696289 seconds, Rows processed = 15250\n",
      "ST_HausdorffDistance calculation: Duration = 0.07439708709716797 seconds, Rows processed = 15250\n",
      "ST_FrechetDistance calculation: Duration = 0.07462930679321289 seconds, Rows processed = 15250\n",
      "Processing: Glaciation_extents.geojson against WorldContinents.geojson\n",
      "ST_Distance calculation: Duration = 0.14749574661254883 seconds, Rows processed = 200\n",
      "ST_HausdorffDistance calculation: Duration = 0.15657925605773926 seconds, Rows processed = 200\n",
      "ST_FrechetDistance calculation: Duration = 0.15527558326721191 seconds, Rows processed = 200\n",
      "Processing: Glaciation_extents.geojson against cb_2018_us_state_20m.json\n",
      "ST_Distance calculation: Duration = 0.08572721481323242 seconds, Rows processed = 1300\n",
      "ST_HausdorffDistance calculation: Duration = 0.09618687629699707 seconds, Rows processed = 1300\n",
      "ST_FrechetDistance calculation: Duration = 0.716508150100708 seconds, Rows processed = 1300\n",
      "Processing: Hydrothermal_vents.geojson against AgriculturalArea.geojson\n",
      "ST_Distance calculation: Duration = 0.5596504211425781 seconds, Rows processed = 150430\n"
     ]
    },
    {
     "name": "stderr",
     "output_type": "stream",
     "text": [
      "                                                                                \r"
     ]
    },
    {
     "name": "stdout",
     "output_type": "stream",
     "text": [
      "ST_HausdorffDistance calculation: Duration = 0.7058680057525635 seconds, Rows processed = 150430\n"
     ]
    },
    {
     "name": "stderr",
     "output_type": "stream",
     "text": [
      "                                                                                \r"
     ]
    },
    {
     "name": "stdout",
     "output_type": "stream",
     "text": [
      "ST_FrechetDistance calculation: Duration = 6.958012342453003 seconds, Rows processed = 150430\n",
      "Processing: Hydrothermal_vents.geojson against CityBoundaries.geojson\n"
     ]
    },
    {
     "name": "stderr",
     "output_type": "stream",
     "text": [
      "[Stage 6096:>                                                       (0 + 1) / 1]\r"
     ]
    },
    {
     "name": "stdout",
     "output_type": "stream",
     "text": [
      "ST_Distance calculation: Duration = 1.4435558319091797 seconds, Rows processed = 24500\n"
     ]
    },
    {
     "name": "stderr",
     "output_type": "stream",
     "text": [
      "                                                                                \r"
     ]
    },
    {
     "name": "stdout",
     "output_type": "stream",
     "text": [
      "ST_HausdorffDistance calculation: Duration = 1.4292185306549072 seconds, Rows processed = 24500\n"
     ]
    },
    {
     "name": "stderr",
     "output_type": "stream",
     "text": [
      "[Stage 6104:>                                                       (0 + 1) / 1]\r"
     ]
    },
    {
     "name": "stdout",
     "output_type": "stream",
     "text": [
      "ST_FrechetDistance calculation: Duration = 1.6059951782226562 seconds, Rows processed = 24500\n",
      "Processing: Hydrothermal_vents.geojson against CountryTerritories.geojson\n"
     ]
    },
    {
     "name": "stderr",
     "output_type": "stream",
     "text": [
      "                                                                                \r"
     ]
    },
    {
     "name": "stdout",
     "output_type": "stream",
     "text": [
      "ST_Distance calculation: Duration = 3.5023348331451416 seconds, Rows processed = 12544\n",
      "ST_HausdorffDistance calculation: Duration = 0.6163935661315918 seconds, Rows processed = 12544\n",
      "ST_FrechetDistance calculation: Duration = 0.2660858631134033 seconds, Rows processed = 12544\n",
      "Processing: Hydrothermal_vents.geojson against EcoRegions.geojson\n"
     ]
    },
    {
     "name": "stderr",
     "output_type": "stream",
     "text": [
      "[Stage 6120:>                                                       (0 + 1) / 1]\r"
     ]
    },
    {
     "name": "stdout",
     "output_type": "stream",
     "text": [
      "ST_Distance calculation: Duration = 1.9707584381103516 seconds, Rows processed = 61250\n"
     ]
    },
    {
     "name": "stderr",
     "output_type": "stream",
     "text": [
      "                                                                                \r"
     ]
    },
    {
     "name": "stdout",
     "output_type": "stream",
     "text": [
      "ST_HausdorffDistance calculation: Duration = 34.18026804924011 seconds, Rows processed = 61250\n"
     ]
    },
    {
     "name": "stderr",
     "output_type": "stream",
     "text": [
      "                                                                                \r"
     ]
    },
    {
     "name": "stdout",
     "output_type": "stream",
     "text": [
      "ST_FrechetDistance calculation: Duration = 13.133944034576416 seconds, Rows processed = 61250\n",
      "Processing: Hydrothermal_vents.geojson against GeographicRegions.geojson\n",
      "ST_Distance calculation: Duration = 0.20368218421936035 seconds, Rows processed = 51450\n",
      "ST_HausdorffDistance calculation: Duration = 0.19431686401367188 seconds, Rows processed = 51450\n",
      "ST_FrechetDistance calculation: Duration = 0.19904232025146484 seconds, Rows processed = 51450\n",
      "Processing: Hydrothermal_vents.geojson against Areas_diapiric_structures.geojson\n",
      "ST_Distance calculation: Duration = 0.08720064163208008 seconds, Rows processed = 3773\n",
      "ST_HausdorffDistance calculation: Duration = 0.13552165031433105 seconds, Rows processed = 3773\n",
      "ST_FrechetDistance calculation: Duration = 0.09914231300354004 seconds, Rows processed = 3773\n",
      "Processing: Hydrothermal_vents.geojson against Bathymetry.geojson\n"
     ]
    },
    {
     "name": "stderr",
     "output_type": "stream",
     "text": [
      "                                                                                \r"
     ]
    },
    {
     "name": "stdout",
     "output_type": "stream",
     "text": [
      "ST_Distance calculation: Duration = 0.6035788059234619 seconds, Rows processed = 120050\n"
     ]
    },
    {
     "name": "stderr",
     "output_type": "stream",
     "text": [
      "                                                                                \r"
     ]
    },
    {
     "name": "stdout",
     "output_type": "stream",
     "text": [
      "ST_HausdorffDistance calculation: Duration = 3.6104791164398193 seconds, Rows processed = 120050\n"
     ]
    },
    {
     "name": "stderr",
     "output_type": "stream",
     "text": [
      "                                                                                \r"
     ]
    },
    {
     "name": "stdout",
     "output_type": "stream",
     "text": [
      "ST_FrechetDistance calculation: Duration = 3.592904806137085 seconds, Rows processed = 120050\n",
      "Processing: Hydrothermal_vents.geojson against Calderas.geojson\n",
      "ST_Distance calculation: Duration = 0.08448028564453125 seconds, Rows processed = 3528\n",
      "ST_HausdorffDistance calculation: Duration = 0.08075690269470215 seconds, Rows processed = 3528\n",
      "ST_FrechetDistance calculation: Duration = 0.08051419258117676 seconds, Rows processed = 3528\n",
      "Processing: Hydrothermal_vents.geojson against Diapiric_trends.geojson\n",
      "ST_Distance calculation: Duration = 0.0850534439086914 seconds, Rows processed = 8624\n",
      "ST_HausdorffDistance calculation: Duration = 0.0837860107421875 seconds, Rows processed = 8624\n",
      "ST_FrechetDistance calculation: Duration = 0.08521294593811035 seconds, Rows processed = 8624\n",
      "Processing: Hydrothermal_vents.geojson against Diapirs.geojson\n",
      "ST_Distance calculation: Duration = 0.06977224349975586 seconds, Rows processed = 66346\n",
      "ST_HausdorffDistance calculation: Duration = 0.06806588172912598 seconds, Rows processed = 66346\n",
      "ST_FrechetDistance calculation: Duration = 0.08086967468261719 seconds, Rows processed = 66346\n",
      "Processing: Hydrothermal_vents.geojson against Dikes_sills.geojson\n",
      "ST_Distance calculation: Duration = 0.14746594429016113 seconds, Rows processed = 176694\n",
      "ST_HausdorffDistance calculation: Duration = 0.10593533515930176 seconds, Rows processed = 176694\n",
      "ST_FrechetDistance calculation: Duration = 0.10762906074523926 seconds, Rows processed = 176694\n",
      "Processing: Hydrothermal_vents.geojson against Faults.geojson\n",
      "ST_Distance calculation: Duration = 0.38403964042663574 seconds, Rows processed = 608776\n",
      "ST_HausdorffDistance calculation: Duration = 0.38416123390197754 seconds, Rows processed = 608776\n",
      "ST_FrechetDistance calculation: Duration = 0.4278903007507324 seconds, Rows processed = 608776\n",
      "Processing: Hydrothermal_vents.geojson against Gas_fluid_seep.geojson\n",
      "ST_Distance calculation: Duration = 0.07212495803833008 seconds, Rows processed = 1862\n",
      "ST_HausdorffDistance calculation: Duration = 0.07809114456176758 seconds, Rows processed = 1862\n",
      "ST_FrechetDistance calculation: Duration = 0.06804299354553223 seconds, Rows processed = 1862\n",
      "Processing: Hydrothermal_vents.geojson against Gas_oil_seep.geojson\n",
      "ST_Distance calculation: Duration = 0.0818634033203125 seconds, Rows processed = 147\n",
      "ST_HausdorffDistance calculation: Duration = 0.07208013534545898 seconds, Rows processed = 147\n",
      "ST_FrechetDistance calculation: Duration = 0.06977248191833496 seconds, Rows processed = 147\n",
      "Processing: Hydrothermal_vents.geojson against Geologic_contacts.geojson\n"
     ]
    },
    {
     "name": "stderr",
     "output_type": "stream",
     "text": [
      "                                                                                \r"
     ]
    },
    {
     "name": "stdout",
     "output_type": "stream",
     "text": [
      "ST_Distance calculation: Duration = 2.0118255615234375 seconds, Rows processed = 2614444\n"
     ]
    },
    {
     "name": "stderr",
     "output_type": "stream",
     "text": [
      "                                                                                \r"
     ]
    },
    {
     "name": "stdout",
     "output_type": "stream",
     "text": [
      "ST_HausdorffDistance calculation: Duration = 12.412787199020386 seconds, Rows processed = 2614444\n"
     ]
    },
    {
     "name": "stderr",
     "output_type": "stream",
     "text": [
      "                                                                                \r"
     ]
    },
    {
     "name": "stdout",
     "output_type": "stream",
     "text": [
      "ST_FrechetDistance calculation: Duration = 1.890122890472412 seconds, Rows processed = 2614444\n",
      "Processing: Hydrothermal_vents.geojson against Geologic_overprints.geojson\n",
      "ST_Distance calculation: Duration = 0.5192949771881104 seconds, Rows processed = 91728\n"
     ]
    },
    {
     "name": "stderr",
     "output_type": "stream",
     "text": [
      "                                                                                \r"
     ]
    },
    {
     "name": "stdout",
     "output_type": "stream",
     "text": [
      "ST_HausdorffDistance calculation: Duration = 2.7496416568756104 seconds, Rows processed = 91728\n",
      "ST_FrechetDistance calculation: Duration = 0.4920690059661865 seconds, Rows processed = 91728\n",
      "Processing: Hydrothermal_vents.geojson against Geologic_units.geojson\n"
     ]
    },
    {
     "name": "stderr",
     "output_type": "stream",
     "text": [
      "                                                                                \r"
     ]
    },
    {
     "name": "stdout",
     "output_type": "stream",
     "text": [
      "ST_Distance calculation: Duration = 4.659030914306641 seconds, Rows processed = 1951572\n"
     ]
    },
    {
     "name": "stderr",
     "output_type": "stream",
     "text": [
      "                                                                                \r"
     ]
    },
    {
     "name": "stdout",
     "output_type": "stream",
     "text": [
      "ST_HausdorffDistance calculation: Duration = 4.844983339309692 seconds, Rows processed = 1951572\n"
     ]
    },
    {
     "name": "stderr",
     "output_type": "stream",
     "text": [
      "                                                                                \r"
     ]
    },
    {
     "name": "stdout",
     "output_type": "stream",
     "text": [
      "ST_FrechetDistance calculation: Duration = 4.768811464309692 seconds, Rows processed = 1951572\n",
      "Processing: Hydrothermal_vents.geojson against Glaciation_extents.geojson\n",
      "ST_Distance calculation: Duration = 0.060968637466430664 seconds, Rows processed = 1225\n",
      "ST_HausdorffDistance calculation: Duration = 0.06961488723754883 seconds, Rows processed = 1225\n",
      "ST_FrechetDistance calculation: Duration = 0.0756685733795166 seconds, Rows processed = 1225\n",
      "Processing: Hydrothermal_vents.geojson against Impact_structure_great_10_KM.geojson\n",
      "ST_Distance calculation: Duration = 0.07644414901733398 seconds, Rows processed = 1519\n",
      "ST_HausdorffDistance calculation: Duration = 0.07798886299133301 seconds, Rows processed = 1519\n",
      "ST_FrechetDistance calculation: Duration = 0.13469243049621582 seconds, Rows processed = 1519\n",
      "Processing: Hydrothermal_vents.geojson against Impact_structure_less_10_KM.geojson\n",
      "ST_Distance calculation: Duration = 0.07204914093017578 seconds, Rows processed = 1225\n",
      "ST_HausdorffDistance calculation: Duration = 0.06783437728881836 seconds, Rows processed = 1225\n",
      "ST_FrechetDistance calculation: Duration = 0.07583355903625488 seconds, Rows processed = 1225\n",
      "Processing: Hydrothermal_vents.geojson against Maganifeorus_deposits.geojson\n",
      "ST_Distance calculation: Duration = 0.06737709045410156 seconds, Rows processed = 26313\n",
      "ST_HausdorffDistance calculation: Duration = 0.09187173843383789 seconds, Rows processed = 26313\n",
      "ST_FrechetDistance calculation: Duration = 0.06413865089416504 seconds, Rows processed = 26313\n",
      "Processing: Hydrothermal_vents.geojson against Phosphate_nodules_pavement.geojson\n",
      "ST_Distance calculation: Duration = 0.0688619613647461 seconds, Rows processed = 27391\n",
      "ST_HausdorffDistance calculation: Duration = 0.08186960220336914 seconds, Rows processed = 27391\n",
      "ST_FrechetDistance calculation: Duration = 0.07510519027709961 seconds, Rows processed = 27391\n",
      "Processing: Hydrothermal_vents.geojson against Polymetallic_sulfide_deposits.geojson\n",
      "ST_Distance calculation: Duration = 0.08401727676391602 seconds, Rows processed = 637\n",
      "ST_HausdorffDistance calculation: Duration = 0.07375073432922363 seconds, Rows processed = 637\n",
      "ST_FrechetDistance calculation: Duration = 0.08001089096069336 seconds, Rows processed = 637\n",
      "Processing: Hydrothermal_vents.geojson against Rock_in_seafloor_sample.geojson\n",
      "ST_Distance calculation: Duration = 0.06287741661071777 seconds, Rows processed = 2450\n",
      "ST_HausdorffDistance calculation: Duration = 0.06590104103088379 seconds, Rows processed = 2450\n",
      "ST_FrechetDistance calculation: Duration = 0.0752420425415039 seconds, Rows processed = 2450\n",
      "Processing: Hydrothermal_vents.geojson against Special_submarine_features.geojson\n",
      "ST_Distance calculation: Duration = 0.15977931022644043 seconds, Rows processed = 135289\n",
      "ST_HausdorffDistance calculation: Duration = 0.5985112190246582 seconds, Rows processed = 135289\n",
      "ST_FrechetDistance calculation: Duration = 0.17664480209350586 seconds, Rows processed = 135289\n",
      "Processing: Hydrothermal_vents.geojson against Volcanoes.geojson\n",
      "ST_Distance calculation: Duration = 0.08228564262390137 seconds, Rows processed = 29890\n",
      "ST_HausdorffDistance calculation: Duration = 0.08725547790527344 seconds, Rows processed = 29890\n",
      "ST_FrechetDistance calculation: Duration = 0.08611798286437988 seconds, Rows processed = 29890\n",
      "Processing: Hydrothermal_vents.geojson against WorldContinents.geojson\n",
      "ST_Distance calculation: Duration = 0.15896034240722656 seconds, Rows processed = 392\n",
      "ST_HausdorffDistance calculation: Duration = 0.6573245525360107 seconds, Rows processed = 392\n",
      "ST_FrechetDistance calculation: Duration = 0.16357016563415527 seconds, Rows processed = 392\n",
      "Processing: Hydrothermal_vents.geojson against cb_2018_us_state_20m.json\n",
      "ST_Distance calculation: Duration = 0.07164621353149414 seconds, Rows processed = 2548\n",
      "ST_HausdorffDistance calculation: Duration = 0.07017755508422852 seconds, Rows processed = 2548\n",
      "ST_FrechetDistance calculation: Duration = 0.09377193450927734 seconds, Rows processed = 2548\n",
      "Processing: Impact_structure_great_10_KM.geojson against AgriculturalArea.geojson\n"
     ]
    },
    {
     "name": "stderr",
     "output_type": "stream",
     "text": [
      "                                                                                \r"
     ]
    },
    {
     "name": "stdout",
     "output_type": "stream",
     "text": [
      "ST_Distance calculation: Duration = 0.7585227489471436 seconds, Rows processed = 95170\n",
      "ST_HausdorffDistance calculation: Duration = 0.6295218467712402 seconds, Rows processed = 95170\n"
     ]
    },
    {
     "name": "stderr",
     "output_type": "stream",
     "text": [
      "                                                                                \r"
     ]
    },
    {
     "name": "stdout",
     "output_type": "stream",
     "text": [
      "ST_FrechetDistance calculation: Duration = 0.7753357887268066 seconds, Rows processed = 95170\n",
      "Processing: Impact_structure_great_10_KM.geojson against CityBoundaries.geojson\n"
     ]
    },
    {
     "name": "stderr",
     "output_type": "stream",
     "text": [
      "                                                                                \r"
     ]
    },
    {
     "name": "stdout",
     "output_type": "stream",
     "text": [
      "ST_Distance calculation: Duration = 0.9057674407958984 seconds, Rows processed = 15500\n"
     ]
    },
    {
     "name": "stderr",
     "output_type": "stream",
     "text": [
      "                                                                                \r"
     ]
    },
    {
     "name": "stdout",
     "output_type": "stream",
     "text": [
      "ST_HausdorffDistance calculation: Duration = 0.9191648960113525 seconds, Rows processed = 15500\n"
     ]
    },
    {
     "name": "stderr",
     "output_type": "stream",
     "text": [
      "                                                                                \r"
     ]
    },
    {
     "name": "stdout",
     "output_type": "stream",
     "text": [
      "ST_FrechetDistance calculation: Duration = 0.8912010192871094 seconds, Rows processed = 15500\n",
      "Processing: Impact_structure_great_10_KM.geojson against CountryTerritories.geojson\n",
      "ST_Distance calculation: Duration = 0.2609391212463379 seconds, Rows processed = 7936\n",
      "ST_HausdorffDistance calculation: Duration = 0.22435879707336426 seconds, Rows processed = 7936\n"
     ]
    },
    {
     "name": "stderr",
     "output_type": "stream",
     "text": [
      "                                                                                \r"
     ]
    },
    {
     "name": "stdout",
     "output_type": "stream",
     "text": [
      "ST_FrechetDistance calculation: Duration = 0.8580498695373535 seconds, Rows processed = 7936\n",
      "Processing: Impact_structure_great_10_KM.geojson against EcoRegions.geojson\n"
     ]
    },
    {
     "name": "stderr",
     "output_type": "stream",
     "text": [
      "                                                                                \r"
     ]
    },
    {
     "name": "stdout",
     "output_type": "stream",
     "text": [
      "ST_Distance calculation: Duration = 1.9275736808776855 seconds, Rows processed = 38750\n"
     ]
    },
    {
     "name": "stderr",
     "output_type": "stream",
     "text": [
      "[Stage 6460:>                                                       (0 + 1) / 1]\r"
     ]
    },
    {
     "name": "stdout",
     "output_type": "stream",
     "text": [
      "ST_HausdorffDistance calculation: Duration = 2.034522771835327 seconds, Rows processed = 38750\n"
     ]
    },
    {
     "name": "stderr",
     "output_type": "stream",
     "text": [
      "[Stage 6464:>                                                       (0 + 1) / 1]\r"
     ]
    },
    {
     "name": "stdout",
     "output_type": "stream",
     "text": [
      "ST_FrechetDistance calculation: Duration = 11.657211780548096 seconds, Rows processed = 38750\n",
      "Processing: Impact_structure_great_10_KM.geojson against GeographicRegions.geojson\n",
      "ST_Distance calculation: Duration = 0.19642853736877441 seconds, Rows processed = 32550\n"
     ]
    },
    {
     "name": "stderr",
     "output_type": "stream",
     "text": [
      "                                                                                \r"
     ]
    },
    {
     "name": "stdout",
     "output_type": "stream",
     "text": [
      "ST_HausdorffDistance calculation: Duration = 0.800832986831665 seconds, Rows processed = 32550\n",
      "ST_FrechetDistance calculation: Duration = 0.2515072822570801 seconds, Rows processed = 32550\n",
      "Processing: Impact_structure_great_10_KM.geojson against Areas_diapiric_structures.geojson\n",
      "ST_Distance calculation: Duration = 0.09064435958862305 seconds, Rows processed = 2387\n",
      "ST_HausdorffDistance calculation: Duration = 0.13062787055969238 seconds, Rows processed = 2387\n",
      "ST_FrechetDistance calculation: Duration = 0.09923291206359863 seconds, Rows processed = 2387\n",
      "Processing: Impact_structure_great_10_KM.geojson against Bathymetry.geojson\n"
     ]
    },
    {
     "name": "stderr",
     "output_type": "stream",
     "text": [
      "                                                                                \r"
     ]
    },
    {
     "name": "stdout",
     "output_type": "stream",
     "text": [
      "ST_Distance calculation: Duration = 3.5842108726501465 seconds, Rows processed = 75950\n",
      "ST_HausdorffDistance calculation: Duration = 0.6938681602478027 seconds, Rows processed = 75950\n",
      "ST_FrechetDistance calculation: Duration = 0.6251294612884521 seconds, Rows processed = 75950\n",
      "Processing: Impact_structure_great_10_KM.geojson against Calderas.geojson\n",
      "ST_Distance calculation: Duration = 0.08520221710205078 seconds, Rows processed = 2232\n",
      "ST_HausdorffDistance calculation: Duration = 0.11400604248046875 seconds, Rows processed = 2232\n",
      "ST_FrechetDistance calculation: Duration = 0.08352422714233398 seconds, Rows processed = 2232\n",
      "Processing: Impact_structure_great_10_KM.geojson against Diapiric_trends.geojson\n",
      "ST_Distance calculation: Duration = 0.09194779396057129 seconds, Rows processed = 5456\n",
      "ST_HausdorffDistance calculation: Duration = 0.16021180152893066 seconds, Rows processed = 5456\n",
      "ST_FrechetDistance calculation: Duration = 0.09943747520446777 seconds, Rows processed = 5456\n",
      "Processing: Impact_structure_great_10_KM.geojson against Diapirs.geojson\n",
      "ST_Distance calculation: Duration = 0.08376026153564453 seconds, Rows processed = 41974\n",
      "ST_HausdorffDistance calculation: Duration = 0.13257789611816406 seconds, Rows processed = 41974\n",
      "ST_FrechetDistance calculation: Duration = 0.0780019760131836 seconds, Rows processed = 41974\n",
      "Processing: Impact_structure_great_10_KM.geojson against Dikes_sills.geojson\n",
      "ST_Distance calculation: Duration = 0.10885119438171387 seconds, Rows processed = 111786\n",
      "ST_HausdorffDistance calculation: Duration = 0.12844467163085938 seconds, Rows processed = 111786\n",
      "ST_FrechetDistance calculation: Duration = 0.1221168041229248 seconds, Rows processed = 111786\n",
      "Processing: Impact_structure_great_10_KM.geojson against Faults.geojson\n",
      "ST_Distance calculation: Duration = 0.42456674575805664 seconds, Rows processed = 385144\n",
      "ST_HausdorffDistance calculation: Duration = 0.4215080738067627 seconds, Rows processed = 385144\n",
      "ST_FrechetDistance calculation: Duration = 0.46274280548095703 seconds, Rows processed = 385144\n",
      "Processing: Impact_structure_great_10_KM.geojson against Gas_fluid_seep.geojson\n",
      "ST_Distance calculation: Duration = 0.09434771537780762 seconds, Rows processed = 1178\n",
      "ST_HausdorffDistance calculation: Duration = 0.09405827522277832 seconds, Rows processed = 1178\n",
      "ST_FrechetDistance calculation: Duration = 0.0969705581665039 seconds, Rows processed = 1178\n",
      "Processing: Impact_structure_great_10_KM.geojson against Gas_oil_seep.geojson\n",
      "ST_Distance calculation: Duration = 0.1058354377746582 seconds, Rows processed = 93\n",
      "ST_HausdorffDistance calculation: Duration = 0.08552074432373047 seconds, Rows processed = 93\n",
      "ST_FrechetDistance calculation: Duration = 0.08810567855834961 seconds, Rows processed = 93\n",
      "Processing: Impact_structure_great_10_KM.geojson against Geologic_contacts.geojson\n"
     ]
    },
    {
     "name": "stderr",
     "output_type": "stream",
     "text": [
      "                                                                                \r"
     ]
    },
    {
     "name": "stdout",
     "output_type": "stream",
     "text": [
      "ST_Distance calculation: Duration = 2.017782211303711 seconds, Rows processed = 1654036\n"
     ]
    },
    {
     "name": "stderr",
     "output_type": "stream",
     "text": [
      "                                                                                \r"
     ]
    },
    {
     "name": "stdout",
     "output_type": "stream",
     "text": [
      "ST_HausdorffDistance calculation: Duration = 2.040923595428467 seconds, Rows processed = 1654036\n"
     ]
    },
    {
     "name": "stderr",
     "output_type": "stream",
     "text": [
      "                                                                                \r"
     ]
    },
    {
     "name": "stdout",
     "output_type": "stream",
     "text": [
      "ST_FrechetDistance calculation: Duration = 1.9341599941253662 seconds, Rows processed = 1654036\n",
      "Processing: Impact_structure_great_10_KM.geojson against Geologic_overprints.geojson\n",
      "ST_Distance calculation: Duration = 0.47779345512390137 seconds, Rows processed = 58032\n"
     ]
    },
    {
     "name": "stderr",
     "output_type": "stream",
     "text": [
      "                                                                                \r"
     ]
    },
    {
     "name": "stdout",
     "output_type": "stream",
     "text": [
      "ST_HausdorffDistance calculation: Duration = 2.754539728164673 seconds, Rows processed = 58032\n",
      "ST_FrechetDistance calculation: Duration = 0.49492883682250977 seconds, Rows processed = 58032\n",
      "Processing: Impact_structure_great_10_KM.geojson against Geologic_units.geojson\n"
     ]
    },
    {
     "name": "stderr",
     "output_type": "stream",
     "text": [
      "                                                                                \r"
     ]
    },
    {
     "name": "stdout",
     "output_type": "stream",
     "text": [
      "ST_Distance calculation: Duration = 14.550055503845215 seconds, Rows processed = 1234668\n"
     ]
    },
    {
     "name": "stderr",
     "output_type": "stream",
     "text": [
      "24/04/22 13:50:05 ERROR TaskSchedulerImpl: Lost executor 32 on 129.82.44.143: Command exited with code 52\n",
      "                                                                                \r"
     ]
    },
    {
     "name": "stdout",
     "output_type": "stream",
     "text": [
      "ST_HausdorffDistance calculation: Duration = 30.916491508483887 seconds, Rows processed = 1234668\n"
     ]
    },
    {
     "name": "stderr",
     "output_type": "stream",
     "text": [
      "                                                                                \r"
     ]
    },
    {
     "name": "stdout",
     "output_type": "stream",
     "text": [
      "ST_FrechetDistance calculation: Duration = 4.699070692062378 seconds, Rows processed = 1234668\n",
      "Processing: Impact_structure_great_10_KM.geojson against Glaciation_extents.geojson\n",
      "ST_Distance calculation: Duration = 0.10144996643066406 seconds, Rows processed = 775\n"
     ]
    },
    {
     "name": "stderr",
     "output_type": "stream",
     "text": [
      "                                                                                \r"
     ]
    },
    {
     "name": "stdout",
     "output_type": "stream",
     "text": [
      "ST_HausdorffDistance calculation: Duration = 1.19895601272583 seconds, Rows processed = 775\n",
      "ST_FrechetDistance calculation: Duration = 0.08577585220336914 seconds, Rows processed = 775\n",
      "Processing: Impact_structure_great_10_KM.geojson against Hydrothermal_vents.geojson\n",
      "ST_Distance calculation: Duration = 0.0912466049194336 seconds, Rows processed = 1519\n",
      "ST_HausdorffDistance calculation: Duration = 0.11130881309509277 seconds, Rows processed = 1519\n",
      "ST_FrechetDistance calculation: Duration = 0.09207844734191895 seconds, Rows processed = 1519\n",
      "Processing: Impact_structure_great_10_KM.geojson against Impact_structure_less_10_KM.geojson\n",
      "ST_Distance calculation: Duration = 0.12883424758911133 seconds, Rows processed = 775\n",
      "ST_HausdorffDistance calculation: Duration = 0.07531547546386719 seconds, Rows processed = 775\n",
      "ST_FrechetDistance calculation: Duration = 0.17140722274780273 seconds, Rows processed = 775\n",
      "Processing: Impact_structure_great_10_KM.geojson against Maganifeorus_deposits.geojson\n",
      "ST_Distance calculation: Duration = 0.1339111328125 seconds, Rows processed = 16647\n",
      "ST_HausdorffDistance calculation: Duration = 0.13133883476257324 seconds, Rows processed = 16647\n",
      "ST_FrechetDistance calculation: Duration = 0.08847904205322266 seconds, Rows processed = 16647\n",
      "Processing: Impact_structure_great_10_KM.geojson against Phosphate_nodules_pavement.geojson\n",
      "ST_Distance calculation: Duration = 0.08570003509521484 seconds, Rows processed = 17329\n",
      "ST_HausdorffDistance calculation: Duration = 0.07202982902526855 seconds, Rows processed = 17329\n",
      "ST_FrechetDistance calculation: Duration = 0.10483884811401367 seconds, Rows processed = 17329\n",
      "Processing: Impact_structure_great_10_KM.geojson against Polymetallic_sulfide_deposits.geojson\n",
      "ST_Distance calculation: Duration = 0.08788514137268066 seconds, Rows processed = 403\n",
      "ST_HausdorffDistance calculation: Duration = 0.08839297294616699 seconds, Rows processed = 403\n",
      "ST_FrechetDistance calculation: Duration = 0.07973313331604004 seconds, Rows processed = 403\n",
      "Processing: Impact_structure_great_10_KM.geojson against Rock_in_seafloor_sample.geojson\n",
      "ST_Distance calculation: Duration = 0.11405277252197266 seconds, Rows processed = 1550\n",
      "ST_HausdorffDistance calculation: Duration = 0.08110475540161133 seconds, Rows processed = 1550\n",
      "ST_FrechetDistance calculation: Duration = 0.07518410682678223 seconds, Rows processed = 1550\n",
      "Processing: Impact_structure_great_10_KM.geojson against Special_submarine_features.geojson\n",
      "ST_Distance calculation: Duration = 0.16607117652893066 seconds, Rows processed = 85591\n",
      "ST_HausdorffDistance calculation: Duration = 0.17478370666503906 seconds, Rows processed = 85591\n",
      "ST_FrechetDistance calculation: Duration = 0.15076136589050293 seconds, Rows processed = 85591\n",
      "Processing: Impact_structure_great_10_KM.geojson against Volcanoes.geojson\n",
      "ST_Distance calculation: Duration = 0.0829935073852539 seconds, Rows processed = 18910\n",
      "ST_HausdorffDistance calculation: Duration = 0.0894620418548584 seconds, Rows processed = 18910\n",
      "ST_FrechetDistance calculation: Duration = 0.07792782783508301 seconds, Rows processed = 18910\n",
      "Processing: Impact_structure_great_10_KM.geojson against WorldContinents.geojson\n",
      "ST_Distance calculation: Duration = 0.174760103225708 seconds, Rows processed = 248\n",
      "ST_HausdorffDistance calculation: Duration = 0.6588828563690186 seconds, Rows processed = 248\n",
      "ST_FrechetDistance calculation: Duration = 0.1702573299407959 seconds, Rows processed = 248\n",
      "Processing: Impact_structure_great_10_KM.geojson against cb_2018_us_state_20m.json\n",
      "ST_Distance calculation: Duration = 0.07404303550720215 seconds, Rows processed = 1612\n",
      "ST_HausdorffDistance calculation: Duration = 0.09111189842224121 seconds, Rows processed = 1612\n",
      "ST_FrechetDistance calculation: Duration = 0.08716058731079102 seconds, Rows processed = 1612\n",
      "Processing: Impact_structure_less_10_KM.geojson against AgriculturalArea.geojson\n"
     ]
    },
    {
     "name": "stderr",
     "output_type": "stream",
     "text": [
      "                                                                                \r"
     ]
    },
    {
     "name": "stdout",
     "output_type": "stream",
     "text": [
      "ST_Distance calculation: Duration = 0.582273006439209 seconds, Rows processed = 76750\n"
     ]
    },
    {
     "name": "stderr",
     "output_type": "stream",
     "text": [
      "                                                                                \r"
     ]
    },
    {
     "name": "stdout",
     "output_type": "stream",
     "text": [
      "ST_HausdorffDistance calculation: Duration = 0.8000121116638184 seconds, Rows processed = 76750\n"
     ]
    },
    {
     "name": "stderr",
     "output_type": "stream",
     "text": [
      "                                                                                \r"
     ]
    },
    {
     "name": "stdout",
     "output_type": "stream",
     "text": [
      "ST_FrechetDistance calculation: Duration = 0.7651073932647705 seconds, Rows processed = 76750\n",
      "Processing: Impact_structure_less_10_KM.geojson against CityBoundaries.geojson\n"
     ]
    },
    {
     "name": "stderr",
     "output_type": "stream",
     "text": [
      "                                                                                \r"
     ]
    },
    {
     "name": "stdout",
     "output_type": "stream",
     "text": [
      "ST_Distance calculation: Duration = 0.8914122581481934 seconds, Rows processed = 12500\n"
     ]
    },
    {
     "name": "stderr",
     "output_type": "stream",
     "text": [
      "                                                                                \r"
     ]
    },
    {
     "name": "stdout",
     "output_type": "stream",
     "text": [
      "ST_HausdorffDistance calculation: Duration = 0.9040050506591797 seconds, Rows processed = 12500\n"
     ]
    },
    {
     "name": "stderr",
     "output_type": "stream",
     "text": [
      "                                                                                \r"
     ]
    },
    {
     "name": "stdout",
     "output_type": "stream",
     "text": [
      "ST_FrechetDistance calculation: Duration = 0.8738679885864258 seconds, Rows processed = 12500\n",
      "Processing: Impact_structure_less_10_KM.geojson against CountryTerritories.geojson\n",
      "ST_Distance calculation: Duration = 0.1995398998260498 seconds, Rows processed = 6400\n",
      "ST_HausdorffDistance calculation: Duration = 0.20659232139587402 seconds, Rows processed = 6400\n",
      "ST_FrechetDistance calculation: Duration = 0.19359922409057617 seconds, Rows processed = 6400\n",
      "Processing: Impact_structure_less_10_KM.geojson against EcoRegions.geojson\n"
     ]
    },
    {
     "name": "stderr",
     "output_type": "stream",
     "text": [
      "                                                                                \r"
     ]
    },
    {
     "name": "stdout",
     "output_type": "stream",
     "text": [
      "ST_Distance calculation: Duration = 1.969224452972412 seconds, Rows processed = 31250\n"
     ]
    },
    {
     "name": "stderr",
     "output_type": "stream",
     "text": [
      "[Stage 6796:>                                                       (0 + 1) / 1]\r"
     ]
    },
    {
     "name": "stdout",
     "output_type": "stream",
     "text": [
      "ST_HausdorffDistance calculation: Duration = 1.9217023849487305 seconds, Rows processed = 31250\n"
     ]
    },
    {
     "name": "stderr",
     "output_type": "stream",
     "text": [
      "                                                                                \r"
     ]
    },
    {
     "name": "stdout",
     "output_type": "stream",
     "text": [
      "ST_FrechetDistance calculation: Duration = 1.9093437194824219 seconds, Rows processed = 31250\n",
      "Processing: Impact_structure_less_10_KM.geojson against GeographicRegions.geojson\n",
      "ST_Distance calculation: Duration = 0.19988250732421875 seconds, Rows processed = 26250\n",
      "ST_HausdorffDistance calculation: Duration = 0.18809056282043457 seconds, Rows processed = 26250\n",
      "ST_FrechetDistance calculation: Duration = 0.18079376220703125 seconds, Rows processed = 26250\n",
      "Processing: Impact_structure_less_10_KM.geojson against Areas_diapiric_structures.geojson\n",
      "ST_Distance calculation: Duration = 0.08842992782592773 seconds, Rows processed = 1925\n",
      "ST_HausdorffDistance calculation: Duration = 0.09272241592407227 seconds, Rows processed = 1925\n",
      "ST_FrechetDistance calculation: Duration = 0.09495353698730469 seconds, Rows processed = 1925\n",
      "Processing: Impact_structure_less_10_KM.geojson against Bathymetry.geojson\n"
     ]
    },
    {
     "name": "stderr",
     "output_type": "stream",
     "text": [
      "                                                                                \r"
     ]
    },
    {
     "name": "stdout",
     "output_type": "stream",
     "text": [
      "ST_Distance calculation: Duration = 3.5860304832458496 seconds, Rows processed = 61250\n",
      "ST_HausdorffDistance calculation: Duration = 0.611440896987915 seconds, Rows processed = 61250\n",
      "ST_FrechetDistance calculation: Duration = 0.6114170551300049 seconds, Rows processed = 61250\n",
      "Processing: Impact_structure_less_10_KM.geojson against Calderas.geojson\n",
      "ST_Distance calculation: Duration = 0.09741878509521484 seconds, Rows processed = 1800\n",
      "ST_HausdorffDistance calculation: Duration = 0.06690716743469238 seconds, Rows processed = 1800\n",
      "ST_FrechetDistance calculation: Duration = 0.07880759239196777 seconds, Rows processed = 1800\n",
      "Processing: Impact_structure_less_10_KM.geojson against Diapiric_trends.geojson\n",
      "ST_Distance calculation: Duration = 0.07693958282470703 seconds, Rows processed = 4400\n",
      "ST_HausdorffDistance calculation: Duration = 0.09113860130310059 seconds, Rows processed = 4400\n",
      "ST_FrechetDistance calculation: Duration = 0.07022428512573242 seconds, Rows processed = 4400\n",
      "Processing: Impact_structure_less_10_KM.geojson against Diapirs.geojson\n",
      "ST_Distance calculation: Duration = 0.07983708381652832 seconds, Rows processed = 33850\n",
      "ST_HausdorffDistance calculation: Duration = 0.06494474411010742 seconds, Rows processed = 33850\n",
      "ST_FrechetDistance calculation: Duration = 0.07966113090515137 seconds, Rows processed = 33850\n",
      "Processing: Impact_structure_less_10_KM.geojson against Dikes_sills.geojson\n",
      "ST_Distance calculation: Duration = 0.11643290519714355 seconds, Rows processed = 90150\n",
      "ST_HausdorffDistance calculation: Duration = 0.11348557472229004 seconds, Rows processed = 90150\n",
      "ST_FrechetDistance calculation: Duration = 0.10838913917541504 seconds, Rows processed = 90150\n",
      "Processing: Impact_structure_less_10_KM.geojson against Faults.geojson\n",
      "ST_Distance calculation: Duration = 0.45510005950927734 seconds, Rows processed = 310600\n",
      "ST_HausdorffDistance calculation: Duration = 0.3878324031829834 seconds, Rows processed = 310600\n",
      "ST_FrechetDistance calculation: Duration = 0.4226350784301758 seconds, Rows processed = 310600\n",
      "Processing: Impact_structure_less_10_KM.geojson against Gas_fluid_seep.geojson\n",
      "ST_Distance calculation: Duration = 0.0876314640045166 seconds, Rows processed = 950\n",
      "ST_HausdorffDistance calculation: Duration = 0.07554745674133301 seconds, Rows processed = 950\n",
      "ST_FrechetDistance calculation: Duration = 0.06495904922485352 seconds, Rows processed = 950\n",
      "Processing: Impact_structure_less_10_KM.geojson against Gas_oil_seep.geojson\n",
      "ST_Distance calculation: Duration = 0.07169365882873535 seconds, Rows processed = 75\n",
      "ST_HausdorffDistance calculation: Duration = 0.07578778266906738 seconds, Rows processed = 75\n",
      "ST_FrechetDistance calculation: Duration = 0.07555747032165527 seconds, Rows processed = 75\n",
      "Processing: Impact_structure_less_10_KM.geojson against Geologic_contacts.geojson\n"
     ]
    },
    {
     "name": "stderr",
     "output_type": "stream",
     "text": [
      "                                                                                \r"
     ]
    },
    {
     "name": "stdout",
     "output_type": "stream",
     "text": [
      "ST_Distance calculation: Duration = 2.6139438152313232 seconds, Rows processed = 1333900\n"
     ]
    },
    {
     "name": "stderr",
     "output_type": "stream",
     "text": [
      "                                                                                \r"
     ]
    },
    {
     "name": "stdout",
     "output_type": "stream",
     "text": [
      "ST_HausdorffDistance calculation: Duration = 1.9810783863067627 seconds, Rows processed = 1333900\n"
     ]
    },
    {
     "name": "stderr",
     "output_type": "stream",
     "text": [
      "                                                                                \r"
     ]
    },
    {
     "name": "stdout",
     "output_type": "stream",
     "text": [
      "ST_FrechetDistance calculation: Duration = 2.085294008255005 seconds, Rows processed = 1333900\n",
      "Processing: Impact_structure_less_10_KM.geojson against Geologic_overprints.geojson\n"
     ]
    },
    {
     "name": "stderr",
     "output_type": "stream",
     "text": [
      "                                                                                \r"
     ]
    },
    {
     "name": "stdout",
     "output_type": "stream",
     "text": [
      "ST_Distance calculation: Duration = 2.7424159049987793 seconds, Rows processed = 46800\n"
     ]
    },
    {
     "name": "stderr",
     "output_type": "stream",
     "text": [
      "                                                                                \r"
     ]
    },
    {
     "name": "stdout",
     "output_type": "stream",
     "text": [
      "ST_HausdorffDistance calculation: Duration = 2.7402963638305664 seconds, Rows processed = 46800\n",
      "ST_FrechetDistance calculation: Duration = 0.569896936416626 seconds, Rows processed = 46800\n",
      "Processing: Impact_structure_less_10_KM.geojson against Geologic_units.geojson\n"
     ]
    },
    {
     "name": "stderr",
     "output_type": "stream",
     "text": [
      "24/04/22 13:51:28 ERROR TaskSchedulerImpl: Lost executor 23 on 129.82.44.144: Command exited with code 52\n"
     ]
    },
    {
     "name": "stdout",
     "output_type": "stream",
     "text": [
      "ST_Distance calculation: Duration = 24.576332092285156 seconds, Rows processed = 995700\n"
     ]
    },
    {
     "name": "stderr",
     "output_type": "stream",
     "text": [
      "                                                                                \r"
     ]
    },
    {
     "name": "stdout",
     "output_type": "stream",
     "text": [
      "ST_HausdorffDistance calculation: Duration = 4.8335487842559814 seconds, Rows processed = 995700\n"
     ]
    },
    {
     "name": "stderr",
     "output_type": "stream",
     "text": [
      "                                                                                \r"
     ]
    },
    {
     "name": "stdout",
     "output_type": "stream",
     "text": [
      "ST_FrechetDistance calculation: Duration = 14.511284828186035 seconds, Rows processed = 995700\n",
      "Processing: Impact_structure_less_10_KM.geojson against Glaciation_extents.geojson\n",
      "ST_Distance calculation: Duration = 0.06328344345092773 seconds, Rows processed = 625\n",
      "ST_HausdorffDistance calculation: Duration = 0.07573533058166504 seconds, Rows processed = 625\n",
      "ST_FrechetDistance calculation: Duration = 0.08564901351928711 seconds, Rows processed = 625\n",
      "Processing: Impact_structure_less_10_KM.geojson against Hydrothermal_vents.geojson\n"
     ]
    },
    {
     "name": "stderr",
     "output_type": "stream",
     "text": [
      "                                                                                \r"
     ]
    },
    {
     "name": "stdout",
     "output_type": "stream",
     "text": [
      "ST_Distance calculation: Duration = 1.1131269931793213 seconds, Rows processed = 1225\n",
      "ST_HausdorffDistance calculation: Duration = 0.09259200096130371 seconds, Rows processed = 1225\n",
      "ST_FrechetDistance calculation: Duration = 0.10568094253540039 seconds, Rows processed = 1225\n",
      "Processing: Impact_structure_less_10_KM.geojson against Impact_structure_great_10_KM.geojson\n",
      "ST_Distance calculation: Duration = 0.08284664154052734 seconds, Rows processed = 775\n",
      "ST_HausdorffDistance calculation: Duration = 0.07517433166503906 seconds, Rows processed = 775\n",
      "ST_FrechetDistance calculation: Duration = 0.0930318832397461 seconds, Rows processed = 775\n",
      "Processing: Impact_structure_less_10_KM.geojson against Maganifeorus_deposits.geojson\n",
      "ST_Distance calculation: Duration = 0.09608674049377441 seconds, Rows processed = 13425\n",
      "ST_HausdorffDistance calculation: Duration = 0.07193326950073242 seconds, Rows processed = 13425\n",
      "ST_FrechetDistance calculation: Duration = 0.07138442993164062 seconds, Rows processed = 13425\n",
      "Processing: Impact_structure_less_10_KM.geojson against Phosphate_nodules_pavement.geojson\n",
      "ST_Distance calculation: Duration = 0.06470704078674316 seconds, Rows processed = 13975\n",
      "ST_HausdorffDistance calculation: Duration = 0.09949374198913574 seconds, Rows processed = 13975\n",
      "ST_FrechetDistance calculation: Duration = 0.0673975944519043 seconds, Rows processed = 13975\n",
      "Processing: Impact_structure_less_10_KM.geojson against Polymetallic_sulfide_deposits.geojson\n",
      "ST_Distance calculation: Duration = 0.06873631477355957 seconds, Rows processed = 325\n",
      "ST_HausdorffDistance calculation: Duration = 0.1770336627960205 seconds, Rows processed = 325\n",
      "ST_FrechetDistance calculation: Duration = 0.074859619140625 seconds, Rows processed = 325\n",
      "Processing: Impact_structure_less_10_KM.geojson against Rock_in_seafloor_sample.geojson\n",
      "ST_Distance calculation: Duration = 0.06366610527038574 seconds, Rows processed = 1250\n",
      "ST_HausdorffDistance calculation: Duration = 0.07004427909851074 seconds, Rows processed = 1250\n",
      "ST_FrechetDistance calculation: Duration = 0.06247544288635254 seconds, Rows processed = 1250\n",
      "Processing: Impact_structure_less_10_KM.geojson against Special_submarine_features.geojson\n",
      "ST_Distance calculation: Duration = 0.5991723537445068 seconds, Rows processed = 69025\n",
      "ST_HausdorffDistance calculation: Duration = 0.14954686164855957 seconds, Rows processed = 69025\n",
      "ST_FrechetDistance calculation: Duration = 0.15073490142822266 seconds, Rows processed = 69025\n",
      "Processing: Impact_structure_less_10_KM.geojson against Volcanoes.geojson\n",
      "ST_Distance calculation: Duration = 0.08069229125976562 seconds, Rows processed = 15250\n",
      "ST_HausdorffDistance calculation: Duration = 0.08055996894836426 seconds, Rows processed = 15250\n",
      "ST_FrechetDistance calculation: Duration = 0.08067083358764648 seconds, Rows processed = 15250\n",
      "Processing: Impact_structure_less_10_KM.geojson against WorldContinents.geojson\n",
      "ST_Distance calculation: Duration = 0.1779038906097412 seconds, Rows processed = 200\n",
      "ST_HausdorffDistance calculation: Duration = 0.15866351127624512 seconds, Rows processed = 200\n",
      "ST_FrechetDistance calculation: Duration = 0.14372563362121582 seconds, Rows processed = 200\n",
      "Processing: Impact_structure_less_10_KM.geojson against cb_2018_us_state_20m.json\n",
      "ST_Distance calculation: Duration = 0.09109354019165039 seconds, Rows processed = 1300\n",
      "ST_HausdorffDistance calculation: Duration = 0.0997309684753418 seconds, Rows processed = 1300\n",
      "ST_FrechetDistance calculation: Duration = 0.08347320556640625 seconds, Rows processed = 1300\n",
      "Processing: Maganifeorus_deposits.geojson against AgriculturalArea.geojson\n"
     ]
    },
    {
     "name": "stderr",
     "output_type": "stream",
     "text": [
      "                                                                                \r"
     ]
    },
    {
     "name": "stdout",
     "output_type": "stream",
     "text": [
      "ST_Distance calculation: Duration = 0.7646453380584717 seconds, Rows processed = 1648590\n"
     ]
    },
    {
     "name": "stderr",
     "output_type": "stream",
     "text": [
      "                                                                                \r"
     ]
    },
    {
     "name": "stdout",
     "output_type": "stream",
     "text": [
      "ST_HausdorffDistance calculation: Duration = 0.7688679695129395 seconds, Rows processed = 1648590\n",
      "ST_FrechetDistance calculation: Duration = 0.6112415790557861 seconds, Rows processed = 1648590\n",
      "Processing: Maganifeorus_deposits.geojson against CityBoundaries.geojson\n"
     ]
    },
    {
     "name": "stderr",
     "output_type": "stream",
     "text": [
      "                                                                                \r"
     ]
    },
    {
     "name": "stdout",
     "output_type": "stream",
     "text": [
      "ST_Distance calculation: Duration = 0.9104459285736084 seconds, Rows processed = 268500\n"
     ]
    },
    {
     "name": "stderr",
     "output_type": "stream",
     "text": [
      "                                                                                \r"
     ]
    },
    {
     "name": "stdout",
     "output_type": "stream",
     "text": [
      "ST_HausdorffDistance calculation: Duration = 0.9038808345794678 seconds, Rows processed = 268500\n"
     ]
    },
    {
     "name": "stderr",
     "output_type": "stream",
     "text": [
      "                                                                                \r"
     ]
    },
    {
     "name": "stdout",
     "output_type": "stream",
     "text": [
      "ST_FrechetDistance calculation: Duration = 0.842555046081543 seconds, Rows processed = 268500\n",
      "Processing: Maganifeorus_deposits.geojson against CountryTerritories.geojson\n",
      "ST_Distance calculation: Duration = 0.2196180820465088 seconds, Rows processed = 137472\n",
      "ST_HausdorffDistance calculation: Duration = 0.2373943328857422 seconds, Rows processed = 137472\n",
      "ST_FrechetDistance calculation: Duration = 0.23459243774414062 seconds, Rows processed = 137472\n",
      "Processing: Maganifeorus_deposits.geojson against EcoRegions.geojson\n"
     ]
    },
    {
     "name": "stderr",
     "output_type": "stream",
     "text": [
      "                                                                                \r"
     ]
    },
    {
     "name": "stdout",
     "output_type": "stream",
     "text": [
      "ST_Distance calculation: Duration = 1.8946921825408936 seconds, Rows processed = 671250\n"
     ]
    },
    {
     "name": "stderr",
     "output_type": "stream",
     "text": [
      "[Stage 7132:>                                                       (0 + 1) / 1]\r"
     ]
    },
    {
     "name": "stdout",
     "output_type": "stream",
     "text": [
      "ST_HausdorffDistance calculation: Duration = 11.645710229873657 seconds, Rows processed = 671250\n"
     ]
    },
    {
     "name": "stderr",
     "output_type": "stream",
     "text": [
      "                                                                                \r"
     ]
    },
    {
     "name": "stdout",
     "output_type": "stream",
     "text": [
      "ST_FrechetDistance calculation: Duration = 2.0731523036956787 seconds, Rows processed = 671250\n",
      "Processing: Maganifeorus_deposits.geojson against GeographicRegions.geojson\n",
      "ST_Distance calculation: Duration = 0.20495200157165527 seconds, Rows processed = 563850\n",
      "ST_HausdorffDistance calculation: Duration = 0.19175171852111816 seconds, Rows processed = 563850\n"
     ]
    },
    {
     "name": "stderr",
     "output_type": "stream",
     "text": [
      "                                                                                \r"
     ]
    },
    {
     "name": "stdout",
     "output_type": "stream",
     "text": [
      "ST_FrechetDistance calculation: Duration = 0.7528183460235596 seconds, Rows processed = 563850\n",
      "Processing: Maganifeorus_deposits.geojson against Areas_diapiric_structures.geojson\n",
      "ST_Distance calculation: Duration = 0.08202099800109863 seconds, Rows processed = 41349\n",
      "ST_HausdorffDistance calculation: Duration = 0.08660626411437988 seconds, Rows processed = 41349\n",
      "ST_FrechetDistance calculation: Duration = 0.0963292121887207 seconds, Rows processed = 41349\n",
      "Processing: Maganifeorus_deposits.geojson against Bathymetry.geojson\n",
      "ST_Distance calculation: Duration = 0.65085768699646 seconds, Rows processed = 1315650\n",
      "ST_HausdorffDistance calculation: Duration = 0.605583667755127 seconds, Rows processed = 1315650\n",
      "ST_FrechetDistance calculation: Duration = 0.6228489875793457 seconds, Rows processed = 1315650\n",
      "Processing: Maganifeorus_deposits.geojson against Calderas.geojson\n",
      "ST_Distance calculation: Duration = 0.08643555641174316 seconds, Rows processed = 38664\n",
      "ST_HausdorffDistance calculation: Duration = 0.09550213813781738 seconds, Rows processed = 38664\n",
      "ST_FrechetDistance calculation: Duration = 0.0809793472290039 seconds, Rows processed = 38664\n",
      "Processing: Maganifeorus_deposits.geojson against Diapiric_trends.geojson\n",
      "ST_Distance calculation: Duration = 0.07035136222839355 seconds, Rows processed = 94512\n",
      "ST_HausdorffDistance calculation: Duration = 0.08417892456054688 seconds, Rows processed = 94512\n",
      "ST_FrechetDistance calculation: Duration = 0.07541656494140625 seconds, Rows processed = 94512\n",
      "Processing: Maganifeorus_deposits.geojson against Diapirs.geojson\n",
      "ST_Distance calculation: Duration = 0.11947870254516602 seconds, Rows processed = 727098\n",
      "ST_HausdorffDistance calculation: Duration = 0.09579777717590332 seconds, Rows processed = 727098\n",
      "ST_FrechetDistance calculation: Duration = 0.08556151390075684 seconds, Rows processed = 727098\n",
      "Processing: Maganifeorus_deposits.geojson against Dikes_sills.geojson\n",
      "ST_Distance calculation: Duration = 0.1129148006439209 seconds, Rows processed = 1936422\n",
      "ST_HausdorffDistance calculation: Duration = 0.34761571884155273 seconds, Rows processed = 1936422\n",
      "ST_FrechetDistance calculation: Duration = 0.10468626022338867 seconds, Rows processed = 1936422\n",
      "Processing: Maganifeorus_deposits.geojson against Faults.geojson\n",
      "ST_Distance calculation: Duration = 0.3750441074371338 seconds, Rows processed = 6671688\n"
     ]
    },
    {
     "name": "stderr",
     "output_type": "stream",
     "text": [
      "                                                                                \r"
     ]
    },
    {
     "name": "stdout",
     "output_type": "stream",
     "text": [
      "ST_HausdorffDistance calculation: Duration = 2.1892504692077637 seconds, Rows processed = 6671688\n",
      "ST_FrechetDistance calculation: Duration = 0.40460705757141113 seconds, Rows processed = 6671688\n",
      "Processing: Maganifeorus_deposits.geojson against Gas_fluid_seep.geojson\n",
      "ST_Distance calculation: Duration = 0.08336734771728516 seconds, Rows processed = 20406\n",
      "ST_HausdorffDistance calculation: Duration = 0.07936453819274902 seconds, Rows processed = 20406\n",
      "ST_FrechetDistance calculation: Duration = 0.08599615097045898 seconds, Rows processed = 20406\n",
      "Processing: Maganifeorus_deposits.geojson against Gas_oil_seep.geojson\n",
      "ST_Distance calculation: Duration = 0.06075882911682129 seconds, Rows processed = 1611\n",
      "ST_HausdorffDistance calculation: Duration = 0.06434440612792969 seconds, Rows processed = 1611\n",
      "ST_FrechetDistance calculation: Duration = 0.06638169288635254 seconds, Rows processed = 1611\n",
      "Processing: Maganifeorus_deposits.geojson against Geologic_contacts.geojson\n"
     ]
    },
    {
     "name": "stderr",
     "output_type": "stream",
     "text": [
      "                                                                                \r"
     ]
    },
    {
     "name": "stdout",
     "output_type": "stream",
     "text": [
      "ST_Distance calculation: Duration = 1.9430785179138184 seconds, Rows processed = 28652172\n"
     ]
    },
    {
     "name": "stderr",
     "output_type": "stream",
     "text": [
      "[Stage 7264:>                                                       (0 + 1) / 1]\r"
     ]
    },
    {
     "name": "stdout",
     "output_type": "stream",
     "text": [
      "ST_HausdorffDistance calculation: Duration = 1.9995441436767578 seconds, Rows processed = 28652172\n"
     ]
    },
    {
     "name": "stderr",
     "output_type": "stream",
     "text": [
      "                                                                                \r"
     ]
    },
    {
     "name": "stdout",
     "output_type": "stream",
     "text": [
      "ST_FrechetDistance calculation: Duration = 1.9473755359649658 seconds, Rows processed = 28652172\n",
      "Processing: Maganifeorus_deposits.geojson against Geologic_overprints.geojson\n",
      "ST_Distance calculation: Duration = 0.4916238784790039 seconds, Rows processed = 1005264\n"
     ]
    },
    {
     "name": "stderr",
     "output_type": "stream",
     "text": [
      "                                                                                \r"
     ]
    },
    {
     "name": "stdout",
     "output_type": "stream",
     "text": [
      "ST_HausdorffDistance calculation: Duration = 2.7469823360443115 seconds, Rows processed = 1005264\n",
      "ST_FrechetDistance calculation: Duration = 0.4893519878387451 seconds, Rows processed = 1005264\n",
      "Processing: Maganifeorus_deposits.geojson against Geologic_units.geojson\n"
     ]
    },
    {
     "name": "stderr",
     "output_type": "stream",
     "text": [
      "                                                                                \r"
     ]
    },
    {
     "name": "stdout",
     "output_type": "stream",
     "text": [
      "ST_Distance calculation: Duration = 5.360333681106567 seconds, Rows processed = 21387636\n"
     ]
    },
    {
     "name": "stderr",
     "output_type": "stream",
     "text": [
      "                                                                                \r"
     ]
    },
    {
     "name": "stdout",
     "output_type": "stream",
     "text": [
      "ST_HausdorffDistance calculation: Duration = 4.711581468582153 seconds, Rows processed = 21387636\n"
     ]
    },
    {
     "name": "stderr",
     "output_type": "stream",
     "text": [
      "                                                                                \r"
     ]
    },
    {
     "name": "stdout",
     "output_type": "stream",
     "text": [
      "ST_FrechetDistance calculation: Duration = 4.713453054428101 seconds, Rows processed = 21387636\n",
      "Processing: Maganifeorus_deposits.geojson against Glaciation_extents.geojson\n",
      "ST_Distance calculation: Duration = 0.07084345817565918 seconds, Rows processed = 13425\n",
      "ST_HausdorffDistance calculation: Duration = 0.08358931541442871 seconds, Rows processed = 13425\n",
      "ST_FrechetDistance calculation: Duration = 0.0811455249786377 seconds, Rows processed = 13425\n",
      "Processing: Maganifeorus_deposits.geojson against Hydrothermal_vents.geojson\n",
      "ST_Distance calculation: Duration = 0.07528209686279297 seconds, Rows processed = 26313\n",
      "ST_HausdorffDistance calculation: Duration = 0.08017897605895996 seconds, Rows processed = 26313\n",
      "ST_FrechetDistance calculation: Duration = 0.06413149833679199 seconds, Rows processed = 26313\n",
      "Processing: Maganifeorus_deposits.geojson against Impact_structure_great_10_KM.geojson\n",
      "ST_Distance calculation: Duration = 0.08440232276916504 seconds, Rows processed = 16647\n",
      "ST_HausdorffDistance calculation: Duration = 0.08222579956054688 seconds, Rows processed = 16647\n",
      "ST_FrechetDistance calculation: Duration = 0.07990121841430664 seconds, Rows processed = 16647\n",
      "Processing: Maganifeorus_deposits.geojson against Impact_structure_less_10_KM.geojson\n",
      "ST_Distance calculation: Duration = 0.07233238220214844 seconds, Rows processed = 13425\n",
      "ST_HausdorffDistance calculation: Duration = 0.06225156784057617 seconds, Rows processed = 13425\n",
      "ST_FrechetDistance calculation: Duration = 0.06283307075500488 seconds, Rows processed = 13425\n",
      "Processing: Maganifeorus_deposits.geojson against Phosphate_nodules_pavement.geojson\n",
      "ST_Distance calculation: Duration = 0.10642194747924805 seconds, Rows processed = 300183\n",
      "ST_HausdorffDistance calculation: Duration = 0.08006644248962402 seconds, Rows processed = 300183\n",
      "ST_FrechetDistance calculation: Duration = 0.07371735572814941 seconds, Rows processed = 300183\n",
      "Processing: Maganifeorus_deposits.geojson against Polymetallic_sulfide_deposits.geojson\n",
      "ST_Distance calculation: Duration = 0.07145190238952637 seconds, Rows processed = 6981\n",
      "ST_HausdorffDistance calculation: Duration = 0.07131242752075195 seconds, Rows processed = 6981\n",
      "ST_FrechetDistance calculation: Duration = 0.0834052562713623 seconds, Rows processed = 6981\n",
      "Processing: Maganifeorus_deposits.geojson against Rock_in_seafloor_sample.geojson\n",
      "ST_Distance calculation: Duration = 0.07215332984924316 seconds, Rows processed = 26850\n",
      "ST_HausdorffDistance calculation: Duration = 0.062429189682006836 seconds, Rows processed = 26850\n",
      "ST_FrechetDistance calculation: Duration = 0.07169103622436523 seconds, Rows processed = 26850\n",
      "Processing: Maganifeorus_deposits.geojson against Special_submarine_features.geojson\n",
      "ST_Distance calculation: Duration = 0.17848968505859375 seconds, Rows processed = 1482657\n",
      "ST_HausdorffDistance calculation: Duration = 0.16130328178405762 seconds, Rows processed = 1482657\n",
      "ST_FrechetDistance calculation: Duration = 0.13961458206176758 seconds, Rows processed = 1482657\n",
      "Processing: Maganifeorus_deposits.geojson against Volcanoes.geojson\n",
      "ST_Distance calculation: Duration = 0.07807374000549316 seconds, Rows processed = 327570\n",
      "ST_HausdorffDistance calculation: Duration = 0.12553143501281738 seconds, Rows processed = 327570\n",
      "ST_FrechetDistance calculation: Duration = 0.06496024131774902 seconds, Rows processed = 327570\n",
      "Processing: Maganifeorus_deposits.geojson against WorldContinents.geojson\n",
      "ST_Distance calculation: Duration = 0.15047907829284668 seconds, Rows processed = 4296\n",
      "ST_HausdorffDistance calculation: Duration = 0.6548917293548584 seconds, Rows processed = 4296\n",
      "ST_FrechetDistance calculation: Duration = 0.1445302963256836 seconds, Rows processed = 4296\n",
      "Processing: Maganifeorus_deposits.geojson against cb_2018_us_state_20m.json\n",
      "ST_Distance calculation: Duration = 0.08657336235046387 seconds, Rows processed = 27924\n",
      "ST_HausdorffDistance calculation: Duration = 0.09501481056213379 seconds, Rows processed = 27924\n",
      "ST_FrechetDistance calculation: Duration = 0.12204337120056152 seconds, Rows processed = 27924\n",
      "Processing: Phosphate_nodules_pavement.geojson against AgriculturalArea.geojson\n",
      "ST_Distance calculation: Duration = 0.6279354095458984 seconds, Rows processed = 1716130\n"
     ]
    },
    {
     "name": "stderr",
     "output_type": "stream",
     "text": [
      "                                                                                \r"
     ]
    },
    {
     "name": "stdout",
     "output_type": "stream",
     "text": [
      "ST_HausdorffDistance calculation: Duration = 0.7708890438079834 seconds, Rows processed = 1716130\n"
     ]
    },
    {
     "name": "stderr",
     "output_type": "stream",
     "text": [
      "                                                                                \r"
     ]
    },
    {
     "name": "stdout",
     "output_type": "stream",
     "text": [
      "ST_FrechetDistance calculation: Duration = 0.7911417484283447 seconds, Rows processed = 1716130\n",
      "Processing: Phosphate_nodules_pavement.geojson against CityBoundaries.geojson\n"
     ]
    },
    {
     "name": "stderr",
     "output_type": "stream",
     "text": [
      "                                                                                \r"
     ]
    },
    {
     "name": "stdout",
     "output_type": "stream",
     "text": [
      "ST_Distance calculation: Duration = 1.4373481273651123 seconds, Rows processed = 279500\n"
     ]
    },
    {
     "name": "stderr",
     "output_type": "stream",
     "text": [
      "                                                                                \r"
     ]
    },
    {
     "name": "stdout",
     "output_type": "stream",
     "text": [
      "ST_HausdorffDistance calculation: Duration = 0.8761134147644043 seconds, Rows processed = 279500\n"
     ]
    },
    {
     "name": "stderr",
     "output_type": "stream",
     "text": [
      "                                                                                \r"
     ]
    },
    {
     "name": "stdout",
     "output_type": "stream",
     "text": [
      "ST_FrechetDistance calculation: Duration = 0.885317325592041 seconds, Rows processed = 279500\n",
      "Processing: Phosphate_nodules_pavement.geojson against CountryTerritories.geojson\n",
      "ST_Distance calculation: Duration = 0.24524140357971191 seconds, Rows processed = 143104\n",
      "ST_HausdorffDistance calculation: Duration = 0.25676417350769043 seconds, Rows processed = 143104\n",
      "ST_FrechetDistance calculation: Duration = 0.1944749355316162 seconds, Rows processed = 143104\n",
      "Processing: Phosphate_nodules_pavement.geojson against EcoRegions.geojson\n"
     ]
    },
    {
     "name": "stderr",
     "output_type": "stream",
     "text": [
      "                                                                                \r"
     ]
    },
    {
     "name": "stdout",
     "output_type": "stream",
     "text": [
      "ST_Distance calculation: Duration = 1.8457274436950684 seconds, Rows processed = 698750\n"
     ]
    },
    {
     "name": "stderr",
     "output_type": "stream",
     "text": [
      "                                                                                \r"
     ]
    },
    {
     "name": "stdout",
     "output_type": "stream",
     "text": [
      "ST_HausdorffDistance calculation: Duration = 11.663004636764526 seconds, Rows processed = 698750\n"
     ]
    },
    {
     "name": "stderr",
     "output_type": "stream",
     "text": [
      "                                                                                \r"
     ]
    },
    {
     "name": "stdout",
     "output_type": "stream",
     "text": [
      "ST_FrechetDistance calculation: Duration = 1.9191598892211914 seconds, Rows processed = 698750\n",
      "Processing: Phosphate_nodules_pavement.geojson against GeographicRegions.geojson\n",
      "ST_Distance calculation: Duration = 0.7398769855499268 seconds, Rows processed = 586950\n",
      "ST_HausdorffDistance calculation: Duration = 0.2345283031463623 seconds, Rows processed = 586950\n",
      "ST_FrechetDistance calculation: Duration = 0.21265745162963867 seconds, Rows processed = 586950\n",
      "Processing: Phosphate_nodules_pavement.geojson against Areas_diapiric_structures.geojson\n",
      "ST_Distance calculation: Duration = 0.08498358726501465 seconds, Rows processed = 43043\n",
      "ST_HausdorffDistance calculation: Duration = 0.07491040229797363 seconds, Rows processed = 43043\n",
      "ST_FrechetDistance calculation: Duration = 0.07582902908325195 seconds, Rows processed = 43043\n",
      "Processing: Phosphate_nodules_pavement.geojson against Bathymetry.geojson\n",
      "ST_Distance calculation: Duration = 0.5995082855224609 seconds, Rows processed = 1369550\n",
      "ST_HausdorffDistance calculation: Duration = 0.5930633544921875 seconds, Rows processed = 1369550\n",
      "ST_FrechetDistance calculation: Duration = 0.5969488620758057 seconds, Rows processed = 1369550\n",
      "Processing: Phosphate_nodules_pavement.geojson against Calderas.geojson\n",
      "ST_Distance calculation: Duration = 0.09785628318786621 seconds, Rows processed = 40248\n",
      "ST_HausdorffDistance calculation: Duration = 0.06547951698303223 seconds, Rows processed = 40248\n",
      "ST_FrechetDistance calculation: Duration = 0.07661676406860352 seconds, Rows processed = 40248\n",
      "Processing: Phosphate_nodules_pavement.geojson against Diapiric_trends.geojson\n",
      "ST_Distance calculation: Duration = 0.15257501602172852 seconds, Rows processed = 98384\n",
      "ST_HausdorffDistance calculation: Duration = 0.08449363708496094 seconds, Rows processed = 98384\n",
      "ST_FrechetDistance calculation: Duration = 0.09728121757507324 seconds, Rows processed = 98384\n",
      "Processing: Phosphate_nodules_pavement.geojson against Diapirs.geojson\n",
      "ST_Distance calculation: Duration = 0.068450927734375 seconds, Rows processed = 756886\n",
      "ST_HausdorffDistance calculation: Duration = 0.08182811737060547 seconds, Rows processed = 756886\n",
      "ST_FrechetDistance calculation: Duration = 0.06637716293334961 seconds, Rows processed = 756886\n",
      "Processing: Phosphate_nodules_pavement.geojson against Dikes_sills.geojson\n",
      "ST_Distance calculation: Duration = 0.10858678817749023 seconds, Rows processed = 2015754\n",
      "ST_HausdorffDistance calculation: Duration = 0.35152626037597656 seconds, Rows processed = 2015754\n",
      "ST_FrechetDistance calculation: Duration = 0.10760855674743652 seconds, Rows processed = 2015754\n",
      "Processing: Phosphate_nodules_pavement.geojson against Faults.geojson\n",
      "ST_Distance calculation: Duration = 0.40186238288879395 seconds, Rows processed = 6945016\n",
      "ST_HausdorffDistance calculation: Duration = 0.40654540061950684 seconds, Rows processed = 6945016\n",
      "ST_FrechetDistance calculation: Duration = 0.4175591468811035 seconds, Rows processed = 6945016\n",
      "Processing: Phosphate_nodules_pavement.geojson against Gas_fluid_seep.geojson\n",
      "ST_Distance calculation: Duration = 0.05923914909362793 seconds, Rows processed = 21242\n",
      "ST_HausdorffDistance calculation: Duration = 0.0765690803527832 seconds, Rows processed = 21242\n",
      "ST_FrechetDistance calculation: Duration = 0.08240699768066406 seconds, Rows processed = 21242\n",
      "Processing: Phosphate_nodules_pavement.geojson against Gas_oil_seep.geojson\n",
      "ST_Distance calculation: Duration = 0.08210539817810059 seconds, Rows processed = 1677\n",
      "ST_HausdorffDistance calculation: Duration = 0.06101679801940918 seconds, Rows processed = 1677\n",
      "ST_FrechetDistance calculation: Duration = 0.0710744857788086 seconds, Rows processed = 1677\n",
      "Processing: Phosphate_nodules_pavement.geojson against Geologic_contacts.geojson\n"
     ]
    },
    {
     "name": "stderr",
     "output_type": "stream",
     "text": [
      "                                                                                \r"
     ]
    },
    {
     "name": "stdout",
     "output_type": "stream",
     "text": [
      "ST_Distance calculation: Duration = 11.854583740234375 seconds, Rows processed = 29826004\n"
     ]
    },
    {
     "name": "stderr",
     "output_type": "stream",
     "text": [
      "                                                                                \r"
     ]
    },
    {
     "name": "stdout",
     "output_type": "stream",
     "text": [
      "ST_HausdorffDistance calculation: Duration = 1.9985439777374268 seconds, Rows processed = 29826004\n"
     ]
    },
    {
     "name": "stderr",
     "output_type": "stream",
     "text": [
      "                                                                                \r"
     ]
    },
    {
     "name": "stdout",
     "output_type": "stream",
     "text": [
      "ST_FrechetDistance calculation: Duration = 12.433641195297241 seconds, Rows processed = 29826004\n",
      "Processing: Phosphate_nodules_pavement.geojson against Geologic_overprints.geojson\n"
     ]
    },
    {
     "name": "stderr",
     "output_type": "stream",
     "text": [
      "                                                                                \r"
     ]
    },
    {
     "name": "stdout",
     "output_type": "stream",
     "text": [
      "ST_Distance calculation: Duration = 2.7369019985198975 seconds, Rows processed = 1046448\n",
      "ST_HausdorffDistance calculation: Duration = 0.4779388904571533 seconds, Rows processed = 1046448\n",
      "ST_FrechetDistance calculation: Duration = 0.47469305992126465 seconds, Rows processed = 1046448\n",
      "Processing: Phosphate_nodules_pavement.geojson against Geologic_units.geojson\n"
     ]
    },
    {
     "name": "stderr",
     "output_type": "stream",
     "text": [
      "24/04/22 13:54:18 ERROR TaskSchedulerImpl: Lost executor 33 on 129.82.44.142: Command exited with code 52\n",
      "                                                                                \r"
     ]
    },
    {
     "name": "stdout",
     "output_type": "stream",
     "text": [
      "ST_Distance calculation: Duration = 30.68674874305725 seconds, Rows processed = 22263852\n"
     ]
    },
    {
     "name": "stderr",
     "output_type": "stream",
     "text": [
      "                                                                                \r"
     ]
    },
    {
     "name": "stdout",
     "output_type": "stream",
     "text": [
      "ST_HausdorffDistance calculation: Duration = 15.276402235031128 seconds, Rows processed = 22263852\n"
     ]
    },
    {
     "name": "stderr",
     "output_type": "stream",
     "text": [
      "                                                                                \r"
     ]
    },
    {
     "name": "stdout",
     "output_type": "stream",
     "text": [
      "ST_FrechetDistance calculation: Duration = 4.6446006298065186 seconds, Rows processed = 22263852\n",
      "Processing: Phosphate_nodules_pavement.geojson against Glaciation_extents.geojson\n",
      "ST_Distance calculation: Duration = 0.08282470703125 seconds, Rows processed = 13975\n",
      "ST_HausdorffDistance calculation: Duration = 0.09529685974121094 seconds, Rows processed = 13975\n",
      "ST_FrechetDistance calculation: Duration = 0.06311750411987305 seconds, Rows processed = 13975\n",
      "Processing: Phosphate_nodules_pavement.geojson against Hydrothermal_vents.geojson\n"
     ]
    },
    {
     "name": "stderr",
     "output_type": "stream",
     "text": [
      "                                                                                \r"
     ]
    },
    {
     "name": "stdout",
     "output_type": "stream",
     "text": [
      "ST_Distance calculation: Duration = 1.1361725330352783 seconds, Rows processed = 27391\n",
      "ST_HausdorffDistance calculation: Duration = 0.07329320907592773 seconds, Rows processed = 27391\n",
      "ST_FrechetDistance calculation: Duration = 0.06913042068481445 seconds, Rows processed = 27391\n",
      "Processing: Phosphate_nodules_pavement.geojson against Impact_structure_great_10_KM.geojson\n",
      "ST_Distance calculation: Duration = 0.07347917556762695 seconds, Rows processed = 17329\n",
      "ST_HausdorffDistance calculation: Duration = 0.14946985244750977 seconds, Rows processed = 17329\n",
      "ST_FrechetDistance calculation: Duration = 0.12348103523254395 seconds, Rows processed = 17329\n",
      "Processing: Phosphate_nodules_pavement.geojson against Impact_structure_less_10_KM.geojson\n",
      "ST_Distance calculation: Duration = 0.08362221717834473 seconds, Rows processed = 13975\n",
      "ST_HausdorffDistance calculation: Duration = 0.08590865135192871 seconds, Rows processed = 13975\n",
      "ST_FrechetDistance calculation: Duration = 0.08726692199707031 seconds, Rows processed = 13975\n",
      "Processing: Phosphate_nodules_pavement.geojson against Maganifeorus_deposits.geojson\n",
      "ST_Distance calculation: Duration = 0.0677177906036377 seconds, Rows processed = 300183\n",
      "ST_HausdorffDistance calculation: Duration = 0.11771821975708008 seconds, Rows processed = 300183\n",
      "ST_FrechetDistance calculation: Duration = 0.1706557273864746 seconds, Rows processed = 300183\n",
      "Processing: Phosphate_nodules_pavement.geojson against Polymetallic_sulfide_deposits.geojson\n",
      "ST_Distance calculation: Duration = 0.06766414642333984 seconds, Rows processed = 7267\n",
      "ST_HausdorffDistance calculation: Duration = 0.07018136978149414 seconds, Rows processed = 7267\n",
      "ST_FrechetDistance calculation: Duration = 0.06456422805786133 seconds, Rows processed = 7267\n",
      "Processing: Phosphate_nodules_pavement.geojson against Rock_in_seafloor_sample.geojson\n",
      "ST_Distance calculation: Duration = 0.08858180046081543 seconds, Rows processed = 27950\n",
      "ST_HausdorffDistance calculation: Duration = 0.08017110824584961 seconds, Rows processed = 27950\n",
      "ST_FrechetDistance calculation: Duration = 0.09471797943115234 seconds, Rows processed = 27950\n",
      "Processing: Phosphate_nodules_pavement.geojson against Special_submarine_features.geojson\n",
      "ST_Distance calculation: Duration = 0.14592242240905762 seconds, Rows processed = 1543399\n",
      "ST_HausdorffDistance calculation: Duration = 0.1403801441192627 seconds, Rows processed = 1543399\n",
      "ST_FrechetDistance calculation: Duration = 0.14831781387329102 seconds, Rows processed = 1543399\n",
      "Processing: Phosphate_nodules_pavement.geojson against Volcanoes.geojson\n",
      "ST_Distance calculation: Duration = 0.08368444442749023 seconds, Rows processed = 340990\n",
      "ST_HausdorffDistance calculation: Duration = 0.0675051212310791 seconds, Rows processed = 340990\n",
      "ST_FrechetDistance calculation: Duration = 0.06089591979980469 seconds, Rows processed = 340990\n",
      "Processing: Phosphate_nodules_pavement.geojson against WorldContinents.geojson\n",
      "ST_Distance calculation: Duration = 0.1547377109527588 seconds, Rows processed = 4472\n",
      "ST_HausdorffDistance calculation: Duration = 0.16987156867980957 seconds, Rows processed = 4472\n",
      "ST_FrechetDistance calculation: Duration = 0.14857149124145508 seconds, Rows processed = 4472\n",
      "Processing: Phosphate_nodules_pavement.geojson against cb_2018_us_state_20m.json\n",
      "ST_Distance calculation: Duration = 0.08229351043701172 seconds, Rows processed = 29068\n",
      "ST_HausdorffDistance calculation: Duration = 0.10403752326965332 seconds, Rows processed = 29068\n",
      "ST_FrechetDistance calculation: Duration = 0.24872779846191406 seconds, Rows processed = 29068\n",
      "Processing: Polymetallic_sulfide_deposits.geojson against AgriculturalArea.geojson\n",
      "ST_Distance calculation: Duration = 0.631493330001831 seconds, Rows processed = 39910\n"
     ]
    },
    {
     "name": "stderr",
     "output_type": "stream",
     "text": [
      "                                                                                \r"
     ]
    },
    {
     "name": "stdout",
     "output_type": "stream",
     "text": [
      "ST_HausdorffDistance calculation: Duration = 5.847659587860107 seconds, Rows processed = 39910\n"
     ]
    },
    {
     "name": "stderr",
     "output_type": "stream",
     "text": [
      "                                                                                \r"
     ]
    },
    {
     "name": "stdout",
     "output_type": "stream",
     "text": [
      "ST_FrechetDistance calculation: Duration = 0.6249487400054932 seconds, Rows processed = 39910\n",
      "Processing: Polymetallic_sulfide_deposits.geojson against CityBoundaries.geojson\n"
     ]
    },
    {
     "name": "stderr",
     "output_type": "stream",
     "text": [
      "                                                                                \r"
     ]
    },
    {
     "name": "stdout",
     "output_type": "stream",
     "text": [
      "ST_Distance calculation: Duration = 0.8883466720581055 seconds, Rows processed = 6500\n"
     ]
    },
    {
     "name": "stderr",
     "output_type": "stream",
     "text": [
      "                                                                                \r"
     ]
    },
    {
     "name": "stdout",
     "output_type": "stream",
     "text": [
      "ST_HausdorffDistance calculation: Duration = 6.072561264038086 seconds, Rows processed = 6500\n"
     ]
    },
    {
     "name": "stderr",
     "output_type": "stream",
     "text": [
      "                                                                                \r"
     ]
    },
    {
     "name": "stdout",
     "output_type": "stream",
     "text": [
      "ST_FrechetDistance calculation: Duration = 0.8872442245483398 seconds, Rows processed = 6500\n",
      "Processing: Polymetallic_sulfide_deposits.geojson against CountryTerritories.geojson\n"
     ]
    },
    {
     "name": "stderr",
     "output_type": "stream",
     "text": [
      "                                                                                \r"
     ]
    },
    {
     "name": "stdout",
     "output_type": "stream",
     "text": [
      "ST_Distance calculation: Duration = 0.84126877784729 seconds, Rows processed = 3328\n",
      "ST_HausdorffDistance calculation: Duration = 0.2075519561767578 seconds, Rows processed = 3328\n",
      "ST_FrechetDistance calculation: Duration = 0.19084429740905762 seconds, Rows processed = 3328\n",
      "Processing: Polymetallic_sulfide_deposits.geojson against EcoRegions.geojson\n"
     ]
    },
    {
     "name": "stderr",
     "output_type": "stream",
     "text": [
      "                                                                                \r"
     ]
    },
    {
     "name": "stdout",
     "output_type": "stream",
     "text": [
      "ST_Distance calculation: Duration = 1.8380086421966553 seconds, Rows processed = 16250\n"
     ]
    },
    {
     "name": "stderr",
     "output_type": "stream",
     "text": [
      "                                                                                \r"
     ]
    },
    {
     "name": "stdout",
     "output_type": "stream",
     "text": [
      "ST_HausdorffDistance calculation: Duration = 11.744943141937256 seconds, Rows processed = 16250\n"
     ]
    },
    {
     "name": "stderr",
     "output_type": "stream",
     "text": [
      "                                                                                \r"
     ]
    },
    {
     "name": "stdout",
     "output_type": "stream",
     "text": [
      "ST_FrechetDistance calculation: Duration = 1.94169020652771 seconds, Rows processed = 16250\n",
      "Processing: Polymetallic_sulfide_deposits.geojson against GeographicRegions.geojson\n",
      "ST_Distance calculation: Duration = 0.20893073081970215 seconds, Rows processed = 13650\n",
      "ST_HausdorffDistance calculation: Duration = 0.20644259452819824 seconds, Rows processed = 13650\n",
      "ST_FrechetDistance calculation: Duration = 0.19901657104492188 seconds, Rows processed = 13650\n",
      "Processing: Polymetallic_sulfide_deposits.geojson against Areas_diapiric_structures.geojson\n",
      "ST_Distance calculation: Duration = 0.08469915390014648 seconds, Rows processed = 1001\n",
      "ST_HausdorffDistance calculation: Duration = 0.08927202224731445 seconds, Rows processed = 1001\n",
      "ST_FrechetDistance calculation: Duration = 0.11860251426696777 seconds, Rows processed = 1001\n",
      "Processing: Polymetallic_sulfide_deposits.geojson against Bathymetry.geojson\n",
      "ST_Distance calculation: Duration = 0.6074984073638916 seconds, Rows processed = 31850\n"
     ]
    },
    {
     "name": "stderr",
     "output_type": "stream",
     "text": [
      "                                                                                \r"
     ]
    },
    {
     "name": "stdout",
     "output_type": "stream",
     "text": [
      "ST_HausdorffDistance calculation: Duration = 3.6190121173858643 seconds, Rows processed = 31850\n",
      "ST_FrechetDistance calculation: Duration = 0.6238391399383545 seconds, Rows processed = 31850\n",
      "Processing: Polymetallic_sulfide_deposits.geojson against Calderas.geojson\n",
      "ST_Distance calculation: Duration = 0.06161093711853027 seconds, Rows processed = 936\n",
      "ST_HausdorffDistance calculation: Duration = 0.06862783432006836 seconds, Rows processed = 936\n",
      "ST_FrechetDistance calculation: Duration = 0.0690317153930664 seconds, Rows processed = 936\n",
      "Processing: Polymetallic_sulfide_deposits.geojson against Diapiric_trends.geojson\n",
      "ST_Distance calculation: Duration = 0.0826876163482666 seconds, Rows processed = 2288\n",
      "ST_HausdorffDistance calculation: Duration = 0.08651542663574219 seconds, Rows processed = 2288\n",
      "ST_FrechetDistance calculation: Duration = 0.08612537384033203 seconds, Rows processed = 2288\n",
      "Processing: Polymetallic_sulfide_deposits.geojson against Diapirs.geojson\n",
      "ST_Distance calculation: Duration = 0.07560563087463379 seconds, Rows processed = 17602\n",
      "ST_HausdorffDistance calculation: Duration = 0.06541109085083008 seconds, Rows processed = 17602\n",
      "ST_FrechetDistance calculation: Duration = 0.0804445743560791 seconds, Rows processed = 17602\n",
      "Processing: Polymetallic_sulfide_deposits.geojson against Dikes_sills.geojson\n",
      "ST_Distance calculation: Duration = 0.10508537292480469 seconds, Rows processed = 46878\n",
      "ST_HausdorffDistance calculation: Duration = 0.11452102661132812 seconds, Rows processed = 46878\n",
      "ST_FrechetDistance calculation: Duration = 0.11410284042358398 seconds, Rows processed = 46878\n",
      "Processing: Polymetallic_sulfide_deposits.geojson against Faults.geojson\n",
      "ST_Distance calculation: Duration = 0.40941429138183594 seconds, Rows processed = 161512\n",
      "ST_HausdorffDistance calculation: Duration = 0.38838624954223633 seconds, Rows processed = 161512\n",
      "ST_FrechetDistance calculation: Duration = 0.3989877700805664 seconds, Rows processed = 161512\n",
      "Processing: Polymetallic_sulfide_deposits.geojson against Gas_fluid_seep.geojson\n",
      "ST_Distance calculation: Duration = 0.07440304756164551 seconds, Rows processed = 494\n",
      "ST_HausdorffDistance calculation: Duration = 0.0662987232208252 seconds, Rows processed = 494\n",
      "ST_FrechetDistance calculation: Duration = 0.07810783386230469 seconds, Rows processed = 494\n",
      "Processing: Polymetallic_sulfide_deposits.geojson against Gas_oil_seep.geojson\n",
      "ST_Distance calculation: Duration = 0.06640887260437012 seconds, Rows processed = 39\n",
      "ST_HausdorffDistance calculation: Duration = 0.06818771362304688 seconds, Rows processed = 39\n",
      "ST_FrechetDistance calculation: Duration = 0.07298994064331055 seconds, Rows processed = 39\n",
      "Processing: Polymetallic_sulfide_deposits.geojson against Geologic_contacts.geojson\n"
     ]
    },
    {
     "name": "stderr",
     "output_type": "stream",
     "text": [
      "                                                                                \r"
     ]
    },
    {
     "name": "stdout",
     "output_type": "stream",
     "text": [
      "ST_Distance calculation: Duration = 1.9596459865570068 seconds, Rows processed = 693628\n"
     ]
    },
    {
     "name": "stderr",
     "output_type": "stream",
     "text": [
      "                                                                                \r"
     ]
    },
    {
     "name": "stdout",
     "output_type": "stream",
     "text": [
      "ST_HausdorffDistance calculation: Duration = 2.0142927169799805 seconds, Rows processed = 693628\n"
     ]
    },
    {
     "name": "stderr",
     "output_type": "stream",
     "text": [
      "                                                                                \r"
     ]
    },
    {
     "name": "stdout",
     "output_type": "stream",
     "text": [
      "ST_FrechetDistance calculation: Duration = 1.9942083358764648 seconds, Rows processed = 693628\n",
      "Processing: Polymetallic_sulfide_deposits.geojson against Geologic_overprints.geojson\n",
      "ST_Distance calculation: Duration = 0.4788510799407959 seconds, Rows processed = 24336\n",
      "ST_HausdorffDistance calculation: Duration = 0.49257636070251465 seconds, Rows processed = 24336\n",
      "ST_FrechetDistance calculation: Duration = 0.4897339344024658 seconds, Rows processed = 24336\n",
      "Processing: Polymetallic_sulfide_deposits.geojson against Geologic_units.geojson\n"
     ]
    },
    {
     "name": "stderr",
     "output_type": "stream",
     "text": [
      "                                                                                \r"
     ]
    },
    {
     "name": "stdout",
     "output_type": "stream",
     "text": [
      "ST_Distance calculation: Duration = 4.660051584243774 seconds, Rows processed = 517764\n"
     ]
    },
    {
     "name": "stderr",
     "output_type": "stream",
     "text": [
      "                                                                                \r"
     ]
    },
    {
     "name": "stdout",
     "output_type": "stream",
     "text": [
      "ST_HausdorffDistance calculation: Duration = 14.718211650848389 seconds, Rows processed = 517764\n"
     ]
    },
    {
     "name": "stderr",
     "output_type": "stream",
     "text": [
      "                                                                                \r"
     ]
    },
    {
     "name": "stdout",
     "output_type": "stream",
     "text": [
      "ST_FrechetDistance calculation: Duration = 4.904235124588013 seconds, Rows processed = 517764\n",
      "Processing: Polymetallic_sulfide_deposits.geojson against Glaciation_extents.geojson\n",
      "ST_Distance calculation: Duration = 0.10134625434875488 seconds, Rows processed = 325\n",
      "ST_HausdorffDistance calculation: Duration = 0.09995865821838379 seconds, Rows processed = 325\n",
      "ST_FrechetDistance calculation: Duration = 0.10245704650878906 seconds, Rows processed = 325\n",
      "Processing: Polymetallic_sulfide_deposits.geojson against Hydrothermal_vents.geojson\n",
      "ST_Distance calculation: Duration = 0.09634256362915039 seconds, Rows processed = 637\n",
      "ST_HausdorffDistance calculation: Duration = 0.07816243171691895 seconds, Rows processed = 637\n",
      "ST_FrechetDistance calculation: Duration = 0.06941890716552734 seconds, Rows processed = 637\n",
      "Processing: Polymetallic_sulfide_deposits.geojson against Impact_structure_great_10_KM.geojson\n",
      "ST_Distance calculation: Duration = 0.07939791679382324 seconds, Rows processed = 403\n",
      "ST_HausdorffDistance calculation: Duration = 0.07650494575500488 seconds, Rows processed = 403\n",
      "ST_FrechetDistance calculation: Duration = 0.07837510108947754 seconds, Rows processed = 403\n",
      "Processing: Polymetallic_sulfide_deposits.geojson against Impact_structure_less_10_KM.geojson\n",
      "ST_Distance calculation: Duration = 0.0801384449005127 seconds, Rows processed = 325\n",
      "ST_HausdorffDistance calculation: Duration = 0.06171059608459473 seconds, Rows processed = 325\n",
      "ST_FrechetDistance calculation: Duration = 0.07178401947021484 seconds, Rows processed = 325\n",
      "Processing: Polymetallic_sulfide_deposits.geojson against Maganifeorus_deposits.geojson\n",
      "ST_Distance calculation: Duration = 0.08309268951416016 seconds, Rows processed = 6981\n",
      "ST_HausdorffDistance calculation: Duration = 0.07696270942687988 seconds, Rows processed = 6981\n",
      "ST_FrechetDistance calculation: Duration = 0.0610966682434082 seconds, Rows processed = 6981\n",
      "Processing: Polymetallic_sulfide_deposits.geojson against Phosphate_nodules_pavement.geojson\n",
      "ST_Distance calculation: Duration = 0.06367659568786621 seconds, Rows processed = 7267\n",
      "ST_HausdorffDistance calculation: Duration = 0.07679605484008789 seconds, Rows processed = 7267\n",
      "ST_FrechetDistance calculation: Duration = 0.06495499610900879 seconds, Rows processed = 7267\n",
      "Processing: Polymetallic_sulfide_deposits.geojson against Rock_in_seafloor_sample.geojson\n",
      "ST_Distance calculation: Duration = 0.07434940338134766 seconds, Rows processed = 650\n",
      "ST_HausdorffDistance calculation: Duration = 0.06931662559509277 seconds, Rows processed = 650\n",
      "ST_FrechetDistance calculation: Duration = 0.07356572151184082 seconds, Rows processed = 650\n",
      "Processing: Polymetallic_sulfide_deposits.geojson against Special_submarine_features.geojson\n",
      "ST_Distance calculation: Duration = 0.14332127571105957 seconds, Rows processed = 35893\n",
      "ST_HausdorffDistance calculation: Duration = 0.15722417831420898 seconds, Rows processed = 35893\n",
      "ST_FrechetDistance calculation: Duration = 0.20486736297607422 seconds, Rows processed = 35893\n",
      "Processing: Polymetallic_sulfide_deposits.geojson against Volcanoes.geojson\n",
      "ST_Distance calculation: Duration = 0.08238720893859863 seconds, Rows processed = 7930\n",
      "ST_HausdorffDistance calculation: Duration = 0.07285785675048828 seconds, Rows processed = 7930\n",
      "ST_FrechetDistance calculation: Duration = 0.06869626045227051 seconds, Rows processed = 7930\n",
      "Processing: Polymetallic_sulfide_deposits.geojson against WorldContinents.geojson\n",
      "ST_Distance calculation: Duration = 0.2175602912902832 seconds, Rows processed = 104\n",
      "ST_HausdorffDistance calculation: Duration = 0.16687822341918945 seconds, Rows processed = 104\n",
      "ST_FrechetDistance calculation: Duration = 0.14620494842529297 seconds, Rows processed = 104\n",
      "Processing: Polymetallic_sulfide_deposits.geojson against cb_2018_us_state_20m.json\n",
      "ST_Distance calculation: Duration = 0.07720685005187988 seconds, Rows processed = 676\n",
      "ST_HausdorffDistance calculation: Duration = 0.08853459358215332 seconds, Rows processed = 676\n",
      "ST_FrechetDistance calculation: Duration = 0.09796142578125 seconds, Rows processed = 676\n",
      "Processing: Rock_in_seafloor_sample.geojson against AgriculturalArea.geojson\n"
     ]
    },
    {
     "name": "stderr",
     "output_type": "stream",
     "text": [
      "                                                                                \r"
     ]
    },
    {
     "name": "stdout",
     "output_type": "stream",
     "text": [
      "ST_Distance calculation: Duration = 0.7612667083740234 seconds, Rows processed = 153500\n",
      "ST_HausdorffDistance calculation: Duration = 0.5739667415618896 seconds, Rows processed = 153500\n",
      "ST_FrechetDistance calculation: Duration = 0.5892066955566406 seconds, Rows processed = 153500\n",
      "Processing: Rock_in_seafloor_sample.geojson against CityBoundaries.geojson\n"
     ]
    },
    {
     "name": "stderr",
     "output_type": "stream",
     "text": [
      "                                                                                \r"
     ]
    },
    {
     "name": "stdout",
     "output_type": "stream",
     "text": [
      "ST_Distance calculation: Duration = 0.9573218822479248 seconds, Rows processed = 25000\n"
     ]
    },
    {
     "name": "stderr",
     "output_type": "stream",
     "text": [
      "                                                                                \r"
     ]
    },
    {
     "name": "stdout",
     "output_type": "stream",
     "text": [
      "ST_HausdorffDistance calculation: Duration = 0.9186849594116211 seconds, Rows processed = 25000\n"
     ]
    },
    {
     "name": "stderr",
     "output_type": "stream",
     "text": [
      "                                                                                \r"
     ]
    },
    {
     "name": "stdout",
     "output_type": "stream",
     "text": [
      "ST_FrechetDistance calculation: Duration = 0.8968281745910645 seconds, Rows processed = 25000\n",
      "Processing: Rock_in_seafloor_sample.geojson against CountryTerritories.geojson\n",
      "ST_Distance calculation: Duration = 0.24403142929077148 seconds, Rows processed = 12800\n",
      "ST_HausdorffDistance calculation: Duration = 0.2506406307220459 seconds, Rows processed = 12800\n",
      "ST_FrechetDistance calculation: Duration = 0.20322656631469727 seconds, Rows processed = 12800\n",
      "Processing: Rock_in_seafloor_sample.geojson against EcoRegions.geojson\n"
     ]
    },
    {
     "name": "stderr",
     "output_type": "stream",
     "text": [
      "                                                                                \r"
     ]
    },
    {
     "name": "stdout",
     "output_type": "stream",
     "text": [
      "ST_Distance calculation: Duration = 1.9627010822296143 seconds, Rows processed = 62500\n"
     ]
    },
    {
     "name": "stderr",
     "output_type": "stream",
     "text": [
      "                                                                                \r"
     ]
    },
    {
     "name": "stdout",
     "output_type": "stream",
     "text": [
      "ST_HausdorffDistance calculation: Duration = 11.678526639938354 seconds, Rows processed = 62500\n"
     ]
    },
    {
     "name": "stderr",
     "output_type": "stream",
     "text": [
      "                                                                                \r"
     ]
    },
    {
     "name": "stdout",
     "output_type": "stream",
     "text": [
      "ST_FrechetDistance calculation: Duration = 11.702042818069458 seconds, Rows processed = 62500\n",
      "Processing: Rock_in_seafloor_sample.geojson against GeographicRegions.geojson\n",
      "ST_Distance calculation: Duration = 0.22622466087341309 seconds, Rows processed = 52500\n",
      "ST_HausdorffDistance calculation: Duration = 0.17528676986694336 seconds, Rows processed = 52500\n",
      "ST_FrechetDistance calculation: Duration = 0.17955684661865234 seconds, Rows processed = 52500\n",
      "Processing: Rock_in_seafloor_sample.geojson against Areas_diapiric_structures.geojson\n",
      "ST_Distance calculation: Duration = 0.12894988059997559 seconds, Rows processed = 3850\n",
      "ST_HausdorffDistance calculation: Duration = 0.09226441383361816 seconds, Rows processed = 3850\n",
      "ST_FrechetDistance calculation: Duration = 0.08430218696594238 seconds, Rows processed = 3850\n",
      "Processing: Rock_in_seafloor_sample.geojson against Bathymetry.geojson\n",
      "ST_Distance calculation: Duration = 0.601527214050293 seconds, Rows processed = 122500\n",
      "ST_HausdorffDistance calculation: Duration = 0.6090750694274902 seconds, Rows processed = 122500\n",
      "ST_FrechetDistance calculation: Duration = 0.6073098182678223 seconds, Rows processed = 122500\n",
      "Processing: Rock_in_seafloor_sample.geojson against Calderas.geojson\n",
      "ST_Distance calculation: Duration = 0.07310342788696289 seconds, Rows processed = 3600\n",
      "ST_HausdorffDistance calculation: Duration = 0.07719922065734863 seconds, Rows processed = 3600\n",
      "ST_FrechetDistance calculation: Duration = 0.06651806831359863 seconds, Rows processed = 3600\n",
      "Processing: Rock_in_seafloor_sample.geojson against Diapiric_trends.geojson\n",
      "ST_Distance calculation: Duration = 0.08531498908996582 seconds, Rows processed = 8800\n",
      "ST_HausdorffDistance calculation: Duration = 0.06232857704162598 seconds, Rows processed = 8800\n",
      "ST_FrechetDistance calculation: Duration = 0.0739896297454834 seconds, Rows processed = 8800\n",
      "Processing: Rock_in_seafloor_sample.geojson against Diapirs.geojson\n",
      "ST_Distance calculation: Duration = 0.08190417289733887 seconds, Rows processed = 67700\n",
      "ST_HausdorffDistance calculation: Duration = 0.10256052017211914 seconds, Rows processed = 67700\n",
      "ST_FrechetDistance calculation: Duration = 0.08333873748779297 seconds, Rows processed = 67700\n",
      "Processing: Rock_in_seafloor_sample.geojson against Dikes_sills.geojson\n",
      "ST_Distance calculation: Duration = 0.1268749237060547 seconds, Rows processed = 180300\n",
      "ST_HausdorffDistance calculation: Duration = 0.10674047470092773 seconds, Rows processed = 180300\n",
      "ST_FrechetDistance calculation: Duration = 0.11956644058227539 seconds, Rows processed = 180300\n",
      "Processing: Rock_in_seafloor_sample.geojson against Faults.geojson\n",
      "ST_Distance calculation: Duration = 0.4045422077178955 seconds, Rows processed = 621200\n"
     ]
    },
    {
     "name": "stderr",
     "output_type": "stream",
     "text": [
      "                                                                                \r"
     ]
    },
    {
     "name": "stdout",
     "output_type": "stream",
     "text": [
      "ST_HausdorffDistance calculation: Duration = 2.2111644744873047 seconds, Rows processed = 621200\n",
      "ST_FrechetDistance calculation: Duration = 0.39191341400146484 seconds, Rows processed = 621200\n",
      "Processing: Rock_in_seafloor_sample.geojson against Gas_fluid_seep.geojson\n",
      "ST_Distance calculation: Duration = 0.08714866638183594 seconds, Rows processed = 1900\n",
      "ST_HausdorffDistance calculation: Duration = 0.08808135986328125 seconds, Rows processed = 1900\n",
      "ST_FrechetDistance calculation: Duration = 0.0733330249786377 seconds, Rows processed = 1900\n",
      "Processing: Rock_in_seafloor_sample.geojson against Gas_oil_seep.geojson\n",
      "ST_Distance calculation: Duration = 0.06775760650634766 seconds, Rows processed = 150\n",
      "ST_HausdorffDistance calculation: Duration = 0.05730462074279785 seconds, Rows processed = 150\n",
      "ST_FrechetDistance calculation: Duration = 0.07283568382263184 seconds, Rows processed = 150\n",
      "Processing: Rock_in_seafloor_sample.geojson against Geologic_contacts.geojson\n"
     ]
    },
    {
     "name": "stderr",
     "output_type": "stream",
     "text": [
      "                                                                                \r"
     ]
    },
    {
     "name": "stdout",
     "output_type": "stream",
     "text": [
      "ST_Distance calculation: Duration = 1.975792646408081 seconds, Rows processed = 2667800\n"
     ]
    },
    {
     "name": "stderr",
     "output_type": "stream",
     "text": [
      "                                                                                \r"
     ]
    },
    {
     "name": "stdout",
     "output_type": "stream",
     "text": [
      "ST_HausdorffDistance calculation: Duration = 1.9453094005584717 seconds, Rows processed = 2667800\n"
     ]
    },
    {
     "name": "stderr",
     "output_type": "stream",
     "text": [
      "                                                                                \r"
     ]
    },
    {
     "name": "stdout",
     "output_type": "stream",
     "text": [
      "ST_FrechetDistance calculation: Duration = 1.9243640899658203 seconds, Rows processed = 2667800\n",
      "Processing: Rock_in_seafloor_sample.geojson against Geologic_overprints.geojson\n",
      "ST_Distance calculation: Duration = 0.5018467903137207 seconds, Rows processed = 93600\n",
      "ST_HausdorffDistance calculation: Duration = 0.47054624557495117 seconds, Rows processed = 93600\n"
     ]
    },
    {
     "name": "stderr",
     "output_type": "stream",
     "text": [
      "                                                                                \r"
     ]
    },
    {
     "name": "stdout",
     "output_type": "stream",
     "text": [
      "ST_FrechetDistance calculation: Duration = 2.7812745571136475 seconds, Rows processed = 93600\n",
      "Processing: Rock_in_seafloor_sample.geojson against Geologic_units.geojson\n"
     ]
    },
    {
     "name": "stderr",
     "output_type": "stream",
     "text": [
      "                                                                                \r"
     ]
    },
    {
     "name": "stdout",
     "output_type": "stream",
     "text": [
      "ST_Distance calculation: Duration = 4.8712522983551025 seconds, Rows processed = 1991400\n"
     ]
    },
    {
     "name": "stderr",
     "output_type": "stream",
     "text": [
      "                                                                                \r"
     ]
    },
    {
     "name": "stdout",
     "output_type": "stream",
     "text": [
      "ST_HausdorffDistance calculation: Duration = 4.6939263343811035 seconds, Rows processed = 1991400\n"
     ]
    },
    {
     "name": "stderr",
     "output_type": "stream",
     "text": [
      "24/04/22 13:57:26 ERROR TaskSchedulerImpl: Lost executor 24 on 129.82.44.142: Command exited with code 52\n",
      "                                                                                \r"
     ]
    },
    {
     "name": "stdout",
     "output_type": "stream",
     "text": [
      "ST_FrechetDistance calculation: Duration = 30.627917289733887 seconds, Rows processed = 1991400\n",
      "Processing: Rock_in_seafloor_sample.geojson against Glaciation_extents.geojson\n",
      "ST_Distance calculation: Duration = 0.07044625282287598 seconds, Rows processed = 1250\n",
      "ST_HausdorffDistance calculation: Duration = 0.06897568702697754 seconds, Rows processed = 1250\n",
      "ST_FrechetDistance calculation: Duration = 0.06744551658630371 seconds, Rows processed = 1250\n",
      "Processing: Rock_in_seafloor_sample.geojson against Hydrothermal_vents.geojson\n",
      "ST_Distance calculation: Duration = 0.06035614013671875 seconds, Rows processed = 2450\n",
      "ST_HausdorffDistance calculation: Duration = 0.4412343502044678 seconds, Rows processed = 2450\n",
      "ST_FrechetDistance calculation: Duration = 0.2910735607147217 seconds, Rows processed = 2450\n",
      "Processing: Rock_in_seafloor_sample.geojson against Impact_structure_great_10_KM.geojson\n",
      "ST_Distance calculation: Duration = 0.12305045127868652 seconds, Rows processed = 1550\n",
      "ST_HausdorffDistance calculation: Duration = 0.0711514949798584 seconds, Rows processed = 1550\n",
      "ST_FrechetDistance calculation: Duration = 0.07181429862976074 seconds, Rows processed = 1550\n",
      "Processing: Rock_in_seafloor_sample.geojson against Impact_structure_less_10_KM.geojson\n",
      "ST_Distance calculation: Duration = 0.07125592231750488 seconds, Rows processed = 1250\n",
      "ST_HausdorffDistance calculation: Duration = 0.0626535415649414 seconds, Rows processed = 1250\n",
      "ST_FrechetDistance calculation: Duration = 0.07938337326049805 seconds, Rows processed = 1250\n",
      "Processing: Rock_in_seafloor_sample.geojson against Maganifeorus_deposits.geojson\n",
      "ST_Distance calculation: Duration = 0.05849123001098633 seconds, Rows processed = 26850\n",
      "ST_HausdorffDistance calculation: Duration = 0.17832136154174805 seconds, Rows processed = 26850\n",
      "ST_FrechetDistance calculation: Duration = 0.3163330554962158 seconds, Rows processed = 26850\n",
      "Processing: Rock_in_seafloor_sample.geojson against Phosphate_nodules_pavement.geojson\n",
      "ST_Distance calculation: Duration = 0.27323436737060547 seconds, Rows processed = 27950\n",
      "ST_HausdorffDistance calculation: Duration = 0.06729602813720703 seconds, Rows processed = 27950\n",
      "ST_FrechetDistance calculation: Duration = 0.21145319938659668 seconds, Rows processed = 27950\n",
      "Processing: Rock_in_seafloor_sample.geojson against Polymetallic_sulfide_deposits.geojson\n",
      "ST_Distance calculation: Duration = 0.07357001304626465 seconds, Rows processed = 650\n",
      "ST_HausdorffDistance calculation: Duration = 0.06966447830200195 seconds, Rows processed = 650\n",
      "ST_FrechetDistance calculation: Duration = 0.06506180763244629 seconds, Rows processed = 650\n",
      "Processing: Rock_in_seafloor_sample.geojson against Special_submarine_features.geojson\n",
      "ST_Distance calculation: Duration = 0.14636540412902832 seconds, Rows processed = 138050\n",
      "ST_HausdorffDistance calculation: Duration = 0.17868542671203613 seconds, Rows processed = 138050\n",
      "ST_FrechetDistance calculation: Duration = 0.45247411727905273 seconds, Rows processed = 138050\n",
      "Processing: Rock_in_seafloor_sample.geojson against Volcanoes.geojson\n",
      "ST_Distance calculation: Duration = 0.24286913871765137 seconds, Rows processed = 30500\n",
      "ST_HausdorffDistance calculation: Duration = 0.3186633586883545 seconds, Rows processed = 30500\n",
      "ST_FrechetDistance calculation: Duration = 0.0697016716003418 seconds, Rows processed = 30500\n",
      "Processing: Rock_in_seafloor_sample.geojson against WorldContinents.geojson\n",
      "ST_Distance calculation: Duration = 0.14418578147888184 seconds, Rows processed = 400\n",
      "ST_HausdorffDistance calculation: Duration = 0.18103432655334473 seconds, Rows processed = 400\n",
      "ST_FrechetDistance calculation: Duration = 0.1395120620727539 seconds, Rows processed = 400\n",
      "Processing: Rock_in_seafloor_sample.geojson against cb_2018_us_state_20m.json\n",
      "ST_Distance calculation: Duration = 0.6429510116577148 seconds, Rows processed = 2600\n",
      "ST_HausdorffDistance calculation: Duration = 0.07280826568603516 seconds, Rows processed = 2600\n",
      "ST_FrechetDistance calculation: Duration = 0.08624982833862305 seconds, Rows processed = 2600\n",
      "Processing: Special_submarine_features.geojson against AgriculturalArea.geojson\n"
     ]
    },
    {
     "name": "stderr",
     "output_type": "stream",
     "text": [
      "                                                                                \r"
     ]
    },
    {
     "name": "stdout",
     "output_type": "stream",
     "text": [
      "ST_Distance calculation: Duration = 0.6652967929840088 seconds, Rows processed = 8476270\n",
      "ST_HausdorffDistance calculation: Duration = 0.6085219383239746 seconds, Rows processed = 8476270\n"
     ]
    },
    {
     "name": "stderr",
     "output_type": "stream",
     "text": [
      "                                                                                \r"
     ]
    },
    {
     "name": "stdout",
     "output_type": "stream",
     "text": [
      "ST_FrechetDistance calculation: Duration = 1.9497458934783936 seconds, Rows processed = 8476270\n",
      "Processing: Special_submarine_features.geojson against CityBoundaries.geojson\n"
     ]
    },
    {
     "name": "stderr",
     "output_type": "stream",
     "text": [
      "                                                                                \r"
     ]
    },
    {
     "name": "stdout",
     "output_type": "stream",
     "text": [
      "ST_Distance calculation: Duration = 0.9897551536560059 seconds, Rows processed = 1380500\n"
     ]
    },
    {
     "name": "stderr",
     "output_type": "stream",
     "text": [
      "                                                                                \r"
     ]
    },
    {
     "name": "stdout",
     "output_type": "stream",
     "text": [
      "ST_HausdorffDistance calculation: Duration = 0.997204065322876 seconds, Rows processed = 1380500\n"
     ]
    },
    {
     "name": "stderr",
     "output_type": "stream",
     "text": [
      "                                                                                \r"
     ]
    },
    {
     "name": "stdout",
     "output_type": "stream",
     "text": [
      "ST_FrechetDistance calculation: Duration = 0.9825606346130371 seconds, Rows processed = 1380500\n",
      "Processing: Special_submarine_features.geojson against CountryTerritories.geojson\n"
     ]
    },
    {
     "name": "stderr",
     "output_type": "stream",
     "text": [
      "                                                                                \r"
     ]
    },
    {
     "name": "stdout",
     "output_type": "stream",
     "text": [
      "ST_Distance calculation: Duration = 0.9835951328277588 seconds, Rows processed = 706816\n",
      "ST_HausdorffDistance calculation: Duration = 0.283649206161499 seconds, Rows processed = 706816\n",
      "ST_FrechetDistance calculation: Duration = 0.31081175804138184 seconds, Rows processed = 706816\n",
      "Processing: Special_submarine_features.geojson against EcoRegions.geojson\n"
     ]
    },
    {
     "name": "stderr",
     "output_type": "stream",
     "text": [
      "                                                                                \r"
     ]
    },
    {
     "name": "stdout",
     "output_type": "stream",
     "text": [
      "ST_Distance calculation: Duration = 2.05119252204895 seconds, Rows processed = 3451250\n"
     ]
    },
    {
     "name": "stderr",
     "output_type": "stream",
     "text": [
      "                                                                                \r"
     ]
    },
    {
     "name": "stdout",
     "output_type": "stream",
     "text": [
      "ST_HausdorffDistance calculation: Duration = 2.0572941303253174 seconds, Rows processed = 3451250\n"
     ]
    },
    {
     "name": "stderr",
     "output_type": "stream",
     "text": [
      "                                                                                \r"
     ]
    },
    {
     "name": "stdout",
     "output_type": "stream",
     "text": [
      "ST_FrechetDistance calculation: Duration = 1.972097635269165 seconds, Rows processed = 3451250\n",
      "Processing: Special_submarine_features.geojson against GeographicRegions.geojson\n",
      "ST_Distance calculation: Duration = 0.2714691162109375 seconds, Rows processed = 2899050\n",
      "ST_HausdorffDistance calculation: Duration = 0.3295459747314453 seconds, Rows processed = 2899050\n",
      "ST_FrechetDistance calculation: Duration = 0.2924482822418213 seconds, Rows processed = 2899050\n",
      "Processing: Special_submarine_features.geojson against Areas_diapiric_structures.geojson\n",
      "ST_Distance calculation: Duration = 0.2516336441040039 seconds, Rows processed = 212597\n",
      "ST_HausdorffDistance calculation: Duration = 0.15511703491210938 seconds, Rows processed = 212597\n",
      "ST_FrechetDistance calculation: Duration = 0.20068836212158203 seconds, Rows processed = 212597\n",
      "Processing: Special_submarine_features.geojson against Bathymetry.geojson\n"
     ]
    },
    {
     "name": "stderr",
     "output_type": "stream",
     "text": [
      "                                                                                \r"
     ]
    },
    {
     "name": "stdout",
     "output_type": "stream",
     "text": [
      "ST_Distance calculation: Duration = 0.6832904815673828 seconds, Rows processed = 6764450\n",
      "ST_HausdorffDistance calculation: Duration = 0.673438310623169 seconds, Rows processed = 6764450\n",
      "ST_FrechetDistance calculation: Duration = 0.6732900142669678 seconds, Rows processed = 6764450\n",
      "Processing: Special_submarine_features.geojson against Calderas.geojson\n",
      "ST_Distance calculation: Duration = 0.1977684497833252 seconds, Rows processed = 198792\n",
      "ST_HausdorffDistance calculation: Duration = 0.6217050552368164 seconds, Rows processed = 198792\n",
      "ST_FrechetDistance calculation: Duration = 0.13472437858581543 seconds, Rows processed = 198792\n",
      "Processing: Special_submarine_features.geojson against Diapiric_trends.geojson\n",
      "ST_Distance calculation: Duration = 0.18476057052612305 seconds, Rows processed = 485936\n",
      "ST_HausdorffDistance calculation: Duration = 0.16020846366882324 seconds, Rows processed = 485936\n",
      "ST_FrechetDistance calculation: Duration = 0.14445757865905762 seconds, Rows processed = 485936\n",
      "Processing: Special_submarine_features.geojson against Diapirs.geojson\n",
      "ST_Distance calculation: Duration = 0.15981030464172363 seconds, Rows processed = 3738394\n",
      "ST_HausdorffDistance calculation: Duration = 0.15105152130126953 seconds, Rows processed = 3738394\n",
      "ST_FrechetDistance calculation: Duration = 0.595144510269165 seconds, Rows processed = 3738394\n",
      "Processing: Special_submarine_features.geojson against Dikes_sills.geojson\n",
      "ST_Distance calculation: Duration = 0.22632145881652832 seconds, Rows processed = 9956166\n"
     ]
    },
    {
     "name": "stderr",
     "output_type": "stream",
     "text": [
      "                                                                                \r"
     ]
    },
    {
     "name": "stdout",
     "output_type": "stream",
     "text": [
      "ST_HausdorffDistance calculation: Duration = 0.8686296939849854 seconds, Rows processed = 9956166\n",
      "ST_FrechetDistance calculation: Duration = 0.18537354469299316 seconds, Rows processed = 9956166\n",
      "Processing: Special_submarine_features.geojson against Faults.geojson\n",
      "ST_Distance calculation: Duration = 0.48133134841918945 seconds, Rows processed = 34302664\n",
      "ST_HausdorffDistance calculation: Duration = 0.5197429656982422 seconds, Rows processed = 34302664\n",
      "ST_FrechetDistance calculation: Duration = 0.5122907161712646 seconds, Rows processed = 34302664\n",
      "Processing: Special_submarine_features.geojson against Gas_fluid_seep.geojson\n",
      "ST_Distance calculation: Duration = 0.14340710639953613 seconds, Rows processed = 104918\n",
      "ST_HausdorffDistance calculation: Duration = 0.14778637886047363 seconds, Rows processed = 104918\n",
      "ST_FrechetDistance calculation: Duration = 0.13788509368896484 seconds, Rows processed = 104918\n",
      "Processing: Special_submarine_features.geojson against Gas_oil_seep.geojson\n",
      "ST_Distance calculation: Duration = 0.1347184181213379 seconds, Rows processed = 8283\n",
      "ST_HausdorffDistance calculation: Duration = 0.1676011085510254 seconds, Rows processed = 8283\n",
      "ST_FrechetDistance calculation: Duration = 0.18871116638183594 seconds, Rows processed = 8283\n",
      "Processing: Special_submarine_features.geojson against Geologic_contacts.geojson\n"
     ]
    },
    {
     "name": "stderr",
     "output_type": "stream",
     "text": [
      "                                                                                \r"
     ]
    },
    {
     "name": "stdout",
     "output_type": "stream",
     "text": [
      "ST_Distance calculation: Duration = 2.1385679244995117 seconds, Rows processed = 147315916\n"
     ]
    },
    {
     "name": "stderr",
     "output_type": "stream",
     "text": [
      "                                                                                \r"
     ]
    },
    {
     "name": "stdout",
     "output_type": "stream",
     "text": [
      "ST_HausdorffDistance calculation: Duration = 2.0762627124786377 seconds, Rows processed = 147315916\n"
     ]
    },
    {
     "name": "stderr",
     "output_type": "stream",
     "text": [
      "                                                                                \r"
     ]
    },
    {
     "name": "stdout",
     "output_type": "stream",
     "text": [
      "ST_FrechetDistance calculation: Duration = 2.1282966136932373 seconds, Rows processed = 147315916\n",
      "Processing: Special_submarine_features.geojson against Geologic_overprints.geojson\n",
      "ST_Distance calculation: Duration = 0.5784783363342285 seconds, Rows processed = 5168592\n"
     ]
    },
    {
     "name": "stderr",
     "output_type": "stream",
     "text": [
      "                                                                                \r"
     ]
    },
    {
     "name": "stdout",
     "output_type": "stream",
     "text": [
      "ST_HausdorffDistance calculation: Duration = 2.822516918182373 seconds, Rows processed = 5168592\n"
     ]
    },
    {
     "name": "stderr",
     "output_type": "stream",
     "text": [
      "                                                                                \r"
     ]
    },
    {
     "name": "stdout",
     "output_type": "stream",
     "text": [
      "ST_FrechetDistance calculation: Duration = 2.8137640953063965 seconds, Rows processed = 5168592\n",
      "Processing: Special_submarine_features.geojson against Geologic_units.geojson\n"
     ]
    },
    {
     "name": "stderr",
     "output_type": "stream",
     "text": [
      "                                                                                \r"
     ]
    },
    {
     "name": "stdout",
     "output_type": "stream",
     "text": [
      "ST_Distance calculation: Duration = 4.888573884963989 seconds, Rows processed = 109965108\n"
     ]
    },
    {
     "name": "stderr",
     "output_type": "stream",
     "text": [
      "                                                                                \r"
     ]
    },
    {
     "name": "stdout",
     "output_type": "stream",
     "text": [
      "ST_HausdorffDistance calculation: Duration = 4.814690113067627 seconds, Rows processed = 109965108\n"
     ]
    },
    {
     "name": "stderr",
     "output_type": "stream",
     "text": [
      "                                                                                \r"
     ]
    },
    {
     "name": "stdout",
     "output_type": "stream",
     "text": [
      "ST_FrechetDistance calculation: Duration = 5.277651309967041 seconds, Rows processed = 109965108\n",
      "Processing: Special_submarine_features.geojson against Glaciation_extents.geojson\n",
      "ST_Distance calculation: Duration = 0.14789724349975586 seconds, Rows processed = 69025\n",
      "ST_HausdorffDistance calculation: Duration = 0.13931512832641602 seconds, Rows processed = 69025\n",
      "ST_FrechetDistance calculation: Duration = 0.17380881309509277 seconds, Rows processed = 69025\n",
      "Processing: Special_submarine_features.geojson against Hydrothermal_vents.geojson\n",
      "ST_Distance calculation: Duration = 0.5846676826477051 seconds, Rows processed = 135289\n",
      "ST_HausdorffDistance calculation: Duration = 0.13715600967407227 seconds, Rows processed = 135289\n",
      "ST_FrechetDistance calculation: Duration = 0.15819692611694336 seconds, Rows processed = 135289\n",
      "Processing: Special_submarine_features.geojson against Impact_structure_great_10_KM.geojson\n",
      "ST_Distance calculation: Duration = 0.1453702449798584 seconds, Rows processed = 85591\n",
      "ST_HausdorffDistance calculation: Duration = 0.1817018985748291 seconds, Rows processed = 85591\n",
      "ST_FrechetDistance calculation: Duration = 0.15228486061096191 seconds, Rows processed = 85591\n",
      "Processing: Special_submarine_features.geojson against Impact_structure_less_10_KM.geojson\n",
      "ST_Distance calculation: Duration = 0.155625581741333 seconds, Rows processed = 69025\n",
      "ST_HausdorffDistance calculation: Duration = 0.14598679542541504 seconds, Rows processed = 69025\n",
      "ST_FrechetDistance calculation: Duration = 0.15831255912780762 seconds, Rows processed = 69025\n",
      "Processing: Special_submarine_features.geojson against Maganifeorus_deposits.geojson\n",
      "ST_Distance calculation: Duration = 0.14867258071899414 seconds, Rows processed = 1482657\n",
      "ST_HausdorffDistance calculation: Duration = 0.6010832786560059 seconds, Rows processed = 1482657\n",
      "ST_FrechetDistance calculation: Duration = 0.15334677696228027 seconds, Rows processed = 1482657\n",
      "Processing: Special_submarine_features.geojson against Phosphate_nodules_pavement.geojson\n",
      "ST_Distance calculation: Duration = 0.1398160457611084 seconds, Rows processed = 1543399\n",
      "ST_HausdorffDistance calculation: Duration = 0.14902019500732422 seconds, Rows processed = 1543399\n",
      "ST_FrechetDistance calculation: Duration = 0.13453435897827148 seconds, Rows processed = 1543399\n",
      "Processing: Special_submarine_features.geojson against Polymetallic_sulfide_deposits.geojson\n",
      "ST_Distance calculation: Duration = 0.14287090301513672 seconds, Rows processed = 35893\n",
      "ST_HausdorffDistance calculation: Duration = 0.14100909233093262 seconds, Rows processed = 35893\n",
      "ST_FrechetDistance calculation: Duration = 0.16995549201965332 seconds, Rows processed = 35893\n",
      "Processing: Special_submarine_features.geojson against Rock_in_seafloor_sample.geojson\n",
      "ST_Distance calculation: Duration = 0.13672590255737305 seconds, Rows processed = 138050\n",
      "ST_HausdorffDistance calculation: Duration = 0.15860462188720703 seconds, Rows processed = 138050\n",
      "ST_FrechetDistance calculation: Duration = 0.16682648658752441 seconds, Rows processed = 138050\n",
      "Processing: Special_submarine_features.geojson against Volcanoes.geojson\n",
      "ST_Distance calculation: Duration = 0.1432037353515625 seconds, Rows processed = 1684210\n",
      "ST_HausdorffDistance calculation: Duration = 0.14408326148986816 seconds, Rows processed = 1684210\n",
      "ST_FrechetDistance calculation: Duration = 0.5977673530578613 seconds, Rows processed = 1684210\n",
      "Processing: Special_submarine_features.geojson against WorldContinents.geojson\n",
      "ST_Distance calculation: Duration = 0.2322673797607422 seconds, Rows processed = 22088\n",
      "ST_HausdorffDistance calculation: Duration = 0.23133182525634766 seconds, Rows processed = 22088\n",
      "ST_FrechetDistance calculation: Duration = 1.1562535762786865 seconds, Rows processed = 22088\n",
      "Processing: Special_submarine_features.geojson against cb_2018_us_state_20m.json\n",
      "ST_Distance calculation: Duration = 0.16254091262817383 seconds, Rows processed = 143572\n",
      "ST_HausdorffDistance calculation: Duration = 0.16482996940612793 seconds, Rows processed = 143572\n",
      "ST_FrechetDistance calculation: Duration = 0.15142202377319336 seconds, Rows processed = 143572\n",
      "Processing: Volcanoes.geojson against AgriculturalArea.geojson\n"
     ]
    },
    {
     "name": "stderr",
     "output_type": "stream",
     "text": [
      "                                                                                \r"
     ]
    },
    {
     "name": "stdout",
     "output_type": "stream",
     "text": [
      "ST_Distance calculation: Duration = 5.900598764419556 seconds, Rows processed = 1872700\n"
     ]
    },
    {
     "name": "stderr",
     "output_type": "stream",
     "text": [
      "                                                                                \r"
     ]
    },
    {
     "name": "stdout",
     "output_type": "stream",
     "text": [
      "ST_HausdorffDistance calculation: Duration = 0.6648502349853516 seconds, Rows processed = 1872700\n"
     ]
    },
    {
     "name": "stderr",
     "output_type": "stream",
     "text": [
      "                                                                                \r"
     ]
    },
    {
     "name": "stdout",
     "output_type": "stream",
     "text": [
      "ST_FrechetDistance calculation: Duration = 5.807725429534912 seconds, Rows processed = 1872700\n",
      "Processing: Volcanoes.geojson against CityBoundaries.geojson\n"
     ]
    },
    {
     "name": "stderr",
     "output_type": "stream",
     "text": [
      "                                                                                \r"
     ]
    },
    {
     "name": "stdout",
     "output_type": "stream",
     "text": [
      "ST_Distance calculation: Duration = 5.89619779586792 seconds, Rows processed = 305000\n"
     ]
    },
    {
     "name": "stderr",
     "output_type": "stream",
     "text": [
      "                                                                                \r"
     ]
    },
    {
     "name": "stdout",
     "output_type": "stream",
     "text": [
      "ST_HausdorffDistance calculation: Duration = 0.8845112323760986 seconds, Rows processed = 305000\n"
     ]
    },
    {
     "name": "stderr",
     "output_type": "stream",
     "text": [
      "                                                                                \r"
     ]
    },
    {
     "name": "stdout",
     "output_type": "stream",
     "text": [
      "ST_FrechetDistance calculation: Duration = 5.891073226928711 seconds, Rows processed = 305000\n",
      "Processing: Volcanoes.geojson against CountryTerritories.geojson\n"
     ]
    },
    {
     "name": "stderr",
     "output_type": "stream",
     "text": [
      "                                                                                \r"
     ]
    },
    {
     "name": "stdout",
     "output_type": "stream",
     "text": [
      "ST_Distance calculation: Duration = 0.8342368602752686 seconds, Rows processed = 156160\n",
      "ST_HausdorffDistance calculation: Duration = 0.20687389373779297 seconds, Rows processed = 156160\n",
      "ST_FrechetDistance calculation: Duration = 0.23412108421325684 seconds, Rows processed = 156160\n",
      "Processing: Volcanoes.geojson against EcoRegions.geojson\n"
     ]
    },
    {
     "name": "stderr",
     "output_type": "stream",
     "text": [
      "                                                                                \r"
     ]
    },
    {
     "name": "stdout",
     "output_type": "stream",
     "text": [
      "ST_Distance calculation: Duration = 2.00931978225708 seconds, Rows processed = 762500\n"
     ]
    },
    {
     "name": "stderr",
     "output_type": "stream",
     "text": [
      "                                                                                \r"
     ]
    },
    {
     "name": "stdout",
     "output_type": "stream",
     "text": [
      "ST_HausdorffDistance calculation: Duration = 1.9462013244628906 seconds, Rows processed = 762500\n"
     ]
    },
    {
     "name": "stderr",
     "output_type": "stream",
     "text": [
      "                                                                                \r"
     ]
    },
    {
     "name": "stdout",
     "output_type": "stream",
     "text": [
      "ST_FrechetDistance calculation: Duration = 1.8809819221496582 seconds, Rows processed = 762500\n",
      "Processing: Volcanoes.geojson against GeographicRegions.geojson\n",
      "ST_Distance calculation: Duration = 0.21579861640930176 seconds, Rows processed = 640500\n",
      "ST_HausdorffDistance calculation: Duration = 0.19962739944458008 seconds, Rows processed = 640500\n",
      "ST_FrechetDistance calculation: Duration = 0.2008228302001953 seconds, Rows processed = 640500\n",
      "Processing: Volcanoes.geojson against Areas_diapiric_structures.geojson\n",
      "ST_Distance calculation: Duration = 0.08269119262695312 seconds, Rows processed = 46970\n",
      "ST_HausdorffDistance calculation: Duration = 0.0962364673614502 seconds, Rows processed = 46970\n",
      "ST_FrechetDistance calculation: Duration = 0.08976507186889648 seconds, Rows processed = 46970\n",
      "Processing: Volcanoes.geojson against Bathymetry.geojson\n",
      "ST_Distance calculation: Duration = 0.5739932060241699 seconds, Rows processed = 1494500\n",
      "ST_HausdorffDistance calculation: Duration = 0.5952968597412109 seconds, Rows processed = 1494500\n",
      "ST_FrechetDistance calculation: Duration = 0.6025652885437012 seconds, Rows processed = 1494500\n",
      "Processing: Volcanoes.geojson against Calderas.geojson\n",
      "ST_Distance calculation: Duration = 0.09019637107849121 seconds, Rows processed = 43920\n",
      "ST_HausdorffDistance calculation: Duration = 0.06628274917602539 seconds, Rows processed = 43920\n",
      "ST_FrechetDistance calculation: Duration = 0.06583642959594727 seconds, Rows processed = 43920\n",
      "Processing: Volcanoes.geojson against Diapiric_trends.geojson\n",
      "ST_Distance calculation: Duration = 0.08372712135314941 seconds, Rows processed = 107360\n",
      "ST_HausdorffDistance calculation: Duration = 0.13776540756225586 seconds, Rows processed = 107360\n",
      "ST_FrechetDistance calculation: Duration = 0.09336638450622559 seconds, Rows processed = 107360\n",
      "Processing: Volcanoes.geojson against Diapirs.geojson\n",
      "ST_Distance calculation: Duration = 0.0765998363494873 seconds, Rows processed = 825940\n",
      "ST_HausdorffDistance calculation: Duration = 0.06973552703857422 seconds, Rows processed = 825940\n",
      "ST_FrechetDistance calculation: Duration = 0.07044053077697754 seconds, Rows processed = 825940\n",
      "Processing: Volcanoes.geojson against Dikes_sills.geojson\n",
      "ST_Distance calculation: Duration = 0.3474855422973633 seconds, Rows processed = 2199660\n",
      "ST_HausdorffDistance calculation: Duration = 0.11930394172668457 seconds, Rows processed = 2199660\n",
      "ST_FrechetDistance calculation: Duration = 0.10036516189575195 seconds, Rows processed = 2199660\n",
      "Processing: Volcanoes.geojson against Faults.geojson\n",
      "ST_Distance calculation: Duration = 0.4098951816558838 seconds, Rows processed = 7578640\n",
      "ST_HausdorffDistance calculation: Duration = 0.375504732131958 seconds, Rows processed = 7578640\n",
      "ST_FrechetDistance calculation: Duration = 0.4189720153808594 seconds, Rows processed = 7578640\n",
      "Processing: Volcanoes.geojson against Gas_fluid_seep.geojson\n",
      "ST_Distance calculation: Duration = 0.08155155181884766 seconds, Rows processed = 23180\n",
      "ST_HausdorffDistance calculation: Duration = 0.06960868835449219 seconds, Rows processed = 23180\n",
      "ST_FrechetDistance calculation: Duration = 0.06746077537536621 seconds, Rows processed = 23180\n",
      "Processing: Volcanoes.geojson against Gas_oil_seep.geojson\n",
      "ST_Distance calculation: Duration = 0.08616042137145996 seconds, Rows processed = 1830\n",
      "ST_HausdorffDistance calculation: Duration = 0.07103109359741211 seconds, Rows processed = 1830\n",
      "ST_FrechetDistance calculation: Duration = 0.09621715545654297 seconds, Rows processed = 1830\n",
      "Processing: Volcanoes.geojson against Geologic_contacts.geojson\n"
     ]
    },
    {
     "name": "stderr",
     "output_type": "stream",
     "text": [
      "                                                                                \r"
     ]
    },
    {
     "name": "stdout",
     "output_type": "stream",
     "text": [
      "ST_Distance calculation: Duration = 1.9834332466125488 seconds, Rows processed = 32547160\n"
     ]
    },
    {
     "name": "stderr",
     "output_type": "stream",
     "text": [
      "                                                                                \r"
     ]
    },
    {
     "name": "stdout",
     "output_type": "stream",
     "text": [
      "ST_HausdorffDistance calculation: Duration = 11.81968903541565 seconds, Rows processed = 32547160\n"
     ]
    },
    {
     "name": "stderr",
     "output_type": "stream",
     "text": [
      "                                                                                \r"
     ]
    },
    {
     "name": "stdout",
     "output_type": "stream",
     "text": [
      "ST_FrechetDistance calculation: Duration = 2.5897624492645264 seconds, Rows processed = 32547160\n",
      "Processing: Volcanoes.geojson against Geologic_overprints.geojson\n",
      "ST_Distance calculation: Duration = 0.4735410213470459 seconds, Rows processed = 1141920\n",
      "ST_HausdorffDistance calculation: Duration = 0.5043771266937256 seconds, Rows processed = 1141920\n",
      "ST_FrechetDistance calculation: Duration = 0.4786086082458496 seconds, Rows processed = 1141920\n",
      "Processing: Volcanoes.geojson against Geologic_units.geojson\n"
     ]
    },
    {
     "name": "stderr",
     "output_type": "stream",
     "text": [
      "                                                                                \r"
     ]
    },
    {
     "name": "stdout",
     "output_type": "stream",
     "text": [
      "ST_Distance calculation: Duration = 4.632190465927124 seconds, Rows processed = 24295080\n"
     ]
    },
    {
     "name": "stderr",
     "output_type": "stream",
     "text": [
      "                                                                                \r"
     ]
    },
    {
     "name": "stdout",
     "output_type": "stream",
     "text": [
      "ST_HausdorffDistance calculation: Duration = 4.717121601104736 seconds, Rows processed = 24295080\n"
     ]
    },
    {
     "name": "stderr",
     "output_type": "stream",
     "text": [
      "                                                                                \r"
     ]
    },
    {
     "name": "stdout",
     "output_type": "stream",
     "text": [
      "ST_FrechetDistance calculation: Duration = 4.848015069961548 seconds, Rows processed = 24295080\n",
      "Processing: Volcanoes.geojson against Glaciation_extents.geojson\n",
      "ST_Distance calculation: Duration = 0.10691571235656738 seconds, Rows processed = 15250\n",
      "ST_HausdorffDistance calculation: Duration = 0.07713627815246582 seconds, Rows processed = 15250\n",
      "ST_FrechetDistance calculation: Duration = 0.07757186889648438 seconds, Rows processed = 15250\n",
      "Processing: Volcanoes.geojson against Hydrothermal_vents.geojson\n",
      "ST_Distance calculation: Duration = 0.06261324882507324 seconds, Rows processed = 29890\n",
      "ST_HausdorffDistance calculation: Duration = 0.07137274742126465 seconds, Rows processed = 29890\n",
      "ST_FrechetDistance calculation: Duration = 0.06154179573059082 seconds, Rows processed = 29890\n",
      "Processing: Volcanoes.geojson against Impact_structure_great_10_KM.geojson\n",
      "ST_Distance calculation: Duration = 0.07224154472351074 seconds, Rows processed = 18910\n",
      "ST_HausdorffDistance calculation: Duration = 0.07749104499816895 seconds, Rows processed = 18910\n",
      "ST_FrechetDistance calculation: Duration = 0.07509994506835938 seconds, Rows processed = 18910\n",
      "Processing: Volcanoes.geojson against Impact_structure_less_10_KM.geojson\n",
      "ST_Distance calculation: Duration = 0.05962514877319336 seconds, Rows processed = 15250\n",
      "ST_HausdorffDistance calculation: Duration = 0.07954144477844238 seconds, Rows processed = 15250\n",
      "ST_FrechetDistance calculation: Duration = 0.06813430786132812 seconds, Rows processed = 15250\n",
      "Processing: Volcanoes.geojson against Maganifeorus_deposits.geojson\n",
      "ST_Distance calculation: Duration = 0.06986808776855469 seconds, Rows processed = 327570\n",
      "ST_HausdorffDistance calculation: Duration = 0.09235715866088867 seconds, Rows processed = 327570\n",
      "ST_FrechetDistance calculation: Duration = 0.10344982147216797 seconds, Rows processed = 327570\n",
      "Processing: Volcanoes.geojson against Phosphate_nodules_pavement.geojson\n",
      "ST_Distance calculation: Duration = 0.07845950126647949 seconds, Rows processed = 340990\n",
      "ST_HausdorffDistance calculation: Duration = 0.06566882133483887 seconds, Rows processed = 340990\n",
      "ST_FrechetDistance calculation: Duration = 0.07886266708374023 seconds, Rows processed = 340990\n",
      "Processing: Volcanoes.geojson against Polymetallic_sulfide_deposits.geojson\n",
      "ST_Distance calculation: Duration = 0.06797504425048828 seconds, Rows processed = 7930\n",
      "ST_HausdorffDistance calculation: Duration = 0.1134803295135498 seconds, Rows processed = 7930\n",
      "ST_FrechetDistance calculation: Duration = 0.0919809341430664 seconds, Rows processed = 7930\n",
      "Processing: Volcanoes.geojson against Rock_in_seafloor_sample.geojson\n",
      "ST_Distance calculation: Duration = 0.07498502731323242 seconds, Rows processed = 30500\n",
      "ST_HausdorffDistance calculation: Duration = 0.06134510040283203 seconds, Rows processed = 30500\n",
      "ST_FrechetDistance calculation: Duration = 0.09646964073181152 seconds, Rows processed = 30500\n",
      "Processing: Volcanoes.geojson against Special_submarine_features.geojson\n"
     ]
    },
    {
     "name": "stderr",
     "output_type": "stream",
     "text": [
      "                                                                                \r"
     ]
    },
    {
     "name": "stdout",
     "output_type": "stream",
     "text": [
      "ST_Distance calculation: Duration = 0.6287586688995361 seconds, Rows processed = 1684210\n",
      "ST_HausdorffDistance calculation: Duration = 0.16546058654785156 seconds, Rows processed = 1684210\n",
      "ST_FrechetDistance calculation: Duration = 0.16240429878234863 seconds, Rows processed = 1684210\n",
      "Processing: Volcanoes.geojson against WorldContinents.geojson\n",
      "ST_Distance calculation: Duration = 0.17062830924987793 seconds, Rows processed = 4880\n",
      "ST_HausdorffDistance calculation: Duration = 0.16221356391906738 seconds, Rows processed = 4880\n",
      "ST_FrechetDistance calculation: Duration = 0.15173959732055664 seconds, Rows processed = 4880\n",
      "Processing: Volcanoes.geojson against cb_2018_us_state_20m.json\n",
      "ST_Distance calculation: Duration = 0.0896902084350586 seconds, Rows processed = 31720\n",
      "ST_HausdorffDistance calculation: Duration = 0.0712730884552002 seconds, Rows processed = 31720\n",
      "ST_FrechetDistance calculation: Duration = 0.09993219375610352 seconds, Rows processed = 31720\n",
      "Processing: WorldContinents.geojson against AgriculturalArea.geojson\n"
     ]
    },
    {
     "name": "stderr",
     "output_type": "stream",
     "text": [
      "                                                                                \r"
     ]
    },
    {
     "name": "stdout",
     "output_type": "stream",
     "text": [
      "ST_Distance calculation: Duration = 0.8256847858428955 seconds, Rows processed = 24560\n"
     ]
    },
    {
     "name": "stderr",
     "output_type": "stream",
     "text": [
      "                                                                                \r"
     ]
    },
    {
     "name": "stdout",
     "output_type": "stream",
     "text": [
      "ST_HausdorffDistance calculation: Duration = 0.8983278274536133 seconds, Rows processed = 24560\n",
      "ST_FrechetDistance calculation: Duration = 0.6844878196716309 seconds, Rows processed = 24560\n",
      "Processing: WorldContinents.geojson against CityBoundaries.geojson\n"
     ]
    },
    {
     "name": "stderr",
     "output_type": "stream",
     "text": [
      "                                                                                \r"
     ]
    },
    {
     "name": "stdout",
     "output_type": "stream",
     "text": [
      "ST_Distance calculation: Duration = 0.9326014518737793 seconds, Rows processed = 4000\n"
     ]
    },
    {
     "name": "stderr",
     "output_type": "stream",
     "text": [
      "                                                                                \r"
     ]
    },
    {
     "name": "stdout",
     "output_type": "stream",
     "text": [
      "ST_HausdorffDistance calculation: Duration = 0.9896337985992432 seconds, Rows processed = 4000\n"
     ]
    },
    {
     "name": "stderr",
     "output_type": "stream",
     "text": [
      "                                                                                \r"
     ]
    },
    {
     "name": "stdout",
     "output_type": "stream",
     "text": [
      "ST_FrechetDistance calculation: Duration = 1.0089373588562012 seconds, Rows processed = 4000\n",
      "Processing: WorldContinents.geojson against CountryTerritories.geojson\n",
      "ST_Distance calculation: Duration = 0.2693958282470703 seconds, Rows processed = 2048\n",
      "ST_HausdorffDistance calculation: Duration = 0.2754971981048584 seconds, Rows processed = 2048\n"
     ]
    },
    {
     "name": "stderr",
     "output_type": "stream",
     "text": [
      "                                                                                \r"
     ]
    },
    {
     "name": "stdout",
     "output_type": "stream",
     "text": [
      "ST_FrechetDistance calculation: Duration = 0.8907413482666016 seconds, Rows processed = 2048\n",
      "Processing: WorldContinents.geojson against EcoRegions.geojson\n"
     ]
    },
    {
     "name": "stderr",
     "output_type": "stream",
     "text": [
      "                                                                                \r"
     ]
    },
    {
     "name": "stdout",
     "output_type": "stream",
     "text": [
      "ST_Distance calculation: Duration = 2.5363070964813232 seconds, Rows processed = 10000\n"
     ]
    },
    {
     "name": "stderr",
     "output_type": "stream",
     "text": [
      "                                                                                \r"
     ]
    },
    {
     "name": "stdout",
     "output_type": "stream",
     "text": [
      "ST_HausdorffDistance calculation: Duration = 1.9350361824035645 seconds, Rows processed = 10000\n"
     ]
    },
    {
     "name": "stderr",
     "output_type": "stream",
     "text": [
      "                                                                                \r"
     ]
    },
    {
     "name": "stdout",
     "output_type": "stream",
     "text": [
      "ST_FrechetDistance calculation: Duration = 12.224940299987793 seconds, Rows processed = 10000\n",
      "Processing: WorldContinents.geojson against GeographicRegions.geojson\n",
      "ST_Distance calculation: Duration = 0.2726154327392578 seconds, Rows processed = 8400\n",
      "ST_HausdorffDistance calculation: Duration = 0.2810211181640625 seconds, Rows processed = 8400\n",
      "ST_FrechetDistance calculation: Duration = 0.2713339328765869 seconds, Rows processed = 8400\n",
      "Processing: WorldContinents.geojson against Areas_diapiric_structures.geojson\n",
      "ST_Distance calculation: Duration = 0.23058557510375977 seconds, Rows processed = 616\n",
      "ST_HausdorffDistance calculation: Duration = 0.23038530349731445 seconds, Rows processed = 616\n",
      "ST_FrechetDistance calculation: Duration = 0.1595747470855713 seconds, Rows processed = 616\n",
      "Processing: WorldContinents.geojson against Bathymetry.geojson\n",
      "ST_Distance calculation: Duration = 0.6827743053436279 seconds, Rows processed = 19600\n",
      "ST_HausdorffDistance calculation: Duration = 0.6730644702911377 seconds, Rows processed = 19600\n"
     ]
    },
    {
     "name": "stderr",
     "output_type": "stream",
     "text": [
      "                                                                                \r"
     ]
    },
    {
     "name": "stdout",
     "output_type": "stream",
     "text": [
      "ST_FrechetDistance calculation: Duration = 1.2475924491882324 seconds, Rows processed = 19600\n",
      "Processing: WorldContinents.geojson against Calderas.geojson\n",
      "ST_Distance calculation: Duration = 0.14418482780456543 seconds, Rows processed = 576\n"
     ]
    },
    {
     "name": "stderr",
     "output_type": "stream",
     "text": [
      "                                                                                \r"
     ]
    },
    {
     "name": "stdout",
     "output_type": "stream",
     "text": [
      "ST_HausdorffDistance calculation: Duration = 1.4143364429473877 seconds, Rows processed = 576\n"
     ]
    },
    {
     "name": "stderr",
     "output_type": "stream",
     "text": [
      "                                                                                \r"
     ]
    },
    {
     "name": "stdout",
     "output_type": "stream",
     "text": [
      "ST_FrechetDistance calculation: Duration = 1.6852595806121826 seconds, Rows processed = 576\n",
      "Processing: WorldContinents.geojson against Diapiric_trends.geojson\n"
     ]
    },
    {
     "name": "stderr",
     "output_type": "stream",
     "text": [
      "                                                                                \r"
     ]
    },
    {
     "name": "stdout",
     "output_type": "stream",
     "text": [
      "ST_Distance calculation: Duration = 1.2650105953216553 seconds, Rows processed = 1408\n",
      "ST_HausdorffDistance calculation: Duration = 0.6252429485321045 seconds, Rows processed = 1408\n"
     ]
    },
    {
     "name": "stderr",
     "output_type": "stream",
     "text": [
      "                                                                                \r"
     ]
    },
    {
     "name": "stdout",
     "output_type": "stream",
     "text": [
      "ST_FrechetDistance calculation: Duration = 1.0688202381134033 seconds, Rows processed = 1408\n",
      "Processing: WorldContinents.geojson against Diapirs.geojson\n"
     ]
    },
    {
     "name": "stderr",
     "output_type": "stream",
     "text": [
      "                                                                                \r"
     ]
    },
    {
     "name": "stdout",
     "output_type": "stream",
     "text": [
      "ST_Distance calculation: Duration = 1.1028025150299072 seconds, Rows processed = 10832\n"
     ]
    },
    {
     "name": "stderr",
     "output_type": "stream",
     "text": [
      "                                                                                \r"
     ]
    },
    {
     "name": "stdout",
     "output_type": "stream",
     "text": [
      "ST_HausdorffDistance calculation: Duration = 1.6710524559020996 seconds, Rows processed = 10832\n"
     ]
    },
    {
     "name": "stderr",
     "output_type": "stream",
     "text": [
      "                                                                                \r"
     ]
    },
    {
     "name": "stdout",
     "output_type": "stream",
     "text": [
      "ST_FrechetDistance calculation: Duration = 1.1320042610168457 seconds, Rows processed = 10832\n",
      "Processing: WorldContinents.geojson against Dikes_sills.geojson\n",
      "ST_Distance calculation: Duration = 0.18100309371948242 seconds, Rows processed = 28848\n"
     ]
    },
    {
     "name": "stderr",
     "output_type": "stream",
     "text": [
      "                                                                                \r"
     ]
    },
    {
     "name": "stdout",
     "output_type": "stream",
     "text": [
      "ST_HausdorffDistance calculation: Duration = 1.1009869575500488 seconds, Rows processed = 28848\n",
      "ST_FrechetDistance calculation: Duration = 0.18404817581176758 seconds, Rows processed = 28848\n",
      "Processing: WorldContinents.geojson against Faults.geojson\n",
      "ST_Distance calculation: Duration = 0.4766347408294678 seconds, Rows processed = 99392\n"
     ]
    },
    {
     "name": "stderr",
     "output_type": "stream",
     "text": [
      "                                                                                \r"
     ]
    },
    {
     "name": "stdout",
     "output_type": "stream",
     "text": [
      "ST_HausdorffDistance calculation: Duration = 5.081113576889038 seconds, Rows processed = 99392\n",
      "ST_FrechetDistance calculation: Duration = 0.4651908874511719 seconds, Rows processed = 99392\n",
      "Processing: WorldContinents.geojson against Gas_fluid_seep.geojson\n",
      "ST_Distance calculation: Duration = 0.6355936527252197 seconds, Rows processed = 304\n",
      "ST_HausdorffDistance calculation: Duration = 0.13938426971435547 seconds, Rows processed = 304\n",
      "ST_FrechetDistance calculation: Duration = 0.22983264923095703 seconds, Rows processed = 304\n",
      "Processing: WorldContinents.geojson against Gas_oil_seep.geojson\n"
     ]
    },
    {
     "name": "stderr",
     "output_type": "stream",
     "text": [
      "                                                                                \r"
     ]
    },
    {
     "name": "stdout",
     "output_type": "stream",
     "text": [
      "ST_Distance calculation: Duration = 1.1130547523498535 seconds, Rows processed = 24\n"
     ]
    },
    {
     "name": "stderr",
     "output_type": "stream",
     "text": [
      "                                                                                \r"
     ]
    },
    {
     "name": "stdout",
     "output_type": "stream",
     "text": [
      "ST_HausdorffDistance calculation: Duration = 1.0871961116790771 seconds, Rows processed = 24\n",
      "ST_FrechetDistance calculation: Duration = 0.14139413833618164 seconds, Rows processed = 24\n",
      "Processing: WorldContinents.geojson against Geologic_contacts.geojson\n"
     ]
    },
    {
     "name": "stderr",
     "output_type": "stream",
     "text": [
      "                                                                                \r"
     ]
    },
    {
     "name": "stdout",
     "output_type": "stream",
     "text": [
      "ST_Distance calculation: Duration = 2.695192813873291 seconds, Rows processed = 426848\n"
     ]
    },
    {
     "name": "stderr",
     "output_type": "stream",
     "text": [
      "                                                                                \r"
     ]
    },
    {
     "name": "stdout",
     "output_type": "stream",
     "text": [
      "ST_HausdorffDistance calculation: Duration = 3.750885009765625 seconds, Rows processed = 426848\n"
     ]
    },
    {
     "name": "stderr",
     "output_type": "stream",
     "text": [
      "                                                                                \r"
     ]
    },
    {
     "name": "stdout",
     "output_type": "stream",
     "text": [
      "ST_FrechetDistance calculation: Duration = 2.004941701889038 seconds, Rows processed = 426848\n",
      "Processing: WorldContinents.geojson against Geologic_overprints.geojson\n",
      "ST_Distance calculation: Duration = 0.5463130474090576 seconds, Rows processed = 14976\n",
      "ST_HausdorffDistance calculation: Duration = 0.5868163108825684 seconds, Rows processed = 14976\n"
     ]
    },
    {
     "name": "stderr",
     "output_type": "stream",
     "text": [
      "                                                                                \r"
     ]
    },
    {
     "name": "stdout",
     "output_type": "stream",
     "text": [
      "ST_FrechetDistance calculation: Duration = 1.1121172904968262 seconds, Rows processed = 14976\n",
      "Processing: WorldContinents.geojson against Geologic_units.geojson\n"
     ]
    },
    {
     "name": "stderr",
     "output_type": "stream",
     "text": [
      "                                                                                \r"
     ]
    },
    {
     "name": "stdout",
     "output_type": "stream",
     "text": [
      "ST_Distance calculation: Duration = 4.7478532791137695 seconds, Rows processed = 318624\n"
     ]
    },
    {
     "name": "stderr",
     "output_type": "stream",
     "text": [
      "                                                                                \r"
     ]
    },
    {
     "name": "stdout",
     "output_type": "stream",
     "text": [
      "ST_HausdorffDistance calculation: Duration = 4.610883951187134 seconds, Rows processed = 318624\n"
     ]
    },
    {
     "name": "stderr",
     "output_type": "stream",
     "text": [
      "                                                                                \r"
     ]
    },
    {
     "name": "stdout",
     "output_type": "stream",
     "text": [
      "ST_FrechetDistance calculation: Duration = 16.973044872283936 seconds, Rows processed = 318624\n",
      "Processing: WorldContinents.geojson against Glaciation_extents.geojson\n",
      "ST_Distance calculation: Duration = 0.38881897926330566 seconds, Rows processed = 200\n",
      "ST_HausdorffDistance calculation: Duration = 0.6686398983001709 seconds, Rows processed = 200\n"
     ]
    },
    {
     "name": "stderr",
     "output_type": "stream",
     "text": [
      "                                                                                \r"
     ]
    },
    {
     "name": "stdout",
     "output_type": "stream",
     "text": [
      "ST_FrechetDistance calculation: Duration = 1.5476775169372559 seconds, Rows processed = 200\n",
      "Processing: WorldContinents.geojson against Hydrothermal_vents.geojson\n"
     ]
    },
    {
     "name": "stderr",
     "output_type": "stream",
     "text": [
      "                                                                                \r"
     ]
    },
    {
     "name": "stdout",
     "output_type": "stream",
     "text": [
      "ST_Distance calculation: Duration = 1.255310297012329 seconds, Rows processed = 392\n",
      "ST_HausdorffDistance calculation: Duration = 0.15062785148620605 seconds, Rows processed = 392\n",
      "ST_FrechetDistance calculation: Duration = 0.13717341423034668 seconds, Rows processed = 392\n",
      "Processing: WorldContinents.geojson against Impact_structure_great_10_KM.geojson\n"
     ]
    },
    {
     "name": "stderr",
     "output_type": "stream",
     "text": [
      "                                                                                \r"
     ]
    },
    {
     "name": "stdout",
     "output_type": "stream",
     "text": [
      "ST_Distance calculation: Duration = 1.0851714611053467 seconds, Rows processed = 248\n",
      "ST_HausdorffDistance calculation: Duration = 0.6434111595153809 seconds, Rows processed = 248\n"
     ]
    },
    {
     "name": "stderr",
     "output_type": "stream",
     "text": [
      "                                                                                \r"
     ]
    },
    {
     "name": "stdout",
     "output_type": "stream",
     "text": [
      "ST_FrechetDistance calculation: Duration = 0.9768495559692383 seconds, Rows processed = 248\n",
      "Processing: WorldContinents.geojson against Impact_structure_less_10_KM.geojson\n",
      "ST_Distance calculation: Duration = 0.1387641429901123 seconds, Rows processed = 200\n",
      "ST_HausdorffDistance calculation: Duration = 0.18733787536621094 seconds, Rows processed = 200\n"
     ]
    },
    {
     "name": "stderr",
     "output_type": "stream",
     "text": [
      "                                                                                \r"
     ]
    },
    {
     "name": "stdout",
     "output_type": "stream",
     "text": [
      "ST_FrechetDistance calculation: Duration = 1.5915369987487793 seconds, Rows processed = 200\n",
      "Processing: WorldContinents.geojson against Maganifeorus_deposits.geojson\n",
      "ST_Distance calculation: Duration = 0.14184331893920898 seconds, Rows processed = 4296\n",
      "ST_HausdorffDistance calculation: Duration = 0.13865041732788086 seconds, Rows processed = 4296\n",
      "ST_FrechetDistance calculation: Duration = 0.3217635154724121 seconds, Rows processed = 4296\n",
      "Processing: WorldContinents.geojson against Phosphate_nodules_pavement.geojson\n",
      "ST_Distance calculation: Duration = 0.14155840873718262 seconds, Rows processed = 4472\n"
     ]
    },
    {
     "name": "stderr",
     "output_type": "stream",
     "text": [
      "                                                                                \r"
     ]
    },
    {
     "name": "stdout",
     "output_type": "stream",
     "text": [
      "ST_HausdorffDistance calculation: Duration = 1.6428017616271973 seconds, Rows processed = 4472\n"
     ]
    },
    {
     "name": "stderr",
     "output_type": "stream",
     "text": [
      "                                                                                \r"
     ]
    },
    {
     "name": "stdout",
     "output_type": "stream",
     "text": [
      "ST_FrechetDistance calculation: Duration = 1.4187889099121094 seconds, Rows processed = 4472\n",
      "Processing: WorldContinents.geojson against Polymetallic_sulfide_deposits.geojson\n"
     ]
    },
    {
     "name": "stderr",
     "output_type": "stream",
     "text": [
      "                                                                                \r"
     ]
    },
    {
     "name": "stdout",
     "output_type": "stream",
     "text": [
      "ST_Distance calculation: Duration = 1.563906192779541 seconds, Rows processed = 104\n"
     ]
    },
    {
     "name": "stderr",
     "output_type": "stream",
     "text": [
      "                                                                                \r"
     ]
    },
    {
     "name": "stdout",
     "output_type": "stream",
     "text": [
      "ST_HausdorffDistance calculation: Duration = 1.9128572940826416 seconds, Rows processed = 104\n",
      "ST_FrechetDistance calculation: Duration = 0.1422281265258789 seconds, Rows processed = 104\n",
      "Processing: WorldContinents.geojson against Rock_in_seafloor_sample.geojson\n"
     ]
    },
    {
     "name": "stderr",
     "output_type": "stream",
     "text": [
      "                                                                                \r"
     ]
    },
    {
     "name": "stdout",
     "output_type": "stream",
     "text": [
      "ST_Distance calculation: Duration = 1.082075595855713 seconds, Rows processed = 400\n",
      "ST_HausdorffDistance calculation: Duration = 0.1375288963317871 seconds, Rows processed = 400\n"
     ]
    },
    {
     "name": "stderr",
     "output_type": "stream",
     "text": [
      "                                                                                \r"
     ]
    },
    {
     "name": "stdout",
     "output_type": "stream",
     "text": [
      "ST_FrechetDistance calculation: Duration = 1.479431390762329 seconds, Rows processed = 400\n",
      "Processing: WorldContinents.geojson against Special_submarine_features.geojson\n",
      "ST_Distance calculation: Duration = 0.21542835235595703 seconds, Rows processed = 22088\n"
     ]
    },
    {
     "name": "stderr",
     "output_type": "stream",
     "text": [
      "                                                                                \r"
     ]
    },
    {
     "name": "stdout",
     "output_type": "stream",
     "text": [
      "ST_HausdorffDistance calculation: Duration = 1.1799836158752441 seconds, Rows processed = 22088\n"
     ]
    },
    {
     "name": "stderr",
     "output_type": "stream",
     "text": [
      "                                                                                \r"
     ]
    },
    {
     "name": "stdout",
     "output_type": "stream",
     "text": [
      "ST_FrechetDistance calculation: Duration = 0.7036805152893066 seconds, Rows processed = 22088\n",
      "Processing: WorldContinents.geojson against Volcanoes.geojson\n"
     ]
    },
    {
     "name": "stderr",
     "output_type": "stream",
     "text": [
      "                                                                                \r"
     ]
    },
    {
     "name": "stdout",
     "output_type": "stream",
     "text": [
      "ST_Distance calculation: Duration = 1.1118872165679932 seconds, Rows processed = 4880\n",
      "ST_HausdorffDistance calculation: Duration = 0.14165735244750977 seconds, Rows processed = 4880\n"
     ]
    },
    {
     "name": "stderr",
     "output_type": "stream",
     "text": [
      "                                                                                \r"
     ]
    },
    {
     "name": "stdout",
     "output_type": "stream",
     "text": [
      "ST_FrechetDistance calculation: Duration = 1.1449975967407227 seconds, Rows processed = 4880\n",
      "Processing: WorldContinents.geojson against cb_2018_us_state_20m.json\n",
      "ST_Distance calculation: Duration = 0.1570453643798828 seconds, Rows processed = 416\n",
      "ST_HausdorffDistance calculation: Duration = 0.14719653129577637 seconds, Rows processed = 416\n",
      "ST_FrechetDistance calculation: Duration = 0.6817426681518555 seconds, Rows processed = 416\n",
      "Processing: cb_2018_us_state_20m.json against AgriculturalArea.geojson\n",
      "ST_Distance calculation: Duration = 0.6150336265563965 seconds, Rows processed = 159640\n"
     ]
    },
    {
     "name": "stderr",
     "output_type": "stream",
     "text": [
      "                                                                                \r"
     ]
    },
    {
     "name": "stdout",
     "output_type": "stream",
     "text": [
      "ST_HausdorffDistance calculation: Duration = 6.242978572845459 seconds, Rows processed = 159640\n"
     ]
    },
    {
     "name": "stderr",
     "output_type": "stream",
     "text": [
      "                                                                                \r"
     ]
    },
    {
     "name": "stdout",
     "output_type": "stream",
     "text": [
      "ST_FrechetDistance calculation: Duration = 1.1937885284423828 seconds, Rows processed = 159640\n",
      "Processing: cb_2018_us_state_20m.json against CityBoundaries.geojson\n"
     ]
    },
    {
     "name": "stderr",
     "output_type": "stream",
     "text": [
      "                                                                                \r"
     ]
    },
    {
     "name": "stdout",
     "output_type": "stream",
     "text": [
      "ST_Distance calculation: Duration = 0.9015130996704102 seconds, Rows processed = 26000\n"
     ]
    },
    {
     "name": "stderr",
     "output_type": "stream",
     "text": [
      "                                                                                \r"
     ]
    },
    {
     "name": "stdout",
     "output_type": "stream",
     "text": [
      "ST_HausdorffDistance calculation: Duration = 6.931180238723755 seconds, Rows processed = 26000\n"
     ]
    },
    {
     "name": "stderr",
     "output_type": "stream",
     "text": [
      "                                                                                \r"
     ]
    },
    {
     "name": "stdout",
     "output_type": "stream",
     "text": [
      "ST_FrechetDistance calculation: Duration = 0.922109842300415 seconds, Rows processed = 26000\n",
      "Processing: cb_2018_us_state_20m.json against CountryTerritories.geojson\n",
      "ST_Distance calculation: Duration = 0.21284747123718262 seconds, Rows processed = 13312\n",
      "ST_HausdorffDistance calculation: Duration = 0.5937633514404297 seconds, Rows processed = 13312\n",
      "ST_FrechetDistance calculation: Duration = 0.690985918045044 seconds, Rows processed = 13312\n",
      "Processing: cb_2018_us_state_20m.json against EcoRegions.geojson\n"
     ]
    },
    {
     "name": "stderr",
     "output_type": "stream",
     "text": [
      "                                                                                \r"
     ]
    },
    {
     "name": "stdout",
     "output_type": "stream",
     "text": [
      "ST_Distance calculation: Duration = 28.71771478652954 seconds, Rows processed = 65000\n"
     ]
    },
    {
     "name": "stderr",
     "output_type": "stream",
     "text": [
      "                                                                                \r"
     ]
    },
    {
     "name": "stdout",
     "output_type": "stream",
     "text": [
      "ST_HausdorffDistance calculation: Duration = 2.509730100631714 seconds, Rows processed = 65000\n"
     ]
    },
    {
     "name": "stderr",
     "output_type": "stream",
     "text": [
      "                                                                                \r"
     ]
    },
    {
     "name": "stdout",
     "output_type": "stream",
     "text": [
      "ST_FrechetDistance calculation: Duration = 1.9923169612884521 seconds, Rows processed = 65000\n",
      "Processing: cb_2018_us_state_20m.json against GeographicRegions.geojson\n"
     ]
    },
    {
     "name": "stderr",
     "output_type": "stream",
     "text": [
      "                                                                                \r"
     ]
    },
    {
     "name": "stdout",
     "output_type": "stream",
     "text": [
      "ST_Distance calculation: Duration = 1.0729732513427734 seconds, Rows processed = 54600\n",
      "ST_HausdorffDistance calculation: Duration = 0.7612290382385254 seconds, Rows processed = 54600\n",
      "ST_FrechetDistance calculation: Duration = 0.6718614101409912 seconds, Rows processed = 54600\n",
      "Processing: cb_2018_us_state_20m.json against Areas_diapiric_structures.geojson\n",
      "ST_Distance calculation: Duration = 0.08208179473876953 seconds, Rows processed = 4004\n",
      "ST_HausdorffDistance calculation: Duration = 0.4703514575958252 seconds, Rows processed = 4004\n",
      "ST_FrechetDistance calculation: Duration = 0.09094119071960449 seconds, Rows processed = 4004\n",
      "Processing: cb_2018_us_state_20m.json against Bathymetry.geojson\n",
      "ST_Distance calculation: Duration = 0.9291501045227051 seconds, Rows processed = 127400\n",
      "ST_HausdorffDistance calculation: Duration = 0.6159729957580566 seconds, Rows processed = 127400\n"
     ]
    },
    {
     "name": "stderr",
     "output_type": "stream",
     "text": [
      "                                                                                \r"
     ]
    },
    {
     "name": "stdout",
     "output_type": "stream",
     "text": [
      "ST_FrechetDistance calculation: Duration = 13.233114242553711 seconds, Rows processed = 127400\n",
      "Processing: cb_2018_us_state_20m.json against Calderas.geojson\n"
     ]
    },
    {
     "name": "stderr",
     "output_type": "stream",
     "text": [
      "                                                                                \r"
     ]
    },
    {
     "name": "stdout",
     "output_type": "stream",
     "text": [
      "ST_Distance calculation: Duration = 0.775177001953125 seconds, Rows processed = 3744\n",
      "ST_HausdorffDistance calculation: Duration = 0.0810232162475586 seconds, Rows processed = 3744\n",
      "ST_FrechetDistance calculation: Duration = 0.20806550979614258 seconds, Rows processed = 3744\n",
      "Processing: cb_2018_us_state_20m.json against Diapiric_trends.geojson\n",
      "ST_Distance calculation: Duration = 0.46340036392211914 seconds, Rows processed = 9152\n"
     ]
    },
    {
     "name": "stderr",
     "output_type": "stream",
     "text": [
      "                                                                                \r"
     ]
    },
    {
     "name": "stdout",
     "output_type": "stream",
     "text": [
      "ST_HausdorffDistance calculation: Duration = 0.9826951026916504 seconds, Rows processed = 9152\n",
      "ST_FrechetDistance calculation: Duration = 0.0836338996887207 seconds, Rows processed = 9152\n",
      "Processing: cb_2018_us_state_20m.json against Diapirs.geojson\n",
      "ST_Distance calculation: Duration = 0.07936716079711914 seconds, Rows processed = 70408\n",
      "ST_HausdorffDistance calculation: Duration = 0.3322744369506836 seconds, Rows processed = 70408\n"
     ]
    },
    {
     "name": "stderr",
     "output_type": "stream",
     "text": [
      "                                                                                \r"
     ]
    },
    {
     "name": "stdout",
     "output_type": "stream",
     "text": [
      "ST_FrechetDistance calculation: Duration = 0.9964544773101807 seconds, Rows processed = 70408\n",
      "Processing: cb_2018_us_state_20m.json against Dikes_sills.geojson\n"
     ]
    },
    {
     "name": "stderr",
     "output_type": "stream",
     "text": [
      "                                                                                \r"
     ]
    },
    {
     "name": "stdout",
     "output_type": "stream",
     "text": [
      "ST_Distance calculation: Duration = 1.0512447357177734 seconds, Rows processed = 187512\n"
     ]
    },
    {
     "name": "stderr",
     "output_type": "stream",
     "text": [
      "                                                                                \r"
     ]
    },
    {
     "name": "stdout",
     "output_type": "stream",
     "text": [
      "ST_HausdorffDistance calculation: Duration = 1.3401217460632324 seconds, Rows processed = 187512\n",
      "ST_FrechetDistance calculation: Duration = 0.10628867149353027 seconds, Rows processed = 187512\n",
      "Processing: cb_2018_us_state_20m.json against Faults.geojson\n"
     ]
    },
    {
     "name": "stderr",
     "output_type": "stream",
     "text": [
      "                                                                                \r"
     ]
    },
    {
     "name": "stdout",
     "output_type": "stream",
     "text": [
      "ST_Distance calculation: Duration = 0.9234228134155273 seconds, Rows processed = 646048\n",
      "ST_HausdorffDistance calculation: Duration = 0.40172600746154785 seconds, Rows processed = 646048\n"
     ]
    },
    {
     "name": "stderr",
     "output_type": "stream",
     "text": [
      "                                                                                \r"
     ]
    },
    {
     "name": "stdout",
     "output_type": "stream",
     "text": [
      "ST_FrechetDistance calculation: Duration = 3.38273549079895 seconds, Rows processed = 646048\n",
      "Processing: cb_2018_us_state_20m.json against Gas_fluid_seep.geojson\n"
     ]
    },
    {
     "name": "stderr",
     "output_type": "stream",
     "text": [
      "                                                                                \r"
     ]
    },
    {
     "name": "stdout",
     "output_type": "stream",
     "text": [
      "ST_Distance calculation: Duration = 1.6573870182037354 seconds, Rows processed = 1976\n",
      "ST_HausdorffDistance calculation: Duration = 0.06966161727905273 seconds, Rows processed = 1976\n",
      "ST_FrechetDistance calculation: Duration = 0.07856464385986328 seconds, Rows processed = 1976\n",
      "Processing: cb_2018_us_state_20m.json against Gas_oil_seep.geojson\n",
      "ST_Distance calculation: Duration = 0.06871604919433594 seconds, Rows processed = 156\n",
      "ST_HausdorffDistance calculation: Duration = 0.07544350624084473 seconds, Rows processed = 156\n",
      "ST_FrechetDistance calculation: Duration = 0.06639695167541504 seconds, Rows processed = 156\n",
      "Processing: cb_2018_us_state_20m.json against Geologic_contacts.geojson\n"
     ]
    },
    {
     "name": "stderr",
     "output_type": "stream",
     "text": [
      "                                                                                \r"
     ]
    },
    {
     "name": "stdout",
     "output_type": "stream",
     "text": [
      "ST_Distance calculation: Duration = 3.3607406616210938 seconds, Rows processed = 2774512\n"
     ]
    },
    {
     "name": "stderr",
     "output_type": "stream",
     "text": [
      "[Stage 9616:>                                                       (0 + 1) / 1]\r"
     ]
    },
    {
     "name": "stdout",
     "output_type": "stream",
     "text": [
      "ST_HausdorffDistance calculation: Duration = 1.9760494232177734 seconds, Rows processed = 2774512\n"
     ]
    },
    {
     "name": "stderr",
     "output_type": "stream",
     "text": [
      "                                                                                \r"
     ]
    },
    {
     "name": "stdout",
     "output_type": "stream",
     "text": [
      "ST_FrechetDistance calculation: Duration = 3.447462320327759 seconds, Rows processed = 2774512\n",
      "Processing: cb_2018_us_state_20m.json against Geologic_overprints.geojson\n",
      "ST_Distance calculation: Duration = 0.48743271827697754 seconds, Rows processed = 97344\n",
      "ST_HausdorffDistance calculation: Duration = 0.4815526008605957 seconds, Rows processed = 97344\n",
      "ST_FrechetDistance calculation: Duration = 0.48250412940979004 seconds, Rows processed = 97344\n",
      "Processing: cb_2018_us_state_20m.json against Geologic_units.geojson\n"
     ]
    },
    {
     "name": "stderr",
     "output_type": "stream",
     "text": [
      "                                                                                \r"
     ]
    },
    {
     "name": "stdout",
     "output_type": "stream",
     "text": [
      "ST_Distance calculation: Duration = 4.634533166885376 seconds, Rows processed = 2071056\n"
     ]
    },
    {
     "name": "stderr",
     "output_type": "stream",
     "text": [
      "                                                                                \r"
     ]
    },
    {
     "name": "stdout",
     "output_type": "stream",
     "text": [
      "ST_HausdorffDistance calculation: Duration = 62.84829807281494 seconds, Rows processed = 2071056\n"
     ]
    },
    {
     "name": "stderr",
     "output_type": "stream",
     "text": [
      "                                                                                \r"
     ]
    },
    {
     "name": "stdout",
     "output_type": "stream",
     "text": [
      "ST_FrechetDistance calculation: Duration = 4.66292929649353 seconds, Rows processed = 2071056\n",
      "Processing: cb_2018_us_state_20m.json against Glaciation_extents.geojson\n",
      "ST_Distance calculation: Duration = 0.08333563804626465 seconds, Rows processed = 1300\n",
      "ST_HausdorffDistance calculation: Duration = 0.0809779167175293 seconds, Rows processed = 1300\n",
      "ST_FrechetDistance calculation: Duration = 0.4072530269622803 seconds, Rows processed = 1300\n",
      "Processing: cb_2018_us_state_20m.json against Hydrothermal_vents.geojson\n",
      "ST_Distance calculation: Duration = 0.4640970230102539 seconds, Rows processed = 2548\n",
      "ST_HausdorffDistance calculation: Duration = 0.40666818618774414 seconds, Rows processed = 2548\n",
      "ST_FrechetDistance calculation: Duration = 0.7722995281219482 seconds, Rows processed = 2548\n",
      "Processing: cb_2018_us_state_20m.json against Impact_structure_great_10_KM.geojson\n",
      "ST_Distance calculation: Duration = 0.44359612464904785 seconds, Rows processed = 1612\n",
      "ST_HausdorffDistance calculation: Duration = 0.3387124538421631 seconds, Rows processed = 1612\n",
      "ST_FrechetDistance calculation: Duration = 0.8862941265106201 seconds, Rows processed = 1612\n",
      "Processing: cb_2018_us_state_20m.json against Impact_structure_less_10_KM.geojson\n",
      "ST_Distance calculation: Duration = 0.14847183227539062 seconds, Rows processed = 1300\n",
      "ST_HausdorffDistance calculation: Duration = 0.07477140426635742 seconds, Rows processed = 1300\n",
      "ST_FrechetDistance calculation: Duration = 0.5299582481384277 seconds, Rows processed = 1300\n",
      "Processing: cb_2018_us_state_20m.json against Maganifeorus_deposits.geojson\n",
      "ST_Distance calculation: Duration = 0.06783747673034668 seconds, Rows processed = 27924\n",
      "ST_HausdorffDistance calculation: Duration = 0.22430419921875 seconds, Rows processed = 27924\n",
      "ST_FrechetDistance calculation: Duration = 0.07985496520996094 seconds, Rows processed = 27924\n",
      "Processing: cb_2018_us_state_20m.json against Phosphate_nodules_pavement.geojson\n",
      "ST_Distance calculation: Duration = 0.5350966453552246 seconds, Rows processed = 29068\n",
      "ST_HausdorffDistance calculation: Duration = 0.18900609016418457 seconds, Rows processed = 29068\n",
      "ST_FrechetDistance calculation: Duration = 0.4449641704559326 seconds, Rows processed = 29068\n",
      "Processing: cb_2018_us_state_20m.json against Polymetallic_sulfide_deposits.geojson\n"
     ]
    },
    {
     "name": "stderr",
     "output_type": "stream",
     "text": [
      "                                                                                \r"
     ]
    },
    {
     "name": "stdout",
     "output_type": "stream",
     "text": [
      "ST_Distance calculation: Duration = 1.6224091053009033 seconds, Rows processed = 676\n",
      "ST_HausdorffDistance calculation: Duration = 0.5736098289489746 seconds, Rows processed = 676\n",
      "ST_FrechetDistance calculation: Duration = 0.07967495918273926 seconds, Rows processed = 676\n",
      "Processing: cb_2018_us_state_20m.json against Rock_in_seafloor_sample.geojson\n",
      "ST_Distance calculation: Duration = 0.07209038734436035 seconds, Rows processed = 2600\n",
      "ST_HausdorffDistance calculation: Duration = 0.5374631881713867 seconds, Rows processed = 2600\n"
     ]
    },
    {
     "name": "stderr",
     "output_type": "stream",
     "text": [
      "                                                                                \r"
     ]
    },
    {
     "name": "stdout",
     "output_type": "stream",
     "text": [
      "ST_FrechetDistance calculation: Duration = 0.691612958908081 seconds, Rows processed = 2600\n",
      "Processing: cb_2018_us_state_20m.json against Special_submarine_features.geojson\n"
     ]
    },
    {
     "name": "stderr",
     "output_type": "stream",
     "text": [
      "                                                                                \r"
     ]
    },
    {
     "name": "stdout",
     "output_type": "stream",
     "text": [
      "ST_Distance calculation: Duration = 1.3442769050598145 seconds, Rows processed = 143572\n",
      "ST_HausdorffDistance calculation: Duration = 0.14670038223266602 seconds, Rows processed = 143572\n",
      "ST_FrechetDistance calculation: Duration = 0.16334271430969238 seconds, Rows processed = 143572\n",
      "Processing: cb_2018_us_state_20m.json against Volcanoes.geojson\n",
      "ST_Distance calculation: Duration = 0.8529040813446045 seconds, Rows processed = 31720\n"
     ]
    },
    {
     "name": "stderr",
     "output_type": "stream",
     "text": [
      "                                                                                \r"
     ]
    },
    {
     "name": "stdout",
     "output_type": "stream",
     "text": [
      "ST_HausdorffDistance calculation: Duration = 0.8579750061035156 seconds, Rows processed = 31720\n"
     ]
    },
    {
     "name": "stderr",
     "output_type": "stream",
     "text": [
      "                                                                                \r"
     ]
    },
    {
     "name": "stdout",
     "output_type": "stream",
     "text": [
      "ST_FrechetDistance calculation: Duration = 0.8818953037261963 seconds, Rows processed = 31720\n",
      "Processing: cb_2018_us_state_20m.json against WorldContinents.geojson\n"
     ]
    },
    {
     "name": "stderr",
     "output_type": "stream",
     "text": [
      "                                                                                \r"
     ]
    },
    {
     "name": "stdout",
     "output_type": "stream",
     "text": [
      "ST_Distance calculation: Duration = 1.675058364868164 seconds, Rows processed = 416\n"
     ]
    },
    {
     "name": "stderr",
     "output_type": "stream",
     "text": [
      "                                                                                \r"
     ]
    },
    {
     "name": "stdout",
     "output_type": "stream",
     "text": [
      "ST_HausdorffDistance calculation: Duration = 1.403010368347168 seconds, Rows processed = 416\n",
      "ST_FrechetDistance calculation: Duration = 0.14526081085205078 seconds, Rows processed = 416\n"
     ]
    },
    {
     "ename": "ValueError",
     "evalue": "3 columns passed, passed data had 4 columns",
     "output_type": "error",
     "traceback": [
      "\u001b[0;31m---------------------------------------------------------------------------\u001b[0m",
      "\u001b[0;31mAssertionError\u001b[0m                            Traceback (most recent call last)",
      "File \u001b[0;32m/usr/local/python-env/py39/lib/python3.9/site-packages/pandas/core/internals/construction.py:982\u001b[0m, in \u001b[0;36m_finalize_columns_and_data\u001b[0;34m(content, columns, dtype)\u001b[0m\n\u001b[1;32m    981\u001b[0m \u001b[38;5;28;01mtry\u001b[39;00m:\n\u001b[0;32m--> 982\u001b[0m     columns \u001b[38;5;241m=\u001b[39m \u001b[43m_validate_or_indexify_columns\u001b[49m\u001b[43m(\u001b[49m\u001b[43mcontents\u001b[49m\u001b[43m,\u001b[49m\u001b[43m \u001b[49m\u001b[43mcolumns\u001b[49m\u001b[43m)\u001b[49m\n\u001b[1;32m    983\u001b[0m \u001b[38;5;28;01mexcept\u001b[39;00m \u001b[38;5;167;01mAssertionError\u001b[39;00m \u001b[38;5;28;01mas\u001b[39;00m err:\n\u001b[1;32m    984\u001b[0m     \u001b[38;5;66;03m# GH#26429 do not raise user-facing AssertionError\u001b[39;00m\n",
      "File \u001b[0;32m/usr/local/python-env/py39/lib/python3.9/site-packages/pandas/core/internals/construction.py:1030\u001b[0m, in \u001b[0;36m_validate_or_indexify_columns\u001b[0;34m(content, columns)\u001b[0m\n\u001b[1;32m   1028\u001b[0m \u001b[38;5;28;01mif\u001b[39;00m \u001b[38;5;129;01mnot\u001b[39;00m is_mi_list \u001b[38;5;129;01mand\u001b[39;00m \u001b[38;5;28mlen\u001b[39m(columns) \u001b[38;5;241m!=\u001b[39m \u001b[38;5;28mlen\u001b[39m(content):  \u001b[38;5;66;03m# pragma: no cover\u001b[39;00m\n\u001b[1;32m   1029\u001b[0m     \u001b[38;5;66;03m# caller's responsibility to check for this...\u001b[39;00m\n\u001b[0;32m-> 1030\u001b[0m     \u001b[38;5;28;01mraise\u001b[39;00m \u001b[38;5;167;01mAssertionError\u001b[39;00m(\n\u001b[1;32m   1031\u001b[0m         \u001b[38;5;124mf\u001b[39m\u001b[38;5;124m\"\u001b[39m\u001b[38;5;132;01m{\u001b[39;00m\u001b[38;5;28mlen\u001b[39m(columns)\u001b[38;5;132;01m}\u001b[39;00m\u001b[38;5;124m columns passed, passed data had \u001b[39m\u001b[38;5;124m\"\u001b[39m\n\u001b[1;32m   1032\u001b[0m         \u001b[38;5;124mf\u001b[39m\u001b[38;5;124m\"\u001b[39m\u001b[38;5;132;01m{\u001b[39;00m\u001b[38;5;28mlen\u001b[39m(content)\u001b[38;5;132;01m}\u001b[39;00m\u001b[38;5;124m columns\u001b[39m\u001b[38;5;124m\"\u001b[39m\n\u001b[1;32m   1033\u001b[0m     )\n\u001b[1;32m   1034\u001b[0m \u001b[38;5;28;01melif\u001b[39;00m is_mi_list:\n\u001b[1;32m   1035\u001b[0m \n\u001b[1;32m   1036\u001b[0m     \u001b[38;5;66;03m# check if nested list column, length of each sub-list should be equal\u001b[39;00m\n",
      "\u001b[0;31mAssertionError\u001b[0m: 3 columns passed, passed data had 4 columns",
      "\nThe above exception was the direct cause of the following exception:\n",
      "\u001b[0;31mValueError\u001b[0m                                Traceback (most recent call last)",
      "Cell \u001b[0;32mIn[14], line 50\u001b[0m\n\u001b[1;32m     47\u001b[0m     results\u001b[38;5;241m.\u001b[39mappend((file1, \u001b[38;5;124m\"\u001b[39m\u001b[38;5;124mAll\u001b[39m\u001b[38;5;124m\"\u001b[39m, file1_total_time))\n\u001b[1;32m     49\u001b[0m \u001b[38;5;66;03m# Save the results to a DataFrame and then to a CSV file\u001b[39;00m\n\u001b[0;32m---> 50\u001b[0m results_df \u001b[38;5;241m=\u001b[39m \u001b[43mpd\u001b[49m\u001b[38;5;241;43m.\u001b[39;49m\u001b[43mDataFrame\u001b[49m\u001b[43m(\u001b[49m\u001b[43mresults\u001b[49m\u001b[43m,\u001b[49m\u001b[43m \u001b[49m\u001b[43mcolumns\u001b[49m\u001b[38;5;241;43m=\u001b[39;49m\u001b[43m[\u001b[49m\u001b[38;5;124;43m\"\u001b[39;49m\u001b[38;5;124;43mFile1\u001b[39;49m\u001b[38;5;124;43m\"\u001b[39;49m\u001b[43m,\u001b[49m\u001b[43m \u001b[49m\u001b[38;5;124;43m\"\u001b[39;49m\u001b[38;5;124;43mFile2\u001b[39;49m\u001b[38;5;124;43m\"\u001b[39;49m\u001b[43m,\u001b[49m\u001b[43m \u001b[49m\u001b[38;5;124;43m\"\u001b[39;49m\u001b[38;5;124;43mTotalTime\u001b[39;49m\u001b[38;5;124;43m\"\u001b[39;49m\u001b[43m]\u001b[49m\u001b[43m)\u001b[49m\n\u001b[1;32m     51\u001b[0m results_df\u001b[38;5;241m.\u001b[39mto_csv(\u001b[38;5;124m\"\u001b[39m\u001b[38;5;124mgeospatial_analysis_detailed_timing.csv\u001b[39m\u001b[38;5;124m\"\u001b[39m, index\u001b[38;5;241m=\u001b[39m\u001b[38;5;28;01mFalse\u001b[39;00m)\n\u001b[1;32m     53\u001b[0m \u001b[38;5;28mprint\u001b[39m(\u001b[38;5;124m\"\u001b[39m\u001b[38;5;124mAll processing completed. Results are saved to geospatial_analysis_detailed_timing.csv.\u001b[39m\u001b[38;5;124m\"\u001b[39m)\n",
      "File \u001b[0;32m/usr/local/python-env/py39/lib/python3.9/site-packages/pandas/core/frame.py:721\u001b[0m, in \u001b[0;36mDataFrame.__init__\u001b[0;34m(self, data, index, columns, dtype, copy)\u001b[0m\n\u001b[1;32m    716\u001b[0m     \u001b[38;5;28;01mif\u001b[39;00m columns \u001b[38;5;129;01mis\u001b[39;00m \u001b[38;5;129;01mnot\u001b[39;00m \u001b[38;5;28;01mNone\u001b[39;00m:\n\u001b[1;32m    717\u001b[0m         \u001b[38;5;66;03m# error: Argument 1 to \"ensure_index\" has incompatible type\u001b[39;00m\n\u001b[1;32m    718\u001b[0m         \u001b[38;5;66;03m# \"Collection[Any]\"; expected \"Union[Union[Union[ExtensionArray,\u001b[39;00m\n\u001b[1;32m    719\u001b[0m         \u001b[38;5;66;03m# ndarray], Index, Series], Sequence[Any]]\"\u001b[39;00m\n\u001b[1;32m    720\u001b[0m         columns \u001b[38;5;241m=\u001b[39m ensure_index(columns)  \u001b[38;5;66;03m# type: ignore[arg-type]\u001b[39;00m\n\u001b[0;32m--> 721\u001b[0m     arrays, columns, index \u001b[38;5;241m=\u001b[39m \u001b[43mnested_data_to_arrays\u001b[49m\u001b[43m(\u001b[49m\n\u001b[1;32m    722\u001b[0m \u001b[43m        \u001b[49m\u001b[38;5;66;43;03m# error: Argument 3 to \"nested_data_to_arrays\" has incompatible\u001b[39;49;00m\n\u001b[1;32m    723\u001b[0m \u001b[43m        \u001b[49m\u001b[38;5;66;43;03m# type \"Optional[Collection[Any]]\"; expected \"Optional[Index]\"\u001b[39;49;00m\n\u001b[1;32m    724\u001b[0m \u001b[43m        \u001b[49m\u001b[43mdata\u001b[49m\u001b[43m,\u001b[49m\n\u001b[1;32m    725\u001b[0m \u001b[43m        \u001b[49m\u001b[43mcolumns\u001b[49m\u001b[43m,\u001b[49m\n\u001b[1;32m    726\u001b[0m \u001b[43m        \u001b[49m\u001b[43mindex\u001b[49m\u001b[43m,\u001b[49m\u001b[43m  \u001b[49m\u001b[38;5;66;43;03m# type: ignore[arg-type]\u001b[39;49;00m\n\u001b[1;32m    727\u001b[0m \u001b[43m        \u001b[49m\u001b[43mdtype\u001b[49m\u001b[43m,\u001b[49m\n\u001b[1;32m    728\u001b[0m \u001b[43m    \u001b[49m\u001b[43m)\u001b[49m\n\u001b[1;32m    729\u001b[0m     mgr \u001b[38;5;241m=\u001b[39m arrays_to_mgr(\n\u001b[1;32m    730\u001b[0m         arrays,\n\u001b[1;32m    731\u001b[0m         columns,\n\u001b[0;32m   (...)\u001b[0m\n\u001b[1;32m    734\u001b[0m         typ\u001b[38;5;241m=\u001b[39mmanager,\n\u001b[1;32m    735\u001b[0m     )\n\u001b[1;32m    736\u001b[0m \u001b[38;5;28;01melse\u001b[39;00m:\n",
      "File \u001b[0;32m/usr/local/python-env/py39/lib/python3.9/site-packages/pandas/core/internals/construction.py:519\u001b[0m, in \u001b[0;36mnested_data_to_arrays\u001b[0;34m(data, columns, index, dtype)\u001b[0m\n\u001b[1;32m    516\u001b[0m \u001b[38;5;28;01mif\u001b[39;00m is_named_tuple(data[\u001b[38;5;241m0\u001b[39m]) \u001b[38;5;129;01mand\u001b[39;00m columns \u001b[38;5;129;01mis\u001b[39;00m \u001b[38;5;28;01mNone\u001b[39;00m:\n\u001b[1;32m    517\u001b[0m     columns \u001b[38;5;241m=\u001b[39m ensure_index(data[\u001b[38;5;241m0\u001b[39m]\u001b[38;5;241m.\u001b[39m_fields)\n\u001b[0;32m--> 519\u001b[0m arrays, columns \u001b[38;5;241m=\u001b[39m \u001b[43mto_arrays\u001b[49m\u001b[43m(\u001b[49m\u001b[43mdata\u001b[49m\u001b[43m,\u001b[49m\u001b[43m \u001b[49m\u001b[43mcolumns\u001b[49m\u001b[43m,\u001b[49m\u001b[43m \u001b[49m\u001b[43mdtype\u001b[49m\u001b[38;5;241;43m=\u001b[39;49m\u001b[43mdtype\u001b[49m\u001b[43m)\u001b[49m\n\u001b[1;32m    520\u001b[0m columns \u001b[38;5;241m=\u001b[39m ensure_index(columns)\n\u001b[1;32m    522\u001b[0m \u001b[38;5;28;01mif\u001b[39;00m index \u001b[38;5;129;01mis\u001b[39;00m \u001b[38;5;28;01mNone\u001b[39;00m:\n",
      "File \u001b[0;32m/usr/local/python-env/py39/lib/python3.9/site-packages/pandas/core/internals/construction.py:883\u001b[0m, in \u001b[0;36mto_arrays\u001b[0;34m(data, columns, dtype)\u001b[0m\n\u001b[1;32m    880\u001b[0m     data \u001b[38;5;241m=\u001b[39m [\u001b[38;5;28mtuple\u001b[39m(x) \u001b[38;5;28;01mfor\u001b[39;00m x \u001b[38;5;129;01min\u001b[39;00m data]\n\u001b[1;32m    881\u001b[0m     arr \u001b[38;5;241m=\u001b[39m _list_to_arrays(data)\n\u001b[0;32m--> 883\u001b[0m content, columns \u001b[38;5;241m=\u001b[39m \u001b[43m_finalize_columns_and_data\u001b[49m\u001b[43m(\u001b[49m\u001b[43marr\u001b[49m\u001b[43m,\u001b[49m\u001b[43m \u001b[49m\u001b[43mcolumns\u001b[49m\u001b[43m,\u001b[49m\u001b[43m \u001b[49m\u001b[43mdtype\u001b[49m\u001b[43m)\u001b[49m\n\u001b[1;32m    884\u001b[0m \u001b[38;5;28;01mreturn\u001b[39;00m content, columns\n",
      "File \u001b[0;32m/usr/local/python-env/py39/lib/python3.9/site-packages/pandas/core/internals/construction.py:985\u001b[0m, in \u001b[0;36m_finalize_columns_and_data\u001b[0;34m(content, columns, dtype)\u001b[0m\n\u001b[1;32m    982\u001b[0m     columns \u001b[38;5;241m=\u001b[39m _validate_or_indexify_columns(contents, columns)\n\u001b[1;32m    983\u001b[0m \u001b[38;5;28;01mexcept\u001b[39;00m \u001b[38;5;167;01mAssertionError\u001b[39;00m \u001b[38;5;28;01mas\u001b[39;00m err:\n\u001b[1;32m    984\u001b[0m     \u001b[38;5;66;03m# GH#26429 do not raise user-facing AssertionError\u001b[39;00m\n\u001b[0;32m--> 985\u001b[0m     \u001b[38;5;28;01mraise\u001b[39;00m \u001b[38;5;167;01mValueError\u001b[39;00m(err) \u001b[38;5;28;01mfrom\u001b[39;00m \u001b[38;5;21;01merr\u001b[39;00m\n\u001b[1;32m    987\u001b[0m \u001b[38;5;28;01mif\u001b[39;00m \u001b[38;5;28mlen\u001b[39m(contents) \u001b[38;5;129;01mand\u001b[39;00m contents[\u001b[38;5;241m0\u001b[39m]\u001b[38;5;241m.\u001b[39mdtype \u001b[38;5;241m==\u001b[39m np\u001b[38;5;241m.\u001b[39mobject_:\n\u001b[1;32m    988\u001b[0m     contents \u001b[38;5;241m=\u001b[39m _convert_object_array(contents, dtype\u001b[38;5;241m=\u001b[39mdtype)\n",
      "\u001b[0;31mValueError\u001b[0m: 3 columns passed, passed data had 4 columns"
     ]
    }
   ],
   "source": [
    "import time\n",
    "import pandas as pd\n",
    "from pyspark.sql import SparkSession\n",
    "from pyspark.sql.functions import expr, col\n",
    "from pyspark.sql import DataFrame\n",
    "import os\n",
    "\n",
    "\n",
    "# Define a helper function for timing and counting DataFrame operations\n",
    "def timed_distance_calculation(df, distance_function, geometry1, geometry2):\n",
    "    start_time = time.time()\n",
    "    df = df.withColumn(distance_function, expr(f\"{distance_function}({geometry1}, {geometry2})\"))\n",
    "    result_count = df.count()  # Triggers computation\n",
    "    duration = time.time() - start_time\n",
    "    print(f\"\\t{distance_function} calculation: Duration = {duration} seconds, Rows processed = {result_count}\")\n",
    "    return duration\n",
    "\n",
    "# Define function to perform cross joins and calculate distances\n",
    "def perform_cross_join(df1: DataFrame, df2: DataFrame):\n",
    "    df1_renamed = df1.withColumnRenamed(\"geometry\", \"geometry1\")\n",
    "    df2_renamed = df2.withColumnRenamed(\"geometry\", \"geometry2\")\n",
    "    joined_df = df1_renamed.crossJoin(df2_renamed)\n",
    "\n",
    "    # Correctly rename geometry columns post join to avoid ambiguity (need to do this for some reason)\n",
    "    joined_df = joined_df.withColumnRenamed(\"df1.geometry\", \"geometry1\")\n",
    "    joined_df = joined_df.withColumnRenamed(\"df2.geometry\", \"geometry2\")\n",
    "\n",
    "    return joined_df\n",
    "\n",
    "results = []\n",
    "for file1, df1 in json_dataset_dataframes.items():\n",
    "    file1_start_time = time.time()\n",
    "    for file2, df2 in json_dataset_dataframes.items():\n",
    "        if file1 != file2:\n",
    "            print('============================================================================')\n",
    "            print(f\"\\nProcessing: {file1} against {file2}\\n\")\n",
    "            joined_df = perform_cross_join(df1, df2)\n",
    "            distance_measures = [\"ST_Distance\", \"ST_HausdorffDistance\", \"ST_FrechetDistance\"]\n",
    "            total_time = 0\n",
    "            for measure in distance_measures:\n",
    "                duration = timed_distance_calculation(joined_df, measure, \"geometry1\", \"geometry2\")\n",
    "                results.append((file1, file2, measure, duration))\n",
    "                total_time += duration\n",
    "            results.append((file1, file2, total_time))\n",
    "\n",
    "    file1_total_time = time.time() - file1_start_time\n",
    "    results.append((file1, \"All\", file1_total_time))\n",
    "\n"
   ]
  },
  {
   "cell_type": "code",
   "execution_count": 19,
   "metadata": {},
   "outputs": [
    {
     "name": "stdout",
     "output_type": "stream",
     "text": [
      "All processing completed. Results are saved to geospatial_analysis_detailed_timing.csv.\n"
     ]
    },
    {
     "name": "stderr",
     "output_type": "stream",
     "text": [
      "/usr/local/python-env/py39/lib/python3.9/site-packages/pandas/core/dtypes/cast.py:1841: DeprecationWarning: np.find_common_type is deprecated.  Please use `np.result_type` or `np.promote_types`.\n",
      "See https://numpy.org/devdocs/release/1.25.0-notes.html and the docs for more information.  (Deprecated NumPy 1.25)\n",
      "  return np.find_common_type(types, [])\n"
     ]
    }
   ],
   "source": [
    "# Save the results to a DataFrame\n",
    "results_df = pd.DataFrame(results, columns=[\"File1\", \"File2\", \"Measure\", \"TotalTime\"])\n",
    "\n",
    "# Check if the \"Measure\" column can be converted to a numeric type\n",
    "results_df['Measure_is_numeric'] = pd.to_numeric(results_df['Measure'], errors='coerce').notna()\n",
    "\n",
    "# If \"Measure\" is numeric, move its value to \"TotalTime\" and replace it with \"ALL METRICS\"\n",
    "results_df.loc[results_df['Measure_is_numeric'], 'TotalTime'] = results_df['Measure']\n",
    "results_df.loc[results_df['Measure_is_numeric'], 'Measure'] = 'ALL METRICS'\n",
    "\n",
    "# Drop the helper column\n",
    "results_df = results_df.drop(columns=['Measure_is_numeric'])\n",
    "\n",
    "# Convert 'TotalTime' to numeric, removing any leading apostrophes\n",
    "results_df['TotalTime'] = pd.to_numeric(results_df['TotalTime'], errors='coerce')\n",
    "\n",
    "# save the results to a csv file\n",
    "results_df.to_csv(\"geospatial_analysis_detailed_timing.csv\", index=False)\n",
    "\n",
    "print(\"All processing completed. Results are saved to geospatial_analysis_detailed_timing.csv.\")"
   ]
  },
  {
   "cell_type": "markdown",
   "metadata": {},
   "source": [
    "# Lets look at the results"
   ]
  },
  {
   "cell_type": "code",
   "execution_count": 20,
   "metadata": {},
   "outputs": [
    {
     "data": {
      "text/html": [
       "<div>\n",
       "<style scoped>\n",
       "    .dataframe tbody tr th:only-of-type {\n",
       "        vertical-align: middle;\n",
       "    }\n",
       "\n",
       "    .dataframe tbody tr th {\n",
       "        vertical-align: top;\n",
       "    }\n",
       "\n",
       "    .dataframe thead th {\n",
       "        text-align: right;\n",
       "    }\n",
       "</style>\n",
       "<table border=\"1\" class=\"dataframe\">\n",
       "  <thead>\n",
       "    <tr style=\"text-align: right;\">\n",
       "      <th></th>\n",
       "      <th>File1</th>\n",
       "      <th>File2</th>\n",
       "      <th>Measure</th>\n",
       "      <th>TotalTime</th>\n",
       "    </tr>\n",
       "  </thead>\n",
       "  <tbody>\n",
       "    <tr>\n",
       "      <th>1920</th>\n",
       "      <td>Geologic_units.geojson</td>\n",
       "      <td>All</td>\n",
       "      <td>ALL METRICS</td>\n",
       "      <td>1668.512366</td>\n",
       "    </tr>\n",
       "    <tr>\n",
       "      <th>1694</th>\n",
       "      <td>Geologic_contacts.geojson</td>\n",
       "      <td>All</td>\n",
       "      <td>ALL METRICS</td>\n",
       "      <td>452.212719</td>\n",
       "    </tr>\n",
       "    <tr>\n",
       "      <th>451</th>\n",
       "      <td>EcoRegions.geojson</td>\n",
       "      <td>All</td>\n",
       "      <td>ALL METRICS</td>\n",
       "      <td>427.065788</td>\n",
       "    </tr>\n",
       "    <tr>\n",
       "      <th>112</th>\n",
       "      <td>AgriculturalArea.geojson</td>\n",
       "      <td>All</td>\n",
       "      <td>ALL METRICS</td>\n",
       "      <td>185.957397</td>\n",
       "    </tr>\n",
       "    <tr>\n",
       "      <th>3276</th>\n",
       "      <td>cb_2018_us_state_20m.json</td>\n",
       "      <td>All</td>\n",
       "      <td>ALL METRICS</td>\n",
       "      <td>182.357440</td>\n",
       "    </tr>\n",
       "    <tr>\n",
       "      <th>1807</th>\n",
       "      <td>Geologic_overprints.geojson</td>\n",
       "      <td>All</td>\n",
       "      <td>ALL METRICS</td>\n",
       "      <td>181.483543</td>\n",
       "    </tr>\n",
       "    <tr>\n",
       "      <th>225</th>\n",
       "      <td>CityBoundaries.geojson</td>\n",
       "      <td>All</td>\n",
       "      <td>ALL METRICS</td>\n",
       "      <td>179.384297</td>\n",
       "    </tr>\n",
       "    <tr>\n",
       "      <th>1581</th>\n",
       "      <td>Gas_oil_seep.geojson</td>\n",
       "      <td>All</td>\n",
       "      <td>ALL METRICS</td>\n",
       "      <td>153.164898</td>\n",
       "    </tr>\n",
       "    <tr>\n",
       "      <th>1875</th>\n",
       "      <td>Geologic_units.geojson</td>\n",
       "      <td>Glaciation_extents.geojson</td>\n",
       "      <td>ALL METRICS</td>\n",
       "      <td>138.642206</td>\n",
       "    </tr>\n",
       "    <tr>\n",
       "      <th>1468</th>\n",
       "      <td>Gas_fluid_seep.geojson</td>\n",
       "      <td>All</td>\n",
       "      <td>ALL METRICS</td>\n",
       "      <td>137.317986</td>\n",
       "    </tr>\n",
       "    <tr>\n",
       "      <th>790</th>\n",
       "      <td>Bathymetry.geojson</td>\n",
       "      <td>All</td>\n",
       "      <td>ALL METRICS</td>\n",
       "      <td>132.174476</td>\n",
       "    </tr>\n",
       "    <tr>\n",
       "      <th>1823</th>\n",
       "      <td>Geologic_units.geojson</td>\n",
       "      <td>EcoRegions.geojson</td>\n",
       "      <td>ALL METRICS</td>\n",
       "      <td>128.747482</td>\n",
       "    </tr>\n",
       "    <tr>\n",
       "      <th>1859</th>\n",
       "      <td>Geologic_units.geojson</td>\n",
       "      <td>Gas_fluid_seep.geojson</td>\n",
       "      <td>ALL METRICS</td>\n",
       "      <td>120.991678</td>\n",
       "    </tr>\n",
       "    <tr>\n",
       "      <th>2033</th>\n",
       "      <td>Glaciation_extents.geojson</td>\n",
       "      <td>All</td>\n",
       "      <td>ALL METRICS</td>\n",
       "      <td>118.174603</td>\n",
       "    </tr>\n",
       "    <tr>\n",
       "      <th>2146</th>\n",
       "      <td>Hydrothermal_vents.geojson</td>\n",
       "      <td>All</td>\n",
       "      <td>ALL METRICS</td>\n",
       "      <td>116.247141</td>\n",
       "    </tr>\n",
       "    <tr>\n",
       "      <th>2598</th>\n",
       "      <td>Phosphate_nodules_pavement.geojson</td>\n",
       "      <td>All</td>\n",
       "      <td>ALL METRICS</td>\n",
       "      <td>112.894480</td>\n",
       "    </tr>\n",
       "    <tr>\n",
       "      <th>3163</th>\n",
       "      <td>WorldContinents.geojson</td>\n",
       "      <td>All</td>\n",
       "      <td>ALL METRICS</td>\n",
       "      <td>109.956905</td>\n",
       "    </tr>\n",
       "    <tr>\n",
       "      <th>338</th>\n",
       "      <td>CountryTerritories.geojson</td>\n",
       "      <td>All</td>\n",
       "      <td>ALL METRICS</td>\n",
       "      <td>109.448736</td>\n",
       "    </tr>\n",
       "    <tr>\n",
       "      <th>1129</th>\n",
       "      <td>Diapirs.geojson</td>\n",
       "      <td>All</td>\n",
       "      <td>ALL METRICS</td>\n",
       "      <td>107.152765</td>\n",
       "    </tr>\n",
       "    <tr>\n",
       "      <th>1355</th>\n",
       "      <td>Faults.geojson</td>\n",
       "      <td>All</td>\n",
       "      <td>ALL METRICS</td>\n",
       "      <td>100.925509</td>\n",
       "    </tr>\n",
       "  </tbody>\n",
       "</table>\n",
       "</div>"
      ],
      "text/plain": [
       "                                   File1                       File2  \\\n",
       "1920              Geologic_units.geojson                         All   \n",
       "1694           Geologic_contacts.geojson                         All   \n",
       "451                   EcoRegions.geojson                         All   \n",
       "112             AgriculturalArea.geojson                         All   \n",
       "3276           cb_2018_us_state_20m.json                         All   \n",
       "1807         Geologic_overprints.geojson                         All   \n",
       "225               CityBoundaries.geojson                         All   \n",
       "1581                Gas_oil_seep.geojson                         All   \n",
       "1875              Geologic_units.geojson  Glaciation_extents.geojson   \n",
       "1468              Gas_fluid_seep.geojson                         All   \n",
       "790                   Bathymetry.geojson                         All   \n",
       "1823              Geologic_units.geojson          EcoRegions.geojson   \n",
       "1859              Geologic_units.geojson      Gas_fluid_seep.geojson   \n",
       "2033          Glaciation_extents.geojson                         All   \n",
       "2146          Hydrothermal_vents.geojson                         All   \n",
       "2598  Phosphate_nodules_pavement.geojson                         All   \n",
       "3163             WorldContinents.geojson                         All   \n",
       "338           CountryTerritories.geojson                         All   \n",
       "1129                     Diapirs.geojson                         All   \n",
       "1355                      Faults.geojson                         All   \n",
       "\n",
       "          Measure    TotalTime  \n",
       "1920  ALL METRICS  1668.512366  \n",
       "1694  ALL METRICS   452.212719  \n",
       "451   ALL METRICS   427.065788  \n",
       "112   ALL METRICS   185.957397  \n",
       "3276  ALL METRICS   182.357440  \n",
       "1807  ALL METRICS   181.483543  \n",
       "225   ALL METRICS   179.384297  \n",
       "1581  ALL METRICS   153.164898  \n",
       "1875  ALL METRICS   138.642206  \n",
       "1468  ALL METRICS   137.317986  \n",
       "790   ALL METRICS   132.174476  \n",
       "1823  ALL METRICS   128.747482  \n",
       "1859  ALL METRICS   120.991678  \n",
       "2033  ALL METRICS   118.174603  \n",
       "2146  ALL METRICS   116.247141  \n",
       "2598  ALL METRICS   112.894480  \n",
       "3163  ALL METRICS   109.956905  \n",
       "338   ALL METRICS   109.448736  \n",
       "1129  ALL METRICS   107.152765  \n",
       "1355  ALL METRICS   100.925509  "
      ]
     },
     "execution_count": 20,
     "metadata": {},
     "output_type": "execute_result"
    }
   ],
   "source": [
    "# Sort by TotalTime descending\n",
    "results_df = results_df.sort_values(by='TotalTime', ascending=False)\n",
    "\n",
    "results_df.head(20)"
   ]
  },
  {
   "cell_type": "code",
   "execution_count": null,
   "metadata": {},
   "outputs": [],
   "source": []
  }
 ],
 "metadata": {
  "kernelspec": {
   "display_name": "Python 3 (ipykernel)",
   "language": "python",
   "name": "python3"
  },
  "language_info": {
   "codemirror_mode": {
    "name": "ipython",
    "version": 3
   },
   "file_extension": ".py",
   "mimetype": "text/x-python",
   "name": "python",
   "nbconvert_exporter": "python",
   "pygments_lexer": "ipython3",
   "version": "3.9.18"
  }
 },
 "nbformat": 4,
 "nbformat_minor": 2
}
