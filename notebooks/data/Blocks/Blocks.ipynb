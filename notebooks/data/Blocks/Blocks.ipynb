{
 "cells": [
  {
   "cell_type": "markdown",
   "metadata": {},
   "source": [
    "Source: https://www.census.gov/geographies/mapping-files/time-series/geo/cartographic-boundary.html"
   ]
  },
  {
   "cell_type": "code",
   "execution_count": 1,
   "metadata": {},
   "outputs": [],
   "source": [
    "import geopandas"
   ]
  },
  {
   "cell_type": "code",
   "execution_count": 387,
   "metadata": {},
   "outputs": [],
   "source": [
    "shape_file = geopandas.read_file('./cb_2022_56_bg_500k.shp')"
   ]
  },
  {
   "cell_type": "code",
   "execution_count": 388,
   "metadata": {},
   "outputs": [
    {
     "name": "stdout",
     "output_type": "stream",
     "text": [
      "EPSG:4269\n"
     ]
    }
   ],
   "source": [
    "print(shape_file.crs)"
   ]
  },
  {
   "cell_type": "code",
   "execution_count": 389,
   "metadata": {},
   "outputs": [],
   "source": [
    "shape_file = shape_file.to_crs(\"EPSG:4326\")"
   ]
  },
  {
   "cell_type": "code",
   "execution_count": 390,
   "metadata": {},
   "outputs": [
    {
     "data": {
      "text/html": [
       "<div>\n",
       "<style scoped>\n",
       "    .dataframe tbody tr th:only-of-type {\n",
       "        vertical-align: middle;\n",
       "    }\n",
       "\n",
       "    .dataframe tbody tr th {\n",
       "        vertical-align: top;\n",
       "    }\n",
       "\n",
       "    .dataframe thead th {\n",
       "        text-align: right;\n",
       "    }\n",
       "</style>\n",
       "<table border=\"1\" class=\"dataframe\">\n",
       "  <thead>\n",
       "    <tr style=\"text-align: right;\">\n",
       "      <th></th>\n",
       "      <th>STATEFP</th>\n",
       "      <th>COUNTYFP</th>\n",
       "      <th>TRACTCE</th>\n",
       "      <th>BLKGRPCE</th>\n",
       "      <th>AFFGEOID</th>\n",
       "      <th>GEOID</th>\n",
       "      <th>NAME</th>\n",
       "      <th>NAMELSAD</th>\n",
       "      <th>LSAD</th>\n",
       "      <th>ALAND</th>\n",
       "      <th>AWATER</th>\n",
       "      <th>geometry</th>\n",
       "    </tr>\n",
       "  </thead>\n",
       "  <tbody>\n",
       "    <tr>\n",
       "      <th>0</th>\n",
       "      <td>56</td>\n",
       "      <td>031</td>\n",
       "      <td>959401</td>\n",
       "      <td>5</td>\n",
       "      <td>1500000US560319594015</td>\n",
       "      <td>560319594015</td>\n",
       "      <td>5</td>\n",
       "      <td>Block Group 5</td>\n",
       "      <td>BG</td>\n",
       "      <td>27983475</td>\n",
       "      <td>0</td>\n",
       "      <td>POLYGON ((-105.06002 42.04597, -104.98253 42.0...</td>\n",
       "    </tr>\n",
       "    <tr>\n",
       "      <th>1</th>\n",
       "      <td>56</td>\n",
       "      <td>043</td>\n",
       "      <td>000200</td>\n",
       "      <td>4</td>\n",
       "      <td>1500000US560430002004</td>\n",
       "      <td>560430002004</td>\n",
       "      <td>4</td>\n",
       "      <td>Block Group 4</td>\n",
       "      <td>BG</td>\n",
       "      <td>1111737931</td>\n",
       "      <td>2221141</td>\n",
       "      <td>POLYGON ((-108.20175 43.82625, -108.19972 43.8...</td>\n",
       "    </tr>\n",
       "    <tr>\n",
       "      <th>2</th>\n",
       "      <td>56</td>\n",
       "      <td>025</td>\n",
       "      <td>000200</td>\n",
       "      <td>4</td>\n",
       "      <td>1500000US560250002004</td>\n",
       "      <td>560250002004</td>\n",
       "      <td>4</td>\n",
       "      <td>Block Group 4</td>\n",
       "      <td>BG</td>\n",
       "      <td>1001981</td>\n",
       "      <td>0</td>\n",
       "      <td>POLYGON ((-106.32518 42.85403, -106.31217 42.8...</td>\n",
       "    </tr>\n",
       "    <tr>\n",
       "      <th>3</th>\n",
       "      <td>56</td>\n",
       "      <td>035</td>\n",
       "      <td>000104</td>\n",
       "      <td>1</td>\n",
       "      <td>1500000US560350001041</td>\n",
       "      <td>560350001041</td>\n",
       "      <td>1</td>\n",
       "      <td>Block Group 1</td>\n",
       "      <td>BG</td>\n",
       "      <td>2867651560</td>\n",
       "      <td>26263202</td>\n",
       "      <td>POLYGON ((-109.79277 42.79878, -109.79303 42.8...</td>\n",
       "    </tr>\n",
       "    <tr>\n",
       "      <th>4</th>\n",
       "      <td>56</td>\n",
       "      <td>003</td>\n",
       "      <td>962800</td>\n",
       "      <td>1</td>\n",
       "      <td>1500000US560039628001</td>\n",
       "      <td>560039628001</td>\n",
       "      <td>1</td>\n",
       "      <td>Block Group 1</td>\n",
       "      <td>BG</td>\n",
       "      <td>1065851817</td>\n",
       "      <td>22761656</td>\n",
       "      <td>POLYGON ((-108.62184 44.99613, -108.62183 44.9...</td>\n",
       "    </tr>\n",
       "  </tbody>\n",
       "</table>\n",
       "</div>"
      ],
      "text/plain": [
       "  STATEFP COUNTYFP TRACTCE BLKGRPCE               AFFGEOID         GEOID NAME  \\\n",
       "0      56      031  959401        5  1500000US560319594015  560319594015    5   \n",
       "1      56      043  000200        4  1500000US560430002004  560430002004    4   \n",
       "2      56      025  000200        4  1500000US560250002004  560250002004    4   \n",
       "3      56      035  000104        1  1500000US560350001041  560350001041    1   \n",
       "4      56      003  962800        1  1500000US560039628001  560039628001    1   \n",
       "\n",
       "        NAMELSAD LSAD       ALAND    AWATER  \\\n",
       "0  Block Group 5   BG    27983475         0   \n",
       "1  Block Group 4   BG  1111737931   2221141   \n",
       "2  Block Group 4   BG     1001981         0   \n",
       "3  Block Group 1   BG  2867651560  26263202   \n",
       "4  Block Group 1   BG  1065851817  22761656   \n",
       "\n",
       "                                            geometry  \n",
       "0  POLYGON ((-105.06002 42.04597, -104.98253 42.0...  \n",
       "1  POLYGON ((-108.20175 43.82625, -108.19972 43.8...  \n",
       "2  POLYGON ((-106.32518 42.85403, -106.31217 42.8...  \n",
       "3  POLYGON ((-109.79277 42.79878, -109.79303 42.8...  \n",
       "4  POLYGON ((-108.62184 44.99613, -108.62183 44.9...  "
      ]
     },
     "execution_count": 390,
     "metadata": {},
     "output_type": "execute_result"
    }
   ],
   "source": [
    "shape_file.head()"
   ]
  },
  {
   "cell_type": "code",
   "execution_count": 391,
   "metadata": {},
   "outputs": [
    {
     "data": {
      "text/plain": [
       "STATEFP     457\n",
       "COUNTYFP    457\n",
       "TRACTCE     457\n",
       "BLKGRPCE    457\n",
       "AFFGEOID    457\n",
       "GEOID       457\n",
       "NAME        457\n",
       "NAMELSAD    457\n",
       "LSAD        457\n",
       "ALAND       457\n",
       "AWATER      457\n",
       "geometry    457\n",
       "dtype: int64"
      ]
     },
     "execution_count": 391,
     "metadata": {},
     "output_type": "execute_result"
    }
   ],
   "source": [
    "shape_file.count()"
   ]
  },
  {
   "cell_type": "code",
   "execution_count": 392,
   "metadata": {},
   "outputs": [],
   "source": [
    "state = input(\"State?\")"
   ]
  },
  {
   "cell_type": "code",
   "execution_count": 393,
   "metadata": {},
   "outputs": [],
   "source": [
    "shape_file.to_file(f'{state}.geojson', driver='GeoJSON')"
   ]
  },
  {
   "cell_type": "code",
   "execution_count": null,
   "metadata": {},
   "outputs": [],
   "source": []
  }
 ],
 "metadata": {
  "kernelspec": {
   "display_name": "Python 3",
   "language": "python",
   "name": "python3"
  },
  "language_info": {
   "codemirror_mode": {
    "name": "ipython",
    "version": 3
   },
   "file_extension": ".py",
   "mimetype": "text/x-python",
   "name": "python",
   "nbconvert_exporter": "python",
   "pygments_lexer": "ipython3",
   "version": "3.9.18"
  },
  "orig_nbformat": 4
 },
 "nbformat": 4,
 "nbformat_minor": 2
}
