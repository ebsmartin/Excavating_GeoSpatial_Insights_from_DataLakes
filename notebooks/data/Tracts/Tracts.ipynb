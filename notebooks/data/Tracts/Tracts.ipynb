{
 "cells": [
  {
   "cell_type": "markdown",
   "metadata": {},
   "source": [
    "Source: https://www.census.gov/geographies/mapping-files/time-series/geo/cartographic-boundary.html"
   ]
  },
  {
   "cell_type": "code",
   "execution_count": 1,
   "metadata": {},
   "outputs": [],
   "source": [
    "import geopandas"
   ]
  },
  {
   "cell_type": "code",
   "execution_count": 2,
   "metadata": {},
   "outputs": [],
   "source": [
    "shape_file = geopandas.read_file('./cb_2022_us_tract_500k.shp')"
   ]
  },
  {
   "cell_type": "code",
   "execution_count": 4,
   "metadata": {},
   "outputs": [
    {
     "name": "stdout",
     "output_type": "stream",
     "text": [
      "EPSG:4269\n"
     ]
    }
   ],
   "source": [
    "print(shape_file.crs)\n",
    "shape_file = shape_file.to_crs(\"EPSG:4326\")"
   ]
  },
  {
   "cell_type": "code",
   "execution_count": 5,
   "metadata": {},
   "outputs": [
    {
     "data": {
      "text/html": [
       "<div>\n",
       "<style scoped>\n",
       "    .dataframe tbody tr th:only-of-type {\n",
       "        vertical-align: middle;\n",
       "    }\n",
       "\n",
       "    .dataframe tbody tr th {\n",
       "        vertical-align: top;\n",
       "    }\n",
       "\n",
       "    .dataframe thead th {\n",
       "        text-align: right;\n",
       "    }\n",
       "</style>\n",
       "<table border=\"1\" class=\"dataframe\">\n",
       "  <thead>\n",
       "    <tr style=\"text-align: right;\">\n",
       "      <th></th>\n",
       "      <th>STATEFP</th>\n",
       "      <th>COUNTYFP</th>\n",
       "      <th>TRACTCE</th>\n",
       "      <th>AFFGEOID</th>\n",
       "      <th>GEOID</th>\n",
       "      <th>NAME</th>\n",
       "      <th>NAMELSAD</th>\n",
       "      <th>STUSPS</th>\n",
       "      <th>NAMELSADCO</th>\n",
       "      <th>STATE_NAME</th>\n",
       "      <th>LSAD</th>\n",
       "      <th>ALAND</th>\n",
       "      <th>AWATER</th>\n",
       "      <th>geometry</th>\n",
       "    </tr>\n",
       "  </thead>\n",
       "  <tbody>\n",
       "    <tr>\n",
       "      <th>0</th>\n",
       "      <td>06</td>\n",
       "      <td>077</td>\n",
       "      <td>005127</td>\n",
       "      <td>1400000US06077005127</td>\n",
       "      <td>06077005127</td>\n",
       "      <td>51.27</td>\n",
       "      <td>Census Tract 51.27</td>\n",
       "      <td>CA</td>\n",
       "      <td>San Joaquin County</td>\n",
       "      <td>California</td>\n",
       "      <td>CT</td>\n",
       "      <td>1960015</td>\n",
       "      <td>0</td>\n",
       "      <td>POLYGON ((-121.28708 37.83381, -121.28499 37.8...</td>\n",
       "    </tr>\n",
       "    <tr>\n",
       "      <th>1</th>\n",
       "      <td>06</td>\n",
       "      <td>077</td>\n",
       "      <td>003406</td>\n",
       "      <td>1400000US06077003406</td>\n",
       "      <td>06077003406</td>\n",
       "      <td>34.06</td>\n",
       "      <td>Census Tract 34.06</td>\n",
       "      <td>CA</td>\n",
       "      <td>San Joaquin County</td>\n",
       "      <td>California</td>\n",
       "      <td>CT</td>\n",
       "      <td>839414</td>\n",
       "      <td>14789</td>\n",
       "      <td>POLYGON ((-121.30900 38.02824, -121.30461 38.0...</td>\n",
       "    </tr>\n",
       "    <tr>\n",
       "      <th>2</th>\n",
       "      <td>06</td>\n",
       "      <td>077</td>\n",
       "      <td>004402</td>\n",
       "      <td>1400000US06077004402</td>\n",
       "      <td>06077004402</td>\n",
       "      <td>44.02</td>\n",
       "      <td>Census Tract 44.02</td>\n",
       "      <td>CA</td>\n",
       "      <td>San Joaquin County</td>\n",
       "      <td>California</td>\n",
       "      <td>CT</td>\n",
       "      <td>4346363</td>\n",
       "      <td>0</td>\n",
       "      <td>POLYGON ((-121.27339 38.10811, -121.27286 38.1...</td>\n",
       "    </tr>\n",
       "    <tr>\n",
       "      <th>3</th>\n",
       "      <td>06</td>\n",
       "      <td>077</td>\n",
       "      <td>001700</td>\n",
       "      <td>1400000US06077001700</td>\n",
       "      <td>06077001700</td>\n",
       "      <td>17</td>\n",
       "      <td>Census Tract 17</td>\n",
       "      <td>CA</td>\n",
       "      <td>San Joaquin County</td>\n",
       "      <td>California</td>\n",
       "      <td>CT</td>\n",
       "      <td>1685934</td>\n",
       "      <td>0</td>\n",
       "      <td>POLYGON ((-121.26642 37.97530, -121.26453 37.9...</td>\n",
       "    </tr>\n",
       "    <tr>\n",
       "      <th>4</th>\n",
       "      <td>06</td>\n",
       "      <td>077</td>\n",
       "      <td>000401</td>\n",
       "      <td>1400000US06077000401</td>\n",
       "      <td>06077000401</td>\n",
       "      <td>4.01</td>\n",
       "      <td>Census Tract 4.01</td>\n",
       "      <td>CA</td>\n",
       "      <td>San Joaquin County</td>\n",
       "      <td>California</td>\n",
       "      <td>CT</td>\n",
       "      <td>1045658</td>\n",
       "      <td>0</td>\n",
       "      <td>POLYGON ((-121.31334 37.96416, -121.30553 37.9...</td>\n",
       "    </tr>\n",
       "  </tbody>\n",
       "</table>\n",
       "</div>"
      ],
      "text/plain": [
       "  STATEFP COUNTYFP TRACTCE              AFFGEOID        GEOID   NAME  \\\n",
       "0      06      077  005127  1400000US06077005127  06077005127  51.27   \n",
       "1      06      077  003406  1400000US06077003406  06077003406  34.06   \n",
       "2      06      077  004402  1400000US06077004402  06077004402  44.02   \n",
       "3      06      077  001700  1400000US06077001700  06077001700     17   \n",
       "4      06      077  000401  1400000US06077000401  06077000401   4.01   \n",
       "\n",
       "             NAMELSAD STUSPS          NAMELSADCO  STATE_NAME LSAD    ALAND  \\\n",
       "0  Census Tract 51.27     CA  San Joaquin County  California   CT  1960015   \n",
       "1  Census Tract 34.06     CA  San Joaquin County  California   CT   839414   \n",
       "2  Census Tract 44.02     CA  San Joaquin County  California   CT  4346363   \n",
       "3     Census Tract 17     CA  San Joaquin County  California   CT  1685934   \n",
       "4   Census Tract 4.01     CA  San Joaquin County  California   CT  1045658   \n",
       "\n",
       "   AWATER                                           geometry  \n",
       "0       0  POLYGON ((-121.28708 37.83381, -121.28499 37.8...  \n",
       "1   14789  POLYGON ((-121.30900 38.02824, -121.30461 38.0...  \n",
       "2       0  POLYGON ((-121.27339 38.10811, -121.27286 38.1...  \n",
       "3       0  POLYGON ((-121.26642 37.97530, -121.26453 37.9...  \n",
       "4       0  POLYGON ((-121.31334 37.96416, -121.30553 37.9...  "
      ]
     },
     "execution_count": 5,
     "metadata": {},
     "output_type": "execute_result"
    }
   ],
   "source": [
    "shape_file.head()"
   ]
  },
  {
   "cell_type": "code",
   "execution_count": 6,
   "metadata": {},
   "outputs": [
    {
     "data": {
      "text/plain": [
       "STATEFP       85185\n",
       "COUNTYFP      85185\n",
       "TRACTCE       85185\n",
       "AFFGEOID      85185\n",
       "GEOID         85185\n",
       "NAME          85185\n",
       "NAMELSAD      85185\n",
       "STUSPS        85185\n",
       "NAMELSADCO    85185\n",
       "STATE_NAME    85185\n",
       "LSAD          85185\n",
       "ALAND         85185\n",
       "AWATER        85185\n",
       "geometry      85185\n",
       "dtype: int64"
      ]
     },
     "execution_count": 6,
     "metadata": {},
     "output_type": "execute_result"
    }
   ],
   "source": [
    "shape_file.count()"
   ]
  },
  {
   "cell_type": "code",
   "execution_count": 7,
   "metadata": {},
   "outputs": [
    {
     "name": "stdout",
     "output_type": "stream",
     "text": [
      "Exported CaliforniaTracts.geojson\n",
      "Exported NorthCarolinaTracts.geojson\n",
      "Exported ArkansasTracts.geojson\n",
      "Exported AlaskaTracts.geojson\n",
      "Exported FloridaTracts.geojson\n",
      "Exported MissouriTracts.geojson\n",
      "Exported HawaiiTracts.geojson\n",
      "Exported GeorgiaTracts.geojson\n",
      "Exported OhioTracts.geojson\n",
      "Exported KansasTracts.geojson\n",
      "Exported MichiganTracts.geojson\n",
      "Exported LouisianaTracts.geojson\n",
      "Exported IowaTracts.geojson\n",
      "Exported IndianaTracts.geojson\n",
      "Exported AlabamaTracts.geojson\n",
      "Exported MississippiTracts.geojson\n",
      "Exported MontanaTracts.geojson\n",
      "Exported TennesseeTracts.geojson\n",
      "Exported PuertoRicoTracts.geojson\n",
      "Exported OklahomaTracts.geojson\n",
      "Exported SouthDakotaTracts.geojson\n",
      "Exported NewYorkTracts.geojson\n",
      "Exported ColoradoTracts.geojson\n",
      "Exported KentuckyTracts.geojson\n",
      "Exported NebraskaTracts.geojson\n",
      "Exported MaineTracts.geojson\n",
      "Exported IllinoisTracts.geojson\n",
      "Exported IdahoTracts.geojson\n",
      "Exported TexasTracts.geojson\n",
      "Exported NorthDakotaTracts.geojson\n",
      "Exported WisconsinTracts.geojson\n",
      "Exported MarylandTracts.geojson\n",
      "Exported MinnesotaTracts.geojson\n",
      "Exported UtahTracts.geojson\n",
      "Exported MassachusettsTracts.geojson\n",
      "Exported PennsylvaniaTracts.geojson\n",
      "Exported OregonTracts.geojson\n",
      "Exported SouthCarolinaTracts.geojson\n",
      "Exported WestVirginiaTracts.geojson\n",
      "Exported VirginiaTracts.geojson\n",
      "Exported RhodeIslandTracts.geojson\n",
      "Exported NewHampshireTracts.geojson\n",
      "Exported UnitedStatesVirginIslandsTracts.geojson\n",
      "Exported WyomingTracts.geojson\n",
      "Exported WashingtonTracts.geojson\n",
      "Exported VermontTracts.geojson\n",
      "Exported NewJerseyTracts.geojson\n",
      "Exported NewMexicoTracts.geojson\n",
      "Exported DistrictofColumbiaTracts.geojson\n",
      "Exported DelawareTracts.geojson\n",
      "Exported ConnecticutTracts.geojson\n",
      "Exported AmericanSamoaTracts.geojson\n",
      "Exported NevadaTracts.geojson\n",
      "Exported GuamTracts.geojson\n",
      "Exported ArizonaTracts.geojson\n",
      "Exported CommonwealthoftheNorthernMarianaIslandsTracts.geojson\n"
     ]
    }
   ],
   "source": [
    "# Loop through each unique state in the DataFrame\n",
    "for state in shape_file['STATE_NAME'].unique():\n",
    "    # Filter the DataFrame for the current state\n",
    "    condition = shape_file['STATE_NAME'] == state\n",
    "    filtered_gdf = shape_file[condition]\n",
    "\n",
    "    filename = f'{state.replace(\" \", \"\")}Tracts.geojson'\n",
    "    filtered_gdf.to_file(filename, driver='GeoJSON')\n",
    "    print(f'Exported {filename}')"
   ]
  },
  {
   "cell_type": "code",
   "execution_count": null,
   "metadata": {},
   "outputs": [],
   "source": []
  }
 ],
 "metadata": {
  "kernelspec": {
   "display_name": "Python 3",
   "language": "python",
   "name": "python3"
  },
  "language_info": {
   "codemirror_mode": {
    "name": "ipython",
    "version": 3
   },
   "file_extension": ".py",
   "mimetype": "text/x-python",
   "name": "python",
   "nbconvert_exporter": "python",
   "pygments_lexer": "ipython3",
   "version": "3.9.18"
  },
  "orig_nbformat": 4
 },
 "nbformat": 4,
 "nbformat_minor": 2
}
