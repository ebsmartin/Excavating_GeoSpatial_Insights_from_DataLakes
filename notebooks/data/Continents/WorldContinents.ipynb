{
 "cells": [
  {
   "cell_type": "code",
   "execution_count": 1,
   "id": "c1f99ab8",
   "metadata": {},
   "outputs": [
    {
     "name": "stdout",
     "output_type": "stream",
     "text": [
      "Defaulting to user installation because normal site-packages is not writeable\n",
      "Requirement already satisfied: geopandas in /s/chopin/a/grad/flarrieu/.local/lib/python3.9/site-packages (0.14.3)\n",
      "Requirement already satisfied: matplotlib in /usr/local/python-env/py39/lib/python3.9/site-packages (3.5.2)\n",
      "Requirement already satisfied: pyproj>=3.3.0 in /s/chopin/a/grad/flarrieu/.local/lib/python3.9/site-packages (from geopandas) (3.6.1)\n",
      "Requirement already satisfied: shapely>=1.8.0 in /s/chopin/a/grad/flarrieu/.local/lib/python3.9/site-packages (from geopandas) (2.0.3)\n",
      "Requirement already satisfied: pandas>=1.4.0 in /usr/local/python-env/py39/lib/python3.9/site-packages (from geopandas) (1.4.3)\n",
      "Requirement already satisfied: fiona>=1.8.21 in /s/chopin/a/grad/flarrieu/.local/lib/python3.9/site-packages (from geopandas) (1.9.6)\n",
      "Requirement already satisfied: packaging in /usr/local/python-env/py39/lib/python3.9/site-packages (from geopandas) (21.3)\n",
      "Requirement already satisfied: pillow>=6.2.0 in /usr/local/python-env/py39/lib/python3.9/site-packages (from matplotlib) (9.2.0)\n",
      "Requirement already satisfied: pyparsing>=2.2.1 in /usr/local/python-env/py39/lib/python3.9/site-packages (from matplotlib) (3.0.9)\n",
      "Requirement already satisfied: fonttools>=4.22.0 in /usr/local/python-env/py39/lib/python3.9/site-packages (from matplotlib) (4.34.4)\n",
      "Requirement already satisfied: cycler>=0.10 in /usr/local/python-env/py39/lib/python3.9/site-packages (from matplotlib) (0.11.0)\n",
      "Requirement already satisfied: kiwisolver>=1.0.1 in /usr/local/python-env/py39/lib/python3.9/site-packages (from matplotlib) (1.4.4)\n",
      "Requirement already satisfied: python-dateutil>=2.7 in /usr/local/python-env/py39/lib/python3.9/site-packages (from matplotlib) (2.8.2)\n",
      "Requirement already satisfied: numpy>=1.17 in /usr/local/python-env/py39/lib/python3.9/site-packages (from matplotlib) (1.26.4)\n",
      "Requirement already satisfied: click~=8.0 in /usr/local/python-env/py39/lib/python3.9/site-packages (from fiona>=1.8.21->geopandas) (8.1.3)\n",
      "Requirement already satisfied: click-plugins>=1.0 in /s/chopin/a/grad/flarrieu/.local/lib/python3.9/site-packages (from fiona>=1.8.21->geopandas) (1.1.1)\n",
      "Requirement already satisfied: six in /usr/local/python-env/py39/lib/python3.9/site-packages (from fiona>=1.8.21->geopandas) (1.16.0)\n",
      "Requirement already satisfied: cligj>=0.5 in /s/chopin/a/grad/flarrieu/.local/lib/python3.9/site-packages (from fiona>=1.8.21->geopandas) (0.7.2)\n",
      "Requirement already satisfied: certifi in /usr/local/python-env/py39/lib/python3.9/site-packages (from fiona>=1.8.21->geopandas) (2022.6.15)\n",
      "Requirement already satisfied: attrs>=19.2.0 in /usr/local/python-env/py39/lib/python3.9/site-packages (from fiona>=1.8.21->geopandas) (21.4.0)\n",
      "Requirement already satisfied: importlib-metadata in /usr/local/python-env/py39/lib/python3.9/site-packages (from fiona>=1.8.21->geopandas) (4.12.0)\n",
      "Requirement already satisfied: pytz>=2020.1 in /usr/local/python-env/py39/lib/python3.9/site-packages (from pandas>=1.4.0->geopandas) (2022.1)\n",
      "Requirement already satisfied: zipp>=0.5 in /usr/local/python-env/py39/lib/python3.9/site-packages (from importlib-metadata->fiona>=1.8.21->geopandas) (3.8.1)\n",
      "--- Logging error ---\n",
      "Traceback (most recent call last):\n",
      "  File \"/usr/local/python-env/py39/lib/python3.9/site-packages/pip/_internal/utils/logging.py\", line 177, in emit\n",
      "    self.console.print(renderable, overflow=\"ignore\", crop=False, style=style)\n",
      "  File \"/usr/local/python-env/py39/lib/python3.9/site-packages/pip/_vendor/rich/console.py\", line 1673, in print\n",
      "    extend(render(renderable, render_options))\n",
      "  File \"/usr/local/python-env/py39/lib/python3.9/site-packages/pip/_vendor/rich/console.py\", line 1305, in render\n",
      "    for render_output in iter_render:\n",
      "  File \"/usr/local/python-env/py39/lib/python3.9/site-packages/pip/_internal/utils/logging.py\", line 134, in __rich_console__\n",
      "    for line in lines:\n",
      "  File \"/usr/local/python-env/py39/lib/python3.9/site-packages/pip/_vendor/rich/segment.py\", line 249, in split_lines\n",
      "    for segment in segments:\n",
      "  File \"/usr/local/python-env/py39/lib/python3.9/site-packages/pip/_vendor/rich/console.py\", line 1283, in render\n",
      "    renderable = rich_cast(renderable)\n",
      "  File \"/usr/local/python-env/py39/lib/python3.9/site-packages/pip/_vendor/rich/protocol.py\", line 36, in rich_cast\n",
      "    renderable = cast_method()\n",
      "  File \"/usr/local/python-env/py39/lib/python3.9/site-packages/pip/_internal/self_outdated_check.py\", line 130, in __rich__\n",
      "    pip_cmd = get_best_invocation_for_this_pip()\n",
      "  File \"/usr/local/python-env/py39/lib/python3.9/site-packages/pip/_internal/utils/entrypoints.py\", line 58, in get_best_invocation_for_this_pip\n",
      "    if found_executable and os.path.samefile(\n",
      "  File \"/usr/lib64/python3.9/genericpath.py\", line 101, in samefile\n",
      "    s2 = os.stat(f2)\n",
      "FileNotFoundError: [Errno 2] No such file or directory: '/usr/bin/pip'\n",
      "Call stack:\n",
      "  File \"/usr/lib64/python3.9/runpy.py\", line 197, in _run_module_as_main\n",
      "    return _run_code(code, main_globals, None,\n",
      "  File \"/usr/lib64/python3.9/runpy.py\", line 87, in _run_code\n",
      "    exec(code, run_globals)\n",
      "  File \"/usr/local/python-env/py39/lib/python3.9/site-packages/pip/__main__.py\", line 31, in <module>\n",
      "    sys.exit(_main())\n",
      "  File \"/usr/local/python-env/py39/lib/python3.9/site-packages/pip/_internal/cli/main.py\", line 70, in main\n",
      "    return command.main(cmd_args)\n",
      "  File \"/usr/local/python-env/py39/lib/python3.9/site-packages/pip/_internal/cli/base_command.py\", line 101, in main\n",
      "    return self._main(args)\n",
      "  File \"/usr/local/python-env/py39/lib/python3.9/site-packages/pip/_internal/cli/base_command.py\", line 223, in _main\n",
      "    self.handle_pip_version_check(options)\n",
      "  File \"/usr/local/python-env/py39/lib/python3.9/site-packages/pip/_internal/cli/req_command.py\", line 190, in handle_pip_version_check\n",
      "    pip_self_version_check(session, options)\n",
      "  File \"/usr/local/python-env/py39/lib/python3.9/site-packages/pip/_internal/self_outdated_check.py\", line 236, in pip_self_version_check\n",
      "    logger.info(\"[present-rich] %s\", upgrade_prompt)\n",
      "  File \"/usr/lib64/python3.9/logging/__init__.py\", line 1446, in info\n",
      "    self._log(INFO, msg, args, **kwargs)\n",
      "  File \"/usr/lib64/python3.9/logging/__init__.py\", line 1589, in _log\n",
      "    self.handle(record)\n",
      "  File \"/usr/lib64/python3.9/logging/__init__.py\", line 1599, in handle\n",
      "    self.callHandlers(record)\n",
      "  File \"/usr/lib64/python3.9/logging/__init__.py\", line 1661, in callHandlers\n",
      "    hdlr.handle(record)\n",
      "  File \"/usr/lib64/python3.9/logging/__init__.py\", line 952, in handle\n",
      "    self.emit(record)\n",
      "  File \"/usr/local/python-env/py39/lib/python3.9/site-packages/pip/_internal/utils/logging.py\", line 179, in emit\n",
      "    self.handleError(record)\n",
      "Message: '[present-rich] %s'\n",
      "Arguments: (UpgradePrompt(old='22.2', new='24.0'),)\n",
      "Note: you may need to restart the kernel to use updated packages.\n"
     ]
    }
   ],
   "source": [
    "%pip install geopandas matplotlib"
   ]
  },
  {
   "cell_type": "code",
   "execution_count": 10,
   "id": "18ec98b9",
   "metadata": {},
   "outputs": [],
   "source": [
    "import geopandas as gpd\n",
    "\n",
    "# Replace 'your_file.geojson' with the path to your GeoJSON file\n",
    "geojson_path = '../rawDatasets/WorldContinents/WorldContinents.geojson'\n",
    "geo_data = gpd.read_file(geojson_path)"
   ]
  },
  {
   "cell_type": "code",
   "execution_count": 11,
   "id": "4038a536",
   "metadata": {},
   "outputs": [
    {
     "name": "stdout",
     "output_type": "stream",
     "text": [
      "EPSG:3857\n"
     ]
    }
   ],
   "source": [
    "desired_epsg = \"EPSG:4326\"\n",
    "print(geo_data.crs)"
   ]
  },
  {
   "cell_type": "code",
   "execution_count": 12,
   "id": "c010410a",
   "metadata": {},
   "outputs": [],
   "source": [
    "geo_data = geo_data.to_crs(\"EPSG:4326\")"
   ]
  },
  {
   "cell_type": "code",
   "execution_count": 13,
   "id": "8a2893c1",
   "metadata": {},
   "outputs": [
    {
     "name": "stdout",
     "output_type": "stream",
     "text": [
      "   FID  OBJECTID      CONTINENT          SQMI          SQKM   Shape_Leng  \\\n",
      "0    1         1         Africa  1.158346e+07  3.000115e+07   426.208612   \n",
      "1    2         2           Asia  1.731728e+07  4.485173e+07  2331.623746   \n",
      "2    3         3      Australia  2.973612e+06  7.701651e+06   252.165311   \n",
      "3    4         4        Oceania  1.656787e+05  4.291076e+05   221.581942   \n",
      "4    5         5  South America  6.856255e+06  1.775769e+07   622.552582   \n",
      "\n",
      "    Shape_Area                                           geometry  \n",
      "0  2559.073098  MULTIPOLYGON (((35.48832 -21.68500, 35.45222 -...  \n",
      "1  5432.085227  MULTIPOLYGON (((-179.99999 68.98009, -179.9580...  \n",
      "2   695.539921  MULTIPOLYGON (((158.88218 -54.71139, 158.87967...  \n",
      "3    42.565470  MULTIPOLYGON (((179.99999 -16.96574, 179.98468...  \n",
      "4  1539.312933  MULTIPOLYGON (((-67.20889 -55.89104, -67.24695...  \n",
      "Index(['FID', 'OBJECTID', 'CONTINENT', 'SQMI', 'SQKM', 'Shape_Leng',\n",
      "       'Shape_Area', 'geometry'],\n",
      "      dtype='object')\n",
      "<bound method DataFrame.count of    FID  OBJECTID      CONTINENT          SQMI          SQKM   Shape_Leng  \\\n",
      "0    1         1         Africa  1.158346e+07  3.000115e+07   426.208612   \n",
      "1    2         2           Asia  1.731728e+07  4.485173e+07  2331.623746   \n",
      "2    3         3      Australia  2.973612e+06  7.701651e+06   252.165311   \n",
      "3    4         4        Oceania  1.656787e+05  4.291076e+05   221.581942   \n",
      "4    5         5  South America  6.856255e+06  1.775769e+07   622.552582   \n",
      "5    6         6     Antarctica  4.754809e+06  1.231495e+07  1555.705550   \n",
      "6    7         7         Europe  3.821854e+06  9.898597e+06  1595.020879   \n",
      "7    8         8  North America  9.339528e+06  2.418936e+07  3955.358714   \n",
      "\n",
      "    Shape_Area                                           geometry  \n",
      "0  2559.073098  MULTIPOLYGON (((35.48832 -21.68500, 35.45222 -...  \n",
      "1  5432.085227  MULTIPOLYGON (((-179.99999 68.98009, -179.9580...  \n",
      "2   695.539921  MULTIPOLYGON (((158.88218 -54.71139, 158.87967...  \n",
      "3    42.565470  MULTIPOLYGON (((179.99999 -16.96574, 179.98468...  \n",
      "4  1539.312933  MULTIPOLYGON (((-67.20889 -55.89104, -67.24695...  \n",
      "5  6054.021507  MULTIPOLYGON (((-179.99999 -84.42904, -179.787...  \n",
      "6  1444.395613  MULTIPOLYGON (((23.84853 35.52298, 23.97138 35...  \n",
      "7  3708.752757  MULTIPOLYGON (((-81.67847 7.38861, -81.64945 7...  >\n"
     ]
    }
   ],
   "source": [
    "print(geo_data.head())\n",
    "print(geo_data.columns)\n",
    "print(geo_data.count)"
   ]
  },
  {
   "cell_type": "code",
   "execution_count": 14,
   "id": "ca2828e2",
   "metadata": {},
   "outputs": [
    {
     "data": {
      "image/png": "[encoded data removed]",
      "text/plain": [
       "<Figure size 432x288 with 1 Axes>"
      ]
     },
     "metadata": {
      "needs_background": "light"
     },
     "output_type": "display_data"
    }
   ],
   "source": [
    "import matplotlib.pyplot as plt\n",
    "\n",
    "geo_data.plot()\n",
    "plt.show()\n"
   ]
  },
  {
   "cell_type": "code",
   "execution_count": 15,
   "id": "8eb51614",
   "metadata": {},
   "outputs": [],
   "source": [
    "geo_data.to_file('WorldContinents.geojson', driver='GeoJSON')"
   ]
  },
  {
   "cell_type": "code",
   "execution_count": null,
   "id": "aa975866",
   "metadata": {},
   "outputs": [],
   "source": []
  }
 ],
 "metadata": {
  "kernelspec": {
   "display_name": "Python 3 (ipykernel)",
   "language": "python",
   "name": "python3"
  },
  "language_info": {
   "codemirror_mode": {
    "name": "ipython",
    "version": 3
   },
   "file_extension": ".py",
   "mimetype": "text/x-python",
   "name": "python",
   "nbconvert_exporter": "python",
   "pygments_lexer": "ipython3",
   "version": "3.9.18"
  }
 },
 "nbformat": 4,
 "nbformat_minor": 5
}
