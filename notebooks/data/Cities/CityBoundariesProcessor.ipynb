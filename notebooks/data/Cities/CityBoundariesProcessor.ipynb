{
 "cells": [
  {
   "cell_type": "code",
   "execution_count": 1,
   "id": "ac3beda4",
   "metadata": {},
   "outputs": [
    {
     "name": "stdout",
     "output_type": "stream",
     "text": [
      "Defaulting to user installation because normal site-packages is not writeable\n",
      "Requirement already satisfied: geopandas in /home/federico/.local/lib/python3.10/site-packages (0.14.3)\n",
      "Requirement already satisfied: shapely>=1.8.0 in /home/federico/.local/lib/python3.10/site-packages (from geopandas) (2.0.3)\n",
      "Requirement already satisfied: pandas>=1.4.0 in /home/federico/.local/lib/python3.10/site-packages (from geopandas) (1.5.1)\n",
      "Requirement already satisfied: packaging in /home/federico/.local/lib/python3.10/site-packages (from geopandas) (23.2)\n",
      "Requirement already satisfied: pyproj>=3.3.0 in /home/federico/.local/lib/python3.10/site-packages (from geopandas) (3.6.1)\n",
      "Requirement already satisfied: fiona>=1.8.21 in /home/federico/.local/lib/python3.10/site-packages (from geopandas) (1.9.6)\n",
      "Requirement already satisfied: click~=8.0 in /home/federico/.local/lib/python3.10/site-packages (from fiona>=1.8.21->geopandas) (8.1.7)\n",
      "Requirement already satisfied: certifi in /usr/lib/python3/dist-packages (from fiona>=1.8.21->geopandas) (2020.6.20)\n",
      "Requirement already satisfied: six in /usr/lib/python3/dist-packages (from fiona>=1.8.21->geopandas) (1.16.0)\n",
      "Requirement already satisfied: cligj>=0.5 in /home/federico/.local/lib/python3.10/site-packages (from fiona>=1.8.21->geopandas) (0.7.2)\n",
      "Requirement already satisfied: attrs>=19.2.0 in /home/federico/.local/lib/python3.10/site-packages (from fiona>=1.8.21->geopandas) (22.1.0)\n",
      "Requirement already satisfied: click-plugins>=1.0 in /home/federico/.local/lib/python3.10/site-packages (from fiona>=1.8.21->geopandas) (1.1.1)\n",
      "Requirement already satisfied: pytz>=2020.1 in /usr/lib/python3/dist-packages (from pandas>=1.4.0->geopandas) (2022.1)\n",
      "Requirement already satisfied: numpy>=1.21.0 in /home/federico/.local/lib/python3.10/site-packages (from pandas>=1.4.0->geopandas) (1.23.4)\n",
      "Requirement already satisfied: python-dateutil>=2.8.1 in /home/federico/.local/lib/python3.10/site-packages (from pandas>=1.4.0->geopandas) (2.8.2)\n",
      "Note: you may need to restart the kernel to use updated packages.\n",
      "Defaulting to user installation because normal site-packages is not writeable\n",
      "Requirement already satisfied: matplotlib in /home/federico/.local/lib/python3.10/site-packages (3.6.3)\n",
      "Requirement already satisfied: packaging>=20.0 in /home/federico/.local/lib/python3.10/site-packages (from matplotlib) (23.2)\n",
      "Requirement already satisfied: kiwisolver>=1.0.1 in /home/federico/.local/lib/python3.10/site-packages (from matplotlib) (1.4.4)\n",
      "Requirement already satisfied: fonttools>=4.22.0 in /home/federico/.local/lib/python3.10/site-packages (from matplotlib) (4.38.0)\n",
      "Requirement already satisfied: pillow>=6.2.0 in /usr/lib/python3/dist-packages (from matplotlib) (9.0.1)\n",
      "Requirement already satisfied: contourpy>=1.0.1 in /home/federico/.local/lib/python3.10/site-packages (from matplotlib) (1.0.7)\n",
      "Requirement already satisfied: pyparsing>=2.2.1 in /usr/lib/python3/dist-packages (from matplotlib) (2.4.7)\n",
      "Requirement already satisfied: python-dateutil>=2.7 in /home/federico/.local/lib/python3.10/site-packages (from matplotlib) (2.8.2)\n",
      "Requirement already satisfied: numpy>=1.19 in /home/federico/.local/lib/python3.10/site-packages (from matplotlib) (1.23.4)\n",
      "Requirement already satisfied: cycler>=0.10 in /home/federico/.local/lib/python3.10/site-packages (from matplotlib) (0.11.0)\n",
      "Requirement already satisfied: six>=1.5 in /usr/lib/python3/dist-packages (from python-dateutil>=2.7->matplotlib) (1.16.0)\n",
      "Note: you may need to restart the kernel to use updated packages.\n"
     ]
    }
   ],
   "source": [
    "%pip install geopandas\n",
    "%pip install matplotlib"
   ]
  },
  {
   "cell_type": "code",
   "execution_count": 6,
   "id": "41804efa",
   "metadata": {},
   "outputs": [
    {
     "name": "stdout",
     "output_type": "stream",
     "text": [
      "Index(['NAME', 'CLASS', 'ST', 'STFIPS', 'PLACEFIPS', 'POP2010', 'STPLFIPS',\n",
      "       'geometry'],\n",
      "      dtype='object')\n",
      "<bound method DataFrame.count of            NAME            CLASS  ST STFIPS PLACEFIPS  POP2010 STPLFIPS  \\\n",
      "0         Pharr             city  TX     48     57200    70400  4857200   \n",
      "1       McAllen             city  TX     48     45384   129877  4845384   \n",
      "2      Edinburg             city  TX     48     22660    77100  4822660   \n",
      "3        Laredo             city  TX     48     41464   236091  4841464   \n",
      "4       Mission             city  TX     48     48768    77058  4848768   \n",
      "..          ...              ...  ..    ...       ...      ...      ...   \n",
      "495    St. Paul             city  MN     27     58000   285068  2758000   \n",
      "496   Green Bay             city  WI     55     31000   104057  5531000   \n",
      "497  Burlington             city  VT     50     10675    42417  5010675   \n",
      "498   Anchorage     municipality  AK     02     03000   291826  0203000   \n",
      "499    Honolulu  city and county  HI     15     15003   953207    15003   \n",
      "\n",
      "                                              geometry  \n",
      "0    POLYGON ((-10929531.239 3029892.718, -10929486...  \n",
      "1    POLYGON ((-10934477.721 3037591.957, -10934450...  \n",
      "2    POLYGON ((-10924696.742 3050068.459, -10924700...  \n",
      "3    POLYGON ((-11090500.378 3205304.554, -11090391...  \n",
      "4    POLYGON ((-10946610.100 3030967.743, -10946347...  \n",
      "..                                                 ...  \n",
      "495  POLYGON ((-10357702.614 5620265.600, -10357675...  \n",
      "496  MULTIPOLYGON (((-9780668.954 5550204.977, -978...  \n",
      "497  POLYGON ((-8148808.635 5541978.754, -8148756.0...  \n",
      "498  MULTIPOLYGON (((-16722028.953 8655441.052, -16...  \n",
      "499  MULTIPOLYGON (((-17550277.418 2430210.098, -17...  \n",
      "\n",
      "[500 rows x 8 columns]>\n"
     ]
    },
    {
     "data": {
      "image/png": "[encoded data removed]",
      "text/plain": [
       "<Figure size 640x480 with 1 Axes>"
      ]
     },
     "metadata": {},
     "output_type": "display_data"
    }
   ],
   "source": [
    "import geopandas as gpd\n",
    "import matplotlib.pyplot as plt\n",
    "\n",
    "shp_file_path = './rawDatasets/CityBoundaries/CityBoundaries.shp'\n",
    "\n",
    "# Read the shapefile\n",
    "gdf = gpd.read_file(shp_file_path)\n",
    "\n",
    "# Display all columns in the DataFrame\n",
    "print(gdf.columns)\n",
    "print(gdf.count)\n",
    "\n",
    "# print(\"Top 5 Records:\")\n",
    "# print(gdf.head(10))\n",
    "\n",
    "# Plot the data\n",
    "gdf.plot()\n",
    "\n",
    "# Show the plot\n",
    "plt.show()"
   ]
  },
  {
   "cell_type": "code",
   "execution_count": 5,
   "id": "1b657878",
   "metadata": {},
   "outputs": [],
   "source": [
    "geojson_path = './processedDatasets/CityBoundaries/CityBoundaries.geojson'\n",
    "gdf.to_file(geojson_path, driver='GeoJSON')"
   ]
  },
  {
   "cell_type": "code",
   "execution_count": null,
   "id": "2b6fe31d",
   "metadata": {},
   "outputs": [],
   "source": []
  }
 ],
 "metadata": {
  "kernelspec": {
   "display_name": "Python 3 (ipykernel)",
   "language": "python",
   "name": "python3"
  },
  "language_info": {
   "codemirror_mode": {
    "name": "ipython",
    "version": 3
   },
   "file_extension": ".py",
   "mimetype": "text/x-python",
   "name": "python",
   "nbconvert_exporter": "python",
   "pygments_lexer": "ipython3",
   "version": "3.10.12"
  }
 },
 "nbformat": 4,
 "nbformat_minor": 5
}
