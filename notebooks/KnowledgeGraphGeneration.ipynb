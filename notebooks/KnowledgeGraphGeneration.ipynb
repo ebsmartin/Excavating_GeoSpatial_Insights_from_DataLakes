{
 "cells": [
  {
   "cell_type": "markdown",
   "metadata": {},
   "source": [
    "# **Knowledge Graph Generation**\n"
   ]
  },
  {
   "cell_type": "markdown",
   "metadata": {},
   "source": [
    "### Load data into Spark"
   ]
  },
  {
   "cell_type": "code",
   "execution_count": 1,
   "metadata": {},
   "outputs": [
    {
     "name": "stdout",
     "output_type": "stream",
     "text": [
      "3.5.1\n",
      "/usr/bin/python3.9\n"
     ]
    }
   ],
   "source": [
    "import sys\n",
    "sys.path.append(\"/usr/local/python-env/py39/lib/python3.9/site-packages\")\n",
    "\n",
    "import pyspark\n",
    "print(pyspark.__version__)\n",
    "\n",
    "print(sys.executable)"
   ]
  },
  {
   "cell_type": "markdown",
   "metadata": {},
   "source": [
    "### Initialze a SparkSession"
   ]
  },
  {
   "cell_type": "markdown",
   "metadata": {},
   "source": [
    "Ensuring the pyspark library is being accessed from my local usr directory.\n"
   ]
  },
  {
   "cell_type": "code",
   "execution_count": 2,
   "metadata": {},
   "outputs": [],
   "source": [
    "import os\n",
    "os.environ['PYSPARK_PYTHON'] = '/usr/bin/python3.9'"
   ]
  },
  {
   "cell_type": "code",
   "execution_count": 3,
   "metadata": {},
   "outputs": [
    {
     "name": "stdout",
     "output_type": "stream",
     "text": [
      "Apache Sedona version: 1.5.1\n"
     ]
    }
   ],
   "source": [
    "import pkg_resources\n",
    "\n",
    "sedona_version = pkg_resources.get_distribution(\"apache-sedona\").version\n",
    "print(f\"Apache Sedona version: {sedona_version}\")\n"
   ]
  },
  {
   "cell_type": "code",
   "execution_count": 4,
   "metadata": {},
   "outputs": [
    {
     "name": "stdout",
     "output_type": "stream",
     "text": [
      "/usr/local/spark/latest\n",
      "/usr/bin/python3.9\n"
     ]
    }
   ],
   "source": [
    "print(os.environ['SPARK_HOME'])\n",
    "print(os.environ['PYSPARK_PYTHON'])"
   ]
  },
  {
   "cell_type": "code",
   "execution_count": 5,
   "metadata": {},
   "outputs": [
    {
     "name": "stdout",
     "output_type": "stream",
     "text": [
      "Skipping SedonaKepler import, verify if keplergl is installed\n"
     ]
    }
   ],
   "source": [
    "from pyspark.sql import SparkSession, DataFrame\n",
    "from pyspark.sql.functions import col, lit,  split, expr, concat, when, explode\n",
    "from pyspark.sql import SparkSession, Row\n",
    "from pyspark.sql import functions as F\n",
    "from pyspark.sql.types import IntegerType, DateType\n",
    "from pyspark.sql.functions import year \n",
    "from pyspark.sql import Window\n",
    "from pyspark.sql.functions import sum as pyspark_sum\n",
    "from pyspark.sql import DataFrame\n",
    "from pyspark.sql.types import StructType, StructField, StringType\n",
    "from pyspark.sql import SparkSession\n",
    "from sedona.register import SedonaRegistrator\n",
    "from sedona.utils import SedonaKryoRegistrator, KryoSerializer\n",
    "from sedona.spark import *\n",
    "import geopandas as gpd"
   ]
  },
  {
   "cell_type": "markdown",
   "metadata": {},
   "source": [
    "## Now to make the app"
   ]
  },
  {
   "cell_type": "code",
   "execution_count": 6,
   "metadata": {},
   "outputs": [
    {
     "name": "stderr",
     "output_type": "stream",
     "text": [
      "https://artifacts.unidata.ucar.edu/repository/unidata-all added as a remote repository with the name: repo-1\n",
      "Ivy Default Cache set to: /s/chopin/a/grad/flarrieu/.ivy2/cache\n",
      "The jars for the packages stored in: /s/chopin/a/grad/flarrieu/.ivy2/jars\n",
      "org.apache.sedona#sedona-spark-3.5_2.12 added as a dependency\n",
      "org.datasyslab#geotools-wrapper added as a dependency\n",
      ":: resolving dependencies :: org.apache.spark#spark-submit-parent-209a4d85-873b-4c53-9a18-3505a6c7e02b;1.0\n",
      "\tconfs: [default]\n"
     ]
    },
    {
     "name": "stdout",
     "output_type": "stream",
     "text": [
      ":: loading settings :: url = jar:file:/usr/local/spark/3.5.0-with-hadoop3.3/jars/ivy-2.5.1.jar!/org/apache/ivy/core/settings/ivysettings.xml\n"
     ]
    },
    {
     "name": "stderr",
     "output_type": "stream",
     "text": [
      "\tfound org.apache.sedona#sedona-spark-3.5_2.12;1.5.1 in central\n",
      "\tfound org.apache.sedona#sedona-common;1.5.1 in central\n",
      "\tfound org.apache.commons#commons-math3;3.6.1 in central\n",
      "\tfound org.locationtech.jts#jts-core;1.19.0 in central\n",
      "\tfound org.wololo#jts2geojson;0.16.1 in central\n",
      "\tfound org.locationtech.spatial4j#spatial4j;0.8 in central\n",
      "\tfound com.google.geometry#s2-geometry;2.0.0 in central\n",
      "\tfound com.google.guava#guava;25.1-jre in central\n",
      "\tfound com.google.code.findbugs#jsr305;3.0.2 in user-list\n",
      "\tfound org.checkerframework#checker-qual;2.0.0 in central\n",
      "\tfound com.google.errorprone#error_prone_annotations;2.1.3 in central\n",
      "\tfound com.google.j2objc#j2objc-annotations;1.1 in central\n",
      "\tfound org.codehaus.mojo#animal-sniffer-annotations;1.14 in central\n",
      "\tfound com.uber#h3;4.1.1 in central\n",
      "\tfound net.sf.geographiclib#GeographicLib-Java;1.52 in central\n",
      "\tfound com.github.ben-manes.caffeine#caffeine;2.9.2 in central\n",
      "\tfound org.checkerframework#checker-qual;3.10.0 in central\n",
      "\tfound com.google.errorprone#error_prone_annotations;2.5.1 in central\n",
      "\tfound org.apache.sedona#sedona-spark-common-3.5_2.12;1.5.1 in central\n",
      "\tfound commons-lang#commons-lang;2.6 in user-list\n",
      "\tfound org.scala-lang.modules#scala-collection-compat_2.12;2.5.0 in central\n",
      "\tfound org.beryx#awt-color-factory;1.0.0 in central\n",
      "\tfound org.datasyslab#geotools-wrapper;1.5.1-28.2 in central\n",
      ":: resolution report :: resolve 1103ms :: artifacts dl 47ms\n",
      "\t:: modules in use:\n",
      "\tcom.github.ben-manes.caffeine#caffeine;2.9.2 from central in [default]\n",
      "\tcom.google.code.findbugs#jsr305;3.0.2 from user-list in [default]\n",
      "\tcom.google.errorprone#error_prone_annotations;2.5.1 from central in [default]\n",
      "\tcom.google.geometry#s2-geometry;2.0.0 from central in [default]\n",
      "\tcom.google.guava#guava;25.1-jre from central in [default]\n",
      "\tcom.google.j2objc#j2objc-annotations;1.1 from central in [default]\n",
      "\tcom.uber#h3;4.1.1 from central in [default]\n",
      "\tcommons-lang#commons-lang;2.6 from user-list in [default]\n",
      "\tnet.sf.geographiclib#GeographicLib-Java;1.52 from central in [default]\n",
      "\torg.apache.commons#commons-math3;3.6.1 from central in [default]\n",
      "\torg.apache.sedona#sedona-common;1.5.1 from central in [default]\n",
      "\torg.apache.sedona#sedona-spark-3.5_2.12;1.5.1 from central in [default]\n",
      "\torg.apache.sedona#sedona-spark-common-3.5_2.12;1.5.1 from central in [default]\n",
      "\torg.beryx#awt-color-factory;1.0.0 from central in [default]\n",
      "\torg.checkerframework#checker-qual;3.10.0 from central in [default]\n",
      "\torg.codehaus.mojo#animal-sniffer-annotations;1.14 from central in [default]\n",
      "\torg.datasyslab#geotools-wrapper;1.5.1-28.2 from central in [default]\n",
      "\torg.locationtech.jts#jts-core;1.19.0 from central in [default]\n",
      "\torg.locationtech.spatial4j#spatial4j;0.8 from central in [default]\n",
      "\torg.scala-lang.modules#scala-collection-compat_2.12;2.5.0 from central in [default]\n",
      "\torg.wololo#jts2geojson;0.16.1 from central in [default]\n",
      "\t:: evicted modules:\n",
      "\torg.checkerframework#checker-qual;2.0.0 by [org.checkerframework#checker-qual;3.10.0] in [default]\n",
      "\tcom.google.errorprone#error_prone_annotations;2.1.3 by [com.google.errorprone#error_prone_annotations;2.5.1] in [default]\n",
      "\t---------------------------------------------------------------------\n",
      "\t|                  |            modules            ||   artifacts   |\n",
      "\t|       conf       | number| search|dwnlded|evicted|| number|dwnlded|\n",
      "\t---------------------------------------------------------------------\n",
      "\t|      default     |   23  |   1   |   1   |   2   ||   21  |   0   |\n",
      "\t---------------------------------------------------------------------\n",
      "\n",
      ":: problems summary ::\n",
      ":::: ERRORS\n",
      "\tunknown resolver null\n",
      "\n",
      "\n",
      ":: USE VERBOSE OR DEBUG MESSAGE LEVEL FOR MORE DETAILS\n",
      ":: retrieving :: org.apache.spark#spark-submit-parent-209a4d85-873b-4c53-9a18-3505a6c7e02b\n",
      "\tconfs: [default]\n",
      "\t0 artifacts copied, 21 already retrieved (0kB/18ms)\n",
      "24/04/23 22:10:02 WARN NativeCodeLoader: Unable to load native-hadoop library for your platform... using builtin-java classes where applicable\n",
      "Setting default log level to \"WARN\".\n",
      "To adjust logging level use sc.setLogLevel(newLevel). For SparkR, use setLogLevel(newLevel).\n",
      "/tmp/ipykernel_2142616/4135544272.py:22: DeprecationWarning: Call to deprecated function registerAll (Deprecated since 1.4.1, use SedonaContext.create() instead.).\n",
      "  SedonaRegistrator.registerAll(spark)\n",
      "/s/chopin/a/grad/flarrieu/.local/lib/python3.9/site-packages/sedona/register/geo_registrator.py:45: DeprecationWarning: Call to deprecated function register (Deprecated since 1.4.1, use SedonaContext.create() instead.).\n",
      "  cls.register(spark)\n"
     ]
    }
   ],
   "source": [
    "spark = SparkSession \\\n",
    "    .builder \\\n",
    "    .appName('GeoSpatialQueries_Freddy') \\\n",
    "    .master('spark://columbus-oh.cs.colostate.edu:30800') \\\n",
    "    .config(\"spark.yarn.resourcemanager.address\", \"columbia.cs.colostate.edu:30799\") \\\n",
    "    .config(\"spark.executor.memory\", \"3g\") \\\n",
    "    .config(\"spark.executor.memoryOverhead\", \"512m\") \\\n",
    "    .config(\"spark.memory.offHeap.enabled\", True) \\\n",
    "    .config(\"spark.memory.offHeap.size\", \"500m\") \\\n",
    "    .config(\"spark.serializer\", KryoSerializer.getName) \\\n",
    "    .config(\"spark.kryo.registrator\", SedonaKryoRegistrator.getName) \\\n",
    "    .config('spark.jars.packages',\n",
    "            'org.apache.sedona:sedona-spark-3.5_2.12:1.5.1,'\n",
    "            'org.datasyslab:geotools-wrapper:1.5.1-28.2') \\\n",
    "    .config('spark.jars.repositories', 'https://artifacts.unidata.ucar.edu/repository/unidata-all') \\\n",
    "    .getOrCreate()\n",
    "\n",
    "# Set log level to DEBUG\n",
    "spark.sparkContext.setLogLevel(\"ERROR\")\n",
    "\n",
    "sedona = SedonaContext.create(spark)\n",
    "SedonaRegistrator.registerAll(spark)\n",
    "\n",
    "# create a logger\n",
    "logger = spark._jvm.org.apache.log4j.LogManager.getLogger(__name__)\n",
    "logger.info(\"Pyspark initialized...\")"
   ]
  },
  {
   "cell_type": "markdown",
   "metadata": {},
   "source": [
    "# **Helper Functions**"
   ]
  },
  {
   "cell_type": "code",
   "execution_count": 7,
   "metadata": {},
   "outputs": [],
   "source": [
    "# Import the necessary module from py4j to interact with JVM\n",
    "from py4j.java_gateway import java_import\n",
    "\n",
    "# Import the Path class from Hadoop. This class is used to handle file paths in Hadoop.\n",
    "java_import(spark._jvm, 'org.apache.hadoop.fs.Path')\n",
    "\n",
    "fs = spark._jvm.org.apache.hadoop.fs.FileSystem.get(spark._jsc.hadoopConfiguration())\n",
    "\n",
    "def get_files_recursive(path):\n",
    "    file_status_arr = fs.listStatus(spark._jvm.Path(path))\n",
    "    file_paths = []\n",
    "    \n",
    "    for file_status in file_status_arr:\n",
    "        if file_status.isDirectory():\n",
    "            file_paths += get_files_recursive(file_status.getPath().toString())\n",
    "        elif file_status.getPath().getName().endswith(('.geojson')):\n",
    "            file_paths.append(file_status.getPath().toString())\n",
    "    \n",
    "    print(file_paths)\n",
    "    return file_paths"
   ]
  },
  {
   "cell_type": "code",
   "execution_count": 8,
   "metadata": {},
   "outputs": [],
   "source": [
    "def create_csv(df: DataFrame, path: str):\n",
    "    df.write.csv(path=path, mode='append', header=True)"
   ]
  },
  {
   "cell_type": "code",
   "execution_count": 26,
   "metadata": {},
   "outputs": [],
   "source": [
    "def append_to_csv(df: DataFrame, path: str):\n",
    "    df.write.csv(path=path, mode='append', header=True)"
   ]
  },
  {
   "cell_type": "code",
   "execution_count": 10,
   "metadata": {},
   "outputs": [],
   "source": [
    "def get_file_to_df(file_name: str): \n",
    "    data_directory = \"hdfs://columbus-oh.cs.colostate.edu:30785/geospatial/input/\"\n",
    "    print(f\"Processing file: {file_name}\")\n",
    "\n",
    "    geojson_schema =  \"type string, crs string, totalFeatures long, features array<struct<type string, geometry string, properties map<string, string>>>\"\n",
    "\n",
    "    df = spark.read.schema(geojson_schema).json(data_directory + file_name, multiLine=True)\n",
    "    \n",
    "    df = (df\n",
    "        .select(explode(\"features\").alias(\"features\"))\n",
    "        .select(\"features.*\")\n",
    "        .withColumn(\"geometry\", expr(\"ST_GeomFromGeoJSON(geometry)\"))\n",
    "    )\n",
    "    \n",
    "    return df"
   ]
  },
  {
   "cell_type": "code",
   "execution_count": 11,
   "metadata": {},
   "outputs": [],
   "source": [
    "def create_edge_df(df_parent: DataFrame, subject, relationship, object):\n",
    "    df_edges = df_parent.withColumn(\"Subject\", subject) \\\n",
    "        .withColumn(\"Relationship\", relationship) \\\n",
    "        .withColumn(\"Object\", object) \\\n",
    "        .select(\"Subject\", \"Relationship\", \"Object\")\n",
    "    return df_edges"
   ]
  },
  {
   "cell_type": "code",
   "execution_count": 12,
   "metadata": {},
   "outputs": [],
   "source": [
    "def create_node_df(df_edges: DataFrame, type):\n",
    "    nodes_subject = df_edges.select(col(\"Subject\").alias(\"Node_ID\")).distinct()\n",
    "    nodes_object = df_edges.select(col(\"Object\").alias(\"Node_ID\")).distinct()\n",
    "\n",
    "    nodes_df = nodes_subject.union(nodes_object).distinct()\n",
    "\n",
    "    nodes_df = nodes_df.withColumn(\"Type\", type)\n",
    "    \n",
    "    return nodes_df"
   ]
  },
  {
   "cell_type": "code",
   "execution_count": 13,
   "metadata": {},
   "outputs": [],
   "source": [
    "def create_contains_df(df_parent: DataFrame, df_child: DataFrame, ):\n",
    "    df_parent = df_parent.withColumnRenamed(\"geometry\", \"parent_geometry\")\n",
    "    df_child = df_child.withColumnRenamed(\"geometry\", \"child_geometry\")\n",
    "    df_parent = df_parent.withColumnRenamed(\"properties\", \"parent_properties\")\n",
    "    df_child = df_child.withColumnRenamed(\"properties\", \"child_properties\")\n",
    "\n",
    "    df_parent.createOrReplaceTempView(\"parents\")\n",
    "    df_child.createOrReplaceTempView(\"children\")\n",
    "\n",
    "    df_country_continent_contains = spark.sql(\"\"\"\n",
    "        SELECT *\n",
    "        FROM parents, children\n",
    "        WHERE ST_Contains(parent_geometry, ST_Centroid(child_geometry))\n",
    "    \"\"\")\n",
    "\n",
    "    return df_country_continent_contains.select(\"parent_geometry\", \"child_geometry\", \"parent_properties\", \"child_properties\")"
   ]
  },
  {
   "cell_type": "code",
   "execution_count": 46,
   "metadata": {},
   "outputs": [],
   "source": [
    "from pyspark.sql import DataFrame\n",
    "from functools import reduce\n",
    "\n",
    "def union_all(dfs_dict):\n",
    "    dfs = list(dfs_dict.values())\n",
    "    if dfs:\n",
    "        return reduce(DataFrame.unionByName, dfs)\n",
    "    else:\n",
    "        return None\n"
   ]
  },
  {
   "cell_type": "markdown",
   "metadata": {},
   "source": [
    "# Global Variables"
   ]
  },
  {
   "cell_type": "code",
   "execution_count": 27,
   "metadata": {},
   "outputs": [],
   "source": [
    "base_edges_path = \"hdfs://columbus-oh.cs.colostate.edu:30785/geospatial/graph/BaseEdges.csv\"\n",
    "base_nodes_path = \"hdfs://columbus-oh.cs.colostate.edu:30785/geospatial/graph/BaseNodes.csv\""
   ]
  },
  {
   "cell_type": "markdown",
   "metadata": {},
   "source": [
    "# Global Dataframes"
   ]
  },
  {
   "cell_type": "code",
   "execution_count": 28,
   "metadata": {},
   "outputs": [],
   "source": [
    "final_edge_dataframes = {}\n",
    "final_node_dataframes = {}"
   ]
  },
  {
   "cell_type": "markdown",
   "metadata": {},
   "source": [
    "# **Add Continents**"
   ]
  },
  {
   "cell_type": "code",
   "execution_count": 29,
   "metadata": {},
   "outputs": [],
   "source": [
    "earth_schema = StructType([\n",
    "    StructField(\"Node_ID\", StringType(), True),\n",
    "    StructField(\"Type\", StringType(), True),\n",
    "])\n",
    "\n",
    "empty_earth_df = spark.createDataFrame([Row(Node_ID=\"Planet_Earth\", Type=\"Planet\")], earth_schema)\n",
    "\n",
    "final_node_dataframes[\"Earth\"] = empty_earth_df"
   ]
  },
  {
   "cell_type": "code",
   "execution_count": 30,
   "metadata": {},
   "outputs": [
    {
     "name": "stderr",
     "output_type": "stream",
     "text": [
      "                                                                                \r"
     ]
    },
    {
     "name": "stdout",
     "output_type": "stream",
     "text": [
      "+------------+------+\n",
      "|     Node_ID|  Type|\n",
      "+------------+------+\n",
      "|Planet_Earth|Planet|\n",
      "+------------+------+\n",
      "\n"
     ]
    }
   ],
   "source": [
    "empty_earth_df.show()"
   ]
  },
  {
   "cell_type": "code",
   "execution_count": 31,
   "metadata": {},
   "outputs": [
    {
     "name": "stdout",
     "output_type": "stream",
     "text": [
      "Processing file: WorldContinents.geojson\n",
      "+--------------------+------------+------------+\n",
      "|             Subject|Relationship|      Object|\n",
      "+--------------------+------------+------------+\n",
      "|    Continent_Africa|    isPartOf|Planet_Earth|\n",
      "|      Continent_Asia|    isPartOf|Planet_Earth|\n",
      "| Continent_Australia|    isPartOf|Planet_Earth|\n",
      "|   Continent_Oceania|    isPartOf|Planet_Earth|\n",
      "|Continent_South A...|    isPartOf|Planet_Earth|\n",
      "|Continent_Antarctica|    isPartOf|Planet_Earth|\n",
      "|    Continent_Europe|    isPartOf|Planet_Earth|\n",
      "|Continent_North A...|    isPartOf|Planet_Earth|\n",
      "+--------------------+------------+------------+\n",
      "\n",
      "+------------+------------+--------------------+\n",
      "|     Subject|Relationship|              Object|\n",
      "+------------+------------+--------------------+\n",
      "|Planet_Earth|    Contains|    Continent_Africa|\n",
      "|Planet_Earth|    Contains|      Continent_Asia|\n",
      "|Planet_Earth|    Contains| Continent_Australia|\n",
      "|Planet_Earth|    Contains|   Continent_Oceania|\n",
      "|Planet_Earth|    Contains|Continent_South A...|\n",
      "|Planet_Earth|    Contains|Continent_Antarctica|\n",
      "|Planet_Earth|    Contains|    Continent_Europe|\n",
      "|Planet_Earth|    Contains|Continent_North A...|\n",
      "+------------+------------+--------------------+\n",
      "\n"
     ]
    }
   ],
   "source": [
    "df_continents = get_file_to_df('WorldContinents.geojson')\n",
    "continent_prefix = \"Continent_\"\n",
    "\n",
    "df_continent_isPartOf_earth_edges = create_edge_df(df_continents, subject=concat(lit(continent_prefix), col(\"properties.CONTINENT\")), relationship=lit(\"isPartOf\"), object=lit(\"Planet_Earth\"))\n",
    "\n",
    "df_continent_isPartOf_earth_edges.show()\n",
    "\n",
    "final_edge_dataframes['ContinentIsPartOfEarth'] = df_continent_isPartOf_earth_edges\n",
    "\n",
    "df_earth_contains_edges = create_edge_df(df_continents, lit(\"Planet_Earth\"),  lit(\"Contains\"), concat(lit(continent_prefix), col(\"properties.CONTINENT\")))\n",
    "\n",
    "df_earth_contains_edges.show()\n",
    "\n",
    "final_edge_dataframes['EarthContainsContinent'] = df_earth_contains_edges"
   ]
  },
  {
   "cell_type": "code",
   "execution_count": 32,
   "metadata": {},
   "outputs": [
    {
     "name": "stdout",
     "output_type": "stream",
     "text": [
      "+--------------------+---------+\n",
      "|             Node_ID|     Type|\n",
      "+--------------------+---------+\n",
      "|    Continent_Europe|Continent|\n",
      "|    Continent_Africa|Continent|\n",
      "|   Continent_Oceania|Continent|\n",
      "|      Continent_Asia|Continent|\n",
      "|Continent_South A...|Continent|\n",
      "|Continent_Antarctica|Continent|\n",
      "| Continent_Australia|Continent|\n",
      "|Continent_North A...|Continent|\n",
      "+--------------------+---------+\n",
      "\n"
     ]
    }
   ],
   "source": [
    "df_nodes = create_node_df(df_continent_isPartOf_earth_edges, lit(\"Continent\"))\n",
    "df_nodes = df_nodes.filter(df_nodes[\"Node_ID\"] != \"Planet_Earth\")\n",
    "\n",
    "final_node_dataframes['Continents'] = df_nodes\n",
    "\n",
    "df_nodes.show()"
   ]
  },
  {
   "cell_type": "code",
   "execution_count": 33,
   "metadata": {},
   "outputs": [
    {
     "name": "stderr",
     "output_type": "stream",
     "text": [
      "                                                                                \r"
     ]
    }
   ],
   "source": [
    "create_csv(df_nodes, base_nodes_path)\n",
    "create_csv(df_continent_isPartOf_earth_edges, base_edges_path)\n",
    "append_to_csv(df_earth_contains_edges, base_edges_path)"
   ]
  },
  {
   "cell_type": "markdown",
   "metadata": {},
   "source": [
    "# **Add Countries**"
   ]
  },
  {
   "cell_type": "code",
   "execution_count": 34,
   "metadata": {},
   "outputs": [
    {
     "name": "stdout",
     "output_type": "stream",
     "text": [
      "Processing file: WorldContinents.geojson\n",
      "Processing file: CountryTerritories.geojson\n"
     ]
    }
   ],
   "source": [
    "df_continents = get_file_to_df('WorldContinents.geojson')\n",
    "df_countries = get_file_to_df('CountryTerritories.geojson')"
   ]
  },
  {
   "cell_type": "code",
   "execution_count": 35,
   "metadata": {},
   "outputs": [
    {
     "name": "stdout",
     "output_type": "stream",
     "text": [
      "+--------------------+--------------------+--------------------+--------------------+\n",
      "|     parent_geometry|      child_geometry|   parent_properties|    child_properties|\n",
      "+--------------------+--------------------+--------------------+--------------------+\n",
      "|MULTIPOLYGON (((3...|POLYGON ((55.7219...|{FID -> 1, OBJECT...|{geo_point_2d -> ...|\n",
      "|MULTIPOLYGON (((3...|MULTIPOLYGON (((4...|{FID -> 1, OBJECT...|{geo_point_2d -> ...|\n",
      "|MULTIPOLYGON (((3...|MULTIPOLYGON (((4...|{FID -> 1, OBJECT...|{geo_point_2d -> ...|\n",
      "|MULTIPOLYGON (((3...|POLYGON ((47.3030...|{FID -> 1, OBJECT...|{geo_point_2d -> ...|\n",
      "|MULTIPOLYGON (((3...|POLYGON ((28.6863...|{FID -> 1, OBJECT...|{geo_point_2d -> ...|\n",
      "|MULTIPOLYGON (((3...|POLYGON ((31.2975...|{FID -> 1, OBJECT...|{geo_point_2d -> ...|\n",
      "|MULTIPOLYGON (((3...|POLYGON ((31.9685...|{FID -> 1, OBJECT...|{geo_point_2d -> ...|\n",
      "|MULTIPOLYGON (((3...|POLYGON ((25.2644...|{FID -> 1, OBJECT...|{geo_point_2d -> ...|\n",
      "|MULTIPOLYGON (((3...|POLYGON ((30.4157...|{FID -> 1, OBJECT...|{geo_point_2d -> ...|\n",
      "|MULTIPOLYGON (((3...|POLYGON ((32.8904...|{FID -> 1, OBJECT...|{geo_point_2d -> ...|\n",
      "|MULTIPOLYGON (((3...|POLYGON ((32.9404...|{FID -> 1, OBJECT...|{geo_point_2d -> ...|\n",
      "|MULTIPOLYGON (((3...|POLYGON ((34.9667...|{FID -> 1, OBJECT...|{geo_point_2d -> ...|\n",
      "|MULTIPOLYGON (((3...|MULTIPOLYGON (((3...|{FID -> 1, OBJECT...|{geo_point_2d -> ...|\n",
      "|MULTIPOLYGON (((3...|POLYGON ((30.5733...|{FID -> 1, OBJECT...|{geo_point_2d -> ...|\n",
      "|MULTIPOLYGON (((3...|POLYGON ((27.4552...|{FID -> 1, OBJECT...|{geo_point_2d -> ...|\n",
      "|MULTIPOLYGON (((3...|POLYGON ((30.5733...|{FID -> 1, OBJECT...|{geo_point_2d -> ...|\n",
      "|MULTIPOLYGON (((3...|POLYGON ((33.9211...|{FID -> 1, OBJECT...|{geo_point_2d -> ...|\n",
      "|MULTIPOLYGON (((3...|POLYGON ((35.9247...|{FID -> 1, OBJECT...|{geo_point_2d -> ...|\n",
      "|MULTIPOLYGON (((3...|POLYGON ((23.4730...|{FID -> 1, OBJECT...|{geo_point_2d -> ...|\n",
      "|MULTIPOLYGON (((3...|POLYGON ((24.2312...|{FID -> 1, OBJECT...|{geo_point_2d -> ...|\n",
      "+--------------------+--------------------+--------------------+--------------------+\n",
      "only showing top 20 rows\n",
      "\n"
     ]
    }
   ],
   "source": [
    "df_continent_contains_country = create_contains_df(df_continents, df_countries)\n",
    "df_continent_contains_country.show()"
   ]
  },
  {
   "cell_type": "code",
   "execution_count": 36,
   "metadata": {},
   "outputs": [
    {
     "name": "stderr",
     "output_type": "stream",
     "text": [
      "                                                                                \r"
     ]
    },
    {
     "name": "stdout",
     "output_type": "stream",
     "text": [
      "+--------------------+------------+----------------+\n",
      "|             Subject|Relationship|          Object|\n",
      "+--------------------+------------+----------------+\n",
      "|     Country_Reunion|    isPartOf|Continent_Africa|\n",
      "|  Country_Madagascar|    isPartOf|Continent_Africa|\n",
      "|     Country_Mayotte|    isPartOf|Continent_Africa|\n",
      "|Country_Glorioso ...|    isPartOf|Continent_Africa|\n",
      "|     Country_Lesotho|    isPartOf|Continent_Africa|\n",
      "|Country_South Africa|    isPartOf|Continent_Africa|\n",
      "|   Country_Swaziland|    isPartOf|Continent_Africa|\n",
      "|    Country_Botswana|    isPartOf|Continent_Africa|\n",
      "|    Country_Zimbabwe|    isPartOf|Continent_Africa|\n",
      "|  Country_Mozambique|    isPartOf|Continent_Africa|\n",
      "|      Country_Zambia|    isPartOf|Continent_Africa|\n",
      "|      Country_Malawi|    isPartOf|Continent_Africa|\n",
      "|Country_United Re...|    isPartOf|Continent_Africa|\n",
      "|     Country_Burundi|    isPartOf|Continent_Africa|\n",
      "|Country_Democrati...|    isPartOf|Continent_Africa|\n",
      "|      Country_Rwanda|    isPartOf|Continent_Africa|\n",
      "|      Country_Uganda|    isPartOf|Continent_Africa|\n",
      "|Country_Ilemi Tri...|    isPartOf|Continent_Africa|\n",
      "|Country_Central A...|    isPartOf|Continent_Africa|\n",
      "| Country_South Sudan|    isPartOf|Continent_Africa|\n",
      "+--------------------+------------+----------------+\n",
      "only showing top 20 rows\n",
      "\n"
     ]
    },
    {
     "name": "stderr",
     "output_type": "stream",
     "text": [
      "                                                                                \r"
     ]
    },
    {
     "name": "stdout",
     "output_type": "stream",
     "text": [
      "+----------------+------------+--------------------+\n",
      "|         Subject|Relationship|              Object|\n",
      "+----------------+------------+--------------------+\n",
      "|Continent_Africa|    Contains|     Country_Reunion|\n",
      "|Continent_Africa|    Contains|  Country_Madagascar|\n",
      "|Continent_Africa|    Contains|     Country_Mayotte|\n",
      "|Continent_Africa|    Contains|Country_Glorioso ...|\n",
      "|Continent_Africa|    Contains|     Country_Lesotho|\n",
      "|Continent_Africa|    Contains|Country_South Africa|\n",
      "|Continent_Africa|    Contains|   Country_Swaziland|\n",
      "|Continent_Africa|    Contains|    Country_Botswana|\n",
      "|Continent_Africa|    Contains|    Country_Zimbabwe|\n",
      "|Continent_Africa|    Contains|  Country_Mozambique|\n",
      "|Continent_Africa|    Contains|      Country_Zambia|\n",
      "|Continent_Africa|    Contains|      Country_Malawi|\n",
      "|Continent_Africa|    Contains|Country_United Re...|\n",
      "|Continent_Africa|    Contains|     Country_Burundi|\n",
      "|Continent_Africa|    Contains|Country_Democrati...|\n",
      "|Continent_Africa|    Contains|      Country_Rwanda|\n",
      "|Continent_Africa|    Contains|      Country_Uganda|\n",
      "|Continent_Africa|    Contains|Country_Ilemi Tri...|\n",
      "|Continent_Africa|    Contains|Country_Central A...|\n",
      "|Continent_Africa|    Contains| Country_South Sudan|\n",
      "+----------------+------------+--------------------+\n",
      "only showing top 20 rows\n",
      "\n"
     ]
    }
   ],
   "source": [
    "continent_prefix = \"Continent_\"\n",
    "country_prefix = \"Country_\"\n",
    "\n",
    "df_country_isPartOf_continent_edges = create_edge_df(df_continent_contains_country, concat(lit(country_prefix), col(\"child_properties.name\")), lit(\"isPartOf\"), concat(lit(continent_prefix), col(\"parent_properties.CONTINENT\")))\n",
    "df_country_isPartOf_continent_edges.show()\n",
    "final_edge_dataframes['CountryIsPartOfContinent'] = df_country_isPartOf_continent_edges\n",
    "\n",
    "df_continent_contains_country_edges = create_edge_df(df_continent_contains_country, concat(lit(continent_prefix), col(\"parent_properties.CONTINENT\")), lit(\"Contains\"), concat(lit(country_prefix), col(\"child_properties.name\")))\n",
    "df_continent_contains_country_edges.show()\n",
    "final_edge_dataframes['ContinentContainsContry'] = df_continent_contains_country_edges"
   ]
  },
  {
   "cell_type": "code",
   "execution_count": 37,
   "metadata": {},
   "outputs": [
    {
     "name": "stderr",
     "output_type": "stream",
     "text": [
      "[Stage 61:>                                                         (0 + 1) / 1]\r"
     ]
    },
    {
     "name": "stdout",
     "output_type": "stream",
     "text": [
      "+--------------------+-------+\n",
      "|             Node_ID|   Type|\n",
      "+--------------------+-------+\n",
      "|     Country_Bahrain|Country|\n",
      "|Country_Jarvis Is...|Country|\n",
      "|     Country_Belarus|Country|\n",
      "|Country_Jammu-Kas...|Country|\n",
      "|Country_South Africa|Country|\n",
      "|Country_Glorioso ...|Country|\n",
      "|     Country_Ecuador|Country|\n",
      "|  Country_Madagascar|Country|\n",
      "|Country_The forme...|Country|\n",
      "| Country_Saint Lucia|Country|\n",
      "|     Country_Hungary|Country|\n",
      "|    Country_Dominica|Country|\n",
      "|Country_Iran (Isl...|Country|\n",
      "|       Country_China|Country|\n",
      "|       Country_Malta|Country|\n",
      "|Country_Trinidad ...|Country|\n",
      "|Country_Heard Isl...|Country|\n",
      "|     Country_Iceland|Country|\n",
      "|    Country_Guernsey|Country|\n",
      "|       Country_Gabon|Country|\n",
      "+--------------------+-------+\n",
      "only showing top 20 rows\n",
      "\n"
     ]
    },
    {
     "name": "stderr",
     "output_type": "stream",
     "text": [
      "                                                                                \r"
     ]
    }
   ],
   "source": [
    "df_nodes = create_node_df(df_country_isPartOf_continent_edges, lit(\"Country\"))\n",
    "df_nodes = df_nodes.filter(~col(\"Node_ID\").contains(\"Continent_\"))\n",
    "final_node_dataframes['Countries'] = df_nodes\n",
    "df_nodes.show()"
   ]
  },
  {
   "cell_type": "code",
   "execution_count": 38,
   "metadata": {},
   "outputs": [
    {
     "name": "stderr",
     "output_type": "stream",
     "text": [
      "                                                                                \r"
     ]
    }
   ],
   "source": [
    "append_to_csv(df_nodes, base_nodes_path)\n",
    "append_to_csv(df_country_isPartOf_continent_edges, base_edges_path)\n",
    "append_to_csv(df_continent_contains_country_edges, base_edges_path)"
   ]
  },
  {
   "cell_type": "markdown",
   "metadata": {},
   "source": [
    "# **Add States**"
   ]
  },
  {
   "cell_type": "code",
   "execution_count": 39,
   "metadata": {},
   "outputs": [
    {
     "name": "stdout",
     "output_type": "stream",
     "text": [
      "Processing file: CountryTerritories.geojson\n",
      "Processing file: States.geojson\n"
     ]
    }
   ],
   "source": [
    "df_countries = get_file_to_df('CountryTerritories.geojson')\n",
    "df_states = get_file_to_df('States.geojson')"
   ]
  },
  {
   "cell_type": "code",
   "execution_count": 40,
   "metadata": {},
   "outputs": [
    {
     "name": "stdout",
     "output_type": "stream",
     "text": [
      "+--------------------+--------------------+--------------------+--------------------+\n",
      "|     parent_geometry|      child_geometry|   parent_properties|    child_properties|\n",
      "+--------------------+--------------------+--------------------+--------------------+\n",
      "|MULTIPOLYGON (((-...|MULTIPOLYGON (((-...|{geo_point_2d -> ...|{STATEFP -> 28, S...|\n",
      "|MULTIPOLYGON (((-...|MULTIPOLYGON (((-...|{geo_point_2d -> ...|{STATEFP -> 37, S...|\n",
      "|MULTIPOLYGON (((-...|POLYGON ((-103.00...|{geo_point_2d -> ...|{STATEFP -> 40, S...|\n",
      "|MULTIPOLYGON (((-...|MULTIPOLYGON (((-...|{geo_point_2d -> ...|{STATEFP -> 51, S...|\n",
      "|MULTIPOLYGON (((-...|POLYGON ((-82.643...|{geo_point_2d -> ...|{STATEFP -> 54, S...|\n",
      "|MULTIPOLYGON (((-...|MULTIPOLYGON (((-...|{geo_point_2d -> ...|{STATEFP -> 22, S...|\n",
      "|MULTIPOLYGON (((-...|MULTIPOLYGON (((-...|{geo_point_2d -> ...|{STATEFP -> 26, S...|\n",
      "|MULTIPOLYGON (((-...|MULTIPOLYGON (((-...|{geo_point_2d -> ...|{STATEFP -> 25, S...|\n",
      "|MULTIPOLYGON (((-...|POLYGON ((-117.24...|{geo_point_2d -> ...|{STATEFP -> 16, S...|\n",
      "|MULTIPOLYGON (((-...|MULTIPOLYGON (((-...|{geo_point_2d -> ...|{STATEFP -> 12, S...|\n",
      "|MULTIPOLYGON (((-...|POLYGON ((-104.05...|{geo_point_2d -> ...|{STATEFP -> 31, S...|\n",
      "|MULTIPOLYGON (((-...|MULTIPOLYGON (((-...|{geo_point_2d -> ...|{STATEFP -> 53, S...|\n",
      "|MULTIPOLYGON (((-...|POLYGON ((-109.05...|{geo_point_2d -> ...|{STATEFP -> 35, S...|\n",
      "|MULTIPOLYGON (((-...|MULTIPOLYGON (((-...|{geo_point_2d -> ...|{STATEFP -> 72, S...|\n",
      "|MULTIPOLYGON (((-...|POLYGON ((-104.05...|{geo_point_2d -> ...|{STATEFP -> 46, S...|\n",
      "|MULTIPOLYGON (((-...|MULTIPOLYGON (((-...|{geo_point_2d -> ...|{STATEFP -> 48, S...|\n",
      "|MULTIPOLYGON (((-...|MULTIPOLYGON (((-...|{geo_point_2d -> ...|{STATEFP -> 06, S...|\n",
      "|MULTIPOLYGON (((-...|MULTIPOLYGON (((-...|{geo_point_2d -> ...|{STATEFP -> 01, S...|\n",
      "|MULTIPOLYGON (((-...|MULTIPOLYGON (((-...|{geo_point_2d -> ...|{STATEFP -> 13, S...|\n",
      "|MULTIPOLYGON (((-...|POLYGON ((-80.519...|{geo_point_2d -> ...|{STATEFP -> 42, S...|\n",
      "+--------------------+--------------------+--------------------+--------------------+\n",
      "only showing top 20 rows\n",
      "\n"
     ]
    }
   ],
   "source": [
    "df_countries_contains_states = create_contains_df(df_countries, df_states)\n",
    "df_countries_contains_states.show()"
   ]
  },
  {
   "cell_type": "code",
   "execution_count": 41,
   "metadata": {},
   "outputs": [
    {
     "name": "stdout",
     "output_type": "stream",
     "text": [
      "+--------------------+------------+--------------------+\n",
      "|             Subject|Relationship|              Object|\n",
      "+--------------------+------------+--------------------+\n",
      "|   State_Mississippi|    isPartOf|Country_United St...|\n",
      "|State_North Carolina|    isPartOf|Country_United St...|\n",
      "|      State_Oklahoma|    isPartOf|Country_United St...|\n",
      "|      State_Virginia|    isPartOf|Country_United St...|\n",
      "| State_West Virginia|    isPartOf|Country_United St...|\n",
      "|     State_Louisiana|    isPartOf|Country_United St...|\n",
      "|      State_Michigan|    isPartOf|Country_United St...|\n",
      "| State_Massachusetts|    isPartOf|Country_United St...|\n",
      "|         State_Idaho|    isPartOf|Country_United St...|\n",
      "|       State_Florida|    isPartOf|Country_United St...|\n",
      "|      State_Nebraska|    isPartOf|Country_United St...|\n",
      "|    State_Washington|    isPartOf|Country_United St...|\n",
      "|    State_New Mexico|    isPartOf|Country_United St...|\n",
      "|   State_Puerto Rico|    isPartOf| Country_Puerto Rico|\n",
      "|  State_South Dakota|    isPartOf|Country_United St...|\n",
      "|         State_Texas|    isPartOf|Country_United St...|\n",
      "|    State_California|    isPartOf|Country_United St...|\n",
      "|       State_Alabama|    isPartOf|Country_United St...|\n",
      "|       State_Georgia|    isPartOf|Country_United St...|\n",
      "|  State_Pennsylvania|    isPartOf|Country_United St...|\n",
      "+--------------------+------------+--------------------+\n",
      "only showing top 20 rows\n",
      "\n"
     ]
    },
    {
     "name": "stderr",
     "output_type": "stream",
     "text": [
      "[Stage 81:>                                                         (0 + 1) / 1]\r"
     ]
    },
    {
     "name": "stdout",
     "output_type": "stream",
     "text": [
      "+--------------------+------------+--------------------+\n",
      "|             Subject|Relationship|              Object|\n",
      "+--------------------+------------+--------------------+\n",
      "|Country_United St...|    Contains|   State_Mississippi|\n",
      "|Country_United St...|    Contains|State_North Carolina|\n",
      "|Country_United St...|    Contains|      State_Oklahoma|\n",
      "|Country_United St...|    Contains|      State_Virginia|\n",
      "|Country_United St...|    Contains| State_West Virginia|\n",
      "|Country_United St...|    Contains|     State_Louisiana|\n",
      "|Country_United St...|    Contains|      State_Michigan|\n",
      "|Country_United St...|    Contains| State_Massachusetts|\n",
      "|Country_United St...|    Contains|         State_Idaho|\n",
      "|Country_United St...|    Contains|       State_Florida|\n",
      "|Country_United St...|    Contains|      State_Nebraska|\n",
      "|Country_United St...|    Contains|    State_Washington|\n",
      "|Country_United St...|    Contains|    State_New Mexico|\n",
      "| Country_Puerto Rico|    Contains|   State_Puerto Rico|\n",
      "|Country_United St...|    Contains|  State_South Dakota|\n",
      "|Country_United St...|    Contains|         State_Texas|\n",
      "|Country_United St...|    Contains|    State_California|\n",
      "|Country_United St...|    Contains|       State_Alabama|\n",
      "|Country_United St...|    Contains|       State_Georgia|\n",
      "|Country_United St...|    Contains|  State_Pennsylvania|\n",
      "+--------------------+------------+--------------------+\n",
      "only showing top 20 rows\n",
      "\n"
     ]
    },
    {
     "name": "stderr",
     "output_type": "stream",
     "text": [
      "                                                                                \r"
     ]
    }
   ],
   "source": [
    "country_prefix = \"Country_\"\n",
    "state_prefix = \"State_\"\n",
    "\n",
    "df_state_isPartOf_country_edges = create_edge_df(df_countries_contains_states, concat(lit(state_prefix), col(\"child_properties.NAME\")), lit(\"isPartOf\"), concat(lit(country_prefix), col(\"parent_properties.name\")))\n",
    "df_state_isPartOf_country_edges.show()\n",
    "final_edge_dataframes['StateIsPartOfCountry'] = df_state_isPartOf_country_edges\n",
    "\n",
    "df_country_contains_state_edges = create_edge_df(df_countries_contains_states, concat(lit(country_prefix), col(\"parent_properties.name\")), lit(\"Contains\"), concat(lit(state_prefix), col(\"child_properties.NAME\")))\n",
    "df_country_contains_state_edges.show()\n",
    "final_edge_dataframes['CountryContainsState'] = df_country_contains_state_edges"
   ]
  },
  {
   "cell_type": "code",
   "execution_count": 42,
   "metadata": {},
   "outputs": [
    {
     "name": "stderr",
     "output_type": "stream",
     "text": [
      "[Stage 83:>                                                         (0 + 1) / 1]\r"
     ]
    },
    {
     "name": "stdout",
     "output_type": "stream",
     "text": [
      "+--------------------+-----+\n",
      "|             Node_ID| Type|\n",
      "+--------------------+-----+\n",
      "|  State_Pennsylvania|State|\n",
      "| State_West Virginia|State|\n",
      "|      State_Maryland|State|\n",
      "|      State_Colorado|State|\n",
      "|      State_Illinois|State|\n",
      "|          State_Guam|State|\n",
      "|   State_Connecticut|State|\n",
      "|      State_Michigan|State|\n",
      "|     State_Wisconsin|State|\n",
      "|       State_Indiana|State|\n",
      "|        State_Oregon|State|\n",
      "| State_New Hampshire|State|\n",
      "|          State_Ohio|State|\n",
      "|      State_Oklahoma|State|\n",
      "|        State_Kansas|State|\n",
      "|  State_North Dakota|State|\n",
      "|    State_Washington|State|\n",
      "|       State_Wyoming|State|\n",
      "|         State_Maine|State|\n",
      "|State_North Carolina|State|\n",
      "+--------------------+-----+\n",
      "only showing top 20 rows\n",
      "\n"
     ]
    },
    {
     "name": "stderr",
     "output_type": "stream",
     "text": [
      "                                                                                \r"
     ]
    }
   ],
   "source": [
    "df_nodes = create_node_df(df_state_isPartOf_country_edges, lit(\"State\"))\n",
    "df_nodes = df_nodes.filter(~col(\"Node_ID\").contains(\"Country_\"))\n",
    "final_node_dataframes['States'] = df_nodes\n",
    "df_nodes.show()"
   ]
  },
  {
   "cell_type": "code",
   "execution_count": 43,
   "metadata": {},
   "outputs": [
    {
     "name": "stderr",
     "output_type": "stream",
     "text": [
      "                                                                                \r"
     ]
    }
   ],
   "source": [
    "append_to_csv(df_nodes, base_nodes_path)\n",
    "append_to_csv(df_state_isPartOf_country_edges, base_edges_path)\n",
    "append_to_csv(df_country_contains_state_edges, base_edges_path)"
   ]
  },
  {
   "cell_type": "markdown",
   "metadata": {},
   "source": [
    "# **Add Counties**"
   ]
  },
  {
   "cell_type": "code",
   "execution_count": 44,
   "metadata": {},
   "outputs": [
    {
     "name": "stdout",
     "output_type": "stream",
     "text": [
      "['hdfs://columbus-oh.cs.colostate.edu:30785/geospatial/input/CountiesByState/AlabamaCounties.geojson', 'hdfs://columbus-oh.cs.colostate.edu:30785/geospatial/input/CountiesByState/AlaskaCounties.geojson', 'hdfs://columbus-oh.cs.colostate.edu:30785/geospatial/input/CountiesByState/AmericanSamoaCounties.geojson', 'hdfs://columbus-oh.cs.colostate.edu:30785/geospatial/input/CountiesByState/ArizonaCounties.geojson', 'hdfs://columbus-oh.cs.colostate.edu:30785/geospatial/input/CountiesByState/ArkansasCounties.geojson', 'hdfs://columbus-oh.cs.colostate.edu:30785/geospatial/input/CountiesByState/CaliforniaCounties.geojson', 'hdfs://columbus-oh.cs.colostate.edu:30785/geospatial/input/CountiesByState/ColoradoCounties.geojson', 'hdfs://columbus-oh.cs.colostate.edu:30785/geospatial/input/CountiesByState/CommonwealthoftheNorthernMarianaIslandsCounties.geojson', 'hdfs://columbus-oh.cs.colostate.edu:30785/geospatial/input/CountiesByState/ConnecticutCounties.geojson', 'hdfs://columbus-oh.cs.colostate.edu:30785/geospatial/input/CountiesByState/DelawareCounties.geojson', 'hdfs://columbus-oh.cs.colostate.edu:30785/geospatial/input/CountiesByState/DistrictofColumbiaCounties.geojson', 'hdfs://columbus-oh.cs.colostate.edu:30785/geospatial/input/CountiesByState/FloridaCounties.geojson', 'hdfs://columbus-oh.cs.colostate.edu:30785/geospatial/input/CountiesByState/GeorgiaCounties.geojson', 'hdfs://columbus-oh.cs.colostate.edu:30785/geospatial/input/CountiesByState/GuamCounties.geojson', 'hdfs://columbus-oh.cs.colostate.edu:30785/geospatial/input/CountiesByState/HawaiiCounties.geojson', 'hdfs://columbus-oh.cs.colostate.edu:30785/geospatial/input/CountiesByState/IdahoCounties.geojson', 'hdfs://columbus-oh.cs.colostate.edu:30785/geospatial/input/CountiesByState/IllinoisCounties.geojson', 'hdfs://columbus-oh.cs.colostate.edu:30785/geospatial/input/CountiesByState/IndianaCounties.geojson', 'hdfs://columbus-oh.cs.colostate.edu:30785/geospatial/input/CountiesByState/IowaCounties.geojson', 'hdfs://columbus-oh.cs.colostate.edu:30785/geospatial/input/CountiesByState/KansasCounties.geojson', 'hdfs://columbus-oh.cs.colostate.edu:30785/geospatial/input/CountiesByState/KentuckyCounties.geojson', 'hdfs://columbus-oh.cs.colostate.edu:30785/geospatial/input/CountiesByState/LouisianaCounties.geojson', 'hdfs://columbus-oh.cs.colostate.edu:30785/geospatial/input/CountiesByState/MaineCounties.geojson', 'hdfs://columbus-oh.cs.colostate.edu:30785/geospatial/input/CountiesByState/MarylandCounties.geojson', 'hdfs://columbus-oh.cs.colostate.edu:30785/geospatial/input/CountiesByState/MassachusettsCounties.geojson', 'hdfs://columbus-oh.cs.colostate.edu:30785/geospatial/input/CountiesByState/MichiganCounties.geojson', 'hdfs://columbus-oh.cs.colostate.edu:30785/geospatial/input/CountiesByState/MinnesotaCounties.geojson', 'hdfs://columbus-oh.cs.colostate.edu:30785/geospatial/input/CountiesByState/MississippiCounties.geojson', 'hdfs://columbus-oh.cs.colostate.edu:30785/geospatial/input/CountiesByState/MissouriCounties.geojson', 'hdfs://columbus-oh.cs.colostate.edu:30785/geospatial/input/CountiesByState/MontanaCounties.geojson', 'hdfs://columbus-oh.cs.colostate.edu:30785/geospatial/input/CountiesByState/NebraskaCounties.geojson', 'hdfs://columbus-oh.cs.colostate.edu:30785/geospatial/input/CountiesByState/NevadaCounties.geojson', 'hdfs://columbus-oh.cs.colostate.edu:30785/geospatial/input/CountiesByState/NewHampshireCounties.geojson', 'hdfs://columbus-oh.cs.colostate.edu:30785/geospatial/input/CountiesByState/NewJerseyCounties.geojson', 'hdfs://columbus-oh.cs.colostate.edu:30785/geospatial/input/CountiesByState/NewMexicoCounties.geojson', 'hdfs://columbus-oh.cs.colostate.edu:30785/geospatial/input/CountiesByState/NewYorkCounties.geojson', 'hdfs://columbus-oh.cs.colostate.edu:30785/geospatial/input/CountiesByState/NorthCarolinaCounties.geojson', 'hdfs://columbus-oh.cs.colostate.edu:30785/geospatial/input/CountiesByState/NorthDakotaCounties.geojson', 'hdfs://columbus-oh.cs.colostate.edu:30785/geospatial/input/CountiesByState/OhioCounties.geojson', 'hdfs://columbus-oh.cs.colostate.edu:30785/geospatial/input/CountiesByState/OklahomaCounties.geojson', 'hdfs://columbus-oh.cs.colostate.edu:30785/geospatial/input/CountiesByState/OregonCounties.geojson', 'hdfs://columbus-oh.cs.colostate.edu:30785/geospatial/input/CountiesByState/PennsylvaniaCounties.geojson', 'hdfs://columbus-oh.cs.colostate.edu:30785/geospatial/input/CountiesByState/PuertoRicoCounties.geojson', 'hdfs://columbus-oh.cs.colostate.edu:30785/geospatial/input/CountiesByState/RhodeIslandCounties.geojson', 'hdfs://columbus-oh.cs.colostate.edu:30785/geospatial/input/CountiesByState/SouthCarolinaCounties.geojson', 'hdfs://columbus-oh.cs.colostate.edu:30785/geospatial/input/CountiesByState/SouthDakotaCounties.geojson', 'hdfs://columbus-oh.cs.colostate.edu:30785/geospatial/input/CountiesByState/TennesseeCounties.geojson', 'hdfs://columbus-oh.cs.colostate.edu:30785/geospatial/input/CountiesByState/TexasCounties.geojson', 'hdfs://columbus-oh.cs.colostate.edu:30785/geospatial/input/CountiesByState/UnitedStatesVirginIslandsCounties.geojson', 'hdfs://columbus-oh.cs.colostate.edu:30785/geospatial/input/CountiesByState/UtahCounties.geojson', 'hdfs://columbus-oh.cs.colostate.edu:30785/geospatial/input/CountiesByState/VermontCounties.geojson', 'hdfs://columbus-oh.cs.colostate.edu:30785/geospatial/input/CountiesByState/VirginiaCounties.geojson', 'hdfs://columbus-oh.cs.colostate.edu:30785/geospatial/input/CountiesByState/WashingtonCounties.geojson', 'hdfs://columbus-oh.cs.colostate.edu:30785/geospatial/input/CountiesByState/WestVirginiaCounties.geojson', 'hdfs://columbus-oh.cs.colostate.edu:30785/geospatial/input/CountiesByState/WisconsinCounties.geojson', 'hdfs://columbus-oh.cs.colostate.edu:30785/geospatial/input/CountiesByState/WyomingCounties.geojson']\n",
      "Processing file: AlabamaCounties.geojson\n",
      "Processing file: AlaskaCounties.geojson\n",
      "Processing file: AmericanSamoaCounties.geojson\n",
      "Processing file: ArizonaCounties.geojson\n",
      "Processing file: ArkansasCounties.geojson\n",
      "Processing file: CaliforniaCounties.geojson\n",
      "Processing file: ColoradoCounties.geojson\n",
      "Processing file: CommonwealthoftheNorthernMarianaIslandsCounties.geojson\n",
      "Processing file: ConnecticutCounties.geojson\n",
      "Processing file: DelawareCounties.geojson\n",
      "Processing file: DistrictofColumbiaCounties.geojson\n",
      "Processing file: FloridaCounties.geojson\n",
      "Processing file: GeorgiaCounties.geojson\n",
      "Processing file: GuamCounties.geojson\n",
      "Processing file: HawaiiCounties.geojson\n",
      "Processing file: IdahoCounties.geojson\n",
      "Processing file: IllinoisCounties.geojson\n",
      "Processing file: IndianaCounties.geojson\n",
      "Processing file: IowaCounties.geojson\n",
      "Processing file: KansasCounties.geojson\n",
      "Processing file: KentuckyCounties.geojson\n",
      "Processing file: LouisianaCounties.geojson\n",
      "Processing file: MaineCounties.geojson\n",
      "Processing file: MarylandCounties.geojson\n",
      "Processing file: MassachusettsCounties.geojson\n",
      "Processing file: MichiganCounties.geojson\n",
      "Processing file: MinnesotaCounties.geojson\n",
      "Processing file: MississippiCounties.geojson\n",
      "Processing file: MissouriCounties.geojson\n",
      "Processing file: MontanaCounties.geojson\n",
      "Processing file: NebraskaCounties.geojson\n",
      "Processing file: NevadaCounties.geojson\n",
      "Processing file: NewHampshireCounties.geojson\n",
      "Processing file: NewJerseyCounties.geojson\n",
      "Processing file: NewMexicoCounties.geojson\n",
      "Processing file: NewYorkCounties.geojson\n",
      "Processing file: NorthCarolinaCounties.geojson\n",
      "Processing file: NorthDakotaCounties.geojson\n",
      "Processing file: OhioCounties.geojson\n",
      "Processing file: OklahomaCounties.geojson\n",
      "Processing file: OregonCounties.geojson\n",
      "Processing file: PennsylvaniaCounties.geojson\n",
      "Processing file: PuertoRicoCounties.geojson\n",
      "Processing file: RhodeIslandCounties.geojson\n",
      "Processing file: SouthCarolinaCounties.geojson\n",
      "Processing file: SouthDakotaCounties.geojson\n",
      "Processing file: TennesseeCounties.geojson\n",
      "Processing file: TexasCounties.geojson\n",
      "Processing file: UnitedStatesVirginIslandsCounties.geojson\n",
      "Processing file: UtahCounties.geojson\n",
      "Processing file: VermontCounties.geojson\n",
      "Processing file: VirginiaCounties.geojson\n",
      "Processing file: WashingtonCounties.geojson\n",
      "Processing file: WestVirginiaCounties.geojson\n",
      "Processing file: WisconsinCounties.geojson\n",
      "Processing file: WyomingCounties.geojson\n"
     ]
    }
   ],
   "source": [
    "counties_dataframes = {}\n",
    "files_directory = \"hdfs://columbus-oh.cs.colostate.edu:30785/geospatial/input/CountiesByState/\"\n",
    "files = get_files_recursive(files_directory)\n",
    "\n",
    "for file_path in files:\n",
    "    file_name = file_path.split('/')[-1]\n",
    "    \n",
    "    # Print the file path\n",
    "    print(f\"Processing file: {file_name}\")\n",
    "\n",
    "    geojsonSchema = \"type string, crs string, totalFeatures long, features array<struct<type string, geometry string, properties map<string, string>>>\"\n",
    "\n",
    "    df = spark.read.schema(geojsonSchema).json(file_path, multiLine=True)\n",
    "    \n",
    "    df = (df\n",
    "        .select(F.explode(\"features\").alias(\"features\"))\n",
    "        .select(\"features.*\")\n",
    "        .withColumn(\"geometry\", F.expr(\"ST_GeomFromGeoJSON(geometry)\"))\n",
    "        )\n",
    "    \n",
    "    counties_dataframes[file_name] = df"
   ]
  },
  {
   "cell_type": "code",
   "execution_count": 47,
   "metadata": {},
   "outputs": [
    {
     "name": "stdout",
     "output_type": "stream",
     "text": [
      "Processing file: States.geojson\n",
      "AlabamaCounties.geojson\n",
      "AlaskaCounties.geojson\n",
      "AmericanSamoaCounties.geojson\n",
      "ArizonaCounties.geojson\n",
      "ArkansasCounties.geojson\n",
      "CaliforniaCounties.geojson\n",
      "ColoradoCounties.geojson\n",
      "CommonwealthoftheNorthernMarianaIslandsCounties.geojson\n",
      "ConnecticutCounties.geojson\n",
      "DelawareCounties.geojson\n",
      "DistrictofColumbiaCounties.geojson\n",
      "FloridaCounties.geojson\n",
      "GeorgiaCounties.geojson\n",
      "GuamCounties.geojson\n",
      "HawaiiCounties.geojson\n",
      "IdahoCounties.geojson\n",
      "IllinoisCounties.geojson\n",
      "IndianaCounties.geojson\n",
      "IowaCounties.geojson\n",
      "KansasCounties.geojson\n",
      "KentuckyCounties.geojson\n",
      "LouisianaCounties.geojson\n",
      "MaineCounties.geojson\n",
      "MarylandCounties.geojson\n",
      "MassachusettsCounties.geojson\n",
      "MichiganCounties.geojson\n",
      "MinnesotaCounties.geojson\n",
      "MississippiCounties.geojson\n",
      "MissouriCounties.geojson\n",
      "MontanaCounties.geojson\n",
      "NebraskaCounties.geojson\n",
      "NevadaCounties.geojson\n",
      "NewHampshireCounties.geojson\n",
      "NewJerseyCounties.geojson\n",
      "NewMexicoCounties.geojson\n",
      "NewYorkCounties.geojson\n",
      "NorthCarolinaCounties.geojson\n",
      "NorthDakotaCounties.geojson\n",
      "OhioCounties.geojson\n",
      "OklahomaCounties.geojson\n",
      "OregonCounties.geojson\n",
      "PennsylvaniaCounties.geojson\n",
      "PuertoRicoCounties.geojson\n",
      "RhodeIslandCounties.geojson\n",
      "SouthCarolinaCounties.geojson\n",
      "SouthDakotaCounties.geojson\n",
      "TennesseeCounties.geojson\n",
      "TexasCounties.geojson\n",
      "UnitedStatesVirginIslandsCounties.geojson\n",
      "UtahCounties.geojson\n",
      "VermontCounties.geojson\n",
      "VirginiaCounties.geojson\n",
      "WashingtonCounties.geojson\n",
      "WestVirginiaCounties.geojson\n",
      "WisconsinCounties.geojson\n",
      "WyomingCounties.geojson\n"
     ]
    }
   ],
   "source": [
    "df_states = get_file_to_df('States.geojson')\n",
    "final_county_edges = {}\n",
    "final_county_nodes = {}\n",
    "for state in counties_dataframes.keys():\n",
    "    print(state)\n",
    "    df_counties = counties_dataframes[state]\n",
    "\n",
    "    df_states_contains_counties = create_contains_df(df_states, df_counties)\n",
    "\n",
    "    county_prefix = \"County_\"\n",
    "    state_prefix = \"State_\"\n",
    "\n",
    "    df_county_isPartOf_state_edges = create_edge_df(df_states_contains_counties, concat(lit(county_prefix), col(\"child_properties.NAME\")), lit(\"isPartOf\"), concat(lit(state_prefix), col(\"parent_properties.NAME\")))\n",
    "    # df_county_isPartOf_state_edges.show(1)\n",
    "    final_edge_dataframes[f'{state}CountyIsPartOfState'] = df_county_isPartOf_state_edges\n",
    "    final_county_edges[f'{state}CountyIsPartOfState'] = df_county_isPartOf_state_edges\n",
    "\n",
    "    df_state_contains_county_edges = create_edge_df(df_states_contains_counties, concat(lit(state_prefix), col(\"parent_properties.NAME\")), lit(\"Contains\"), concat(lit(county_prefix), col(\"child_properties.NAME\")))\n",
    "    # df_state_contains_county_edges.show(1)\n",
    "    final_edge_dataframes[f'StateContains{state}County'] = df_state_contains_county_edges\n",
    "    final_county_edges[f'StateContains{state}County'] = df_state_contains_county_edges\n",
    "\n",
    "    df_nodes = create_node_df(df_county_isPartOf_state_edges, lit(\"County\"))\n",
    "    df_nodes = df_nodes.filter(~col(\"Node_ID\").contains(\"State_\"))\n",
    "    final_node_dataframes[f'{state}Counties'] = df_nodes\n",
    "    final_county_nodes[f'{state}Counties'] = df_nodes\n",
    "\n",
    "    # df_nodes.show(1)"
   ]
  },
  {
   "cell_type": "code",
   "execution_count": 48,
   "metadata": {},
   "outputs": [],
   "source": [
    "combined_county_edges_df = union_all(final_county_edges)\n",
    "combined_county_nodes_df = union_all(final_county_nodes)"
   ]
  },
  {
   "cell_type": "code",
   "execution_count": 50,
   "metadata": {},
   "outputs": [
    {
     "name": "stderr",
     "output_type": "stream",
     "text": [
      "                                                                                \r"
     ]
    }
   ],
   "source": [
    "append_to_csv(combined_county_nodes_df, base_nodes_path)\n",
    "append_to_csv(combined_county_edges_df, base_edges_path)"
   ]
  },
  {
   "cell_type": "markdown",
   "metadata": {},
   "source": [
    "# **Add Tracts**"
   ]
  },
  {
   "cell_type": "code",
   "execution_count": 51,
   "metadata": {},
   "outputs": [
    {
     "name": "stdout",
     "output_type": "stream",
     "text": [
      "['hdfs://columbus-oh.cs.colostate.edu:30785/geospatial/input/TractsByState/AlabamaTracts.geojson', 'hdfs://columbus-oh.cs.colostate.edu:30785/geospatial/input/TractsByState/AlaskaTracts.geojson', 'hdfs://columbus-oh.cs.colostate.edu:30785/geospatial/input/TractsByState/AmericanSamoaTracts.geojson', 'hdfs://columbus-oh.cs.colostate.edu:30785/geospatial/input/TractsByState/ArizonaTracts.geojson', 'hdfs://columbus-oh.cs.colostate.edu:30785/geospatial/input/TractsByState/ArkansasTracts.geojson', 'hdfs://columbus-oh.cs.colostate.edu:30785/geospatial/input/TractsByState/CaliforniaTracts.geojson', 'hdfs://columbus-oh.cs.colostate.edu:30785/geospatial/input/TractsByState/ColoradoTracts.geojson', 'hdfs://columbus-oh.cs.colostate.edu:30785/geospatial/input/TractsByState/CommonwealthoftheNorthernMarianaIslandsTracts.geojson', 'hdfs://columbus-oh.cs.colostate.edu:30785/geospatial/input/TractsByState/ConnecticutTracts.geojson', 'hdfs://columbus-oh.cs.colostate.edu:30785/geospatial/input/TractsByState/DelawareTracts.geojson', 'hdfs://columbus-oh.cs.colostate.edu:30785/geospatial/input/TractsByState/DistrictofColumbiaTracts.geojson', 'hdfs://columbus-oh.cs.colostate.edu:30785/geospatial/input/TractsByState/FloridaTracts.geojson', 'hdfs://columbus-oh.cs.colostate.edu:30785/geospatial/input/TractsByState/GeorgiaTracts.geojson', 'hdfs://columbus-oh.cs.colostate.edu:30785/geospatial/input/TractsByState/GuamTracts.geojson', 'hdfs://columbus-oh.cs.colostate.edu:30785/geospatial/input/TractsByState/HawaiiTracts.geojson', 'hdfs://columbus-oh.cs.colostate.edu:30785/geospatial/input/TractsByState/IdahoTracts.geojson', 'hdfs://columbus-oh.cs.colostate.edu:30785/geospatial/input/TractsByState/IllinoisTracts.geojson', 'hdfs://columbus-oh.cs.colostate.edu:30785/geospatial/input/TractsByState/IndianaTracts.geojson', 'hdfs://columbus-oh.cs.colostate.edu:30785/geospatial/input/TractsByState/IowaTracts.geojson', 'hdfs://columbus-oh.cs.colostate.edu:30785/geospatial/input/TractsByState/KansasTracts.geojson', 'hdfs://columbus-oh.cs.colostate.edu:30785/geospatial/input/TractsByState/KentuckyTracts.geojson', 'hdfs://columbus-oh.cs.colostate.edu:30785/geospatial/input/TractsByState/LouisianaTracts.geojson', 'hdfs://columbus-oh.cs.colostate.edu:30785/geospatial/input/TractsByState/MaineTracts.geojson', 'hdfs://columbus-oh.cs.colostate.edu:30785/geospatial/input/TractsByState/MarylandTracts.geojson', 'hdfs://columbus-oh.cs.colostate.edu:30785/geospatial/input/TractsByState/MassachusettsTracts.geojson', 'hdfs://columbus-oh.cs.colostate.edu:30785/geospatial/input/TractsByState/MichiganTracts.geojson', 'hdfs://columbus-oh.cs.colostate.edu:30785/geospatial/input/TractsByState/MinnesotaTracts.geojson', 'hdfs://columbus-oh.cs.colostate.edu:30785/geospatial/input/TractsByState/MississippiTracts.geojson', 'hdfs://columbus-oh.cs.colostate.edu:30785/geospatial/input/TractsByState/MissouriTracts.geojson', 'hdfs://columbus-oh.cs.colostate.edu:30785/geospatial/input/TractsByState/MontanaTracts.geojson', 'hdfs://columbus-oh.cs.colostate.edu:30785/geospatial/input/TractsByState/NebraskaTracts.geojson', 'hdfs://columbus-oh.cs.colostate.edu:30785/geospatial/input/TractsByState/NevadaTracts.geojson', 'hdfs://columbus-oh.cs.colostate.edu:30785/geospatial/input/TractsByState/NewHampshireTracts.geojson', 'hdfs://columbus-oh.cs.colostate.edu:30785/geospatial/input/TractsByState/NewJerseyTracts.geojson', 'hdfs://columbus-oh.cs.colostate.edu:30785/geospatial/input/TractsByState/NewMexicoTracts.geojson', 'hdfs://columbus-oh.cs.colostate.edu:30785/geospatial/input/TractsByState/NewYorkTracts.geojson', 'hdfs://columbus-oh.cs.colostate.edu:30785/geospatial/input/TractsByState/NorthCarolinaTracts.geojson', 'hdfs://columbus-oh.cs.colostate.edu:30785/geospatial/input/TractsByState/NorthDakotaTracts.geojson', 'hdfs://columbus-oh.cs.colostate.edu:30785/geospatial/input/TractsByState/OhioTracts.geojson', 'hdfs://columbus-oh.cs.colostate.edu:30785/geospatial/input/TractsByState/OklahomaTracts.geojson', 'hdfs://columbus-oh.cs.colostate.edu:30785/geospatial/input/TractsByState/OregonTracts.geojson', 'hdfs://columbus-oh.cs.colostate.edu:30785/geospatial/input/TractsByState/PennsylvaniaTracts.geojson', 'hdfs://columbus-oh.cs.colostate.edu:30785/geospatial/input/TractsByState/PuertoRicoTracts.geojson', 'hdfs://columbus-oh.cs.colostate.edu:30785/geospatial/input/TractsByState/RhodeIslandTracts.geojson', 'hdfs://columbus-oh.cs.colostate.edu:30785/geospatial/input/TractsByState/SouthCarolinaTracts.geojson', 'hdfs://columbus-oh.cs.colostate.edu:30785/geospatial/input/TractsByState/SouthDakotaTracts.geojson', 'hdfs://columbus-oh.cs.colostate.edu:30785/geospatial/input/TractsByState/TennesseeTracts.geojson', 'hdfs://columbus-oh.cs.colostate.edu:30785/geospatial/input/TractsByState/TexasTracts.geojson', 'hdfs://columbus-oh.cs.colostate.edu:30785/geospatial/input/TractsByState/UnitedStatesVirginIslandsTracts.geojson', 'hdfs://columbus-oh.cs.colostate.edu:30785/geospatial/input/TractsByState/UtahTracts.geojson', 'hdfs://columbus-oh.cs.colostate.edu:30785/geospatial/input/TractsByState/VermontTracts.geojson', 'hdfs://columbus-oh.cs.colostate.edu:30785/geospatial/input/TractsByState/VirginiaTracts.geojson', 'hdfs://columbus-oh.cs.colostate.edu:30785/geospatial/input/TractsByState/WashingtonTracts.geojson', 'hdfs://columbus-oh.cs.colostate.edu:30785/geospatial/input/TractsByState/WestVirginiaTracts.geojson', 'hdfs://columbus-oh.cs.colostate.edu:30785/geospatial/input/TractsByState/WisconsinTracts.geojson', 'hdfs://columbus-oh.cs.colostate.edu:30785/geospatial/input/TractsByState/WyomingTracts.geojson']\n",
      "Processing file: hdfs://columbus-oh.cs.colostate.edu:30785/geospatial/input/TractsByState/AlabamaTracts.geojson\n",
      "Processing file: hdfs://columbus-oh.cs.colostate.edu:30785/geospatial/input/TractsByState/AlaskaTracts.geojson\n",
      "Processing file: hdfs://columbus-oh.cs.colostate.edu:30785/geospatial/input/TractsByState/AmericanSamoaTracts.geojson\n",
      "Processing file: hdfs://columbus-oh.cs.colostate.edu:30785/geospatial/input/TractsByState/ArizonaTracts.geojson\n",
      "Processing file: hdfs://columbus-oh.cs.colostate.edu:30785/geospatial/input/TractsByState/ArkansasTracts.geojson\n",
      "Processing file: hdfs://columbus-oh.cs.colostate.edu:30785/geospatial/input/TractsByState/CaliforniaTracts.geojson\n",
      "Processing file: hdfs://columbus-oh.cs.colostate.edu:30785/geospatial/input/TractsByState/ColoradoTracts.geojson\n",
      "Processing file: hdfs://columbus-oh.cs.colostate.edu:30785/geospatial/input/TractsByState/CommonwealthoftheNorthernMarianaIslandsTracts.geojson\n",
      "Processing file: hdfs://columbus-oh.cs.colostate.edu:30785/geospatial/input/TractsByState/ConnecticutTracts.geojson\n",
      "Processing file: hdfs://columbus-oh.cs.colostate.edu:30785/geospatial/input/TractsByState/DelawareTracts.geojson\n",
      "Processing file: hdfs://columbus-oh.cs.colostate.edu:30785/geospatial/input/TractsByState/DistrictofColumbiaTracts.geojson\n",
      "Processing file: hdfs://columbus-oh.cs.colostate.edu:30785/geospatial/input/TractsByState/FloridaTracts.geojson\n",
      "Processing file: hdfs://columbus-oh.cs.colostate.edu:30785/geospatial/input/TractsByState/GeorgiaTracts.geojson\n",
      "Processing file: hdfs://columbus-oh.cs.colostate.edu:30785/geospatial/input/TractsByState/GuamTracts.geojson\n",
      "Processing file: hdfs://columbus-oh.cs.colostate.edu:30785/geospatial/input/TractsByState/HawaiiTracts.geojson\n",
      "Processing file: hdfs://columbus-oh.cs.colostate.edu:30785/geospatial/input/TractsByState/IdahoTracts.geojson\n",
      "Processing file: hdfs://columbus-oh.cs.colostate.edu:30785/geospatial/input/TractsByState/IllinoisTracts.geojson\n",
      "Processing file: hdfs://columbus-oh.cs.colostate.edu:30785/geospatial/input/TractsByState/IndianaTracts.geojson\n",
      "Processing file: hdfs://columbus-oh.cs.colostate.edu:30785/geospatial/input/TractsByState/IowaTracts.geojson\n",
      "Processing file: hdfs://columbus-oh.cs.colostate.edu:30785/geospatial/input/TractsByState/KansasTracts.geojson\n",
      "Processing file: hdfs://columbus-oh.cs.colostate.edu:30785/geospatial/input/TractsByState/KentuckyTracts.geojson\n",
      "Processing file: hdfs://columbus-oh.cs.colostate.edu:30785/geospatial/input/TractsByState/LouisianaTracts.geojson\n",
      "Processing file: hdfs://columbus-oh.cs.colostate.edu:30785/geospatial/input/TractsByState/MaineTracts.geojson\n",
      "Processing file: hdfs://columbus-oh.cs.colostate.edu:30785/geospatial/input/TractsByState/MarylandTracts.geojson\n",
      "Processing file: hdfs://columbus-oh.cs.colostate.edu:30785/geospatial/input/TractsByState/MassachusettsTracts.geojson\n",
      "Processing file: hdfs://columbus-oh.cs.colostate.edu:30785/geospatial/input/TractsByState/MichiganTracts.geojson\n",
      "Processing file: hdfs://columbus-oh.cs.colostate.edu:30785/geospatial/input/TractsByState/MinnesotaTracts.geojson\n",
      "Processing file: hdfs://columbus-oh.cs.colostate.edu:30785/geospatial/input/TractsByState/MississippiTracts.geojson\n",
      "Processing file: hdfs://columbus-oh.cs.colostate.edu:30785/geospatial/input/TractsByState/MissouriTracts.geojson\n",
      "Processing file: hdfs://columbus-oh.cs.colostate.edu:30785/geospatial/input/TractsByState/MontanaTracts.geojson\n",
      "Processing file: hdfs://columbus-oh.cs.colostate.edu:30785/geospatial/input/TractsByState/NebraskaTracts.geojson\n",
      "Processing file: hdfs://columbus-oh.cs.colostate.edu:30785/geospatial/input/TractsByState/NevadaTracts.geojson\n",
      "Processing file: hdfs://columbus-oh.cs.colostate.edu:30785/geospatial/input/TractsByState/NewHampshireTracts.geojson\n",
      "Processing file: hdfs://columbus-oh.cs.colostate.edu:30785/geospatial/input/TractsByState/NewJerseyTracts.geojson\n",
      "Processing file: hdfs://columbus-oh.cs.colostate.edu:30785/geospatial/input/TractsByState/NewMexicoTracts.geojson\n",
      "Processing file: hdfs://columbus-oh.cs.colostate.edu:30785/geospatial/input/TractsByState/NewYorkTracts.geojson\n",
      "Processing file: hdfs://columbus-oh.cs.colostate.edu:30785/geospatial/input/TractsByState/NorthCarolinaTracts.geojson\n",
      "Processing file: hdfs://columbus-oh.cs.colostate.edu:30785/geospatial/input/TractsByState/NorthDakotaTracts.geojson\n",
      "Processing file: hdfs://columbus-oh.cs.colostate.edu:30785/geospatial/input/TractsByState/OhioTracts.geojson\n",
      "Processing file: hdfs://columbus-oh.cs.colostate.edu:30785/geospatial/input/TractsByState/OklahomaTracts.geojson\n",
      "Processing file: hdfs://columbus-oh.cs.colostate.edu:30785/geospatial/input/TractsByState/OregonTracts.geojson\n",
      "Processing file: hdfs://columbus-oh.cs.colostate.edu:30785/geospatial/input/TractsByState/PennsylvaniaTracts.geojson\n",
      "Processing file: hdfs://columbus-oh.cs.colostate.edu:30785/geospatial/input/TractsByState/PuertoRicoTracts.geojson\n",
      "Processing file: hdfs://columbus-oh.cs.colostate.edu:30785/geospatial/input/TractsByState/RhodeIslandTracts.geojson\n",
      "Processing file: hdfs://columbus-oh.cs.colostate.edu:30785/geospatial/input/TractsByState/SouthCarolinaTracts.geojson\n",
      "Processing file: hdfs://columbus-oh.cs.colostate.edu:30785/geospatial/input/TractsByState/SouthDakotaTracts.geojson\n",
      "Processing file: hdfs://columbus-oh.cs.colostate.edu:30785/geospatial/input/TractsByState/TennesseeTracts.geojson\n",
      "Processing file: hdfs://columbus-oh.cs.colostate.edu:30785/geospatial/input/TractsByState/TexasTracts.geojson\n",
      "Processing file: hdfs://columbus-oh.cs.colostate.edu:30785/geospatial/input/TractsByState/UnitedStatesVirginIslandsTracts.geojson\n",
      "Processing file: hdfs://columbus-oh.cs.colostate.edu:30785/geospatial/input/TractsByState/UtahTracts.geojson\n",
      "Processing file: hdfs://columbus-oh.cs.colostate.edu:30785/geospatial/input/TractsByState/VermontTracts.geojson\n",
      "Processing file: hdfs://columbus-oh.cs.colostate.edu:30785/geospatial/input/TractsByState/VirginiaTracts.geojson\n",
      "Processing file: hdfs://columbus-oh.cs.colostate.edu:30785/geospatial/input/TractsByState/WashingtonTracts.geojson\n",
      "Processing file: hdfs://columbus-oh.cs.colostate.edu:30785/geospatial/input/TractsByState/WestVirginiaTracts.geojson\n",
      "Processing file: hdfs://columbus-oh.cs.colostate.edu:30785/geospatial/input/TractsByState/WisconsinTracts.geojson\n",
      "Processing file: hdfs://columbus-oh.cs.colostate.edu:30785/geospatial/input/TractsByState/WyomingTracts.geojson\n"
     ]
    }
   ],
   "source": [
    "tracts_dataframes = {}\n",
    "files_directory = \"hdfs://columbus-oh.cs.colostate.edu:30785/geospatial/input/TractsByState/\"\n",
    "\n",
    "files = get_files_recursive(files_directory)\n",
    "\n",
    "for file_path in files:\n",
    "    file_name = file_path.split('/')[-1]\n",
    "    \n",
    "    print(f\"Processing file: {file_path}\")\n",
    "\n",
    "    geojsonSchema = \"type string, crs string, totalFeatures long, features array<struct<type string, geometry string, properties map<string, string>>>\"\n",
    "\n",
    "    df = spark.read.schema(geojsonSchema).json(file_path, multiLine=True)\n",
    "    \n",
    "    df = (df\n",
    "        .select(F.explode(\"features\").alias(\"features\"))\n",
    "        .select(\"features.*\")\n",
    "        .withColumn(\"geometry\", F.expr(\"ST_GeomFromGeoJSON(geometry)\"))\n",
    "        )\n",
    "    \n",
    "    tracts_dataframes[file_name] = df"
   ]
  },
  {
   "cell_type": "code",
   "execution_count": 52,
   "metadata": {},
   "outputs": [
    {
     "name": "stdout",
     "output_type": "stream",
     "text": [
      "Alabama\n",
      "Alaska\n",
      "AmericanSamoa\n",
      "Arizona\n",
      "Arkansas\n",
      "California\n",
      "Colorado\n",
      "CommonwealthoftheNorthernMarianaIslands\n",
      "Connecticut\n",
      "Delaware\n",
      "DistrictofColumbia\n",
      "Florida\n",
      "Georgia\n",
      "Guam\n",
      "Hawaii\n",
      "Idaho\n",
      "Illinois\n",
      "Indiana\n",
      "Iowa\n",
      "Kansas\n",
      "Kentucky\n",
      "Louisiana\n",
      "Maine\n",
      "Maryland\n",
      "Massachusetts\n",
      "Michigan\n",
      "Minnesota\n",
      "Mississippi\n",
      "Missouri\n",
      "Montana\n",
      "Nebraska\n",
      "Nevada\n",
      "NewHampshire\n",
      "NewJersey\n",
      "NewMexico\n",
      "NewYork\n",
      "NorthCarolina\n",
      "NorthDakota\n",
      "Ohio\n",
      "Oklahoma\n",
      "Oregon\n",
      "Pennsylvania\n",
      "PuertoRico\n",
      "RhodeIsland\n",
      "SouthCarolina\n",
      "SouthDakota\n",
      "Tennessee\n",
      "Texas\n",
      "UnitedStatesVirginIslands\n",
      "Utah\n",
      "Vermont\n",
      "Virginia\n",
      "Virginia\n",
      "Washington\n",
      "WestVirginia\n",
      "Wisconsin\n",
      "Wyoming\n"
     ]
    }
   ],
   "source": [
    "county_prefix = \"County_\"\n",
    "tract_prefix = \"Tract_\"\n",
    "\n",
    "final_tract_edges = {}\n",
    "final_tract_nodes = {}\n",
    "\n",
    "for counties_file_name in counties_dataframes.keys():\n",
    "    for tracts_file_name in tracts_dataframes.keys():  \n",
    "        counties = counties_file_name.replace('Counties.geojson', '')\n",
    "        tracts = tracts_file_name.replace('Tracts.geojson', '')\n",
    "        if counties in tracts:\n",
    "            print(counties)\n",
    "            df_counties = counties_dataframes[counties_file_name]\n",
    "            df_tracts = tracts_dataframes[tracts_file_name]\n",
    "\n",
    "            df_counties_contains_tracts = create_contains_df(df_counties, df_tracts)\n",
    "\n",
    "            df_tract_isPartOf_county_edges = create_edge_df(df_counties_contains_tracts, concat(lit(tract_prefix), col(\"child_properties.GEOID\")), lit(\"isPartOf\"), concat(lit(county_prefix), col(\"parent_properties.NAME\")))\n",
    "            # df_tract_isPartOf_county_edges.show(1)\n",
    "            final_edge_dataframes[f'{tracts}TractIsPartOf{counties}County'] = df_tract_isPartOf_county_edges\n",
    "            final_tract_edges[f'{tracts}TractIsPartOf{counties}County'] = df_tract_isPartOf_county_edges\n",
    "\n",
    "            df_county_contains_tract_edges = create_edge_df(df_counties_contains_tracts, concat(lit(county_prefix), col(\"parent_properties.NAME\")), lit(\"Contains\"), concat(lit(tract_prefix), col(\"child_properties.GEOID\")))\n",
    "            # df_county_contains_tract_edges.show(1)\n",
    "            final_edge_dataframes[f'{counties}CountyContains{tracts}Tract'] = df_county_contains_tract_edges\n",
    "            final_tract_edges[f'{counties}CountyContains{tracts}Tract'] = df_county_contains_tract_edges\n",
    "\n",
    "            df_nodes = create_node_df(df_tract_isPartOf_county_edges, lit(\"Tract\"))\n",
    "            df_nodes = df_nodes.filter(~col(\"Node_ID\").contains(\"County_\"))\n",
    "            final_node_dataframes[f'{tracts}Tracts'] = df_nodes\n",
    "            final_tract_nodes[f'{tracts}Tracts'] = df_nodes\n",
    "\n",
    "            # df_nodes.show(1)"
   ]
  },
  {
   "cell_type": "code",
   "execution_count": 53,
   "metadata": {},
   "outputs": [],
   "source": [
    "combined_tract_edges_df = union_all(final_tract_edges)\n",
    "combined_tract_nodes_df = union_all(final_tract_nodes)"
   ]
  },
  {
   "cell_type": "code",
   "execution_count": 54,
   "metadata": {},
   "outputs": [
    {
     "name": "stderr",
     "output_type": "stream",
     "text": [
      "                                                                                \r"
     ]
    }
   ],
   "source": [
    "append_to_csv(combined_tract_nodes_df, base_nodes_path)\n",
    "append_to_csv(combined_tract_edges_df, base_edges_path)"
   ]
  },
  {
   "cell_type": "markdown",
   "metadata": {},
   "source": [
    "# **Add Blocks**"
   ]
  },
  {
   "cell_type": "code",
   "execution_count": 55,
   "metadata": {},
   "outputs": [
    {
     "name": "stdout",
     "output_type": "stream",
     "text": [
      "['hdfs://columbus-oh.cs.colostate.edu:30785/geospatial/input/BlocksByState/Alabama.geojson', 'hdfs://columbus-oh.cs.colostate.edu:30785/geospatial/input/BlocksByState/Alaska.geojson', 'hdfs://columbus-oh.cs.colostate.edu:30785/geospatial/input/BlocksByState/AmericanSamoa.geojson', 'hdfs://columbus-oh.cs.colostate.edu:30785/geospatial/input/BlocksByState/Arizona.geojson', 'hdfs://columbus-oh.cs.colostate.edu:30785/geospatial/input/BlocksByState/Arkansas.geojson', 'hdfs://columbus-oh.cs.colostate.edu:30785/geospatial/input/BlocksByState/California.geojson', 'hdfs://columbus-oh.cs.colostate.edu:30785/geospatial/input/BlocksByState/Colorado.geojson', 'hdfs://columbus-oh.cs.colostate.edu:30785/geospatial/input/BlocksByState/CommonwealthoftheNorthernMarianaIslands.geojson', 'hdfs://columbus-oh.cs.colostate.edu:30785/geospatial/input/BlocksByState/Connecticut.geojson', 'hdfs://columbus-oh.cs.colostate.edu:30785/geospatial/input/BlocksByState/Delaware.geojson', 'hdfs://columbus-oh.cs.colostate.edu:30785/geospatial/input/BlocksByState/DistrictofColumbia.geojson', 'hdfs://columbus-oh.cs.colostate.edu:30785/geospatial/input/BlocksByState/Florida.geojson', 'hdfs://columbus-oh.cs.colostate.edu:30785/geospatial/input/BlocksByState/Georgia.geojson', 'hdfs://columbus-oh.cs.colostate.edu:30785/geospatial/input/BlocksByState/Guam.geojson', 'hdfs://columbus-oh.cs.colostate.edu:30785/geospatial/input/BlocksByState/Hawaii.geojson', 'hdfs://columbus-oh.cs.colostate.edu:30785/geospatial/input/BlocksByState/Idaho.geojson', 'hdfs://columbus-oh.cs.colostate.edu:30785/geospatial/input/BlocksByState/Illinois.geojson', 'hdfs://columbus-oh.cs.colostate.edu:30785/geospatial/input/BlocksByState/Indiana.geojson', 'hdfs://columbus-oh.cs.colostate.edu:30785/geospatial/input/BlocksByState/Iowa.geojson', 'hdfs://columbus-oh.cs.colostate.edu:30785/geospatial/input/BlocksByState/Kansas.geojson', 'hdfs://columbus-oh.cs.colostate.edu:30785/geospatial/input/BlocksByState/Kentucky.geojson', 'hdfs://columbus-oh.cs.colostate.edu:30785/geospatial/input/BlocksByState/Louisiana.geojson', 'hdfs://columbus-oh.cs.colostate.edu:30785/geospatial/input/BlocksByState/Maine.geojson', 'hdfs://columbus-oh.cs.colostate.edu:30785/geospatial/input/BlocksByState/Maryland.geojson', 'hdfs://columbus-oh.cs.colostate.edu:30785/geospatial/input/BlocksByState/Massachusetts.geojson', 'hdfs://columbus-oh.cs.colostate.edu:30785/geospatial/input/BlocksByState/Michigan.geojson', 'hdfs://columbus-oh.cs.colostate.edu:30785/geospatial/input/BlocksByState/Minnesota.geojson', 'hdfs://columbus-oh.cs.colostate.edu:30785/geospatial/input/BlocksByState/Mississippi.geojson', 'hdfs://columbus-oh.cs.colostate.edu:30785/geospatial/input/BlocksByState/Missouri.geojson', 'hdfs://columbus-oh.cs.colostate.edu:30785/geospatial/input/BlocksByState/Montana.geojson', 'hdfs://columbus-oh.cs.colostate.edu:30785/geospatial/input/BlocksByState/Nebraska.geojson', 'hdfs://columbus-oh.cs.colostate.edu:30785/geospatial/input/BlocksByState/Nevada.geojson', 'hdfs://columbus-oh.cs.colostate.edu:30785/geospatial/input/BlocksByState/NewHampshire.geojson', 'hdfs://columbus-oh.cs.colostate.edu:30785/geospatial/input/BlocksByState/NewJersey.geojson', 'hdfs://columbus-oh.cs.colostate.edu:30785/geospatial/input/BlocksByState/NewMexico.geojson', 'hdfs://columbus-oh.cs.colostate.edu:30785/geospatial/input/BlocksByState/NewYork.geojson', 'hdfs://columbus-oh.cs.colostate.edu:30785/geospatial/input/BlocksByState/NorthCarolina.geojson', 'hdfs://columbus-oh.cs.colostate.edu:30785/geospatial/input/BlocksByState/NorthDakota.geojson', 'hdfs://columbus-oh.cs.colostate.edu:30785/geospatial/input/BlocksByState/Ohio.geojson', 'hdfs://columbus-oh.cs.colostate.edu:30785/geospatial/input/BlocksByState/Oklahoma.geojson', 'hdfs://columbus-oh.cs.colostate.edu:30785/geospatial/input/BlocksByState/Oregon.geojson', 'hdfs://columbus-oh.cs.colostate.edu:30785/geospatial/input/BlocksByState/Pennsylvania.geojson', 'hdfs://columbus-oh.cs.colostate.edu:30785/geospatial/input/BlocksByState/PuertoRico.geojson', 'hdfs://columbus-oh.cs.colostate.edu:30785/geospatial/input/BlocksByState/RhodeIsland.geojson', 'hdfs://columbus-oh.cs.colostate.edu:30785/geospatial/input/BlocksByState/SouthCarolina.geojson', 'hdfs://columbus-oh.cs.colostate.edu:30785/geospatial/input/BlocksByState/SouthDakota.geojson', 'hdfs://columbus-oh.cs.colostate.edu:30785/geospatial/input/BlocksByState/Tennessee.geojson', 'hdfs://columbus-oh.cs.colostate.edu:30785/geospatial/input/BlocksByState/Texas.geojson', 'hdfs://columbus-oh.cs.colostate.edu:30785/geospatial/input/BlocksByState/UnitedStatesVirginIslands.geojson', 'hdfs://columbus-oh.cs.colostate.edu:30785/geospatial/input/BlocksByState/Utah.geojson', 'hdfs://columbus-oh.cs.colostate.edu:30785/geospatial/input/BlocksByState/Vermont.geojson', 'hdfs://columbus-oh.cs.colostate.edu:30785/geospatial/input/BlocksByState/Virginia.geojson', 'hdfs://columbus-oh.cs.colostate.edu:30785/geospatial/input/BlocksByState/Washington.geojson', 'hdfs://columbus-oh.cs.colostate.edu:30785/geospatial/input/BlocksByState/WestVirginia.geojson', 'hdfs://columbus-oh.cs.colostate.edu:30785/geospatial/input/BlocksByState/Wisconsin.geojson', 'hdfs://columbus-oh.cs.colostate.edu:30785/geospatial/input/BlocksByState/Wyoming.geojson']\n",
      "Processing file: hdfs://columbus-oh.cs.colostate.edu:30785/geospatial/input/BlocksByState/Alabama.geojson\n",
      "Processing file: hdfs://columbus-oh.cs.colostate.edu:30785/geospatial/input/BlocksByState/Alaska.geojson\n",
      "Processing file: hdfs://columbus-oh.cs.colostate.edu:30785/geospatial/input/BlocksByState/AmericanSamoa.geojson\n",
      "Processing file: hdfs://columbus-oh.cs.colostate.edu:30785/geospatial/input/BlocksByState/Arizona.geojson\n",
      "Processing file: hdfs://columbus-oh.cs.colostate.edu:30785/geospatial/input/BlocksByState/Arkansas.geojson\n",
      "Processing file: hdfs://columbus-oh.cs.colostate.edu:30785/geospatial/input/BlocksByState/California.geojson\n",
      "Processing file: hdfs://columbus-oh.cs.colostate.edu:30785/geospatial/input/BlocksByState/Colorado.geojson\n",
      "Processing file: hdfs://columbus-oh.cs.colostate.edu:30785/geospatial/input/BlocksByState/CommonwealthoftheNorthernMarianaIslands.geojson\n",
      "Processing file: hdfs://columbus-oh.cs.colostate.edu:30785/geospatial/input/BlocksByState/Connecticut.geojson\n",
      "Processing file: hdfs://columbus-oh.cs.colostate.edu:30785/geospatial/input/BlocksByState/Delaware.geojson\n",
      "Processing file: hdfs://columbus-oh.cs.colostate.edu:30785/geospatial/input/BlocksByState/DistrictofColumbia.geojson\n",
      "Processing file: hdfs://columbus-oh.cs.colostate.edu:30785/geospatial/input/BlocksByState/Florida.geojson\n",
      "Processing file: hdfs://columbus-oh.cs.colostate.edu:30785/geospatial/input/BlocksByState/Georgia.geojson\n",
      "Processing file: hdfs://columbus-oh.cs.colostate.edu:30785/geospatial/input/BlocksByState/Guam.geojson\n",
      "Processing file: hdfs://columbus-oh.cs.colostate.edu:30785/geospatial/input/BlocksByState/Hawaii.geojson\n",
      "Processing file: hdfs://columbus-oh.cs.colostate.edu:30785/geospatial/input/BlocksByState/Idaho.geojson\n",
      "Processing file: hdfs://columbus-oh.cs.colostate.edu:30785/geospatial/input/BlocksByState/Illinois.geojson\n",
      "Processing file: hdfs://columbus-oh.cs.colostate.edu:30785/geospatial/input/BlocksByState/Indiana.geojson\n",
      "Processing file: hdfs://columbus-oh.cs.colostate.edu:30785/geospatial/input/BlocksByState/Iowa.geojson\n",
      "Processing file: hdfs://columbus-oh.cs.colostate.edu:30785/geospatial/input/BlocksByState/Kansas.geojson\n",
      "Processing file: hdfs://columbus-oh.cs.colostate.edu:30785/geospatial/input/BlocksByState/Kentucky.geojson\n",
      "Processing file: hdfs://columbus-oh.cs.colostate.edu:30785/geospatial/input/BlocksByState/Louisiana.geojson\n",
      "Processing file: hdfs://columbus-oh.cs.colostate.edu:30785/geospatial/input/BlocksByState/Maine.geojson\n",
      "Processing file: hdfs://columbus-oh.cs.colostate.edu:30785/geospatial/input/BlocksByState/Maryland.geojson\n",
      "Processing file: hdfs://columbus-oh.cs.colostate.edu:30785/geospatial/input/BlocksByState/Massachusetts.geojson\n",
      "Processing file: hdfs://columbus-oh.cs.colostate.edu:30785/geospatial/input/BlocksByState/Michigan.geojson\n",
      "Processing file: hdfs://columbus-oh.cs.colostate.edu:30785/geospatial/input/BlocksByState/Minnesota.geojson\n",
      "Processing file: hdfs://columbus-oh.cs.colostate.edu:30785/geospatial/input/BlocksByState/Mississippi.geojson\n",
      "Processing file: hdfs://columbus-oh.cs.colostate.edu:30785/geospatial/input/BlocksByState/Missouri.geojson\n",
      "Processing file: hdfs://columbus-oh.cs.colostate.edu:30785/geospatial/input/BlocksByState/Montana.geojson\n",
      "Processing file: hdfs://columbus-oh.cs.colostate.edu:30785/geospatial/input/BlocksByState/Nebraska.geojson\n",
      "Processing file: hdfs://columbus-oh.cs.colostate.edu:30785/geospatial/input/BlocksByState/Nevada.geojson\n",
      "Processing file: hdfs://columbus-oh.cs.colostate.edu:30785/geospatial/input/BlocksByState/NewHampshire.geojson\n",
      "Processing file: hdfs://columbus-oh.cs.colostate.edu:30785/geospatial/input/BlocksByState/NewJersey.geojson\n",
      "Processing file: hdfs://columbus-oh.cs.colostate.edu:30785/geospatial/input/BlocksByState/NewMexico.geojson\n",
      "Processing file: hdfs://columbus-oh.cs.colostate.edu:30785/geospatial/input/BlocksByState/NewYork.geojson\n",
      "Processing file: hdfs://columbus-oh.cs.colostate.edu:30785/geospatial/input/BlocksByState/NorthCarolina.geojson\n",
      "Processing file: hdfs://columbus-oh.cs.colostate.edu:30785/geospatial/input/BlocksByState/NorthDakota.geojson\n",
      "Processing file: hdfs://columbus-oh.cs.colostate.edu:30785/geospatial/input/BlocksByState/Ohio.geojson\n",
      "Processing file: hdfs://columbus-oh.cs.colostate.edu:30785/geospatial/input/BlocksByState/Oklahoma.geojson\n",
      "Processing file: hdfs://columbus-oh.cs.colostate.edu:30785/geospatial/input/BlocksByState/Oregon.geojson\n",
      "Processing file: hdfs://columbus-oh.cs.colostate.edu:30785/geospatial/input/BlocksByState/Pennsylvania.geojson\n",
      "Processing file: hdfs://columbus-oh.cs.colostate.edu:30785/geospatial/input/BlocksByState/PuertoRico.geojson\n",
      "Processing file: hdfs://columbus-oh.cs.colostate.edu:30785/geospatial/input/BlocksByState/RhodeIsland.geojson\n",
      "Processing file: hdfs://columbus-oh.cs.colostate.edu:30785/geospatial/input/BlocksByState/SouthCarolina.geojson\n",
      "Processing file: hdfs://columbus-oh.cs.colostate.edu:30785/geospatial/input/BlocksByState/SouthDakota.geojson\n",
      "Processing file: hdfs://columbus-oh.cs.colostate.edu:30785/geospatial/input/BlocksByState/Tennessee.geojson\n",
      "Processing file: hdfs://columbus-oh.cs.colostate.edu:30785/geospatial/input/BlocksByState/Texas.geojson\n",
      "Processing file: hdfs://columbus-oh.cs.colostate.edu:30785/geospatial/input/BlocksByState/UnitedStatesVirginIslands.geojson\n",
      "Processing file: hdfs://columbus-oh.cs.colostate.edu:30785/geospatial/input/BlocksByState/Utah.geojson\n",
      "Processing file: hdfs://columbus-oh.cs.colostate.edu:30785/geospatial/input/BlocksByState/Vermont.geojson\n",
      "Processing file: hdfs://columbus-oh.cs.colostate.edu:30785/geospatial/input/BlocksByState/Virginia.geojson\n",
      "Processing file: hdfs://columbus-oh.cs.colostate.edu:30785/geospatial/input/BlocksByState/Washington.geojson\n",
      "Processing file: hdfs://columbus-oh.cs.colostate.edu:30785/geospatial/input/BlocksByState/WestVirginia.geojson\n",
      "Processing file: hdfs://columbus-oh.cs.colostate.edu:30785/geospatial/input/BlocksByState/Wisconsin.geojson\n",
      "Processing file: hdfs://columbus-oh.cs.colostate.edu:30785/geospatial/input/BlocksByState/Wyoming.geojson\n"
     ]
    }
   ],
   "source": [
    "blocks_dataframes = {}\n",
    "files_directory = \"hdfs://columbus-oh.cs.colostate.edu:30785/geospatial/input/BlocksByState/\"\n",
    "\n",
    "files = get_files_recursive(files_directory)\n",
    "\n",
    "for file_path in files:\n",
    "    file_name = file_path.split('/')[-1]\n",
    "    \n",
    "    print(f\"Processing file: {file_path}\")\n",
    "\n",
    "    geojsonSchema = \"type string, crs string, totalFeatures long, features array<struct<type string, geometry string, properties map<string, string>>>\"\n",
    "    \n",
    "    df = spark.read.schema(geojsonSchema).json(file_path, multiLine=True)\n",
    "    \n",
    "    df = (df\n",
    "        .select(F.explode(\"features\").alias(\"features\"))\n",
    "        .select(\"features.*\")\n",
    "        .withColumn(\"geometry\", F.expr(\"ST_GeomFromGeoJSON(geometry)\"))\n",
    "        )\n",
    "    \n",
    "    blocks_dataframes[file_name] = df"
   ]
  },
  {
   "cell_type": "code",
   "execution_count": 56,
   "metadata": {},
   "outputs": [
    {
     "name": "stdout",
     "output_type": "stream",
     "text": [
      "Alabama\n",
      "Alaska\n",
      "AmericanSamoa\n",
      "Arizona\n",
      "Arkansas\n",
      "California\n",
      "Colorado\n",
      "CommonwealthoftheNorthernMarianaIslands\n",
      "Connecticut\n",
      "Delaware\n",
      "DistrictofColumbia\n",
      "Florida\n",
      "Georgia\n",
      "Guam\n",
      "Hawaii\n",
      "Idaho\n",
      "Illinois\n",
      "Indiana\n",
      "Iowa\n",
      "Kansas\n",
      "Kentucky\n",
      "Louisiana\n",
      "Maine\n",
      "Maryland\n",
      "Massachusetts\n",
      "Michigan\n",
      "Minnesota\n",
      "Mississippi\n",
      "Missouri\n",
      "Montana\n",
      "Nebraska\n",
      "Nevada\n",
      "NewHampshire\n",
      "NewJersey\n",
      "NewMexico\n",
      "NewYork\n",
      "NorthCarolina\n",
      "NorthDakota\n",
      "Ohio\n",
      "Oklahoma\n",
      "Oregon\n",
      "Pennsylvania\n",
      "PuertoRico\n",
      "RhodeIsland\n",
      "SouthCarolina\n",
      "SouthDakota\n",
      "Tennessee\n",
      "Texas\n",
      "UnitedStatesVirginIslands\n",
      "Utah\n",
      "Vermont\n",
      "Virginia\n",
      "Washington\n",
      "Virginia\n",
      "WestVirginia\n",
      "Wisconsin\n",
      "Wyoming\n"
     ]
    }
   ],
   "source": [
    "tract_prefix = \"Tract_\"\n",
    "block_prefix = \"BlockGroup_\"\n",
    "\n",
    "final_block_edges = {}\n",
    "final_block_nodes = {}\n",
    "\n",
    "for tracts_file_name in tracts_dataframes.keys():\n",
    "    for blocks_file_name in blocks_dataframes.keys():  \n",
    "        blocks = blocks_file_name.replace('.geojson', '')\n",
    "        tracts = tracts_file_name.replace('Tracts.geojson', '')\n",
    "        if blocks in tracts:\n",
    "            print(blocks)\n",
    "            df_blocks = blocks_dataframes[blocks_file_name]\n",
    "            df_tracts = tracts_dataframes[tracts_file_name]\n",
    "            \n",
    "            df_tracts_contains_blocks = create_contains_df(df_tracts, df_blocks)\n",
    "\n",
    "            df_block_isPartOf_tract_edges = create_edge_df(df_tracts_contains_blocks, concat(lit(block_prefix), col(\"child_properties.GEOID\")), lit(\"isPartOf\"), concat(lit(tract_prefix), col(\"parent_properties.GEOID\")))\n",
    "            # df_block_isPartOf_tract_edges.show(1)\n",
    "            final_edge_dataframes[f'{blocks}BlockIsPartOfTract{tracts}'] = df_block_isPartOf_tract_edges\n",
    "            final_block_edges[f'{blocks}BlockIsPartOfTract{tracts}'] = df_block_isPartOf_tract_edges\n",
    "\n",
    "            df_tract_contains_block_edges = create_edge_df(df_tracts_contains_blocks, concat(lit(tract_prefix), col(\"parent_properties.GEOID\")), lit(\"Contains\"), concat(lit(block_prefix), col(\"child_properties.GEOID\")))\n",
    "            # df_tract_contains_block_edges.show(1)\n",
    "            final_edge_dataframes[f'{tracts}TractContainsBlock{blocks}'] = df_tract_contains_block_edges\n",
    "            final_block_edges[f'{tracts}TractContainsBlock{blocks}'] = df_tract_contains_block_edges\n",
    "\n",
    "            df_nodes = create_node_df(df_block_isPartOf_tract_edges, lit(\"Block\"))\n",
    "            df_nodes = df_nodes.filter(~col(\"Node_ID\").contains(\"Tract_\"))\n",
    "            final_node_dataframes[f'{blocks}Blocks'] = df_nodes\n",
    "            final_block_nodes[f'{blocks}Blocks'] = df_nodes\n",
    "\n",
    "            # df_nodes.show(1)"
   ]
  },
  {
   "cell_type": "code",
   "execution_count": 57,
   "metadata": {},
   "outputs": [],
   "source": [
    "combined_block_edges_df = union_all(final_block_edges)\n",
    "combined_block_nodes_df = union_all(final_block_nodes)"
   ]
  },
  {
   "cell_type": "code",
   "execution_count": 58,
   "metadata": {},
   "outputs": [
    {
     "name": "stderr",
     "output_type": "stream",
     "text": [
      "                                                                                \r"
     ]
    }
   ],
   "source": [
    "append_to_csv(combined_block_nodes_df, base_nodes_path)\n",
    "append_to_csv(combined_block_edges_df, base_edges_path)"
   ]
  },
  {
   "cell_type": "markdown",
   "metadata": {},
   "source": [
    "## More Comparitive Datasets\n",
    "\n",
    "Temperature, Average Annual 1971 - 2000 for Wyoming at 1:250,000\n",
    "\n",
    "Source: https://www.sciencebase.gov/catalog/item/4f4e479ee4b07f02db4927d7\n",
    "\n",
    "World Urban Areas\n",
    "\n",
    "Source: https://www.sciencebase.gov/catalog/item/537f6b14e4b021317a86f8dc\n",
    "\n",
    "Land status in the Colorado Plateau coal assessment study area\n",
    "\n",
    "Source: https://www.sciencebase.gov/catalog/item/60a6bbddd34ea221ce4ba94b\n",
    "\n",
    "TIGER/Line Geodatabases\n",
    "\n",
    "Source: https://www.census.gov/geographies/mapping-files/time-series/geo/tiger-geodatabase-file.html\n",
    "\n",
    "PAD-US 2.1 Download data by State GeoJSON\n",
    "\n",
    "Source: https://www.sciencebase.gov/catalog/item/6025985bd34eb12031138e21"
   ]
  },
  {
   "cell_type": "markdown",
   "metadata": {},
   "source": []
  }
 ],
 "metadata": {
  "kernelspec": {
   "display_name": "Python 3 (ipykernel)",
   "language": "python",
   "name": "python3"
  },
  "language_info": {
   "codemirror_mode": {
    "name": "ipython",
    "version": 3
   },
   "file_extension": ".py",
   "mimetype": "text/x-python",
   "name": "python",
   "nbconvert_exporter": "python",
   "pygments_lexer": "ipython3",
   "version": "3.9.18"
  }
 },
 "nbformat": 4,
 "nbformat_minor": 2
}
