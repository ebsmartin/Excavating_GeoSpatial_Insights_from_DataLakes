{
 "cells": [
  {
   "cell_type": "markdown",
   "metadata": {},
   "source": [
    "# **Excavating New Datasets via GeoSpatial Insights from Datalakes**\n"
   ]
  },
  {
   "cell_type": "markdown",
   "metadata": {},
   "source": [
    "Eric Martin <br>\n",
    "Federico Larrieu <br>\n",
    "CS 555 Distributed Systems <br>\n",
    "Colorado State University <br>\n",
    "Spring 2024 <br>\n",
    "\n",
    "### Objective\n",
    "\n",
    "    • Perform analytics over a large-scale temporal network\n",
    "\n",
    "### Overview\n",
    "In this assignment, I will perform an analysis of a continuously evolving temporal network. Large-scale networks are observed in many different sociological and scientific settings such as computer networks, networks of social media, academic/technical citation networks and hyperlink networks. To understand such networks, there have been several properties of interest based primarily on two key measurements: the degrees of nodes and the shortest distances between pairs of nodes. The node-to-node distances often infer the graph’s diameter, which is the maximum shortest distance among all the connected pairs of nodes. \n",
    "\n",
    "Most of the large networks evolve over time by adding new members/items and relationships between them or removing some of them. In the traditional temporal network analysis, there are two major hypotheses. \n",
    "\n",
    "    (a) the average node degree in the network remains constant over time.\n",
    "    (Or the number of edges grows linearly in the number of nodes.). \n",
    "\n",
    "    (b) the diameter is a slowly growing function of the network size. \n",
    "\n",
    "    How are these hypothesis (a) and (b) reflected in real-world data?\n",
    "\n",
    "In this assignment, I measure fundamental network properties with a \n",
    "citation network and investigate how they evolve. I will perform the following computations using Apache Spark.\n",
    "\n",
    "### Dataset\n",
    "\n",
    "The dataset for this assignment is the arXiv citation graph ( J. Gehrke, P. Ginsparg, and J. M. Kleinberg. Overview of the 2003 kdd cup. SIGKDD Explorations, 5(2):149–151, 2003) that covers papers published in the period from January 1993 to April 2003 (11 years). \n",
    "\n",
    "Please note that the dataset for the last year (2003) is incomplete and does not represent the entire year."
   ]
  },
  {
   "cell_type": "markdown",
   "metadata": {},
   "source": [
    "## Task 1: Exercises on the basic Spark features\n",
    "\n",
    "In this task, I will practice with the key features of the Apache Spark.\n",
    "\n",
    "    (1) Count the number of unique published papers per year - create an output file with the number of papers published each year.\n",
    "\n",
    "    (2) Count the number of edges (citations) generated per year - create an output file with the number of citations added each year.\n",
    "\n",
    "\n",
    "First I am going to transfer my two datasets to the HDFS file system. I will use the following commands to transfer the files to the HDFS file system.\n",
    "\n",
    "1) Start HDFS on NameNode\n",
    "    ```bash\n",
    "    start-dfs.sh\n",
    "    ```\n",
    "2) Start YARN on ResourceManager\n",
    "    ```bash\n",
    "    start-yarn.sh\n",
    "    ```\n",
    "3) Start Spark on the NameNode \n",
    "    start-master.sh\n",
    "    start-workers.sh\n",
    "    ```\n",
    "4) Transfer the files to HDFS\n",
    "    ```bash\n",
    "        hadoop fs -mkdir /pa1\n",
    "        hadoop fs -mkdir /pa1/input\n",
    "        hadoop fs -put cs535/PA1/citations-redo.txt /pa1/input\n",
    "        hadoop fs -put cs535/PA1/published-dates-redo.txt /pa1/input\n",
    "    ```\n",
    "5) Verify the files are in HDFS\n",
    "    5.1) Set up SSH with tunneling\n",
    "    ```bash\n",
    "        ssh -L 8080:localhost:8080 ebmartin@hartford.cs.colostate.edu\n",
    "    ```\n",
    "    5.2) Find HDFS web address \n",
    "    ```bash\n",
    "        cd hadoopConf\n",
    "        vim hdfs-site.xml\n",
    "    ```\n",
    "    5.3) Find the following:\n",
    "    ```xml\n",
    "        <property>\n",
    "            <name>dfs.namenode.http-address</name>\n",
    "            <value>hartford.cs.colostate.edu:30182</value>\n",
    "            <description>Location of the DFS web UI</description>\n",
    "        </property>\n",
    "    ``````\n",
    "    5.4) Open local web browser and go to HDFS web address (http://<namenode>:<port>)\n",
    "    ```bash\n",
    "        http://hartford.cs.colostate.edu:30182/\n",
    "    ```\n",
    "    5.5) Verify files are in HDFS\n",
    "    ```bash\n",
    "        http://hartford.cs.colostate.edu:30182/explorer.html#/pa1/input\n",
    "    ```\n",
    "6) Check the YARN web portal to see if the Spark application is running (http://<resource_manager_host>:<port>)\n",
    "    ```bash\n",
    "        http://honolulu.cs.colostate.edu:30194/\n",
    "    ```\n",
    "7) Check the Spark web portal to see if the Spark application is running (http://<SPARK_MASTER_IP>:<SPARK_MASTER_WEBUI_PORT>)\n",
    "    ```bash\n",
    "        http://hartford.cs.colostate.edu:30197/\n",
    "    ```\n",
    "    *Note:*\n",
    "    *I wrote all this so I can reference how I did it in future assignments.*"
   ]
  },
  {
   "cell_type": "markdown",
   "metadata": {},
   "source": [
    "### Load data into Spark"
   ]
  },
  {
   "cell_type": "code",
   "execution_count": 1,
   "metadata": {},
   "outputs": [
    {
     "name": "stdout",
     "output_type": "stream",
     "text": [
      "3.5.0\n",
      "/usr/bin/python3.9\n"
     ]
    }
   ],
   "source": [
    "import sys\n",
    "sys.path.append(\"/usr/local/python-env/py39/lib/python3.9/site-packages\")\n",
    "\n",
    "import pyspark\n",
    "print(pyspark.__version__)\n",
    "\n",
    "\n",
    "print(sys.executable)"
   ]
  },
  {
   "cell_type": "markdown",
   "metadata": {},
   "source": [
    "### Initialze a SparkSession\n",
    "\n",
    "Initialize a test session to ensure the SparkSession is working properly. This will connect to the resource manager node that is running the YARN cluster. If we visit the YARN web portal, we can see that the Spark application is running."
   ]
  },
  {
   "cell_type": "markdown",
   "metadata": {},
   "source": [
    "Ensuring the pyspark library is being accessed from my local usr directory.\n"
   ]
  },
  {
   "cell_type": "code",
   "execution_count": 2,
   "metadata": {},
   "outputs": [],
   "source": [
    "import os\n",
    "os.environ['PYSPARK_PYTHON'] = '/usr/bin/python3.9'"
   ]
  },
  {
   "cell_type": "code",
   "execution_count": 3,
   "metadata": {},
   "outputs": [
    {
     "name": "stdout",
     "output_type": "stream",
     "text": [
      "Apache Sedona version: 1.5.1\n"
     ]
    }
   ],
   "source": [
    "import pkg_resources\n",
    "\n",
    "sedona_version = pkg_resources.get_distribution(\"apache-sedona\").version\n",
    "print(f\"Apache Sedona version: {sedona_version}\")"
   ]
  },
  {
   "cell_type": "code",
   "execution_count": 4,
   "metadata": {},
   "outputs": [
    {
     "name": "stdout",
     "output_type": "stream",
     "text": [
      "/usr/local/spark/latest\n",
      "/usr/bin/python3.9\n"
     ]
    }
   ],
   "source": [
    "\n",
    "print(os.environ['SPARK_HOME'])\n",
    "print(os.environ['PYSPARK_PYTHON'])"
   ]
  },
  {
   "cell_type": "markdown",
   "metadata": {},
   "source": [
    "## Now to make the app"
   ]
  },
  {
   "cell_type": "code",
   "execution_count": 7,
   "metadata": {},
   "outputs": [
    {
     "name": "stderr",
     "output_type": "stream",
     "text": [
      "/tmp/ipykernel_1511486/1429766183.py:35: DeprecationWarning: Call to deprecated function registerAll (Deprecated since 1.4.1, use SedonaContext.create() instead.).\n",
      "  SedonaRegistrator.registerAll(spark)\n",
      "/s/chopin/l/grad/ebmartin/.local/lib/python3.9/site-packages/sedona/register/geo_registrator.py:45: DeprecationWarning: Call to deprecated function register (Deprecated since 1.4.1, use SedonaContext.create() instead.).\n",
      "  cls.register(spark)\n"
     ]
    }
   ],
   "source": [
    "from pyspark.sql import SparkSession\n",
    "from pyspark.sql import functions as F\n",
    "from pyspark.sql.functions import split\n",
    "from pyspark.sql.functions import col\n",
    "from pyspark.sql import Row\n",
    "from pyspark.sql.types import IntegerType, DateType\n",
    "from pyspark.sql.functions import year  # used to extract year from date, could do this manually as well\n",
    "from pyspark.sql import Window\n",
    "from pyspark.sql.functions import sum as pyspark_sum\n",
    "\n",
    "\n",
    "from pyspark.sql import SparkSession\n",
    "from sedona.register import SedonaRegistrator\n",
    "from sedona.utils import SedonaKryoRegistrator, KryoSerializer\n",
    "from sedona.spark import *\n",
    "import geopandas as gpd\n",
    "\n",
    "spark = SparkSession \\\n",
    "    .builder \\\n",
    "    .appName('GeoSpatialQueries') \\\n",
    "    .master('spark://hartford:30196') \\\n",
    "    .config(\"spark.yarn.resourcemanager.address\", \"honolulu.cs.colostate.edu:30190\") \\\n",
    "    .config(\"spark.serializer\", KryoSerializer.getName) \\\n",
    "    .config(\"spark.kryo.registrator\", SedonaKryoRegistrator.getName) \\\n",
    "    .config('spark.jars.packages',\n",
    "            'org.apache.sedona:sedona-spark-3.5_2.12:1.5.1,'\n",
    "            'org.datasyslab:geotools-wrapper:1.5.1-28.2') \\\n",
    "    .config('spark.jars.repositories', 'https://artifacts.unidata.ucar.edu/repository/unidata-all') \\\n",
    "    .getOrCreate()\n",
    "\n",
    "# Set log level to DEBUG\n",
    "spark.sparkContext.setLogLevel(\"ERROR\")\n",
    "\n",
    "sedona = SedonaContext.create(spark)\n",
    "SedonaRegistrator.registerAll(spark)\n",
    "\n",
    "# create a logger\n",
    "logger = spark._jvm.org.apache.log4j.LogManager.getLogger(__name__)\n",
    "logger.info(\"Pyspark initialized...\")\n",
    "\n",
    "# IF YOU WANT TO RUN THE TEST, SET isTest = True\n",
    "isTest = True"
   ]
  },
  {
   "cell_type": "markdown",
   "metadata": {},
   "source": [
    "## Load the datasets"
   ]
  },
  {
   "cell_type": "code",
   "execution_count": 8,
   "metadata": {},
   "outputs": [
    {
     "name": "stderr",
     "output_type": "stream",
     "text": [
      "                                                                                \r"
     ]
    },
    {
     "ename": "Py4JJavaError",
     "evalue": "An error occurred while calling o78.load.\n: org.apache.spark.SparkClassNotFoundException: [DATA_SOURCE_NOT_FOUND] Failed to find the data source: geojson. Please find packages at `https://spark.apache.org/third-party-projects.html`.\n\tat org.apache.spark.sql.errors.QueryExecutionErrors$.dataSourceNotFoundError(QueryExecutionErrors.scala:724)\n\tat org.apache.spark.sql.execution.datasources.DataSource$.lookupDataSource(DataSource.scala:647)\n\tat org.apache.spark.sql.execution.datasources.DataSource$.lookupDataSourceV2(DataSource.scala:697)\n\tat org.apache.spark.sql.DataFrameReader.load(DataFrameReader.scala:208)\n\tat org.apache.spark.sql.DataFrameReader.load(DataFrameReader.scala:186)\n\tat sun.reflect.NativeMethodAccessorImpl.invoke0(Native Method)\n\tat sun.reflect.NativeMethodAccessorImpl.invoke(NativeMethodAccessorImpl.java:62)\n\tat sun.reflect.DelegatingMethodAccessorImpl.invoke(DelegatingMethodAccessorImpl.java:43)\n\tat java.lang.reflect.Method.invoke(Method.java:498)\n\tat py4j.reflection.MethodInvoker.invoke(MethodInvoker.java:244)\n\tat py4j.reflection.ReflectionEngine.invoke(ReflectionEngine.java:374)\n\tat py4j.Gateway.invoke(Gateway.java:282)\n\tat py4j.commands.AbstractCommand.invokeMethod(AbstractCommand.java:132)\n\tat py4j.commands.CallCommand.execute(CallCommand.java:79)\n\tat py4j.ClientServerConnection.waitForCommands(ClientServerConnection.java:182)\n\tat py4j.ClientServerConnection.run(ClientServerConnection.java:106)\n\tat java.lang.Thread.run(Thread.java:750)\nCaused by: java.lang.ClassNotFoundException: geojson.DefaultSource\n\tat java.net.URLClassLoader.findClass(URLClassLoader.java:387)\n\tat java.lang.ClassLoader.loadClass(ClassLoader.java:418)\n\tat java.lang.ClassLoader.loadClass(ClassLoader.java:351)\n\tat org.apache.spark.sql.execution.datasources.DataSource$.$anonfun$lookupDataSource$5(DataSource.scala:633)\n\tat scala.util.Try$.apply(Try.scala:213)\n\tat org.apache.spark.sql.execution.datasources.DataSource$.$anonfun$lookupDataSource$4(DataSource.scala:633)\n\tat scala.util.Failure.orElse(Try.scala:224)\n\tat org.apache.spark.sql.execution.datasources.DataSource$.lookupDataSource(DataSource.scala:633)\n\t... 15 more\n",
     "output_type": "error",
     "traceback": [
      "\u001b[0;31m---------------------------------------------------------------------------\u001b[0m",
      "\u001b[0;31mPy4JJavaError\u001b[0m                             Traceback (most recent call last)",
      "Input \u001b[0;32mIn [8]\u001b[0m, in \u001b[0;36m<cell line: 9>\u001b[0;34m()\u001b[0m\n\u001b[1;32m     11\u001b[0m     state_boundaries \u001b[38;5;241m=\u001b[39m spark\u001b[38;5;241m.\u001b[39mread\u001b[38;5;241m.\u001b[39mjson(\u001b[38;5;124m\"\u001b[39m\u001b[38;5;124mhdfs:///geospatial/input/cb_2018_us_state_20m.json\u001b[39m\u001b[38;5;124m\"\u001b[39m, multiLine\u001b[38;5;241m=\u001b[39m\u001b[38;5;28;01mTrue\u001b[39;00m)\n\u001b[1;32m     12\u001b[0m     \u001b[38;5;66;03m# Reading a GeoJSON file using sedona\u001b[39;00m\n\u001b[0;32m---> 13\u001b[0m     state_boundaries_sedona \u001b[38;5;241m=\u001b[39m \u001b[43mspark\u001b[49m\u001b[38;5;241;43m.\u001b[39;49m\u001b[43mread\u001b[49m\u001b[38;5;241;43m.\u001b[39;49m\u001b[43mformat\u001b[49m\u001b[43m(\u001b[49m\u001b[38;5;124;43m\"\u001b[39;49m\u001b[38;5;124;43mgeojson\u001b[39;49m\u001b[38;5;124;43m\"\u001b[39;49m\u001b[43m)\u001b[49m\u001b[38;5;241;43m.\u001b[39;49m\u001b[43mload\u001b[49m\u001b[43m(\u001b[49m\u001b[38;5;124;43m\"\u001b[39;49m\u001b[38;5;124;43mhdfs:///geospatial/input/cb_2018_us_state_20m.json\u001b[39;49m\u001b[38;5;124;43m\"\u001b[39;49m\u001b[43m)\u001b[49m\n\u001b[1;32m     14\u001b[0m \u001b[38;5;28;01melse\u001b[39;00m:\n\u001b[1;32m     15\u001b[0m     \n\u001b[1;32m     16\u001b[0m     \u001b[38;5;66;03m# Get a list of the CSV and JSON files in the directory\u001b[39;00m\n\u001b[1;32m     17\u001b[0m     json_files \u001b[38;5;241m=\u001b[39m spark\u001b[38;5;241m.\u001b[39m_jvm\u001b[38;5;241m.\u001b[39morg\u001b[38;5;241m.\u001b[39mapache\u001b[38;5;241m.\u001b[39mhadoop\u001b[38;5;241m.\u001b[39mfs\u001b[38;5;241m.\u001b[39mFileSystem\u001b[38;5;241m.\u001b[39mget(spark\u001b[38;5;241m.\u001b[39m_jsc\u001b[38;5;241m.\u001b[39mhadoopConfiguration())\u001b[38;5;241m.\u001b[39mglobStatus(spark\u001b[38;5;241m.\u001b[39m_jvm\u001b[38;5;241m.\u001b[39morg\u001b[38;5;241m.\u001b[39mapache\u001b[38;5;241m.\u001b[39mhadoop\u001b[38;5;241m.\u001b[39mfs\u001b[38;5;241m.\u001b[39mPath(json_directory \u001b[38;5;241m+\u001b[39m \u001b[38;5;124m\"\u001b[39m\u001b[38;5;124m*.csv\u001b[39m\u001b[38;5;124m\"\u001b[39m))\n",
      "File \u001b[0;32m~/.local/lib/python3.9/site-packages/pyspark/sql/readwriter.py:307\u001b[0m, in \u001b[0;36mDataFrameReader.load\u001b[0;34m(self, path, format, schema, **options)\u001b[0m\n\u001b[1;32m    305\u001b[0m \u001b[38;5;28mself\u001b[39m\u001b[38;5;241m.\u001b[39moptions(\u001b[38;5;241m*\u001b[39m\u001b[38;5;241m*\u001b[39moptions)\n\u001b[1;32m    306\u001b[0m \u001b[38;5;28;01mif\u001b[39;00m \u001b[38;5;28misinstance\u001b[39m(path, \u001b[38;5;28mstr\u001b[39m):\n\u001b[0;32m--> 307\u001b[0m     \u001b[38;5;28;01mreturn\u001b[39;00m \u001b[38;5;28mself\u001b[39m\u001b[38;5;241m.\u001b[39m_df(\u001b[38;5;28;43mself\u001b[39;49m\u001b[38;5;241;43m.\u001b[39;49m\u001b[43m_jreader\u001b[49m\u001b[38;5;241;43m.\u001b[39;49m\u001b[43mload\u001b[49m\u001b[43m(\u001b[49m\u001b[43mpath\u001b[49m\u001b[43m)\u001b[49m)\n\u001b[1;32m    308\u001b[0m \u001b[38;5;28;01melif\u001b[39;00m path \u001b[38;5;129;01mis\u001b[39;00m \u001b[38;5;129;01mnot\u001b[39;00m \u001b[38;5;28;01mNone\u001b[39;00m:\n\u001b[1;32m    309\u001b[0m     \u001b[38;5;28;01mif\u001b[39;00m \u001b[38;5;28mtype\u001b[39m(path) \u001b[38;5;241m!=\u001b[39m \u001b[38;5;28mlist\u001b[39m:\n",
      "File \u001b[0;32m/usr/local/python-env/py39/lib/python3.9/site-packages/py4j/java_gateway.py:1321\u001b[0m, in \u001b[0;36mJavaMember.__call__\u001b[0;34m(self, *args)\u001b[0m\n\u001b[1;32m   1315\u001b[0m command \u001b[38;5;241m=\u001b[39m proto\u001b[38;5;241m.\u001b[39mCALL_COMMAND_NAME \u001b[38;5;241m+\u001b[39m\\\n\u001b[1;32m   1316\u001b[0m     \u001b[38;5;28mself\u001b[39m\u001b[38;5;241m.\u001b[39mcommand_header \u001b[38;5;241m+\u001b[39m\\\n\u001b[1;32m   1317\u001b[0m     args_command \u001b[38;5;241m+\u001b[39m\\\n\u001b[1;32m   1318\u001b[0m     proto\u001b[38;5;241m.\u001b[39mEND_COMMAND_PART\n\u001b[1;32m   1320\u001b[0m answer \u001b[38;5;241m=\u001b[39m \u001b[38;5;28mself\u001b[39m\u001b[38;5;241m.\u001b[39mgateway_client\u001b[38;5;241m.\u001b[39msend_command(command)\n\u001b[0;32m-> 1321\u001b[0m return_value \u001b[38;5;241m=\u001b[39m \u001b[43mget_return_value\u001b[49m\u001b[43m(\u001b[49m\n\u001b[1;32m   1322\u001b[0m \u001b[43m    \u001b[49m\u001b[43manswer\u001b[49m\u001b[43m,\u001b[49m\u001b[43m \u001b[49m\u001b[38;5;28;43mself\u001b[39;49m\u001b[38;5;241;43m.\u001b[39;49m\u001b[43mgateway_client\u001b[49m\u001b[43m,\u001b[49m\u001b[43m \u001b[49m\u001b[38;5;28;43mself\u001b[39;49m\u001b[38;5;241;43m.\u001b[39;49m\u001b[43mtarget_id\u001b[49m\u001b[43m,\u001b[49m\u001b[43m \u001b[49m\u001b[38;5;28;43mself\u001b[39;49m\u001b[38;5;241;43m.\u001b[39;49m\u001b[43mname\u001b[49m\u001b[43m)\u001b[49m\n\u001b[1;32m   1324\u001b[0m \u001b[38;5;28;01mfor\u001b[39;00m temp_arg \u001b[38;5;129;01min\u001b[39;00m temp_args:\n\u001b[1;32m   1325\u001b[0m     temp_arg\u001b[38;5;241m.\u001b[39m_detach()\n",
      "File \u001b[0;32m~/.local/lib/python3.9/site-packages/pyspark/errors/exceptions/captured.py:179\u001b[0m, in \u001b[0;36mcapture_sql_exception.<locals>.deco\u001b[0;34m(*a, **kw)\u001b[0m\n\u001b[1;32m    177\u001b[0m \u001b[38;5;28;01mdef\u001b[39;00m \u001b[38;5;21mdeco\u001b[39m(\u001b[38;5;241m*\u001b[39ma: Any, \u001b[38;5;241m*\u001b[39m\u001b[38;5;241m*\u001b[39mkw: Any) \u001b[38;5;241m-\u001b[39m\u001b[38;5;241m>\u001b[39m Any:\n\u001b[1;32m    178\u001b[0m     \u001b[38;5;28;01mtry\u001b[39;00m:\n\u001b[0;32m--> 179\u001b[0m         \u001b[38;5;28;01mreturn\u001b[39;00m \u001b[43mf\u001b[49m\u001b[43m(\u001b[49m\u001b[38;5;241;43m*\u001b[39;49m\u001b[43ma\u001b[49m\u001b[43m,\u001b[49m\u001b[43m \u001b[49m\u001b[38;5;241;43m*\u001b[39;49m\u001b[38;5;241;43m*\u001b[39;49m\u001b[43mkw\u001b[49m\u001b[43m)\u001b[49m\n\u001b[1;32m    180\u001b[0m     \u001b[38;5;28;01mexcept\u001b[39;00m Py4JJavaError \u001b[38;5;28;01mas\u001b[39;00m e:\n\u001b[1;32m    181\u001b[0m         converted \u001b[38;5;241m=\u001b[39m convert_exception(e\u001b[38;5;241m.\u001b[39mjava_exception)\n",
      "File \u001b[0;32m/usr/local/python-env/py39/lib/python3.9/site-packages/py4j/protocol.py:326\u001b[0m, in \u001b[0;36mget_return_value\u001b[0;34m(answer, gateway_client, target_id, name)\u001b[0m\n\u001b[1;32m    324\u001b[0m value \u001b[38;5;241m=\u001b[39m OUTPUT_CONVERTER[\u001b[38;5;28mtype\u001b[39m](answer[\u001b[38;5;241m2\u001b[39m:], gateway_client)\n\u001b[1;32m    325\u001b[0m \u001b[38;5;28;01mif\u001b[39;00m answer[\u001b[38;5;241m1\u001b[39m] \u001b[38;5;241m==\u001b[39m REFERENCE_TYPE:\n\u001b[0;32m--> 326\u001b[0m     \u001b[38;5;28;01mraise\u001b[39;00m Py4JJavaError(\n\u001b[1;32m    327\u001b[0m         \u001b[38;5;124m\"\u001b[39m\u001b[38;5;124mAn error occurred while calling \u001b[39m\u001b[38;5;132;01m{0}\u001b[39;00m\u001b[38;5;132;01m{1}\u001b[39;00m\u001b[38;5;132;01m{2}\u001b[39;00m\u001b[38;5;124m.\u001b[39m\u001b[38;5;130;01m\\n\u001b[39;00m\u001b[38;5;124m\"\u001b[39m\u001b[38;5;241m.\u001b[39m\n\u001b[1;32m    328\u001b[0m         \u001b[38;5;28mformat\u001b[39m(target_id, \u001b[38;5;124m\"\u001b[39m\u001b[38;5;124m.\u001b[39m\u001b[38;5;124m\"\u001b[39m, name), value)\n\u001b[1;32m    329\u001b[0m \u001b[38;5;28;01melse\u001b[39;00m:\n\u001b[1;32m    330\u001b[0m     \u001b[38;5;28;01mraise\u001b[39;00m Py4JError(\n\u001b[1;32m    331\u001b[0m         \u001b[38;5;124m\"\u001b[39m\u001b[38;5;124mAn error occurred while calling \u001b[39m\u001b[38;5;132;01m{0}\u001b[39;00m\u001b[38;5;132;01m{1}\u001b[39;00m\u001b[38;5;132;01m{2}\u001b[39;00m\u001b[38;5;124m. Trace:\u001b[39m\u001b[38;5;130;01m\\n\u001b[39;00m\u001b[38;5;132;01m{3}\u001b[39;00m\u001b[38;5;130;01m\\n\u001b[39;00m\u001b[38;5;124m\"\u001b[39m\u001b[38;5;241m.\u001b[39m\n\u001b[1;32m    332\u001b[0m         \u001b[38;5;28mformat\u001b[39m(target_id, \u001b[38;5;124m\"\u001b[39m\u001b[38;5;124m.\u001b[39m\u001b[38;5;124m\"\u001b[39m, name, value))\n",
      "\u001b[0;31mPy4JJavaError\u001b[0m: An error occurred while calling o78.load.\n: org.apache.spark.SparkClassNotFoundException: [DATA_SOURCE_NOT_FOUND] Failed to find the data source: geojson. Please find packages at `https://spark.apache.org/third-party-projects.html`.\n\tat org.apache.spark.sql.errors.QueryExecutionErrors$.dataSourceNotFoundError(QueryExecutionErrors.scala:724)\n\tat org.apache.spark.sql.execution.datasources.DataSource$.lookupDataSource(DataSource.scala:647)\n\tat org.apache.spark.sql.execution.datasources.DataSource$.lookupDataSourceV2(DataSource.scala:697)\n\tat org.apache.spark.sql.DataFrameReader.load(DataFrameReader.scala:208)\n\tat org.apache.spark.sql.DataFrameReader.load(DataFrameReader.scala:186)\n\tat sun.reflect.NativeMethodAccessorImpl.invoke0(Native Method)\n\tat sun.reflect.NativeMethodAccessorImpl.invoke(NativeMethodAccessorImpl.java:62)\n\tat sun.reflect.DelegatingMethodAccessorImpl.invoke(DelegatingMethodAccessorImpl.java:43)\n\tat java.lang.reflect.Method.invoke(Method.java:498)\n\tat py4j.reflection.MethodInvoker.invoke(MethodInvoker.java:244)\n\tat py4j.reflection.ReflectionEngine.invoke(ReflectionEngine.java:374)\n\tat py4j.Gateway.invoke(Gateway.java:282)\n\tat py4j.commands.AbstractCommand.invokeMethod(AbstractCommand.java:132)\n\tat py4j.commands.CallCommand.execute(CallCommand.java:79)\n\tat py4j.ClientServerConnection.waitForCommands(ClientServerConnection.java:182)\n\tat py4j.ClientServerConnection.run(ClientServerConnection.java:106)\n\tat java.lang.Thread.run(Thread.java:750)\nCaused by: java.lang.ClassNotFoundException: geojson.DefaultSource\n\tat java.net.URLClassLoader.findClass(URLClassLoader.java:387)\n\tat java.lang.ClassLoader.loadClass(ClassLoader.java:418)\n\tat java.lang.ClassLoader.loadClass(ClassLoader.java:351)\n\tat org.apache.spark.sql.execution.datasources.DataSource$.$anonfun$lookupDataSource$5(DataSource.scala:633)\n\tat scala.util.Try$.apply(Try.scala:213)\n\tat org.apache.spark.sql.execution.datasources.DataSource$.$anonfun$lookupDataSource$4(DataSource.scala:633)\n\tat scala.util.Failure.orElse(Try.scala:224)\n\tat org.apache.spark.sql.execution.datasources.DataSource$.lookupDataSource(DataSource.scala:633)\n\t... 15 more\n"
     ]
    }
   ],
   "source": [
    "# Initialize a Hadoop file system \n",
    "fs = spark._jvm.org.apache.hadoop.fs.FileSystem.get(spark._jsc.hadoopConfiguration())\n",
    "\n",
    "# Directory containing the CSV files\n",
    "csv_directory = \"hdfs:///cs555/Datasets/\"\n",
    "json_directory = \"hdfs:///geospatial/input/\"\n",
    "\n",
    "if (isTest):\n",
    "\n",
    "    state_boundaries = spark.read.json(\"hdfs:///geospatial/input/cb_2018_us_state_20m.json\", multiLine=True)\n",
    "    # Reading a GeoJSON file using sedona\n",
    "    state_boundaries_sedona = spark.read.format(\"geojson\").load(\"hdfs:///geospatial/input/cb_2018_us_state_20m.json\")\n",
    "else:\n",
    "    \n",
    "    # Get a list of the CSV and JSON files in the directory\n",
    "    json_files = spark._jvm.org.apache.hadoop.fs.FileSystem.get(spark._jsc.hadoopConfiguration()).globStatus(spark._jvm.org.apache.hadoop.fs.Path(json_directory + \"*.csv\"))\n",
    "    csv_files = spark._jvm.org.apache.hadoop.fs.FileSystem.get(spark._jsc.hadoopConfiguration()).globStatus(spark._jvm.org.apache.hadoop.fs.Path(csv_directory + \"*.json\"))\n",
    "    \n",
    "    # Create a dictionary to hold the DataFrames\n",
    "    csv_dataset_dataframes = {}\n",
    "    json_dataset_dataframes = {}\n",
    "\n",
    "    # Load each CSV file into a DataFrame and store it in the dictionary\n",
    "    for csv_file in csv_files:\n",
    "        file_name = csv_file.getPath().getName()\n",
    "        csv_dataset_dataframes[file_name] = spark.read.csv(csv_directory + file_name, header=True, inferSchema=True)\n",
    "\n",
    "    for json_file in spark._jvm.org.apache.hadoop.fs.FileSystem.get(spark._jsc.hadoopConfiguration()).globStatus(spark._jvm.org.apache.hadoop.fs.Path(json_directory + \"*.json\")):\n",
    "        file_name = json_file.getPath().getName()\n",
    "        json_dataset_dataframes[file_name] = spark.read.json(json_directory + file_name, multiLine=True)\n",
    "        "
   ]
  },
  {
   "cell_type": "markdown",
   "metadata": {},
   "source": [
    "## We can see that the datasets are not in a workable format"
   ]
  },
  {
   "cell_type": "code",
   "execution_count": 8,
   "metadata": {},
   "outputs": [
    {
     "name": "stdout",
     "output_type": "stream",
     "text": [
      "State Boundaries Schema:\n",
      "root\n",
      " |-- crs: struct (nullable = true)\n",
      " |    |-- properties: struct (nullable = true)\n",
      " |    |    |-- name: string (nullable = true)\n",
      " |    |-- type: string (nullable = true)\n",
      " |-- features: array (nullable = true)\n",
      " |    |-- element: struct (containsNull = true)\n",
      " |    |    |-- geometry: struct (nullable = true)\n",
      " |    |    |    |-- coordinates: array (nullable = true)\n",
      " |    |    |    |    |-- element: array (containsNull = true)\n",
      " |    |    |    |    |    |-- element: array (containsNull = true)\n",
      " |    |    |    |    |    |    |-- element: string (containsNull = true)\n",
      " |    |    |    |-- type: string (nullable = true)\n",
      " |    |    |-- id: string (nullable = true)\n",
      " |    |    |-- properties: struct (nullable = true)\n",
      " |    |    |    |-- AFFGEOID: string (nullable = true)\n",
      " |    |    |    |-- ALAND: long (nullable = true)\n",
      " |    |    |    |-- AWATER: long (nullable = true)\n",
      " |    |    |    |-- GEOID: string (nullable = true)\n",
      " |    |    |    |-- LSAD: string (nullable = true)\n",
      " |    |    |    |-- NAME: string (nullable = true)\n",
      " |    |    |    |-- STATEFP: string (nullable = true)\n",
      " |    |    |    |-- STATENS: string (nullable = true)\n",
      " |    |    |    |-- STUSPS: string (nullable = true)\n",
      " |    |    |-- type: string (nullable = true)\n",
      " |-- type: string (nullable = true)\n",
      "\n"
     ]
    }
   ],
   "source": [
    "# print the schemas\n",
    "\n",
    "if (isTest):\n",
    "    print(\"State Boundaries Schema:\")\n",
    "    state_boundaries.printSchema()\n",
    "    print(\"State Boundaries Sedona Schema:\")\n",
    "    state_boundaries_sedona.printSchema()"
   ]
  },
  {
   "cell_type": "code",
   "execution_count": 9,
   "metadata": {},
   "outputs": [],
   "source": [
    "from pyspark.sql.functions import explode\n",
    "\n",
    "# Explode the features array into separate rows\n",
    "exploded_df = state_boundaries.select(explode(state_boundaries.features).alias(\"feature\"))\n",
    "\n",
    "# Select the NAME and geometry fields\n",
    "state_boundaries_geometry_df = exploded_df.select(\n",
    "    exploded_df.feature.properties.NAME.alias(\"Name\"),\n",
    "    exploded_df.feature.geometry.alias(\"geometry\")\n",
    ")"
   ]
  },
  {
   "cell_type": "code",
   "execution_count": 10,
   "metadata": {},
   "outputs": [
    {
     "name": "stderr",
     "output_type": "stream",
     "text": [
      "[Stage 4:>                                                          (0 + 1) / 1]\r"
     ]
    },
    {
     "name": "stdout",
     "output_type": "stream",
     "text": [
      "+------------+--------------------+\n",
      "|        Name|            geometry|\n",
      "+------------+--------------------+\n",
      "|    Maryland|{[[[[-76.046213,3...|\n",
      "|        Iowa|{[[[-96.621874999...|\n",
      "|    Delaware|{[[[-75.773786, 3...|\n",
      "|        Ohio|{[[[[-82.863342,4...|\n",
      "|Pennsylvania|{[[[-80.519891, 4...|\n",
      "|    Nebraska|{[[[-104.053142, ...|\n",
      "|  Washington|{[[[[-123.2371479...|\n",
      "| Puerto Rico|{[[[[-65.342068,1...|\n",
      "|     Alabama|{[[[-88.468662484...|\n",
      "|    Arkansas|{[[[-94.617919, 3...|\n",
      "|  New Mexico|{[[[-109.049195, ...|\n",
      "|       Texas|{[[[-106.623445, ...|\n",
      "|  California|{[[[[-118.593969,...|\n",
      "|    Kentucky|{[[[-89.544434, 3...|\n",
      "|     Georgia|{[[[-85.605165, 3...|\n",
      "|   Wisconsin|{[[[[-86.934276,4...|\n",
      "|      Oregon|{[[[-124.552441, ...|\n",
      "|    Missouri|{[[[-95.765644999...|\n",
      "|    Virginia|{[[[[-76.02347499...|\n",
      "|   Tennessee|{[[[-90.300697, 3...|\n",
      "+------------+--------------------+\n",
      "only showing top 20 rows\n",
      "\n"
     ]
    },
    {
     "name": "stderr",
     "output_type": "stream",
     "text": [
      "                                                                                \r"
     ]
    }
   ],
   "source": [
    "state_boundaries_geometry_df.show()"
   ]
  },
  {
   "cell_type": "markdown",
   "metadata": {},
   "source": [
    "## Convert dataset to GeoDataFrame"
   ]
  },
  {
   "cell_type": "code",
   "execution_count": 11,
   "metadata": {},
   "outputs": [
    {
     "name": "stderr",
     "output_type": "stream",
     "text": [
      "[Stage 5:>                                                          (0 + 1) / 1]\r"
     ]
    },
    {
     "name": "stdout",
     "output_type": "stream",
     "text": [
      "Index(['Name', 'geometry'], dtype='object')\n"
     ]
    },
    {
     "name": "stderr",
     "output_type": "stream",
     "text": [
      "                                                                                \r"
     ]
    }
   ],
   "source": [
    "state_boundaries_gdf = gpd.GeoDataFrame(state_boundaries_geometry_df.toPandas())\n",
    "\n",
    "# print columns\n",
    "print(state_boundaries_gdf.columns)"
   ]
  },
  {
   "cell_type": "markdown",
   "metadata": {},
   "source": [
    "## Data Cleaning and Preprocessing:"
   ]
  },
  {
   "cell_type": "code",
   "execution_count": 36,
   "metadata": {},
   "outputs": [
    {
     "name": "stderr",
     "output_type": "stream",
     "text": [
      "                                                                                \r"
     ]
    },
    {
     "name": "stdout",
     "output_type": "stream",
     "text": [
      "Number of null values in citations data: 0\n",
      "Number of null values in dates data: 0\n",
      "Citations data schema:\n",
      "root\n",
      " |-- citing_paper: integer (nullable = true)\n",
      " |-- cited_paper: integer (nullable = true)\n",
      "\n",
      "Dates data schema:\n",
      "root\n",
      " |-- paper_id: integer (nullable = true)\n",
      " |-- publish_date: date (nullable = true)\n",
      "\n"
     ]
    }
   ],
   "source": [
    "# It is good practice to check for null values in the data\n",
    "\n",
    "# count the number of null values in each column\n",
    "num_nulls_citations = citations_df.where(col(\"citing_paper\").isNull() | col(\"cited_paper\").isNull()).count()\n",
    "num_nulls_dates = dates_df.where(col(\"paper_id\").isNull() | col(\"publish_date\").isNull()).count()\n",
    "\n",
    "print(\"Number of null values in citations data: {}\".format(num_nulls_citations))\n",
    "print(\"Number of null values in dates data: {}\".format(num_nulls_dates))\n",
    "\n",
    "# Drop null values\n",
    "\n",
    "citations_df = citations_df.dropna()\n",
    "dates_df = dates_df.dropna()\n",
    "\n",
    "# Ensure data types are as expected\n",
    "\n",
    "citations_df = citations_df.withColumn(\"citing_paper\", col(\"citing_paper\").cast(IntegerType()))\\\n",
    "    .withColumn(\"cited_paper\", col(\"cited_paper\").cast(IntegerType()))\n",
    "\n",
    "dates_df = dates_df.withColumn(\"paper_id\", col(\"paper_id\").cast(IntegerType()))\\\n",
    "    .withColumn(\"publish_date\", col(\"publish_date\").cast(DateType()))\n",
    "\n",
    "# Print the schema to verify data types\n",
    "print(\"Citations data schema:\")\n",
    "citations_df.printSchema()\n",
    "print(\"Dates data schema:\")\n",
    "dates_df.printSchema()"
   ]
  },
  {
   "cell_type": "markdown",
   "metadata": {},
   "source": [
    "# Task 1: Exercises on the basic Spark features\n",
    "\n",
    "In this task, I will practice with the key features of the Apache Spark. <br>\n",
    "\n",
    "    (1) Count the number of unique published papers per year - create an output file with the\n",
    "    number of papers published each year.\n",
    "    (2) Count the number of edges (citations) generated per year - create an output file with the\n",
    "    number of citations added each year.\n"
   ]
  },
  {
   "cell_type": "markdown",
   "metadata": {},
   "source": [
    "## (1) Count the number of unique published papers per year"
   ]
  },
  {
   "cell_type": "code",
   "execution_count": 37,
   "metadata": {},
   "outputs": [],
   "source": [
    "# Extract year from publish_date\n",
    "# create a new column called year that holds the year value from the publish_date column\n",
    "dates_df = dates_df.withColumn(\"year\", year(\"publish_date\"))\n",
    "\n",
    "# Group by year and count unique papers\n",
    "# The groupBy method groups the DataFrame using the specified columns, so we can aggregate them\n",
    "papers_per_year = dates_df.groupBy(\"year\").count()\n",
    "\n",
    "# sort by year\n",
    "papers_per_year = papers_per_year.sort(\"year\")\n",
    "\n",
    "# rename count column to num_papers\n",
    "papers_per_year = papers_per_year.withColumnRenamed(\"count\", \"num_papers\")\n",
    "\n",
    "# Write to output file in thd hdfs if it doesnt exist\n",
    "if isTest:\n",
    "    output_path = \"hdfs:///pa1/output/papers_per_year_test.csv\"\n",
    "else:\n",
    "    output_path = \"hdfs:///pa1/output/papers_per_year.csv\"\n",
    "\n",
    "if fs.exists(spark._jvm.org.apache.hadoop.fs.Path(output_path)):\n",
    "    fs.delete(spark._jvm.org.apache.hadoop.fs.Path(output_path), True)\n",
    "\n",
    "# save to csv\n",
    "papers_per_year.write.csv(output_path, header=True)\n"
   ]
  },
  {
   "cell_type": "code",
   "execution_count": 38,
   "metadata": {},
   "outputs": [
    {
     "name": "stderr",
     "output_type": "stream",
     "text": [
      "[Stage 18:>                                                         (0 + 1) / 1]\r"
     ]
    },
    {
     "name": "stdout",
     "output_type": "stream",
     "text": [
      "+--------+------------+----+\n",
      "|paper_id|publish_date|year|\n",
      "+--------+------------+----+\n",
      "|       0|  1992-12-22|1992|\n",
      "|       1|  1992-08-14|1992|\n",
      "|       2|  1992-04-20|1992|\n",
      "|       3|  1992-04-24|1992|\n",
      "|       4|  1992-06-17|1992|\n",
      "|       5|  1992-12-02|1992|\n",
      "|       6|  1992-07-15|1992|\n",
      "|       7|  1992-09-11|1992|\n",
      "|       8|  1992-10-07|1992|\n",
      "|       9|  1992-06-25|1992|\n",
      "|      10|  1992-07-08|1992|\n",
      "|      11|  1992-09-07|1992|\n",
      "|      12|  1992-12-10|1992|\n",
      "|      13|  1992-10-25|1992|\n",
      "|      14|  1992-06-11|1992|\n",
      "|      15|  1992-09-09|1992|\n",
      "|      16|  1992-04-19|1992|\n",
      "|      17|  1992-07-17|1992|\n",
      "|      18|  1992-05-12|1992|\n",
      "|      19|  1992-08-07|1992|\n",
      "+--------+------------+----+\n",
      "only showing top 20 rows\n",
      "\n"
     ]
    },
    {
     "name": "stderr",
     "output_type": "stream",
     "text": [
      "                                                                                \r"
     ]
    }
   ],
   "source": [
    "dates_df.show()"
   ]
  },
  {
   "cell_type": "code",
   "execution_count": 39,
   "metadata": {},
   "outputs": [
    {
     "name": "stdout",
     "output_type": "stream",
     "text": [
      "+----+----------+\n",
      "|year|num_papers|\n",
      "+----+----------+\n",
      "|1992|       850|\n",
      "|1993|      1976|\n",
      "|1994|      2863|\n",
      "|1995|      3380|\n",
      "|1996|      3861|\n",
      "|1997|      4186|\n",
      "|1998|      4600|\n",
      "|1999|      4915|\n",
      "|2000|      5076|\n",
      "|2001|      5058|\n",
      "|2002|       856|\n",
      "+----+----------+\n",
      "\n"
     ]
    }
   ],
   "source": [
    "papers_per_year.show()"
   ]
  },
  {
   "cell_type": "markdown",
   "metadata": {},
   "source": [
    "## (2) Count the number of edges (citations) generated per year\n",
    "\n",
    "In order to find the number of edges generated per year, I will need to count the number of edges in each year. I will do this by counting the number of lines in the dataset for each year. I will then save the results to a file."
   ]
  },
  {
   "cell_type": "code",
   "execution_count": 40,
   "metadata": {},
   "outputs": [],
   "source": [
    "# Join citations data with publish dates data on paper_id\n",
    "# This is going to join the two dfs where the paper_id in the dates_df matches the citing_paper in the citations_df\n",
    "citations_with_year = citations_df.join(dates_df, citations_df.citing_paper == dates_df.paper_id)\n",
    "\n",
    "# Count the number of citations for each year. Each row is year and the number of citations made in that year.\n",
    "citations_per_year = citations_with_year.groupBy(\"year\").count()\n",
    "\n",
    "# Sort by year\n",
    "citations_per_year = citations_per_year.sort(\"year\")\n",
    "\n",
    "# Rename count column to num_citations\n",
    "citations_per_year = citations_per_year.withColumnRenamed(\"count\", \"num_citations\")\n",
    "\n",
    "# Write to output file\n",
    "if isTest:\n",
    "    output_path = \"hdfs:///pa1/output/citations_per_year_test.csv\"\n",
    "else:\n",
    "    output_path = \"hdfs:///pa1/output/citations_per_year.csv\"\n",
    "\n",
    "if fs.exists(spark._jvm.org.apache.hadoop.fs.Path(output_path)):\n",
    "    fs.delete(spark._jvm.org.apache.hadoop.fs.Path(output_path), True)\n",
    "\n",
    "# save to csv\n",
    "citations_per_year.write.csv(output_path, header=True)\n"
   ]
  },
  {
   "cell_type": "code",
   "execution_count": 41,
   "metadata": {},
   "outputs": [
    {
     "name": "stderr",
     "output_type": "stream",
     "text": [
      "                                                                                \r"
     ]
    },
    {
     "name": "stdout",
     "output_type": "stream",
     "text": [
      "+------------+-----------+--------+------------+----+\n",
      "|citing_paper|cited_paper|paper_id|publish_date|year|\n",
      "+------------+-----------+--------+------------+----+\n",
      "|          74|         63|      74|  1992-05-14|1992|\n",
      "|         114|         31|     114|  1992-04-08|1992|\n",
      "|         126|          2|     126|  1992-09-03|1992|\n",
      "|         126|        125|     126|  1992-09-03|1992|\n",
      "|         130|         70|     130|  1992-07-27|1992|\n",
      "|         154|         36|     154|  1992-10-23|1992|\n",
      "|         157|         11|     157|  1992-08-12|1992|\n",
      "|         159|        100|     159|  1992-05-11|1992|\n",
      "|         169|         36|     169|  1992-05-09|1992|\n",
      "|         175|        134|     175|  1992-11-17|1992|\n",
      "|         189|        122|     189|  1992-08-13|1992|\n",
      "|         195|         22|     195|  1992-11-02|1992|\n",
      "|         199|         44|     199|  1992-04-01|1992|\n",
      "|         212|        179|     212|  1992-01-05|1992|\n",
      "|         215|        131|     215|  1992-03-08|1992|\n",
      "|         218|        103|     218|  1992-07-10|1992|\n",
      "|         220|         67|     220|  1992-11-07|1992|\n",
      "|         226|         99|     226|  1992-10-01|1992|\n",
      "|         240|         39|     240|  1992-05-08|1992|\n",
      "|         246|         31|     246|  1992-12-27|1992|\n",
      "+------------+-----------+--------+------------+----+\n",
      "only showing top 20 rows\n",
      "\n"
     ]
    },
    {
     "name": "stderr",
     "output_type": "stream",
     "text": [
      "                                                                                \r"
     ]
    }
   ],
   "source": [
    "citations_with_year.show()"
   ]
  },
  {
   "cell_type": "code",
   "execution_count": 42,
   "metadata": {},
   "outputs": [
    {
     "name": "stderr",
     "output_type": "stream",
     "text": [
      "                                                                                \r"
     ]
    },
    {
     "name": "stdout",
     "output_type": "stream",
     "text": [
      "+----+-------------+\n",
      "|year|num_citations|\n",
      "+----+-------------+\n",
      "|1992|          202|\n",
      "|1993|         1822|\n",
      "|1994|         5939|\n",
      "|1995|        12230|\n",
      "|1996|        20720|\n",
      "|1997|        31120|\n",
      "|1998|        43917|\n",
      "|1999|        58387|\n",
      "|2000|        72204|\n",
      "|2001|        85212|\n",
      "|2002|        15514|\n",
      "+----+-------------+\n",
      "\n"
     ]
    }
   ],
   "source": [
    "citations_per_year.show()"
   ]
  },
  {
   "cell_type": "markdown",
   "metadata": {},
   "source": [
    "# Task 2: Density of the Temporal Graph\n",
    "\n",
    "For each year, measure the number of nodes (papers) and edges (citations) and compute the density of the graph. The density of a graph is defined as the ratio of the number of edges to the number of nodes. Plot the density of the graph as a function of time. "
   ]
  },
  {
   "cell_type": "code",
   "execution_count": 43,
   "metadata": {},
   "outputs": [],
   "source": [
    "# We already have the number of nodes(paper/year) and edges(citations/year) for each year\n",
    "# So we can join the two \n",
    "temporal_density = papers_per_year.join(citations_per_year, \"year\").sort(\"year\")\n",
    "\n",
    "# We need to calculate the cumulative sum of the number of citations for each year\n",
    "\n",
    "# Create a window that will sum the number of citations for each year\n",
    "# The window will start at the first year and end at the current row\n",
    "window = Window.orderBy(\"year\").rowsBetween(Window.unboundedPreceding, 0)\n",
    "\n",
    "# Calculate the cumulative sum of the number of citations for each year\n",
    "temporal_density = temporal_density.withColumn(\"num_papers\", pyspark_sum(\"num_papers\").over(window))\n",
    "temporal_density = temporal_density.withColumn(\"num_citations\", pyspark_sum(\"num_citations\").over(window))\n"
   ]
  },
  {
   "cell_type": "code",
   "execution_count": 44,
   "metadata": {},
   "outputs": [
    {
     "name": "stderr",
     "output_type": "stream",
     "text": [
      "                                                                                \r"
     ]
    },
    {
     "name": "stdout",
     "output_type": "stream",
     "text": [
      "+----+----------+-------------+\n",
      "|year|num_papers|num_citations|\n",
      "+----+----------+-------------+\n",
      "|1992|       850|          202|\n",
      "|1993|      2826|         2024|\n",
      "|1994|      5689|         7963|\n",
      "|1995|      9069|        20193|\n",
      "|1996|     12930|        40913|\n",
      "|1997|     17116|        72033|\n",
      "|1998|     21716|       115950|\n",
      "|1999|     26631|       174337|\n",
      "|2000|     31707|       246541|\n",
      "|2001|     36765|       331753|\n",
      "|2002|     37621|       347267|\n",
      "+----+----------+-------------+\n",
      "\n"
     ]
    }
   ],
   "source": [
    "temporal_density.show()\n",
    "\n",
    "if isTest:\n",
    "    output_path = \"hdfs:///pa1/output/temporal_density_test.csv\"\n",
    "else:\n",
    "    output_path = \"hdfs:///pa1/output/temporal_density.csv\"\n",
    "\n",
    "if fs.exists(spark._jvm.org.apache.hadoop.fs.Path(output_path)):\n",
    "    fs.delete(spark._jvm.org.apache.hadoop.fs.Path(output_path), True)\n",
    "\n",
    "# save to csv\n",
    "temporal_density.write.csv(output_path, header=True)"
   ]
  },
  {
   "cell_type": "markdown",
   "metadata": {},
   "source": [
    "## Create the Table for Task 2\n",
    "\n",
    "Transpose the dataframe above to get the spreadsheet of the temporal data."
   ]
  },
  {
   "cell_type": "code",
   "execution_count": 45,
   "metadata": {},
   "outputs": [
    {
     "name": "stderr",
     "output_type": "stream",
     "text": [
      "                                                                                \r"
     ]
    },
    {
     "data": {
      "text/html": [
       "<div>\n",
       "<style scoped>\n",
       "    .dataframe tbody tr th:only-of-type {\n",
       "        vertical-align: middle;\n",
       "    }\n",
       "\n",
       "    .dataframe tbody tr th {\n",
       "        vertical-align: top;\n",
       "    }\n",
       "\n",
       "    .dataframe thead th {\n",
       "        text-align: right;\n",
       "    }\n",
       "</style>\n",
       "<table border=\"1\" class=\"dataframe\">\n",
       "  <thead>\n",
       "    <tr style=\"text-align: right;\">\n",
       "      <th>year</th>\n",
       "      <th>1992</th>\n",
       "      <th>1993</th>\n",
       "      <th>1994</th>\n",
       "      <th>1995</th>\n",
       "      <th>1996</th>\n",
       "      <th>1997</th>\n",
       "      <th>1998</th>\n",
       "      <th>1999</th>\n",
       "      <th>2000</th>\n",
       "      <th>2001</th>\n",
       "      <th>2002</th>\n",
       "    </tr>\n",
       "  </thead>\n",
       "  <tbody>\n",
       "    <tr>\n",
       "      <th>e(t)</th>\n",
       "      <td>202</td>\n",
       "      <td>2024</td>\n",
       "      <td>7963</td>\n",
       "      <td>20193</td>\n",
       "      <td>40913</td>\n",
       "      <td>72033</td>\n",
       "      <td>115950</td>\n",
       "      <td>174337</td>\n",
       "      <td>246541</td>\n",
       "      <td>331753</td>\n",
       "      <td>347267</td>\n",
       "    </tr>\n",
       "    <tr>\n",
       "      <th>n(t)</th>\n",
       "      <td>850</td>\n",
       "      <td>2826</td>\n",
       "      <td>5689</td>\n",
       "      <td>9069</td>\n",
       "      <td>12930</td>\n",
       "      <td>17116</td>\n",
       "      <td>21716</td>\n",
       "      <td>26631</td>\n",
       "      <td>31707</td>\n",
       "      <td>36765</td>\n",
       "      <td>37621</td>\n",
       "    </tr>\n",
       "  </tbody>\n",
       "</table>\n",
       "</div>"
      ],
      "text/plain": [
       "year  1992  1993  1994   1995   1996   1997    1998    1999    2000    2001  \\\n",
       "e(t)   202  2024  7963  20193  40913  72033  115950  174337  246541  331753   \n",
       "n(t)   850  2826  5689   9069  12930  17116   21716   26631   31707   36765   \n",
       "\n",
       "year    2002  \n",
       "e(t)  347267  \n",
       "n(t)   37621  "
      ]
     },
     "execution_count": 45,
     "metadata": {},
     "output_type": "execute_result"
    }
   ],
   "source": [
    "import pandas as pd\n",
    "\n",
    "# Convert to pandas dataframe and transpose (need to set the index as year to keep years)\n",
    "temporal_data = temporal_density.toPandas().set_index(\"year\").T\n",
    "\n",
    "# rename the num_papers and num_citations to n(t) and e(t)\n",
    "temporal_data = temporal_data.rename(index={\"num_papers\": \"n(t)\", \"num_citations\": \"e(t)\"})\n",
    "\n",
    "# Swap row n(t) and e(t)\n",
    "new_order = ['e(t)', 'n(t)']\n",
    "temporal_density_table = temporal_data.reindex(new_order)\n",
    "\n",
    "# Convert pandas DataFrame back to Spark DataFrame\n",
    "spark_df = spark.createDataFrame(temporal_density_table)\n",
    "\n",
    "# Write to output file\n",
    "if isTest:\n",
    "    output_path = \"hdfs:///pa1/output/temporal_density_table_test.csv\"\n",
    "else:\n",
    "    output_path = \"hdfs:///pa1/output/temporal_density_table.csv\"\n",
    "\n",
    "# Delete the existing file if it exists\n",
    "if fs.exists(spark._jvm.org.apache.hadoop.fs.Path(output_path)):\n",
    "    fs.delete(spark._jvm.org.apache.hadoop.fs.Path(output_path), True)\n",
    "\n",
    "# Save to csv\n",
    "spark_df.write.csv(output_path, header=True)\n",
    "\n",
    "    \n",
    "# show the table\n",
    "temporal_density_table.head()\n"
   ]
  },
  {
   "cell_type": "code",
   "execution_count": 46,
   "metadata": {},
   "outputs": [],
   "source": [
    "if isTest:\n",
    "    temp_dens_df = pd.read_csv(\"temporal_density_table_test.csv\")\n",
    "else:\n",
    "    temp_dens_df = pd.read_csv(\"temporal_density.csv\")\n",
    "\n",
    "# Transpose the DataFrame to swap rows and columns\n",
    "temp_dens_df = temp_dens_df.T\n",
    "\n",
    "# Reset index to turn the years into a regular column\n",
    "temp_dens_df.reset_index(inplace=True)\n",
    "\n",
    "# Correcting the column naming based on the df.head() output\n",
    "temp_dens_df.columns = ['Year', 'e(t)', 'n(t)']\n",
    "\n",
    "# Remove the first row if it was incorrectly included as data\n",
    "temp_dens_df = temp_dens_df.iloc[1:]\n",
    "\n",
    "# Ensure correct data types\n",
    "temp_dens_df['Year'] = pd.to_numeric(temp_dens_df['Year'])\n",
    "temp_dens_df['e(t)'] = pd.to_numeric(temp_dens_df['e(t)'])\n",
    "temp_dens_df['n(t)'] = pd.to_numeric(temp_dens_df['n(t)'])\n"
   ]
  },
  {
   "cell_type": "code",
   "execution_count": 47,
   "metadata": {},
   "outputs": [
    {
     "data": {
      "text/html": [
       "<div>\n",
       "<style scoped>\n",
       "    .dataframe tbody tr th:only-of-type {\n",
       "        vertical-align: middle;\n",
       "    }\n",
       "\n",
       "    .dataframe tbody tr th {\n",
       "        vertical-align: top;\n",
       "    }\n",
       "\n",
       "    .dataframe thead th {\n",
       "        text-align: right;\n",
       "    }\n",
       "</style>\n",
       "<table border=\"1\" class=\"dataframe\">\n",
       "  <thead>\n",
       "    <tr style=\"text-align: right;\">\n",
       "      <th></th>\n",
       "      <th>Year</th>\n",
       "      <th>e(t)</th>\n",
       "      <th>n(t)</th>\n",
       "    </tr>\n",
       "  </thead>\n",
       "  <tbody>\n",
       "    <tr>\n",
       "      <th>1</th>\n",
       "      <td>1992</td>\n",
       "      <td>202</td>\n",
       "      <td>850</td>\n",
       "    </tr>\n",
       "    <tr>\n",
       "      <th>2</th>\n",
       "      <td>1993</td>\n",
       "      <td>2024</td>\n",
       "      <td>2826</td>\n",
       "    </tr>\n",
       "    <tr>\n",
       "      <th>3</th>\n",
       "      <td>1994</td>\n",
       "      <td>7963</td>\n",
       "      <td>5689</td>\n",
       "    </tr>\n",
       "    <tr>\n",
       "      <th>4</th>\n",
       "      <td>1995</td>\n",
       "      <td>20193</td>\n",
       "      <td>9069</td>\n",
       "    </tr>\n",
       "    <tr>\n",
       "      <th>5</th>\n",
       "      <td>1996</td>\n",
       "      <td>40913</td>\n",
       "      <td>12930</td>\n",
       "    </tr>\n",
       "    <tr>\n",
       "      <th>6</th>\n",
       "      <td>1997</td>\n",
       "      <td>72033</td>\n",
       "      <td>17116</td>\n",
       "    </tr>\n",
       "    <tr>\n",
       "      <th>7</th>\n",
       "      <td>1998</td>\n",
       "      <td>115950</td>\n",
       "      <td>21716</td>\n",
       "    </tr>\n",
       "    <tr>\n",
       "      <th>8</th>\n",
       "      <td>1999</td>\n",
       "      <td>174337</td>\n",
       "      <td>26631</td>\n",
       "    </tr>\n",
       "    <tr>\n",
       "      <th>9</th>\n",
       "      <td>2000</td>\n",
       "      <td>246541</td>\n",
       "      <td>31707</td>\n",
       "    </tr>\n",
       "    <tr>\n",
       "      <th>10</th>\n",
       "      <td>2001</td>\n",
       "      <td>331753</td>\n",
       "      <td>36765</td>\n",
       "    </tr>\n",
       "    <tr>\n",
       "      <th>11</th>\n",
       "      <td>2002</td>\n",
       "      <td>347267</td>\n",
       "      <td>37621</td>\n",
       "    </tr>\n",
       "  </tbody>\n",
       "</table>\n",
       "</div>"
      ],
      "text/plain": [
       "    Year    e(t)   n(t)\n",
       "1   1992     202    850\n",
       "2   1993    2024   2826\n",
       "3   1994    7963   5689\n",
       "4   1995   20193   9069\n",
       "5   1996   40913  12930\n",
       "6   1997   72033  17116\n",
       "7   1998  115950  21716\n",
       "8   1999  174337  26631\n",
       "9   2000  246541  31707\n",
       "10  2001  331753  36765\n",
       "11  2002  347267  37621"
      ]
     },
     "execution_count": 47,
     "metadata": {},
     "output_type": "execute_result"
    }
   ],
   "source": [
    "temp_dens_df.head(20)"
   ]
  },
  {
   "cell_type": "markdown",
   "metadata": {},
   "source": [
    "## Task 2: Plot of Edges vs Nodes for each year\n",
    "\n",
    "Here we can see that over the years the edges start to increase exponentially. This is because the number of nodes is increasing linearly while the number of edges is increasing exponentially. This makes sense because a paper can cite any other paper in the dataset. As the number of papers increases, the number of possible citations increases exponentially.\n",
    "\n",
    "We can see that in 1992 and 1993 there were less edges than nodes. This, I presume, is because the number of papers published was so small and the number of papers citing each other was even smaller. This is also why the density is so low for these years."
   ]
  },
  {
   "cell_type": "code",
   "execution_count": 48,
   "metadata": {},
   "outputs": [
    {
     "data": {
      "image/png": "[encoded data removed]",
      "text/plain": [
       "<Figure size 720x432 with 1 Axes>"
      ]
     },
     "metadata": {
      "needs_background": "light"
     },
     "output_type": "display_data"
    }
   ],
   "source": [
    "import matplotlib.pyplot as plt\n",
    "import numpy as np\n",
    "\n",
    "# Plotting\n",
    "plt.figure(figsize=(10, 6))\n",
    "plt.loglog(temp_dens_df['n(t)'], temp_dens_df['e(t)'], marker='o', linestyle='-')\n",
    "\n",
    "# Loop through the data points and annotate each point with the year\n",
    "for i, row in temp_dens_df.iterrows():\n",
    "    plt.text(row['n(t)'], row['e(t)'], str(row['Year']), fontsize=9)\n",
    "\n",
    "# Adding plot title and labels\n",
    "plt.title('Log-Log plot of Number of Edges (e(t)) vs Number of Nodes (n(t))')\n",
    "plt.xlabel('Number of Nodes (n(t))')\n",
    "plt.ylabel('Number of Edges (e(t))')\n",
    "\n",
    "# Show grid\n",
    "plt.grid(True, which=\"both\", ls=\"--\")\n",
    "\n",
    "# Show the plot\n",
    "plt.show()"
   ]
  },
  {
   "cell_type": "markdown",
   "metadata": {},
   "source": [
    "# Task 3: Diameter of the Temporal Graph\n",
    "\n",
    "calculate the diameter of the arXiv dataset in XXXX. We assume that\n",
    "two nodes in an undirected network are connected if there is a path between them. Since the paper citation is trackable bi-directionally (e.g., Google Scholar), we consider the citation graph as un undirected graph. Since calculating shortest path is extremely compute intensive, we leverage an approximate computation of the diameter.\n",
    "\n",
    "\n",
    "For each natural number d, let g(d) denote the fraction of connected node pairs whose shortest\n",
    "path has length at most d. For example, for a graph g, g(1) is a set of nodes that has edge\n",
    "between them. In Figure 3, there are 9 connected node pairs. (A,B), (A,C), (A,D), (A,E), (B,C),\n",
    "(B,D), (B,E), (C,D), and (C,E). The paper F is not connected to any of the existing nodes. There\n",
    "are multiple paths between the connected nodes, A and E (note that we consider this citation\n",
    "graph as undirected graph) such as (A-B-C-E), and (A-D-C-D-E). To calculate the diameter of a\n",
    "graph, we consider the shortest path (in this example, (A-B-C-E)) only.\n",
    "To represent the shortest paths in this graph, the Hop-plots for a network is defined as a set of\n",
    "pairs (d, g(d)). The value d is the maximum length of the shortest paths in this subset. The\n",
    "effective diameter is calculated as the value d at which at least 90% of the connected node pairs"
   ]
  },
  {
   "cell_type": "markdown",
   "metadata": {},
   "source": [
    "- Filters publications by the year XXXX.\n",
    "- Finds and keeps all papers that have cited XXXX publications or have been cited by XXXX publications.\n",
    "- Determines the effective diameter from these data points."
   ]
  },
  {
   "cell_type": "code",
   "execution_count": 49,
   "metadata": {},
   "outputs": [
    {
     "name": "stdout",
     "output_type": "stream",
     "text": [
      "Filtered publications for the year 1995\n",
      "Found citing papers for publications from 1995\n",
      "Found cited papers for publications from1995\n",
      "Combined all relevant citations\n",
      "Created reverse and undirected citation pairs\n",
      "The first adjacency hop plot is:\n",
      "Processing hop 1\n",
      "Generated adjacency list for hop 1\n",
      "Counting the number of unique pairs for hop  1\n",
      "Found 1235478 unique pairs for hop 1\n",
      "Processing hop 2\n",
      "Generated adjacency list for hop 2\n",
      "Counting the number of unique pairs for hop  2\n"
     ]
    },
    {
     "name": "stderr",
     "output_type": "stream",
     "text": [
      "                                                                                \r"
     ]
    },
    {
     "name": "stdout",
     "output_type": "stream",
     "text": [
      "Found 5385723 unique pairs for hop 2\n",
      "Processing hop 3\n",
      "Generated adjacency list for hop 3\n",
      "Counting the number of unique pairs for hop  3\n"
     ]
    },
    {
     "name": "stderr",
     "output_type": "stream",
     "text": [
      "                                                                                \r"
     ]
    },
    {
     "name": "stdout",
     "output_type": "stream",
     "text": [
      "Found 42183750 unique pairs for hop 3\n",
      "Processing hop 4\n",
      "Generated adjacency list for hop 4\n",
      "Counting the number of unique pairs for hop  4\n"
     ]
    },
    {
     "name": "stderr",
     "output_type": "stream",
     "text": [
      "                                                                                \r"
     ]
    },
    {
     "name": "stdout",
     "output_type": "stream",
     "text": [
      "Found 169716787 unique pairs for hop 4\n",
      "Processing hop 5\n",
      "Generated adjacency list for hop 5\n",
      "Counting the number of unique pairs for hop  5\n"
     ]
    },
    {
     "name": "stderr",
     "output_type": "stream",
     "text": [
      "                                                                                \r"
     ]
    },
    {
     "name": "stdout",
     "output_type": "stream",
     "text": [
      "Found 622579254 unique pairs for hop 5\n",
      "Processing hop 6\n",
      "Generated adjacency list for hop 6\n",
      "Counting the number of unique pairs for hop  6\n"
     ]
    },
    {
     "name": "stderr",
     "output_type": "stream",
     "text": [
      "                                                                                \r"
     ]
    },
    {
     "name": "stdout",
     "output_type": "stream",
     "text": [
      "Found 889982804 unique pairs for hop 6\n",
      "Processing hop 7\n",
      "Generated adjacency list for hop 7\n",
      "Counting the number of unique pairs for hop  7\n"
     ]
    },
    {
     "name": "stderr",
     "output_type": "stream",
     "text": [
      "                                                                                \r"
     ]
    },
    {
     "name": "stdout",
     "output_type": "stream",
     "text": [
      "Found 961157047 unique pairs for hop 7\n",
      "Processing hop 8\n",
      "Generated adjacency list for hop 8\n",
      "Counting the number of unique pairs for hop  8\n"
     ]
    },
    {
     "name": "stderr",
     "output_type": "stream",
     "text": [
      "                                                                                \r"
     ]
    },
    {
     "name": "stdout",
     "output_type": "stream",
     "text": [
      "Found 961513827 unique pairs for hop 8\n",
      "Processing hop 9\n",
      "Generated adjacency list for hop 9\n",
      "Counting the number of unique pairs for hop  9\n"
     ]
    },
    {
     "name": "stderr",
     "output_type": "stream",
     "text": [
      "                                                                                \r"
     ]
    },
    {
     "name": "stdout",
     "output_type": "stream",
     "text": [
      "Found 961516261 unique pairs for hop 9\n"
     ]
    },
    {
     "name": "stderr",
     "output_type": "stream",
     "text": [
      "                                                                                \r"
     ]
    },
    {
     "name": "stdout",
     "output_type": "stream",
     "text": [
      "Total unique pairs:  961516261\n",
      "Count for hop  1  is:  118742\n",
      "Current g[d] for hop  1  is:  0.00012349453131089584\n",
      "Count for hop  2  is:  1235478\n",
      "Current g[d] for hop  2  is:  0.0012849267871092199\n",
      "Count for hop  3  is:  5385723\n",
      "Current g[d] for hop  3  is:  0.005601281245518114\n",
      "Count for hop  4  is:  42183750\n",
      "Current g[d] for hop  4  is:  0.04387211294391203\n",
      "Count for hop  5  is:  169716787\n",
      "Current g[d] for hop  5  is:  0.17650953383096243\n",
      "Count for hop  6  is:  622579254\n",
      "Current g[d] for hop  6  is:  0.647497373941968\n",
      "Count for hop  7  is:  889982804\n",
      "Current g[d] for hop  7  is:  0.9256034870116461\n",
      "Effective Diameter: 7\n"
     ]
    }
   ],
   "source": [
    "from pyspark.sql import functions as F\n",
    "\n",
    "if isTest:\n",
    "    dates = [\"1992\"]\n",
    "else:\n",
    "    dates = [\"1995\"]\n",
    "\n",
    "effectiveDiameters = {}\n",
    "\n",
    "for date in dates:\n",
    "    # Filter publications to only include those from 1994\n",
    "    publicationsXXXX = dates_df.filter(dates_df[\"publish_date\"].substr(0, 4) == date)\n",
    "    print(\"Filtered publications for the year\", date)\n",
    "\n",
    "    # Join citations with publications to find citing papers that reference 1994 publications\n",
    "    citingPapers = citations_df.join(publicationsXXXX, citations_df[\"cited_paper\"] == publicationsXXXX[\"paper_id\"]).select(\"citing_paper\", \"cited_paper\")\n",
    "    print(\"Found citing papers for publications from \" + date)\n",
    "\n",
    "    # Join to find publications from 1994 that have been cited\n",
    "    citedPapers = citations_df.join(publicationsXXXX, citations_df[\"citing_paper\"] == publicationsXXXX[\"paper_id\"]).select(\"citing_paper\", \"cited_paper\")\n",
    "    print(\"Found cited papers for publications from\" + date)\n",
    "\n",
    "    # Combine both sets to cover all relevant interactions\n",
    "    allRelevantCitations = citingPapers.union(citedPapers).distinct()\n",
    "    print(\"Combined all relevant citations\")\n",
    "\n",
    "    # Create reverse citation pairs and undirected citation pairs\n",
    "    reverseCitationPairs = allRelevantCitations.select(F.col(\"cited_paper\").alias(\"citing_paper\"), F.col(\"citing_paper\").alias(\"cited_paper\"))\n",
    "    undirectedCitationPairs = allRelevantCitations.union(reverseCitationPairs).distinct()\n",
    "    print(\"Created reverse and undirected citation pairs\")\n",
    "\n",
    "    n = 10  # Number of hops\n",
    "\n",
    "    # Initialize an empty list to store each hop's adjacency list DataFrame\n",
    "    adjacencyLists = []\n",
    "    adjacencySizeList = []\n",
    "\n",
    "    # Convert undirected citation pairs to a DataFrame with 'source' and 'target' for easier processing\n",
    "    reachablePairs = undirectedCitationPairs.withColumnRenamed(\"citing_paper\", \"source\").withColumnRenamed(\"cited_paper\", \"target\").distinct()\n",
    "\n",
    "    # Ensure no self-citations are included\n",
    "    reachablePairs = reachablePairs.filter(reachablePairs[\"source\"] != reachablePairs[\"target\"])\n",
    "\n",
    "    # Add the first hop (direct connections) to the adjacency list\n",
    "    adjacencyLists.append(reachablePairs)\n",
    "    adjacencySizeList.append(reachablePairs.count())\n",
    "\n",
    "    print(\"The first adjacency hop plot is:\")\n",
    "    if isTest:\n",
    "        reachablePairs.show()\n",
    "\n",
    "    previousCount = 0\n",
    "\n",
    "    for hop in range(1, n):\n",
    "        print(f\"Processing hop {hop}\")\n",
    "        \n",
    "        # Generate new adjacency list for this hop\n",
    "        newAdjacencyListDF = adjacencyLists[-1].alias(\"prev_hop\").join(\n",
    "            reachablePairs.alias(\"base\"),\n",
    "            F.col(\"prev_hop.target\") == F.col(\"base.source\")\n",
    "        ).select(F.col(\"prev_hop.source\"), F.col(\"base.target\")).distinct()\n",
    "\n",
    "        # Remove self-citations and duplicates\n",
    "        newAdjacencyListDF = newAdjacencyListDF.filter(newAdjacencyListDF[\"source\"] != newAdjacencyListDF[\"target\"]).distinct()\n",
    "        \n",
    "        # Add the new adjacency list to the list of adjacency lists\n",
    "        print(f\"Generated adjacency list for hop {hop}\")\n",
    "        # replace the previous adjacency list with the new one to save memory\n",
    "        if len(adjacencyLists) == 2:\n",
    "            adjacencyLists[-1] = newAdjacencyListDF\n",
    "        else:\n",
    "            adjacencyLists.append(newAdjacencyListDF)\n",
    "        print(\"Counting the number of unique pairs for hop \", hop)\n",
    "        adjacencySizeList.append(newAdjacencyListDF.count())\n",
    "        print(\"Found \" + str(adjacencySizeList[-1]) + \" unique pairs for hop \" + str(hop))\n",
    "        \n",
    "        if isTest:\n",
    "            newAdjacencyListDF.show()\n",
    "\n",
    "            # If the count of unique pairs does not increase, stop the process\n",
    "        if previousCount == adjacencySizeList[-1]:\n",
    "            print(\"No new unique pairs found for hop \", hop, \". Stopping the process.\")\n",
    "            break\n",
    "        previousCount = adjacencySizeList[-1]\n",
    "\n",
    "    # Assume total unique pairs equal to the number of pairs in the nth hop plot\n",
    "    totalUniquePairs = adjacencyLists[-1].count()\n",
    "    print(\"Total unique pairs: \", totalUniquePairs)\n",
    "\n",
    "    # Initialize a list to store each step of the effective diameter calculation\n",
    "    effective_diameter_steps = []\n",
    "    # Initialize g to store the fraction of unique pairs at each hop\n",
    "    g = {}\n",
    "    cumulativeCount = 0\n",
    "\n",
    "    # Calculate the effective diameter based on the new totalUniquePairs assumption\n",
    "    for d, currentCount in enumerate(adjacencySizeList, 1): \n",
    "\n",
    "        print(\"Count for hop \", d, \" is: \", currentCount)\n",
    "        g[d] = currentCount / totalUniquePairs  # Adjusted to calculate fraction directly\n",
    "\n",
    "        # Add the current step to the list\n",
    "        effective_diameter_steps.append((float(d), g[d]))\n",
    "\n",
    "        print(\"Current g[d] for hop \", d, \" is: \", g[d])\n",
    "        if g[d] >= 0.9:\n",
    "            effectiveDiameter = d\n",
    "            effectiveDiameters[date] = effectiveDiameter\n",
    "            # Convert the effective diameter to float before appending\n",
    "            effective_diameter_steps.append((\"Effective Diameter\", float(effectiveDiameter)))\n",
    "            break\n",
    "\n",
    "    print(f\"Effective Diameter: {effectiveDiameter}\")\n",
    "\n",
    "    # Save the number of unique pairs for each hop plot to a CSV file\n",
    "    for index, count in enumerate(adjacencySizeList):\n",
    "\n",
    "        if isTest:\n",
    "            output_path = \"hdfs:///pa1/output/test/hopPlot_\" + str(index+1) + \"_size.csv\"\n",
    "        else:\n",
    "            output_path = \"hdfs:///pa1/output/\" + date + \"/hopPlot_\" + str(index+1) + \"_size.csv\"\n",
    "\n",
    "        if fs.exists(spark._jvm.org.apache.hadoop.fs.Path(output_path)):\n",
    "            fs.delete(spark._jvm.org.apache.hadoop.fs.Path(output_path), True)\n",
    "            \n",
    "        # Create a DataFrame from the count\n",
    "        count_df = spark.createDataFrame([Row(count=count)])\n",
    "\n",
    "        # Save to csv\n",
    "        count_df.write.csv(output_path, header=True)\n",
    "\n",
    "    # Define the schema for the DataFrame\n",
    "    \n",
    "    # Convert the list of steps to a DataFrame\n",
    "    steps_df = spark.createDataFrame(effective_diameter_steps, [\"hop\", \"g[d]\"])\n",
    "    \n",
    "    # Save the steps to a CSV file\n",
    "    if isTest:\n",
    "        output_path = \"hdfs:///pa1/output/test/effectiveDiameterSteps.csv\"\n",
    "    else:\n",
    "        output_path = \"hdfs:///pa1/output/\" + date + \"/effectiveDiameterSteps.csv\"\n",
    "\n",
    "    if fs.exists(spark._jvm.org.apache.hadoop.fs.Path(output_path)):\n",
    "        fs.delete(spark._jvm.org.apache.hadoop.fs.Path(output_path), True)\n",
    "\n",
    "    steps_df.write.csv(output_path, header=True)"
   ]
  },
  {
   "cell_type": "markdown",
   "metadata": {},
   "source": [
    "## Bonus Task:\n",
    "\n",
    "Attempted to run this on the entire dataset but I wasted days of time and resources trying to do so. They kept failing around hop 9 to 10 and I didn't figure out a solution until the day after the due date. So, I only got to run it on 1992 and 1995 so far. But at least I ran it on another dataset!\n",
    "\n",
    "### Analysis:\n",
    "\n",
    "I found a paper that computed the arXiv dataset and the effective diameter per year and it looks like my results are matching up with thier values which is great news. This means that if I ran it on the entire dataset I should see that as the density of the network increases, the effective diameter should decrease. This is because as the network becomes more dense, the number of possible paths between nodes increases. This means that the shortest path between nodes should decrease as the network becomes more dense."
   ]
  },
  {
   "cell_type": "code",
   "execution_count": 52,
   "metadata": {},
   "outputs": [
    {
     "data": {
      "image/png": "[encoded data removed]",
      "text/plain": [
       "<Figure size 720x432 with 1 Axes>"
      ]
     },
     "metadata": {
      "needs_background": "light"
     },
     "output_type": "display_data"
    }
   ],
   "source": [
    "effectiveDiameters = {}\n",
    "effectiveDiameters[1992] = 9.2\n",
    "effectiveDiameters[1995] = 7\n",
    "\n",
    "\n",
    "# Plot a graph of the effective diameters over time\n",
    "plt.figure(figsize=(10, 6))\n",
    "plt.plot(effectiveDiameters.keys(), effectiveDiameters.values(), marker='o', linestyle='-')\n",
    "\n",
    "# Adding plot title and labels\n",
    "plt.title('Effective Diameter over Time')\n",
    "plt.xlabel('Year')\n",
    "plt.ylabel('Effective Diameter')\n",
    "\n",
    "# Show grid\n",
    "plt.grid(True, which=\"both\", ls=\"--\")\n",
    "\n",
    "# save to png\n",
    "if isTest:\n",
    "    plt.savefig(\"effective_diameter_over_time_test.png\")\n",
    "else:\n",
    "    plt.savefig(\"effective_diameter_over_time.png\")\n",
    "\n",
    "# Show the plot\n",
    "plt.show()"
   ]
  },
  {
   "cell_type": "code",
   "execution_count": 51,
   "metadata": {},
   "outputs": [],
   "source": [
    "# Close Spark session\n",
    "spark.stop()"
   ]
  },
  {
   "cell_type": "markdown",
   "metadata": {},
   "source": [
    "# Analysis of the temporal citation network"
   ]
  },
  {
   "cell_type": "markdown",
   "metadata": {},
   "source": [
    "> *There are a set of fundamental network properties that vary with time. These properties are\n",
    "often assessed based on growth patterns. In the context of temporal network evolution, the\n",
    "densification power law is a concept that posits that the number of edges grows in a power law\n",
    "over the number of nodes over time. This concept is often contrasted to the general assumption\n",
    "of a linear trend. Based on your observation that was plotted following the template depicted in\n",
    "Figure 2, does your plot correspond to the exponent in the densification law? If it does, explain\n",
    "why you conclude that your growth pattern matches the densification law. Otherwise, explain\n",
    "why your growth pattern shows the specific trend that you have observed.*"
   ]
  },
  {
   "cell_type": "markdown",
   "metadata": {},
   "source": [
    "## Response:\n",
    "The arXiv dataset follows the densification law as the number of edges grows in a power law over the number of nodes over time. This is because the number of edges is increasing exponentially while the number of nodes is increasing linearly. This is consistent with the densification law because the number of edges is growing faster than the number of nodes which tend to grow linearly.\n",
    "\n",
    "It is also pretty intuitive that this citation network follows the densification law since for every paper that is added, it cites multiple papers and then can become cited by multiple papers. After some studying, I found that random graphs sometimes don't follow the densification law since the number of edges can grow linearly with the number of nodes. Also, sparse networks that don't increase in density over time and graphs that grow steadily but have a specific number of edges per node don't follow the densification law."
   ]
  }
 ],
 "metadata": {
  "kernelspec": {
   "display_name": "machinelearning_20220719",
   "language": "python",
   "name": "python3"
  },
  "language_info": {
   "codemirror_mode": {
    "name": "ipython",
    "version": 3
   },
   "file_extension": ".py",
   "mimetype": "text/x-python",
   "name": "python",
   "nbconvert_exporter": "python",
   "pygments_lexer": "ipython3",
   "version": "3.9.18"
  }
 },
 "nbformat": 4,
 "nbformat_minor": 2
}
