{
 "cells": [
  {
   "cell_type": "markdown",
   "metadata": {},
   "source": [
    "# **Excavating New Datasets via GeoSpatial Insights from Datalakes**\n"
   ]
  },
  {
   "cell_type": "markdown",
   "metadata": {},
   "source": [
    "Eric Martin <br>\n",
    "Federico Larrieu <br>\n",
    "CS 555 Distributed Systems <br>\n",
    "Colorado State University <br>\n",
    "Spring 2024 <br>\n",
    "\n",
    "### Objective\n",
    "\n",
    "    • Perform analytics over a large-scale temporal network\n",
    "\n",
    "### Overview\n",
    "In this assignment, I will perform an analysis of a continuously evolving temporal network. Large-scale networks are observed in many different sociological and scientific settings such as computer networks, networks of social media, academic/technical citation networks and hyperlink networks. To understand such networks, there have been several properties of interest based primarily on two key measurements: the degrees of nodes and the shortest distances between pairs of nodes. The node-to-node distances often infer the graph’s diameter, which is the maximum shortest distance among all the connected pairs of nodes. \n",
    "\n",
    "Most of the large networks evolve over time by adding new members/items and relationships between them or removing some of them. In the traditional temporal network analysis, there are two major hypotheses. \n",
    "\n",
    "    (a) the average node degree in the network remains constant over time.\n",
    "    (Or the number of edges grows linearly in the number of nodes.). \n",
    "\n",
    "    (b) the diameter is a slowly growing function of the network size. \n",
    "\n",
    "    How are these hypothesis (a) and (b) reflected in real-world data?\n",
    "\n",
    "In this assignment, I measure fundamental network properties with a \n",
    "citation network and investigate how they evolve. I will perform the following computations using Apache Spark.\n",
    "\n",
    "### Dataset\n",
    "\n",
    "The dataset for this assignment is the arXiv citation graph ( J. Gehrke, P. Ginsparg, and J. M. Kleinberg. Overview of the 2003 kdd cup. SIGKDD Explorations, 5(2):149–151, 2003) that covers papers published in the period from January 1993 to April 2003 (11 years). \n",
    "\n",
    "Please note that the dataset for the last year (2003) is incomplete and does not represent the entire year."
   ]
  },
  {
   "cell_type": "markdown",
   "metadata": {},
   "source": [
    "## Task 1: Exercises on the basic Spark features\n",
    "\n",
    "In this task, I will practice with the key features of the Apache Spark.\n",
    "\n",
    "    (1) Count the number of unique published papers per year - create an output file with the number of papers published each year.\n",
    "\n",
    "    (2) Count the number of edges (citations) generated per year - create an output file with the number of citations added each year.\n",
    "\n",
    "\n",
    "First I am going to transfer my two datasets to the HDFS file system. I will use the following commands to transfer the files to the HDFS file system.\n",
    "\n",
    "1) Start HDFS on NameNode\n",
    "    ```bash\n",
    "    start-dfs.sh\n",
    "    ```\n",
    "2) Start YARN on ResourceManager\n",
    "    ```bash\n",
    "    start-yarn.sh\n",
    "    ```\n",
    "3) Start Spark on the NameNode \n",
    "    start-master.sh\n",
    "    start-workers.sh\n",
    "    ```\n",
    "4) Transfer the files to HDFS\n",
    "    ```bash\n",
    "        hadoop fs -mkdir /pa1\n",
    "        hadoop fs -mkdir /pa1/input\n",
    "        hadoop fs -put cs535/PA1/citations-redo.txt /pa1/input\n",
    "        hadoop fs -put cs535/PA1/published-dates-redo.txt /pa1/input\n",
    "    ```\n",
    "5) Verify the files are in HDFS\n",
    "    5.1) Set up SSH with tunneling\n",
    "    ```bash\n",
    "        ssh -L 8080:localhost:8080 ebmartin@hartford.cs.colostate.edu\n",
    "    ```\n",
    "    5.2) Find HDFS web address \n",
    "    ```bash\n",
    "        cd hadoopConf\n",
    "        vim hdfs-site.xml\n",
    "    ```\n",
    "    5.3) Find the following:\n",
    "    ```xml\n",
    "        <property>\n",
    "            <name>dfs.namenode.http-address</name>\n",
    "            <value>hartford.cs.colostate.edu:30182</value>\n",
    "            <description>Location of the DFS web UI</description>\n",
    "        </property>\n",
    "    ``````\n",
    "    5.4) Open local web browser and go to HDFS web address (http://<namenode>:<port>)\n",
    "    ```bash\n",
    "        http://hartford.cs.colostate.edu:30182/\n",
    "    ```\n",
    "    5.5) Verify files are in HDFS\n",
    "    ```bash\n",
    "        http://hartford.cs.colostate.edu:30182/explorer.html#/pa1/input\n",
    "    ```\n",
    "6) Check the YARN web portal to see if the Spark application is running (http://<resource_manager_host>:<port>)\n",
    "    ```bash\n",
    "        http://honolulu.cs.colostate.edu:30194/\n",
    "    ```\n",
    "7) Check the Spark web portal to see if the Spark application is running (http://<SPARK_MASTER_IP>:<SPARK_MASTER_WEBUI_PORT>)\n",
    "    ```bash\n",
    "        http://hartford.cs.colostate.edu:30197/\n",
    "    ```\n",
    "    *Note:*\n",
    "    *I wrote all this so I can reference how I did it in future assignments.*"
   ]
  },
  {
   "cell_type": "markdown",
   "metadata": {},
   "source": [
    "### Load data into Spark"
   ]
  },
  {
   "cell_type": "code",
   "execution_count": 1,
   "metadata": {},
   "outputs": [
    {
     "name": "stdout",
     "output_type": "stream",
     "text": [
      "3.5.0\n",
      "/usr/bin/python3.9\n"
     ]
    }
   ],
   "source": [
    "import sys\n",
    "sys.path.append(\"/usr/local/python-env/py39/lib/python3.9/site-packages\")\n",
    "\n",
    "import pyspark\n",
    "print(pyspark.__version__)\n",
    "\n",
    "\n",
    "print(sys.executable)"
   ]
  },
  {
   "cell_type": "markdown",
   "metadata": {},
   "source": [
    "### Initialze a SparkSession\n",
    "\n",
    "Initialize a test session to ensure the SparkSession is working properly. This will connect to the resource manager node that is running the YARN cluster. If we visit the YARN web portal, we can see that the Spark application is running."
   ]
  },
  {
   "cell_type": "markdown",
   "metadata": {},
   "source": [
    "Ensuring the pyspark library is being accessed from my local usr directory.\n"
   ]
  },
  {
   "cell_type": "code",
   "execution_count": 2,
   "metadata": {},
   "outputs": [],
   "source": [
    "import os\n",
    "os.environ['PYSPARK_PYTHON'] = '/usr/bin/python3.9'"
   ]
  },
  {
   "cell_type": "code",
   "execution_count": 3,
   "metadata": {},
   "outputs": [
    {
     "name": "stdout",
     "output_type": "stream",
     "text": [
      "Apache Sedona version: 1.5.1\n"
     ]
    }
   ],
   "source": [
    "import pkg_resources\n",
    "\n",
    "sedona_version = pkg_resources.get_distribution(\"apache-sedona\").version\n",
    "print(f\"Apache Sedona version: {sedona_version}\")"
   ]
  },
  {
   "cell_type": "code",
   "execution_count": 4,
   "metadata": {},
   "outputs": [
    {
     "name": "stdout",
     "output_type": "stream",
     "text": [
      "/usr/local/spark/latest\n",
      "/usr/bin/python3.9\n"
     ]
    }
   ],
   "source": [
    "\n",
    "print(os.environ['SPARK_HOME'])\n",
    "print(os.environ['PYSPARK_PYTHON'])"
   ]
  },
  {
   "cell_type": "markdown",
   "metadata": {},
   "source": [
    "## Now to make the app"
   ]
  },
  {
   "cell_type": "code",
   "execution_count": 9,
   "metadata": {},
   "outputs": [
    {
     "name": "stderr",
     "output_type": "stream",
     "text": [
      "/tmp/ipykernel_1511486/1429766183.py:35: DeprecationWarning: Call to deprecated function registerAll (Deprecated since 1.4.1, use SedonaContext.create() instead.).\n",
      "  SedonaRegistrator.registerAll(spark)\n",
      "/s/chopin/l/grad/ebmartin/.local/lib/python3.9/site-packages/sedona/register/geo_registrator.py:45: DeprecationWarning: Call to deprecated function register (Deprecated since 1.4.1, use SedonaContext.create() instead.).\n",
      "  cls.register(spark)\n"
     ]
    }
   ],
   "source": [
    "from pyspark.sql import SparkSession\n",
    "from pyspark.sql import functions as F\n",
    "from pyspark.sql.functions import split\n",
    "from pyspark.sql.functions import col\n",
    "from pyspark.sql import Row\n",
    "from pyspark.sql.types import IntegerType, DateType\n",
    "from pyspark.sql.functions import year  # used to extract year from date, could do this manually as well\n",
    "from pyspark.sql import Window\n",
    "from pyspark.sql.functions import sum as pyspark_sum\n",
    "\n",
    "\n",
    "from pyspark.sql import SparkSession\n",
    "from sedona.register import SedonaRegistrator\n",
    "from sedona.utils import SedonaKryoRegistrator, KryoSerializer\n",
    "from sedona.spark import *\n",
    "import geopandas as gpd\n",
    "\n",
    "spark = SparkSession \\\n",
    "    .builder \\\n",
    "    .appName('GeoSpatialQueries') \\\n",
    "    .master('spark://hartford:30196') \\\n",
    "    .config(\"spark.yarn.resourcemanager.address\", \"honolulu.cs.colostate.edu:30190\") \\\n",
    "    .config(\"spark.serializer\", KryoSerializer.getName) \\\n",
    "    .config(\"spark.kryo.registrator\", SedonaKryoRegistrator.getName) \\\n",
    "    .config('spark.jars.packages',\n",
    "            'org.apache.sedona:sedona-spark-3.5_2.12:1.5.1,'\n",
    "            'org.datasyslab:geotools-wrapper:1.5.1-28.2') \\\n",
    "    .config('spark.jars.repositories', 'https://artifacts.unidata.ucar.edu/repository/unidata-all') \\\n",
    "    .getOrCreate()\n",
    "\n",
    "# Set log level to DEBUG\n",
    "spark.sparkContext.setLogLevel(\"ERROR\")\n",
    "\n",
    "sedona = SedonaContext.create(spark)\n",
    "SedonaRegistrator.registerAll(spark)\n",
    "\n",
    "# create a logger\n",
    "logger = spark._jvm.org.apache.log4j.LogManager.getLogger(__name__)\n",
    "logger.info(\"Pyspark initialized...\")\n",
    "\n",
    "# IF YOU WANT TO RUN THE TEST, SET isTest = True\n",
    "isTest = True"
   ]
  },
  {
   "cell_type": "markdown",
   "metadata": {},
   "source": [
    "## Load the datasets\n",
    "\n",
    "Got the code for this from https://sedona.apache.org/1.5.1/tutorial/sql/\n",
    "\n",
    "Load GeoJSON using Spark JSON Data Source:\n",
    "\n",
    "Spark SQL's built-in JSON data source supports reading GeoJSON data. To ensure proper parsing of the geometry property, we can define a schema with the geometry property set to type 'string'. This prevents Spark from interpreting the property and allows us to use the ST_GeomFromGeoJSON function for accurate geometry parsing.\n",
    "\n",
    "```python\n",
    "schema = \"type string, crs string, totalFeatures long, features array<struct<type string, geometry string, properties map<string, string>>>\";\n",
    "(sedona.read.json(geojson_path, schema=schema)\n",
    "    .selectExpr(\"explode(features) as features\") # Explode the envelope to get one feature per row.\n",
    "    .select(\"features.*\") # Unpack the features struct.\n",
    "    .withColumn(\"geometry\", f.expr(\"ST_GeomFromGeoJSON(geometry)\")) # Convert the geometry string.\n",
    "    .printSchema())\n",
    "```"
   ]
  },
  {
   "cell_type": "code",
   "execution_count": 25,
   "metadata": {},
   "outputs": [],
   "source": [
    "# Initialize a Hadoop file system \n",
    "fs = spark._jvm.org.apache.hadoop.fs.FileSystem.get(spark._jsc.hadoopConfiguration())\n",
    "\n",
    "# Directory containing the CSV files\n",
    "csv_directory = \"hdfs:///cs555/Datasets/\"\n",
    "json_directory = \"hdfs:///geospatial/input/\"\n",
    "\n",
    "# Define the schema for the GeoJSON data\n",
    "geojsonSchema = \"type string, crs string, totalFeatures long, features array<struct<type string, geometry string, properties map<string, string>>>\"\n",
    "\n",
    "\n",
    "if isTest:\n",
    "\n",
    "    # Path to the GeoJSON file\n",
    "    geojson_path = \"hdfs:///geospatial/input/cb_2018_us_state_20m.json\"\n",
    "\n",
    "    # Read the GeoJSON file using the defined schema using sedona into a spark dataframe\n",
    "    state_boundaries_sedona = spark.read.schema(geojsonSchema).json(geojson_path, multiLine=True)\n",
    "    \n",
    "    # Explode the features array to create a row for each feature and select the columns\n",
    "    state_boundaries_sedona = (state_boundaries_sedona\n",
    "                               .select(F.explode(\"features\").alias(\"features\"))\n",
    "                               .select(\"features.*\")\n",
    "                               # Use Sedona's ST_GeomFromGeoJSON function to convert the geometry string to a geometry object\n",
    "                               .withColumn(\"geometry\", F.expr(\"ST_GeomFromGeoJSON(geometry)\"))\n",
    "                              )\n",
    "\n",
    "else:\n",
    "    \n",
    "    # Get a list of the CSV and JSON files in the directory\n",
    "    json_files = spark._jvm.org.apache.hadoop.fs.FileSystem.get(spark._jsc.hadoopConfiguration()).globStatus(spark._jvm.org.apache.hadoop.fs.Path(json_directory + \"*.csv\"))\n",
    "    csv_files = spark._jvm.org.apache.hadoop.fs.FileSystem.get(spark._jsc.hadoopConfiguration()).globStatus(spark._jvm.org.apache.hadoop.fs.Path(csv_directory + \"*.json\"))\n",
    "    \n",
    "    # Create a dictionary to hold the DataFrames\n",
    "    csv_dataset_dataframes = {}\n",
    "    json_dataset_dataframes = {}\n",
    "\n",
    "    # Load each CSV file into a DataFrame and store it in the dictionary\n",
    "    for csv_file in csv_files:\n",
    "        file_name = csv_file.getPath().getName()\n",
    "        csv_dataset_dataframes[file_name] = spark.read.csv(csv_directory + file_name, header=True, inferSchema=True)\n",
    "\n",
    "    for json_file in spark._jvm.org.apache.hadoop.fs.FileSystem.get(spark._jsc.hadoopConfiguration()).globStatus(spark._jvm.org.apache.hadoop.fs.Path(json_directory + \"*.json\")):\n",
    "        file_name = json_file.getPath().getName()\n",
    "        json_dataset_dataframes[file_name] = spark.read.json(json_directory + file_name, multiLine=True)\n",
    "        "
   ]
  },
  {
   "cell_type": "markdown",
   "metadata": {},
   "source": [
    "## We can see that the datasets are not in a workable format"
   ]
  },
  {
   "cell_type": "code",
   "execution_count": 11,
   "metadata": {},
   "outputs": [
    {
     "name": "stdout",
     "output_type": "stream",
     "text": [
      "State Boundaries Sedona Schema:\n",
      "root\n",
      " |-- type: string (nullable = true)\n",
      " |-- geometry: geometry (nullable = false)\n",
      " |-- properties: map (nullable = true)\n",
      " |    |-- key: string\n",
      " |    |-- value: string (valueContainsNull = true)\n",
      "\n"
     ]
    }
   ],
   "source": [
    "# print the schemas\n",
    "\n",
    "if (isTest):\n",
    "    print(\"State Boundaries Sedona Schema:\")\n",
    "    state_boundaries_sedona.printSchema()"
   ]
  },
  {
   "cell_type": "code",
   "execution_count": 20,
   "metadata": {},
   "outputs": [
    {
     "name": "stdout",
     "output_type": "stream",
     "text": [
      "+-------+------------------------------------------------------------------------------------------------------------------------------------------------------------------------------------------------------------------------------------------------------------------------------------------------------------------------------------------------------------------------------------------------------------------------------------------------------------------------------------------------------------------------------------------------------------------------------------------------------------------------------------------------------------------------------------------------------------------------------------------------------------------------------------------------------------------------------------------------------------------------------------------------------------------------------------------------------------------------------------------------------------------------------------------------------------------------------------------------------------------------------------------------------------------------------------------------------------------------------------------------------------------------------------------------------------------------------------------------------------------------------------------------------------------------------------------------------------------------------------------------------------------------------------------------------------------------------------------------------------------------------------------------------------------------------------------------------------------------------------------------------------------------------------------------------------------------------------------------------------------------------------------------------------------------------------------------------------------------------------------------------------------------------------------------------------------------------------------------------------------------------------------------------------------------------------------------------------------------------------------------------------------------------------------------------------------------------------------------------------------------------------------------------------------------------------------------------------------------------------------------------------------------------------------------------------------------------------------------------------------------------------------------------------------------------------------------------------------------------------------------------------------------------------------------------------------------------------------------------------------------------------------------------------------------------------------------------------------------------------------------------------------------------------------------------------------------------------------------------------------------------------------------------------------------------------------------------------------------------------------------------------------------------------------------------------------------------------------------------------------------------------------------------------------------------------------------------------------------------------------------------------------------------------------------------------------------------------------------------------------------------------------------------------------------------------------------------------------------------------------------------------------------------------------------------------------------------------------------------------------------------------------------------------------------------------------------------------------------------------------------------------------------------------------------------------------------------------------------------------------------------------------------------------------------------------------------------------------------------------------------------------------------------------------------------------------------------------------------------------------------------------------------------------------------------------------------------------------------------------------------------------------------------------------------------------------------------------------------------------------------------------------------------------------------------------------------------------------------------------------------------------------------------------------------------------------------------------------------------------------------------------------------------------------------------------------------------------------------------------------------------------------------------------------------------------------------------------------------------------------------------------------------------------------------------------------------------------------------------------------------------------------------------------------------------------------------------------------------------------------------------------------------------------------------------------------------------------------------------------------------------------------------------------------------------------------------------------------------------------------------------------------------------------------------------------------------------------------------------------------------------------------------------------------------------------------------------------------------------------------------------------------------------------------------------------------------------------------------------------------------------------------------------------------------------------------------------------------------------------------------------------------------------------------------------------------------------------------------------------------------------------------------------------------------------------------------------------------------------------------------------------------------------------------------------------------------------------------------------------------------------------------------------------------------------------------------------------------------------------------------------------------------------------------------------------------------------------------------------------------------------------------------------------------------------------------------------------------------------------------------------------------------------------------------------------------------------------------------------------------------------------------------------------------------------------------------------------------------------------------------------------------------------------------------------------------------------------------------------------------------------------------------------------------------------------------------------------------------------------------------------------------------------------------------------------------------------------------------------------------------------------------------------------------------------------------------------------------------------------------------------------------------------------------------------------------------------------------------------------------------------------------------------------------------------------------------------------------------------------------------------------------------------+-----------------------------------------------------------------------------------------------------------------------------------------------------------------------+\n",
      "|type   |geometry                                                                                                                                                                                                                                                                                                                                                                                                                                                                                                                                                                                                                                                                                                                                                                                                                                                                                                                                                                                                                                                                                                                                                                                                                                                                                                                                                                                                                                                                                                                                                                                                                                                                                                                                                                                                                                                                                                                                                                                                                                                                                                                                                                                                                                                                                                                                                                                                                                                                                                                                                                                                                                                                                                                                                                                                                                                                                                                                                                                                                                                                                                                                                                                                                                                                                                                                                                                                                                                                                                                                                                                                                                                                                                                                                                                                                                                                                                                                                                                                                                                                                                                                                                                                                                                                                                                                                                                                                                                                                                                                                                                                                                                                                                                                                                                                                                                                                                                                                                                                                                                                                                                                                                                                                                                                                                                                                                                                                                                                                                                                                                                                                                                                                                                                                                                                                                                                                                                                                                                                                                                                                                                                                                                                                                                                                                                                                                                                                                                                                                                                                                                                                                                                                                                                                                                                                                                                                                                                                                                                                                                                                                                                                                                                                                                                                                                                                                                                                                                                                                                                                                                                                                                                                                                                                                                                                                                                                              |properties                                                                                                                                                             |\n",
      "+-------+------------------------------------------------------------------------------------------------------------------------------------------------------------------------------------------------------------------------------------------------------------------------------------------------------------------------------------------------------------------------------------------------------------------------------------------------------------------------------------------------------------------------------------------------------------------------------------------------------------------------------------------------------------------------------------------------------------------------------------------------------------------------------------------------------------------------------------------------------------------------------------------------------------------------------------------------------------------------------------------------------------------------------------------------------------------------------------------------------------------------------------------------------------------------------------------------------------------------------------------------------------------------------------------------------------------------------------------------------------------------------------------------------------------------------------------------------------------------------------------------------------------------------------------------------------------------------------------------------------------------------------------------------------------------------------------------------------------------------------------------------------------------------------------------------------------------------------------------------------------------------------------------------------------------------------------------------------------------------------------------------------------------------------------------------------------------------------------------------------------------------------------------------------------------------------------------------------------------------------------------------------------------------------------------------------------------------------------------------------------------------------------------------------------------------------------------------------------------------------------------------------------------------------------------------------------------------------------------------------------------------------------------------------------------------------------------------------------------------------------------------------------------------------------------------------------------------------------------------------------------------------------------------------------------------------------------------------------------------------------------------------------------------------------------------------------------------------------------------------------------------------------------------------------------------------------------------------------------------------------------------------------------------------------------------------------------------------------------------------------------------------------------------------------------------------------------------------------------------------------------------------------------------------------------------------------------------------------------------------------------------------------------------------------------------------------------------------------------------------------------------------------------------------------------------------------------------------------------------------------------------------------------------------------------------------------------------------------------------------------------------------------------------------------------------------------------------------------------------------------------------------------------------------------------------------------------------------------------------------------------------------------------------------------------------------------------------------------------------------------------------------------------------------------------------------------------------------------------------------------------------------------------------------------------------------------------------------------------------------------------------------------------------------------------------------------------------------------------------------------------------------------------------------------------------------------------------------------------------------------------------------------------------------------------------------------------------------------------------------------------------------------------------------------------------------------------------------------------------------------------------------------------------------------------------------------------------------------------------------------------------------------------------------------------------------------------------------------------------------------------------------------------------------------------------------------------------------------------------------------------------------------------------------------------------------------------------------------------------------------------------------------------------------------------------------------------------------------------------------------------------------------------------------------------------------------------------------------------------------------------------------------------------------------------------------------------------------------------------------------------------------------------------------------------------------------------------------------------------------------------------------------------------------------------------------------------------------------------------------------------------------------------------------------------------------------------------------------------------------------------------------------------------------------------------------------------------------------------------------------------------------------------------------------------------------------------------------------------------------------------------------------------------------------------------------------------------------------------------------------------------------------------------------------------------------------------------------------------------------------------------------------------------------------------------------------------------------------------------------------------------------------------------------------------------------------------------------------------------------------------------------------------------------------------------------------------------------------------------------------------------------------------------------------------------------------------------------------------------------------------------------------------------------------------------------------------------------------------------------------------------------------------------------------------------------------------------------------------------------------------------------------------------------------------------------------------------------------------------------------------------------------------------------------------------------------------------------------------------------------------------------------------------+-----------------------------------------------------------------------------------------------------------------------------------------------------------------------+\n",
      "|Feature|MULTIPOLYGON (((-76.046213 38.025532999999996, -76.00733699999999 38.036705999999995, -75.98008899999999 38.004891, -75.98464799999999 37.938120999999995, -76.04652999999999 37.953586, -76.046213 38.025532999999996)), ((-79.484372 39.344300000000004, -79.482366 39.531689, -79.47666199999999 39.721078, -79.3924584050224 39.7214393586401, -79.045576 39.722927999999996, -78.9284161298889 39.7229985874409, -78.80829952962159 39.7230709562769, -78.723578 39.723122, -78.380477064564 39.72270413884, -78.3428335185744 39.722658292926496, -78.342593 39.722657999999996, -78.09897069616669 39.722466194428094, -78.075861 39.722448, -77.768644 39.721537999999995, -77.469274 39.720228999999996, -77.4691450036804 39.72022900225, -77.45943341952389 39.720229171644995, -77.23995 39.720233, -77.21702375523739 39.720217248385396, -76.9993180263332 39.7200676723526, -76.991062 39.720062, -76.7870971997576 39.72104814611129, -76.71577099999999 39.721393, -76.5694491257313 39.721458570752695, -76.41897999999999 39.721526, -76.2396837411146 39.7216419899246, -76.233485 39.721646, -76.23327934711659 39.7216462556279, -76.13569742699019 39.7217675506067, -75.788596 39.722198999999996, -75.76690460670919 39.3776515935512, -75.76689499999999 39.377499, -75.7604414164505 39.296789621100096, -75.7564352155685 39.246687537125304, -75.7481548142541 39.143131730959695, -75.72310269333269 38.8298265565277, -75.707555026429 38.6353853550599, -75.707551 38.635335, -75.701777515245 38.5607669290786, -75.70038199999999 38.542743, -75.693721 38.460128, -75.479283 38.453697999999996, -75.3412873203482 38.4524365259555, -75.18545499999999 38.451012, -75.04893899999999 38.451263, -75.085518 38.32427, -75.102947 38.311524999999996, -75.14322899999999 38.220475, -75.17739399999999 38.130013999999996, -75.19379599999999 38.096013, -75.242266 38.027209, -75.624341 37.994211, -75.66971099999999 37.950796, -75.722662 37.971309999999995, -75.78381499999999 37.972594, -75.860727 37.91831, -75.892686 37.916848, -75.898956 37.974514, -75.857507 38.038778, -75.858881 38.060134999999995, -75.86381 38.100968, -75.937089 38.124209, -75.942375 38.187066, -75.864104 38.200858, -75.8754473114647 38.219709301961004, -75.888513 38.241423, -75.9237660824283 38.246285277002, -75.9445 38.249145, -76.038935 38.254932, -76.031988 38.187419999999996, -76.011916 38.122214, -76.005904 38.077169999999995, -76.048692 38.086728, -76.095548 38.125122999999995, -76.088639 38.192648999999996, -76.135513 38.232185, -76.217613 38.305682999999995, -76.257667 38.324855, -76.25 38.362304, -76.280551 38.403143, -76.33636 38.492235, -76.277461 38.541851, -76.290043 38.569158, -76.279589 38.609519999999996, -76.23118699999999 38.61401, -76.203065 38.610741, -76.165435 38.6102, -76.1701618745873 38.6408420471501, -76.175159 38.673235999999996, -76.200334 38.670774, -76.238725 38.712845, -76.275015 38.712714, -76.322418 38.679303999999995, -76.34799799999999 38.686234, -76.340543 38.730337999999996, -76.39035 38.757003999999995, -76.379739 38.788314, -76.310081 38.796845999999995, -76.271575 38.851771, -76.21932799999999 38.812371, -76.19109 38.82966, -76.196868759948 38.8557419634207, -76.205063 38.892725999999996, -76.203638 38.928382, -76.250868 38.92825, -76.31794699999999 38.911311999999995, -76.334019 38.860237999999995, -76.37620199999999 38.850460999999996, -76.361727 38.939175, -76.322296 39.006375, -76.301847 39.039651, -76.2650366404087 39.0285509553488, -76.231765 39.018518, -76.233457 39.091384999999995, -76.246481 39.119588, -76.278527 39.145764, -76.243166 39.213362, -76.211253 39.269812, -76.17770399999999 39.298701, -76.159673 39.335909, -76.11052699999999 39.372257, -76.0614988219557 39.3877481141151, -76.040962 39.394237, -76.00688 39.414527, -76.012312 39.453115, -76.0376462883158 39.4526423823093, -76.060931 39.452208, -76.146373 39.40531, -76.224161 39.352779999999996, -76.29660899999999 39.301137, -76.3254183419569 39.2729050860827, -76.349994 39.248822, -76.39550899999999 39.231702, -76.425281 39.205708, -76.463483 39.205908, -76.498384 39.204808, -76.5040085909181 39.199286249126004, -76.525785 39.177907999999995, -76.428681 39.131709, -76.42186 39.081441999999996, -76.420394 39.042069999999995, -76.39408 39.011311, -76.448981 38.982811, -76.47128099999999 38.956512, -76.45027999999999 38.941113, -76.46938 38.907613, -76.4739761636555 38.9026933786299, -76.49068 38.884814, -76.516944 38.851157, -76.48987799999999 38.838715, -76.526979 38.787016, -76.55874299999999 38.756352, -76.52665499999999 38.72443, -76.52709254739419 38.7127503012383, -76.52892299999999 38.663889, -76.51127799999999 38.615745, -76.517506 38.539148999999995, -76.492699 38.482849, -76.450937 38.442422, -76.393378 38.389477, -76.387002 38.361267, -76.400194624698 38.3198719439614, -76.402894 38.311402, -76.374481 38.296347999999995, -76.392668 38.239663, -76.353516 38.178135, -76.32013599999999 38.138338999999995, -76.330794 38.099331, -76.322093 38.036502999999996, -76.37178999999999 38.079564999999995, -76.430425 38.119383, -76.481036 38.115873, -76.54038 38.152991, -76.590637 38.214211999999996, -76.673462 38.234401, -76.740055 38.235226999999995, -76.805949 38.252275, -76.8270361292819 38.2583001006141, -76.86429199999999 38.268944999999995, -76.92217699999999 38.311339, -76.975492 38.347327, -77.001638 38.421952, -77.01637099999999 38.445572, -77.07548899999999 38.42471, -77.123325 38.410646, -77.21118799999999 38.380662, -77.259962 38.435821, -77.246584 38.538340999999996, -77.183767 38.600699, -77.12908399999999 38.614363999999995, -77.1302 38.635017, -77.13250099999999 38.673815999999995, -77.08578476515639 38.7052812818324, -77.079499 38.709514999999996, -77.05319899999999 38.709914999999995, -77.040998 38.737913999999996, -77.0406725707781 38.746691930482896, -77.0392398850823 38.785336325623604, -77.039006 38.791644999999995, -76.979497 38.837812, -76.909393 38.892852, -77.002546244247 38.9655317004459, -77.041018 38.995548, -77.119759 38.934343, -77.1197891567342 38.9343765552932, -77.14660099999999 38.96421, -77.202502 38.967909999999996, -77.249803 38.985909, -77.2484037049754 39.026888354292296, -77.248403 39.026908999999996, -77.310705 39.052008, -77.33003770595408 39.055952113491, -77.359702 39.062004, -77.462617 39.076248, -77.481279 39.105658, -77.51992899999999 39.120925, -77.521222 39.161057, -77.48597099999999 39.185665, -77.45988299999999 39.218682, -77.4600656264978 39.21884294385939, -77.496606 39.251045, -77.553114 39.279267999999995, -77.588235 39.301955, -77.66613 39.317008, -77.6776957620787 39.317940817088, -77.71951899999999 39.321314, -77.74593 39.353221, -77.740012 39.401694, -77.79820099999999 39.475719, -77.81094389626219 39.5007391665665, -77.823762 39.525907, -77.829814 39.587288, -77.92598799999999 39.607642, -78.006734 39.601337, -78.02762910017319 39.6206559623441, -78.08225999999999 39.671166, -78.22507499999999 39.658878, -78.31303299999999 39.631001, -78.3327880214991 39.6285275964988, -78.382959 39.622246, -78.43817899999999 39.563524, -78.460951 39.525987, -78.4682695950029 39.5262242704717, -78.590654 39.530192, -78.6550361715467 39.544382241083696, -78.707098 39.555856999999996, -78.73904999999999 39.609697, -78.77114 39.638387, -78.851016 39.554044, -78.942618 39.479614, -78.956751 39.440264, -79.035623 39.473344, -79.0674474080724 39.4728086991282, -79.091329 39.472407, -79.16649699999999 39.400887999999995, -79.26239211717609 39.3262438284674, -79.283723 39.30964, -79.35374999999999 39.278039, -79.424413 39.228170999999996, -79.486873 39.205960999999995, -79.484372 39.344300000000004)))|{STATEFP -> 24, STATENS -> 01714934, AFFGEOID -> 0400000US24, GEOID -> 24, STUSPS -> MD, NAME -> Maryland, LSAD -> 00, ALAND -> 25151100280, AWATER -> 6979966958}     |\n",
      "|Feature|POLYGON ((-96.62187499999999 42.779255, -96.57793699999999 42.827645, -96.53785099999999 42.878474999999995, -96.54047232919329 42.908595697956, -96.54168899999999 42.922576, -96.50030799999999 42.959391, -96.520246 42.977643, -96.492693 43.005089, -96.51160499999999 43.039927, -96.458201 43.067554, -96.4520975160537 43.0825529251945, -96.439335 43.113915999999996, -96.458854 43.143356, -96.475571 43.221053999999995, -96.52208399999999 43.22096, -96.55296299999999 43.247281, -96.5590273427097 43.257555675618, -96.578823 43.291095, -96.53039199999999 43.300034, -96.524289 43.347214, -96.52157199999999 43.385639999999995, -96.59425399999999 43.434152999999995, -96.584603 43.469609999999996, -96.598928 43.500457, -96.45326 43.500389999999996, -96.198484 43.500335, -96.05316283451 43.5001877081575, -95.8609462015723 43.4999928849056, -95.83442099999999 43.499966, -95.486803 43.500246, -95.4544322386606 43.500322085250005, -95.38778759402189 43.5004787289074, -95.21493799999999 43.500885, -94.9146134847136 43.500595872986096, -94.874235 43.500557, -94.85455506761069 43.5005534191522, -94.4428499897182 43.5004785076547, -94.390597 43.500468999999995, -94.2479674415552 43.5001754767076, -93.97076 43.499604999999995, -93.6485330311736 43.4995354896751, -93.576728 43.49952, -93.4973513252204 43.4995307245117, -93.228861 43.499567, -93.04919200781649 43.4995574800246, -93.0243479005419 43.499556163630004, -92.870277 43.499548, -92.553161 43.5003, -92.5531280905188 43.5003000363123, -92.44894795143779 43.500414988562696, -92.17886299999999 43.500713, -92.07980199312829 43.500704885176596, -91.824848 43.500684, -91.7302169978377 43.5006857009461, -91.61083500055439 43.5006878467793, -91.491042 43.50069, -91.21770599999999 43.50055, -91.232276 43.450952, -91.2106633577727 43.4194417829033, -91.19940799999999 43.403031999999996, -91.20736699999999 43.373658999999996, -91.154806 43.334826, -91.107237 43.313645, -91.05790999999999 43.253968, -91.08745599999999 43.221891, -91.13417299999999 43.174405, -91.175253 43.134665, -91.17493491391119 43.0802603718452, -91.174692 43.038713, -91.15908430594749 42.987477791322796, -91.155519 42.975774, -91.138 42.903772, -91.09881999999999 42.864421, -91.07071599999999 42.775501999999996, -91.01723899999999 42.719566, -90.94156699999999 42.683844, -90.89696202715841 42.6743180564343, -90.852497 42.664822, -90.74367699999999 42.645559999999996, -90.700856 42.626445, -90.672727 42.576598999999995, -90.642843 42.508480999999996, -90.646727 42.471903999999995, -90.59041599999999 42.447493, -90.565248 42.438742, -90.517516 42.403019, -90.48434567271629 42.381597778191896, -90.44632 42.357040999999995, -90.417125 42.319942999999995, -90.43088399999999 42.27823, -90.40065299999999 42.239292999999996, -90.338169 42.203320999999995, -90.31569651427151 42.193946432251394, -90.26908 42.1745, -90.207421 42.149108999999996, -90.161159 42.106372, -90.163446 42.040406999999995, -90.15968245112269 42.0330872575859, -90.140613 41.995999, -90.156902 41.938181, -90.1581530337095 41.9298432273761, -90.165065 41.883776999999995, -90.181401 41.844646999999995, -90.18064299999999 41.811979, -90.2423682473972 41.782768725984596, -90.24863099999999 41.779804999999996, -90.31070799999999 41.742214, -90.31185685041619 41.7285328921536, -90.31468699999999 41.694829999999996, -90.33672899999999 41.664532, -90.339528 41.598633, -90.364128 41.579633, -90.41583 41.562933, -90.461432 41.523533, -90.513134 41.519532999999996, -90.571136 41.516332, -90.61853699999999 41.485032, -90.70115899999999 41.454743, -90.786282 41.452888, -90.86728199999999 41.448215, -90.924343 41.42286, -90.966662 41.430051, -91.02778699999999 41.423603, -91.065058 41.369101, -91.071552 41.339650999999996, -91.07408762367409 41.3343208019205, -91.0744154980196 41.3336315690407, -91.11418599999999 41.250029, -91.081445 41.214428999999996, -91.041536 41.166138, -90.997906 41.162563999999996, -90.957246 41.111084999999996, -90.95226541648219 41.072731749670005, -90.9518941426813 41.0698727358664, -90.945324 41.019279, -90.95223299999999 40.954046999999996, -90.985462 40.912141, -91.044653 40.868356, -91.09299299999999 40.821079, -91.091703 40.779708, -91.115735 40.725168, -91.11822293839751 40.6995346508191, -91.12082 40.672776999999996, -91.18546060870429 40.63811181262349, -91.18697999999999 40.637297, -91.247851 40.63839, -91.339719 40.613488, -91.374252 40.582589999999996, -91.394475 40.534543, -91.367876 40.510479, -91.379907 40.45211, -91.37292099999999 40.399108, -91.419422 40.378264, -91.498093 40.401925999999996, -91.519134 40.432822, -91.56384399999999 40.460988, -91.608347 40.50004, -91.618999 40.539083999999995, -91.670993 40.550937, -91.68538099999999 40.578891999999996, -91.71665498768189 40.603740139296, -91.729115 40.61364, -91.939292 40.60615, -91.9431174596857 40.606060586354005, -92.17978 40.600529, -92.35080418672639 40.5972572763761, -92.453745 40.595288, -92.63790329359949 40.590956547097896, -92.68669299999999 40.589808999999995, -92.71459726304501 40.5895828338363, -92.94159499999999 40.587742999999996, -93.0972912037498 40.5838234773251, -93.135802 40.582854, -93.34544199999999 40.580514, -93.3743862587638 40.5803970326092, -93.5568966742717 40.579659485060496, -93.597352 40.579496, -93.7743442040303 40.5775304533911, -93.84093 40.576791, -94.015492 40.574073707009596, -94.09108499999999 40.572897, -94.23224071020829 40.572014612126594, -94.310724 40.571524, -94.47120772712319 40.570959458357, -94.533878 40.570738999999996, -94.6320259176948 40.5717595874, -94.81997799999999 40.573713999999995, -94.9148978673616 40.5749211691113, -95.06892099999999 40.576879999999996, -95.20226600083029 40.578375628996, -95.335588 40.579871, -95.3739250533987 40.580332377941495, -95.533182 40.582249, -95.76564499999999 40.585208, -95.748626 40.603355, -95.781909 40.653272, -95.84603399999999 40.682604999999995, -95.888697 40.736292, -95.834156 40.783015999999996, -95.8342438167144 40.7837843870431, -95.841309 40.845604, -95.81070899999999 40.886680999999996, -95.8187272785699 40.8979480664065, -95.837774 40.924712, -95.828329 40.972378, -95.865878 41.017403, -95.8647847640853 41.0528455046135, -95.863839 41.083507, -95.86868799999999 41.124697999999995, -95.8618980682094 41.1603023482127, -95.856788 41.187098, -95.90969 41.184398, -95.9099084912548 41.1912828508279, -95.911391 41.237998, -95.890152 41.278307999999996, -95.92568999999999 41.322196999999996, -95.92878999999999 41.370096, -95.9273362423201 41.3899879374596, -95.922529 41.455766, -95.982962 41.469778, -95.9940203930119 41.5068906409415, -96.005079 41.544004, -96.08049299999999 41.528199, -96.09182 41.561085999999996, -96.118105 41.613495, -96.11148299999999 41.668548, -96.10793787174649 41.6765089897621, -96.08760000000001 41.72218, -96.064537 41.793002, -96.107911 41.840339, -96.1268212534654 41.8660952477016, -96.159098 41.910056999999995, -96.132537 41.974624999999996, -96.22361099999999 42.022652, -96.272877 42.047238, -96.2689 42.113589999999995, -96.347752 42.166806, -96.3372160947059 42.214849506895604, -96.336323 42.218922, -96.33600299999999 42.264806, -96.351957192496 42.28089470454329, -96.40799799999999 42.337407999999996, -96.411808 42.410894, -96.38130699999999 42.461694, -96.44550799999999 42.490629999999996, -96.477454 42.509589, -96.49297 42.517282, -96.476952 42.556079, -96.48002247898 42.561324776560696, -96.526766 42.641183999999996, -96.591602 42.688081, -96.624704 42.725497, -96.62187499999999 42.779255))                                                                                           |{STATEFP -> 19, STATENS -> 01779785, AFFGEOID -> 0400000US19, GEOID -> 19, STUSPS -> IA, NAME -> Iowa, LSAD -> 00, ALAND -> 144661267977, AWATER -> 1084180812}        |\n",
      "|Feature|POLYGON ((-75.773786 39.7222, -75.753228 39.757988999999995, -75.71705899999999 39.792325, -75.662846 39.821425, -75.5943169052201 39.8345949730913, -75.5925626443241 39.8349321082726, -75.5796477422344 39.8374141038914, -75.570433 39.839185, -75.481207 39.829191, -75.41506199999999 39.801919, -75.459439 39.765813, -75.47764 39.715013, -75.509742 39.686113, -75.535144 39.647211999999996, -75.559446 39.629812, -75.543965 39.596000000000004, -75.512732 39.578, -75.527676 39.535278, -75.528088 39.498114, -75.593068 39.479186, -75.57182999999999 39.438897, -75.521682 39.387871, -75.5056428576184 39.370394222582796, -75.469324 39.330819999999996, -75.40837599999999 39.264697999999996, -75.39479 39.188354, -75.407473 39.133706, -75.396277 39.057884, -75.34089 39.01996, -75.3066521095097 38.9476601633284, -75.30255199999999 38.939001999999995, -75.30407799999999 38.91316, -75.232029 38.844254, -75.159022 38.790192999999995, -75.113331 38.782998, -75.089473 38.797198, -75.071805 38.696497, -75.053973 38.536273, -75.04893899999999 38.451263, -75.18545499999999 38.451012, -75.3412873203482 38.4524365259555, -75.479283 38.453697999999996, -75.693721 38.460128, -75.70038199999999 38.542743, -75.701777515245 38.5607669290786, -75.707551 38.635335, -75.707555026429 38.6353853550599, -75.72310269333269 38.8298265565277, -75.7481548142541 39.143131730959695, -75.7564352155685 39.246687537125304, -75.7604414164505 39.296789621100096, -75.76689499999999 39.377499, -75.76690460670919 39.3776515935512, -75.788596 39.722198999999996, -75.773786 39.7222))                                                                                                                                                                                                                                                                                                                                                                                                                                                                                                                                                                                                                                                                                                                                                                                                                                                                                                                                                                                                                                                                                                                                                                                                                                                                                                                                                                                                                                                                                                                                                                                                                                                                                                                                                                                                                                                                                                                                                                                                                                                                                                                                                                                                                                                                                                                                                                                                                                                                                                                                                                                                                                                                                                                                                                                                                                                                                                                                                                                                                                                                                                                                                                                                                                                                                                                                                                                                                                                                                                                                                                                                                                                                                                                                                                                                                                                                                                                                                                                                                                                                                                                                                                                                                                                                                                                                                                                                                                                                                                                                                                                                                                                                                                                                                                                                                                                                                                                                                                                                                                                                                                                                                                                                                                                                                                                                                                                                                                                                                                                                                                                                                                                                                                                                                                                                                                                                                                                                                                                                                                                                                                                                                                                                                                                                               |{STATEFP -> 10, STATENS -> 01779781, AFFGEOID -> 0400000US10, GEOID -> 10, STUSPS -> DE, NAME -> Delaware, LSAD -> 00, ALAND -> 5045925646, AWATER -> 1399985648}      |\n",
      "|Feature|MULTIPOLYGON (((-82.863342 41.693692999999996, -82.82571999999999 41.722809999999996, -82.782719 41.694002999999995, -82.788876 41.643046999999996, -82.84209899999999 41.628322999999995, -82.863342 41.693692999999996)), ((-84.82015899999999 39.227225, -84.8188774692751 39.3051435835594, -84.8188770978104 39.3051661690523, -84.817453 39.391753, -84.8161601949108 39.5219681089929, -84.8157059432555 39.567721664027395, -84.814129 39.726555999999995, -84.8141281379328 39.7266165116193, -84.81141710638049 39.9169136295798, -84.81016123847449 40.0050675438482, -84.808706 40.107216, -84.8049173025784 40.3100959150341, -84.8041205270149 40.352762230297095, -84.804119 40.352844, -84.8029313665713 40.465386621719794, -84.80254699999999 40.50181, -84.8024138785794 40.5722128806467, -84.80211903226379 40.7281459368726, -84.80211899999999 40.728162999999995, -84.8026702061534 40.922568713921, -84.8028596219514 40.9893740520086, -84.80323399999999 41.121414, -84.80364498225559 41.2525616835482, -84.8037035726169 41.271258330570596, -84.804133 41.408291999999996, -84.8042532576115 41.4260497115499, -84.80495815623959 41.530137813388194, -84.80608199999999 41.696089, -84.43806699999999 41.704903, -84.3995487854742 41.70592135740559, -84.3604190413973 41.7069558826335, -84.134417 41.712931, -83.88039046535329 41.7201944903196, -83.7631498513652 41.7235468017856, -83.763038 41.723549999999996, -83.5855418421088 41.7287720285128, -83.45383199999999 41.732647, -83.409531 41.691247, -83.326825 41.701561999999996, -83.23165999999999 41.644217999999995, -83.1638214175228 41.624130312973996, -83.066593 41.59534, -83.028072 41.555656, -82.93436899999999 41.514353, -82.85953099999999 41.576370999999995, -82.83410099999999 41.587587, -82.717878 41.54193, -82.6905671606649 41.496705795438196, -82.687921 41.492323999999996, -82.616952 41.428425, -82.533208 41.391157, -82.460599 41.386316, -82.361784 41.426643999999996, -82.3480192068912 41.427263308734496, -82.268479 41.430842, -82.181598 41.471634, -82.07115045287361 41.496911986784696, -81.994565 41.51444, -81.968480702529 41.5038610079018, -81.9603249700039 41.50055329259779, -81.937862 41.491443, -81.8225035796994 41.4952594192894, -81.81075799999999 41.495647999999996, -81.7685751416216 41.4914896464763, -81.738755 41.48855, -81.633652 41.540458, -81.48868273340901 41.634463927820896, -81.466038 41.649148, -81.388632 41.707144, -81.286925 41.760242999999996, -81.18436799999999 41.786671, -81.05192 41.839557, -81.0022694065175 41.849172466437594, -80.900342 41.868911999999995, -80.800794 41.909635, -80.581882 41.957609999999995, -80.519425 41.977523, -80.5193967266905 41.8495629905593, -80.519357 41.669767, -80.5191767503534 41.499924051206, -80.5191651698956 41.4890121901546, -80.5190001313643 41.333502144193595, -80.51889299999999 41.232555999999995, -80.519196690325 41.1333865025489, -80.5192220860809 41.1250935667958, -80.5196437725473 40.9873926540058, -80.519891 40.906661, -80.5198697076862 40.9003239342489, -80.5197051125992 40.85133677868539, -80.518991 40.638801, -80.58363299999999 40.61552, -80.62717099999999 40.619935999999996, -80.667957 40.582496, -80.62219499999999 40.520497, -80.604895 40.446667, -80.6273626299369 40.3951709330172, -80.631596 40.385467999999996, -80.606596 40.303869, -80.644598 40.25127, -80.684173210708 40.1870179733507, -80.7025753036226 40.1571413980097, -80.70599399999999 40.151590999999996, -80.73680399999999 40.080072, -80.7382184399836 40.0335432260784, -80.74012599999999 39.970793, -80.764479 39.95025, -80.803394 39.918762, -80.8234381047859 39.8500320873964, -80.824276 39.847159, -80.824969 39.801092, -80.869933 39.763555, -80.8355216930075 39.7192518022001, -80.829764 39.711839, -80.86557499999999 39.662751, -80.943782 39.606926, -81.03736504198709 39.5380557124726, -81.07594999999999 39.50966, -81.1212738561078 39.45769741388919, -81.12853299999999 39.449374999999996, -81.185946 39.430731, -81.249088 39.389992, -81.347567 39.34577, -81.3703898088263 39.3487006724034, -81.393794 39.351706, -81.412706 39.394618, -81.456143 39.409273999999996, -81.50318899999999 39.373242, -81.559647 39.330774, -81.565247 39.276174999999995, -81.613896 39.275338999999995, -81.678331 39.273755, -81.71162799999999 39.219228, -81.7214681391725 39.2109608092037, -81.752754 39.184675999999996, -81.7522970367401 39.181034747405896, -81.742953 39.106578, -81.7502668434263 39.1040311930998, -81.80785499999999 39.083977999999995, -81.79330399999999 39.040352999999996, -81.775734 38.980737, -81.827354 38.945898, -81.89847 38.929603, -81.941829 38.993294999999996, -82.00706199999999 39.029578, -82.041563 39.017877999999996, -82.08906499999999 38.975978, -82.0988666505543 38.960879284493295, -82.134766 38.905578999999996, -82.16157 38.824632, -82.20929 38.802672, -82.201537 38.760372, -82.18556699999999 38.659583, -82.175167 38.608484, -82.21896699999999 38.591682999999996, -82.27427 38.593683, -82.2821333440281 38.579860796403494, -82.29327099999999 38.560283, -82.304223 38.496308, -82.323999 38.449268, -82.381773 38.434782999999996, -82.447076 38.426981999999995, -82.5089669497313 38.4146439126517, -82.560664 38.404337999999996, -82.593673 38.421808999999996, -82.61847399999999 38.477089, -82.66411690751569 38.507715590257, -82.675724 38.515504, -82.724846 38.5576, -82.800112 38.563182999999995, -82.81154238465041 38.572369589561895, -82.851314 38.604334, -82.869592 38.678177, -82.871192 38.718377, -82.8822899936093 38.7416192232696, -82.88919299999999 38.756076, -82.943147 38.74328, -83.011816 38.730056999999995, -83.0303349312311 38.7168676766561, -83.042338 38.708318999999996, -83.112372 38.671685, -83.128973 38.640231, -83.172647 38.620252, -83.239515 38.628588, -83.2642989019587 38.6131124968875, -83.286514 38.599241, -83.320531 38.622713, -83.376302 38.661473, -83.440404 38.669360999999995, -83.533339 38.702104999999996, -83.626922 38.679387, -83.642994 38.643273, -83.6469114041267 38.6418519345458, -83.679484 38.630036, -83.70586163558559 38.638037865066, -83.77216 38.65815, -83.78362 38.695640999999995, -83.834015 38.716007999999995, -83.852085 38.751433, -83.9043750861048 38.7672838752678, -83.928454 38.774583, -83.978814 38.787104, -84.051642 38.771397, -84.0526461732196 38.7716146675358, -84.135088 38.789485, -84.212904 38.805707, -84.2261626339635 38.829777141242005, -84.233265 38.842670999999996, -84.23230504540349 38.8747078960317, -84.232132 38.880483, -84.288164 38.955788999999996, -84.29725499999999 38.989694, -84.3212072268568 39.0205863526894, -84.326539 39.027463, -84.40093999999999 39.046361999999995, -84.432941 39.083960999999995, -84.445242 39.114461, -84.462042 39.121759999999995, -84.480943 39.11676, -84.493743 39.10246, -84.49918784070239 39.1021644008655, -84.5065187374369 39.101766408188, -84.550844 39.09936, -84.607928 39.073237999999996, -84.62202768365981 39.0783275466544, -84.677247 39.098259999999996, -84.71404799999999 39.132659, -84.750749 39.147358, -84.820157 39.10548, -84.82015899999999 39.227225)))                                                                                                                                                                                                                                                                                                                                                                                                                                                                                                                                                                                                       |{STATEFP -> 39, STATENS -> 01085497, AFFGEOID -> 0400000US39, GEOID -> 39, STUSPS -> OH, NAME -> Ohio, LSAD -> 00, ALAND -> 105828882568, AWATER -> 10268850702}       |\n",
      "|Feature|POLYGON ((-80.519891 40.906661, -80.5196437725473 40.9873926540058, -80.5192220860809 41.1250935667958, -80.519196690325 41.1333865025489, -80.51889299999999 41.232555999999995, -80.5190001313643 41.333502144193595, -80.5191651698956 41.4890121901546, -80.5191767503534 41.499924051206, -80.519357 41.669767, -80.5193967266905 41.8495629905593, -80.519425 41.977523, -80.329976 42.036167999999996, -80.154084 42.114757, -80.136213 42.149937, -80.088512 42.173184, -80.02032299999999 42.163115999999995, -79.923924 42.207546, -79.844661 42.235486, -79.761951 42.26986, -79.76212199999999 42.131246, -79.761313 41.998808, -79.6108357749867 41.99851990410839, -79.472472 41.998255, -79.0612644031599 41.998838109911006, -78.983065 41.998948999999996, -78.9188573636152 41.9991031986894, -78.59665 41.999877, -78.3081289604466 41.9990711347414, -78.271204 41.998968, -78.2066030378582 41.9990883057576, -78.031177 41.999415, -77.83203 41.998523999999996, -77.74993092512729 41.998755440329, -77.610020114476 41.9991498540796, -77.007635 42.000848, -76.9657287594267 42.000783395046895, -76.9268463629543 42.0007234518173, -76.558118 42.000155, -76.55762414356938 42.0001487163417, -76.473030885808 41.999072381007004, -76.462155 41.998934, -76.1455189947821 41.998866463308005, -76.10584 41.998858, -75.870677 41.998827999999996, -75.5531125390951 41.9992952284735, -75.4831492709589 41.9993981645227, -75.477144 41.999407, -75.3598599291505 41.9936858889046, -75.34112499999999 41.992771999999995, -75.29176199999999 41.947092, -75.26300499999999 41.885109, -75.190203 41.862454, -75.1466648992859 41.8501259301463, -75.11336899999999 41.840697999999996, -75.074412 41.802191, -75.053431 41.752538, -75.049281 41.641861999999996, -75.04619860591168 41.6037640199027, -75.04387899999999 41.575094, -74.982463 41.496466999999996, -74.89035799999999 41.455324, -74.79954599999999 41.43129, -74.7562718347252 41.4276274285434, -74.734893 41.425818, -74.694914 41.357423, -74.760325 41.340325, -74.815703 41.296150999999995, -74.86740499999999 41.22777, -74.905256 41.155668, -74.979873 41.110423, -74.98304207424779 41.1060175588568, -74.9923859951822 41.0930282469934, -75.015271 41.061215, -75.0523586008006 41.0326279973019, -75.070532 41.01862, -75.13308599999999 40.980179, -75.12325394420849 40.9653055343877, -75.09772 40.926679, -75.065438 40.885681999999996, -75.09096199999999 40.849187, -75.108505 40.791094, -75.1113587316723 40.78998228921439, -75.177477 40.764224999999996, -75.192612 40.715874, -75.191059 40.637971, -75.1892364013559 40.60905696112209, -75.1881998781252 40.5926133666486, -75.186737 40.569406, -75.136748 40.575731, -75.078503 40.548296, -75.062227 40.481390999999995, -75.070568 40.455165, -75.056102 40.416066, -75.02477499999999 40.403455, -74.969597 40.39977, -74.946006 40.357306, -74.92811056909139 40.3398284476893, -74.90330999999999 40.315607, -74.85650799999999 40.277407, -74.82390699999999 40.241507999999996, -74.760605 40.198909, -74.7484976572578 40.184908614103996, -74.721604 40.15381, -74.7233792971515 40.152895546231704, -74.769488 40.129145, -74.825907 40.123909999999995, -74.863809 40.082209999999996, -74.932211 40.068411, -74.9728547564456 40.0465053655363, -74.989914 40.037310999999995, -75.059017 39.992512, -75.0601299707226 39.9920110032626, -75.11922 39.965412, -75.1322646449748 39.950944302846096, -75.13571999999999 39.947112, -75.13458822241401 39.922065762021795, -75.13342 39.896212999999996, -75.1414355217473 39.8939183724813, -75.18302299999999 39.882013, -75.2111960614745 39.8665186316821, -75.221025 39.861112999999996, -75.293376 39.848782, -75.341765 39.846081999999996, -75.41049247763709 39.8046722343221, -75.41506199999999 39.801919, -75.481207 39.829191, -75.570433 39.839185, -75.5796477422344 39.8374141038914, -75.5925626443241 39.8349321082726, -75.5943169052201 39.8345949730913, -75.662846 39.821425, -75.71705899999999 39.792325, -75.753228 39.757988999999995, -75.773786 39.7222, -75.788596 39.722198999999996, -76.13569742699019 39.7217675506067, -76.23327934711659 39.7216462556279, -76.233485 39.721646, -76.2396837411146 39.7216419899246, -76.41897999999999 39.721526, -76.5694491257313 39.721458570752695, -76.71577099999999 39.721393, -76.7870971997576 39.72104814611129, -76.991062 39.720062, -76.9993180263332 39.7200676723526, -77.21702375523739 39.720217248385396, -77.23995 39.720233, -77.45943341952389 39.720229171644995, -77.4691450036804 39.72022900225, -77.469274 39.720228999999996, -77.768644 39.721537999999995, -78.075861 39.722448, -78.09897069616669 39.722466194428094, -78.342593 39.722657999999996, -78.3428335185744 39.722658292926496, -78.380477064564 39.72270413884, -78.723578 39.723122, -78.80829952962159 39.7230709562769, -78.9284161298889 39.7229985874409, -79.045576 39.722927999999996, -79.3924584050224 39.7214393586401, -79.47666199999999 39.721078, -79.763774 39.720776, -79.9160173560378 39.7210559335188, -80.075947 39.72135, -80.421388 39.721188999999995, -80.519342 39.721402999999995, -80.5191607943145 39.962200052521894, -80.51912 40.01641, -80.5190843704566 40.159671995118096, -80.51903899999999 40.342101, -80.5190296911941 40.3996410563407, -80.51901711734739 40.477363146237096, -80.518991 40.638801, -80.5197051125992 40.85133677868539, -80.5198697076862 40.9003239342489, -80.519891 40.906661))                                                                                                                                                                                                                                                                                                                                                                                                                                                                                                                                                                                                                                                                                                                                                                                                                                                                                                                                                                                                                                                                                                                                                                                                                                                                                                                                                                                                                                                                                                                                                                                                                                                                                                                                                                                                                                                                                                                                                                                                                                                                                                                                                                                                                                                                                                                                                     |{STATEFP -> 42, STATENS -> 01779798, AFFGEOID -> 0400000US42, GEOID -> 42, STUSPS -> PA, NAME -> Pennsylvania, LSAD -> 00, ALAND -> 115884442321, AWATER -> 3394589990}|\n",
      "+-------+------------------------------------------------------------------------------------------------------------------------------------------------------------------------------------------------------------------------------------------------------------------------------------------------------------------------------------------------------------------------------------------------------------------------------------------------------------------------------------------------------------------------------------------------------------------------------------------------------------------------------------------------------------------------------------------------------------------------------------------------------------------------------------------------------------------------------------------------------------------------------------------------------------------------------------------------------------------------------------------------------------------------------------------------------------------------------------------------------------------------------------------------------------------------------------------------------------------------------------------------------------------------------------------------------------------------------------------------------------------------------------------------------------------------------------------------------------------------------------------------------------------------------------------------------------------------------------------------------------------------------------------------------------------------------------------------------------------------------------------------------------------------------------------------------------------------------------------------------------------------------------------------------------------------------------------------------------------------------------------------------------------------------------------------------------------------------------------------------------------------------------------------------------------------------------------------------------------------------------------------------------------------------------------------------------------------------------------------------------------------------------------------------------------------------------------------------------------------------------------------------------------------------------------------------------------------------------------------------------------------------------------------------------------------------------------------------------------------------------------------------------------------------------------------------------------------------------------------------------------------------------------------------------------------------------------------------------------------------------------------------------------------------------------------------------------------------------------------------------------------------------------------------------------------------------------------------------------------------------------------------------------------------------------------------------------------------------------------------------------------------------------------------------------------------------------------------------------------------------------------------------------------------------------------------------------------------------------------------------------------------------------------------------------------------------------------------------------------------------------------------------------------------------------------------------------------------------------------------------------------------------------------------------------------------------------------------------------------------------------------------------------------------------------------------------------------------------------------------------------------------------------------------------------------------------------------------------------------------------------------------------------------------------------------------------------------------------------------------------------------------------------------------------------------------------------------------------------------------------------------------------------------------------------------------------------------------------------------------------------------------------------------------------------------------------------------------------------------------------------------------------------------------------------------------------------------------------------------------------------------------------------------------------------------------------------------------------------------------------------------------------------------------------------------------------------------------------------------------------------------------------------------------------------------------------------------------------------------------------------------------------------------------------------------------------------------------------------------------------------------------------------------------------------------------------------------------------------------------------------------------------------------------------------------------------------------------------------------------------------------------------------------------------------------------------------------------------------------------------------------------------------------------------------------------------------------------------------------------------------------------------------------------------------------------------------------------------------------------------------------------------------------------------------------------------------------------------------------------------------------------------------------------------------------------------------------------------------------------------------------------------------------------------------------------------------------------------------------------------------------------------------------------------------------------------------------------------------------------------------------------------------------------------------------------------------------------------------------------------------------------------------------------------------------------------------------------------------------------------------------------------------------------------------------------------------------------------------------------------------------------------------------------------------------------------------------------------------------------------------------------------------------------------------------------------------------------------------------------------------------------------------------------------------------------------------------------------------------------------------------------------------------------------------------------------------------------------------------------------------------------------------------------------------------------------------------------------------------------------------------------------------------------------------------------------------------------------------------------------------------------------------------------------------------------------------------------------------------------------------------------------------------------------------------------------------------------------------------------------------------------------------------------+-----------------------------------------------------------------------------------------------------------------------------------------------------------------------+\n",
      "only showing top 5 rows\n",
      "\n"
     ]
    }
   ],
   "source": [
    "# View the first 5 rows of the state_boundaries_sedona DataFrame\n",
    "\n",
    "if (isTest):\n",
    "    state_boundaries_sedona.show(5, truncate=False)"
   ]
  },
  {
   "cell_type": "markdown",
   "metadata": {},
   "source": [
    "## Running Spatial Queries\n",
    "\n",
    "https://sedona.apache.org/1.5.1/api/sql/Function/"
   ]
  },
  {
   "cell_type": "markdown",
   "metadata": {},
   "source": [
    "### Range Query\n",
    "\n",
    "This example demonstrates how to perform a range query using ST_Contains to find geometries within a specified polygon:"
   ]
  },
  {
   "cell_type": "code",
   "execution_count": 21,
   "metadata": {},
   "outputs": [
    {
     "name": "stdout",
     "output_type": "stream",
     "text": [
      "+-------+--------------------+--------------------+\n",
      "|   type|            geometry|          properties|\n",
      "+-------+--------------------+--------------------+\n",
      "|Feature|POLYGON ((-77.119...|{STATEFP -> 11, S...|\n",
      "+-------+--------------------+--------------------+\n",
      "\n"
     ]
    },
    {
     "name": "stderr",
     "output_type": "stream",
     "text": [
      "                                                                                \r"
     ]
    }
   ],
   "source": [
    "# Define a polygon using ST_PolygonFromEnvelope and perform a range query\n",
    "\n",
    "bbox_polygon = \"ST_PolygonFromEnvelope(-79.5, 37.9, -75.6, 39.8)\"\n",
    "\n",
    "# Perform the range query to find features within the bounding box\n",
    "contained_features = state_boundaries_sedona.filter(\n",
    "    F.expr(f\"ST_Contains({bbox_polygon}, geometry)\")\n",
    ")\n",
    "\n",
    "# Show results\n",
    "contained_features.show()"
   ]
  },
  {
   "cell_type": "markdown",
   "metadata": {},
   "source": [
    "## KNN Query\n",
    "\n",
    "This example demonstrates how to perform a k-nearest neighbors (KNN) query using ST_Distance to find the k nearest geometries to a specified point:"
   ]
  },
  {
   "cell_type": "code",
   "execution_count": 23,
   "metadata": {},
   "outputs": [
    {
     "name": "stdout",
     "output_type": "stream",
     "text": [
      "+--------------------+-------------------+\n",
      "|                NAME|           distance|\n",
      "+--------------------+-------------------+\n",
      "|            Virginia|                0.0|\n",
      "|            Maryland| 0.2425364842513449|\n",
      "|       West Virginia|0.39633443061384227|\n",
      "|District of Columbia|0.43843022219048333|\n",
      "|        Pennsylvania| 0.8705736535332227|\n",
      "+--------------------+-------------------+\n",
      "\n"
     ]
    }
   ],
   "source": [
    "from pyspark.sql import functions as F\n",
    "\n",
    "# Calculate the center of the bounding box and create a WKT representation of the point\n",
    "center_longitude = (-79.5 + -75.6) / 2\n",
    "center_latitude = (37.9 + 39.8) / 2\n",
    "center_point_wkt = f\"POINT({center_longitude} {center_latitude})\"\n",
    "\n",
    "# Perform the KNN query using ST_Distance to calculate the distance to the center point\n",
    "knnQueryResult = state_boundaries_sedona.select(\n",
    "    # Access the 'NAME' from the 'properties' map\n",
    "    F.col(\"properties\").getItem(\"NAME\").alias(\"NAME\"),\n",
    "    F.expr(f\"ST_Distance(ST_GeomFromWKT('{center_point_wkt}'), geometry)\").alias(\"distance\")\n",
    ").orderBy(\"distance\").limit(5)\n",
    "\n",
    "knnQueryResult.show()\n",
    "\n"
   ]
  },
  {
   "cell_type": "code",
   "execution_count": 24,
   "metadata": {},
   "outputs": [
    {
     "name": "stdout",
     "output_type": "stream",
     "text": [
      "+-------+--------------------+--------------------+\n",
      "|   type|            geometry|          properties|\n",
      "+-------+--------------------+--------------------+\n",
      "|Feature|MULTIPOLYGON (((-...|{STATEFP -> 24, S...|\n",
      "|Feature|POLYGON ((-96.621...|{STATEFP -> 19, S...|\n",
      "|Feature|POLYGON ((-75.773...|{STATEFP -> 10, S...|\n",
      "|Feature|MULTIPOLYGON (((-...|{STATEFP -> 39, S...|\n",
      "|Feature|POLYGON ((-80.519...|{STATEFP -> 42, S...|\n",
      "|Feature|POLYGON ((-104.05...|{STATEFP -> 31, S...|\n",
      "|Feature|MULTIPOLYGON (((-...|{STATEFP -> 53, S...|\n",
      "|Feature|MULTIPOLYGON (((-...|{STATEFP -> 72, S...|\n",
      "|Feature|POLYGON ((-88.468...|{STATEFP -> 01, S...|\n",
      "|Feature|POLYGON ((-94.617...|{STATEFP -> 05, S...|\n",
      "|Feature|POLYGON ((-109.04...|{STATEFP -> 35, S...|\n",
      "|Feature|POLYGON ((-106.62...|{STATEFP -> 48, S...|\n",
      "|Feature|MULTIPOLYGON (((-...|{STATEFP -> 06, S...|\n",
      "|Feature|POLYGON ((-89.544...|{STATEFP -> 21, S...|\n",
      "|Feature|POLYGON ((-85.605...|{STATEFP -> 13, S...|\n",
      "|Feature|MULTIPOLYGON (((-...|{STATEFP -> 55, S...|\n",
      "|Feature|POLYGON ((-124.55...|{STATEFP -> 41, S...|\n",
      "|Feature|POLYGON ((-95.765...|{STATEFP -> 29, S...|\n",
      "|Feature|MULTIPOLYGON (((-...|{STATEFP -> 51, S...|\n",
      "|Feature|POLYGON ((-90.300...|{STATEFP -> 47, S...|\n",
      "+-------+--------------------+--------------------+\n",
      "only showing top 20 rows\n",
      "\n"
     ]
    }
   ],
   "source": [
    "state_boundaries_sedona.show()"
   ]
  }
 ],
 "metadata": {
  "kernelspec": {
   "display_name": "machinelearning_20220719",
   "language": "python",
   "name": "python3"
  },
  "language_info": {
   "codemirror_mode": {
    "name": "ipython",
    "version": 3
   },
   "file_extension": ".py",
   "mimetype": "text/x-python",
   "name": "python",
   "nbconvert_exporter": "python",
   "pygments_lexer": "ipython3",
   "version": "3.9.18"
  }
 },
 "nbformat": 4,
 "nbformat_minor": 2
}
